{
 "cells": [
  {
   "cell_type": "code",
   "execution_count": 1,
   "metadata": {},
   "outputs": [],
   "source": [
    "import pandas as pd\n",
    "import matplotlib.pyplot as plt\n",
    "import seaborn as sns"
   ]
  },
  {
   "cell_type": "code",
   "execution_count": 2,
   "metadata": {},
   "outputs": [],
   "source": [
    "from matplotlib.font_manager import FontProperties\n",
    "myfont=FontProperties(fname=r'C:\\Windows\\Fonts\\kaiu.ttf',size=14)\n",
    "sns.set(font=myfont.get_name())\n",
    "\n",
    "#plt.rcParams['font.sans-serif'] = ['kaiu']  \n",
    "#plt.rcParams['axes.unicode_minus'] = False   \n",
    "#sns.set(font='kaiu', font_scale=0.8) "
   ]
  },
  {
   "cell_type": "code",
   "execution_count": 3,
   "metadata": {},
   "outputs": [
    {
     "name": "stderr",
     "output_type": "stream",
     "text": [
      "C:\\Users\\Jacky C\\Anaconda3\\lib\\site-packages\\IPython\\core\\interactiveshell.py:3146: DtypeWarning: Columns (21,34,37,40,41,42) have mixed types.Specify dtype option on import or set low_memory=False.\n",
      "  has_raised = await self.run_ast_nodes(code_ast.body, cell_name,\n"
     ]
    },
    {
     "data": {
      "text/html": [
       "<div>\n",
       "<style scoped>\n",
       "    .dataframe tbody tr th:only-of-type {\n",
       "        vertical-align: middle;\n",
       "    }\n",
       "\n",
       "    .dataframe tbody tr th {\n",
       "        vertical-align: top;\n",
       "    }\n",
       "\n",
       "    .dataframe thead th {\n",
       "        text-align: right;\n",
       "    }\n",
       "</style>\n",
       "<table border=\"1\" class=\"dataframe\">\n",
       "  <thead>\n",
       "    <tr style=\"text-align: right;\">\n",
       "      <th></th>\n",
       "      <th>IPROTOCOL_ID</th>\n",
       "      <th>ICASE_ID</th>\n",
       "      <th>IDCASE_ID</th>\n",
       "      <th>HD_ID</th>\n",
       "      <th>HDMT_ID</th>\n",
       "      <th>PCVA_ID</th>\n",
       "      <th>PCVAMT_ID</th>\n",
       "      <th>PCVACI_ID</th>\n",
       "      <th>PCVACH_ID</th>\n",
       "      <th>PO_ID</th>\n",
       "      <th>...</th>\n",
       "      <th>PADMT_ID</th>\n",
       "      <th>AL_ID</th>\n",
       "      <th>CA_ID</th>\n",
       "      <th>CA_TX</th>\n",
       "      <th>OT_ID</th>\n",
       "      <th>OT_TX</th>\n",
       "      <th>THISHC_ID</th>\n",
       "      <th>THISHY_ID</th>\n",
       "      <th>THISDI_ID</th>\n",
       "      <th>IGUID_FT</th>\n",
       "    </tr>\n",
       "  </thead>\n",
       "  <tbody>\n",
       "    <tr>\n",
       "      <th>0</th>\n",
       "      <td>NaN</td>\n",
       "      <td>9066</td>\n",
       "      <td>010-00009066-1</td>\n",
       "      <td>0.0</td>\n",
       "      <td>NaN</td>\n",
       "      <td>0.0</td>\n",
       "      <td>NaN</td>\n",
       "      <td>0.0</td>\n",
       "      <td>0.0</td>\n",
       "      <td>0.0</td>\n",
       "      <td>...</td>\n",
       "      <td>NaN</td>\n",
       "      <td>0</td>\n",
       "      <td>0.0</td>\n",
       "      <td>NaN</td>\n",
       "      <td>0</td>\n",
       "      <td>NaN</td>\n",
       "      <td>NaN</td>\n",
       "      <td>NaN</td>\n",
       "      <td>NaN</td>\n",
       "      <td>NaN</td>\n",
       "    </tr>\n",
       "    <tr>\n",
       "      <th>1</th>\n",
       "      <td>NaN</td>\n",
       "      <td>9066</td>\n",
       "      <td>022-00009066-1</td>\n",
       "      <td>0.0</td>\n",
       "      <td>NaN</td>\n",
       "      <td>0.0</td>\n",
       "      <td>NaN</td>\n",
       "      <td>0.0</td>\n",
       "      <td>0.0</td>\n",
       "      <td>0.0</td>\n",
       "      <td>...</td>\n",
       "      <td>NaN</td>\n",
       "      <td>0</td>\n",
       "      <td>0.0</td>\n",
       "      <td>NaN</td>\n",
       "      <td>0</td>\n",
       "      <td>NaN</td>\n",
       "      <td>NaN</td>\n",
       "      <td>NaN</td>\n",
       "      <td>NaN</td>\n",
       "      <td>NaN</td>\n",
       "    </tr>\n",
       "    <tr>\n",
       "      <th>2</th>\n",
       "      <td>NaN</td>\n",
       "      <td>4830</td>\n",
       "      <td>005-00004830-2</td>\n",
       "      <td>1.0</td>\n",
       "      <td>NaN</td>\n",
       "      <td>1.0</td>\n",
       "      <td>NaN</td>\n",
       "      <td>1.0</td>\n",
       "      <td>0.0</td>\n",
       "      <td>0.0</td>\n",
       "      <td>...</td>\n",
       "      <td>NaN</td>\n",
       "      <td>0</td>\n",
       "      <td>0.0</td>\n",
       "      <td>NaN</td>\n",
       "      <td>0</td>\n",
       "      <td>NaN</td>\n",
       "      <td>NaN</td>\n",
       "      <td>NaN</td>\n",
       "      <td>NaN</td>\n",
       "      <td>NaN</td>\n",
       "    </tr>\n",
       "    <tr>\n",
       "      <th>3</th>\n",
       "      <td>NaN</td>\n",
       "      <td>9067</td>\n",
       "      <td>005-00009067-1</td>\n",
       "      <td>1.0</td>\n",
       "      <td>NaN</td>\n",
       "      <td>0.0</td>\n",
       "      <td>NaN</td>\n",
       "      <td>0.0</td>\n",
       "      <td>0.0</td>\n",
       "      <td>0.0</td>\n",
       "      <td>...</td>\n",
       "      <td>NaN</td>\n",
       "      <td>0</td>\n",
       "      <td>0.0</td>\n",
       "      <td>NaN</td>\n",
       "      <td>1</td>\n",
       "      <td>artery stenosis</td>\n",
       "      <td>NaN</td>\n",
       "      <td>NaN</td>\n",
       "      <td>NaN</td>\n",
       "      <td>NaN</td>\n",
       "    </tr>\n",
       "    <tr>\n",
       "      <th>4</th>\n",
       "      <td>NaN</td>\n",
       "      <td>9068</td>\n",
       "      <td>005-00009068-1</td>\n",
       "      <td>0.0</td>\n",
       "      <td>NaN</td>\n",
       "      <td>0.0</td>\n",
       "      <td>NaN</td>\n",
       "      <td>0.0</td>\n",
       "      <td>0.0</td>\n",
       "      <td>0.0</td>\n",
       "      <td>...</td>\n",
       "      <td>NaN</td>\n",
       "      <td>0</td>\n",
       "      <td>0.0</td>\n",
       "      <td>NaN</td>\n",
       "      <td>0</td>\n",
       "      <td>NaN</td>\n",
       "      <td>NaN</td>\n",
       "      <td>NaN</td>\n",
       "      <td>NaN</td>\n",
       "      <td>NaN</td>\n",
       "    </tr>\n",
       "  </tbody>\n",
       "</table>\n",
       "<p>5 rows × 43 columns</p>\n",
       "</div>"
      ],
      "text/plain": [
       "   IPROTOCOL_ID  ICASE_ID       IDCASE_ID  HD_ID  HDMT_ID  PCVA_ID  PCVAMT_ID  \\\n",
       "0           NaN      9066  010-00009066-1    0.0      NaN      0.0        NaN   \n",
       "1           NaN      9066  022-00009066-1    0.0      NaN      0.0        NaN   \n",
       "2           NaN      4830  005-00004830-2    1.0      NaN      1.0        NaN   \n",
       "3           NaN      9067  005-00009067-1    1.0      NaN      0.0        NaN   \n",
       "4           NaN      9068  005-00009068-1    0.0      NaN      0.0        NaN   \n",
       "\n",
       "   PCVACI_ID  PCVACH_ID  PO_ID  ...  PADMT_ID  AL_ID  CA_ID  CA_TX  OT_ID  \\\n",
       "0        0.0        0.0    0.0  ...       NaN      0    0.0    NaN      0   \n",
       "1        0.0        0.0    0.0  ...       NaN      0    0.0    NaN      0   \n",
       "2        1.0        0.0    0.0  ...       NaN      0    0.0    NaN      0   \n",
       "3        0.0        0.0    0.0  ...       NaN      0    0.0    NaN      1   \n",
       "4        0.0        0.0    0.0  ...       NaN      0    0.0    NaN      0   \n",
       "\n",
       "              OT_TX  THISHC_ID  THISHY_ID  THISDI_ID  IGUID_FT  \n",
       "0               NaN        NaN        NaN        NaN       NaN  \n",
       "1               NaN        NaN        NaN        NaN       NaN  \n",
       "2               NaN        NaN        NaN        NaN       NaN  \n",
       "3  artery stenosis         NaN        NaN        NaN       NaN  \n",
       "4               NaN        NaN        NaN        NaN       NaN  \n",
       "\n",
       "[5 rows x 43 columns]"
      ]
     },
     "execution_count": 3,
     "metadata": {},
     "output_type": "execute_result"
    }
   ],
   "source": [
    "cdd = pd.read_csv(\"C:/Users/Jacky C/Desktop/TSR-proganosis/Data/TSR_2018_raw/CASEDDGFA.csv\")\n",
    "cdd.head()"
   ]
  },
  {
   "cell_type": "code",
   "execution_count": 4,
   "metadata": {},
   "outputs": [
    {
     "data": {
      "text/html": [
       "<div>\n",
       "<style scoped>\n",
       "    .dataframe tbody tr th:only-of-type {\n",
       "        vertical-align: middle;\n",
       "    }\n",
       "\n",
       "    .dataframe tbody tr th {\n",
       "        vertical-align: top;\n",
       "    }\n",
       "\n",
       "    .dataframe thead th {\n",
       "        text-align: right;\n",
       "    }\n",
       "</style>\n",
       "<table border=\"1\" class=\"dataframe\">\n",
       "  <thead>\n",
       "    <tr style=\"text-align: right;\">\n",
       "      <th></th>\n",
       "      <th>IPROTOCOL_ID</th>\n",
       "      <th>ICASE_ID</th>\n",
       "      <th>HD_ID</th>\n",
       "      <th>HDMT_ID</th>\n",
       "      <th>PCVA_ID</th>\n",
       "      <th>PCVAMT_ID</th>\n",
       "      <th>PCVACI_ID</th>\n",
       "      <th>PCVACH_ID</th>\n",
       "      <th>PO_ID</th>\n",
       "      <th>POMT_ID</th>\n",
       "      <th>...</th>\n",
       "      <th>HT_ID</th>\n",
       "      <th>HTY_NM</th>\n",
       "      <th>HTMT_ID</th>\n",
       "      <th>DM_ID</th>\n",
       "      <th>DMY_NM</th>\n",
       "      <th>DMMT_ID</th>\n",
       "      <th>PAD_ID</th>\n",
       "      <th>PADMT_ID</th>\n",
       "      <th>CA_ID</th>\n",
       "      <th>THISHC_ID</th>\n",
       "    </tr>\n",
       "  </thead>\n",
       "  <tbody>\n",
       "    <tr>\n",
       "      <th>count</th>\n",
       "      <td>0.0</td>\n",
       "      <td>140871.000000</td>\n",
       "      <td>123606.000000</td>\n",
       "      <td>0.0</td>\n",
       "      <td>123960.000000</td>\n",
       "      <td>0.0</td>\n",
       "      <td>119203.000000</td>\n",
       "      <td>116330.000000</td>\n",
       "      <td>118741.000000</td>\n",
       "      <td>0.0</td>\n",
       "      <td>...</td>\n",
       "      <td>130228.000000</td>\n",
       "      <td>0.0</td>\n",
       "      <td>0.0</td>\n",
       "      <td>125459.000000</td>\n",
       "      <td>0.0</td>\n",
       "      <td>0.0</td>\n",
       "      <td>120890.000000</td>\n",
       "      <td>0.0</td>\n",
       "      <td>121118.000000</td>\n",
       "      <td>0.0</td>\n",
       "    </tr>\n",
       "    <tr>\n",
       "      <th>mean</th>\n",
       "      <td>NaN</td>\n",
       "      <td>62420.901449</td>\n",
       "      <td>0.337726</td>\n",
       "      <td>NaN</td>\n",
       "      <td>0.310358</td>\n",
       "      <td>NaN</td>\n",
       "      <td>0.289707</td>\n",
       "      <td>0.056047</td>\n",
       "      <td>0.033493</td>\n",
       "      <td>NaN</td>\n",
       "      <td>...</td>\n",
       "      <td>0.807461</td>\n",
       "      <td>NaN</td>\n",
       "      <td>NaN</td>\n",
       "      <td>0.416758</td>\n",
       "      <td>NaN</td>\n",
       "      <td>NaN</td>\n",
       "      <td>0.106940</td>\n",
       "      <td>NaN</td>\n",
       "      <td>0.047450</td>\n",
       "      <td>NaN</td>\n",
       "    </tr>\n",
       "    <tr>\n",
       "      <th>std</th>\n",
       "      <td>NaN</td>\n",
       "      <td>37117.663830</td>\n",
       "      <td>0.485597</td>\n",
       "      <td>NaN</td>\n",
       "      <td>0.474113</td>\n",
       "      <td>NaN</td>\n",
       "      <td>0.471653</td>\n",
       "      <td>0.263917</td>\n",
       "      <td>0.248658</td>\n",
       "      <td>NaN</td>\n",
       "      <td>...</td>\n",
       "      <td>0.404049</td>\n",
       "      <td>NaN</td>\n",
       "      <td>NaN</td>\n",
       "      <td>0.506438</td>\n",
       "      <td>NaN</td>\n",
       "      <td>NaN</td>\n",
       "      <td>0.429144</td>\n",
       "      <td>NaN</td>\n",
       "      <td>0.224647</td>\n",
       "      <td>NaN</td>\n",
       "    </tr>\n",
       "    <tr>\n",
       "      <th>min</th>\n",
       "      <td>NaN</td>\n",
       "      <td>1.000000</td>\n",
       "      <td>0.000000</td>\n",
       "      <td>NaN</td>\n",
       "      <td>0.000000</td>\n",
       "      <td>NaN</td>\n",
       "      <td>0.000000</td>\n",
       "      <td>0.000000</td>\n",
       "      <td>0.000000</td>\n",
       "      <td>NaN</td>\n",
       "      <td>...</td>\n",
       "      <td>0.000000</td>\n",
       "      <td>NaN</td>\n",
       "      <td>NaN</td>\n",
       "      <td>0.000000</td>\n",
       "      <td>NaN</td>\n",
       "      <td>NaN</td>\n",
       "      <td>0.000000</td>\n",
       "      <td>NaN</td>\n",
       "      <td>0.000000</td>\n",
       "      <td>NaN</td>\n",
       "    </tr>\n",
       "    <tr>\n",
       "      <th>25%</th>\n",
       "      <td>NaN</td>\n",
       "      <td>30135.500000</td>\n",
       "      <td>0.000000</td>\n",
       "      <td>NaN</td>\n",
       "      <td>0.000000</td>\n",
       "      <td>NaN</td>\n",
       "      <td>0.000000</td>\n",
       "      <td>0.000000</td>\n",
       "      <td>0.000000</td>\n",
       "      <td>NaN</td>\n",
       "      <td>...</td>\n",
       "      <td>1.000000</td>\n",
       "      <td>NaN</td>\n",
       "      <td>NaN</td>\n",
       "      <td>0.000000</td>\n",
       "      <td>NaN</td>\n",
       "      <td>NaN</td>\n",
       "      <td>0.000000</td>\n",
       "      <td>NaN</td>\n",
       "      <td>0.000000</td>\n",
       "      <td>NaN</td>\n",
       "    </tr>\n",
       "    <tr>\n",
       "      <th>50%</th>\n",
       "      <td>NaN</td>\n",
       "      <td>61827.000000</td>\n",
       "      <td>0.000000</td>\n",
       "      <td>NaN</td>\n",
       "      <td>0.000000</td>\n",
       "      <td>NaN</td>\n",
       "      <td>0.000000</td>\n",
       "      <td>0.000000</td>\n",
       "      <td>0.000000</td>\n",
       "      <td>NaN</td>\n",
       "      <td>...</td>\n",
       "      <td>1.000000</td>\n",
       "      <td>NaN</td>\n",
       "      <td>NaN</td>\n",
       "      <td>0.000000</td>\n",
       "      <td>NaN</td>\n",
       "      <td>NaN</td>\n",
       "      <td>0.000000</td>\n",
       "      <td>NaN</td>\n",
       "      <td>0.000000</td>\n",
       "      <td>NaN</td>\n",
       "    </tr>\n",
       "    <tr>\n",
       "      <th>75%</th>\n",
       "      <td>NaN</td>\n",
       "      <td>94456.000000</td>\n",
       "      <td>1.000000</td>\n",
       "      <td>NaN</td>\n",
       "      <td>1.000000</td>\n",
       "      <td>NaN</td>\n",
       "      <td>1.000000</td>\n",
       "      <td>0.000000</td>\n",
       "      <td>0.000000</td>\n",
       "      <td>NaN</td>\n",
       "      <td>...</td>\n",
       "      <td>1.000000</td>\n",
       "      <td>NaN</td>\n",
       "      <td>NaN</td>\n",
       "      <td>1.000000</td>\n",
       "      <td>NaN</td>\n",
       "      <td>NaN</td>\n",
       "      <td>0.000000</td>\n",
       "      <td>NaN</td>\n",
       "      <td>0.000000</td>\n",
       "      <td>NaN</td>\n",
       "    </tr>\n",
       "    <tr>\n",
       "      <th>max</th>\n",
       "      <td>NaN</td>\n",
       "      <td>127958.000000</td>\n",
       "      <td>4.000000</td>\n",
       "      <td>NaN</td>\n",
       "      <td>2.000000</td>\n",
       "      <td>NaN</td>\n",
       "      <td>9.000000</td>\n",
       "      <td>2.000000</td>\n",
       "      <td>9.000000</td>\n",
       "      <td>NaN</td>\n",
       "      <td>...</td>\n",
       "      <td>4.000000</td>\n",
       "      <td>NaN</td>\n",
       "      <td>NaN</td>\n",
       "      <td>2.000000</td>\n",
       "      <td>NaN</td>\n",
       "      <td>NaN</td>\n",
       "      <td>2.000000</td>\n",
       "      <td>NaN</td>\n",
       "      <td>9.000000</td>\n",
       "      <td>NaN</td>\n",
       "    </tr>\n",
       "  </tbody>\n",
       "</table>\n",
       "<p>8 rows × 34 columns</p>\n",
       "</div>"
      ],
      "text/plain": [
       "       IPROTOCOL_ID       ICASE_ID          HD_ID  HDMT_ID        PCVA_ID  \\\n",
       "count           0.0  140871.000000  123606.000000      0.0  123960.000000   \n",
       "mean            NaN   62420.901449       0.337726      NaN       0.310358   \n",
       "std             NaN   37117.663830       0.485597      NaN       0.474113   \n",
       "min             NaN       1.000000       0.000000      NaN       0.000000   \n",
       "25%             NaN   30135.500000       0.000000      NaN       0.000000   \n",
       "50%             NaN   61827.000000       0.000000      NaN       0.000000   \n",
       "75%             NaN   94456.000000       1.000000      NaN       1.000000   \n",
       "max             NaN  127958.000000       4.000000      NaN       2.000000   \n",
       "\n",
       "       PCVAMT_ID      PCVACI_ID      PCVACH_ID          PO_ID  POMT_ID  ...  \\\n",
       "count        0.0  119203.000000  116330.000000  118741.000000      0.0  ...   \n",
       "mean         NaN       0.289707       0.056047       0.033493      NaN  ...   \n",
       "std          NaN       0.471653       0.263917       0.248658      NaN  ...   \n",
       "min          NaN       0.000000       0.000000       0.000000      NaN  ...   \n",
       "25%          NaN       0.000000       0.000000       0.000000      NaN  ...   \n",
       "50%          NaN       0.000000       0.000000       0.000000      NaN  ...   \n",
       "75%          NaN       1.000000       0.000000       0.000000      NaN  ...   \n",
       "max          NaN       9.000000       2.000000       9.000000      NaN  ...   \n",
       "\n",
       "               HT_ID  HTY_NM  HTMT_ID          DM_ID  DMY_NM  DMMT_ID  \\\n",
       "count  130228.000000     0.0      0.0  125459.000000     0.0      0.0   \n",
       "mean        0.807461     NaN      NaN       0.416758     NaN      NaN   \n",
       "std         0.404049     NaN      NaN       0.506438     NaN      NaN   \n",
       "min         0.000000     NaN      NaN       0.000000     NaN      NaN   \n",
       "25%         1.000000     NaN      NaN       0.000000     NaN      NaN   \n",
       "50%         1.000000     NaN      NaN       0.000000     NaN      NaN   \n",
       "75%         1.000000     NaN      NaN       1.000000     NaN      NaN   \n",
       "max         4.000000     NaN      NaN       2.000000     NaN      NaN   \n",
       "\n",
       "              PAD_ID  PADMT_ID          CA_ID  THISHC_ID  \n",
       "count  120890.000000       0.0  121118.000000        0.0  \n",
       "mean        0.106940       NaN       0.047450        NaN  \n",
       "std         0.429144       NaN       0.224647        NaN  \n",
       "min         0.000000       NaN       0.000000        NaN  \n",
       "25%         0.000000       NaN       0.000000        NaN  \n",
       "50%         0.000000       NaN       0.000000        NaN  \n",
       "75%         0.000000       NaN       0.000000        NaN  \n",
       "max         2.000000       NaN       9.000000        NaN  \n",
       "\n",
       "[8 rows x 34 columns]"
      ]
     },
     "execution_count": 4,
     "metadata": {},
     "output_type": "execute_result"
    }
   ],
   "source": [
    "cdd.describe()"
   ]
  },
  {
   "cell_type": "code",
   "execution_count": 5,
   "metadata": {},
   "outputs": [
    {
     "name": "stdout",
     "output_type": "stream",
     "text": [
      "4.0        1\n",
      "2.0      744\n",
      "1.0    40253\n",
      "0.0    82608\n",
      "Name: HD_ID, dtype: int64 count    123606.000000\n",
      "mean          0.337726\n",
      "std           0.485597\n",
      "min           0.000000\n",
      "25%           0.000000\n",
      "50%           0.000000\n",
      "75%           1.000000\n",
      "max           4.000000\n",
      "Name: HD_ID, dtype: float64\n"
     ]
    }
   ],
   "source": [
    "#Heart Disease\n",
    "hd_id = cdd.iloc[:,3]\n",
    "#print(hd_id)\n",
    "print(hd_id.value_counts().sort_values(ascending= True), hd_id.describe())"
   ]
  },
  {
   "cell_type": "code",
   "execution_count": 6,
   "metadata": {},
   "outputs": [
    {
     "name": "stderr",
     "output_type": "stream",
     "text": [
      "C:\\Users\\Jacky C\\Anaconda3\\lib\\site-packages\\seaborn\\_decorators.py:36: FutureWarning: Pass the following variable as a keyword arg: x. From version 0.12, the only valid positional argument will be `data`, and passing other arguments without an explicit keyword will result in an error or misinterpretation.\n",
      "  warnings.warn(\n"
     ]
    },
    {
     "data": {
      "text/plain": [
       "[Text(0, 0, '沒有'), Text(1, 0, '有'), Text(2, 0, '不知道'), Text(3, 0, '4')]"
      ]
     },
     "execution_count": 6,
     "metadata": {},
     "output_type": "execute_result"
    },
    {
     "data": {
      "image/png": "[encoded data removed]",
      "text/plain": [
       "<Figure size 432x288 with 1 Axes>"
      ]
     },
     "metadata": {},
     "output_type": "display_data"
    }
   ],
   "source": [
    "hd_id_labels = [\"沒有\",\"有\",\"不知道\",\"4\"]\n",
    "sns.countplot(hd_id).set_xticklabels(hd_id_labels)"
   ]
  },
  {
   "cell_type": "code",
   "execution_count": 7,
   "metadata": {},
   "outputs": [
    {
     "name": "stdout",
     "output_type": "stream",
     "text": [
      "2.0      666\n",
      "1.0    37140\n",
      "0.0    86154\n",
      "Name: PCVA_ID, dtype: int64 count    123960.000000\n",
      "mean          0.310358\n",
      "std           0.474113\n",
      "min           0.000000\n",
      "25%           0.000000\n",
      "50%           0.000000\n",
      "75%           1.000000\n",
      "max           2.000000\n",
      "Name: PCVA_ID, dtype: float64\n"
     ]
    }
   ],
   "source": [
    "#Previous CVA\n",
    "pcva_id = cdd.iloc[:,5]\n",
    "#print(pcva_id)\n",
    "print(pcva_id.value_counts().sort_values(ascending= True), pcva_id.describe())"
   ]
  },
  {
   "cell_type": "code",
   "execution_count": 8,
   "metadata": {},
   "outputs": [
    {
     "name": "stderr",
     "output_type": "stream",
     "text": [
      "C:\\Users\\Jacky C\\Anaconda3\\lib\\site-packages\\seaborn\\_decorators.py:36: FutureWarning: Pass the following variable as a keyword arg: x. From version 0.12, the only valid positional argument will be `data`, and passing other arguments without an explicit keyword will result in an error or misinterpretation.\n",
      "  warnings.warn(\n"
     ]
    },
    {
     "data": {
      "text/plain": [
       "[Text(0, 0, '沒有'), Text(1, 0, '有'), Text(2, 0, '不知道')]"
      ]
     },
     "execution_count": 8,
     "metadata": {},
     "output_type": "execute_result"
    },
    {
     "data": {
      "image/png": "[encoded data removed]",
      "text/plain": [
       "<Figure size 432x288 with 1 Axes>"
      ]
     },
     "metadata": {},
     "output_type": "display_data"
    }
   ],
   "source": [
    "pcva_id_labels = [\"沒有\",\"有\",\"不知道\"]\n",
    "sns.countplot(pcva_id).set_xticklabels(pcva_id_labels)"
   ]
  },
  {
   "cell_type": "code",
   "execution_count": 9,
   "metadata": {},
   "outputs": [
    {
     "name": "stdout",
     "output_type": "stream",
     "text": [
      "9.0        1\n",
      "3.0        1\n",
      "2.0      955\n",
      "1.0    32612\n",
      "0.0    85634\n",
      "Name: PCVACI_ID, dtype: int64 count    119203.000000\n",
      "mean          0.289707\n",
      "std           0.471653\n",
      "min           0.000000\n",
      "25%           0.000000\n",
      "50%           0.000000\n",
      "75%           1.000000\n",
      "max           9.000000\n",
      "Name: PCVACI_ID, dtype: float64\n"
     ]
    }
   ],
   "source": [
    "#Previous CVA - Cerebral Infraction\n",
    "pcvaci_id = cdd.iloc[:,7]\n",
    "#print(pcvaci_id)\n",
    "print(pcvaci_id.value_counts().sort_values(ascending= True), pcvaci_id.describe())"
   ]
  },
  {
   "cell_type": "code",
   "execution_count": 10,
   "metadata": {},
   "outputs": [
    {
     "name": "stderr",
     "output_type": "stream",
     "text": [
      "C:\\Users\\Jacky C\\Anaconda3\\lib\\site-packages\\seaborn\\_decorators.py:36: FutureWarning: Pass the following variable as a keyword arg: x. From version 0.12, the only valid positional argument will be `data`, and passing other arguments without an explicit keyword will result in an error or misinterpretation.\n",
      "  warnings.warn(\n"
     ]
    },
    {
     "data": {
      "text/plain": [
       "[Text(0, 0, '沒有'),\n",
       " Text(1, 0, '有'),\n",
       " Text(2, 0, '不知道'),\n",
       " Text(3, 0, '3'),\n",
       " Text(4, 0, '9')]"
      ]
     },
     "execution_count": 10,
     "metadata": {},
     "output_type": "execute_result"
    },
    {
     "data": {
      "image/png": "[encoded data removed]",
      "text/plain": [
       "<Figure size 432x288 with 1 Axes>"
      ]
     },
     "metadata": {},
     "output_type": "display_data"
    }
   ],
   "source": [
    "pcvaci_id_labels = [\"沒有\",\"有\",\"不知道\",\"3\",\"9\"]\n",
    "sns.countplot(pcvaci_id).set_xticklabels(pcvaci_id_labels)"
   ]
  },
  {
   "cell_type": "code",
   "execution_count": 11,
   "metadata": {},
   "outputs": [
    {
     "name": "stdout",
     "output_type": "stream",
     "text": [
      "2.0       974\n",
      "1.0      4572\n",
      "0.0    110784\n",
      "Name: PCVACH_ID, dtype: int64 count    116330.000000\n",
      "mean          0.056047\n",
      "std           0.263917\n",
      "min           0.000000\n",
      "25%           0.000000\n",
      "50%           0.000000\n",
      "75%           0.000000\n",
      "max           2.000000\n",
      "Name: PCVACH_ID, dtype: float64\n"
     ]
    }
   ],
   "source": [
    "#Previous CVA - Cerebral Hemorrhage\n",
    "pcvach_id = cdd.iloc[:,8]\n",
    "#print(pcvach_id)\n",
    "print(pcvach_id.value_counts().sort_values(ascending= True), pcvach_id.describe())"
   ]
  },
  {
   "cell_type": "code",
   "execution_count": 12,
   "metadata": {},
   "outputs": [
    {
     "name": "stderr",
     "output_type": "stream",
     "text": [
      "C:\\Users\\Jacky C\\Anaconda3\\lib\\site-packages\\seaborn\\_decorators.py:36: FutureWarning: Pass the following variable as a keyword arg: x. From version 0.12, the only valid positional argument will be `data`, and passing other arguments without an explicit keyword will result in an error or misinterpretation.\n",
      "  warnings.warn(\n"
     ]
    },
    {
     "data": {
      "text/plain": [
       "[Text(0, 0, '沒有'), Text(1, 0, '有'), Text(2, 0, '不知道')]"
      ]
     },
     "execution_count": 12,
     "metadata": {},
     "output_type": "execute_result"
    },
    {
     "data": {
      "image/png": "[encoded data removed]",
      "text/plain": [
       "<Figure size 432x288 with 1 Axes>"
      ]
     },
     "metadata": {},
     "output_type": "display_data"
    }
   ],
   "source": [
    "pcvach_id_labels = [\"沒有\",\"有\",\"不知道\"]\n",
    "sns.countplot(pcvach_id).set_xticklabels(pcvach_id_labels)"
   ]
  },
  {
   "cell_type": "code",
   "execution_count": 13,
   "metadata": {},
   "outputs": [
    {
     "name": "stdout",
     "output_type": "stream",
     "text": [
      "9.0         2\n",
      "1.0       605\n",
      "2.0      1677\n",
      "0.0    116457\n",
      "Name: PO_ID, dtype: int64 count    118741.000000\n",
      "mean          0.033493\n",
      "std           0.248658\n",
      "min           0.000000\n",
      "25%           0.000000\n",
      "50%           0.000000\n",
      "75%           0.000000\n",
      "max           9.000000\n",
      "Name: PO_ID, dtype: float64\n"
     ]
    }
   ],
   "source": [
    "#Polycythemia\n",
    "po_id = cdd.iloc[:,9]\n",
    "#print(po_id)\n",
    "print(po_id.value_counts().sort_values(ascending= True), po_id.describe())"
   ]
  },
  {
   "cell_type": "code",
   "execution_count": 14,
   "metadata": {},
   "outputs": [
    {
     "name": "stderr",
     "output_type": "stream",
     "text": [
      "C:\\Users\\Jacky C\\Anaconda3\\lib\\site-packages\\seaborn\\_decorators.py:36: FutureWarning: Pass the following variable as a keyword arg: x. From version 0.12, the only valid positional argument will be `data`, and passing other arguments without an explicit keyword will result in an error or misinterpretation.\n",
      "  warnings.warn(\n"
     ]
    },
    {
     "data": {
      "text/plain": [
       "[Text(0, 0, '沒有'), Text(1, 0, '有'), Text(2, 0, '不知道'), Text(3, 0, '9')]"
      ]
     },
     "execution_count": 14,
     "metadata": {},
     "output_type": "execute_result"
    },
    {
     "data": {
      "image/png": "[encoded data removed]",
      "text/plain": [
       "<Figure size 432x288 with 1 Axes>"
      ]
     },
     "metadata": {},
     "output_type": "display_data"
    }
   ],
   "source": [
    "po_id_labels = [\"沒有\",\"有\",\"不知道\",\"9\"]\n",
    "sns.countplot(po_id).set_xticklabels(po_id_labels)"
   ]
  },
  {
   "cell_type": "code",
   "execution_count": 15,
   "metadata": {},
   "outputs": [
    {
     "name": "stdout",
     "output_type": "stream",
     "text": [
      "2.0       682\n",
      "1.0      4149\n",
      "0.0    114465\n",
      "Name: UR_ID, dtype: int64 count    119296.000000\n",
      "mean          0.046213\n",
      "std           0.235609\n",
      "min           0.000000\n",
      "25%           0.000000\n",
      "50%           0.000000\n",
      "75%           0.000000\n",
      "max           2.000000\n",
      "Name: UR_ID, dtype: float64\n"
     ]
    }
   ],
   "source": [
    "#Uremia\n",
    "ur_id = cdd.iloc[:,13]\n",
    "#print(ur_id)\n",
    "print(ur_id.value_counts().sort_values(ascending= True), ur_id.describe())"
   ]
  },
  {
   "cell_type": "code",
   "execution_count": 16,
   "metadata": {},
   "outputs": [
    {
     "name": "stderr",
     "output_type": "stream",
     "text": [
      "C:\\Users\\Jacky C\\Anaconda3\\lib\\site-packages\\seaborn\\_decorators.py:36: FutureWarning: Pass the following variable as a keyword arg: x. From version 0.12, the only valid positional argument will be `data`, and passing other arguments without an explicit keyword will result in an error or misinterpretation.\n",
      "  warnings.warn(\n"
     ]
    },
    {
     "data": {
      "text/plain": [
       "[Text(0, 0, '沒有'), Text(1, 0, '有'), Text(2, 0, '不知道')]"
      ]
     },
     "execution_count": 16,
     "metadata": {},
     "output_type": "execute_result"
    },
    {
     "data": {
      "image/png": "[encoded data removed]",
      "text/plain": [
       "<Figure size 432x288 with 1 Axes>"
      ]
     },
     "metadata": {},
     "output_type": "display_data"
    }
   ],
   "source": [
    "ur_id_labels = [\"沒有\",\"有\",\"不知道\"]\n",
    "sns.countplot(ur_id).set_xticklabels(ur_id_labels)"
   ]
  },
  {
   "cell_type": "code",
   "execution_count": 17,
   "metadata": {},
   "outputs": [
    {
     "name": "stdout",
     "output_type": "stream",
     "text": [
      "4.0        1\n",
      "2.0     1280\n",
      "1.0    44549\n",
      "0.0    80307\n",
      "Name: SM_ID, dtype: int64 count    126137.000000\n",
      "mean          0.373507\n",
      "std           0.504373\n",
      "min           0.000000\n",
      "25%           0.000000\n",
      "50%           0.000000\n",
      "75%           1.000000\n",
      "max           4.000000\n",
      "Name: SM_ID, dtype: float64\n"
     ]
    }
   ],
   "source": [
    "#Smoking\n",
    "sm_id = cdd.iloc[:,15]\n",
    "#print(sm_id)\n",
    "print(sm_id.value_counts().sort_values(ascending= True), sm_id.describe())"
   ]
  },
  {
   "cell_type": "code",
   "execution_count": 18,
   "metadata": {},
   "outputs": [
    {
     "name": "stderr",
     "output_type": "stream",
     "text": [
      "C:\\Users\\Jacky C\\Anaconda3\\lib\\site-packages\\seaborn\\_decorators.py:36: FutureWarning: Pass the following variable as a keyword arg: x. From version 0.12, the only valid positional argument will be `data`, and passing other arguments without an explicit keyword will result in an error or misinterpretation.\n",
      "  warnings.warn(\n"
     ]
    },
    {
     "data": {
      "text/plain": [
       "[Text(0, 0, '沒有'), Text(1, 0, '有'), Text(2, 0, '不知道'), Text(3, 0, '4')]"
      ]
     },
     "execution_count": 18,
     "metadata": {},
     "output_type": "execute_result"
    },
    {
     "data": {
      "image/png": "[encoded data removed]",
      "text/plain": [
       "<Figure size 432x288 with 1 Axes>"
      ]
     },
     "metadata": {},
     "output_type": "display_data"
    }
   ],
   "source": [
    "sm_id_labels = [\"沒有\",\"有\",\"不知道\",\"4\"]\n",
    "sns.countplot(sm_id).set_xticklabels(sm_id_labels)"
   ]
  },
  {
   "cell_type": "code",
   "execution_count": 19,
   "metadata": {},
   "outputs": [
    {
     "name": "stdout",
     "output_type": "stream",
     "text": [
      "302.0        1\n",
      "130.0        1\n",
      "46.0         1\n",
      "401.0        1\n",
      "201.0        1\n",
      "         ...  \n",
      "30.0      2872\n",
      "40.0      5415\n",
      "10.0      7385\n",
      "20.0     18621\n",
      "0.0      22784\n",
      "Name: SMC_NM, Length: 71, dtype: int64 count    64080.000000\n",
      "mean        16.568847\n",
      "std         49.726399\n",
      "min          0.000000\n",
      "25%          0.000000\n",
      "50%         10.000000\n",
      "75%         20.000000\n",
      "max        999.900000\n",
      "Name: SMC_NM, dtype: float64\n"
     ]
    }
   ],
   "source": [
    "#Smoking (支/天)\n",
    "smc_nm = cdd.iloc[:,16]\n",
    "#print(smc_nm)\n",
    "print(smc_nm.value_counts().sort_values(ascending= True), smc_nm.describe())"
   ]
  },
  {
   "cell_type": "code",
   "execution_count": 20,
   "metadata": {},
   "outputs": [
    {
     "data": {
      "image/png": "[encoded data removed]",
      "text/plain": [
       "<Figure size 360x360 with 1 Axes>"
      ]
     },
     "metadata": {},
     "output_type": "display_data"
    },
    {
     "data": {
      "image/png": "[encoded data removed]",
      "text/plain": [
       "<Figure size 360x360 with 1 Axes>"
      ]
     },
     "metadata": {},
     "output_type": "display_data"
    },
    {
     "data": {
      "image/png": "[encoded data removed]",
      "text/plain": [
       "<Figure size 360x360 with 1 Axes>"
      ]
     },
     "metadata": {},
     "output_type": "display_data"
    }
   ],
   "source": [
    "smc_nm.plot.box(figsize=(5,5))\n",
    "plt.show()\n",
    "smc_nm.plot.hist(figsize=(5,5), bins=50)\n",
    "plt.show()\n",
    "smc_nm.plot. hist(figsize=(5,5), bins=50, range=[0,100])\n",
    "plt.show()"
   ]
  },
  {
   "cell_type": "code",
   "execution_count": 21,
   "metadata": {},
   "outputs": [
    {
     "name": "stdout",
     "output_type": "stream",
     "text": [
      "0.5          1\n",
      "77.0         1\n",
      "354.0        1\n",
      "0.1          1\n",
      "601.0        1\n",
      "         ...  \n",
      "50.0      4549\n",
      "20.0      6675\n",
      "40.0      6838\n",
      "30.0      9336\n",
      "0.0      21929\n",
      "Name: SMY_NM, Length: 92, dtype: int64 count    62500.000000\n",
      "mean        24.013627\n",
      "std         58.173079\n",
      "min          0.000000\n",
      "25%          0.000000\n",
      "50%         20.000000\n",
      "75%         40.000000\n",
      "max        999.900000\n",
      "Name: SMY_NM, dtype: float64\n"
     ]
    }
   ],
   "source": [
    "#Smoking (年)\n",
    "smy_nm = cdd.iloc[:,17]\n",
    "#print(smy_nm)\n",
    "print(smy_nm.value_counts().sort_values(ascending= True), smy_nm.describe())"
   ]
  },
  {
   "cell_type": "code",
   "execution_count": 22,
   "metadata": {},
   "outputs": [
    {
     "data": {
      "image/png": "[encoded data removed]",
      "text/plain": [
       "<Figure size 360x360 with 1 Axes>"
      ]
     },
     "metadata": {},
     "output_type": "display_data"
    },
    {
     "data": {
      "image/png": "[encoded data removed]",
      "text/plain": [
       "<Figure size 360x360 with 1 Axes>"
      ]
     },
     "metadata": {},
     "output_type": "display_data"
    },
    {
     "data": {
      "image/png": "[encoded data removed]",
      "text/plain": [
       "<Figure size 360x360 with 1 Axes>"
      ]
     },
     "metadata": {},
     "output_type": "display_data"
    }
   ],
   "source": [
    "smy_nm.plot.box(figsize=(5,5))\n",
    "plt.show()\n",
    "smy_nm.plot.hist(figsize=(5,5), bins=50)\n",
    "plt.show()\n",
    "smy_nm.plot. hist(figsize=(5,5), bins=50, range=[0,100])\n",
    "plt.show()"
   ]
  },
  {
   "cell_type": "code",
   "execution_count": 23,
   "metadata": {},
   "outputs": [
    {
     "name": "stdout",
     "output_type": "stream",
     "text": [
      "2.0    12335\n",
      "1.0    27872\n",
      "Name: SMCP_ID, dtype: int64 count    40207.000000\n",
      "mean         1.306787\n",
      "std          0.461166\n",
      "min          1.000000\n",
      "25%          1.000000\n",
      "50%          1.000000\n",
      "75%          2.000000\n",
      "max          2.000000\n",
      "Name: SMCP_ID, dtype: float64\n"
     ]
    }
   ],
   "source": [
    "#Smoking status\n",
    "smcp_id = cdd.iloc[:,18]\n",
    "#print(smcp_id)\n",
    "print(smcp_id.value_counts().sort_values(ascending= True), smcp_id.describe())"
   ]
  },
  {
   "cell_type": "code",
   "execution_count": 24,
   "metadata": {},
   "outputs": [
    {
     "name": "stderr",
     "output_type": "stream",
     "text": [
      "C:\\Users\\Jacky C\\Anaconda3\\lib\\site-packages\\seaborn\\_decorators.py:36: FutureWarning: Pass the following variable as a keyword arg: x. From version 0.12, the only valid positional argument will be `data`, and passing other arguments without an explicit keyword will result in an error or misinterpretation.\n",
      "  warnings.warn(\n"
     ]
    },
    {
     "data": {
      "text/plain": [
       "[Text(0, 0, 'Current'), Text(1, 0, 'Past (more than 2 years)')]"
      ]
     },
     "execution_count": 24,
     "metadata": {},
     "output_type": "execute_result"
    },
    {
     "data": {
      "image/png": "[encoded data removed]",
      "text/plain": [
       "<Figure size 432x288 with 1 Axes>"
      ]
     },
     "metadata": {},
     "output_type": "display_data"
    }
   ],
   "source": [
    "smcp_id_labels = [\"Current\",\"Past (more than 2 years)\"]\n",
    "sns.countplot(smcp_id).set_xticklabels(smcp_id_labels)"
   ]
  },
  {
   "cell_type": "code",
   "execution_count": 25,
   "metadata": {},
   "outputs": [
    {
     "name": "stdout",
     "output_type": "stream",
     "text": [
      "2.0      1645\n",
      "1.0      2071\n",
      "0.0    115569\n",
      "Name: PTIA_ID, dtype: int64 count    119285.000000\n",
      "mean          0.044943\n",
      "std           0.265527\n",
      "min           0.000000\n",
      "25%           0.000000\n",
      "50%           0.000000\n",
      "75%           0.000000\n",
      "max           2.000000\n",
      "Name: PTIA_ID, dtype: float64\n"
     ]
    }
   ],
   "source": [
    "#Previous TIA\n",
    "ptia_id = cdd.iloc[:,19]\n",
    "#print(ptia_id)\n",
    "print(ptia_id.value_counts().sort_values(ascending= True), ptia_id.describe())"
   ]
  },
  {
   "cell_type": "code",
   "execution_count": 26,
   "metadata": {},
   "outputs": [
    {
     "name": "stderr",
     "output_type": "stream",
     "text": [
      "C:\\Users\\Jacky C\\Anaconda3\\lib\\site-packages\\seaborn\\_decorators.py:36: FutureWarning: Pass the following variable as a keyword arg: x. From version 0.12, the only valid positional argument will be `data`, and passing other arguments without an explicit keyword will result in an error or misinterpretation.\n",
      "  warnings.warn(\n"
     ]
    },
    {
     "data": {
      "text/plain": [
       "[Text(0, 0, '沒有'), Text(1, 0, '有'), Text(2, 0, '不知道')]"
      ]
     },
     "execution_count": 26,
     "metadata": {},
     "output_type": "execute_result"
    },
    {
     "data": {
      "image/png": "[encoded data removed]",
      "text/plain": [
       "<Figure size 432x288 with 1 Axes>"
      ]
     },
     "metadata": {},
     "output_type": "display_data"
    }
   ],
   "source": [
    "ptia_id_labels = [\"沒有\",\"有\",\"不知道\"]\n",
    "sns.countplot(ptia_id).set_xticklabels(ptia_id_labels)"
   ]
  },
  {
   "cell_type": "code",
   "execution_count": 27,
   "metadata": {},
   "outputs": [
    {
     "name": "stdout",
     "output_type": "stream",
     "text": [
      ",          1\n",
      "2       1423\n",
      "0       6558\n",
      "1       7147\n",
      "2.0     8693\n",
      "1.0    49629\n",
      "0.0    52533\n",
      "Name: HC_ID, dtype: int64 count     125984.0\n",
      "unique         7.0\n",
      "top            0.0\n",
      "freq       52533.0\n",
      "Name: HC_ID, dtype: float64\n"
     ]
    }
   ],
   "source": [
    "#Dyslipidemia\n",
    "hc_id = cdd.iloc[:,21]\n",
    "#print(hc_id)\n",
    "print(hc_id.value_counts().sort_values(ascending= True), hc_id.describe())"
   ]
  },
  {
   "cell_type": "code",
   "execution_count": 28,
   "metadata": {},
   "outputs": [
    {
     "name": "stdout",
     "output_type": "stream",
     "text": [
      ",          1\n",
      "2.0    10116\n",
      "1.0    56776\n",
      "0.0    59091\n",
      "Name: HC_ID, dtype: int64 count     125984.0\n",
      "unique         4.0\n",
      "top            0.0\n",
      "freq       59091.0\n",
      "Name: HC_ID, dtype: float64\n"
     ]
    },
    {
     "name": "stderr",
     "output_type": "stream",
     "text": [
      "<ipython-input-28-38bcfb902e45>:1: SettingWithCopyWarning: \n",
      "A value is trying to be set on a copy of a slice from a DataFrame\n",
      "\n",
      "See the caveats in the documentation: https://pandas.pydata.org/pandas-docs/stable/user_guide/indexing.html#returning-a-view-versus-a-copy\n",
      "  hc_id[hc_id == str(0)] = int(0)\n",
      "<ipython-input-28-38bcfb902e45>:2: SettingWithCopyWarning: \n",
      "A value is trying to be set on a copy of a slice from a DataFrame\n",
      "\n",
      "See the caveats in the documentation: https://pandas.pydata.org/pandas-docs/stable/user_guide/indexing.html#returning-a-view-versus-a-copy\n",
      "  hc_id[hc_id == str(1)] = int(1)\n",
      "<ipython-input-28-38bcfb902e45>:3: SettingWithCopyWarning: \n",
      "A value is trying to be set on a copy of a slice from a DataFrame\n",
      "\n",
      "See the caveats in the documentation: https://pandas.pydata.org/pandas-docs/stable/user_guide/indexing.html#returning-a-view-versus-a-copy\n",
      "  hc_id[hc_id == str(2)] = int(2)\n"
     ]
    }
   ],
   "source": [
    "hc_id[hc_id == str(0)] = int(0)\n",
    "hc_id[hc_id == str(1)] = int(1)\n",
    "hc_id[hc_id == str(2)] = int(2)\n",
    "print(hc_id.value_counts().sort_values(ascending= True), hc_id.describe())"
   ]
  },
  {
   "cell_type": "code",
   "execution_count": 29,
   "metadata": {},
   "outputs": [
    {
     "name": "stderr",
     "output_type": "stream",
     "text": [
      "C:\\Users\\Jacky C\\Anaconda3\\lib\\site-packages\\seaborn\\_decorators.py:36: FutureWarning: Pass the following variable as a keyword arg: x. From version 0.12, the only valid positional argument will be `data`, and passing other arguments without an explicit keyword will result in an error or misinterpretation.\n",
      "  warnings.warn(\n"
     ]
    },
    {
     "data": {
      "text/plain": [
       "[Text(0, 0, '沒有'), Text(1, 0, '有'), Text(2, 0, '不知道'), Text(3, 0, ',')]"
      ]
     },
     "execution_count": 29,
     "metadata": {},
     "output_type": "execute_result"
    },
    {
     "data": {
      "image/png": "[encoded data removed]",
      "text/plain": [
       "<Figure size 432x288 with 1 Axes>"
      ]
     },
     "metadata": {},
     "output_type": "display_data"
    }
   ],
   "source": [
    "hc_id_labels = [\"沒有\",\"有\",\"不知道\",\",\"]\n",
    "sns.countplot(hc_id).set_xticklabels(hc_id_labels)"
   ]
  },
  {
   "cell_type": "code",
   "execution_count": 30,
   "metadata": {},
   "outputs": [
    {
     "name": "stdout",
     "output_type": "stream",
     "text": [
      "2.0    11053\n",
      "1.0    25898\n",
      "0.0    84580\n",
      "Name: HCHT_ID, dtype: int64 count    121531.000000\n",
      "mean          0.394994\n",
      "std           0.648747\n",
      "min           0.000000\n",
      "25%           0.000000\n",
      "50%           0.000000\n",
      "75%           1.000000\n",
      "max           2.000000\n",
      "Name: HCHT_ID, dtype: float64\n"
     ]
    }
   ],
   "source": [
    "#Dyslipidemia - Hypertriglyceridemia\n",
    "hcht_id = cdd.iloc[:,24]\n",
    "#print(hcht_id)\n",
    "print(hcht_id.value_counts().sort_values(ascending= True), hcht_id.describe())"
   ]
  },
  {
   "cell_type": "code",
   "execution_count": 31,
   "metadata": {},
   "outputs": [
    {
     "name": "stderr",
     "output_type": "stream",
     "text": [
      "C:\\Users\\Jacky C\\Anaconda3\\lib\\site-packages\\seaborn\\_decorators.py:36: FutureWarning: Pass the following variable as a keyword arg: x. From version 0.12, the only valid positional argument will be `data`, and passing other arguments without an explicit keyword will result in an error or misinterpretation.\n",
      "  warnings.warn(\n"
     ]
    },
    {
     "data": {
      "text/plain": [
       "[Text(0, 0, '沒有'), Text(1, 0, '有'), Text(2, 0, '不知道')]"
      ]
     },
     "execution_count": 31,
     "metadata": {},
     "output_type": "execute_result"
    },
    {
     "data": {
      "image/png": "[encoded data removed]",
      "text/plain": [
       "<Figure size 432x288 with 1 Axes>"
      ]
     },
     "metadata": {},
     "output_type": "display_data"
    }
   ],
   "source": [
    "hcht_id_labels = [\"沒有\",\"有\",\"不知道\"]\n",
    "sns.countplot(hcht_id).set_xticklabels(hcht_id_labels)"
   ]
  },
  {
   "cell_type": "code",
   "execution_count": 32,
   "metadata": {},
   "outputs": [
    {
     "name": "stdout",
     "output_type": "stream",
     "text": [
      "9.0        1\n",
      "2.0    10912\n",
      "1.0    42376\n",
      "0.0    68672\n",
      "Name: HCHC_ID, dtype: int64 count    121961.000000\n",
      "mean          0.526472\n",
      "std           0.654855\n",
      "min           0.000000\n",
      "25%           0.000000\n",
      "50%           0.000000\n",
      "75%           1.000000\n",
      "max           9.000000\n",
      "Name: HCHC_ID, dtype: float64\n"
     ]
    }
   ],
   "source": [
    "#Dyslipidemia - Hypercholesterolemia\n",
    "hchc_id = cdd.iloc[:,25]\n",
    "#print(hchc_id)\n",
    "print(hchc_id.value_counts().sort_values(ascending= True), hchc_id.describe())"
   ]
  },
  {
   "cell_type": "code",
   "execution_count": 33,
   "metadata": {},
   "outputs": [
    {
     "name": "stderr",
     "output_type": "stream",
     "text": [
      "C:\\Users\\Jacky C\\Anaconda3\\lib\\site-packages\\seaborn\\_decorators.py:36: FutureWarning: Pass the following variable as a keyword arg: x. From version 0.12, the only valid positional argument will be `data`, and passing other arguments without an explicit keyword will result in an error or misinterpretation.\n",
      "  warnings.warn(\n"
     ]
    },
    {
     "data": {
      "text/plain": [
       "[Text(0, 0, '沒有'), Text(1, 0, '有'), Text(2, 0, '不知道'), Text(3, 0, '9')]"
      ]
     },
     "execution_count": 33,
     "metadata": {},
     "output_type": "execute_result"
    },
    {
     "data": {
      "image/png": "[encoded data removed]",
      "text/plain": [
       "<Figure size 432x288 with 1 Axes>"
      ]
     },
     "metadata": {},
     "output_type": "display_data"
    }
   ],
   "source": [
    "hchc_id_labels = [\"沒有\",\"有\",\"不知道\", \"9\"]\n",
    "sns.countplot(hchc_id).set_xticklabels(hchc_id_labels)"
   ]
  },
  {
   "cell_type": "code",
   "execution_count": 34,
   "metadata": {},
   "outputs": [
    {
     "name": "stdout",
     "output_type": "stream",
     "text": [
      "4.0         1\n",
      "2.0       501\n",
      "0.0     25578\n",
      "1.0    104148\n",
      "Name: HT_ID, dtype: int64 count    130228.000000\n",
      "mean          0.807461\n",
      "std           0.404049\n",
      "min           0.000000\n",
      "25%           1.000000\n",
      "50%           1.000000\n",
      "75%           1.000000\n",
      "max           4.000000\n",
      "Name: HT_ID, dtype: float64\n"
     ]
    }
   ],
   "source": [
    "#Hypertension\n",
    "ht_id = cdd.iloc[:,26]\n",
    "#print(ht_id)\n",
    "print(ht_id.value_counts().sort_values(ascending= True), ht_id.describe())"
   ]
  },
  {
   "cell_type": "code",
   "execution_count": 35,
   "metadata": {},
   "outputs": [
    {
     "name": "stderr",
     "output_type": "stream",
     "text": [
      "C:\\Users\\Jacky C\\Anaconda3\\lib\\site-packages\\seaborn\\_decorators.py:36: FutureWarning: Pass the following variable as a keyword arg: x. From version 0.12, the only valid positional argument will be `data`, and passing other arguments without an explicit keyword will result in an error or misinterpretation.\n",
      "  warnings.warn(\n"
     ]
    },
    {
     "data": {
      "text/plain": [
       "[Text(0, 0, '沒有'), Text(1, 0, '有'), Text(2, 0, '不知道'), Text(3, 0, '4')]"
      ]
     },
     "execution_count": 35,
     "metadata": {},
     "output_type": "execute_result"
    },
    {
     "data": {
      "image/png": "[encoded data removed]",
      "text/plain": [
       "<Figure size 432x288 with 1 Axes>"
      ]
     },
     "metadata": {},
     "output_type": "display_data"
    }
   ],
   "source": [
    "ht_id_labels = [\"沒有\",\"有\",\"不知道\", \"4\"]\n",
    "sns.countplot(ht_id).set_xticklabels(ht_id_labels)"
   ]
  },
  {
   "cell_type": "code",
   "execution_count": 36,
   "metadata": {},
   "outputs": [
    {
     "name": "stdout",
     "output_type": "stream",
     "text": [
      "2.0      841\n",
      "1.0    50604\n",
      "0.0    74014\n",
      "Name: DM_ID, dtype: int64 count    125459.000000\n",
      "mean          0.416758\n",
      "std           0.506438\n",
      "min           0.000000\n",
      "25%           0.000000\n",
      "50%           0.000000\n",
      "75%           1.000000\n",
      "max           2.000000\n",
      "Name: DM_ID, dtype: float64\n"
     ]
    }
   ],
   "source": [
    "#DM\n",
    "dm_id = cdd.iloc[:,29]\n",
    "#print(dm_id)\n",
    "print(dm_id.value_counts().sort_values(ascending= True), dm_id.describe())"
   ]
  },
  {
   "cell_type": "code",
   "execution_count": 37,
   "metadata": {},
   "outputs": [
    {
     "name": "stderr",
     "output_type": "stream",
     "text": [
      "C:\\Users\\Jacky C\\Anaconda3\\lib\\site-packages\\seaborn\\_decorators.py:36: FutureWarning: Pass the following variable as a keyword arg: x. From version 0.12, the only valid positional argument will be `data`, and passing other arguments without an explicit keyword will result in an error or misinterpretation.\n",
      "  warnings.warn(\n"
     ]
    },
    {
     "data": {
      "text/plain": [
       "[Text(0, 0, '沒有'), Text(1, 0, '有'), Text(2, 0, '不知道')]"
      ]
     },
     "execution_count": 37,
     "metadata": {},
     "output_type": "execute_result"
    },
    {
     "data": {
      "image/png": "[encoded data removed]",
      "text/plain": [
       "<Figure size 432x288 with 1 Axes>"
      ]
     },
     "metadata": {},
     "output_type": "display_data"
    }
   ],
   "source": [
    "dm_id_labels = [\"沒有\",\"有\",\"不知道\"]\n",
    "sns.countplot(dm_id).set_xticklabels(dm_id_labels)"
   ]
  },
  {
   "cell_type": "code",
   "execution_count": 38,
   "metadata": {},
   "outputs": [
    {
     "name": "stdout",
     "output_type": "stream",
     "text": [
      "1.0      2210\n",
      "2.0      5359\n",
      "0.0    113321\n",
      "Name: PAD_ID, dtype: int64 count    120890.000000\n",
      "mean          0.106940\n",
      "std           0.429144\n",
      "min           0.000000\n",
      "25%           0.000000\n",
      "50%           0.000000\n",
      "75%           0.000000\n",
      "max           2.000000\n",
      "Name: PAD_ID, dtype: float64\n"
     ]
    }
   ],
   "source": [
    "#PAD\n",
    "pad_id = cdd.iloc[:,32]\n",
    "#print(pad_id)\n",
    "print(pad_id.value_counts().sort_values(ascending= True), pad_id.describe())"
   ]
  },
  {
   "cell_type": "code",
   "execution_count": 39,
   "metadata": {},
   "outputs": [
    {
     "name": "stderr",
     "output_type": "stream",
     "text": [
      "C:\\Users\\Jacky C\\Anaconda3\\lib\\site-packages\\seaborn\\_decorators.py:36: FutureWarning: Pass the following variable as a keyword arg: x. From version 0.12, the only valid positional argument will be `data`, and passing other arguments without an explicit keyword will result in an error or misinterpretation.\n",
      "  warnings.warn(\n"
     ]
    },
    {
     "data": {
      "text/plain": [
       "[Text(0, 0, '沒有'), Text(1, 0, '有'), Text(2, 0, '不知道')]"
      ]
     },
     "execution_count": 39,
     "metadata": {},
     "output_type": "execute_result"
    },
    {
     "data": {
      "image/png": "[encoded data removed]",
      "text/plain": [
       "<Figure size 432x288 with 1 Axes>"
      ]
     },
     "metadata": {},
     "output_type": "display_data"
    }
   ],
   "source": [
    "pad_id_labels = [\"沒有\",\"有\",\"不知道\"]\n",
    "sns.countplot(pad_id).set_xticklabels(pad_id_labels)"
   ]
  },
  {
   "cell_type": "code",
   "execution_count": 40,
   "metadata": {},
   "outputs": [
    {
     "name": "stdout",
     "output_type": "stream",
     "text": [
      "           1\n",
      "2        159\n",
      "2.0     1029\n",
      "1       2136\n",
      "0      12427\n",
      "1.0    14666\n",
      "0.0    94538\n",
      "Name: AL_ID, dtype: int64 count     124956.0\n",
      "unique         7.0\n",
      "top            0.0\n",
      "freq       94538.0\n",
      "Name: AL_ID, dtype: float64\n"
     ]
    }
   ],
   "source": [
    "#Alcohol\n",
    "al_id= cdd.iloc[:,34]\n",
    "#print(al_id)\n",
    "print(al_id.value_counts().sort_values(ascending= True), al_id.describe())"
   ]
  },
  {
   "cell_type": "code",
   "execution_count": 41,
   "metadata": {},
   "outputs": [
    {
     "name": "stdout",
     "output_type": "stream",
     "text": [
      "            1\n",
      "2.0      1188\n",
      "1.0     16802\n",
      "0.0    106965\n",
      "Name: AL_ID, dtype: int64 count     124956.0\n",
      "unique         4.0\n",
      "top            0.0\n",
      "freq      106965.0\n",
      "Name: AL_ID, dtype: float64\n"
     ]
    },
    {
     "name": "stderr",
     "output_type": "stream",
     "text": [
      "<ipython-input-41-54a81a9c06ed>:1: SettingWithCopyWarning: \n",
      "A value is trying to be set on a copy of a slice from a DataFrame\n",
      "\n",
      "See the caveats in the documentation: https://pandas.pydata.org/pandas-docs/stable/user_guide/indexing.html#returning-a-view-versus-a-copy\n",
      "  al_id[al_id == str(0)] = int(0)\n",
      "<ipython-input-41-54a81a9c06ed>:2: SettingWithCopyWarning: \n",
      "A value is trying to be set on a copy of a slice from a DataFrame\n",
      "\n",
      "See the caveats in the documentation: https://pandas.pydata.org/pandas-docs/stable/user_guide/indexing.html#returning-a-view-versus-a-copy\n",
      "  al_id[al_id == str(1)] = int(1)\n",
      "<ipython-input-41-54a81a9c06ed>:3: SettingWithCopyWarning: \n",
      "A value is trying to be set on a copy of a slice from a DataFrame\n",
      "\n",
      "See the caveats in the documentation: https://pandas.pydata.org/pandas-docs/stable/user_guide/indexing.html#returning-a-view-versus-a-copy\n",
      "  al_id[al_id == str(2)] = int(2)\n"
     ]
    }
   ],
   "source": [
    "al_id[al_id == str(0)] = int(0)\n",
    "al_id[al_id == str(1)] = int(1)\n",
    "al_id[al_id == str(2)] = int(2)\n",
    "print(al_id.value_counts().sort_values(ascending= True), al_id.describe())"
   ]
  },
  {
   "cell_type": "code",
   "execution_count": 42,
   "metadata": {},
   "outputs": [
    {
     "name": "stderr",
     "output_type": "stream",
     "text": [
      "C:\\Users\\Jacky C\\Anaconda3\\lib\\site-packages\\seaborn\\_decorators.py:36: FutureWarning: Pass the following variable as a keyword arg: x. From version 0.12, the only valid positional argument will be `data`, and passing other arguments without an explicit keyword will result in an error or misinterpretation.\n",
      "  warnings.warn(\n"
     ]
    },
    {
     "data": {
      "text/plain": [
       "[Text(0, 0, '沒有'), Text(1, 0, '有'), Text(2, 0, '不知道')]"
      ]
     },
     "execution_count": 42,
     "metadata": {},
     "output_type": "execute_result"
    },
    {
     "data": {
      "image/png": "[encoded data removed]",
      "text/plain": [
       "<Figure size 432x288 with 1 Axes>"
      ]
     },
     "metadata": {},
     "output_type": "display_data"
    }
   ],
   "source": [
    "pad_id_labels = [\"沒有\",\"有\",\"不知道\"]\n",
    "sns.countplot(pad_id).set_xticklabels(pad_id_labels)"
   ]
  },
  {
   "cell_type": "code",
   "execution_count": 43,
   "metadata": {},
   "outputs": [
    {
     "name": "stdout",
     "output_type": "stream",
     "text": [
      "9.0         1\n",
      "2.0       283\n",
      "1.0      5172\n",
      "0.0    115662\n",
      "Name: CA_ID, dtype: int64 count    121118.000000\n",
      "mean          0.047450\n",
      "std           0.224647\n",
      "min           0.000000\n",
      "25%           0.000000\n",
      "50%           0.000000\n",
      "75%           0.000000\n",
      "max           9.000000\n",
      "Name: CA_ID, dtype: float64\n"
     ]
    }
   ],
   "source": [
    "#Cancer\n",
    "ca_id = cdd.iloc[:,35]\n",
    "#print(ca_id)\n",
    "print(ca_id.value_counts().sort_values(ascending= True), ca_id.describe())"
   ]
  },
  {
   "cell_type": "code",
   "execution_count": 44,
   "metadata": {},
   "outputs": [
    {
     "name": "stderr",
     "output_type": "stream",
     "text": [
      "C:\\Users\\Jacky C\\Anaconda3\\lib\\site-packages\\seaborn\\_decorators.py:36: FutureWarning: Pass the following variable as a keyword arg: x. From version 0.12, the only valid positional argument will be `data`, and passing other arguments without an explicit keyword will result in an error or misinterpretation.\n",
      "  warnings.warn(\n"
     ]
    },
    {
     "data": {
      "text/plain": [
       "[Text(0, 0, '沒有'), Text(1, 0, '有'), Text(2, 0, '不知道'), Text(3, 0, '9')]"
      ]
     },
     "execution_count": 44,
     "metadata": {},
     "output_type": "execute_result"
    },
    {
     "data": {
      "image/png": "[encoded data removed]",
      "text/plain": [
       "<Figure size 432x288 with 1 Axes>"
      ]
     },
     "metadata": {},
     "output_type": "display_data"
    }
   ],
   "source": [
    "ca_id_labels = [\"沒有\",\"有\",\"不知道\",\"9\"]\n",
    "sns.countplot(ca_id).set_xticklabels(ca_id_labels)"
   ]
  },
  {
   "cell_type": "code",
   "execution_count": 45,
   "metadata": {},
   "outputs": [],
   "source": [
    "#CA_TX"
   ]
  },
  {
   "cell_type": "code",
   "execution_count": 46,
   "metadata": {},
   "outputs": [
    {
     "name": "stdout",
     "output_type": "stream",
     "text": [
      "M          1\n",
      "2        271\n",
      "2.0      569\n",
      "1       2604\n",
      "0      11510\n",
      "1.0    16371\n",
      "0.0    85103\n",
      "Name: OT_ID, dtype: int64 count     116429.0\n",
      "unique         7.0\n",
      "top            0.0\n",
      "freq       85103.0\n",
      "Name: OT_ID, dtype: float64\n"
     ]
    }
   ],
   "source": [
    "#Others\n",
    "ot_id = cdd.iloc[:,37]\n",
    "#print(ot_id)\n",
    "print(ot_id.value_counts().sort_values(ascending= True), ot_id.describe())"
   ]
  },
  {
   "cell_type": "code",
   "execution_count": 47,
   "metadata": {},
   "outputs": [
    {
     "name": "stdout",
     "output_type": "stream",
     "text": [
      "M          1\n",
      "2.0      840\n",
      "1.0    18975\n",
      "0.0    96613\n",
      "Name: OT_ID, dtype: int64 count     116429.0\n",
      "unique         4.0\n",
      "top            0.0\n",
      "freq       96613.0\n",
      "Name: OT_ID, dtype: float64\n"
     ]
    },
    {
     "name": "stderr",
     "output_type": "stream",
     "text": [
      "<ipython-input-47-d999c9e8fe37>:1: SettingWithCopyWarning: \n",
      "A value is trying to be set on a copy of a slice from a DataFrame\n",
      "\n",
      "See the caveats in the documentation: https://pandas.pydata.org/pandas-docs/stable/user_guide/indexing.html#returning-a-view-versus-a-copy\n",
      "  ot_id[ot_id == str(0)] = int(0)\n",
      "<ipython-input-47-d999c9e8fe37>:2: SettingWithCopyWarning: \n",
      "A value is trying to be set on a copy of a slice from a DataFrame\n",
      "\n",
      "See the caveats in the documentation: https://pandas.pydata.org/pandas-docs/stable/user_guide/indexing.html#returning-a-view-versus-a-copy\n",
      "  ot_id[ot_id == str(1)] = int(1)\n",
      "<ipython-input-47-d999c9e8fe37>:3: SettingWithCopyWarning: \n",
      "A value is trying to be set on a copy of a slice from a DataFrame\n",
      "\n",
      "See the caveats in the documentation: https://pandas.pydata.org/pandas-docs/stable/user_guide/indexing.html#returning-a-view-versus-a-copy\n",
      "  ot_id[ot_id == str(2)] = int(2)\n"
     ]
    }
   ],
   "source": [
    "ot_id[ot_id == str(0)] = int(0)\n",
    "ot_id[ot_id == str(1)] = int(1)\n",
    "ot_id[ot_id == str(2)] = int(2)\n",
    "print(ot_id.value_counts().sort_values(ascending= True), ot_id.describe())"
   ]
  },
  {
   "cell_type": "code",
   "execution_count": 48,
   "metadata": {},
   "outputs": [
    {
     "name": "stderr",
     "output_type": "stream",
     "text": [
      "C:\\Users\\Jacky C\\Anaconda3\\lib\\site-packages\\seaborn\\_decorators.py:36: FutureWarning: Pass the following variable as a keyword arg: x. From version 0.12, the only valid positional argument will be `data`, and passing other arguments without an explicit keyword will result in an error or misinterpretation.\n",
      "  warnings.warn(\n"
     ]
    },
    {
     "data": {
      "text/plain": [
       "[Text(0, 0, '沒有'), Text(1, 0, '有'), Text(2, 0, '不知道'), Text(3, 0, 'M')]"
      ]
     },
     "execution_count": 48,
     "metadata": {},
     "output_type": "execute_result"
    },
    {
     "data": {
      "image/png": "[encoded data removed]",
      "text/plain": [
       "<Figure size 432x288 with 1 Axes>"
      ]
     },
     "metadata": {},
     "output_type": "display_data"
    }
   ],
   "source": [
    "ot_id_labels = [\"沒有\",\"有\",\"不知道\",\"M\"]\n",
    "sns.countplot(ot_id).set_xticklabels(ot_id_labels)"
   ]
  },
  {
   "cell_type": "code",
   "execution_count": 49,
   "metadata": {},
   "outputs": [],
   "source": [
    "#OT_TX"
   ]
  },
  {
   "cell_type": "code",
   "execution_count": 50,
   "metadata": {},
   "outputs": [
    {
     "name": "stdout",
     "output_type": "stream",
     "text": [
      "0.0      87\n",
      "Y       431\n",
      "1.0    1534\n",
      "1      1583\n",
      "N      4311\n",
      "Name: THISHY_ID, dtype: int64 count     7946\n",
      "unique       5\n",
      "top          N\n",
      "freq      4311\n",
      "Name: THISHY_ID, dtype: object\n"
     ]
    }
   ],
   "source": [
    "#Hypertension was diagnosed at this visit\n",
    "thishy_id = cdd.iloc[:,40]\n",
    "#print(thishy_id)\n",
    "print(thishy_id.value_counts().sort_values(ascending= True), thishy_id.describe())"
   ]
  },
  {
   "cell_type": "code",
   "execution_count": 51,
   "metadata": {},
   "outputs": [
    {
     "name": "stdout",
     "output_type": "stream",
     "text": [
      "0.0      87\n",
      "Y       431\n",
      "1.0    3117\n",
      "N      4311\n",
      "Name: THISHY_ID, dtype: int64 count     7946\n",
      "unique       4\n",
      "top          N\n",
      "freq      4311\n",
      "Name: THISHY_ID, dtype: object\n"
     ]
    },
    {
     "name": "stderr",
     "output_type": "stream",
     "text": [
      "<ipython-input-51-2c7ed90d00d3>:1: SettingWithCopyWarning: \n",
      "A value is trying to be set on a copy of a slice from a DataFrame\n",
      "\n",
      "See the caveats in the documentation: https://pandas.pydata.org/pandas-docs/stable/user_guide/indexing.html#returning-a-view-versus-a-copy\n",
      "  thishy_id[thishy_id == str(1)] = int(1)\n"
     ]
    }
   ],
   "source": [
    "thishy_id[thishy_id == str(1)] = int(1)\n",
    "print(thishy_id.value_counts().sort_values(ascending= True), thishy_id.describe())"
   ]
  },
  {
   "cell_type": "code",
   "execution_count": 52,
   "metadata": {},
   "outputs": [
    {
     "name": "stderr",
     "output_type": "stream",
     "text": [
      "C:\\Users\\Jacky C\\Anaconda3\\lib\\site-packages\\seaborn\\_decorators.py:36: FutureWarning: Pass the following variable as a keyword arg: x. From version 0.12, the only valid positional argument will be `data`, and passing other arguments without an explicit keyword will result in an error or misinterpretation.\n",
      "  warnings.warn(\n"
     ]
    },
    {
     "data": {
      "text/plain": [
       "<AxesSubplot:xlabel='THISHY_ID', ylabel='count'>"
      ]
     },
     "execution_count": 52,
     "metadata": {},
     "output_type": "execute_result"
    },
    {
     "data": {
      "image/png": "[encoded data removed]",
      "text/plain": [
       "<Figure size 432x288 with 1 Axes>"
      ]
     },
     "metadata": {},
     "output_type": "display_data"
    }
   ],
   "source": [
    "sns.countplot(thishy_id)"
   ]
  },
  {
   "cell_type": "code",
   "execution_count": 53,
   "metadata": {},
   "outputs": [
    {
     "name": "stdout",
     "output_type": "stream",
     "text": [
      "0.0      87\n",
      "Y       330\n",
      "1      1081\n",
      "1.0    1172\n",
      "N      4357\n",
      "Name: THISDI_ID, dtype: int64 count     7027\n",
      "unique       5\n",
      "top          N\n",
      "freq      4357\n",
      "Name: THISDI_ID, dtype: object\n"
     ]
    }
   ],
   "source": [
    "#DM was diagnosed at this visit\n",
    "thisdi_id = cdd.iloc[:,41]\n",
    "#print(thisdi_id)\n",
    "print(thisdi_id.value_counts().sort_values(ascending= True), thisdi_id.describe())"
   ]
  },
  {
   "cell_type": "code",
   "execution_count": 54,
   "metadata": {},
   "outputs": [
    {
     "name": "stdout",
     "output_type": "stream",
     "text": [
      "0.0      87\n",
      "Y       330\n",
      "1.0    2253\n",
      "N      4357\n",
      "Name: THISDI_ID, dtype: int64 count     7027\n",
      "unique       4\n",
      "top          N\n",
      "freq      4357\n",
      "Name: THISDI_ID, dtype: object\n"
     ]
    },
    {
     "name": "stderr",
     "output_type": "stream",
     "text": [
      "<ipython-input-54-0161308f5b16>:1: SettingWithCopyWarning: \n",
      "A value is trying to be set on a copy of a slice from a DataFrame\n",
      "\n",
      "See the caveats in the documentation: https://pandas.pydata.org/pandas-docs/stable/user_guide/indexing.html#returning-a-view-versus-a-copy\n",
      "  thisdi_id[thisdi_id == str(1)] = int(1)\n"
     ]
    }
   ],
   "source": [
    "thisdi_id[thisdi_id == str(1)] = int(1)\n",
    "print(thisdi_id.value_counts().sort_values(ascending= True), thisdi_id.describe())"
   ]
  },
  {
   "cell_type": "code",
   "execution_count": 55,
   "metadata": {},
   "outputs": [
    {
     "name": "stderr",
     "output_type": "stream",
     "text": [
      "C:\\Users\\Jacky C\\Anaconda3\\lib\\site-packages\\seaborn\\_decorators.py:36: FutureWarning: Pass the following variable as a keyword arg: x. From version 0.12, the only valid positional argument will be `data`, and passing other arguments without an explicit keyword will result in an error or misinterpretation.\n",
      "  warnings.warn(\n"
     ]
    },
    {
     "data": {
      "text/plain": [
       "<AxesSubplot:xlabel='THISDI_ID', ylabel='count'>"
      ]
     },
     "execution_count": 55,
     "metadata": {},
     "output_type": "execute_result"
    },
    {
     "data": {
      "image/png": "[encoded data removed]",
      "text/plain": [
       "<Figure size 432x288 with 1 Axes>"
      ]
     },
     "metadata": {},
     "output_type": "display_data"
    }
   ],
   "source": [
    "sns.countplot(thisdi_id)"
   ]
  }
 ],
 "metadata": {
  "kernelspec": {
   "display_name": "Python 3",
   "language": "python",
   "name": "python3"
  },
  "language_info": {
   "codemirror_mode": {
    "name": "ipython",
    "version": 3
   },
   "file_extension": ".py",
   "mimetype": "text/x-python",
   "name": "python",
   "nbconvert_exporter": "python",
   "pygments_lexer": "ipython3",
   "version": "3.8.5"
  }
 },
 "nbformat": 4,
 "nbformat_minor": 4
}
