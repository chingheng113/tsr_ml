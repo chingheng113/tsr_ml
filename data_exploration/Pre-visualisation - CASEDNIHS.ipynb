{
 "cells": [
  {
   "cell_type": "code",
   "execution_count": 1,
   "metadata": {},
   "outputs": [],
   "source": [
    "import pandas as pd\n",
    "import matplotlib.pyplot as plt\n",
    "import seaborn as sns\n",
    "import os"
   ]
  },
  {
   "cell_type": "code",
   "execution_count": 2,
   "metadata": {},
   "outputs": [
    {
     "data": {
      "text/html": [
       "<div>\n",
       "<style scoped>\n",
       "    .dataframe tbody tr th:only-of-type {\n",
       "        vertical-align: middle;\n",
       "    }\n",
       "\n",
       "    .dataframe tbody tr th {\n",
       "        vertical-align: top;\n",
       "    }\n",
       "\n",
       "    .dataframe thead th {\n",
       "        text-align: right;\n",
       "    }\n",
       "</style>\n",
       "<table border=\"1\" class=\"dataframe\">\n",
       "  <thead>\n",
       "    <tr style=\"text-align: right;\">\n",
       "      <th></th>\n",
       "      <th>ICASE_ID</th>\n",
       "      <th>IDCASE_ID</th>\n",
       "      <th>NIHS_1a_in</th>\n",
       "      <th>NIHS_1b_in</th>\n",
       "      <th>NIHS_1c_in</th>\n",
       "      <th>NIHS_2_in</th>\n",
       "      <th>NIHS_3_in</th>\n",
       "      <th>NIHS_4_in</th>\n",
       "      <th>NIHS_5aL_in</th>\n",
       "      <th>NIHS_5bR_in</th>\n",
       "      <th>...</th>\n",
       "      <th>NIHS_4_out</th>\n",
       "      <th>NIHS_5aL_out</th>\n",
       "      <th>NIHS_5bR_out</th>\n",
       "      <th>NIHS_6aL_out</th>\n",
       "      <th>NIHS_6bR_out</th>\n",
       "      <th>NIHS_7_out</th>\n",
       "      <th>NIHS_8_out</th>\n",
       "      <th>NIHS_9_out</th>\n",
       "      <th>NIHS_10_out</th>\n",
       "      <th>NIHS_11_out</th>\n",
       "    </tr>\n",
       "  </thead>\n",
       "  <tbody>\n",
       "    <tr>\n",
       "      <th>0</th>\n",
       "      <td>9066</td>\n",
       "      <td>010-00009066-1</td>\n",
       "      <td>0.0</td>\n",
       "      <td>0.0</td>\n",
       "      <td>0.0</td>\n",
       "      <td>0.0</td>\n",
       "      <td>0.0</td>\n",
       "      <td>1.0</td>\n",
       "      <td>1.0</td>\n",
       "      <td>0.0</td>\n",
       "      <td>...</td>\n",
       "      <td>1.0</td>\n",
       "      <td>1.0</td>\n",
       "      <td>0.0</td>\n",
       "      <td>1.0</td>\n",
       "      <td>0.0</td>\n",
       "      <td>0.0</td>\n",
       "      <td>1.0</td>\n",
       "      <td>0.0</td>\n",
       "      <td>0.0</td>\n",
       "      <td>0.0</td>\n",
       "    </tr>\n",
       "    <tr>\n",
       "      <th>1</th>\n",
       "      <td>9066</td>\n",
       "      <td>022-00009066-1</td>\n",
       "      <td>0.0</td>\n",
       "      <td>0.0</td>\n",
       "      <td>0.0</td>\n",
       "      <td>0.0</td>\n",
       "      <td>0.0</td>\n",
       "      <td>1.0</td>\n",
       "      <td>1.0</td>\n",
       "      <td>0.0</td>\n",
       "      <td>...</td>\n",
       "      <td>1.0</td>\n",
       "      <td>1.0</td>\n",
       "      <td>0.0</td>\n",
       "      <td>1.0</td>\n",
       "      <td>0.0</td>\n",
       "      <td>0.0</td>\n",
       "      <td>1.0</td>\n",
       "      <td>0.0</td>\n",
       "      <td>0.0</td>\n",
       "      <td>0.0</td>\n",
       "    </tr>\n",
       "    <tr>\n",
       "      <th>2</th>\n",
       "      <td>4830</td>\n",
       "      <td>005-00004830-2</td>\n",
       "      <td>2.0</td>\n",
       "      <td>2.0</td>\n",
       "      <td>2.0</td>\n",
       "      <td>2.0</td>\n",
       "      <td>2.0</td>\n",
       "      <td>2.0</td>\n",
       "      <td>0.0</td>\n",
       "      <td>4.0</td>\n",
       "      <td>...</td>\n",
       "      <td>1.0</td>\n",
       "      <td>0.0</td>\n",
       "      <td>4.0</td>\n",
       "      <td>0.0</td>\n",
       "      <td>3.0</td>\n",
       "      <td>0.0</td>\n",
       "      <td>2.0</td>\n",
       "      <td>2.0</td>\n",
       "      <td>1.0</td>\n",
       "      <td>2.0</td>\n",
       "    </tr>\n",
       "    <tr>\n",
       "      <th>3</th>\n",
       "      <td>9067</td>\n",
       "      <td>005-00009067-1</td>\n",
       "      <td>0.0</td>\n",
       "      <td>2.0</td>\n",
       "      <td>1.0</td>\n",
       "      <td>0.0</td>\n",
       "      <td>0.0</td>\n",
       "      <td>0.0</td>\n",
       "      <td>0.0</td>\n",
       "      <td>1.0</td>\n",
       "      <td>...</td>\n",
       "      <td>0.0</td>\n",
       "      <td>0.0</td>\n",
       "      <td>1.0</td>\n",
       "      <td>0.0</td>\n",
       "      <td>1.0</td>\n",
       "      <td>0.0</td>\n",
       "      <td>0.0</td>\n",
       "      <td>1.0</td>\n",
       "      <td>1.0</td>\n",
       "      <td>0.0</td>\n",
       "    </tr>\n",
       "    <tr>\n",
       "      <th>4</th>\n",
       "      <td>9068</td>\n",
       "      <td>005-00009068-1</td>\n",
       "      <td>0.0</td>\n",
       "      <td>0.0</td>\n",
       "      <td>0.0</td>\n",
       "      <td>0.0</td>\n",
       "      <td>0.0</td>\n",
       "      <td>1.0</td>\n",
       "      <td>0.0</td>\n",
       "      <td>1.0</td>\n",
       "      <td>...</td>\n",
       "      <td>1.0</td>\n",
       "      <td>0.0</td>\n",
       "      <td>1.0</td>\n",
       "      <td>0.0</td>\n",
       "      <td>1.0</td>\n",
       "      <td>0.0</td>\n",
       "      <td>0.0</td>\n",
       "      <td>0.0</td>\n",
       "      <td>1.0</td>\n",
       "      <td>0.0</td>\n",
       "    </tr>\n",
       "  </tbody>\n",
       "</table>\n",
       "<p>5 rows × 32 columns</p>\n",
       "</div>"
      ],
      "text/plain": [
       "   ICASE_ID       IDCASE_ID  NIHS_1a_in  NIHS_1b_in  NIHS_1c_in  NIHS_2_in  \\\n",
       "0      9066  010-00009066-1         0.0         0.0         0.0        0.0   \n",
       "1      9066  022-00009066-1         0.0         0.0         0.0        0.0   \n",
       "2      4830  005-00004830-2         2.0         2.0         2.0        2.0   \n",
       "3      9067  005-00009067-1         0.0         2.0         1.0        0.0   \n",
       "4      9068  005-00009068-1         0.0         0.0         0.0        0.0   \n",
       "\n",
       "   NIHS_3_in  NIHS_4_in  NIHS_5aL_in  NIHS_5bR_in  ...  NIHS_4_out  \\\n",
       "0        0.0        1.0          1.0          0.0  ...         1.0   \n",
       "1        0.0        1.0          1.0          0.0  ...         1.0   \n",
       "2        2.0        2.0          0.0          4.0  ...         1.0   \n",
       "3        0.0        0.0          0.0          1.0  ...         0.0   \n",
       "4        0.0        1.0          0.0          1.0  ...         1.0   \n",
       "\n",
       "   NIHS_5aL_out  NIHS_5bR_out  NIHS_6aL_out  NIHS_6bR_out  NIHS_7_out  \\\n",
       "0           1.0           0.0           1.0           0.0         0.0   \n",
       "1           1.0           0.0           1.0           0.0         0.0   \n",
       "2           0.0           4.0           0.0           3.0         0.0   \n",
       "3           0.0           1.0           0.0           1.0         0.0   \n",
       "4           0.0           1.0           0.0           1.0         0.0   \n",
       "\n",
       "   NIHS_8_out  NIHS_9_out  NIHS_10_out  NIHS_11_out  \n",
       "0         1.0         0.0          0.0          0.0  \n",
       "1         1.0         0.0          0.0          0.0  \n",
       "2         2.0         2.0          1.0          2.0  \n",
       "3         0.0         1.0          1.0          0.0  \n",
       "4         0.0         0.0          1.0          0.0  \n",
       "\n",
       "[5 rows x 32 columns]"
      ]
     },
     "execution_count": 2,
     "metadata": {},
     "output_type": "execute_result"
    }
   ],
   "source": [
    "csv_path = os.path.join(\"..\", \"data\",\"TSR_2018_raw\", \"CASEDNIHS(denormalized).csv\")\n",
    "cdn = pd.read_csv(csv_path)\n",
    "cdn.head()"
   ]
  },
  {
   "cell_type": "code",
   "execution_count": 3,
   "metadata": {},
   "outputs": [
    {
     "data": {
      "text/html": [
       "<div>\n",
       "<style scoped>\n",
       "    .dataframe tbody tr th:only-of-type {\n",
       "        vertical-align: middle;\n",
       "    }\n",
       "\n",
       "    .dataframe tbody tr th {\n",
       "        vertical-align: top;\n",
       "    }\n",
       "\n",
       "    .dataframe thead th {\n",
       "        text-align: right;\n",
       "    }\n",
       "</style>\n",
       "<table border=\"1\" class=\"dataframe\">\n",
       "  <thead>\n",
       "    <tr style=\"text-align: right;\">\n",
       "      <th></th>\n",
       "      <th>ICASE_ID</th>\n",
       "      <th>NIHS_1a_in</th>\n",
       "      <th>NIHS_1b_in</th>\n",
       "      <th>NIHS_1c_in</th>\n",
       "      <th>NIHS_2_in</th>\n",
       "      <th>NIHS_3_in</th>\n",
       "      <th>NIHS_4_in</th>\n",
       "      <th>NIHS_5aL_in</th>\n",
       "      <th>NIHS_5bR_in</th>\n",
       "      <th>NIHS_6aL_in</th>\n",
       "      <th>...</th>\n",
       "      <th>NIHS_4_out</th>\n",
       "      <th>NIHS_5aL_out</th>\n",
       "      <th>NIHS_5bR_out</th>\n",
       "      <th>NIHS_6aL_out</th>\n",
       "      <th>NIHS_6bR_out</th>\n",
       "      <th>NIHS_7_out</th>\n",
       "      <th>NIHS_8_out</th>\n",
       "      <th>NIHS_9_out</th>\n",
       "      <th>NIHS_10_out</th>\n",
       "      <th>NIHS_11_out</th>\n",
       "    </tr>\n",
       "  </thead>\n",
       "  <tbody>\n",
       "    <tr>\n",
       "      <th>count</th>\n",
       "      <td>138802.000000</td>\n",
       "      <td>138790.000000</td>\n",
       "      <td>138601.000000</td>\n",
       "      <td>138550.000000</td>\n",
       "      <td>138527.000000</td>\n",
       "      <td>138457.000000</td>\n",
       "      <td>138452.000000</td>\n",
       "      <td>138432.000000</td>\n",
       "      <td>138430.000000</td>\n",
       "      <td>138423.000000</td>\n",
       "      <td>...</td>\n",
       "      <td>138452.000000</td>\n",
       "      <td>138432.000000</td>\n",
       "      <td>138430.000000</td>\n",
       "      <td>138423.000000</td>\n",
       "      <td>138411.000000</td>\n",
       "      <td>137690.000000</td>\n",
       "      <td>137684.000000</td>\n",
       "      <td>137623.000000</td>\n",
       "      <td>137446.000000</td>\n",
       "      <td>137430.000000</td>\n",
       "    </tr>\n",
       "    <tr>\n",
       "      <th>mean</th>\n",
       "      <td>61948.221027</td>\n",
       "      <td>0.370999</td>\n",
       "      <td>0.470949</td>\n",
       "      <td>0.338571</td>\n",
       "      <td>0.271860</td>\n",
       "      <td>0.328622</td>\n",
       "      <td>0.707335</td>\n",
       "      <td>0.919953</td>\n",
       "      <td>0.913256</td>\n",
       "      <td>1.003973</td>\n",
       "      <td>...</td>\n",
       "      <td>0.587128</td>\n",
       "      <td>0.731601</td>\n",
       "      <td>0.735830</td>\n",
       "      <td>0.814453</td>\n",
       "      <td>0.811236</td>\n",
       "      <td>0.154913</td>\n",
       "      <td>0.305780</td>\n",
       "      <td>0.416587</td>\n",
       "      <td>2.324375</td>\n",
       "      <td>0.110536</td>\n",
       "    </tr>\n",
       "    <tr>\n",
       "      <th>std</th>\n",
       "      <td>36861.047551</td>\n",
       "      <td>0.821896</td>\n",
       "      <td>0.841987</td>\n",
       "      <td>0.717998</td>\n",
       "      <td>0.613471</td>\n",
       "      <td>0.855983</td>\n",
       "      <td>0.872527</td>\n",
       "      <td>1.906123</td>\n",
       "      <td>2.013156</td>\n",
       "      <td>3.140019</td>\n",
       "      <td>...</td>\n",
       "      <td>0.784167</td>\n",
       "      <td>1.785628</td>\n",
       "      <td>1.870221</td>\n",
       "      <td>3.121372</td>\n",
       "      <td>3.132568</td>\n",
       "      <td>0.873162</td>\n",
       "      <td>0.555703</td>\n",
       "      <td>1.127253</td>\n",
       "      <td>12.972078</td>\n",
       "      <td>0.708163</td>\n",
       "    </tr>\n",
       "    <tr>\n",
       "      <th>min</th>\n",
       "      <td>1.000000</td>\n",
       "      <td>0.000000</td>\n",
       "      <td>0.000000</td>\n",
       "      <td>0.000000</td>\n",
       "      <td>0.000000</td>\n",
       "      <td>0.000000</td>\n",
       "      <td>0.000000</td>\n",
       "      <td>0.000000</td>\n",
       "      <td>0.000000</td>\n",
       "      <td>0.000000</td>\n",
       "      <td>...</td>\n",
       "      <td>0.000000</td>\n",
       "      <td>0.000000</td>\n",
       "      <td>0.000000</td>\n",
       "      <td>0.000000</td>\n",
       "      <td>0.000000</td>\n",
       "      <td>0.000000</td>\n",
       "      <td>0.000000</td>\n",
       "      <td>0.000000</td>\n",
       "      <td>0.000000</td>\n",
       "      <td>0.000000</td>\n",
       "    </tr>\n",
       "    <tr>\n",
       "      <th>25%</th>\n",
       "      <td>29992.250000</td>\n",
       "      <td>0.000000</td>\n",
       "      <td>0.000000</td>\n",
       "      <td>0.000000</td>\n",
       "      <td>0.000000</td>\n",
       "      <td>0.000000</td>\n",
       "      <td>0.000000</td>\n",
       "      <td>0.000000</td>\n",
       "      <td>0.000000</td>\n",
       "      <td>0.000000</td>\n",
       "      <td>...</td>\n",
       "      <td>0.000000</td>\n",
       "      <td>0.000000</td>\n",
       "      <td>0.000000</td>\n",
       "      <td>0.000000</td>\n",
       "      <td>0.000000</td>\n",
       "      <td>0.000000</td>\n",
       "      <td>0.000000</td>\n",
       "      <td>0.000000</td>\n",
       "      <td>0.000000</td>\n",
       "      <td>0.000000</td>\n",
       "    </tr>\n",
       "    <tr>\n",
       "      <th>50%</th>\n",
       "      <td>61172.500000</td>\n",
       "      <td>0.000000</td>\n",
       "      <td>0.000000</td>\n",
       "      <td>0.000000</td>\n",
       "      <td>0.000000</td>\n",
       "      <td>0.000000</td>\n",
       "      <td>0.000000</td>\n",
       "      <td>0.000000</td>\n",
       "      <td>0.000000</td>\n",
       "      <td>0.000000</td>\n",
       "      <td>...</td>\n",
       "      <td>0.000000</td>\n",
       "      <td>0.000000</td>\n",
       "      <td>0.000000</td>\n",
       "      <td>0.000000</td>\n",
       "      <td>0.000000</td>\n",
       "      <td>0.000000</td>\n",
       "      <td>0.000000</td>\n",
       "      <td>0.000000</td>\n",
       "      <td>0.000000</td>\n",
       "      <td>0.000000</td>\n",
       "    </tr>\n",
       "    <tr>\n",
       "      <th>75%</th>\n",
       "      <td>93644.750000</td>\n",
       "      <td>0.000000</td>\n",
       "      <td>1.000000</td>\n",
       "      <td>0.000000</td>\n",
       "      <td>0.000000</td>\n",
       "      <td>0.000000</td>\n",
       "      <td>1.000000</td>\n",
       "      <td>1.000000</td>\n",
       "      <td>1.000000</td>\n",
       "      <td>1.000000</td>\n",
       "      <td>...</td>\n",
       "      <td>1.000000</td>\n",
       "      <td>1.000000</td>\n",
       "      <td>1.000000</td>\n",
       "      <td>1.000000</td>\n",
       "      <td>1.000000</td>\n",
       "      <td>0.000000</td>\n",
       "      <td>1.000000</td>\n",
       "      <td>0.000000</td>\n",
       "      <td>1.000000</td>\n",
       "      <td>0.000000</td>\n",
       "    </tr>\n",
       "    <tr>\n",
       "      <th>max</th>\n",
       "      <td>127958.000000</td>\n",
       "      <td>56.000000</td>\n",
       "      <td>96.000000</td>\n",
       "      <td>14.000000</td>\n",
       "      <td>9.000000</td>\n",
       "      <td>96.000000</td>\n",
       "      <td>96.000000</td>\n",
       "      <td>96.000000</td>\n",
       "      <td>96.000000</td>\n",
       "      <td>96.000000</td>\n",
       "      <td>...</td>\n",
       "      <td>22.000000</td>\n",
       "      <td>96.000000</td>\n",
       "      <td>96.000000</td>\n",
       "      <td>96.000000</td>\n",
       "      <td>99.000000</td>\n",
       "      <td>96.000000</td>\n",
       "      <td>9.000000</td>\n",
       "      <td>96.000000</td>\n",
       "      <td>96.000000</td>\n",
       "      <td>96.000000</td>\n",
       "    </tr>\n",
       "  </tbody>\n",
       "</table>\n",
       "<p>8 rows × 31 columns</p>\n",
       "</div>"
      ],
      "text/plain": [
       "            ICASE_ID     NIHS_1a_in     NIHS_1b_in     NIHS_1c_in  \\\n",
       "count  138802.000000  138790.000000  138601.000000  138550.000000   \n",
       "mean    61948.221027       0.370999       0.470949       0.338571   \n",
       "std     36861.047551       0.821896       0.841987       0.717998   \n",
       "min         1.000000       0.000000       0.000000       0.000000   \n",
       "25%     29992.250000       0.000000       0.000000       0.000000   \n",
       "50%     61172.500000       0.000000       0.000000       0.000000   \n",
       "75%     93644.750000       0.000000       1.000000       0.000000   \n",
       "max    127958.000000      56.000000      96.000000      14.000000   \n",
       "\n",
       "           NIHS_2_in      NIHS_3_in      NIHS_4_in    NIHS_5aL_in  \\\n",
       "count  138527.000000  138457.000000  138452.000000  138432.000000   \n",
       "mean        0.271860       0.328622       0.707335       0.919953   \n",
       "std         0.613471       0.855983       0.872527       1.906123   \n",
       "min         0.000000       0.000000       0.000000       0.000000   \n",
       "25%         0.000000       0.000000       0.000000       0.000000   \n",
       "50%         0.000000       0.000000       0.000000       0.000000   \n",
       "75%         0.000000       0.000000       1.000000       1.000000   \n",
       "max         9.000000      96.000000      96.000000      96.000000   \n",
       "\n",
       "         NIHS_5bR_in    NIHS_6aL_in  ...     NIHS_4_out   NIHS_5aL_out  \\\n",
       "count  138430.000000  138423.000000  ...  138452.000000  138432.000000   \n",
       "mean        0.913256       1.003973  ...       0.587128       0.731601   \n",
       "std         2.013156       3.140019  ...       0.784167       1.785628   \n",
       "min         0.000000       0.000000  ...       0.000000       0.000000   \n",
       "25%         0.000000       0.000000  ...       0.000000       0.000000   \n",
       "50%         0.000000       0.000000  ...       0.000000       0.000000   \n",
       "75%         1.000000       1.000000  ...       1.000000       1.000000   \n",
       "max        96.000000      96.000000  ...      22.000000      96.000000   \n",
       "\n",
       "        NIHS_5bR_out   NIHS_6aL_out   NIHS_6bR_out     NIHS_7_out  \\\n",
       "count  138430.000000  138423.000000  138411.000000  137690.000000   \n",
       "mean        0.735830       0.814453       0.811236       0.154913   \n",
       "std         1.870221       3.121372       3.132568       0.873162   \n",
       "min         0.000000       0.000000       0.000000       0.000000   \n",
       "25%         0.000000       0.000000       0.000000       0.000000   \n",
       "50%         0.000000       0.000000       0.000000       0.000000   \n",
       "75%         1.000000       1.000000       1.000000       0.000000   \n",
       "max        96.000000      96.000000      99.000000      96.000000   \n",
       "\n",
       "          NIHS_8_out     NIHS_9_out    NIHS_10_out    NIHS_11_out  \n",
       "count  137684.000000  137623.000000  137446.000000  137430.000000  \n",
       "mean        0.305780       0.416587       2.324375       0.110536  \n",
       "std         0.555703       1.127253      12.972078       0.708163  \n",
       "min         0.000000       0.000000       0.000000       0.000000  \n",
       "25%         0.000000       0.000000       0.000000       0.000000  \n",
       "50%         0.000000       0.000000       0.000000       0.000000  \n",
       "75%         1.000000       0.000000       1.000000       0.000000  \n",
       "max         9.000000      96.000000      96.000000      96.000000  \n",
       "\n",
       "[8 rows x 31 columns]"
      ]
     },
     "execution_count": 3,
     "metadata": {},
     "output_type": "execute_result"
    }
   ],
   "source": [
    "cdn.describe()"
   ]
  },
  {
   "cell_type": "markdown",
   "metadata": {},
   "source": [
    "# NIHS_1a_in"
   ]
  },
  {
   "cell_type": "code",
   "execution_count": 4,
   "metadata": {},
   "outputs": [
    {
     "name": "stdout",
     "output_type": "stream",
     "text": [
      "0.0     0.783029\n",
      "1.0     0.108774\n",
      "2.0     0.063299\n",
      "3.0     0.044754\n",
      "9.0     0.000014\n",
      "43.0    0.000007\n",
      "56.0    0.000007\n",
      "6.0     0.000007\n",
      "20.0    0.000007\n",
      "10.0    0.000007\n",
      "32.0    0.000007\n",
      "Name: NIHS_1a_in, dtype: float64\n"
     ]
    },
    {
     "name": "stderr",
     "output_type": "stream",
     "text": [
      "C:\\Users\\Jacky C\\Anaconda3\\lib\\site-packages\\seaborn\\_decorators.py:36: FutureWarning: Pass the following variable as a keyword arg: x. From version 0.12, the only valid positional argument will be `data`, and passing other arguments without an explicit keyword will result in an error or misinterpretation.\n",
      "  warnings.warn(\n"
     ]
    },
    {
     "data": {
      "image/png": "[encoded data removed]",
      "text/plain": [
       "<Figure size 432x288 with 1 Axes>"
      ]
     },
     "metadata": {
      "needs_background": "light"
     },
     "output_type": "display_data"
    }
   ],
   "source": [
    "nihs1ain = cdn.loc[:,\"NIHS_1a_in\"]\n",
    "#print(nihs1ain)\n",
    "print(nihs1ain.value_counts() / len(nihs1ain))\n",
    "#print(nihs1ain.describe())\n",
    "\n",
    "sns.countplot(nihs1ain)\n",
    "plt.title(\"NIHS_1a_in - Barplot\")\n",
    "plt.xlabel('NIHS_1a_in')\n",
    "plt.ylabel('Number', rotation=0)\n",
    "plt.show()"
   ]
  },
  {
   "cell_type": "markdown",
   "metadata": {},
   "source": [
    "# NIHS_1b_in"
   ]
  },
  {
   "cell_type": "code",
   "execution_count": 5,
   "metadata": {},
   "outputs": [
    {
     "name": "stdout",
     "output_type": "stream",
     "text": [
      "0.0     0.723419\n",
      "2.0     0.193974\n",
      "1.0     0.081072\n",
      "3.0     0.000036\n",
      "9.0     0.000029\n",
      "21.0    0.000007\n",
      "5.0     0.000007\n",
      "96.0    0.000007\n",
      "Name: NIHS_1b_in, dtype: float64\n"
     ]
    },
    {
     "name": "stderr",
     "output_type": "stream",
     "text": [
      "C:\\Users\\Jacky C\\Anaconda3\\lib\\site-packages\\seaborn\\_decorators.py:36: FutureWarning: Pass the following variable as a keyword arg: x. From version 0.12, the only valid positional argument will be `data`, and passing other arguments without an explicit keyword will result in an error or misinterpretation.\n",
      "  warnings.warn(\n"
     ]
    },
    {
     "data": {
      "image/png": "[encoded data removed]",
      "text/plain": [
       "<Figure size 432x288 with 1 Axes>"
      ]
     },
     "metadata": {
      "needs_background": "light"
     },
     "output_type": "display_data"
    }
   ],
   "source": [
    "nihs1bin = cdn.loc[:,\"NIHS_1b_in\"]\n",
    "#print(nihs1bin)\n",
    "print(nihs1bin.value_counts() / len(nihs1bin))\n",
    "#print(nihs1bin.describe())\n",
    "\n",
    "sns.countplot(nihs1bin)\n",
    "plt.title(\"NIHS_1b_in - Barplot\")\n",
    "plt.xlabel('NIHS_1b_in')\n",
    "plt.ylabel('Number', rotation=0)\n",
    "plt.show()"
   ]
  },
  {
   "cell_type": "markdown",
   "metadata": {},
   "source": [
    "# NIHS_1c_in"
   ]
  },
  {
   "cell_type": "code",
   "execution_count": 6,
   "metadata": {},
   "outputs": [
    {
     "name": "stdout",
     "output_type": "stream",
     "text": [
      "0.0     0.804563\n",
      "2.0     0.144025\n",
      "1.0     0.049545\n",
      "9.0     0.000022\n",
      "3.0     0.000022\n",
      "14.0    0.000007\n",
      "Name: NIHS_1c_in, dtype: float64\n"
     ]
    },
    {
     "name": "stderr",
     "output_type": "stream",
     "text": [
      "C:\\Users\\Jacky C\\Anaconda3\\lib\\site-packages\\seaborn\\_decorators.py:36: FutureWarning: Pass the following variable as a keyword arg: x. From version 0.12, the only valid positional argument will be `data`, and passing other arguments without an explicit keyword will result in an error or misinterpretation.\n",
      "  warnings.warn(\n"
     ]
    },
    {
     "data": {
      "image/png": "[encoded data removed]",
      "text/plain": [
       "<Figure size 432x288 with 1 Axes>"
      ]
     },
     "metadata": {
      "needs_background": "light"
     },
     "output_type": "display_data"
    }
   ],
   "source": [
    "nihs1cin = cdn.loc[:,\"NIHS_1c_in\"]\n",
    "#print(nihs1cin)\n",
    "print(nihs1cin.value_counts() / len(nihs1cin))\n",
    "#print(nihs1cin.describe())\n",
    "\n",
    "sns.countplot(nihs1cin)\n",
    "plt.title(\"NIHS_1c_in - Barplot\")\n",
    "plt.xlabel('NIHS_1c_in')\n",
    "plt.ylabel('Number', rotation=0)\n",
    "plt.show()"
   ]
  },
  {
   "cell_type": "markdown",
   "metadata": {},
   "source": [
    "# NIHS_2_in"
   ]
  },
  {
   "cell_type": "code",
   "execution_count": 7,
   "metadata": {},
   "outputs": [
    {
     "name": "stdout",
     "output_type": "stream",
     "text": [
      "0.0    0.814880\n",
      "1.0    0.095337\n",
      "2.0    0.087549\n",
      "3.0    0.000231\n",
      "9.0    0.000022\n",
      "Name: NIHS_2_in, dtype: float64\n"
     ]
    },
    {
     "name": "stderr",
     "output_type": "stream",
     "text": [
      "C:\\Users\\Jacky C\\Anaconda3\\lib\\site-packages\\seaborn\\_decorators.py:36: FutureWarning: Pass the following variable as a keyword arg: x. From version 0.12, the only valid positional argument will be `data`, and passing other arguments without an explicit keyword will result in an error or misinterpretation.\n",
      "  warnings.warn(\n"
     ]
    },
    {
     "data": {
      "image/png": "[encoded data removed]",
      "text/plain": [
       "<Figure size 432x288 with 1 Axes>"
      ]
     },
     "metadata": {
      "needs_background": "light"
     },
     "output_type": "display_data"
    }
   ],
   "source": [
    "nihs2in = cdn.loc[:,\"NIHS_2_in\"]\n",
    "#print(nihs2in)\n",
    "print(nihs2in.value_counts() / len(nihs2in))\n",
    "#print(nihs2in.describe())\n",
    "\n",
    "sns.countplot(nihs2in)\n",
    "plt.title(\"NIHS_2_in - Barplot\")\n",
    "plt.xlabel('NIHS_2_in')\n",
    "plt.ylabel('Number', rotation=0)\n",
    "plt.show()"
   ]
  },
  {
   "cell_type": "markdown",
   "metadata": {},
   "source": [
    "# NIHS_3_in"
   ]
  },
  {
   "cell_type": "code",
   "execution_count": 8,
   "metadata": {},
   "outputs": [
    {
     "name": "stderr",
     "output_type": "stream",
     "text": [
      "C:\\Users\\Jacky C\\Anaconda3\\lib\\site-packages\\seaborn\\_decorators.py:36: FutureWarning: Pass the following variable as a keyword arg: x. From version 0.12, the only valid positional argument will be `data`, and passing other arguments without an explicit keyword will result in an error or misinterpretation.\n",
      "  warnings.warn(\n"
     ]
    },
    {
     "name": "stdout",
     "output_type": "stream",
     "text": [
      "0.0     0.823814\n",
      "2.0     0.080590\n",
      "1.0     0.057139\n",
      "3.0     0.035907\n",
      "9.0     0.000036\n",
      "96.0    0.000014\n",
      "4.0     0.000014\n",
      "Name: NIHS_3_in, dtype: float64\n"
     ]
    },
    {
     "data": {
      "image/png": "[encoded data removed]",
      "text/plain": [
       "<Figure size 432x288 with 1 Axes>"
      ]
     },
     "metadata": {
      "needs_background": "light"
     },
     "output_type": "display_data"
    }
   ],
   "source": [
    "nihs3in = cdn.loc[:,\"NIHS_3_in\"]\n",
    "#print(nihs3in)\n",
    "print(nihs3in.value_counts() / len(nihs3in))\n",
    "#print(nihs3in.describe())\n",
    "\n",
    "sns.countplot(nihs3in)\n",
    "plt.title(\"NIHS_3_in - Barplot\")\n",
    "plt.xlabel('NIHS_3_in')\n",
    "plt.ylabel('Number', rotation=0)\n",
    "plt.show()"
   ]
  },
  {
   "cell_type": "markdown",
   "metadata": {},
   "source": [
    "# NIHS_4_in"
   ]
  },
  {
   "cell_type": "code",
   "execution_count": 9,
   "metadata": {},
   "outputs": [
    {
     "name": "stderr",
     "output_type": "stream",
     "text": [
      "C:\\Users\\Jacky C\\Anaconda3\\lib\\site-packages\\seaborn\\_decorators.py:36: FutureWarning: Pass the following variable as a keyword arg: x. From version 0.12, the only valid positional argument will be `data`, and passing other arguments without an explicit keyword will result in an error or misinterpretation.\n",
      "  warnings.warn(\n"
     ]
    },
    {
     "name": "stdout",
     "output_type": "stream",
     "text": [
      "0.0     0.503242\n",
      "1.0     0.316062\n",
      "2.0     0.145877\n",
      "3.0     0.032226\n",
      "4.0     0.000043\n",
      "9.0     0.000022\n",
      "96.0    0.000007\n",
      "Name: NIHS_4_in, dtype: float64\n"
     ]
    },
    {
     "data": {
      "image/png": "[encoded data removed]",
      "text/plain": [
       "<Figure size 432x288 with 1 Axes>"
      ]
     },
     "metadata": {
      "needs_background": "light"
     },
     "output_type": "display_data"
    }
   ],
   "source": [
    "nihs4in = cdn.loc[:,\"NIHS_4_in\"]\n",
    "#print(nihs4in)\n",
    "print(nihs4in.value_counts() / len(nihs4in))\n",
    "#print(nihs4in.describe())\n",
    "\n",
    "sns.countplot(nihs4in)\n",
    "plt.title(\"NIHS_4_in - Barplot\")\n",
    "plt.xlabel('NIHS_4_in')\n",
    "plt.ylabel('Number', rotation=0)\n",
    "plt.show()"
   ]
  },
  {
   "cell_type": "markdown",
   "metadata": {},
   "source": [
    "# NIHS_5aL_in"
   ]
  },
  {
   "cell_type": "code",
   "execution_count": 10,
   "metadata": {},
   "outputs": [
    {
     "name": "stderr",
     "output_type": "stream",
     "text": [
      "C:\\Users\\Jacky C\\Anaconda3\\lib\\site-packages\\seaborn\\_decorators.py:36: FutureWarning: Pass the following variable as a keyword arg: x. From version 0.12, the only valid positional argument will be `data`, and passing other arguments without an explicit keyword will result in an error or misinterpretation.\n",
      "  warnings.warn(\n"
     ]
    },
    {
     "name": "stdout",
     "output_type": "stream",
     "text": [
      "0.0     0.584804\n",
      "1.0     0.183931\n",
      "4.0     0.099127\n",
      "2.0     0.071044\n",
      "3.0     0.058155\n",
      "96.0    0.000202\n",
      "9.0     0.000050\n",
      "44.0    0.000007\n",
      "11.0    0.000007\n",
      "41.0    0.000007\n",
      "Name: NIHS_5aL_in, dtype: float64\n"
     ]
    },
    {
     "data": {
      "image/png": "[encoded data removed]",
      "text/plain": [
       "<Figure size 432x288 with 1 Axes>"
      ]
     },
     "metadata": {
      "needs_background": "light"
     },
     "output_type": "display_data"
    }
   ],
   "source": [
    "nihs5alin = cdn.loc[:,\"NIHS_5aL_in\"]\n",
    "#print(nihs5alin)\n",
    "print(nihs5alin.value_counts() / len(nihs5alin))\n",
    "#print(nihs5alin.describe())\n",
    "\n",
    "sns.countplot(nihs5alin)\n",
    "plt.title(\"NIHS_5aL_in - Barplot\")\n",
    "plt.xlabel('NIHS_5aL_in')\n",
    "plt.ylabel('Number', rotation=0)\n",
    "plt.show()"
   ]
  },
  {
   "cell_type": "markdown",
   "metadata": {},
   "source": [
    "# NIHS_5bR_in"
   ]
  },
  {
   "cell_type": "code",
   "execution_count": 11,
   "metadata": {},
   "outputs": [
    {
     "name": "stderr",
     "output_type": "stream",
     "text": [
      "C:\\Users\\Jacky C\\Anaconda3\\lib\\site-packages\\seaborn\\_decorators.py:36: FutureWarning: Pass the following variable as a keyword arg: x. From version 0.12, the only valid positional argument will be `data`, and passing other arguments without an explicit keyword will result in an error or misinterpretation.\n",
      "  warnings.warn(\n"
     ]
    },
    {
     "name": "stdout",
     "output_type": "stream",
     "text": [
      "0.0     0.587989\n",
      "1.0     0.186748\n",
      "4.0     0.097751\n",
      "2.0     0.065237\n",
      "3.0     0.059279\n",
      "96.0    0.000252\n",
      "9.0     0.000050\n",
      "6.0     0.000014\n",
      "Name: NIHS_5bR_in, dtype: float64\n"
     ]
    },
    {
     "data": {
      "image/png": "[encoded data removed]",
      "text/plain": [
       "<Figure size 432x288 with 1 Axes>"
      ]
     },
     "metadata": {
      "needs_background": "light"
     },
     "output_type": "display_data"
    }
   ],
   "source": [
    "nihs5brin = cdn.loc[:,\"NIHS_5bR_in\"]\n",
    "#print(nihs5brin)\n",
    "print(nihs5brin.value_counts() / len(nihs5brin))\n",
    "#print(nihs5brin.describe())\n",
    "\n",
    "sns.countplot(nihs5brin)\n",
    "plt.title(\"NIHS_5bR_in - Barplot\")\n",
    "plt.xlabel('NIHS_5bR_in')\n",
    "plt.ylabel('Number', rotation=0)\n",
    "plt.show()"
   ]
  },
  {
   "cell_type": "markdown",
   "metadata": {},
   "source": [
    "# NIHS_6aL_in"
   ]
  },
  {
   "cell_type": "code",
   "execution_count": 12,
   "metadata": {},
   "outputs": [
    {
     "name": "stderr",
     "output_type": "stream",
     "text": [
      "C:\\Users\\Jacky C\\Anaconda3\\lib\\site-packages\\seaborn\\_decorators.py:36: FutureWarning: Pass the following variable as a keyword arg: x. From version 0.12, the only valid positional argument will be `data`, and passing other arguments without an explicit keyword will result in an error or misinterpretation.\n",
      "  warnings.warn(\n"
     ]
    },
    {
     "name": "stdout",
     "output_type": "stream",
     "text": [
      "0.0     0.564091\n",
      "1.0     0.190595\n",
      "2.0     0.087016\n",
      "4.0     0.085237\n",
      "3.0     0.069279\n",
      "96.0    0.000901\n",
      "9.0     0.000144\n",
      "10.0    0.000007\n",
      "Name: NIHS_6aL_in, dtype: float64\n"
     ]
    },
    {
     "data": {
      "image/png": "[encoded data removed]",
      "text/plain": [
       "<Figure size 432x288 with 1 Axes>"
      ]
     },
     "metadata": {
      "needs_background": "light"
     },
     "output_type": "display_data"
    }
   ],
   "source": [
    "nihs6alin = cdn.loc[:,\"NIHS_6aL_in\"]\n",
    "#print(nihs6alin)\n",
    "print(nihs6alin.value_counts() / len(nihs6alin))\n",
    "#print(nihs6alin.describe())\n",
    "\n",
    "sns.countplot(nihs6alin)\n",
    "plt.title(\"NIHS_6aL_in - Barplot\")\n",
    "plt.xlabel('NIHS_6aL_in')\n",
    "plt.ylabel('Number', rotation=0)\n",
    "plt.show()"
   ]
  },
  {
   "cell_type": "markdown",
   "metadata": {},
   "source": [
    "# NIHS_6bR_in"
   ]
  },
  {
   "cell_type": "code",
   "execution_count": 13,
   "metadata": {},
   "outputs": [
    {
     "name": "stderr",
     "output_type": "stream",
     "text": [
      "C:\\Users\\Jacky C\\Anaconda3\\lib\\site-packages\\seaborn\\_decorators.py:36: FutureWarning: Pass the following variable as a keyword arg: x. From version 0.12, the only valid positional argument will be `data`, and passing other arguments without an explicit keyword will result in an error or misinterpretation.\n",
      "  warnings.warn(\n"
     ]
    },
    {
     "name": "stdout",
     "output_type": "stream",
     "text": [
      "0.0     0.575359\n",
      "1.0     0.183873\n",
      "4.0     0.086022\n",
      "2.0     0.079739\n",
      "3.0     0.071015\n",
      "96.0    0.000958\n",
      "9.0     0.000180\n",
      "6.0     0.000007\n",
      "44.0    0.000007\n",
      "41.0    0.000007\n",
      "14.0    0.000007\n",
      "99.0    0.000007\n",
      "Name: NIHS_6bR_in, dtype: float64\n"
     ]
    },
    {
     "data": {
      "image/png": "[encoded data removed]",
      "text/plain": [
       "<Figure size 432x288 with 1 Axes>"
      ]
     },
     "metadata": {
      "needs_background": "light"
     },
     "output_type": "display_data"
    }
   ],
   "source": [
    "nihs6brin = cdn.loc[:,\"NIHS_6bR_in\"]\n",
    "#print(nihs6brin)\n",
    "print(nihs6brin.value_counts() / len(nihs6brin))\n",
    "#print(nihs6brin.describe())\n",
    "\n",
    "sns.countplot(nihs6brin)\n",
    "plt.title(\"NIHS_6bR_in - Barplot\")\n",
    "plt.xlabel('NIHS_6bR_in')\n",
    "plt.ylabel('Number', rotation=0)\n",
    "plt.show()"
   ]
  },
  {
   "cell_type": "markdown",
   "metadata": {},
   "source": [
    "# NIHS_7_in"
   ]
  },
  {
   "cell_type": "code",
   "execution_count": 14,
   "metadata": {},
   "outputs": [
    {
     "name": "stderr",
     "output_type": "stream",
     "text": [
      "C:\\Users\\Jacky C\\Anaconda3\\lib\\site-packages\\seaborn\\_decorators.py:36: FutureWarning: Pass the following variable as a keyword arg: x. From version 0.12, the only valid positional argument will be `data`, and passing other arguments without an explicit keyword will result in an error or misinterpretation.\n",
      "  warnings.warn(\n"
     ]
    },
    {
     "name": "stdout",
     "output_type": "stream",
     "text": [
      "0.0     0.834318\n",
      "1.0     0.095669\n",
      "2.0     0.061498\n",
      "9.0     0.000353\n",
      "96.0    0.000065\n",
      "3.0     0.000036\n",
      "4.0     0.000022\n",
      "20.0    0.000014\n",
      "30.0    0.000007\n",
      "10.0    0.000007\n",
      "Name: NIHS_7_in, dtype: float64\n"
     ]
    },
    {
     "data": {
      "image/png": "[encoded data removed]",
      "text/plain": [
       "<Figure size 432x288 with 1 Axes>"
      ]
     },
     "metadata": {
      "needs_background": "light"
     },
     "output_type": "display_data"
    }
   ],
   "source": [
    "nihs7in = cdn.loc[:,\"NIHS_7_in\"]\n",
    "#print(nihs7in)\n",
    "print(nihs7in.value_counts() / len(nihs7in))\n",
    "#print(nihs7in.describe())\n",
    "\n",
    "sns.countplot(nihs7in)\n",
    "plt.title(\"NIHS_7_in - Barplot\")\n",
    "plt.xlabel('NIHS_7_in')\n",
    "plt.ylabel('Number', rotation=0)\n",
    "plt.show()"
   ]
  },
  {
   "cell_type": "markdown",
   "metadata": {},
   "source": [
    "# NIHS_8_in"
   ]
  },
  {
   "cell_type": "code",
   "execution_count": 15,
   "metadata": {},
   "outputs": [
    {
     "name": "stdout",
     "output_type": "stream",
     "text": [
      "0.0     0.658787\n",
      "1.0     0.264485\n",
      "2.0     0.068508\n",
      "3.0     0.000108\n",
      "9.0     0.000029\n",
      "4.0     0.000014\n",
      "96.0    0.000007\n",
      "51.0    0.000007\n",
      "Name: NIHS_8_in, dtype: float64\n"
     ]
    },
    {
     "name": "stderr",
     "output_type": "stream",
     "text": [
      "C:\\Users\\Jacky C\\Anaconda3\\lib\\site-packages\\seaborn\\_decorators.py:36: FutureWarning: Pass the following variable as a keyword arg: x. From version 0.12, the only valid positional argument will be `data`, and passing other arguments without an explicit keyword will result in an error or misinterpretation.\n",
      "  warnings.warn(\n"
     ]
    },
    {
     "data": {
      "image/png": "[encoded data removed]",
      "text/plain": [
       "<Figure size 432x288 with 1 Axes>"
      ]
     },
     "metadata": {
      "needs_background": "light"
     },
     "output_type": "display_data"
    }
   ],
   "source": [
    "nihs8in = cdn.loc[:,\"NIHS_8_in\"]\n",
    "#print(nihs8in)\n",
    "print(nihs8in.value_counts() / len(nihs8in))\n",
    "#print(nihs8in.describe())\n",
    "\n",
    "sns.countplot(nihs8in)\n",
    "plt.title(\"NIHS_8_in - Barplot\")\n",
    "plt.xlabel('NIHS_8_in')\n",
    "plt.ylabel('Number', rotation=0)\n",
    "plt.show()"
   ]
  },
  {
   "cell_type": "markdown",
   "metadata": {},
   "source": [
    "# NIHS_9_in"
   ]
  },
  {
   "cell_type": "code",
   "execution_count": 16,
   "metadata": {},
   "outputs": [
    {
     "name": "stdout",
     "output_type": "stream",
     "text": [
      "0.0     0.728030\n",
      "3.0     0.107102\n",
      "1.0     0.086151\n",
      "2.0     0.070107\n",
      "9.0     0.000072\n",
      "96.0    0.000036\n",
      "4.0     0.000007\n",
      "Name: NIHS_9_in, dtype: float64\n"
     ]
    },
    {
     "name": "stderr",
     "output_type": "stream",
     "text": [
      "C:\\Users\\Jacky C\\Anaconda3\\lib\\site-packages\\seaborn\\_decorators.py:36: FutureWarning: Pass the following variable as a keyword arg: x. From version 0.12, the only valid positional argument will be `data`, and passing other arguments without an explicit keyword will result in an error or misinterpretation.\n",
      "  warnings.warn(\n"
     ]
    },
    {
     "data": {
      "image/png": "[encoded data removed]",
      "text/plain": [
       "<Figure size 432x288 with 1 Axes>"
      ]
     },
     "metadata": {
      "needs_background": "light"
     },
     "output_type": "display_data"
    }
   ],
   "source": [
    "nihs9in = cdn.loc[:,\"NIHS_9_in\"]\n",
    "#print(nihs9in)\n",
    "print(nihs9in.value_counts() / len(nihs9in))\n",
    "#print(nihs9in.describe())\n",
    "\n",
    "sns.countplot(nihs9in)\n",
    "plt.title(\"NIHS_9_in - Barplot\")\n",
    "plt.xlabel('NIHS_9_in')\n",
    "plt.ylabel('Number', rotation=0)\n",
    "plt.show()"
   ]
  },
  {
   "cell_type": "markdown",
   "metadata": {},
   "source": [
    "# NIHS_10_in"
   ]
  },
  {
   "cell_type": "code",
   "execution_count": 17,
   "metadata": {},
   "outputs": [
    {
     "name": "stderr",
     "output_type": "stream",
     "text": [
      "C:\\Users\\Jacky C\\Anaconda3\\lib\\site-packages\\seaborn\\_decorators.py:36: FutureWarning: Pass the following variable as a keyword arg: x. From version 0.12, the only valid positional argument will be `data`, and passing other arguments without an explicit keyword will result in an error or misinterpretation.\n",
      "  warnings.warn(\n"
     ]
    },
    {
     "name": "stdout",
     "output_type": "stream",
     "text": [
      "0.0     0.490504\n",
      "1.0     0.326868\n",
      "2.0     0.144220\n",
      "96.0    0.025158\n",
      "9.0     0.003184\n",
      "3.0     0.000252\n",
      "11.0    0.000014\n",
      "10.0    0.000014\n",
      "6.0     0.000007\n",
      "4.0     0.000007\n",
      "Name: NIHS_10_in, dtype: float64\n"
     ]
    },
    {
     "data": {
      "image/png": "[encoded data removed]",
      "text/plain": [
       "<Figure size 432x288 with 1 Axes>"
      ]
     },
     "metadata": {
      "needs_background": "light"
     },
     "output_type": "display_data"
    }
   ],
   "source": [
    "nihs10in = cdn.loc[:,\"NIHS_10_in\"]\n",
    "#print(nihs10in)\n",
    "print(nihs10in.value_counts() / len(nihs10in))\n",
    "#print(nihs10in.describe())\n",
    "\n",
    "sns.countplot(nihs10in)\n",
    "plt.title(\"NIHS_10_in - Barplot\")\n",
    "plt.xlabel('NIHS_10_in')\n",
    "plt.ylabel('Number', rotation=0)\n",
    "plt.show()"
   ]
  },
  {
   "cell_type": "markdown",
   "metadata": {},
   "source": [
    "# NIHS_11_in"
   ]
  },
  {
   "cell_type": "code",
   "execution_count": 18,
   "metadata": {},
   "outputs": [
    {
     "name": "stderr",
     "output_type": "stream",
     "text": [
      "C:\\Users\\Jacky C\\Anaconda3\\lib\\site-packages\\seaborn\\_decorators.py:36: FutureWarning: Pass the following variable as a keyword arg: x. From version 0.12, the only valid positional argument will be `data`, and passing other arguments without an explicit keyword will result in an error or misinterpretation.\n",
      "  warnings.warn(\n"
     ]
    },
    {
     "name": "stdout",
     "output_type": "stream",
     "text": [
      "0.0     0.878943\n",
      "1.0     0.063753\n",
      "2.0     0.047254\n",
      "20.0    0.000043\n",
      "96.0    0.000036\n",
      "3.0     0.000036\n",
      "9.0     0.000029\n",
      "6.0     0.000007\n",
      "4.0     0.000007\n",
      "10.0    0.000007\n",
      "Name: NIHS_11_in, dtype: float64\n"
     ]
    },
    {
     "data": {
      "image/png": "[encoded data removed]",
      "text/plain": [
       "<Figure size 432x288 with 1 Axes>"
      ]
     },
     "metadata": {
      "needs_background": "light"
     },
     "output_type": "display_data"
    }
   ],
   "source": [
    "nihs11in = cdn.loc[:,\"NIHS_11_in\"]\n",
    "#print(nihs11in)\n",
    "print(nihs11in.value_counts() / len(nihs11in))\n",
    "#print(nihs11in.describe())\n",
    "\n",
    "sns.countplot(nihs11in)\n",
    "plt.title(\"NIHS_11_in - Barplot\")\n",
    "plt.xlabel('NIHS_11_in')\n",
    "plt.ylabel('Number', rotation=0)\n",
    "plt.show()"
   ]
  },
  {
   "cell_type": "markdown",
   "metadata": {},
   "source": [
    "# NIHS_1a_out"
   ]
  },
  {
   "cell_type": "code",
   "execution_count": 19,
   "metadata": {},
   "outputs": [
    {
     "name": "stdout",
     "output_type": "stream",
     "text": [
      "0.0     0.896147\n",
      "1.0     0.041642\n",
      "3.0     0.031693\n",
      "2.0     0.030374\n",
      "9.0     0.000022\n",
      "5.0     0.000007\n",
      "11.0    0.000007\n",
      "12.0    0.000007\n",
      "10.0    0.000007\n",
      "4.0     0.000007\n",
      "Name: NIHS_1a_out, dtype: float64\n"
     ]
    },
    {
     "name": "stderr",
     "output_type": "stream",
     "text": [
      "C:\\Users\\Jacky C\\Anaconda3\\lib\\site-packages\\seaborn\\_decorators.py:36: FutureWarning: Pass the following variable as a keyword arg: x. From version 0.12, the only valid positional argument will be `data`, and passing other arguments without an explicit keyword will result in an error or misinterpretation.\n",
      "  warnings.warn(\n"
     ]
    },
    {
     "data": {
      "image/png": "[encoded data removed]",
      "text/plain": [
       "<Figure size 432x288 with 1 Axes>"
      ]
     },
     "metadata": {
      "needs_background": "light"
     },
     "output_type": "display_data"
    }
   ],
   "source": [
    "nihs1aout = cdn.loc[:,\"NIHS_1a_out\"]\n",
    "#print(nihs1aout)\n",
    "print(nihs1aout.value_counts() / len(nihs1aout))\n",
    "#print(nihs1aout.describe())\n",
    "\n",
    "sns.countplot(nihs1aout)\n",
    "plt.title(\"NIHS_1a_out - Barplot\")\n",
    "plt.xlabel('NIHS_1a_out')\n",
    "plt.ylabel('Number', rotation=0)\n",
    "plt.show()"
   ]
  },
  {
   "cell_type": "markdown",
   "metadata": {},
   "source": [
    "# NIHS_1b_out"
   ]
  },
  {
   "cell_type": "code",
   "execution_count": 20,
   "metadata": {},
   "outputs": [
    {
     "name": "stderr",
     "output_type": "stream",
     "text": [
      "C:\\Users\\Jacky C\\Anaconda3\\lib\\site-packages\\seaborn\\_decorators.py:36: FutureWarning: Pass the following variable as a keyword arg: x. From version 0.12, the only valid positional argument will be `data`, and passing other arguments without an explicit keyword will result in an error or misinterpretation.\n",
      "  warnings.warn(\n"
     ]
    },
    {
     "name": "stdout",
     "output_type": "stream",
     "text": [
      "0.0     0.793951\n",
      "2.0     0.137397\n",
      "1.0     0.067096\n",
      "9.0     0.000050\n",
      "3.0     0.000043\n",
      "21.0    0.000007\n",
      "10.0    0.000007\n",
      "Name: NIHS_1b_out, dtype: float64\n"
     ]
    },
    {
     "data": {
      "image/png": "[encoded data removed]",
      "text/plain": [
       "<Figure size 432x288 with 1 Axes>"
      ]
     },
     "metadata": {
      "needs_background": "light"
     },
     "output_type": "display_data"
    }
   ],
   "source": [
    "nihs1bout = cdn.loc[:,\"NIHS_1b_out\"]\n",
    "#print(nihs1bout)\n",
    "print(nihs1bout.value_counts() / len(nihs1bout))\n",
    "#print(nihs1bout.describe())\n",
    "\n",
    "sns.countplot(nihs1bout)\n",
    "plt.title(\"NIHS_1b_out - Barplot\")\n",
    "plt.xlabel('NIHS_1b_out')\n",
    "plt.ylabel('Number', rotation=0)\n",
    "plt.show()"
   ]
  },
  {
   "cell_type": "markdown",
   "metadata": {},
   "source": [
    "# NIHS_1c_out"
   ]
  },
  {
   "cell_type": "code",
   "execution_count": 21,
   "metadata": {},
   "outputs": [
    {
     "name": "stderr",
     "output_type": "stream",
     "text": [
      "C:\\Users\\Jacky C\\Anaconda3\\lib\\site-packages\\seaborn\\_decorators.py:36: FutureWarning: Pass the following variable as a keyword arg: x. From version 0.12, the only valid positional argument will be `data`, and passing other arguments without an explicit keyword will result in an error or misinterpretation.\n",
      "  warnings.warn(\n"
     ]
    },
    {
     "name": "stdout",
     "output_type": "stream",
     "text": [
      "0.0    0.872495\n",
      "2.0    0.091483\n",
      "1.0    0.034157\n",
      "3.0    0.000029\n",
      "9.0    0.000022\n",
      "Name: NIHS_1c_out, dtype: float64\n"
     ]
    },
    {
     "data": {
      "image/png": "[encoded data removed]",
      "text/plain": [
       "<Figure size 432x288 with 1 Axes>"
      ]
     },
     "metadata": {
      "needs_background": "light"
     },
     "output_type": "display_data"
    }
   ],
   "source": [
    "nihs1cout = cdn.loc[:,\"NIHS_1c_out\"]\n",
    "#print(nihs1cout)\n",
    "print(nihs1cout.value_counts() / len(nihs1cout))\n",
    "#print(nihs1cout.describe())\n",
    "\n",
    "sns.countplot(nihs1cout)\n",
    "plt.title(\"NIHS_1c_out - Barplot\")\n",
    "plt.xlabel('NIHS_1c_out')\n",
    "plt.ylabel('Number', rotation=0)\n",
    "plt.show()"
   ]
  },
  {
   "cell_type": "markdown",
   "metadata": {},
   "source": [
    "# NIHS_2_out"
   ]
  },
  {
   "cell_type": "code",
   "execution_count": 22,
   "metadata": {},
   "outputs": [
    {
     "name": "stderr",
     "output_type": "stream",
     "text": [
      "C:\\Users\\Jacky C\\Anaconda3\\lib\\site-packages\\seaborn\\_decorators.py:36: FutureWarning: Pass the following variable as a keyword arg: x. From version 0.12, the only valid positional argument will be `data`, and passing other arguments without an explicit keyword will result in an error or misinterpretation.\n",
      "  warnings.warn(\n"
     ]
    },
    {
     "name": "stdout",
     "output_type": "stream",
     "text": [
      "0.0     0.891868\n",
      "1.0     0.059127\n",
      "2.0     0.046692\n",
      "3.0     0.000295\n",
      "9.0     0.000022\n",
      "10.0    0.000007\n",
      "96.0    0.000007\n",
      "Name: NIHS_2_out, dtype: float64\n"
     ]
    },
    {
     "data": {
      "image/png": "[encoded data removed]",
      "text/plain": [
       "<Figure size 432x288 with 1 Axes>"
      ]
     },
     "metadata": {
      "needs_background": "light"
     },
     "output_type": "display_data"
    }
   ],
   "source": [
    "nihs2out = cdn.loc[:,\"NIHS_2_out\"]\n",
    "#print(nihs2out)\n",
    "print(nihs2out.value_counts() / len(nihs2out))\n",
    "#print(nihs2out.describe())\n",
    "\n",
    "sns.countplot(nihs2out)\n",
    "plt.title(\"NIHS_2_out - Barplot\")\n",
    "plt.xlabel('NIHS_2_out')\n",
    "plt.ylabel('Number', rotation=0)\n",
    "plt.show()"
   ]
  },
  {
   "cell_type": "markdown",
   "metadata": {},
   "source": [
    "# NIHS_3_out"
   ]
  },
  {
   "cell_type": "code",
   "execution_count": 23,
   "metadata": {},
   "outputs": [
    {
     "name": "stdout",
     "output_type": "stream",
     "text": [
      "0.0     0.874317\n",
      "2.0     0.046678\n",
      "1.0     0.045215\n",
      "3.0     0.031224\n",
      "9.0     0.000036\n",
      "96.0    0.000029\n",
      "20.0    0.000007\n",
      "4.0     0.000007\n",
      "Name: NIHS_3_out, dtype: float64\n"
     ]
    },
    {
     "name": "stderr",
     "output_type": "stream",
     "text": [
      "C:\\Users\\Jacky C\\Anaconda3\\lib\\site-packages\\seaborn\\_decorators.py:36: FutureWarning: Pass the following variable as a keyword arg: x. From version 0.12, the only valid positional argument will be `data`, and passing other arguments without an explicit keyword will result in an error or misinterpretation.\n",
      "  warnings.warn(\n"
     ]
    },
    {
     "data": {
      "image/png": "[encoded data removed]",
      "text/plain": [
       "<Figure size 432x288 with 1 Axes>"
      ]
     },
     "metadata": {
      "needs_background": "light"
     },
     "output_type": "display_data"
    }
   ],
   "source": [
    "nihs3out = cdn.loc[:,\"NIHS_3_out\"]\n",
    "#print(nihs3out)\n",
    "print(nihs3out.value_counts() / len(nihs3out))\n",
    "#print(nihs3out.describe())\n",
    "\n",
    "sns.countplot(nihs3out)\n",
    "plt.title(\"NIHS_3_out - Barplot\")\n",
    "plt.xlabel('NIHS_3_out')\n",
    "plt.ylabel('Number', rotation=0)\n",
    "plt.show()"
   ]
  },
  {
   "cell_type": "markdown",
   "metadata": {},
   "source": [
    "# NIHS_4_out"
   ]
  },
  {
   "cell_type": "code",
   "execution_count": 24,
   "metadata": {},
   "outputs": [
    {
     "name": "stdout",
     "output_type": "stream",
     "text": [
      "0.0     0.563940\n",
      "1.0     0.311739\n",
      "2.0     0.092124\n",
      "3.0     0.029546\n",
      "4.0     0.000065\n",
      "9.0     0.000022\n",
      "10.0    0.000022\n",
      "13.0    0.000007\n",
      "22.0    0.000007\n",
      "14.0    0.000007\n",
      "Name: NIHS_4_out, dtype: float64\n"
     ]
    },
    {
     "name": "stderr",
     "output_type": "stream",
     "text": [
      "C:\\Users\\Jacky C\\Anaconda3\\lib\\site-packages\\seaborn\\_decorators.py:36: FutureWarning: Pass the following variable as a keyword arg: x. From version 0.12, the only valid positional argument will be `data`, and passing other arguments without an explicit keyword will result in an error or misinterpretation.\n",
      "  warnings.warn(\n"
     ]
    },
    {
     "data": {
      "image/png": "[encoded data removed]",
      "text/plain": [
       "<Figure size 432x288 with 1 Axes>"
      ]
     },
     "metadata": {
      "needs_background": "light"
     },
     "output_type": "display_data"
    }
   ],
   "source": [
    "nihs4out = cdn.loc[:,\"NIHS_4_out\"]\n",
    "#print(nihs4out)\n",
    "print(nihs4out.value_counts() / len(nihs4out))\n",
    "#print(nihs4out.describe())\n",
    "\n",
    "sns.countplot(nihs4out)\n",
    "plt.title(\"NIHS_4_out - Barplot\")\n",
    "plt.xlabel('NIHS_4_out')\n",
    "plt.ylabel('Number', rotation=0)\n",
    "plt.show()"
   ]
  },
  {
   "cell_type": "markdown",
   "metadata": {},
   "source": [
    "# NIHS_5aL_out"
   ]
  },
  {
   "cell_type": "code",
   "execution_count": 25,
   "metadata": {},
   "outputs": [
    {
     "name": "stdout",
     "output_type": "stream",
     "text": [
      "0.0     0.669472\n",
      "1.0     0.148888\n",
      "4.0     0.078767\n",
      "2.0     0.052074\n",
      "3.0     0.047888\n",
      "96.0    0.000180\n",
      "9.0     0.000058\n",
      "10.0    0.000007\n",
      "Name: NIHS_5aL_out, dtype: float64\n"
     ]
    },
    {
     "name": "stderr",
     "output_type": "stream",
     "text": [
      "C:\\Users\\Jacky C\\Anaconda3\\lib\\site-packages\\seaborn\\_decorators.py:36: FutureWarning: Pass the following variable as a keyword arg: x. From version 0.12, the only valid positional argument will be `data`, and passing other arguments without an explicit keyword will result in an error or misinterpretation.\n",
      "  warnings.warn(\n"
     ]
    },
    {
     "data": {
      "image/png": "[encoded data removed]",
      "text/plain": [
       "<Figure size 432x288 with 1 Axes>"
      ]
     },
     "metadata": {
      "needs_background": "light"
     },
     "output_type": "display_data"
    }
   ],
   "source": [
    "nihs5alout = cdn.loc[:,\"NIHS_5aL_out\"]\n",
    "#print(nihs5alout)\n",
    "print(nihs5alout.value_counts() / len(nihs5alout))\n",
    "#print(nihs5alout.describe())\n",
    "\n",
    "sns.countplot(nihs5alout)\n",
    "plt.title(\"NIHS_5aL_out - Barplot\")\n",
    "plt.xlabel('NIHS_5aL_out')\n",
    "plt.ylabel('Number', rotation=0)\n",
    "plt.show()"
   ]
  },
  {
   "cell_type": "markdown",
   "metadata": {},
   "source": [
    "# NIHS_5bR_out"
   ]
  },
  {
   "cell_type": "code",
   "execution_count": 26,
   "metadata": {},
   "outputs": [
    {
     "name": "stdout",
     "output_type": "stream",
     "text": [
      "0.0     0.669853\n",
      "1.0     0.148658\n",
      "4.0     0.079286\n",
      "2.0     0.051419\n",
      "3.0     0.047773\n",
      "96.0    0.000209\n",
      "9.0     0.000086\n",
      "47.0    0.000007\n",
      "6.0     0.000007\n",
      "44.0    0.000007\n",
      "41.0    0.000007\n",
      "10.0    0.000007\n",
      "Name: NIHS_5bR_out, dtype: float64\n"
     ]
    },
    {
     "name": "stderr",
     "output_type": "stream",
     "text": [
      "C:\\Users\\Jacky C\\Anaconda3\\lib\\site-packages\\seaborn\\_decorators.py:36: FutureWarning: Pass the following variable as a keyword arg: x. From version 0.12, the only valid positional argument will be `data`, and passing other arguments without an explicit keyword will result in an error or misinterpretation.\n",
      "  warnings.warn(\n"
     ]
    },
    {
     "data": {
      "image/png": "[encoded data removed]",
      "text/plain": [
       "<Figure size 432x288 with 1 Axes>"
      ]
     },
     "metadata": {
      "needs_background": "light"
     },
     "output_type": "display_data"
    }
   ],
   "source": [
    "nihs5brout = cdn.loc[:,\"NIHS_5bR_out\"]\n",
    "#print(nihs5brout)\n",
    "print(nihs5brout.value_counts() / len(nihs5brout))\n",
    "#print(nihs5brout.describe())\n",
    "\n",
    "sns.countplot(nihs5brout)\n",
    "plt.title(\"NIHS_5bR_out - Barplot\")\n",
    "plt.xlabel('NIHS_5bR_out')\n",
    "plt.ylabel('Number', rotation=0)\n",
    "plt.show()"
   ]
  },
  {
   "cell_type": "markdown",
   "metadata": {},
   "source": [
    "# NIHS_6aL_out"
   ]
  },
  {
   "cell_type": "code",
   "execution_count": 27,
   "metadata": {},
   "outputs": [
    {
     "name": "stdout",
     "output_type": "stream",
     "text": [
      "0.0     0.646698\n",
      "1.0     0.164652\n",
      "4.0     0.066930\n",
      "2.0     0.063241\n",
      "3.0     0.054610\n",
      "96.0    0.000908\n",
      "9.0     0.000216\n",
      "30.0    0.000007\n",
      "33.0    0.000007\n",
      "Name: NIHS_6aL_out, dtype: float64\n"
     ]
    },
    {
     "name": "stderr",
     "output_type": "stream",
     "text": [
      "C:\\Users\\Jacky C\\Anaconda3\\lib\\site-packages\\seaborn\\_decorators.py:36: FutureWarning: Pass the following variable as a keyword arg: x. From version 0.12, the only valid positional argument will be `data`, and passing other arguments without an explicit keyword will result in an error or misinterpretation.\n",
      "  warnings.warn(\n"
     ]
    },
    {
     "data": {
      "image/png": "[encoded data removed]",
      "text/plain": [
       "<Figure size 432x288 with 1 Axes>"
      ]
     },
     "metadata": {
      "needs_background": "light"
     },
     "output_type": "display_data"
    }
   ],
   "source": [
    "nihs6alout = cdn.loc[:,\"NIHS_6aL_out\"]\n",
    "#print(nihs6alout)\n",
    "print(nihs6alout.value_counts() / len(nihs6alout))\n",
    "#print(nihs6alout.describe())\n",
    "\n",
    "sns.countplot(nihs6alout)\n",
    "plt.title(\"NIHS_6aL_out - Barplot\")\n",
    "plt.xlabel('NIHS_6aL_out')\n",
    "plt.ylabel('Number', rotation=0)\n",
    "plt.show()"
   ]
  },
  {
   "cell_type": "markdown",
   "metadata": {},
   "source": [
    "# NIHS_6bR_out"
   ]
  },
  {
   "cell_type": "code",
   "execution_count": 28,
   "metadata": {},
   "outputs": [
    {
     "name": "stderr",
     "output_type": "stream",
     "text": [
      "C:\\Users\\Jacky C\\Anaconda3\\lib\\site-packages\\seaborn\\_decorators.py:36: FutureWarning: Pass the following variable as a keyword arg: x. From version 0.12, the only valid positional argument will be `data`, and passing other arguments without an explicit keyword will result in an error or misinterpretation.\n",
      "  warnings.warn(\n"
     ]
    },
    {
     "name": "stdout",
     "output_type": "stream",
     "text": [
      "0.0     0.646698\n",
      "1.0     0.164652\n",
      "4.0     0.066930\n",
      "2.0     0.063241\n",
      "3.0     0.054610\n",
      "96.0    0.000908\n",
      "9.0     0.000216\n",
      "30.0    0.000007\n",
      "33.0    0.000007\n",
      "Name: NIHS_6aL_out, dtype: float64\n"
     ]
    },
    {
     "data": {
      "image/png": "[encoded data removed]",
      "text/plain": [
       "<Figure size 432x288 with 1 Axes>"
      ]
     },
     "metadata": {
      "needs_background": "light"
     },
     "output_type": "display_data"
    }
   ],
   "source": [
    "nihs6brout = cdn.loc[:,\"NIHS_6aL_out\"]\n",
    "#print(nihs6brout)\n",
    "print(nihs6brout.value_counts() / len(nihs6brout))\n",
    "#print(nihs6brout.describe())\n",
    "\n",
    "sns.countplot(nihs6brout)\n",
    "plt.title(\"NIHS_6bR_out - Barplot\")\n",
    "plt.xlabel('NIHS_6bR_out')\n",
    "plt.ylabel('Number', rotation=0)\n",
    "plt.show()"
   ]
  },
  {
   "cell_type": "markdown",
   "metadata": {},
   "source": [
    "# NIHS_7_out"
   ]
  },
  {
   "cell_type": "code",
   "execution_count": 29,
   "metadata": {},
   "outputs": [
    {
     "name": "stderr",
     "output_type": "stream",
     "text": [
      "C:\\Users\\Jacky C\\Anaconda3\\lib\\site-packages\\seaborn\\_decorators.py:36: FutureWarning: Pass the following variable as a keyword arg: x. From version 0.12, the only valid positional argument will be `data`, and passing other arguments without an explicit keyword will result in an error or misinterpretation.\n",
      "  warnings.warn(\n"
     ]
    },
    {
     "name": "stdout",
     "output_type": "stream",
     "text": [
      "0.0     0.882473\n",
      "1.0     0.073320\n",
      "2.0     0.035691\n",
      "9.0     0.000303\n",
      "4.0     0.000072\n",
      "96.0    0.000058\n",
      "3.0     0.000058\n",
      "30.0    0.000007\n",
      "5.0     0.000007\n",
      "Name: NIHS_7_out, dtype: float64\n"
     ]
    },
    {
     "data": {
      "image/png": "[encoded data removed]",
      "text/plain": [
       "<Figure size 432x288 with 1 Axes>"
      ]
     },
     "metadata": {
      "needs_background": "light"
     },
     "output_type": "display_data"
    }
   ],
   "source": [
    "nihs7out = cdn.loc[:,\"NIHS_7_out\"]\n",
    "#print(nihs7out)\n",
    "print(nihs7out.value_counts() / len(nihs7out))\n",
    "#print(nihs7out.describe())\n",
    "\n",
    "sns.countplot(nihs7out)\n",
    "plt.title(\"NIHS_7_out - Barplot\")\n",
    "plt.xlabel('NIHS_7_out')\n",
    "plt.ylabel('Number', rotation=0)\n",
    "plt.show()"
   ]
  },
  {
   "cell_type": "markdown",
   "metadata": {},
   "source": [
    "# NIHS_8_out"
   ]
  },
  {
   "cell_type": "code",
   "execution_count": 30,
   "metadata": {},
   "outputs": [
    {
     "name": "stderr",
     "output_type": "stream",
     "text": [
      "C:\\Users\\Jacky C\\Anaconda3\\lib\\site-packages\\seaborn\\_decorators.py:36: FutureWarning: Pass the following variable as a keyword arg: x. From version 0.12, the only valid positional argument will be `data`, and passing other arguments without an explicit keyword will result in an error or misinterpretation.\n",
      "  warnings.warn(\n"
     ]
    },
    {
     "name": "stdout",
     "output_type": "stream",
     "text": [
      "0.0    0.734910\n",
      "1.0    0.211258\n",
      "2.0    0.045597\n",
      "3.0    0.000115\n",
      "9.0    0.000050\n",
      "5.0    0.000007\n",
      "4.0    0.000007\n",
      "Name: NIHS_8_out, dtype: float64\n"
     ]
    },
    {
     "data": {
      "image/png": "[encoded data removed]",
      "text/plain": [
       "<Figure size 432x288 with 1 Axes>"
      ]
     },
     "metadata": {
      "needs_background": "light"
     },
     "output_type": "display_data"
    }
   ],
   "source": [
    "nihs8out = cdn.loc[:,\"NIHS_8_out\"]\n",
    "#print(nihs8out)\n",
    "print(nihs8out.value_counts() / len(nihs8out))\n",
    "#print(nihs8out.describe())\n",
    "\n",
    "sns.countplot(nihs8out)\n",
    "plt.title(\"NIHS_8_out - Barplot\")\n",
    "plt.xlabel('NIHS_8_out')\n",
    "plt.ylabel('Number', rotation=0)\n",
    "plt.show()"
   ]
  },
  {
   "cell_type": "markdown",
   "metadata": {},
   "source": [
    "# NIHS_9_out"
   ]
  },
  {
   "cell_type": "code",
   "execution_count": 31,
   "metadata": {},
   "outputs": [
    {
     "name": "stdout",
     "output_type": "stream",
     "text": [
      "0.0     0.787309\n",
      "1.0     0.073335\n",
      "3.0     0.072492\n",
      "2.0     0.058205\n",
      "9.0     0.000101\n",
      "96.0    0.000050\n",
      "5.0     0.000007\n",
      "6.0     0.000007\n",
      "Name: NIHS_9_out, dtype: float64\n"
     ]
    },
    {
     "name": "stderr",
     "output_type": "stream",
     "text": [
      "C:\\Users\\Jacky C\\Anaconda3\\lib\\site-packages\\seaborn\\_decorators.py:36: FutureWarning: Pass the following variable as a keyword arg: x. From version 0.12, the only valid positional argument will be `data`, and passing other arguments without an explicit keyword will result in an error or misinterpretation.\n",
      "  warnings.warn(\n"
     ]
    },
    {
     "data": {
      "image/png": "[encoded data removed]",
      "text/plain": [
       "<Figure size 432x288 with 1 Axes>"
      ]
     },
     "metadata": {
      "needs_background": "light"
     },
     "output_type": "display_data"
    }
   ],
   "source": [
    "nihs9out = cdn.loc[:,\"NIHS_9_out\"]\n",
    "#print(nihs9out)\n",
    "print(nihs9out.value_counts() / len(nihs9out))\n",
    "#print(nihs9out.describe())\n",
    "\n",
    "sns.countplot(nihs9out)\n",
    "plt.title(\"NIHS_9_out - Barplot\")\n",
    "plt.xlabel('NIHS_9_out')\n",
    "plt.ylabel('Number', rotation=0)\n",
    "plt.show()"
   ]
  },
  {
   "cell_type": "markdown",
   "metadata": {},
   "source": [
    "# NIHS_10_out"
   ]
  },
  {
   "cell_type": "code",
   "execution_count": 32,
   "metadata": {},
   "outputs": [
    {
     "name": "stderr",
     "output_type": "stream",
     "text": [
      "C:\\Users\\Jacky C\\Anaconda3\\lib\\site-packages\\seaborn\\_decorators.py:36: FutureWarning: Pass the following variable as a keyword arg: x. From version 0.12, the only valid positional argument will be `data`, and passing other arguments without an explicit keyword will result in an error or misinterpretation.\n",
      "  warnings.warn(\n"
     ]
    },
    {
     "name": "stdout",
     "output_type": "stream",
     "text": [
      "0.0     0.586015\n",
      "1.0     0.277835\n",
      "2.0     0.103651\n",
      "96.0    0.018552\n",
      "9.0     0.003768\n",
      "3.0     0.000339\n",
      "10.0    0.000029\n",
      "4.0     0.000014\n",
      "6.0     0.000007\n",
      "11.0    0.000007\n",
      "5.0     0.000007\n",
      "20.0    0.000007\n",
      "Name: NIHS_10_out, dtype: float64\n"
     ]
    },
    {
     "data": {
      "image/png": "[encoded data removed]",
      "text/plain": [
       "<Figure size 432x288 with 1 Axes>"
      ]
     },
     "metadata": {
      "needs_background": "light"
     },
     "output_type": "display_data"
    }
   ],
   "source": [
    "nihs10out = cdn.loc[:,\"NIHS_10_out\"]\n",
    "#print(nihs10out)\n",
    "print(nihs10out.value_counts() / len(nihs10out))\n",
    "#print(nihs10out.describe())\n",
    "\n",
    "sns.countplot(nihs10out)\n",
    "plt.title(\"NIHS_10_out - Barplot\")\n",
    "plt.xlabel('NIHS_10_out')\n",
    "plt.ylabel('Number', rotation=0)\n",
    "plt.show()"
   ]
  },
  {
   "cell_type": "markdown",
   "metadata": {},
   "source": [
    "# NIHS_11_out"
   ]
  },
  {
   "cell_type": "code",
   "execution_count": 33,
   "metadata": {},
   "outputs": [
    {
     "name": "stdout",
     "output_type": "stream",
     "text": [
      "0.0     0.917249\n",
      "1.0     0.040259\n",
      "2.0     0.032449\n",
      "9.0     0.000065\n",
      "96.0    0.000036\n",
      "3.0     0.000036\n",
      "5.0     0.000007\n",
      "4.0     0.000007\n",
      "10.0    0.000007\n",
      "Name: NIHS_11_out, dtype: float64\n"
     ]
    },
    {
     "name": "stderr",
     "output_type": "stream",
     "text": [
      "C:\\Users\\Jacky C\\Anaconda3\\lib\\site-packages\\seaborn\\_decorators.py:36: FutureWarning: Pass the following variable as a keyword arg: x. From version 0.12, the only valid positional argument will be `data`, and passing other arguments without an explicit keyword will result in an error or misinterpretation.\n",
      "  warnings.warn(\n"
     ]
    },
    {
     "data": {
      "image/png": "[encoded data removed]",
      "text/plain": [
       "<Figure size 432x288 with 1 Axes>"
      ]
     },
     "metadata": {
      "needs_background": "light"
     },
     "output_type": "display_data"
    }
   ],
   "source": [
    "nihs11out = cdn.loc[:,\"NIHS_11_out\"]\n",
    "#print(nihs11out)\n",
    "print(nihs11out.value_counts() / len(nihs11out))\n",
    "#print(nihs11out.describe())\n",
    "\n",
    "sns.countplot(nihs11out)\n",
    "plt.title(\"NIHS_11_out - Barplot\")\n",
    "plt.xlabel('NIHS_11_out')\n",
    "plt.ylabel('Number', rotation=0)\n",
    "plt.show()"
   ]
  }
 ],
 "metadata": {
  "kernelspec": {
   "display_name": "Python 3",
   "language": "python",
   "name": "python3"
  },
  "language_info": {
   "codemirror_mode": {
    "name": "ipython",
    "version": 3
   },
   "file_extension": ".py",
   "mimetype": "text/x-python",
   "name": "python",
   "nbconvert_exporter": "python",
   "pygments_lexer": "ipython3",
   "version": "3.8.5"
  }
 },
 "nbformat": 4,
 "nbformat_minor": 4
}
