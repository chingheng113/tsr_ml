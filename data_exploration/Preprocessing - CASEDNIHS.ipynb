{
 "cells": [
  {
   "cell_type": "code",
   "execution_count": 1,
   "metadata": {},
   "outputs": [],
   "source": [
    "import pandas as pd\n",
    "import matplotlib.pyplot as plt\n",
    "import seaborn as sns"
   ]
  },
  {
   "cell_type": "code",
   "execution_count": 2,
   "metadata": {},
   "outputs": [
    {
     "data": {
      "text/html": [
       "<div>\n",
       "<style scoped>\n",
       "    .dataframe tbody tr th:only-of-type {\n",
       "        vertical-align: middle;\n",
       "    }\n",
       "\n",
       "    .dataframe tbody tr th {\n",
       "        vertical-align: top;\n",
       "    }\n",
       "\n",
       "    .dataframe thead th {\n",
       "        text-align: right;\n",
       "    }\n",
       "</style>\n",
       "<table border=\"1\" class=\"dataframe\">\n",
       "  <thead>\n",
       "    <tr style=\"text-align: right;\">\n",
       "      <th></th>\n",
       "      <th>ICASE_ID</th>\n",
       "      <th>IDCASE_ID</th>\n",
       "      <th>NIHS_1a_in</th>\n",
       "      <th>NIHS_1b_in</th>\n",
       "      <th>NIHS_1c_in</th>\n",
       "      <th>NIHS_2_in</th>\n",
       "      <th>NIHS_3_in</th>\n",
       "      <th>NIHS_4_in</th>\n",
       "      <th>NIHS_5aL_in</th>\n",
       "      <th>NIHS_5bR_in</th>\n",
       "      <th>...</th>\n",
       "      <th>NIHS_4_out</th>\n",
       "      <th>NIHS_5aL_out</th>\n",
       "      <th>NIHS_5bR_out</th>\n",
       "      <th>NIHS_6aL_out</th>\n",
       "      <th>NIHS_6bR_out</th>\n",
       "      <th>NIHS_7_out</th>\n",
       "      <th>NIHS_8_out</th>\n",
       "      <th>NIHS_9_out</th>\n",
       "      <th>NIHS_10_out</th>\n",
       "      <th>NIHS_11_out</th>\n",
       "    </tr>\n",
       "  </thead>\n",
       "  <tbody>\n",
       "    <tr>\n",
       "      <th>0</th>\n",
       "      <td>9066</td>\n",
       "      <td>010-00009066-1</td>\n",
       "      <td>0.0</td>\n",
       "      <td>0.0</td>\n",
       "      <td>0.0</td>\n",
       "      <td>0.0</td>\n",
       "      <td>0.0</td>\n",
       "      <td>1.0</td>\n",
       "      <td>1.0</td>\n",
       "      <td>0.0</td>\n",
       "      <td>...</td>\n",
       "      <td>1.0</td>\n",
       "      <td>1.0</td>\n",
       "      <td>0.0</td>\n",
       "      <td>1.0</td>\n",
       "      <td>0.0</td>\n",
       "      <td>0.0</td>\n",
       "      <td>1.0</td>\n",
       "      <td>0.0</td>\n",
       "      <td>0.0</td>\n",
       "      <td>0.0</td>\n",
       "    </tr>\n",
       "    <tr>\n",
       "      <th>1</th>\n",
       "      <td>9066</td>\n",
       "      <td>022-00009066-1</td>\n",
       "      <td>0.0</td>\n",
       "      <td>0.0</td>\n",
       "      <td>0.0</td>\n",
       "      <td>0.0</td>\n",
       "      <td>0.0</td>\n",
       "      <td>1.0</td>\n",
       "      <td>1.0</td>\n",
       "      <td>0.0</td>\n",
       "      <td>...</td>\n",
       "      <td>1.0</td>\n",
       "      <td>1.0</td>\n",
       "      <td>0.0</td>\n",
       "      <td>1.0</td>\n",
       "      <td>0.0</td>\n",
       "      <td>0.0</td>\n",
       "      <td>1.0</td>\n",
       "      <td>0.0</td>\n",
       "      <td>0.0</td>\n",
       "      <td>0.0</td>\n",
       "    </tr>\n",
       "    <tr>\n",
       "      <th>2</th>\n",
       "      <td>4830</td>\n",
       "      <td>005-00004830-2</td>\n",
       "      <td>2.0</td>\n",
       "      <td>2.0</td>\n",
       "      <td>2.0</td>\n",
       "      <td>2.0</td>\n",
       "      <td>2.0</td>\n",
       "      <td>2.0</td>\n",
       "      <td>0.0</td>\n",
       "      <td>4.0</td>\n",
       "      <td>...</td>\n",
       "      <td>1.0</td>\n",
       "      <td>0.0</td>\n",
       "      <td>4.0</td>\n",
       "      <td>0.0</td>\n",
       "      <td>3.0</td>\n",
       "      <td>0.0</td>\n",
       "      <td>2.0</td>\n",
       "      <td>2.0</td>\n",
       "      <td>1.0</td>\n",
       "      <td>2.0</td>\n",
       "    </tr>\n",
       "    <tr>\n",
       "      <th>3</th>\n",
       "      <td>9067</td>\n",
       "      <td>005-00009067-1</td>\n",
       "      <td>0.0</td>\n",
       "      <td>2.0</td>\n",
       "      <td>1.0</td>\n",
       "      <td>0.0</td>\n",
       "      <td>0.0</td>\n",
       "      <td>0.0</td>\n",
       "      <td>0.0</td>\n",
       "      <td>1.0</td>\n",
       "      <td>...</td>\n",
       "      <td>0.0</td>\n",
       "      <td>0.0</td>\n",
       "      <td>1.0</td>\n",
       "      <td>0.0</td>\n",
       "      <td>1.0</td>\n",
       "      <td>0.0</td>\n",
       "      <td>0.0</td>\n",
       "      <td>1.0</td>\n",
       "      <td>1.0</td>\n",
       "      <td>0.0</td>\n",
       "    </tr>\n",
       "    <tr>\n",
       "      <th>4</th>\n",
       "      <td>9068</td>\n",
       "      <td>005-00009068-1</td>\n",
       "      <td>0.0</td>\n",
       "      <td>0.0</td>\n",
       "      <td>0.0</td>\n",
       "      <td>0.0</td>\n",
       "      <td>0.0</td>\n",
       "      <td>1.0</td>\n",
       "      <td>0.0</td>\n",
       "      <td>1.0</td>\n",
       "      <td>...</td>\n",
       "      <td>1.0</td>\n",
       "      <td>0.0</td>\n",
       "      <td>1.0</td>\n",
       "      <td>0.0</td>\n",
       "      <td>1.0</td>\n",
       "      <td>0.0</td>\n",
       "      <td>0.0</td>\n",
       "      <td>0.0</td>\n",
       "      <td>1.0</td>\n",
       "      <td>0.0</td>\n",
       "    </tr>\n",
       "  </tbody>\n",
       "</table>\n",
       "<p>5 rows × 32 columns</p>\n",
       "</div>"
      ],
      "text/plain": [
       "   ICASE_ID       IDCASE_ID  NIHS_1a_in  NIHS_1b_in  NIHS_1c_in  NIHS_2_in  \\\n",
       "0      9066  010-00009066-1         0.0         0.0         0.0        0.0   \n",
       "1      9066  022-00009066-1         0.0         0.0         0.0        0.0   \n",
       "2      4830  005-00004830-2         2.0         2.0         2.0        2.0   \n",
       "3      9067  005-00009067-1         0.0         2.0         1.0        0.0   \n",
       "4      9068  005-00009068-1         0.0         0.0         0.0        0.0   \n",
       "\n",
       "   NIHS_3_in  NIHS_4_in  NIHS_5aL_in  NIHS_5bR_in  ...  NIHS_4_out  \\\n",
       "0        0.0        1.0          1.0          0.0  ...         1.0   \n",
       "1        0.0        1.0          1.0          0.0  ...         1.0   \n",
       "2        2.0        2.0          0.0          4.0  ...         1.0   \n",
       "3        0.0        0.0          0.0          1.0  ...         0.0   \n",
       "4        0.0        1.0          0.0          1.0  ...         1.0   \n",
       "\n",
       "   NIHS_5aL_out  NIHS_5bR_out  NIHS_6aL_out  NIHS_6bR_out  NIHS_7_out  \\\n",
       "0           1.0           0.0           1.0           0.0         0.0   \n",
       "1           1.0           0.0           1.0           0.0         0.0   \n",
       "2           0.0           4.0           0.0           3.0         0.0   \n",
       "3           0.0           1.0           0.0           1.0         0.0   \n",
       "4           0.0           1.0           0.0           1.0         0.0   \n",
       "\n",
       "   NIHS_8_out  NIHS_9_out  NIHS_10_out  NIHS_11_out  \n",
       "0         1.0         0.0          0.0          0.0  \n",
       "1         1.0         0.0          0.0          0.0  \n",
       "2         2.0         2.0          1.0          2.0  \n",
       "3         0.0         1.0          1.0          0.0  \n",
       "4         0.0         0.0          1.0          0.0  \n",
       "\n",
       "[5 rows x 32 columns]"
      ]
     },
     "execution_count": 2,
     "metadata": {},
     "output_type": "execute_result"
    }
   ],
   "source": [
    "cdn = pd.read_csv(\"C:/Users/Jacky C/Desktop/TSR-proganosis/Data/TSR_2018_raw/CASEDNIHS(denormalized).csv\")\n",
    "cdn.head()"
   ]
  },
  {
   "cell_type": "code",
   "execution_count": 3,
   "metadata": {},
   "outputs": [
    {
     "data": {
      "text/html": [
       "<div>\n",
       "<style scoped>\n",
       "    .dataframe tbody tr th:only-of-type {\n",
       "        vertical-align: middle;\n",
       "    }\n",
       "\n",
       "    .dataframe tbody tr th {\n",
       "        vertical-align: top;\n",
       "    }\n",
       "\n",
       "    .dataframe thead th {\n",
       "        text-align: right;\n",
       "    }\n",
       "</style>\n",
       "<table border=\"1\" class=\"dataframe\">\n",
       "  <thead>\n",
       "    <tr style=\"text-align: right;\">\n",
       "      <th></th>\n",
       "      <th>ICASE_ID</th>\n",
       "      <th>NIHS_1a_in</th>\n",
       "      <th>NIHS_1b_in</th>\n",
       "      <th>NIHS_1c_in</th>\n",
       "      <th>NIHS_2_in</th>\n",
       "      <th>NIHS_3_in</th>\n",
       "      <th>NIHS_4_in</th>\n",
       "      <th>NIHS_5aL_in</th>\n",
       "      <th>NIHS_5bR_in</th>\n",
       "      <th>NIHS_6aL_in</th>\n",
       "      <th>...</th>\n",
       "      <th>NIHS_4_out</th>\n",
       "      <th>NIHS_5aL_out</th>\n",
       "      <th>NIHS_5bR_out</th>\n",
       "      <th>NIHS_6aL_out</th>\n",
       "      <th>NIHS_6bR_out</th>\n",
       "      <th>NIHS_7_out</th>\n",
       "      <th>NIHS_8_out</th>\n",
       "      <th>NIHS_9_out</th>\n",
       "      <th>NIHS_10_out</th>\n",
       "      <th>NIHS_11_out</th>\n",
       "    </tr>\n",
       "  </thead>\n",
       "  <tbody>\n",
       "    <tr>\n",
       "      <th>count</th>\n",
       "      <td>138802.000000</td>\n",
       "      <td>138790.000000</td>\n",
       "      <td>138601.000000</td>\n",
       "      <td>138550.000000</td>\n",
       "      <td>138527.000000</td>\n",
       "      <td>138457.000000</td>\n",
       "      <td>138452.000000</td>\n",
       "      <td>138432.000000</td>\n",
       "      <td>138430.000000</td>\n",
       "      <td>138423.000000</td>\n",
       "      <td>...</td>\n",
       "      <td>138452.000000</td>\n",
       "      <td>138432.000000</td>\n",
       "      <td>138430.000000</td>\n",
       "      <td>138423.000000</td>\n",
       "      <td>138411.000000</td>\n",
       "      <td>137690.000000</td>\n",
       "      <td>137684.000000</td>\n",
       "      <td>137623.000000</td>\n",
       "      <td>137446.000000</td>\n",
       "      <td>137430.000000</td>\n",
       "    </tr>\n",
       "    <tr>\n",
       "      <th>mean</th>\n",
       "      <td>61948.221027</td>\n",
       "      <td>0.370999</td>\n",
       "      <td>0.470949</td>\n",
       "      <td>0.338571</td>\n",
       "      <td>0.271860</td>\n",
       "      <td>0.328622</td>\n",
       "      <td>0.707335</td>\n",
       "      <td>0.919953</td>\n",
       "      <td>0.913256</td>\n",
       "      <td>1.003973</td>\n",
       "      <td>...</td>\n",
       "      <td>0.587128</td>\n",
       "      <td>0.731601</td>\n",
       "      <td>0.735830</td>\n",
       "      <td>0.814453</td>\n",
       "      <td>0.811236</td>\n",
       "      <td>0.154913</td>\n",
       "      <td>0.305780</td>\n",
       "      <td>0.416587</td>\n",
       "      <td>2.324375</td>\n",
       "      <td>0.110536</td>\n",
       "    </tr>\n",
       "    <tr>\n",
       "      <th>std</th>\n",
       "      <td>36861.047551</td>\n",
       "      <td>0.821896</td>\n",
       "      <td>0.841987</td>\n",
       "      <td>0.717998</td>\n",
       "      <td>0.613471</td>\n",
       "      <td>0.855983</td>\n",
       "      <td>0.872527</td>\n",
       "      <td>1.906123</td>\n",
       "      <td>2.013156</td>\n",
       "      <td>3.140019</td>\n",
       "      <td>...</td>\n",
       "      <td>0.784167</td>\n",
       "      <td>1.785628</td>\n",
       "      <td>1.870221</td>\n",
       "      <td>3.121372</td>\n",
       "      <td>3.132568</td>\n",
       "      <td>0.873162</td>\n",
       "      <td>0.555703</td>\n",
       "      <td>1.127253</td>\n",
       "      <td>12.972078</td>\n",
       "      <td>0.708163</td>\n",
       "    </tr>\n",
       "    <tr>\n",
       "      <th>min</th>\n",
       "      <td>1.000000</td>\n",
       "      <td>0.000000</td>\n",
       "      <td>0.000000</td>\n",
       "      <td>0.000000</td>\n",
       "      <td>0.000000</td>\n",
       "      <td>0.000000</td>\n",
       "      <td>0.000000</td>\n",
       "      <td>0.000000</td>\n",
       "      <td>0.000000</td>\n",
       "      <td>0.000000</td>\n",
       "      <td>...</td>\n",
       "      <td>0.000000</td>\n",
       "      <td>0.000000</td>\n",
       "      <td>0.000000</td>\n",
       "      <td>0.000000</td>\n",
       "      <td>0.000000</td>\n",
       "      <td>0.000000</td>\n",
       "      <td>0.000000</td>\n",
       "      <td>0.000000</td>\n",
       "      <td>0.000000</td>\n",
       "      <td>0.000000</td>\n",
       "    </tr>\n",
       "    <tr>\n",
       "      <th>25%</th>\n",
       "      <td>29992.250000</td>\n",
       "      <td>0.000000</td>\n",
       "      <td>0.000000</td>\n",
       "      <td>0.000000</td>\n",
       "      <td>0.000000</td>\n",
       "      <td>0.000000</td>\n",
       "      <td>0.000000</td>\n",
       "      <td>0.000000</td>\n",
       "      <td>0.000000</td>\n",
       "      <td>0.000000</td>\n",
       "      <td>...</td>\n",
       "      <td>0.000000</td>\n",
       "      <td>0.000000</td>\n",
       "      <td>0.000000</td>\n",
       "      <td>0.000000</td>\n",
       "      <td>0.000000</td>\n",
       "      <td>0.000000</td>\n",
       "      <td>0.000000</td>\n",
       "      <td>0.000000</td>\n",
       "      <td>0.000000</td>\n",
       "      <td>0.000000</td>\n",
       "    </tr>\n",
       "    <tr>\n",
       "      <th>50%</th>\n",
       "      <td>61172.500000</td>\n",
       "      <td>0.000000</td>\n",
       "      <td>0.000000</td>\n",
       "      <td>0.000000</td>\n",
       "      <td>0.000000</td>\n",
       "      <td>0.000000</td>\n",
       "      <td>0.000000</td>\n",
       "      <td>0.000000</td>\n",
       "      <td>0.000000</td>\n",
       "      <td>0.000000</td>\n",
       "      <td>...</td>\n",
       "      <td>0.000000</td>\n",
       "      <td>0.000000</td>\n",
       "      <td>0.000000</td>\n",
       "      <td>0.000000</td>\n",
       "      <td>0.000000</td>\n",
       "      <td>0.000000</td>\n",
       "      <td>0.000000</td>\n",
       "      <td>0.000000</td>\n",
       "      <td>0.000000</td>\n",
       "      <td>0.000000</td>\n",
       "    </tr>\n",
       "    <tr>\n",
       "      <th>75%</th>\n",
       "      <td>93644.750000</td>\n",
       "      <td>0.000000</td>\n",
       "      <td>1.000000</td>\n",
       "      <td>0.000000</td>\n",
       "      <td>0.000000</td>\n",
       "      <td>0.000000</td>\n",
       "      <td>1.000000</td>\n",
       "      <td>1.000000</td>\n",
       "      <td>1.000000</td>\n",
       "      <td>1.000000</td>\n",
       "      <td>...</td>\n",
       "      <td>1.000000</td>\n",
       "      <td>1.000000</td>\n",
       "      <td>1.000000</td>\n",
       "      <td>1.000000</td>\n",
       "      <td>1.000000</td>\n",
       "      <td>0.000000</td>\n",
       "      <td>1.000000</td>\n",
       "      <td>0.000000</td>\n",
       "      <td>1.000000</td>\n",
       "      <td>0.000000</td>\n",
       "    </tr>\n",
       "    <tr>\n",
       "      <th>max</th>\n",
       "      <td>127958.000000</td>\n",
       "      <td>56.000000</td>\n",
       "      <td>96.000000</td>\n",
       "      <td>14.000000</td>\n",
       "      <td>9.000000</td>\n",
       "      <td>96.000000</td>\n",
       "      <td>96.000000</td>\n",
       "      <td>96.000000</td>\n",
       "      <td>96.000000</td>\n",
       "      <td>96.000000</td>\n",
       "      <td>...</td>\n",
       "      <td>22.000000</td>\n",
       "      <td>96.000000</td>\n",
       "      <td>96.000000</td>\n",
       "      <td>96.000000</td>\n",
       "      <td>99.000000</td>\n",
       "      <td>96.000000</td>\n",
       "      <td>9.000000</td>\n",
       "      <td>96.000000</td>\n",
       "      <td>96.000000</td>\n",
       "      <td>96.000000</td>\n",
       "    </tr>\n",
       "  </tbody>\n",
       "</table>\n",
       "<p>8 rows × 31 columns</p>\n",
       "</div>"
      ],
      "text/plain": [
       "            ICASE_ID     NIHS_1a_in     NIHS_1b_in     NIHS_1c_in  \\\n",
       "count  138802.000000  138790.000000  138601.000000  138550.000000   \n",
       "mean    61948.221027       0.370999       0.470949       0.338571   \n",
       "std     36861.047551       0.821896       0.841987       0.717998   \n",
       "min         1.000000       0.000000       0.000000       0.000000   \n",
       "25%     29992.250000       0.000000       0.000000       0.000000   \n",
       "50%     61172.500000       0.000000       0.000000       0.000000   \n",
       "75%     93644.750000       0.000000       1.000000       0.000000   \n",
       "max    127958.000000      56.000000      96.000000      14.000000   \n",
       "\n",
       "           NIHS_2_in      NIHS_3_in      NIHS_4_in    NIHS_5aL_in  \\\n",
       "count  138527.000000  138457.000000  138452.000000  138432.000000   \n",
       "mean        0.271860       0.328622       0.707335       0.919953   \n",
       "std         0.613471       0.855983       0.872527       1.906123   \n",
       "min         0.000000       0.000000       0.000000       0.000000   \n",
       "25%         0.000000       0.000000       0.000000       0.000000   \n",
       "50%         0.000000       0.000000       0.000000       0.000000   \n",
       "75%         0.000000       0.000000       1.000000       1.000000   \n",
       "max         9.000000      96.000000      96.000000      96.000000   \n",
       "\n",
       "         NIHS_5bR_in    NIHS_6aL_in  ...     NIHS_4_out   NIHS_5aL_out  \\\n",
       "count  138430.000000  138423.000000  ...  138452.000000  138432.000000   \n",
       "mean        0.913256       1.003973  ...       0.587128       0.731601   \n",
       "std         2.013156       3.140019  ...       0.784167       1.785628   \n",
       "min         0.000000       0.000000  ...       0.000000       0.000000   \n",
       "25%         0.000000       0.000000  ...       0.000000       0.000000   \n",
       "50%         0.000000       0.000000  ...       0.000000       0.000000   \n",
       "75%         1.000000       1.000000  ...       1.000000       1.000000   \n",
       "max        96.000000      96.000000  ...      22.000000      96.000000   \n",
       "\n",
       "        NIHS_5bR_out   NIHS_6aL_out   NIHS_6bR_out     NIHS_7_out  \\\n",
       "count  138430.000000  138423.000000  138411.000000  137690.000000   \n",
       "mean        0.735830       0.814453       0.811236       0.154913   \n",
       "std         1.870221       3.121372       3.132568       0.873162   \n",
       "min         0.000000       0.000000       0.000000       0.000000   \n",
       "25%         0.000000       0.000000       0.000000       0.000000   \n",
       "50%         0.000000       0.000000       0.000000       0.000000   \n",
       "75%         1.000000       1.000000       1.000000       0.000000   \n",
       "max        96.000000      96.000000      99.000000      96.000000   \n",
       "\n",
       "          NIHS_8_out     NIHS_9_out    NIHS_10_out    NIHS_11_out  \n",
       "count  137684.000000  137623.000000  137446.000000  137430.000000  \n",
       "mean        0.305780       0.416587       2.324375       0.110536  \n",
       "std         0.555703       1.127253      12.972078       0.708163  \n",
       "min         0.000000       0.000000       0.000000       0.000000  \n",
       "25%         0.000000       0.000000       0.000000       0.000000  \n",
       "50%         0.000000       0.000000       0.000000       0.000000  \n",
       "75%         1.000000       0.000000       1.000000       0.000000  \n",
       "max         9.000000      96.000000      96.000000      96.000000  \n",
       "\n",
       "[8 rows x 31 columns]"
      ]
     },
     "execution_count": 3,
     "metadata": {},
     "output_type": "execute_result"
    }
   ],
   "source": [
    "cdn.describe()"
   ]
  },
  {
   "cell_type": "code",
   "execution_count": 4,
   "metadata": {},
   "outputs": [
    {
     "name": "stdout",
     "output_type": "stream",
     "text": [
      "43.0         1\n",
      "56.0         1\n",
      "6.0          1\n",
      "20.0         1\n",
      "10.0         1\n",
      "32.0         1\n",
      "9.0          2\n",
      "3.0       6212\n",
      "2.0       8786\n",
      "1.0      15098\n",
      "0.0     108686\n",
      "Name: NIHS_1a_in, dtype: int64 count    138790.000000\n",
      "mean          0.370999\n",
      "std           0.821896\n",
      "min           0.000000\n",
      "25%           0.000000\n",
      "50%           0.000000\n",
      "75%           0.000000\n",
      "max          56.000000\n",
      "Name: NIHS_1a_in, dtype: float64\n"
     ]
    }
   ],
   "source": [
    "#NIHS_1a_in\n",
    "nihs1ain = cdn.iloc[:,2]\n",
    "#print(nihs1ain)\n",
    "print(nihs1ain.value_counts().sort_values(ascending= True), nihs1ain.describe())"
   ]
  },
  {
   "cell_type": "code",
   "execution_count": 5,
   "metadata": {},
   "outputs": [
    {
     "name": "stderr",
     "output_type": "stream",
     "text": [
      "C:\\Users\\Jacky C\\Anaconda3\\lib\\site-packages\\seaborn\\_decorators.py:36: FutureWarning: Pass the following variable as a keyword arg: x. From version 0.12, the only valid positional argument will be `data`, and passing other arguments without an explicit keyword will result in an error or misinterpretation.\n",
      "  warnings.warn(\n"
     ]
    },
    {
     "data": {
      "text/plain": [
       "<AxesSubplot:xlabel='NIHS_1a_in', ylabel='count'>"
      ]
     },
     "execution_count": 5,
     "metadata": {},
     "output_type": "execute_result"
    },
    {
     "data": {
      "image/png": "[encoded data removed]",
      "text/plain": [
       "<Figure size 432x288 with 1 Axes>"
      ]
     },
     "metadata": {
      "needs_background": "light"
     },
     "output_type": "display_data"
    }
   ],
   "source": [
    "sns.countplot(nihs1ain)"
   ]
  },
  {
   "cell_type": "code",
   "execution_count": 6,
   "metadata": {},
   "outputs": [
    {
     "name": "stdout",
     "output_type": "stream",
     "text": [
      "21.0         1\n",
      "5.0          1\n",
      "96.0         1\n",
      "9.0          4\n",
      "3.0          5\n",
      "1.0      11253\n",
      "2.0      26924\n",
      "0.0     100412\n",
      "Name: NIHS_1b_in, dtype: int64 count    138601.000000\n",
      "mean          0.470949\n",
      "std           0.841987\n",
      "min           0.000000\n",
      "25%           0.000000\n",
      "50%           0.000000\n",
      "75%           1.000000\n",
      "max          96.000000\n",
      "Name: NIHS_1b_in, dtype: float64\n"
     ]
    }
   ],
   "source": [
    "#NIHS_1b_in\n",
    "nihs1bin = cdn.iloc[:,3]\n",
    "#print(nihs1bin)\n",
    "print(nihs1bin.value_counts().sort_values(ascending= True), nihs1bin.describe())"
   ]
  },
  {
   "cell_type": "code",
   "execution_count": 7,
   "metadata": {},
   "outputs": [
    {
     "name": "stderr",
     "output_type": "stream",
     "text": [
      "C:\\Users\\Jacky C\\Anaconda3\\lib\\site-packages\\seaborn\\_decorators.py:36: FutureWarning: Pass the following variable as a keyword arg: x. From version 0.12, the only valid positional argument will be `data`, and passing other arguments without an explicit keyword will result in an error or misinterpretation.\n",
      "  warnings.warn(\n"
     ]
    },
    {
     "data": {
      "text/plain": [
       "<AxesSubplot:xlabel='NIHS_1b_in', ylabel='count'>"
      ]
     },
     "execution_count": 7,
     "metadata": {},
     "output_type": "execute_result"
    },
    {
     "data": {
      "image/png": "[encoded data removed]",
      "text/plain": [
       "<Figure size 432x288 with 1 Axes>"
      ]
     },
     "metadata": {
      "needs_background": "light"
     },
     "output_type": "display_data"
    }
   ],
   "source": [
    "sns.countplot(nihs1bin)"
   ]
  },
  {
   "cell_type": "code",
   "execution_count": 8,
   "metadata": {},
   "outputs": [
    {
     "name": "stdout",
     "output_type": "stream",
     "text": [
      "14.0         1\n",
      "9.0          3\n",
      "3.0          3\n",
      "1.0       6877\n",
      "2.0      19991\n",
      "0.0     111675\n",
      "Name: NIHS_1c_in, dtype: int64 count    138550.000000\n",
      "mean          0.338571\n",
      "std           0.717998\n",
      "min           0.000000\n",
      "25%           0.000000\n",
      "50%           0.000000\n",
      "75%           0.000000\n",
      "max          14.000000\n",
      "Name: NIHS_1c_in, dtype: float64\n"
     ]
    }
   ],
   "source": [
    "#NIHS_1c_in\n",
    "nihs1cin = cdn.iloc[:,4]\n",
    "#print(nihs1cin)\n",
    "print(nihs1cin.value_counts().sort_values(ascending= True), nihs1cin.describe())"
   ]
  },
  {
   "cell_type": "code",
   "execution_count": 9,
   "metadata": {},
   "outputs": [
    {
     "name": "stderr",
     "output_type": "stream",
     "text": [
      "C:\\Users\\Jacky C\\Anaconda3\\lib\\site-packages\\seaborn\\_decorators.py:36: FutureWarning: Pass the following variable as a keyword arg: x. From version 0.12, the only valid positional argument will be `data`, and passing other arguments without an explicit keyword will result in an error or misinterpretation.\n",
      "  warnings.warn(\n"
     ]
    },
    {
     "data": {
      "text/plain": [
       "<AxesSubplot:xlabel='NIHS_1c_in', ylabel='count'>"
      ]
     },
     "execution_count": 9,
     "metadata": {},
     "output_type": "execute_result"
    },
    {
     "data": {
      "image/png": "[encoded data removed]",
      "text/plain": [
       "<Figure size 432x288 with 1 Axes>"
      ]
     },
     "metadata": {
      "needs_background": "light"
     },
     "output_type": "display_data"
    }
   ],
   "source": [
    "sns.countplot(nihs1cin)"
   ]
  },
  {
   "cell_type": "code",
   "execution_count": 10,
   "metadata": {},
   "outputs": [
    {
     "name": "stdout",
     "output_type": "stream",
     "text": [
      "9.0         3\n",
      "3.0        32\n",
      "2.0     12152\n",
      "1.0     13233\n",
      "0.0    113107\n",
      "Name: NIHS_2_in, dtype: int64 count    138527.000000\n",
      "mean          0.271860\n",
      "std           0.613471\n",
      "min           0.000000\n",
      "25%           0.000000\n",
      "50%           0.000000\n",
      "75%           0.000000\n",
      "max           9.000000\n",
      "Name: NIHS_2_in, dtype: float64\n"
     ]
    }
   ],
   "source": [
    "#NIHS_2_in\n",
    "nihs2in = cdn.iloc[:,5]\n",
    "#print(nihs2in)\n",
    "print(nihs2in.value_counts().sort_values(ascending= True), nihs2in.describe())"
   ]
  },
  {
   "cell_type": "code",
   "execution_count": 11,
   "metadata": {},
   "outputs": [
    {
     "name": "stderr",
     "output_type": "stream",
     "text": [
      "C:\\Users\\Jacky C\\Anaconda3\\lib\\site-packages\\seaborn\\_decorators.py:36: FutureWarning: Pass the following variable as a keyword arg: x. From version 0.12, the only valid positional argument will be `data`, and passing other arguments without an explicit keyword will result in an error or misinterpretation.\n",
      "  warnings.warn(\n"
     ]
    },
    {
     "data": {
      "text/plain": [
       "<AxesSubplot:xlabel='NIHS_2_in', ylabel='count'>"
      ]
     },
     "execution_count": 11,
     "metadata": {},
     "output_type": "execute_result"
    },
    {
     "data": {
      "image/png": "[encoded data removed]",
      "text/plain": [
       "<Figure size 432x288 with 1 Axes>"
      ]
     },
     "metadata": {
      "needs_background": "light"
     },
     "output_type": "display_data"
    }
   ],
   "source": [
    "sns.countplot(nihs2in)"
   ]
  },
  {
   "cell_type": "code",
   "execution_count": 12,
   "metadata": {},
   "outputs": [
    {
     "name": "stdout",
     "output_type": "stream",
     "text": [
      "96.0         2\n",
      "4.0          2\n",
      "9.0          5\n",
      "3.0       4984\n",
      "1.0       7931\n",
      "2.0      11186\n",
      "0.0     114347\n",
      "Name: NIHS_3_in, dtype: int64 count    138457.000000\n",
      "mean          0.328622\n",
      "std           0.855983\n",
      "min           0.000000\n",
      "25%           0.000000\n",
      "50%           0.000000\n",
      "75%           0.000000\n",
      "max          96.000000\n",
      "Name: NIHS_3_in, dtype: float64\n"
     ]
    }
   ],
   "source": [
    "#NIHS_3_in\n",
    "nihs3in = cdn.iloc[:,6]\n",
    "#print(nihs3in)\n",
    "print(nihs3in.value_counts().sort_values(ascending= True), nihs3in.describe())"
   ]
  },
  {
   "cell_type": "code",
   "execution_count": 13,
   "metadata": {},
   "outputs": [
    {
     "name": "stderr",
     "output_type": "stream",
     "text": [
      "C:\\Users\\Jacky C\\Anaconda3\\lib\\site-packages\\seaborn\\_decorators.py:36: FutureWarning: Pass the following variable as a keyword arg: x. From version 0.12, the only valid positional argument will be `data`, and passing other arguments without an explicit keyword will result in an error or misinterpretation.\n",
      "  warnings.warn(\n"
     ]
    },
    {
     "data": {
      "text/plain": [
       "<AxesSubplot:xlabel='NIHS_3_in', ylabel='count'>"
      ]
     },
     "execution_count": 13,
     "metadata": {},
     "output_type": "execute_result"
    },
    {
     "data": {
      "image/png": "[encoded data removed]",
      "text/plain": [
       "<Figure size 432x288 with 1 Axes>"
      ]
     },
     "metadata": {
      "needs_background": "light"
     },
     "output_type": "display_data"
    }
   ],
   "source": [
    "sns.countplot(nihs3in)"
   ]
  },
  {
   "cell_type": "code",
   "execution_count": 14,
   "metadata": {},
   "outputs": [
    {
     "name": "stdout",
     "output_type": "stream",
     "text": [
      "96.0        1\n",
      "9.0         3\n",
      "4.0         6\n",
      "3.0      4473\n",
      "2.0     20248\n",
      "1.0     43870\n",
      "0.0     69851\n",
      "Name: NIHS_4_in, dtype: int64 count    138452.000000\n",
      "mean          0.707335\n",
      "std           0.872527\n",
      "min           0.000000\n",
      "25%           0.000000\n",
      "50%           0.000000\n",
      "75%           1.000000\n",
      "max          96.000000\n",
      "Name: NIHS_4_in, dtype: float64\n"
     ]
    }
   ],
   "source": [
    "#NIHS_4_in\n",
    "nihs4in = cdn.iloc[:,7]\n",
    "#print(nihs4in)\n",
    "print(nihs4in.value_counts().sort_values(ascending= True), nihs4in.describe())"
   ]
  },
  {
   "cell_type": "code",
   "execution_count": 15,
   "metadata": {},
   "outputs": [
    {
     "name": "stderr",
     "output_type": "stream",
     "text": [
      "C:\\Users\\Jacky C\\Anaconda3\\lib\\site-packages\\seaborn\\_decorators.py:36: FutureWarning: Pass the following variable as a keyword arg: x. From version 0.12, the only valid positional argument will be `data`, and passing other arguments without an explicit keyword will result in an error or misinterpretation.\n",
      "  warnings.warn(\n"
     ]
    },
    {
     "data": {
      "text/plain": [
       "<AxesSubplot:xlabel='NIHS_4_in', ylabel='count'>"
      ]
     },
     "execution_count": 15,
     "metadata": {},
     "output_type": "execute_result"
    },
    {
     "data": {
      "image/png": "[encoded data removed]",
      "text/plain": [
       "<Figure size 432x288 with 1 Axes>"
      ]
     },
     "metadata": {
      "needs_background": "light"
     },
     "output_type": "display_data"
    }
   ],
   "source": [
    "sns.countplot(nihs4in)"
   ]
  },
  {
   "cell_type": "code",
   "execution_count": 16,
   "metadata": {},
   "outputs": [
    {
     "name": "stdout",
     "output_type": "stream",
     "text": [
      "44.0        1\n",
      "11.0        1\n",
      "41.0        1\n",
      "9.0         7\n",
      "96.0       28\n",
      "3.0      8072\n",
      "2.0      9861\n",
      "4.0     13759\n",
      "1.0     25530\n",
      "0.0     81172\n",
      "Name: NIHS_5aL_in, dtype: int64 count    138432.000000\n",
      "mean          0.919953\n",
      "std           1.906123\n",
      "min           0.000000\n",
      "25%           0.000000\n",
      "50%           0.000000\n",
      "75%           1.000000\n",
      "max          96.000000\n",
      "Name: NIHS_5aL_in, dtype: float64\n"
     ]
    }
   ],
   "source": [
    "#NIHS_5aL_in\n",
    "nihs5alin = cdn.iloc[:,8]\n",
    "#print(nihs5alin)\n",
    "print(nihs5alin.value_counts().sort_values(ascending= True), nihs5alin.describe())"
   ]
  },
  {
   "cell_type": "code",
   "execution_count": 17,
   "metadata": {},
   "outputs": [
    {
     "name": "stderr",
     "output_type": "stream",
     "text": [
      "C:\\Users\\Jacky C\\Anaconda3\\lib\\site-packages\\seaborn\\_decorators.py:36: FutureWarning: Pass the following variable as a keyword arg: x. From version 0.12, the only valid positional argument will be `data`, and passing other arguments without an explicit keyword will result in an error or misinterpretation.\n",
      "  warnings.warn(\n"
     ]
    },
    {
     "data": {
      "text/plain": [
       "<AxesSubplot:xlabel='NIHS_5aL_in', ylabel='count'>"
      ]
     },
     "execution_count": 17,
     "metadata": {},
     "output_type": "execute_result"
    },
    {
     "data": {
      "image/png": "[encoded data removed]",
      "text/plain": [
       "<Figure size 432x288 with 1 Axes>"
      ]
     },
     "metadata": {
      "needs_background": "light"
     },
     "output_type": "display_data"
    }
   ],
   "source": [
    "sns.countplot(nihs5alin)"
   ]
  },
  {
   "cell_type": "code",
   "execution_count": 18,
   "metadata": {},
   "outputs": [
    {
     "name": "stdout",
     "output_type": "stream",
     "text": [
      "6.0         2\n",
      "9.0         7\n",
      "96.0       35\n",
      "3.0      8228\n",
      "2.0      9055\n",
      "4.0     13568\n",
      "1.0     25921\n",
      "0.0     81614\n",
      "Name: NIHS_5bR_in, dtype: int64 count    138430.000000\n",
      "mean          0.913256\n",
      "std           2.013156\n",
      "min           0.000000\n",
      "25%           0.000000\n",
      "50%           0.000000\n",
      "75%           1.000000\n",
      "max          96.000000\n",
      "Name: NIHS_5bR_in, dtype: float64\n"
     ]
    }
   ],
   "source": [
    "#NIHS_5bR_in\n",
    "nihs5brin = cdn.iloc[:,9]\n",
    "#print(nihs5brin)\n",
    "print(nihs5brin.value_counts().sort_values(ascending= True), nihs5brin.describe())"
   ]
  },
  {
   "cell_type": "code",
   "execution_count": 19,
   "metadata": {},
   "outputs": [
    {
     "name": "stderr",
     "output_type": "stream",
     "text": [
      "C:\\Users\\Jacky C\\Anaconda3\\lib\\site-packages\\seaborn\\_decorators.py:36: FutureWarning: Pass the following variable as a keyword arg: x. From version 0.12, the only valid positional argument will be `data`, and passing other arguments without an explicit keyword will result in an error or misinterpretation.\n",
      "  warnings.warn(\n"
     ]
    },
    {
     "data": {
      "text/plain": [
       "<AxesSubplot:xlabel='NIHS_5bR_in', ylabel='count'>"
      ]
     },
     "execution_count": 19,
     "metadata": {},
     "output_type": "execute_result"
    },
    {
     "data": {
      "image/png": "[encoded data removed]",
      "text/plain": [
       "<Figure size 432x288 with 1 Axes>"
      ]
     },
     "metadata": {
      "needs_background": "light"
     },
     "output_type": "display_data"
    }
   ],
   "source": [
    "sns.countplot(nihs5brin)"
   ]
  },
  {
   "cell_type": "code",
   "execution_count": 20,
   "metadata": {},
   "outputs": [
    {
     "name": "stdout",
     "output_type": "stream",
     "text": [
      "10.0        1\n",
      "9.0        20\n",
      "96.0      125\n",
      "3.0      9616\n",
      "4.0     11831\n",
      "2.0     12078\n",
      "1.0     26455\n",
      "0.0     78297\n",
      "Name: NIHS_6aL_in, dtype: int64 count    138423.000000\n",
      "mean          1.003973\n",
      "std           3.140019\n",
      "min           0.000000\n",
      "25%           0.000000\n",
      "50%           0.000000\n",
      "75%           1.000000\n",
      "max          96.000000\n",
      "Name: NIHS_6aL_in, dtype: float64\n"
     ]
    }
   ],
   "source": [
    "#NIHS_6aL_in\n",
    "nihs6alin = cdn.iloc[:,10]\n",
    "#print(nihs6alin)\n",
    "print(nihs6alin.value_counts().sort_values(ascending= True), nihs6alin.describe())"
   ]
  },
  {
   "cell_type": "code",
   "execution_count": 21,
   "metadata": {},
   "outputs": [
    {
     "name": "stderr",
     "output_type": "stream",
     "text": [
      "C:\\Users\\Jacky C\\Anaconda3\\lib\\site-packages\\seaborn\\_decorators.py:36: FutureWarning: Pass the following variable as a keyword arg: x. From version 0.12, the only valid positional argument will be `data`, and passing other arguments without an explicit keyword will result in an error or misinterpretation.\n",
      "  warnings.warn(\n"
     ]
    },
    {
     "data": {
      "text/plain": [
       "<AxesSubplot:xlabel='NIHS_6aL_in', ylabel='count'>"
      ]
     },
     "execution_count": 21,
     "metadata": {},
     "output_type": "execute_result"
    },
    {
     "data": {
      "image/png": "[encoded data removed]",
      "text/plain": [
       "<Figure size 432x288 with 1 Axes>"
      ]
     },
     "metadata": {
      "needs_background": "light"
     },
     "output_type": "display_data"
    }
   ],
   "source": [
    "sns.countplot(nihs6alin)"
   ]
  },
  {
   "cell_type": "code",
   "execution_count": 22,
   "metadata": {},
   "outputs": [
    {
     "name": "stdout",
     "output_type": "stream",
     "text": [
      "6.0         1\n",
      "44.0        1\n",
      "41.0        1\n",
      "14.0        1\n",
      "99.0        1\n",
      "9.0        25\n",
      "96.0      133\n",
      "3.0      9857\n",
      "2.0     11068\n",
      "4.0     11940\n",
      "1.0     25522\n",
      "0.0     79861\n",
      "Name: NIHS_6bR_in, dtype: int64 count    138411.000000\n",
      "mean          0.998374\n",
      "std           3.240018\n",
      "min           0.000000\n",
      "25%           0.000000\n",
      "50%           0.000000\n",
      "75%           1.000000\n",
      "max          99.000000\n",
      "Name: NIHS_6bR_in, dtype: float64\n"
     ]
    }
   ],
   "source": [
    "#NIHS_6bR_in\n",
    "nihs6brin = cdn.iloc[:,11]\n",
    "#print(nihs6brin)\n",
    "print(nihs6brin.value_counts().sort_values(ascending= True), nihs6brin.describe())"
   ]
  },
  {
   "cell_type": "code",
   "execution_count": 23,
   "metadata": {},
   "outputs": [
    {
     "name": "stderr",
     "output_type": "stream",
     "text": [
      "C:\\Users\\Jacky C\\Anaconda3\\lib\\site-packages\\seaborn\\_decorators.py:36: FutureWarning: Pass the following variable as a keyword arg: x. From version 0.12, the only valid positional argument will be `data`, and passing other arguments without an explicit keyword will result in an error or misinterpretation.\n",
      "  warnings.warn(\n"
     ]
    },
    {
     "data": {
      "text/plain": [
       "<AxesSubplot:xlabel='NIHS_6bR_in', ylabel='count'>"
      ]
     },
     "execution_count": 23,
     "metadata": {},
     "output_type": "execute_result"
    },
    {
     "data": {
      "image/png": "[encoded data removed]",
      "text/plain": [
       "<Figure size 432x288 with 1 Axes>"
      ]
     },
     "metadata": {
      "needs_background": "light"
     },
     "output_type": "display_data"
    }
   ],
   "source": [
    "sns.countplot(nihs6brin)"
   ]
  },
  {
   "cell_type": "code",
   "execution_count": 24,
   "metadata": {},
   "outputs": [
    {
     "name": "stdout",
     "output_type": "stream",
     "text": [
      "30.0         1\n",
      "10.0         1\n",
      "20.0         2\n",
      "4.0          3\n",
      "3.0          5\n",
      "96.0         9\n",
      "9.0         49\n",
      "2.0       8536\n",
      "1.0      13279\n",
      "0.0     115805\n",
      "Name: NIHS_7_in, dtype: int64 count    137690.000000\n",
      "mean          0.230685\n",
      "std           0.967564\n",
      "min           0.000000\n",
      "25%           0.000000\n",
      "50%           0.000000\n",
      "75%           0.000000\n",
      "max          96.000000\n",
      "Name: NIHS_7_in, dtype: float64\n"
     ]
    }
   ],
   "source": [
    "#NIHS_7_in\n",
    "nihs7in = cdn.iloc[:,12]\n",
    "#print(nihs7in)\n",
    "print(nihs7in.value_counts().sort_values(ascending= True), nihs7in.describe())"
   ]
  },
  {
   "cell_type": "code",
   "execution_count": 25,
   "metadata": {},
   "outputs": [
    {
     "name": "stderr",
     "output_type": "stream",
     "text": [
      "C:\\Users\\Jacky C\\Anaconda3\\lib\\site-packages\\seaborn\\_decorators.py:36: FutureWarning: Pass the following variable as a keyword arg: x. From version 0.12, the only valid positional argument will be `data`, and passing other arguments without an explicit keyword will result in an error or misinterpretation.\n",
      "  warnings.warn(\n"
     ]
    },
    {
     "data": {
      "text/plain": [
       "<AxesSubplot:xlabel='NIHS_7_in', ylabel='count'>"
      ]
     },
     "execution_count": 25,
     "metadata": {},
     "output_type": "execute_result"
    },
    {
     "data": {
      "image/png": "[encoded data removed]",
      "text/plain": [
       "<Figure size 432x288 with 1 Axes>"
      ]
     },
     "metadata": {
      "needs_background": "light"
     },
     "output_type": "display_data"
    }
   ],
   "source": [
    "sns.countplot(nihs7in)"
   ]
  },
  {
   "cell_type": "code",
   "execution_count": 26,
   "metadata": {},
   "outputs": [
    {
     "name": "stdout",
     "output_type": "stream",
     "text": [
      "96.0        1\n",
      "51.0        1\n",
      "4.0         2\n",
      "9.0         4\n",
      "3.0        15\n",
      "2.0      9509\n",
      "1.0     36711\n",
      "0.0     91441\n",
      "Name: NIHS_8_in, dtype: int64 count    137684.000000\n",
      "mean          0.406474\n",
      "std           0.683420\n",
      "min           0.000000\n",
      "25%           0.000000\n",
      "50%           0.000000\n",
      "75%           1.000000\n",
      "max          96.000000\n",
      "Name: NIHS_8_in, dtype: float64\n"
     ]
    }
   ],
   "source": [
    "#NIHS_8_in\n",
    "nihs8in = cdn.iloc[:,13]\n",
    "#print(nihs8in)\n",
    "print(nihs8in.value_counts().sort_values(ascending= True), nihs8in.describe())"
   ]
  },
  {
   "cell_type": "code",
   "execution_count": 27,
   "metadata": {},
   "outputs": [
    {
     "name": "stderr",
     "output_type": "stream",
     "text": [
      "C:\\Users\\Jacky C\\Anaconda3\\lib\\site-packages\\seaborn\\_decorators.py:36: FutureWarning: Pass the following variable as a keyword arg: x. From version 0.12, the only valid positional argument will be `data`, and passing other arguments without an explicit keyword will result in an error or misinterpretation.\n",
      "  warnings.warn(\n"
     ]
    },
    {
     "data": {
      "text/plain": [
       "<AxesSubplot:xlabel='NIHS_8_in', ylabel='count'>"
      ]
     },
     "execution_count": 27,
     "metadata": {},
     "output_type": "execute_result"
    },
    {
     "data": {
      "image/png": "[encoded data removed]",
      "text/plain": [
       "<Figure size 432x288 with 1 Axes>"
      ]
     },
     "metadata": {
      "needs_background": "light"
     },
     "output_type": "display_data"
    }
   ],
   "source": [
    "sns.countplot(nihs8in)"
   ]
  },
  {
   "cell_type": "code",
   "execution_count": 28,
   "metadata": {},
   "outputs": [
    {
     "name": "stdout",
     "output_type": "stream",
     "text": [
      "4.0          1\n",
      "96.0         5\n",
      "9.0         10\n",
      "2.0       9731\n",
      "1.0      11958\n",
      "3.0      14866\n",
      "0.0     101052\n",
      "Name: NIHS_9_in, dtype: int64 count    137623.000000\n",
      "mean          0.556535\n",
      "std           1.171754\n",
      "min           0.000000\n",
      "25%           0.000000\n",
      "50%           0.000000\n",
      "75%           1.000000\n",
      "max          96.000000\n",
      "Name: NIHS_9_in, dtype: float64\n"
     ]
    }
   ],
   "source": [
    "#NIHS_9_in\n",
    "nihs9in = cdn.iloc[:,14]\n",
    "#print(nihs9in)\n",
    "print(nihs9in.value_counts().sort_values(ascending= True), nihs9in.describe())"
   ]
  },
  {
   "cell_type": "code",
   "execution_count": 29,
   "metadata": {},
   "outputs": [
    {
     "name": "stderr",
     "output_type": "stream",
     "text": [
      "C:\\Users\\Jacky C\\Anaconda3\\lib\\site-packages\\seaborn\\_decorators.py:36: FutureWarning: Pass the following variable as a keyword arg: x. From version 0.12, the only valid positional argument will be `data`, and passing other arguments without an explicit keyword will result in an error or misinterpretation.\n",
      "  warnings.warn(\n"
     ]
    },
    {
     "data": {
      "text/plain": [
       "<AxesSubplot:xlabel='NIHS_9_in', ylabel='count'>"
      ]
     },
     "execution_count": 29,
     "metadata": {},
     "output_type": "execute_result"
    },
    {
     "data": {
      "image/png": "[encoded data removed]",
      "text/plain": [
       "<Figure size 432x288 with 1 Axes>"
      ]
     },
     "metadata": {
      "needs_background": "light"
     },
     "output_type": "display_data"
    }
   ],
   "source": [
    "sns.countplot(nihs9in)"
   ]
  },
  {
   "cell_type": "code",
   "execution_count": 30,
   "metadata": {},
   "outputs": [
    {
     "name": "stdout",
     "output_type": "stream",
     "text": [
      "6.0         1\n",
      "4.0         1\n",
      "11.0        2\n",
      "10.0        2\n",
      "3.0        35\n",
      "9.0       442\n",
      "96.0     3492\n",
      "2.0     20018\n",
      "1.0     45370\n",
      "0.0     68083\n",
      "Name: NIHS_10_in, dtype: int64 count    137446.000000\n",
      "mean          3.090472\n",
      "std          15.025794\n",
      "min           0.000000\n",
      "25%           0.000000\n",
      "50%           1.000000\n",
      "75%           1.000000\n",
      "max          96.000000\n",
      "Name: NIHS_10_in, dtype: float64\n"
     ]
    }
   ],
   "source": [
    "#NIHS_10_in\n",
    "nihs10in = cdn.iloc[:,15]\n",
    "#print(nihs10in)\n",
    "print(nihs10in.value_counts().sort_values(ascending= True), nihs10in.describe())"
   ]
  },
  {
   "cell_type": "code",
   "execution_count": 31,
   "metadata": {},
   "outputs": [
    {
     "name": "stderr",
     "output_type": "stream",
     "text": [
      "C:\\Users\\Jacky C\\Anaconda3\\lib\\site-packages\\seaborn\\_decorators.py:36: FutureWarning: Pass the following variable as a keyword arg: x. From version 0.12, the only valid positional argument will be `data`, and passing other arguments without an explicit keyword will result in an error or misinterpretation.\n",
      "  warnings.warn(\n"
     ]
    },
    {
     "data": {
      "text/plain": [
       "<AxesSubplot:xlabel='NIHS_10_in', ylabel='count'>"
      ]
     },
     "execution_count": 31,
     "metadata": {},
     "output_type": "execute_result"
    },
    {
     "data": {
      "image/png": "[encoded data removed]",
      "text/plain": [
       "<Figure size 432x288 with 1 Axes>"
      ]
     },
     "metadata": {
      "needs_background": "light"
     },
     "output_type": "display_data"
    }
   ],
   "source": [
    "sns.countplot(nihs10in)"
   ]
  },
  {
   "cell_type": "code",
   "execution_count": 32,
   "metadata": {},
   "outputs": [
    {
     "name": "stdout",
     "output_type": "stream",
     "text": [
      "6.0          1\n",
      "4.0          1\n",
      "10.0         1\n",
      "9.0          4\n",
      "96.0         5\n",
      "3.0          5\n",
      "20.0         6\n",
      "2.0       6559\n",
      "1.0       8849\n",
      "0.0     121999\n",
      "Name: NIHS_11_in, dtype: int64 count    137430.000000\n",
      "mean          0.164724\n",
      "std           0.764667\n",
      "min           0.000000\n",
      "25%           0.000000\n",
      "50%           0.000000\n",
      "75%           0.000000\n",
      "max          96.000000\n",
      "Name: NIHS_11_in, dtype: float64\n"
     ]
    }
   ],
   "source": [
    "#NIHS_11_in\n",
    "nihs11in = cdn.iloc[:,16]\n",
    "#print(nihs11in)\n",
    "print(nihs11in.value_counts().sort_values(ascending= True), nihs11in.describe())"
   ]
  },
  {
   "cell_type": "code",
   "execution_count": 33,
   "metadata": {},
   "outputs": [
    {
     "name": "stderr",
     "output_type": "stream",
     "text": [
      "C:\\Users\\Jacky C\\Anaconda3\\lib\\site-packages\\seaborn\\_decorators.py:36: FutureWarning: Pass the following variable as a keyword arg: x. From version 0.12, the only valid positional argument will be `data`, and passing other arguments without an explicit keyword will result in an error or misinterpretation.\n",
      "  warnings.warn(\n"
     ]
    },
    {
     "data": {
      "text/plain": [
       "<AxesSubplot:xlabel='NIHS_11_in', ylabel='count'>"
      ]
     },
     "execution_count": 33,
     "metadata": {},
     "output_type": "execute_result"
    },
    {
     "data": {
      "image/png": "[encoded data removed]",
      "text/plain": [
       "<Figure size 432x288 with 1 Axes>"
      ]
     },
     "metadata": {
      "needs_background": "light"
     },
     "output_type": "display_data"
    }
   ],
   "source": [
    "sns.countplot(nihs11in)"
   ]
  },
  {
   "cell_type": "code",
   "execution_count": 34,
   "metadata": {},
   "outputs": [
    {
     "name": "stdout",
     "output_type": "stream",
     "text": [
      "5.0          1\n",
      "11.0         1\n",
      "12.0         1\n",
      "10.0         1\n",
      "4.0          1\n",
      "9.0          3\n",
      "2.0       4216\n",
      "3.0       4399\n",
      "1.0       5780\n",
      "0.0     124387\n",
      "Name: NIHS_1a_out, dtype: int64 count    138790.000000\n",
      "mean          0.197983\n",
      "std           0.643345\n",
      "min           0.000000\n",
      "25%           0.000000\n",
      "50%           0.000000\n",
      "75%           0.000000\n",
      "max          12.000000\n",
      "Name: NIHS_1a_out, dtype: float64\n"
     ]
    }
   ],
   "source": [
    "#NIHS_1a_out\n",
    "nihs1aout = cdn.iloc[:,17]\n",
    "#print(nihs1aout)\n",
    "print(nihs1aout.value_counts().sort_values(ascending= True), nihs1aout.describe())"
   ]
  },
  {
   "cell_type": "code",
   "execution_count": 35,
   "metadata": {},
   "outputs": [
    {
     "name": "stderr",
     "output_type": "stream",
     "text": [
      "C:\\Users\\Jacky C\\Anaconda3\\lib\\site-packages\\seaborn\\_decorators.py:36: FutureWarning: Pass the following variable as a keyword arg: x. From version 0.12, the only valid positional argument will be `data`, and passing other arguments without an explicit keyword will result in an error or misinterpretation.\n",
      "  warnings.warn(\n"
     ]
    },
    {
     "data": {
      "text/plain": [
       "<AxesSubplot:xlabel='NIHS_1a_out', ylabel='count'>"
      ]
     },
     "execution_count": 35,
     "metadata": {},
     "output_type": "execute_result"
    },
    {
     "data": {
      "image/png": "[encoded data removed]",
      "text/plain": [
       "<Figure size 432x288 with 1 Axes>"
      ]
     },
     "metadata": {
      "needs_background": "light"
     },
     "output_type": "display_data"
    }
   ],
   "source": [
    "sns.countplot(nihs1aout)"
   ]
  },
  {
   "cell_type": "code",
   "execution_count": 36,
   "metadata": {},
   "outputs": [
    {
     "name": "stdout",
     "output_type": "stream",
     "text": [
      "21.0         1\n",
      "10.0         1\n",
      "3.0          6\n",
      "9.0          7\n",
      "1.0       9313\n",
      "2.0      19071\n",
      "0.0     110202\n",
      "Name: NIHS_1b_out, dtype: int64 count    138601.000000\n",
      "mean          0.343194\n",
      "std           0.712870\n",
      "min           0.000000\n",
      "25%           0.000000\n",
      "50%           0.000000\n",
      "75%           0.000000\n",
      "max          21.000000\n",
      "Name: NIHS_1b_out, dtype: float64\n"
     ]
    }
   ],
   "source": [
    "#NIHS_1b_out\n",
    "nihs1bout = cdn.iloc[:,18]\n",
    "#print(nihs1bout)\n",
    "print(nihs1bout.value_counts().sort_values(ascending= True), nihs1bout.describe())"
   ]
  },
  {
   "cell_type": "code",
   "execution_count": 37,
   "metadata": {},
   "outputs": [
    {
     "name": "stderr",
     "output_type": "stream",
     "text": [
      "C:\\Users\\Jacky C\\Anaconda3\\lib\\site-packages\\seaborn\\_decorators.py:36: FutureWarning: Pass the following variable as a keyword arg: x. From version 0.12, the only valid positional argument will be `data`, and passing other arguments without an explicit keyword will result in an error or misinterpretation.\n",
      "  warnings.warn(\n"
     ]
    },
    {
     "data": {
      "text/plain": [
       "<AxesSubplot:xlabel='NIHS_1b_out', ylabel='count'>"
      ]
     },
     "execution_count": 37,
     "metadata": {},
     "output_type": "execute_result"
    },
    {
     "data": {
      "image/png": "[encoded data removed]",
      "text/plain": [
       "<Figure size 432x288 with 1 Axes>"
      ]
     },
     "metadata": {
      "needs_background": "light"
     },
     "output_type": "display_data"
    }
   ],
   "source": [
    "sns.countplot(nihs1bout)"
   ]
  },
  {
   "cell_type": "code",
   "execution_count": 38,
   "metadata": {},
   "outputs": [
    {
     "name": "stdout",
     "output_type": "stream",
     "text": [
      "9.0         3\n",
      "3.0         4\n",
      "1.0      4741\n",
      "2.0     12698\n",
      "0.0    121104\n",
      "Name: NIHS_1c_out, dtype: int64 count    138550.000000\n",
      "mean          0.217799\n",
      "std           0.596151\n",
      "min           0.000000\n",
      "25%           0.000000\n",
      "50%           0.000000\n",
      "75%           0.000000\n",
      "max           9.000000\n",
      "Name: NIHS_1c_out, dtype: float64\n"
     ]
    }
   ],
   "source": [
    "#NIHS_1c_out\n",
    "nihs1cout = cdn.iloc[:,19]\n",
    "#print(nihs1cout)\n",
    "print(nihs1cout.value_counts().sort_values(ascending= True), nihs1cout.describe())"
   ]
  },
  {
   "cell_type": "code",
   "execution_count": 39,
   "metadata": {},
   "outputs": [
    {
     "name": "stderr",
     "output_type": "stream",
     "text": [
      "C:\\Users\\Jacky C\\Anaconda3\\lib\\site-packages\\seaborn\\_decorators.py:36: FutureWarning: Pass the following variable as a keyword arg: x. From version 0.12, the only valid positional argument will be `data`, and passing other arguments without an explicit keyword will result in an error or misinterpretation.\n",
      "  warnings.warn(\n"
     ]
    },
    {
     "data": {
      "text/plain": [
       "<AxesSubplot:xlabel='NIHS_1c_out', ylabel='count'>"
      ]
     },
     "execution_count": 39,
     "metadata": {},
     "output_type": "execute_result"
    },
    {
     "data": {
      "image/png": "[encoded data removed]",
      "text/plain": [
       "<Figure size 432x288 with 1 Axes>"
      ]
     },
     "metadata": {
      "needs_background": "light"
     },
     "output_type": "display_data"
    }
   ],
   "source": [
    "sns.countplot(nihs1cout)"
   ]
  },
  {
   "cell_type": "code",
   "execution_count": 40,
   "metadata": {},
   "outputs": [
    {
     "name": "stdout",
     "output_type": "stream",
     "text": [
      "10.0         1\n",
      "96.0         1\n",
      "9.0          3\n",
      "3.0         41\n",
      "2.0       6481\n",
      "1.0       8207\n",
      "0.0     123793\n",
      "Name: NIHS_2_out, dtype: int64 count    138527.000000\n",
      "mean          0.154663\n",
      "std           0.542342\n",
      "min           0.000000\n",
      "25%           0.000000\n",
      "50%           0.000000\n",
      "75%           0.000000\n",
      "max          96.000000\n",
      "Name: NIHS_2_out, dtype: float64\n"
     ]
    }
   ],
   "source": [
    "#NIHS_2_out\n",
    "nihs2out = cdn.iloc[:,20]\n",
    "#print(nihs2out)\n",
    "print(nihs2out.value_counts().sort_values(ascending= True), nihs2out.describe())"
   ]
  },
  {
   "cell_type": "code",
   "execution_count": 41,
   "metadata": {},
   "outputs": [
    {
     "name": "stderr",
     "output_type": "stream",
     "text": [
      "C:\\Users\\Jacky C\\Anaconda3\\lib\\site-packages\\seaborn\\_decorators.py:36: FutureWarning: Pass the following variable as a keyword arg: x. From version 0.12, the only valid positional argument will be `data`, and passing other arguments without an explicit keyword will result in an error or misinterpretation.\n",
      "  warnings.warn(\n"
     ]
    },
    {
     "data": {
      "text/plain": [
       "<AxesSubplot:xlabel='NIHS_2_out', ylabel='count'>"
      ]
     },
     "execution_count": 41,
     "metadata": {},
     "output_type": "execute_result"
    },
    {
     "data": {
      "image/png": "[encoded data removed]",
      "text/plain": [
       "<Figure size 432x288 with 1 Axes>"
      ]
     },
     "metadata": {
      "needs_background": "light"
     },
     "output_type": "display_data"
    }
   ],
   "source": [
    "sns.countplot(nihs2out)"
   ]
  },
  {
   "cell_type": "code",
   "execution_count": 42,
   "metadata": {},
   "outputs": [
    {
     "name": "stdout",
     "output_type": "stream",
     "text": [
      "20.0         1\n",
      "4.0          1\n",
      "96.0         4\n",
      "9.0          5\n",
      "3.0       4334\n",
      "1.0       6276\n",
      "2.0       6479\n",
      "0.0     121357\n",
      "Name: NIHS_3_out, dtype: int64 count    138457.000000\n",
      "mean          0.236095\n",
      "std           0.854791\n",
      "min           0.000000\n",
      "25%           0.000000\n",
      "50%           0.000000\n",
      "75%           0.000000\n",
      "max          96.000000\n",
      "Name: NIHS_3_out, dtype: float64\n"
     ]
    }
   ],
   "source": [
    "#NIHS_3_out\n",
    "nihs3out = cdn.iloc[:,21]\n",
    "#print(nihs3out)\n",
    "print(nihs3out.value_counts().sort_values(ascending= True), nihs3out.describe())"
   ]
  },
  {
   "cell_type": "code",
   "execution_count": 43,
   "metadata": {},
   "outputs": [
    {
     "name": "stderr",
     "output_type": "stream",
     "text": [
      "C:\\Users\\Jacky C\\Anaconda3\\lib\\site-packages\\seaborn\\_decorators.py:36: FutureWarning: Pass the following variable as a keyword arg: x. From version 0.12, the only valid positional argument will be `data`, and passing other arguments without an explicit keyword will result in an error or misinterpretation.\n",
      "  warnings.warn(\n"
     ]
    },
    {
     "data": {
      "text/plain": [
       "<AxesSubplot:xlabel='NIHS_3_out', ylabel='count'>"
      ]
     },
     "execution_count": 43,
     "metadata": {},
     "output_type": "execute_result"
    },
    {
     "data": {
      "image/png": "[encoded data removed]",
      "text/plain": [
       "<Figure size 432x288 with 1 Axes>"
      ]
     },
     "metadata": {
      "needs_background": "light"
     },
     "output_type": "display_data"
    }
   ],
   "source": [
    "sns.countplot(nihs3out)"
   ]
  },
  {
   "cell_type": "code",
   "execution_count": 44,
   "metadata": {},
   "outputs": [
    {
     "name": "stdout",
     "output_type": "stream",
     "text": [
      "13.0        1\n",
      "22.0        1\n",
      "14.0        1\n",
      "9.0         3\n",
      "10.0        3\n",
      "4.0         9\n",
      "3.0      4101\n",
      "2.0     12787\n",
      "1.0     43270\n",
      "0.0     78276\n",
      "Name: NIHS_4_out, dtype: int64 count    138452.000000\n",
      "mean          0.587128\n",
      "std           0.784167\n",
      "min           0.000000\n",
      "25%           0.000000\n",
      "50%           0.000000\n",
      "75%           1.000000\n",
      "max          22.000000\n",
      "Name: NIHS_4_out, dtype: float64\n"
     ]
    }
   ],
   "source": [
    "#NIHS_4_out\n",
    "nihs4out = cdn.iloc[:,22]\n",
    "#print(nihs4out)\n",
    "print(nihs4out.value_counts().sort_values(ascending= True), nihs4out.describe())"
   ]
  },
  {
   "cell_type": "code",
   "execution_count": 45,
   "metadata": {},
   "outputs": [
    {
     "name": "stderr",
     "output_type": "stream",
     "text": [
      "C:\\Users\\Jacky C\\Anaconda3\\lib\\site-packages\\seaborn\\_decorators.py:36: FutureWarning: Pass the following variable as a keyword arg: x. From version 0.12, the only valid positional argument will be `data`, and passing other arguments without an explicit keyword will result in an error or misinterpretation.\n",
      "  warnings.warn(\n"
     ]
    },
    {
     "data": {
      "text/plain": [
       "<AxesSubplot:xlabel='NIHS_4_out', ylabel='count'>"
      ]
     },
     "execution_count": 45,
     "metadata": {},
     "output_type": "execute_result"
    },
    {
     "data": {
      "image/png": "[encoded data removed]",
      "text/plain": [
       "<Figure size 432x288 with 1 Axes>"
      ]
     },
     "metadata": {
      "needs_background": "light"
     },
     "output_type": "display_data"
    }
   ],
   "source": [
    "sns.countplot(nihs4out)"
   ]
  },
  {
   "cell_type": "code",
   "execution_count": 46,
   "metadata": {},
   "outputs": [
    {
     "name": "stdout",
     "output_type": "stream",
     "text": [
      "10.0        1\n",
      "9.0         8\n",
      "96.0       25\n",
      "3.0      6647\n",
      "2.0      7228\n",
      "4.0     10933\n",
      "1.0     20666\n",
      "0.0     92924\n",
      "Name: NIHS_5aL_out, dtype: int64 count    138432.000000\n",
      "mean          0.731601\n",
      "std           1.785628\n",
      "min           0.000000\n",
      "25%           0.000000\n",
      "50%           0.000000\n",
      "75%           1.000000\n",
      "max          96.000000\n",
      "Name: NIHS_5aL_out, dtype: float64\n"
     ]
    }
   ],
   "source": [
    "#NIHS_5aL_out\n",
    "nihs5alout = cdn.iloc[:,23]\n",
    "#print(nihs5alout)\n",
    "print(nihs5alout.value_counts().sort_values(ascending= True), nihs5alout.describe())"
   ]
  },
  {
   "cell_type": "code",
   "execution_count": 47,
   "metadata": {},
   "outputs": [
    {
     "name": "stderr",
     "output_type": "stream",
     "text": [
      "C:\\Users\\Jacky C\\Anaconda3\\lib\\site-packages\\seaborn\\_decorators.py:36: FutureWarning: Pass the following variable as a keyword arg: x. From version 0.12, the only valid positional argument will be `data`, and passing other arguments without an explicit keyword will result in an error or misinterpretation.\n",
      "  warnings.warn(\n"
     ]
    },
    {
     "data": {
      "text/plain": [
       "<AxesSubplot:xlabel='NIHS_5aL_out', ylabel='count'>"
      ]
     },
     "execution_count": 47,
     "metadata": {},
     "output_type": "execute_result"
    },
    {
     "data": {
      "image/png": "[encoded data removed]",
      "text/plain": [
       "<Figure size 432x288 with 1 Axes>"
      ]
     },
     "metadata": {
      "needs_background": "light"
     },
     "output_type": "display_data"
    }
   ],
   "source": [
    "sns.countplot(nihs5alout)"
   ]
  },
  {
   "cell_type": "code",
   "execution_count": 48,
   "metadata": {},
   "outputs": [
    {
     "name": "stdout",
     "output_type": "stream",
     "text": [
      "47.0        1\n",
      "6.0         1\n",
      "44.0        1\n",
      "41.0        1\n",
      "10.0        1\n",
      "9.0        12\n",
      "96.0       29\n",
      "3.0      6631\n",
      "2.0      7137\n",
      "4.0     11005\n",
      "1.0     20634\n",
      "0.0     92977\n",
      "Name: NIHS_5bR_out, dtype: int64 count    138430.000000\n",
      "mean          0.735830\n",
      "std           1.870221\n",
      "min           0.000000\n",
      "25%           0.000000\n",
      "50%           0.000000\n",
      "75%           1.000000\n",
      "max          96.000000\n",
      "Name: NIHS_5bR_out, dtype: float64\n"
     ]
    }
   ],
   "source": [
    "#NIHS_5bR_out\n",
    "nihs5brout = cdn.iloc[:,24]\n",
    "#print(nihs5brout)\n",
    "print(nihs5brout.value_counts().sort_values(ascending= True), nihs5brout.describe())"
   ]
  },
  {
   "cell_type": "code",
   "execution_count": 49,
   "metadata": {},
   "outputs": [
    {
     "name": "stderr",
     "output_type": "stream",
     "text": [
      "C:\\Users\\Jacky C\\Anaconda3\\lib\\site-packages\\seaborn\\_decorators.py:36: FutureWarning: Pass the following variable as a keyword arg: x. From version 0.12, the only valid positional argument will be `data`, and passing other arguments without an explicit keyword will result in an error or misinterpretation.\n",
      "  warnings.warn(\n"
     ]
    },
    {
     "data": {
      "text/plain": [
       "<AxesSubplot:xlabel='NIHS_5bR_out', ylabel='count'>"
      ]
     },
     "execution_count": 49,
     "metadata": {},
     "output_type": "execute_result"
    },
    {
     "data": {
      "image/png": "[encoded data removed]",
      "text/plain": [
       "<Figure size 432x288 with 1 Axes>"
      ]
     },
     "metadata": {
      "needs_background": "light"
     },
     "output_type": "display_data"
    }
   ],
   "source": [
    "sns.countplot(nihs5brout)"
   ]
  },
  {
   "cell_type": "code",
   "execution_count": 50,
   "metadata": {},
   "outputs": [
    {
     "name": "stdout",
     "output_type": "stream",
     "text": [
      "30.0        1\n",
      "33.0        1\n",
      "9.0        30\n",
      "96.0      126\n",
      "3.0      7580\n",
      "2.0      8778\n",
      "4.0      9290\n",
      "1.0     22854\n",
      "0.0     89763\n",
      "Name: NIHS_6aL_out, dtype: int64 count    138423.000000\n",
      "mean          0.814453\n",
      "std           3.121372\n",
      "min           0.000000\n",
      "25%           0.000000\n",
      "50%           0.000000\n",
      "75%           1.000000\n",
      "max          96.000000\n",
      "Name: NIHS_6aL_out, dtype: float64\n"
     ]
    }
   ],
   "source": [
    "#NIHS_6aL_out\n",
    "nihs6alout = cdn.iloc[:,25]\n",
    "#print(nihs6alout)\n",
    "print(nihs6alout.value_counts().sort_values(ascending= True), nihs6alout.describe())"
   ]
  },
  {
   "cell_type": "code",
   "execution_count": 51,
   "metadata": {},
   "outputs": [
    {
     "name": "stderr",
     "output_type": "stream",
     "text": [
      "C:\\Users\\Jacky C\\Anaconda3\\lib\\site-packages\\seaborn\\_decorators.py:36: FutureWarning: Pass the following variable as a keyword arg: x. From version 0.12, the only valid positional argument will be `data`, and passing other arguments without an explicit keyword will result in an error or misinterpretation.\n",
      "  warnings.warn(\n"
     ]
    },
    {
     "data": {
      "text/plain": [
       "<AxesSubplot:xlabel='NIHS_6aL_out', ylabel='count'>"
      ]
     },
     "execution_count": 51,
     "metadata": {},
     "output_type": "execute_result"
    },
    {
     "data": {
      "image/png": "[encoded data removed]",
      "text/plain": [
       "<Figure size 432x288 with 1 Axes>"
      ]
     },
     "metadata": {
      "needs_background": "light"
     },
     "output_type": "display_data"
    }
   ],
   "source": [
    "sns.countplot(nihs6alout)"
   ]
  },
  {
   "cell_type": "code",
   "execution_count": 52,
   "metadata": {},
   "outputs": [
    {
     "name": "stdout",
     "output_type": "stream",
     "text": [
      "20.0        1\n",
      "99.0        1\n",
      "10.0        2\n",
      "9.0        31\n",
      "96.0      126\n",
      "3.0      7585\n",
      "2.0      8674\n",
      "4.0      9379\n",
      "1.0     22151\n",
      "0.0     90461\n",
      "Name: NIHS_6bR_out, dtype: int64 count    138411.000000\n",
      "mean          0.811236\n",
      "std           3.132568\n",
      "min           0.000000\n",
      "25%           0.000000\n",
      "50%           0.000000\n",
      "75%           1.000000\n",
      "max          99.000000\n",
      "Name: NIHS_6bR_out, dtype: float64\n"
     ]
    }
   ],
   "source": [
    "#NIHS_6bR_out\n",
    "nihs6brout = cdn.iloc[:,26]\n",
    "#print(nihs6brout)\n",
    "print(nihs6brout.value_counts().sort_values(ascending= True), nihs6brout.describe())"
   ]
  },
  {
   "cell_type": "code",
   "execution_count": 53,
   "metadata": {},
   "outputs": [
    {
     "name": "stderr",
     "output_type": "stream",
     "text": [
      "C:\\Users\\Jacky C\\Anaconda3\\lib\\site-packages\\seaborn\\_decorators.py:36: FutureWarning: Pass the following variable as a keyword arg: x. From version 0.12, the only valid positional argument will be `data`, and passing other arguments without an explicit keyword will result in an error or misinterpretation.\n",
      "  warnings.warn(\n"
     ]
    },
    {
     "data": {
      "text/plain": [
       "<AxesSubplot:xlabel='NIHS_6bR_out', ylabel='count'>"
      ]
     },
     "execution_count": 53,
     "metadata": {},
     "output_type": "execute_result"
    },
    {
     "data": {
      "image/png": "[encoded data removed]",
      "text/plain": [
       "<Figure size 432x288 with 1 Axes>"
      ]
     },
     "metadata": {
      "needs_background": "light"
     },
     "output_type": "display_data"
    }
   ],
   "source": [
    "sns.countplot(nihs6brout)"
   ]
  },
  {
   "cell_type": "code",
   "execution_count": 54,
   "metadata": {},
   "outputs": [
    {
     "name": "stdout",
     "output_type": "stream",
     "text": [
      "30.0         1\n",
      "5.0          1\n",
      "96.0         8\n",
      "3.0          8\n",
      "4.0         10\n",
      "9.0         42\n",
      "2.0       4954\n",
      "1.0      10177\n",
      "0.0     122489\n",
      "Name: NIHS_7_out, dtype: int64 count    137690.000000\n",
      "mean          0.154913\n",
      "std           0.873162\n",
      "min           0.000000\n",
      "25%           0.000000\n",
      "50%           0.000000\n",
      "75%           0.000000\n",
      "max          96.000000\n",
      "Name: NIHS_7_out, dtype: float64\n"
     ]
    }
   ],
   "source": [
    "#NIHS_7_out\n",
    "nihs7out = cdn.iloc[:,27]\n",
    "#print(nihs7out)\n",
    "print(nihs7out.value_counts().sort_values(ascending= True), nihs7out.describe())"
   ]
  },
  {
   "cell_type": "code",
   "execution_count": 55,
   "metadata": {},
   "outputs": [
    {
     "name": "stderr",
     "output_type": "stream",
     "text": [
      "C:\\Users\\Jacky C\\Anaconda3\\lib\\site-packages\\seaborn\\_decorators.py:36: FutureWarning: Pass the following variable as a keyword arg: x. From version 0.12, the only valid positional argument will be `data`, and passing other arguments without an explicit keyword will result in an error or misinterpretation.\n",
      "  warnings.warn(\n"
     ]
    },
    {
     "data": {
      "text/plain": [
       "<AxesSubplot:xlabel='NIHS_7_out', ylabel='count'>"
      ]
     },
     "execution_count": 55,
     "metadata": {},
     "output_type": "execute_result"
    },
    {
     "data": {
      "image/png": "[encoded data removed]",
      "text/plain": [
       "<Figure size 432x288 with 1 Axes>"
      ]
     },
     "metadata": {
      "needs_background": "light"
     },
     "output_type": "display_data"
    }
   ],
   "source": [
    "sns.countplot(nihs7out)"
   ]
  },
  {
   "cell_type": "code",
   "execution_count": 56,
   "metadata": {},
   "outputs": [
    {
     "name": "stdout",
     "output_type": "stream",
     "text": [
      "5.0         1\n",
      "4.0         1\n",
      "9.0         7\n",
      "3.0        16\n",
      "2.0      6329\n",
      "1.0     29323\n",
      "0.0    102007\n",
      "Name: NIHS_8_out, dtype: int64 count    137684.000000\n",
      "mean          0.305780\n",
      "std           0.555703\n",
      "min           0.000000\n",
      "25%           0.000000\n",
      "50%           0.000000\n",
      "75%           1.000000\n",
      "max           9.000000\n",
      "Name: NIHS_8_out, dtype: float64\n"
     ]
    }
   ],
   "source": [
    "#NIHS_8_out\n",
    "nihs8out = cdn.iloc[:,28]\n",
    "#print(nihs8out)\n",
    "print(nihs8out.value_counts().sort_values(ascending= True), nihs8out.describe())"
   ]
  },
  {
   "cell_type": "code",
   "execution_count": 57,
   "metadata": {},
   "outputs": [
    {
     "name": "stderr",
     "output_type": "stream",
     "text": [
      "C:\\Users\\Jacky C\\Anaconda3\\lib\\site-packages\\seaborn\\_decorators.py:36: FutureWarning: Pass the following variable as a keyword arg: x. From version 0.12, the only valid positional argument will be `data`, and passing other arguments without an explicit keyword will result in an error or misinterpretation.\n",
      "  warnings.warn(\n"
     ]
    },
    {
     "data": {
      "text/plain": [
       "<AxesSubplot:xlabel='NIHS_8_out', ylabel='count'>"
      ]
     },
     "execution_count": 57,
     "metadata": {},
     "output_type": "execute_result"
    },
    {
     "data": {
      "image/png": "[encoded data removed]",
      "text/plain": [
       "<Figure size 432x288 with 1 Axes>"
      ]
     },
     "metadata": {
      "needs_background": "light"
     },
     "output_type": "display_data"
    }
   ],
   "source": [
    "sns.countplot(nihs8out)"
   ]
  },
  {
   "cell_type": "code",
   "execution_count": 58,
   "metadata": {},
   "outputs": [
    {
     "name": "stdout",
     "output_type": "stream",
     "text": [
      "5.0          1\n",
      "6.0          1\n",
      "96.0         7\n",
      "9.0         14\n",
      "2.0       8079\n",
      "3.0      10062\n",
      "1.0      10179\n",
      "0.0     109280\n",
      "Name: NIHS_9_out, dtype: int64 count    137623.000000\n",
      "mean          0.416587\n",
      "std           1.127253\n",
      "min           0.000000\n",
      "25%           0.000000\n",
      "50%           0.000000\n",
      "75%           0.000000\n",
      "max          96.000000\n",
      "Name: NIHS_9_out, dtype: float64\n"
     ]
    }
   ],
   "source": [
    "#NIHS_9_out\n",
    "nihs9out = cdn.iloc[:,29]\n",
    "#print(nihs9out)\n",
    "print(nihs9out.value_counts().sort_values(ascending= True), nihs9out.describe())"
   ]
  },
  {
   "cell_type": "code",
   "execution_count": 59,
   "metadata": {},
   "outputs": [
    {
     "name": "stderr",
     "output_type": "stream",
     "text": [
      "C:\\Users\\Jacky C\\Anaconda3\\lib\\site-packages\\seaborn\\_decorators.py:36: FutureWarning: Pass the following variable as a keyword arg: x. From version 0.12, the only valid positional argument will be `data`, and passing other arguments without an explicit keyword will result in an error or misinterpretation.\n",
      "  warnings.warn(\n"
     ]
    },
    {
     "data": {
      "text/plain": [
       "<AxesSubplot:xlabel='NIHS_9_out', ylabel='count'>"
      ]
     },
     "execution_count": 59,
     "metadata": {},
     "output_type": "execute_result"
    },
    {
     "data": {
      "image/png": "[encoded data removed]",
      "text/plain": [
       "<Figure size 432x288 with 1 Axes>"
      ]
     },
     "metadata": {
      "needs_background": "light"
     },
     "output_type": "display_data"
    }
   ],
   "source": [
    "sns.countplot(nihs9out)"
   ]
  },
  {
   "cell_type": "code",
   "execution_count": 60,
   "metadata": {},
   "outputs": [
    {
     "name": "stdout",
     "output_type": "stream",
     "text": [
      "6.0         1\n",
      "11.0        1\n",
      "5.0         1\n",
      "20.0        1\n",
      "4.0         2\n",
      "10.0        4\n",
      "3.0        47\n",
      "9.0       523\n",
      "96.0     2575\n",
      "2.0     14387\n",
      "1.0     38564\n",
      "0.0     81340\n",
      "Name: NIHS_10_out, dtype: int64 count    137446.000000\n",
      "mean          2.324375\n",
      "std          12.972078\n",
      "min           0.000000\n",
      "25%           0.000000\n",
      "50%           0.000000\n",
      "75%           1.000000\n",
      "max          96.000000\n",
      "Name: NIHS_10_out, dtype: float64\n"
     ]
    }
   ],
   "source": [
    "#NIHS_10_out\n",
    "nihs10out = cdn.iloc[:,30]\n",
    "#print(nihs10out)\n",
    "print(nihs10out.value_counts().sort_values(ascending= True), nihs10out.describe())"
   ]
  },
  {
   "cell_type": "code",
   "execution_count": 61,
   "metadata": {},
   "outputs": [
    {
     "name": "stderr",
     "output_type": "stream",
     "text": [
      "C:\\Users\\Jacky C\\Anaconda3\\lib\\site-packages\\seaborn\\_decorators.py:36: FutureWarning: Pass the following variable as a keyword arg: x. From version 0.12, the only valid positional argument will be `data`, and passing other arguments without an explicit keyword will result in an error or misinterpretation.\n",
      "  warnings.warn(\n"
     ]
    },
    {
     "data": {
      "text/plain": [
       "<AxesSubplot:xlabel='NIHS_10_out', ylabel='count'>"
      ]
     },
     "execution_count": 61,
     "metadata": {},
     "output_type": "execute_result"
    },
    {
     "data": {
      "image/png": "[encoded data removed]",
      "text/plain": [
       "<Figure size 432x288 with 1 Axes>"
      ]
     },
     "metadata": {
      "needs_background": "light"
     },
     "output_type": "display_data"
    }
   ],
   "source": [
    "sns.countplot(nihs10out)"
   ]
  },
  {
   "cell_type": "code",
   "execution_count": 62,
   "metadata": {},
   "outputs": [
    {
     "name": "stdout",
     "output_type": "stream",
     "text": [
      "5.0          1\n",
      "4.0          1\n",
      "10.0         1\n",
      "96.0         5\n",
      "3.0          5\n",
      "9.0          9\n",
      "2.0       4504\n",
      "1.0       5588\n",
      "0.0     127316\n",
      "Name: NIHS_11_out, dtype: int64 count    137430.000000\n",
      "mean          0.110536\n",
      "std           0.708163\n",
      "min           0.000000\n",
      "25%           0.000000\n",
      "50%           0.000000\n",
      "75%           0.000000\n",
      "max          96.000000\n",
      "Name: NIHS_11_out, dtype: float64\n"
     ]
    }
   ],
   "source": [
    "#NIHS_11_out\n",
    "nihs11out = cdn.iloc[:,31]\n",
    "#print(nihs11out)\n",
    "print(nihs11out.value_counts().sort_values(ascending= True), nihs11out.describe())"
   ]
  },
  {
   "cell_type": "code",
   "execution_count": 63,
   "metadata": {},
   "outputs": [
    {
     "name": "stderr",
     "output_type": "stream",
     "text": [
      "C:\\Users\\Jacky C\\Anaconda3\\lib\\site-packages\\seaborn\\_decorators.py:36: FutureWarning: Pass the following variable as a keyword arg: x. From version 0.12, the only valid positional argument will be `data`, and passing other arguments without an explicit keyword will result in an error or misinterpretation.\n",
      "  warnings.warn(\n"
     ]
    },
    {
     "data": {
      "text/plain": [
       "<AxesSubplot:xlabel='NIHS_11_out', ylabel='count'>"
      ]
     },
     "execution_count": 63,
     "metadata": {},
     "output_type": "execute_result"
    },
    {
     "data": {
      "image/png": "[encoded data removed]",
      "text/plain": [
       "<Figure size 432x288 with 1 Axes>"
      ]
     },
     "metadata": {
      "needs_background": "light"
     },
     "output_type": "display_data"
    }
   ],
   "source": [
    "sns.countplot(nihs11out)"
   ]
  }
 ],
 "metadata": {
  "kernelspec": {
   "display_name": "Python 3",
   "language": "python",
   "name": "python3"
  },
  "language_info": {
   "codemirror_mode": {
    "name": "ipython",
    "version": 3
   },
   "file_extension": ".py",
   "mimetype": "text/x-python",
   "name": "python",
   "nbconvert_exporter": "python",
   "pygments_lexer": "ipython3",
   "version": "3.8.5"
  }
 },
 "nbformat": 4,
 "nbformat_minor": 4
}
