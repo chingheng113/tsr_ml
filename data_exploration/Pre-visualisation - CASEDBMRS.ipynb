{
 "cells": [
  {
   "cell_type": "code",
   "execution_count": 1,
   "metadata": {},
   "outputs": [],
   "source": [
    "import pandas as pd\n",
    "import matplotlib.pyplot as plt\n",
    "import os"
   ]
  },
  {
   "cell_type": "code",
   "execution_count": 2,
   "metadata": {},
   "outputs": [
    {
     "data": {
      "text/html": [
       "<div>\n",
       "<style scoped>\n",
       "    .dataframe tbody tr th:only-of-type {\n",
       "        vertical-align: middle;\n",
       "    }\n",
       "\n",
       "    .dataframe tbody tr th {\n",
       "        vertical-align: top;\n",
       "    }\n",
       "\n",
       "    .dataframe thead th {\n",
       "        text-align: right;\n",
       "    }\n",
       "</style>\n",
       "<table border=\"1\" class=\"dataframe\">\n",
       "  <thead>\n",
       "    <tr style=\"text-align: right;\">\n",
       "      <th></th>\n",
       "      <th>ICASE_ID</th>\n",
       "      <th>IDCASE_ID</th>\n",
       "      <th>Feeding</th>\n",
       "      <th>Transfers</th>\n",
       "      <th>Bathing</th>\n",
       "      <th>Toilet_use</th>\n",
       "      <th>Grooming</th>\n",
       "      <th>Mobility</th>\n",
       "      <th>Stairs</th>\n",
       "      <th>Dressing</th>\n",
       "      <th>Bowel_control</th>\n",
       "      <th>Bladder_control</th>\n",
       "      <th>discharged_mrs</th>\n",
       "    </tr>\n",
       "  </thead>\n",
       "  <tbody>\n",
       "    <tr>\n",
       "      <th>0</th>\n",
       "      <td>9066</td>\n",
       "      <td>010-00009066-1</td>\n",
       "      <td>10.0</td>\n",
       "      <td>0.0</td>\n",
       "      <td>0.0</td>\n",
       "      <td>0.0</td>\n",
       "      <td>0.0</td>\n",
       "      <td>0.0</td>\n",
       "      <td>0.0</td>\n",
       "      <td>5.0</td>\n",
       "      <td>10.0</td>\n",
       "      <td>5.0</td>\n",
       "      <td>4.0</td>\n",
       "    </tr>\n",
       "    <tr>\n",
       "      <th>1</th>\n",
       "      <td>9066</td>\n",
       "      <td>022-00009066-1</td>\n",
       "      <td>10.0</td>\n",
       "      <td>0.0</td>\n",
       "      <td>0.0</td>\n",
       "      <td>0.0</td>\n",
       "      <td>0.0</td>\n",
       "      <td>0.0</td>\n",
       "      <td>0.0</td>\n",
       "      <td>5.0</td>\n",
       "      <td>10.0</td>\n",
       "      <td>5.0</td>\n",
       "      <td>4.0</td>\n",
       "    </tr>\n",
       "    <tr>\n",
       "      <th>2</th>\n",
       "      <td>4830</td>\n",
       "      <td>005-00004830-2</td>\n",
       "      <td>0.0</td>\n",
       "      <td>5.0</td>\n",
       "      <td>0.0</td>\n",
       "      <td>0.0</td>\n",
       "      <td>0.0</td>\n",
       "      <td>5.0</td>\n",
       "      <td>0.0</td>\n",
       "      <td>0.0</td>\n",
       "      <td>5.0</td>\n",
       "      <td>5.0</td>\n",
       "      <td>4.0</td>\n",
       "    </tr>\n",
       "    <tr>\n",
       "      <th>3</th>\n",
       "      <td>9067</td>\n",
       "      <td>005-00009067-1</td>\n",
       "      <td>5.0</td>\n",
       "      <td>10.0</td>\n",
       "      <td>0.0</td>\n",
       "      <td>5.0</td>\n",
       "      <td>0.0</td>\n",
       "      <td>10.0</td>\n",
       "      <td>5.0</td>\n",
       "      <td>5.0</td>\n",
       "      <td>10.0</td>\n",
       "      <td>10.0</td>\n",
       "      <td>3.0</td>\n",
       "    </tr>\n",
       "    <tr>\n",
       "      <th>4</th>\n",
       "      <td>9068</td>\n",
       "      <td>005-00009068-1</td>\n",
       "      <td>10.0</td>\n",
       "      <td>10.0</td>\n",
       "      <td>5.0</td>\n",
       "      <td>5.0</td>\n",
       "      <td>0.0</td>\n",
       "      <td>10.0</td>\n",
       "      <td>5.0</td>\n",
       "      <td>5.0</td>\n",
       "      <td>10.0</td>\n",
       "      <td>10.0</td>\n",
       "      <td>4.0</td>\n",
       "    </tr>\n",
       "  </tbody>\n",
       "</table>\n",
       "</div>"
      ],
      "text/plain": [
       "   ICASE_ID       IDCASE_ID  Feeding  Transfers  Bathing  Toilet_use  \\\n",
       "0      9066  010-00009066-1     10.0        0.0      0.0         0.0   \n",
       "1      9066  022-00009066-1     10.0        0.0      0.0         0.0   \n",
       "2      4830  005-00004830-2      0.0        5.0      0.0         0.0   \n",
       "3      9067  005-00009067-1      5.0       10.0      0.0         5.0   \n",
       "4      9068  005-00009068-1     10.0       10.0      5.0         5.0   \n",
       "\n",
       "   Grooming  Mobility  Stairs  Dressing  Bowel_control  Bladder_control  \\\n",
       "0       0.0       0.0     0.0       5.0           10.0              5.0   \n",
       "1       0.0       0.0     0.0       5.0           10.0              5.0   \n",
       "2       0.0       5.0     0.0       0.0            5.0              5.0   \n",
       "3       0.0      10.0     5.0       5.0           10.0             10.0   \n",
       "4       0.0      10.0     5.0       5.0           10.0             10.0   \n",
       "\n",
       "   discharged_mrs  \n",
       "0             4.0  \n",
       "1             4.0  \n",
       "2             4.0  \n",
       "3             3.0  \n",
       "4             4.0  "
      ]
     },
     "execution_count": 2,
     "metadata": {},
     "output_type": "execute_result"
    }
   ],
   "source": [
    "csv_path = os.path.join(\"..\", \"data\",\"TSR_2018_raw\", \"CASEDBMRS(denormalized).csv\")\n",
    "cdb = pd.read_csv(csv_path)\n",
    "cdb.head()"
   ]
  },
  {
   "cell_type": "code",
   "execution_count": 3,
   "metadata": {},
   "outputs": [
    {
     "data": {
      "text/html": [
       "<div>\n",
       "<style scoped>\n",
       "    .dataframe tbody tr th:only-of-type {\n",
       "        vertical-align: middle;\n",
       "    }\n",
       "\n",
       "    .dataframe tbody tr th {\n",
       "        vertical-align: top;\n",
       "    }\n",
       "\n",
       "    .dataframe thead th {\n",
       "        text-align: right;\n",
       "    }\n",
       "</style>\n",
       "<table border=\"1\" class=\"dataframe\">\n",
       "  <thead>\n",
       "    <tr style=\"text-align: right;\">\n",
       "      <th></th>\n",
       "      <th>ICASE_ID</th>\n",
       "      <th>Feeding</th>\n",
       "      <th>Transfers</th>\n",
       "      <th>Bathing</th>\n",
       "      <th>Toilet_use</th>\n",
       "      <th>Grooming</th>\n",
       "      <th>Mobility</th>\n",
       "      <th>Stairs</th>\n",
       "      <th>Dressing</th>\n",
       "      <th>Bowel_control</th>\n",
       "      <th>Bladder_control</th>\n",
       "      <th>discharged_mrs</th>\n",
       "    </tr>\n",
       "  </thead>\n",
       "  <tbody>\n",
       "    <tr>\n",
       "      <th>count</th>\n",
       "      <td>138803.000000</td>\n",
       "      <td>138791.000000</td>\n",
       "      <td>138791.000000</td>\n",
       "      <td>138791.000000</td>\n",
       "      <td>138791.000000</td>\n",
       "      <td>138791.000000</td>\n",
       "      <td>138791.000000</td>\n",
       "      <td>138791.000000</td>\n",
       "      <td>138791.000000</td>\n",
       "      <td>138791.000000</td>\n",
       "      <td>138791.000000</td>\n",
       "      <td>138787.000000</td>\n",
       "    </tr>\n",
       "    <tr>\n",
       "      <th>mean</th>\n",
       "      <td>61947.886523</td>\n",
       "      <td>6.025816</td>\n",
       "      <td>8.795505</td>\n",
       "      <td>2.717554</td>\n",
       "      <td>5.367884</td>\n",
       "      <td>2.028892</td>\n",
       "      <td>8.311310</td>\n",
       "      <td>4.213047</td>\n",
       "      <td>5.718548</td>\n",
       "      <td>7.053123</td>\n",
       "      <td>6.879048</td>\n",
       "      <td>2.648382</td>\n",
       "    </tr>\n",
       "    <tr>\n",
       "      <th>std</th>\n",
       "      <td>36861.112826</td>\n",
       "      <td>4.463483</td>\n",
       "      <td>6.186092</td>\n",
       "      <td>2.502047</td>\n",
       "      <td>4.375352</td>\n",
       "      <td>2.488226</td>\n",
       "      <td>6.547905</td>\n",
       "      <td>4.403908</td>\n",
       "      <td>4.333144</td>\n",
       "      <td>4.344079</td>\n",
       "      <td>4.424391</td>\n",
       "      <td>1.780485</td>\n",
       "    </tr>\n",
       "    <tr>\n",
       "      <th>min</th>\n",
       "      <td>1.000000</td>\n",
       "      <td>0.000000</td>\n",
       "      <td>0.000000</td>\n",
       "      <td>0.000000</td>\n",
       "      <td>0.000000</td>\n",
       "      <td>0.000000</td>\n",
       "      <td>0.000000</td>\n",
       "      <td>0.000000</td>\n",
       "      <td>0.000000</td>\n",
       "      <td>0.000000</td>\n",
       "      <td>0.000000</td>\n",
       "      <td>0.000000</td>\n",
       "    </tr>\n",
       "    <tr>\n",
       "      <th>25%</th>\n",
       "      <td>29991.500000</td>\n",
       "      <td>0.000000</td>\n",
       "      <td>0.000000</td>\n",
       "      <td>0.000000</td>\n",
       "      <td>0.000000</td>\n",
       "      <td>0.000000</td>\n",
       "      <td>0.000000</td>\n",
       "      <td>0.000000</td>\n",
       "      <td>0.000000</td>\n",
       "      <td>0.000000</td>\n",
       "      <td>0.000000</td>\n",
       "      <td>1.000000</td>\n",
       "    </tr>\n",
       "    <tr>\n",
       "      <th>50%</th>\n",
       "      <td>61172.000000</td>\n",
       "      <td>10.000000</td>\n",
       "      <td>10.000000</td>\n",
       "      <td>5.000000</td>\n",
       "      <td>5.000000</td>\n",
       "      <td>0.000000</td>\n",
       "      <td>10.000000</td>\n",
       "      <td>5.000000</td>\n",
       "      <td>5.000000</td>\n",
       "      <td>10.000000</td>\n",
       "      <td>10.000000</td>\n",
       "      <td>3.000000</td>\n",
       "    </tr>\n",
       "    <tr>\n",
       "      <th>75%</th>\n",
       "      <td>93644.500000</td>\n",
       "      <td>10.000000</td>\n",
       "      <td>15.000000</td>\n",
       "      <td>5.000000</td>\n",
       "      <td>10.000000</td>\n",
       "      <td>5.000000</td>\n",
       "      <td>15.000000</td>\n",
       "      <td>10.000000</td>\n",
       "      <td>10.000000</td>\n",
       "      <td>10.000000</td>\n",
       "      <td>10.000000</td>\n",
       "      <td>4.000000</td>\n",
       "    </tr>\n",
       "    <tr>\n",
       "      <th>max</th>\n",
       "      <td>127958.000000</td>\n",
       "      <td>50.000000</td>\n",
       "      <td>51.000000</td>\n",
       "      <td>55.000000</td>\n",
       "      <td>20.000000</td>\n",
       "      <td>51.000000</td>\n",
       "      <td>55.000000</td>\n",
       "      <td>55.000000</td>\n",
       "      <td>41.000000</td>\n",
       "      <td>55.000000</td>\n",
       "      <td>20.000000</td>\n",
       "      <td>55.000000</td>\n",
       "    </tr>\n",
       "  </tbody>\n",
       "</table>\n",
       "</div>"
      ],
      "text/plain": [
       "            ICASE_ID        Feeding      Transfers        Bathing  \\\n",
       "count  138803.000000  138791.000000  138791.000000  138791.000000   \n",
       "mean    61947.886523       6.025816       8.795505       2.717554   \n",
       "std     36861.112826       4.463483       6.186092       2.502047   \n",
       "min         1.000000       0.000000       0.000000       0.000000   \n",
       "25%     29991.500000       0.000000       0.000000       0.000000   \n",
       "50%     61172.000000      10.000000      10.000000       5.000000   \n",
       "75%     93644.500000      10.000000      15.000000       5.000000   \n",
       "max    127958.000000      50.000000      51.000000      55.000000   \n",
       "\n",
       "          Toilet_use       Grooming       Mobility         Stairs  \\\n",
       "count  138791.000000  138791.000000  138791.000000  138791.000000   \n",
       "mean        5.367884       2.028892       8.311310       4.213047   \n",
       "std         4.375352       2.488226       6.547905       4.403908   \n",
       "min         0.000000       0.000000       0.000000       0.000000   \n",
       "25%         0.000000       0.000000       0.000000       0.000000   \n",
       "50%         5.000000       0.000000      10.000000       5.000000   \n",
       "75%        10.000000       5.000000      15.000000      10.000000   \n",
       "max        20.000000      51.000000      55.000000      55.000000   \n",
       "\n",
       "            Dressing  Bowel_control  Bladder_control  discharged_mrs  \n",
       "count  138791.000000  138791.000000    138791.000000   138787.000000  \n",
       "mean        5.718548       7.053123         6.879048        2.648382  \n",
       "std         4.333144       4.344079         4.424391        1.780485  \n",
       "min         0.000000       0.000000         0.000000        0.000000  \n",
       "25%         0.000000       0.000000         0.000000        1.000000  \n",
       "50%         5.000000      10.000000        10.000000        3.000000  \n",
       "75%        10.000000      10.000000        10.000000        4.000000  \n",
       "max        41.000000      55.000000        20.000000       55.000000  "
      ]
     },
     "execution_count": 3,
     "metadata": {},
     "output_type": "execute_result"
    }
   ],
   "source": [
    "cdb.describe()"
   ]
  },
  {
   "cell_type": "markdown",
   "metadata": {},
   "source": [
    "# Feeding"
   ]
  },
  {
   "cell_type": "code",
   "execution_count": 4,
   "metadata": {},
   "outputs": [
    {
     "name": "stdout",
     "output_type": "stream",
     "text": [
      "count    138791.000000\n",
      "mean          6.025816\n",
      "std           4.463483\n",
      "min           0.000000\n",
      "25%           0.000000\n",
      "50%          10.000000\n",
      "75%          10.000000\n",
      "max          50.000000\n",
      "Name: Feeding, dtype: float64\n"
     ]
    },
    {
     "data": {
      "image/png": "[encoded data removed]",
      "text/plain": [
       "<Figure size 1080x360 with 2 Axes>"
      ]
     },
     "metadata": {
      "needs_background": "light"
     },
     "output_type": "display_data"
    }
   ],
   "source": [
    "feeding = cdb.loc[:, \"Feeding\"]\n",
    "#print(feeding)\n",
    "#print(feeding.value_counts() / len(feeding))\n",
    "print(feeding.describe())\n",
    "\n",
    "fig, (ax1,ax2) = plt.subplots(nrows = 1, ncols = 2, figsize = (15,5))\n",
    "\n",
    "feeding.plot.box(ax = ax1)\n",
    "ax1.set_title(\"Feeding - Boxplot\")\n",
    "ax1.set_xlabel('Feeding')\n",
    "ax1.set_ylabel('Times', rotation=0)\n",
    "ax1.set_xticks([])\n",
    "\n",
    "#feeding.plot.hist(ax = ax2, bins=100)\n",
    "#plt.show()\n",
    "feeding.plot.hist(ax = ax2, bins=100, range=[0,10])\n",
    "ax2.set_title(\"Feeding - Histogram\")\n",
    "ax2.set_xlabel('Feeding(Number)')\n",
    "ax2.set_ylabel('Times', rotation=0)\n",
    "plt.show()"
   ]
  },
  {
   "cell_type": "markdown",
   "metadata": {},
   "source": [
    "# Transfers"
   ]
  },
  {
   "cell_type": "code",
   "execution_count": 5,
   "metadata": {},
   "outputs": [
    {
     "name": "stdout",
     "output_type": "stream",
     "text": [
      "count    138791.000000\n",
      "mean          8.795505\n",
      "std           6.186092\n",
      "min           0.000000\n",
      "25%           0.000000\n",
      "50%          10.000000\n",
      "75%          15.000000\n",
      "max          51.000000\n",
      "Name: Transfers, dtype: float64\n"
     ]
    },
    {
     "data": {
      "image/png": "[encoded data removed]",
      "text/plain": [
       "<Figure size 1080x360 with 2 Axes>"
      ]
     },
     "metadata": {
      "needs_background": "light"
     },
     "output_type": "display_data"
    }
   ],
   "source": [
    "transfers = cdb.loc[:, \"Transfers\"]\n",
    "#print(transfers)\n",
    "#print(transfers.value_counts() / len(transfers))\n",
    "print(transfers.describe())\n",
    "\n",
    "fig, (ax1,ax2) = plt.subplots(nrows = 1, ncols = 2, figsize = (15,5))\n",
    "\n",
    "transfers.plot.box(ax = ax1)\n",
    "ax1.set_title(\"Transfers - Boxplot\")\n",
    "ax1.set_xlabel('Transfers')\n",
    "ax1.set_ylabel('Times', rotation=0)\n",
    "ax1.set_xticks([])\n",
    "\n",
    "#transfers.plot.hist(ax = ax2, bins=100)\n",
    "#plt.show()\n",
    "transfers.plot.hist(ax = ax2, bins=100, range=[0,20])\n",
    "ax2.set_title(\"Transfers - Histogram\")\n",
    "ax2.set_xlabel('Transfers(Number)')\n",
    "ax2.set_ylabel('Times', rotation=0)\n",
    "plt.show()"
   ]
  },
  {
   "cell_type": "markdown",
   "metadata": {},
   "source": [
    "# Bathing"
   ]
  },
  {
   "cell_type": "code",
   "execution_count": 6,
   "metadata": {},
   "outputs": [
    {
     "name": "stdout",
     "output_type": "stream",
     "text": [
      "count    138791.000000\n",
      "mean          2.717554\n",
      "std           2.502047\n",
      "min           0.000000\n",
      "25%           0.000000\n",
      "50%           5.000000\n",
      "75%           5.000000\n",
      "max          55.000000\n",
      "Name: Bathing, dtype: float64\n"
     ]
    },
    {
     "data": {
      "image/png": "[encoded data removed]",
      "text/plain": [
       "<Figure size 1080x360 with 2 Axes>"
      ]
     },
     "metadata": {
      "needs_background": "light"
     },
     "output_type": "display_data"
    }
   ],
   "source": [
    "bathing = cdb.loc[:, \"Bathing\"]\n",
    "#print(bathing)\n",
    "#print(bathing.value_counts() / len(bathing))\n",
    "print(bathing.describe())\n",
    "\n",
    "fig, (ax1,ax2) = plt.subplots(nrows = 1, ncols = 2, figsize = (15,5))\n",
    "\n",
    "bathing.plot.box(ax = ax1)\n",
    "ax1.set_title(\"Bathing - Boxplot\")\n",
    "ax1.set_xlabel('Bathing')\n",
    "ax1.set_ylabel('Times', rotation=0)\n",
    "ax1.set_xticks([])\n",
    "\n",
    "#bathing.plot.hist(ax = ax2, bins=100)\n",
    "#plt.show()\n",
    "bathing.plot.hist(ax = ax2, bins=100, range=[0,10])\n",
    "ax2.set_title(\"Bathing - Histogram\")\n",
    "ax2.set_xlabel('Bathing(Number)')\n",
    "ax2.set_ylabel('Times', rotation=0)\n",
    "plt.show()"
   ]
  },
  {
   "cell_type": "markdown",
   "metadata": {},
   "source": [
    "# Toilet"
   ]
  },
  {
   "cell_type": "code",
   "execution_count": 7,
   "metadata": {},
   "outputs": [
    {
     "name": "stdout",
     "output_type": "stream",
     "text": [
      "count    138791.000000\n",
      "mean          5.367884\n",
      "std           4.375352\n",
      "min           0.000000\n",
      "25%           0.000000\n",
      "50%           5.000000\n",
      "75%          10.000000\n",
      "max          20.000000\n",
      "Name: Toilet_use, dtype: float64\n"
     ]
    },
    {
     "data": {
      "image/png": "[encoded data removed]",
      "text/plain": [
       "<Figure size 1080x360 with 2 Axes>"
      ]
     },
     "metadata": {
      "needs_background": "light"
     },
     "output_type": "display_data"
    }
   ],
   "source": [
    "toilet = cdb.loc[:, \"Toilet_use\"]\n",
    "#print(toilet)\n",
    "#print(toilet.value_counts() / len(toilet))\n",
    "print(toilet.describe())\n",
    "\n",
    "fig, (ax1,ax2) = plt.subplots(nrows = 1, ncols = 2, figsize = (15,5))\n",
    "\n",
    "toilet.plot.box(ax = ax1)\n",
    "ax1.set_title(\"Toilet - Boxplot\")\n",
    "ax1.set_xlabel('Toilet')\n",
    "ax1.set_ylabel('Times', rotation=0)\n",
    "ax1.set_xticks([])\n",
    "\n",
    "#toilet.plot.hist(ax = ax2, bins=100)\n",
    "#plt.show()\n",
    "toilet.plot.hist(ax = ax2, bins=100, range=[0,10])\n",
    "ax2.set_title(\"Toilet - Histogram\")\n",
    "ax2.set_xlabel('Toilet(Number)')\n",
    "ax2.set_ylabel('Times', rotation=0)\n",
    "plt.show()"
   ]
  },
  {
   "cell_type": "markdown",
   "metadata": {},
   "source": [
    "# Toilet"
   ]
  },
  {
   "cell_type": "code",
   "execution_count": 8,
   "metadata": {},
   "outputs": [
    {
     "name": "stdout",
     "output_type": "stream",
     "text": [
      "count    138791.000000\n",
      "mean          2.028892\n",
      "std           2.488226\n",
      "min           0.000000\n",
      "25%           0.000000\n",
      "50%           0.000000\n",
      "75%           5.000000\n",
      "max          51.000000\n",
      "Name: Grooming, dtype: float64\n"
     ]
    },
    {
     "data": {
      "image/png": "[encoded data removed]",
      "text/plain": [
       "<Figure size 1080x360 with 2 Axes>"
      ]
     },
     "metadata": {
      "needs_background": "light"
     },
     "output_type": "display_data"
    }
   ],
   "source": [
    "grooming = cdb.loc[:, \"Grooming\"]\n",
    "#print(grooming)\n",
    "#print(grooming.value_counts() / len(grooming))\n",
    "print(grooming.describe())\n",
    "\n",
    "fig, (ax1,ax2) = plt.subplots(nrows = 1, ncols = 2, figsize = (15,5))\n",
    "\n",
    "grooming.plot.box(ax = ax1)\n",
    "ax1.set_title(\"Grooming - Boxplot\")\n",
    "ax1.set_xlabel('Grooming')\n",
    "ax1.set_ylabel('Times', rotation=0)\n",
    "ax1.set_xticks([])\n",
    "\n",
    "#grooming.plot.hist(ax = ax2, bins=100)\n",
    "#plt.show()\n",
    "grooming.plot.hist(ax = ax2, bins=100, range=[0,10])\n",
    "ax2.set_title(\"Grooming - Histogram\")\n",
    "ax2.set_xlabel('Grooming(Number)')\n",
    "ax2.set_ylabel('Times', rotation=0)\n",
    "plt.show()"
   ]
  },
  {
   "cell_type": "markdown",
   "metadata": {},
   "source": [
    "# Mobility"
   ]
  },
  {
   "cell_type": "code",
   "execution_count": 9,
   "metadata": {},
   "outputs": [
    {
     "name": "stdout",
     "output_type": "stream",
     "text": [
      "count    138791.000000\n",
      "mean          8.311310\n",
      "std           6.547905\n",
      "min           0.000000\n",
      "25%           0.000000\n",
      "50%          10.000000\n",
      "75%          15.000000\n",
      "max          55.000000\n",
      "Name: Mobility, dtype: float64\n"
     ]
    },
    {
     "data": {
      "image/png": "[encoded data removed]",
      "text/plain": [
       "<Figure size 1080x360 with 2 Axes>"
      ]
     },
     "metadata": {
      "needs_background": "light"
     },
     "output_type": "display_data"
    }
   ],
   "source": [
    "mobility = cdb.loc[:, \"Mobility\"]\n",
    "#print(mobility)\n",
    "#print(mobility.value_counts() / len(mobility))\n",
    "print(mobility.describe())\n",
    "\n",
    "fig, (ax1,ax2) = plt.subplots(nrows = 1, ncols = 2, figsize = (15,5))\n",
    "\n",
    "mobility.plot.box(ax = ax1)\n",
    "ax1.set_title(\"Mobility - Boxplot\")\n",
    "ax1.set_xlabel('Mobility')\n",
    "ax1.set_ylabel('Times', rotation=0)\n",
    "ax1.set_xticks([])\n",
    "\n",
    "#mobility.plot.hist(ax = ax2, bins=100)\n",
    "#plt.show()\n",
    "mobility.plot.hist(ax = ax2, bins=100, range=[0,20])\n",
    "ax2.set_title(\"Mobility - Histogram\")\n",
    "ax2.set_xlabel('Mobility(Number)')\n",
    "ax2.set_ylabel('Times', rotation=0)\n",
    "plt.show()"
   ]
  },
  {
   "cell_type": "markdown",
   "metadata": {},
   "source": [
    "# Stairs"
   ]
  },
  {
   "cell_type": "code",
   "execution_count": 10,
   "metadata": {},
   "outputs": [
    {
     "name": "stdout",
     "output_type": "stream",
     "text": [
      "count    138791.000000\n",
      "mean          4.213047\n",
      "std           4.403908\n",
      "min           0.000000\n",
      "25%           0.000000\n",
      "50%           5.000000\n",
      "75%          10.000000\n",
      "max          55.000000\n",
      "Name: Stairs, dtype: float64\n"
     ]
    },
    {
     "data": {
      "image/png": "[encoded data removed]",
      "text/plain": [
       "<Figure size 1080x360 with 2 Axes>"
      ]
     },
     "metadata": {
      "needs_background": "light"
     },
     "output_type": "display_data"
    }
   ],
   "source": [
    "stairs = cdb.loc[:, \"Stairs\"]\n",
    "#print(stairs)\n",
    "#print(stairs.value_counts() / len(stairs))\n",
    "print(stairs.describe())\n",
    "\n",
    "fig, (ax1,ax2) = plt.subplots(nrows = 1, ncols = 2, figsize = (15,5))\n",
    "\n",
    "stairs.plot.box(ax = ax1)\n",
    "ax1.set_title(\"Stairs - Boxplot\")\n",
    "ax1.set_xlabel('Stairs')\n",
    "ax1.set_ylabel('Times', rotation=0)\n",
    "ax1.set_xticks([])\n",
    "\n",
    "#stairs.plot.hist(ax = ax2, bins=100)\n",
    "#plt.show()\n",
    "stairs.plot.hist(ax = ax2, bins=100, range=[0,20])\n",
    "ax2.set_title(\"Stairs - Histogram\")\n",
    "ax2.set_xlabel('Stairs(Number)')\n",
    "ax2.set_ylabel('Times', rotation=0)\n",
    "plt.show()"
   ]
  },
  {
   "cell_type": "markdown",
   "metadata": {},
   "source": [
    "# Dressing"
   ]
  },
  {
   "cell_type": "code",
   "execution_count": 11,
   "metadata": {},
   "outputs": [
    {
     "name": "stdout",
     "output_type": "stream",
     "text": [
      "count    138791.000000\n",
      "mean          5.718548\n",
      "std           4.333144\n",
      "min           0.000000\n",
      "25%           0.000000\n",
      "50%           5.000000\n",
      "75%          10.000000\n",
      "max          41.000000\n",
      "Name: Dressing, dtype: float64\n"
     ]
    },
    {
     "data": {
      "image/png": "[encoded data removed]",
      "text/plain": [
       "<Figure size 1080x360 with 2 Axes>"
      ]
     },
     "metadata": {
      "needs_background": "light"
     },
     "output_type": "display_data"
    }
   ],
   "source": [
    "dressing = cdb.loc[:, \"Dressing\"]\n",
    "#print(dressing)\n",
    "#print(dressing.value_counts() / len(dressing))\n",
    "print(dressing.describe())\n",
    "\n",
    "fig, (ax1,ax2) = plt.subplots(nrows = 1, ncols = 2, figsize = (15,5))\n",
    "\n",
    "dressing.plot.box(ax = ax1)\n",
    "ax1.set_title(\"Dressing - Boxplot\")\n",
    "ax1.set_xlabel('Dressing')\n",
    "ax1.set_ylabel('Times', rotation=0)\n",
    "ax1.set_xticks([])\n",
    "\n",
    "#dressing.plot.hist(ax = ax2, bins=100)\n",
    "#plt.show()\n",
    "dressing.plot.hist(ax = ax2, bins=100, range=[0,20])\n",
    "ax2.set_title(\"Dressing - Histogram\")\n",
    "ax2.set_xlabel('Dressing(Number)')\n",
    "ax2.set_ylabel('Times', rotation=0)\n",
    "plt.show()"
   ]
  },
  {
   "cell_type": "markdown",
   "metadata": {},
   "source": [
    "# Bowel Control"
   ]
  },
  {
   "cell_type": "code",
   "execution_count": 12,
   "metadata": {},
   "outputs": [
    {
     "name": "stdout",
     "output_type": "stream",
     "text": [
      "count    138791.000000\n",
      "mean          7.053123\n",
      "std           4.344079\n",
      "min           0.000000\n",
      "25%           0.000000\n",
      "50%          10.000000\n",
      "75%          10.000000\n",
      "max          55.000000\n",
      "Name: Bowel_control, dtype: float64\n"
     ]
    },
    {
     "data": {
      "image/png": "[encoded data removed]",
      "text/plain": [
       "<Figure size 1080x360 with 2 Axes>"
      ]
     },
     "metadata": {
      "needs_background": "light"
     },
     "output_type": "display_data"
    }
   ],
   "source": [
    "bowel_c = cdb.loc[:, \"Bowel_control\"]\n",
    "#print(bowel_c)\n",
    "#print(bowel_c.value_counts() / len(bowel_c))\n",
    "print(bowel_c.describe())\n",
    "\n",
    "fig, (ax1,ax2) = plt.subplots(nrows = 1, ncols = 2, figsize = (15,5))\n",
    "\n",
    "bowel_c.plot.box(ax = ax1)\n",
    "ax1.set_title(\"Bowel Control - Boxplot\")\n",
    "ax1.set_xlabel('Bowel Control')\n",
    "ax1.set_ylabel('Times', rotation=0)\n",
    "ax1.set_xticks([])\n",
    "\n",
    "#bowel_c.plot.hist(ax = ax2, bins=100)\n",
    "#plt.show()\n",
    "bowel_c.plot.hist(ax = ax2, bins=100, range=[0,20])\n",
    "ax2.set_title(\"Bowel Control - Histogram\")\n",
    "ax2.set_xlabel('Bowel Control(Number)')\n",
    "ax2.set_ylabel('Times', rotation=0)\n",
    "plt.show()"
   ]
  },
  {
   "cell_type": "markdown",
   "metadata": {},
   "source": [
    "# Bladder Control"
   ]
  },
  {
   "cell_type": "code",
   "execution_count": 13,
   "metadata": {},
   "outputs": [
    {
     "name": "stdout",
     "output_type": "stream",
     "text": [
      "count    138791.000000\n",
      "mean          6.879048\n",
      "std           4.424391\n",
      "min           0.000000\n",
      "25%           0.000000\n",
      "50%          10.000000\n",
      "75%          10.000000\n",
      "max          20.000000\n",
      "Name: Bladder_control, dtype: float64\n"
     ]
    },
    {
     "data": {
      "image/png": "[encoded data removed]",
      "text/plain": [
       "<Figure size 1080x360 with 2 Axes>"
      ]
     },
     "metadata": {
      "needs_background": "light"
     },
     "output_type": "display_data"
    }
   ],
   "source": [
    "bladder_c = cdb.loc[:, \"Bladder_control\"]\n",
    "#print(bladder_c)\n",
    "#print(bladder_c.value_counts() / len(bladder_c))\n",
    "print(bladder_c.describe())\n",
    "\n",
    "fig, (ax1,ax2) = plt.subplots(nrows = 1, ncols = 2, figsize = (15,5))\n",
    "\n",
    "bladder_c.plot.box(ax = ax1)\n",
    "ax1.set_title(\"Bladder Control - Boxplot\")\n",
    "ax1.set_xlabel('Bladder Control')\n",
    "ax1.set_ylabel('Times', rotation=0)\n",
    "ax1.set_xticks([])\n",
    "\n",
    "#bladder_c.plot.hist(ax = ax2, bins=100)\n",
    "#plt.show()\n",
    "bladder_c.plot.hist(ax = ax2, bins=100, range=[0,10])\n",
    "ax2.set_title(\"Bladder Control - Histogram\")\n",
    "ax2.set_xlabel('Bladder Control(Number)')\n",
    "ax2.set_ylabel('Times', rotation=0)\n",
    "plt.show()"
   ]
  },
  {
   "cell_type": "markdown",
   "metadata": {},
   "source": [
    "# Discharged mRS"
   ]
  },
  {
   "cell_type": "code",
   "execution_count": 14,
   "metadata": {},
   "outputs": [
    {
     "name": "stdout",
     "output_type": "stream",
     "text": [
      "count    138787.000000\n",
      "mean          2.648382\n",
      "std           1.780485\n",
      "min           0.000000\n",
      "25%           1.000000\n",
      "50%           3.000000\n",
      "75%           4.000000\n",
      "max          55.000000\n",
      "Name: discharged_mrs, dtype: float64\n"
     ]
    },
    {
     "data": {
      "image/png": "[encoded data removed]",
      "text/plain": [
       "<Figure size 1080x360 with 2 Axes>"
      ]
     },
     "metadata": {
      "needs_background": "light"
     },
     "output_type": "display_data"
    }
   ],
   "source": [
    "DmRS = cdb.loc[:, \"discharged_mrs\"]\n",
    "#print(DmRS)\n",
    "#print(DmRS.value_counts() / len(DmRS))\n",
    "print(DmRS.describe())\n",
    "\n",
    "fig, (ax1,ax2) = plt.subplots(nrows = 1, ncols = 2, figsize = (15,5))\n",
    "\n",
    "DmRS.plot.box(ax = ax1)\n",
    "ax1.set_title(\"Discharged mRS - Boxplot\")\n",
    "ax1.set_xlabel('Discharged mRS')\n",
    "ax1.set_ylabel('Times', rotation=0)\n",
    "ax1.set_xticks([])\n",
    "\n",
    "#DmRS.plot.hist(ax = ax2, bins=100)\n",
    "#plt.show()\n",
    "DmRS.plot.hist(ax = ax2, bins=100, range=[0,6])\n",
    "ax2.set_title(\"Discharged mRS - Histogram\")\n",
    "ax2.set_xlabel('Discharged mRS(Number)')\n",
    "ax2.set_ylabel('Times', rotation=0)\n",
    "plt.show()"
   ]
  }
 ],
 "metadata": {
  "kernelspec": {
   "display_name": "Python 3",
   "language": "python",
   "name": "python3"
  },
  "language_info": {
   "codemirror_mode": {
    "name": "ipython",
    "version": 3
   },
   "file_extension": ".py",
   "mimetype": "text/x-python",
   "name": "python",
   "nbconvert_exporter": "python",
   "pygments_lexer": "ipython3",
   "version": "3.8.5"
  }
 },
 "nbformat": 4,
 "nbformat_minor": 4
}
