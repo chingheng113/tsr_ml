{
 "cells": [
  {
   "cell_type": "code",
   "execution_count": 1,
   "metadata": {},
   "outputs": [],
   "source": [
    "import pandas as pd\n",
    "import matplotlib.pyplot as plt"
   ]
  },
  {
   "cell_type": "code",
   "execution_count": 2,
   "metadata": {},
   "outputs": [
    {
     "data": {
      "text/html": [
       "<div>\n",
       "<style scoped>\n",
       "    .dataframe tbody tr th:only-of-type {\n",
       "        vertical-align: middle;\n",
       "    }\n",
       "\n",
       "    .dataframe tbody tr th {\n",
       "        vertical-align: top;\n",
       "    }\n",
       "\n",
       "    .dataframe thead th {\n",
       "        text-align: right;\n",
       "    }\n",
       "</style>\n",
       "<table border=\"1\" class=\"dataframe\">\n",
       "  <thead>\n",
       "    <tr style=\"text-align: right;\">\n",
       "      <th></th>\n",
       "      <th>ICASE_ID</th>\n",
       "      <th>IDCASE_ID</th>\n",
       "      <th>Feeding</th>\n",
       "      <th>Transfers</th>\n",
       "      <th>Bathing</th>\n",
       "      <th>Toilet_use</th>\n",
       "      <th>Grooming</th>\n",
       "      <th>Mobility</th>\n",
       "      <th>Stairs</th>\n",
       "      <th>Dressing</th>\n",
       "      <th>Bowel_control</th>\n",
       "      <th>Bladder_control</th>\n",
       "      <th>discharged_mrs</th>\n",
       "    </tr>\n",
       "  </thead>\n",
       "  <tbody>\n",
       "    <tr>\n",
       "      <th>0</th>\n",
       "      <td>9066</td>\n",
       "      <td>010-00009066-1</td>\n",
       "      <td>10.0</td>\n",
       "      <td>0.0</td>\n",
       "      <td>0.0</td>\n",
       "      <td>0.0</td>\n",
       "      <td>0.0</td>\n",
       "      <td>0.0</td>\n",
       "      <td>0.0</td>\n",
       "      <td>5.0</td>\n",
       "      <td>10.0</td>\n",
       "      <td>5.0</td>\n",
       "      <td>4.0</td>\n",
       "    </tr>\n",
       "    <tr>\n",
       "      <th>1</th>\n",
       "      <td>9066</td>\n",
       "      <td>022-00009066-1</td>\n",
       "      <td>10.0</td>\n",
       "      <td>0.0</td>\n",
       "      <td>0.0</td>\n",
       "      <td>0.0</td>\n",
       "      <td>0.0</td>\n",
       "      <td>0.0</td>\n",
       "      <td>0.0</td>\n",
       "      <td>5.0</td>\n",
       "      <td>10.0</td>\n",
       "      <td>5.0</td>\n",
       "      <td>4.0</td>\n",
       "    </tr>\n",
       "    <tr>\n",
       "      <th>2</th>\n",
       "      <td>4830</td>\n",
       "      <td>005-00004830-2</td>\n",
       "      <td>0.0</td>\n",
       "      <td>5.0</td>\n",
       "      <td>0.0</td>\n",
       "      <td>0.0</td>\n",
       "      <td>0.0</td>\n",
       "      <td>5.0</td>\n",
       "      <td>0.0</td>\n",
       "      <td>0.0</td>\n",
       "      <td>5.0</td>\n",
       "      <td>5.0</td>\n",
       "      <td>4.0</td>\n",
       "    </tr>\n",
       "    <tr>\n",
       "      <th>3</th>\n",
       "      <td>9067</td>\n",
       "      <td>005-00009067-1</td>\n",
       "      <td>5.0</td>\n",
       "      <td>10.0</td>\n",
       "      <td>0.0</td>\n",
       "      <td>5.0</td>\n",
       "      <td>0.0</td>\n",
       "      <td>10.0</td>\n",
       "      <td>5.0</td>\n",
       "      <td>5.0</td>\n",
       "      <td>10.0</td>\n",
       "      <td>10.0</td>\n",
       "      <td>3.0</td>\n",
       "    </tr>\n",
       "    <tr>\n",
       "      <th>4</th>\n",
       "      <td>9068</td>\n",
       "      <td>005-00009068-1</td>\n",
       "      <td>10.0</td>\n",
       "      <td>10.0</td>\n",
       "      <td>5.0</td>\n",
       "      <td>5.0</td>\n",
       "      <td>0.0</td>\n",
       "      <td>10.0</td>\n",
       "      <td>5.0</td>\n",
       "      <td>5.0</td>\n",
       "      <td>10.0</td>\n",
       "      <td>10.0</td>\n",
       "      <td>4.0</td>\n",
       "    </tr>\n",
       "  </tbody>\n",
       "</table>\n",
       "</div>"
      ],
      "text/plain": [
       "   ICASE_ID       IDCASE_ID  Feeding  Transfers  Bathing  Toilet_use  \\\n",
       "0      9066  010-00009066-1     10.0        0.0      0.0         0.0   \n",
       "1      9066  022-00009066-1     10.0        0.0      0.0         0.0   \n",
       "2      4830  005-00004830-2      0.0        5.0      0.0         0.0   \n",
       "3      9067  005-00009067-1      5.0       10.0      0.0         5.0   \n",
       "4      9068  005-00009068-1     10.0       10.0      5.0         5.0   \n",
       "\n",
       "   Grooming  Mobility  Stairs  Dressing  Bowel_control  Bladder_control  \\\n",
       "0       0.0       0.0     0.0       5.0           10.0              5.0   \n",
       "1       0.0       0.0     0.0       5.0           10.0              5.0   \n",
       "2       0.0       5.0     0.0       0.0            5.0              5.0   \n",
       "3       0.0      10.0     5.0       5.0           10.0             10.0   \n",
       "4       0.0      10.0     5.0       5.0           10.0             10.0   \n",
       "\n",
       "   discharged_mrs  \n",
       "0             4.0  \n",
       "1             4.0  \n",
       "2             4.0  \n",
       "3             3.0  \n",
       "4             4.0  "
      ]
     },
     "execution_count": 2,
     "metadata": {},
     "output_type": "execute_result"
    }
   ],
   "source": [
    "cdb = pd.read_csv(\"C:/Users/Jacky C/Desktop/TSR-proganosis/Data/TSR_2018_raw/CASEDBMRS(denormalized).csv\")\n",
    "cdb.head()"
   ]
  },
  {
   "cell_type": "code",
   "execution_count": 3,
   "metadata": {},
   "outputs": [
    {
     "data": {
      "text/html": [
       "<div>\n",
       "<style scoped>\n",
       "    .dataframe tbody tr th:only-of-type {\n",
       "        vertical-align: middle;\n",
       "    }\n",
       "\n",
       "    .dataframe tbody tr th {\n",
       "        vertical-align: top;\n",
       "    }\n",
       "\n",
       "    .dataframe thead th {\n",
       "        text-align: right;\n",
       "    }\n",
       "</style>\n",
       "<table border=\"1\" class=\"dataframe\">\n",
       "  <thead>\n",
       "    <tr style=\"text-align: right;\">\n",
       "      <th></th>\n",
       "      <th>ICASE_ID</th>\n",
       "      <th>Feeding</th>\n",
       "      <th>Transfers</th>\n",
       "      <th>Bathing</th>\n",
       "      <th>Toilet_use</th>\n",
       "      <th>Grooming</th>\n",
       "      <th>Mobility</th>\n",
       "      <th>Stairs</th>\n",
       "      <th>Dressing</th>\n",
       "      <th>Bowel_control</th>\n",
       "      <th>Bladder_control</th>\n",
       "      <th>discharged_mrs</th>\n",
       "    </tr>\n",
       "  </thead>\n",
       "  <tbody>\n",
       "    <tr>\n",
       "      <th>count</th>\n",
       "      <td>138803.000000</td>\n",
       "      <td>138791.000000</td>\n",
       "      <td>138791.000000</td>\n",
       "      <td>138791.000000</td>\n",
       "      <td>138791.000000</td>\n",
       "      <td>138791.000000</td>\n",
       "      <td>138791.000000</td>\n",
       "      <td>138791.000000</td>\n",
       "      <td>138791.000000</td>\n",
       "      <td>138791.000000</td>\n",
       "      <td>138791.000000</td>\n",
       "      <td>138787.000000</td>\n",
       "    </tr>\n",
       "    <tr>\n",
       "      <th>mean</th>\n",
       "      <td>61947.886523</td>\n",
       "      <td>6.025816</td>\n",
       "      <td>8.795505</td>\n",
       "      <td>2.717554</td>\n",
       "      <td>5.367884</td>\n",
       "      <td>2.028892</td>\n",
       "      <td>8.311310</td>\n",
       "      <td>4.213047</td>\n",
       "      <td>5.718548</td>\n",
       "      <td>7.053123</td>\n",
       "      <td>6.879048</td>\n",
       "      <td>2.648382</td>\n",
       "    </tr>\n",
       "    <tr>\n",
       "      <th>std</th>\n",
       "      <td>36861.112826</td>\n",
       "      <td>4.463483</td>\n",
       "      <td>6.186092</td>\n",
       "      <td>2.502047</td>\n",
       "      <td>4.375352</td>\n",
       "      <td>2.488226</td>\n",
       "      <td>6.547905</td>\n",
       "      <td>4.403908</td>\n",
       "      <td>4.333144</td>\n",
       "      <td>4.344079</td>\n",
       "      <td>4.424391</td>\n",
       "      <td>1.780485</td>\n",
       "    </tr>\n",
       "    <tr>\n",
       "      <th>min</th>\n",
       "      <td>1.000000</td>\n",
       "      <td>0.000000</td>\n",
       "      <td>0.000000</td>\n",
       "      <td>0.000000</td>\n",
       "      <td>0.000000</td>\n",
       "      <td>0.000000</td>\n",
       "      <td>0.000000</td>\n",
       "      <td>0.000000</td>\n",
       "      <td>0.000000</td>\n",
       "      <td>0.000000</td>\n",
       "      <td>0.000000</td>\n",
       "      <td>0.000000</td>\n",
       "    </tr>\n",
       "    <tr>\n",
       "      <th>25%</th>\n",
       "      <td>29991.500000</td>\n",
       "      <td>0.000000</td>\n",
       "      <td>0.000000</td>\n",
       "      <td>0.000000</td>\n",
       "      <td>0.000000</td>\n",
       "      <td>0.000000</td>\n",
       "      <td>0.000000</td>\n",
       "      <td>0.000000</td>\n",
       "      <td>0.000000</td>\n",
       "      <td>0.000000</td>\n",
       "      <td>0.000000</td>\n",
       "      <td>1.000000</td>\n",
       "    </tr>\n",
       "    <tr>\n",
       "      <th>50%</th>\n",
       "      <td>61172.000000</td>\n",
       "      <td>10.000000</td>\n",
       "      <td>10.000000</td>\n",
       "      <td>5.000000</td>\n",
       "      <td>5.000000</td>\n",
       "      <td>0.000000</td>\n",
       "      <td>10.000000</td>\n",
       "      <td>5.000000</td>\n",
       "      <td>5.000000</td>\n",
       "      <td>10.000000</td>\n",
       "      <td>10.000000</td>\n",
       "      <td>3.000000</td>\n",
       "    </tr>\n",
       "    <tr>\n",
       "      <th>75%</th>\n",
       "      <td>93644.500000</td>\n",
       "      <td>10.000000</td>\n",
       "      <td>15.000000</td>\n",
       "      <td>5.000000</td>\n",
       "      <td>10.000000</td>\n",
       "      <td>5.000000</td>\n",
       "      <td>15.000000</td>\n",
       "      <td>10.000000</td>\n",
       "      <td>10.000000</td>\n",
       "      <td>10.000000</td>\n",
       "      <td>10.000000</td>\n",
       "      <td>4.000000</td>\n",
       "    </tr>\n",
       "    <tr>\n",
       "      <th>max</th>\n",
       "      <td>127958.000000</td>\n",
       "      <td>50.000000</td>\n",
       "      <td>51.000000</td>\n",
       "      <td>55.000000</td>\n",
       "      <td>20.000000</td>\n",
       "      <td>51.000000</td>\n",
       "      <td>55.000000</td>\n",
       "      <td>55.000000</td>\n",
       "      <td>41.000000</td>\n",
       "      <td>55.000000</td>\n",
       "      <td>20.000000</td>\n",
       "      <td>55.000000</td>\n",
       "    </tr>\n",
       "  </tbody>\n",
       "</table>\n",
       "</div>"
      ],
      "text/plain": [
       "            ICASE_ID        Feeding      Transfers        Bathing  \\\n",
       "count  138803.000000  138791.000000  138791.000000  138791.000000   \n",
       "mean    61947.886523       6.025816       8.795505       2.717554   \n",
       "std     36861.112826       4.463483       6.186092       2.502047   \n",
       "min         1.000000       0.000000       0.000000       0.000000   \n",
       "25%     29991.500000       0.000000       0.000000       0.000000   \n",
       "50%     61172.000000      10.000000      10.000000       5.000000   \n",
       "75%     93644.500000      10.000000      15.000000       5.000000   \n",
       "max    127958.000000      50.000000      51.000000      55.000000   \n",
       "\n",
       "          Toilet_use       Grooming       Mobility         Stairs  \\\n",
       "count  138791.000000  138791.000000  138791.000000  138791.000000   \n",
       "mean        5.367884       2.028892       8.311310       4.213047   \n",
       "std         4.375352       2.488226       6.547905       4.403908   \n",
       "min         0.000000       0.000000       0.000000       0.000000   \n",
       "25%         0.000000       0.000000       0.000000       0.000000   \n",
       "50%         5.000000       0.000000      10.000000       5.000000   \n",
       "75%        10.000000       5.000000      15.000000      10.000000   \n",
       "max        20.000000      51.000000      55.000000      55.000000   \n",
       "\n",
       "            Dressing  Bowel_control  Bladder_control  discharged_mrs  \n",
       "count  138791.000000  138791.000000    138791.000000   138787.000000  \n",
       "mean        5.718548       7.053123         6.879048        2.648382  \n",
       "std         4.333144       4.344079         4.424391        1.780485  \n",
       "min         0.000000       0.000000         0.000000        0.000000  \n",
       "25%         0.000000       0.000000         0.000000        1.000000  \n",
       "50%         5.000000      10.000000        10.000000        3.000000  \n",
       "75%        10.000000      10.000000        10.000000        4.000000  \n",
       "max        41.000000      55.000000        20.000000       55.000000  "
      ]
     },
     "execution_count": 3,
     "metadata": {},
     "output_type": "execute_result"
    }
   ],
   "source": [
    "cdb.describe()"
   ]
  },
  {
   "cell_type": "code",
   "execution_count": 4,
   "metadata": {},
   "outputs": [
    {
     "name": "stdout",
     "output_type": "stream",
     "text": [
      "2.0         2\n",
      "11.0        3\n",
      "50.0        3\n",
      "20.0        4\n",
      "15.0       10\n",
      "1.0        12\n",
      "5.0     22644\n",
      "0.0     43845\n",
      "10.0    72268\n",
      "Name: Feeding, dtype: int64 count    138791.000000\n",
      "mean          6.025816\n",
      "std           4.463483\n",
      "min           0.000000\n",
      "25%           0.000000\n",
      "50%          10.000000\n",
      "75%          10.000000\n",
      "max          50.000000\n",
      "Name: Feeding, dtype: float64\n"
     ]
    }
   ],
   "source": [
    "#Feeding\n",
    "feeding = cdb.iloc[:,2]\n",
    "#print(feeding)\n",
    "print(feeding.value_counts().sort_values(ascending= True), feeding.describe())"
   ]
  },
  {
   "cell_type": "code",
   "execution_count": 5,
   "metadata": {},
   "outputs": [
    {
     "data": {
      "image/png": "[encoded data removed]",
      "text/plain": [
       "<Figure size 360x360 with 1 Axes>"
      ]
     },
     "metadata": {
      "needs_background": "light"
     },
     "output_type": "display_data"
    },
    {
     "data": {
      "image/png": "[encoded data removed]",
      "text/plain": [
       "<Figure size 360x360 with 1 Axes>"
      ]
     },
     "metadata": {
      "needs_background": "light"
     },
     "output_type": "display_data"
    },
    {
     "data": {
      "image/png": "[encoded data removed]",
      "text/plain": [
       "<Figure size 360x360 with 1 Axes>"
      ]
     },
     "metadata": {
      "needs_background": "light"
     },
     "output_type": "display_data"
    }
   ],
   "source": [
    "feeding.plot.box(figsize=(5,5))\n",
    "plt.show()\n",
    "feeding.plot.hist(figsize=(5,5), bins=25)\n",
    "plt.show()\n",
    "feeding.plot.hist(figsize=(5,5), bins=25, range=[0,10])\n",
    "plt.show()"
   ]
  },
  {
   "cell_type": "code",
   "execution_count": 6,
   "metadata": {},
   "outputs": [
    {
     "name": "stdout",
     "output_type": "stream",
     "text": [
      "6.0         1\n",
      "19.0        1\n",
      "20.0        1\n",
      "4.0         1\n",
      "14.0        1\n",
      "51.0        1\n",
      "50.0        1\n",
      "2.0         2\n",
      "1.0         9\n",
      "5.0     18064\n",
      "10.0    27263\n",
      "0.0     36272\n",
      "15.0    57174\n",
      "Name: Transfers, dtype: int64 count    138791.000000\n",
      "mean          8.795505\n",
      "std           6.186092\n",
      "min           0.000000\n",
      "25%           0.000000\n",
      "50%          10.000000\n",
      "75%          15.000000\n",
      "max          51.000000\n",
      "Name: Transfers, dtype: float64\n"
     ]
    }
   ],
   "source": [
    "#Transfers\n",
    "transfers = cdb.iloc[:,3]\n",
    "#print(transfers)\n",
    "print(transfers.value_counts().sort_values(ascending= True), transfers.describe())"
   ]
  },
  {
   "cell_type": "code",
   "execution_count": 7,
   "metadata": {},
   "outputs": [
    {
     "data": {
      "image/png": "[encoded data removed]",
      "text/plain": [
       "<Figure size 360x360 with 1 Axes>"
      ]
     },
     "metadata": {
      "needs_background": "light"
     },
     "output_type": "display_data"
    },
    {
     "data": {
      "image/png": "[encoded data removed]",
      "text/plain": [
       "<Figure size 360x360 with 1 Axes>"
      ]
     },
     "metadata": {
      "needs_background": "light"
     },
     "output_type": "display_data"
    },
    {
     "data": {
      "image/png": "[encoded data removed]",
      "text/plain": [
       "<Figure size 360x360 with 1 Axes>"
      ]
     },
     "metadata": {
      "needs_background": "light"
     },
     "output_type": "display_data"
    }
   ],
   "source": [
    "transfers.plot.box(figsize=(5,5))\n",
    "plt.show()\n",
    "transfers.plot.hist(figsize=(5,5), bins=25)\n",
    "plt.show()\n",
    "transfers.plot.hist(figsize=(5,5), bins=25, range=[0,20])\n",
    "plt.show()"
   ]
  },
  {
   "cell_type": "code",
   "execution_count": 8,
   "metadata": {},
   "outputs": [
    {
     "name": "stdout",
     "output_type": "stream",
     "text": [
      "6.0         1\n",
      "2.0         1\n",
      "55.0        2\n",
      "15.0        3\n",
      "1.0         4\n",
      "10.0       41\n",
      "0.0     63420\n",
      "5.0     75319\n",
      "Name: Bathing, dtype: int64 count    138791.000000\n",
      "mean          2.717554\n",
      "std           2.502047\n",
      "min           0.000000\n",
      "25%           0.000000\n",
      "50%           5.000000\n",
      "75%           5.000000\n",
      "max          55.000000\n",
      "Name: Bathing, dtype: float64\n"
     ]
    }
   ],
   "source": [
    "#Bathing\n",
    "bathing = cdb.iloc[:,4]\n",
    "#print(bathing)\n",
    "print(bathing.value_counts().sort_values(ascending= True), bathing.describe())"
   ]
  },
  {
   "cell_type": "code",
   "execution_count": 9,
   "metadata": {},
   "outputs": [
    {
     "data": {
      "image/png": "[encoded data removed]",
      "text/plain": [
       "<Figure size 360x360 with 1 Axes>"
      ]
     },
     "metadata": {
      "needs_background": "light"
     },
     "output_type": "display_data"
    },
    {
     "data": {
      "image/png": "[encoded data removed]",
      "text/plain": [
       "<Figure size 360x360 with 1 Axes>"
      ]
     },
     "metadata": {
      "needs_background": "light"
     },
     "output_type": "display_data"
    },
    {
     "data": {
      "image/png": "[encoded data removed]",
      "text/plain": [
       "<Figure size 360x360 with 1 Axes>"
      ]
     },
     "metadata": {
      "needs_background": "light"
     },
     "output_type": "display_data"
    }
   ],
   "source": [
    "bathing.plot.box(figsize=(5,5))\n",
    "plt.show()\n",
    "bathing.plot.hist(figsize=(5,5), bins=25)\n",
    "plt.show()\n",
    "bathing.plot.hist(figsize=(5,5), bins=25, range=[0,10])\n",
    "plt.show()"
   ]
  },
  {
   "cell_type": "code",
   "execution_count": 10,
   "metadata": {},
   "outputs": [
    {
     "name": "stdout",
     "output_type": "stream",
     "text": [
      "6.0         1\n",
      "19.0        1\n",
      "20.0        1\n",
      "3.0         1\n",
      "2.0         1\n",
      "11.0        3\n",
      "1.0         6\n",
      "15.0       10\n",
      "5.0     31803\n",
      "0.0     48388\n",
      "10.0    58576\n",
      "Name: Toilet_use, dtype: int64 count    138791.000000\n",
      "mean          5.367884\n",
      "std           4.375352\n",
      "min           0.000000\n",
      "25%           0.000000\n",
      "50%           5.000000\n",
      "75%          10.000000\n",
      "max          20.000000\n",
      "Name: Toilet_use, dtype: float64\n"
     ]
    }
   ],
   "source": [
    "#Toilet\n",
    "toilet = cdb.iloc[:,5]\n",
    "#print(toilet)\n",
    "print(toilet.value_counts().sort_values(ascending= True), toilet.describe())"
   ]
  },
  {
   "cell_type": "code",
   "execution_count": 11,
   "metadata": {},
   "outputs": [
    {
     "data": {
      "image/png": "[encoded data removed]",
      "text/plain": [
       "<Figure size 360x360 with 1 Axes>"
      ]
     },
     "metadata": {
      "needs_background": "light"
     },
     "output_type": "display_data"
    },
    {
     "data": {
      "image/png": "[encoded data removed]",
      "text/plain": [
       "<Figure size 360x360 with 1 Axes>"
      ]
     },
     "metadata": {
      "needs_background": "light"
     },
     "output_type": "display_data"
    },
    {
     "data": {
      "image/png": "[encoded data removed]",
      "text/plain": [
       "<Figure size 360x360 with 1 Axes>"
      ]
     },
     "metadata": {
      "needs_background": "light"
     },
     "output_type": "display_data"
    }
   ],
   "source": [
    "toilet.plot.box(figsize=(5,5))\n",
    "plt.show()\n",
    "toilet.plot.hist(figsize=(5,5), bins=25)\n",
    "plt.show()\n",
    "toilet.plot.hist(figsize=(5,5), bins=25, range=[0,10])\n",
    "plt.show()"
   ]
  },
  {
   "cell_type": "code",
   "execution_count": 12,
   "metadata": {},
   "outputs": [
    {
     "name": "stdout",
     "output_type": "stream",
     "text": [
      "6.0         1\n",
      "51.0        1\n",
      "3.0         1\n",
      "50.0        1\n",
      "2.0         1\n",
      "9.0         3\n",
      "1.0        13\n",
      "15.0       17\n",
      "10.0      309\n",
      "5.0     55619\n",
      "0.0     82825\n",
      "Name: Grooming, dtype: int64 count    138791.000000\n",
      "mean          2.028892\n",
      "std           2.488226\n",
      "min           0.000000\n",
      "25%           0.000000\n",
      "50%           0.000000\n",
      "75%           5.000000\n",
      "max          51.000000\n",
      "Name: Grooming, dtype: float64\n"
     ]
    }
   ],
   "source": [
    "#Grooming\n",
    "grooming = cdb.iloc[:,6]\n",
    "#print(grooming)\n",
    "print(grooming.value_counts().sort_values(ascending= True), grooming.describe())"
   ]
  },
  {
   "cell_type": "code",
   "execution_count": 13,
   "metadata": {},
   "outputs": [
    {
     "data": {
      "image/png": "[encoded data removed]",
      "text/plain": [
       "<Figure size 360x360 with 1 Axes>"
      ]
     },
     "metadata": {
      "needs_background": "light"
     },
     "output_type": "display_data"
    },
    {
     "data": {
      "image/png": "[encoded data removed]",
      "text/plain": [
       "<Figure size 360x360 with 1 Axes>"
      ]
     },
     "metadata": {
      "needs_background": "light"
     },
     "output_type": "display_data"
    },
    {
     "data": {
      "image/png": "[encoded data removed]",
      "text/plain": [
       "<Figure size 360x360 with 1 Axes>"
      ]
     },
     "metadata": {
      "needs_background": "light"
     },
     "output_type": "display_data"
    }
   ],
   "source": [
    "grooming.plot.box(figsize=(5,5))\n",
    "plt.show()\n",
    "grooming.plot.hist(figsize=(5,5), bins=25)\n",
    "plt.show()\n",
    "grooming.plot.hist(figsize=(5,5), bins=25, range=[0,10])\n",
    "plt.show()"
   ]
  },
  {
   "cell_type": "code",
   "execution_count": 14,
   "metadata": {},
   "outputs": [
    {
     "name": "stdout",
     "output_type": "stream",
     "text": [
      "55.0        1\n",
      "18.0        1\n",
      "51.0        1\n",
      "25.0        1\n",
      "14.0        3\n",
      "1.0         4\n",
      "5.0     10607\n",
      "10.0    24778\n",
      "0.0     46560\n",
      "15.0    56835\n",
      "Name: Mobility, dtype: int64 count    138791.000000\n",
      "mean          8.311310\n",
      "std           6.547905\n",
      "min           0.000000\n",
      "25%           0.000000\n",
      "50%          10.000000\n",
      "75%          15.000000\n",
      "max          55.000000\n",
      "Name: Mobility, dtype: float64\n"
     ]
    }
   ],
   "source": [
    "#Mobility\n",
    "mobility = cdb.iloc[:,7]\n",
    "#print(mobility)\n",
    "print(mobility.value_counts().sort_values(ascending= True), mobility.describe())"
   ]
  },
  {
   "cell_type": "code",
   "execution_count": 15,
   "metadata": {},
   "outputs": [
    {
     "data": {
      "image/png": "[encoded data removed]",
      "text/plain": [
       "<Figure size 360x360 with 1 Axes>"
      ]
     },
     "metadata": {
      "needs_background": "light"
     },
     "output_type": "display_data"
    },
    {
     "data": {
      "image/png": "[encoded data removed]",
      "text/plain": [
       "<Figure size 360x360 with 1 Axes>"
      ]
     },
     "metadata": {
      "needs_background": "light"
     },
     "output_type": "display_data"
    },
    {
     "data": {
      "image/png": "[encoded data removed]",
      "text/plain": [
       "<Figure size 360x360 with 1 Axes>"
      ]
     },
     "metadata": {
      "needs_background": "light"
     },
     "output_type": "display_data"
    }
   ],
   "source": [
    "mobility.plot.box(figsize=(5,5))\n",
    "plt.show()\n",
    "mobility.plot.hist(figsize=(5,5), bins=25)\n",
    "plt.show()\n",
    "mobility.plot.hist(figsize=(5,5), bins=25, range=[0,20])\n",
    "plt.show()"
   ]
  },
  {
   "cell_type": "code",
   "execution_count": 16,
   "metadata": {},
   "outputs": [
    {
     "name": "stdout",
     "output_type": "stream",
     "text": [
      "1.0         1\n",
      "11.0        1\n",
      "9.0         1\n",
      "50.0        1\n",
      "2.0         1\n",
      "55.0        2\n",
      "15.0       19\n",
      "5.0     28017\n",
      "10.0    44418\n",
      "0.0     66330\n",
      "Name: Stairs, dtype: int64 count    138791.000000\n",
      "mean          4.213047\n",
      "std           4.403908\n",
      "min           0.000000\n",
      "25%           0.000000\n",
      "50%           5.000000\n",
      "75%          10.000000\n",
      "max          55.000000\n",
      "Name: Stairs, dtype: float64\n"
     ]
    }
   ],
   "source": [
    "#Stairs\n",
    "stairs = cdb.iloc[:,8]\n",
    "#print(stairs)\n",
    "print(stairs.value_counts().sort_values(ascending= True), stairs.describe())"
   ]
  },
  {
   "cell_type": "code",
   "execution_count": 17,
   "metadata": {},
   "outputs": [
    {
     "data": {
      "image/png": "[encoded data removed]",
      "text/plain": [
       "<Figure size 360x360 with 1 Axes>"
      ]
     },
     "metadata": {
      "needs_background": "light"
     },
     "output_type": "display_data"
    },
    {
     "data": {
      "image/png": "[encoded data removed]",
      "text/plain": [
       "<Figure size 360x360 with 1 Axes>"
      ]
     },
     "metadata": {
      "needs_background": "light"
     },
     "output_type": "display_data"
    },
    {
     "data": {
      "image/png": "[encoded data removed]",
      "text/plain": [
       "<Figure size 360x360 with 1 Axes>"
      ]
     },
     "metadata": {
      "needs_background": "light"
     },
     "output_type": "display_data"
    }
   ],
   "source": [
    "stairs.plot.box(figsize=(5,5))\n",
    "plt.show()\n",
    "stairs.plot.hist(figsize=(5,5), bins=25)\n",
    "plt.show()\n",
    "stairs.plot.hist(figsize=(5,5), bins=25, range=[0,20])\n",
    "plt.show()"
   ]
  },
  {
   "cell_type": "code",
   "execution_count": 18,
   "metadata": {},
   "outputs": [
    {
     "name": "stdout",
     "output_type": "stream",
     "text": [
      "41.0        1\n",
      "14.0        1\n",
      "1.0         3\n",
      "15.0      174\n",
      "5.0     32261\n",
      "0.0     43380\n",
      "10.0    62971\n",
      "Name: Dressing, dtype: int64 count    138791.000000\n",
      "mean          5.718548\n",
      "std           4.333144\n",
      "min           0.000000\n",
      "25%           0.000000\n",
      "50%           5.000000\n",
      "75%          10.000000\n",
      "max          41.000000\n",
      "Name: Dressing, dtype: float64\n"
     ]
    }
   ],
   "source": [
    "#Dressing\n",
    "dressing = cdb.iloc[:,9]\n",
    "#print(dressing)\n",
    "print(dressing.value_counts().sort_values(ascending= True), dressing.describe())"
   ]
  },
  {
   "cell_type": "code",
   "execution_count": 19,
   "metadata": {},
   "outputs": [
    {
     "data": {
      "image/png": "[encoded data removed]",
      "text/plain": [
       "<Figure size 360x360 with 1 Axes>"
      ]
     },
     "metadata": {
      "needs_background": "light"
     },
     "output_type": "display_data"
    },
    {
     "data": {
      "image/png": "[encoded data removed]",
      "text/plain": [
       "<Figure size 360x360 with 1 Axes>"
      ]
     },
     "metadata": {
      "needs_background": "light"
     },
     "output_type": "display_data"
    },
    {
     "data": {
      "image/png": "[encoded data removed]",
      "text/plain": [
       "<Figure size 360x360 with 1 Axes>"
      ]
     },
     "metadata": {
      "needs_background": "light"
     },
     "output_type": "display_data"
    }
   ],
   "source": [
    "dressing.plot.box(figsize=(5,5))\n",
    "plt.show()\n",
    "dressing.plot.hist(figsize=(5,5), bins=25)\n",
    "plt.show()\n",
    "dressing.plot.hist(figsize=(5,5), bins=25, range=[0,20])\n",
    "plt.show()"
   ]
  },
  {
   "cell_type": "code",
   "execution_count": 20,
   "metadata": {},
   "outputs": [
    {
     "name": "stdout",
     "output_type": "stream",
     "text": [
      "21.0        1\n",
      "55.0        1\n",
      "2.0         1\n",
      "1.0        12\n",
      "15.0      172\n",
      "5.0     11244\n",
      "0.0     35358\n",
      "10.0    92002\n",
      "Name: Bowel_control, dtype: int64 count    138791.000000\n",
      "mean          7.053123\n",
      "std           4.344079\n",
      "min           0.000000\n",
      "25%           0.000000\n",
      "50%          10.000000\n",
      "75%          10.000000\n",
      "max          55.000000\n",
      "Name: Bowel_control, dtype: float64\n"
     ]
    }
   ],
   "source": [
    "#Bowel control\n",
    "bowel_c = cdb.iloc[:,10]\n",
    "#print(bowel_c)\n",
    "print(bowel_c.value_counts().sort_values(ascending= True), bowel_c.describe())"
   ]
  },
  {
   "cell_type": "code",
   "execution_count": 21,
   "metadata": {},
   "outputs": [
    {
     "data": {
      "image/png": "[encoded data removed]",
      "text/plain": [
       "<Figure size 360x360 with 1 Axes>"
      ]
     },
     "metadata": {
      "needs_background": "light"
     },
     "output_type": "display_data"
    },
    {
     "data": {
      "image/png": "[encoded data removed]",
      "text/plain": [
       "<Figure size 360x360 with 1 Axes>"
      ]
     },
     "metadata": {
      "needs_background": "light"
     },
     "output_type": "display_data"
    },
    {
     "data": {
      "image/png": "[encoded data removed]",
      "text/plain": [
       "<Figure size 360x360 with 1 Axes>"
      ]
     },
     "metadata": {
      "needs_background": "light"
     },
     "output_type": "display_data"
    }
   ],
   "source": [
    "bowel_c.plot.box(figsize=(5,5))\n",
    "plt.show()\n",
    "bowel_c.plot.hist(figsize=(5,5), bins=25)\n",
    "plt.show()\n",
    "bowel_c.plot.hist(figsize=(5,5), bins=25, range=[0,20])\n",
    "plt.show()"
   ]
  },
  {
   "cell_type": "code",
   "execution_count": 22,
   "metadata": {},
   "outputs": [
    {
     "name": "stdout",
     "output_type": "stream",
     "text": [
      "4.0         1\n",
      "20.0        2\n",
      "2.0         3\n",
      "15.0        5\n",
      "1.0        15\n",
      "5.0     10538\n",
      "0.0     38035\n",
      "10.0    90192\n",
      "Name: Bladder_control, dtype: int64 count    138791.000000\n",
      "mean          6.879048\n",
      "std           4.424391\n",
      "min           0.000000\n",
      "25%           0.000000\n",
      "50%          10.000000\n",
      "75%          10.000000\n",
      "max          20.000000\n",
      "Name: Bladder_control, dtype: float64\n"
     ]
    }
   ],
   "source": [
    "#Bladder control\n",
    "bladder_c = cdb.iloc[:,11]\n",
    "#print(bladder_c)\n",
    "print(bladder_c.value_counts().sort_values(ascending= True), bladder_c.describe())"
   ]
  },
  {
   "cell_type": "code",
   "execution_count": 23,
   "metadata": {},
   "outputs": [
    {
     "data": {
      "image/png": "[encoded data removed]",
      "text/plain": [
       "<Figure size 360x360 with 1 Axes>"
      ]
     },
     "metadata": {
      "needs_background": "light"
     },
     "output_type": "display_data"
    },
    {
     "data": {
      "image/png": "[encoded data removed]",
      "text/plain": [
       "<Figure size 360x360 with 1 Axes>"
      ]
     },
     "metadata": {
      "needs_background": "light"
     },
     "output_type": "display_data"
    },
    {
     "data": {
      "image/png": "[encoded data removed]",
      "text/plain": [
       "<Figure size 360x360 with 1 Axes>"
      ]
     },
     "metadata": {
      "needs_background": "light"
     },
     "output_type": "display_data"
    }
   ],
   "source": [
    "bladder_c.plot.box(figsize=(5,5))\n",
    "plt.show()\n",
    "bladder_c.plot.hist(figsize=(5,5), bins=25)\n",
    "plt.show()\n",
    "bladder_c.plot.hist(figsize=(5,5), bins=25, range=[0,10])\n",
    "plt.show()"
   ]
  },
  {
   "cell_type": "code",
   "execution_count": 24,
   "metadata": {},
   "outputs": [
    {
     "name": "stdout",
     "output_type": "stream",
     "text": [
      "12.0        1\n",
      "21.0        1\n",
      "8.0         1\n",
      "55.0        1\n",
      "54.0        1\n",
      "7.0         2\n",
      "10.0        3\n",
      "6.0      4406\n",
      "0.0     19758\n",
      "2.0     20892\n",
      "3.0     21422\n",
      "5.0     21558\n",
      "1.0     25291\n",
      "4.0     25450\n",
      "Name: discharged_mrs, dtype: int64 count    138787.000000\n",
      "mean          2.648382\n",
      "std           1.780485\n",
      "min           0.000000\n",
      "25%           1.000000\n",
      "50%           3.000000\n",
      "75%           4.000000\n",
      "max          55.000000\n",
      "Name: discharged_mrs, dtype: float64\n"
     ]
    }
   ],
   "source": [
    "#Discharged mRS\n",
    "DmRS = cdb.iloc[:,12]\n",
    "#print(DmRS)\n",
    "print(DmRS.value_counts().sort_values(ascending= True), DmRS.describe())"
   ]
  },
  {
   "cell_type": "code",
   "execution_count": 25,
   "metadata": {},
   "outputs": [
    {
     "data": {
      "image/png": "[encoded data removed]",
      "text/plain": [
       "<Figure size 360x360 with 1 Axes>"
      ]
     },
     "metadata": {
      "needs_background": "light"
     },
     "output_type": "display_data"
    },
    {
     "data": {
      "image/png": "[encoded data removed]",
      "text/plain": [
       "<Figure size 360x360 with 1 Axes>"
      ]
     },
     "metadata": {
      "needs_background": "light"
     },
     "output_type": "display_data"
    },
    {
     "data": {
      "image/png": "[encoded data removed]",
      "text/plain": [
       "<Figure size 360x360 with 1 Axes>"
      ]
     },
     "metadata": {
      "needs_background": "light"
     },
     "output_type": "display_data"
    }
   ],
   "source": [
    "DmRS.plot.box(figsize=(5,5))\n",
    "plt.show()\n",
    "DmRS.plot.hist(figsize=(5,5), bins=100)\n",
    "plt.show()\n",
    "DmRS.plot.hist(figsize=(5,5), bins=100, range=[0,10])\n",
    "plt.show()"
   ]
  }
 ],
 "metadata": {
  "kernelspec": {
   "display_name": "Python 3",
   "language": "python",
   "name": "python3"
  },
  "language_info": {
   "codemirror_mode": {
    "name": "ipython",
    "version": 3
   },
   "file_extension": ".py",
   "mimetype": "text/x-python",
   "name": "python",
   "nbconvert_exporter": "python",
   "pygments_lexer": "ipython3",
   "version": "3.8.5"
  }
 },
 "nbformat": 4,
 "nbformat_minor": 4
}
