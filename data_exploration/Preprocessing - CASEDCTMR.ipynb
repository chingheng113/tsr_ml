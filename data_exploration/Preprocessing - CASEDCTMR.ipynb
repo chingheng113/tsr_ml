{
 "cells": [
  {
   "cell_type": "code",
   "execution_count": 1,
   "metadata": {},
   "outputs": [],
   "source": [
    "import pandas as pd\n",
    "import matplotlib.pyplot as plt\n",
    "import seaborn as sns"
   ]
  },
  {
   "cell_type": "code",
   "execution_count": 2,
   "metadata": {},
   "outputs": [
    {
     "data": {
      "text/html": [
       "<div>\n",
       "<style scoped>\n",
       "    .dataframe tbody tr th:only-of-type {\n",
       "        vertical-align: middle;\n",
       "    }\n",
       "\n",
       "    .dataframe tbody tr th {\n",
       "        vertical-align: top;\n",
       "    }\n",
       "\n",
       "    .dataframe thead th {\n",
       "        text-align: right;\n",
       "    }\n",
       "</style>\n",
       "<table border=\"1\" class=\"dataframe\">\n",
       "  <thead>\n",
       "    <tr style=\"text-align: right;\">\n",
       "      <th></th>\n",
       "      <th>ICASE_ID</th>\n",
       "      <th>IDCASE_ID</th>\n",
       "      <th>cortical_ACA_ctr</th>\n",
       "      <th>cortical_MCA_ctr</th>\n",
       "      <th>subcortical_ACA_ctr</th>\n",
       "      <th>subcortical_MCA_ctr</th>\n",
       "      <th>PCA_cortex_ctr</th>\n",
       "      <th>thalamus_ctr</th>\n",
       "      <th>brainstem_ctr</th>\n",
       "      <th>cerebellum_ctr</th>\n",
       "      <th>...</th>\n",
       "      <th>cortical_MCA_mril</th>\n",
       "      <th>subcortical_ACA_mril</th>\n",
       "      <th>subcortical_MCA_mril</th>\n",
       "      <th>PCA_cortex_mril</th>\n",
       "      <th>thalamus_mril</th>\n",
       "      <th>brainstem_mril</th>\n",
       "      <th>cerebellum_mril</th>\n",
       "      <th>Watershed_mril</th>\n",
       "      <th>Hemorrhagic_infarct_mril</th>\n",
       "      <th>Old_stroke_mrich</th>\n",
       "    </tr>\n",
       "  </thead>\n",
       "  <tbody>\n",
       "    <tr>\n",
       "      <th>0</th>\n",
       "      <td>9066</td>\n",
       "      <td>010-00009066-1</td>\n",
       "      <td>N</td>\n",
       "      <td>N</td>\n",
       "      <td>N</td>\n",
       "      <td>N</td>\n",
       "      <td>N</td>\n",
       "      <td>N</td>\n",
       "      <td>N</td>\n",
       "      <td>N</td>\n",
       "      <td>...</td>\n",
       "      <td>N</td>\n",
       "      <td>N</td>\n",
       "      <td>N</td>\n",
       "      <td>N</td>\n",
       "      <td>N</td>\n",
       "      <td>N</td>\n",
       "      <td>N</td>\n",
       "      <td>N</td>\n",
       "      <td>N</td>\n",
       "      <td>N</td>\n",
       "    </tr>\n",
       "    <tr>\n",
       "      <th>1</th>\n",
       "      <td>9066</td>\n",
       "      <td>022-00009066-1</td>\n",
       "      <td>N</td>\n",
       "      <td>N</td>\n",
       "      <td>N</td>\n",
       "      <td>N</td>\n",
       "      <td>N</td>\n",
       "      <td>N</td>\n",
       "      <td>N</td>\n",
       "      <td>N</td>\n",
       "      <td>...</td>\n",
       "      <td>N</td>\n",
       "      <td>N</td>\n",
       "      <td>N</td>\n",
       "      <td>N</td>\n",
       "      <td>N</td>\n",
       "      <td>N</td>\n",
       "      <td>N</td>\n",
       "      <td>N</td>\n",
       "      <td>N</td>\n",
       "      <td>N</td>\n",
       "    </tr>\n",
       "    <tr>\n",
       "      <th>2</th>\n",
       "      <td>4830</td>\n",
       "      <td>005-00004830-2</td>\n",
       "      <td>N</td>\n",
       "      <td>N</td>\n",
       "      <td>N</td>\n",
       "      <td>N</td>\n",
       "      <td>N</td>\n",
       "      <td>N</td>\n",
       "      <td>N</td>\n",
       "      <td>N</td>\n",
       "      <td>...</td>\n",
       "      <td>N</td>\n",
       "      <td>N</td>\n",
       "      <td>N</td>\n",
       "      <td>N</td>\n",
       "      <td>N</td>\n",
       "      <td>N</td>\n",
       "      <td>N</td>\n",
       "      <td>N</td>\n",
       "      <td>N</td>\n",
       "      <td>N</td>\n",
       "    </tr>\n",
       "    <tr>\n",
       "      <th>3</th>\n",
       "      <td>9067</td>\n",
       "      <td>005-00009067-1</td>\n",
       "      <td>N</td>\n",
       "      <td>N</td>\n",
       "      <td>N</td>\n",
       "      <td>N</td>\n",
       "      <td>N</td>\n",
       "      <td>N</td>\n",
       "      <td>N</td>\n",
       "      <td>N</td>\n",
       "      <td>...</td>\n",
       "      <td>N</td>\n",
       "      <td>N</td>\n",
       "      <td>N</td>\n",
       "      <td>N</td>\n",
       "      <td>N</td>\n",
       "      <td>N</td>\n",
       "      <td>N</td>\n",
       "      <td>N</td>\n",
       "      <td>N</td>\n",
       "      <td>N</td>\n",
       "    </tr>\n",
       "    <tr>\n",
       "      <th>4</th>\n",
       "      <td>9068</td>\n",
       "      <td>005-00009068-1</td>\n",
       "      <td>N</td>\n",
       "      <td>N</td>\n",
       "      <td>N</td>\n",
       "      <td>N</td>\n",
       "      <td>N</td>\n",
       "      <td>N</td>\n",
       "      <td>N</td>\n",
       "      <td>N</td>\n",
       "      <td>...</td>\n",
       "      <td>N</td>\n",
       "      <td>N</td>\n",
       "      <td>N</td>\n",
       "      <td>N</td>\n",
       "      <td>N</td>\n",
       "      <td>N</td>\n",
       "      <td>N</td>\n",
       "      <td>N</td>\n",
       "      <td>N</td>\n",
       "      <td>N</td>\n",
       "    </tr>\n",
       "  </tbody>\n",
       "</table>\n",
       "<p>5 rows × 46 columns</p>\n",
       "</div>"
      ],
      "text/plain": [
       "   ICASE_ID       IDCASE_ID cortical_ACA_ctr cortical_MCA_ctr  \\\n",
       "0      9066  010-00009066-1                N                N   \n",
       "1      9066  022-00009066-1                N                N   \n",
       "2      4830  005-00004830-2                N                N   \n",
       "3      9067  005-00009067-1                N                N   \n",
       "4      9068  005-00009068-1                N                N   \n",
       "\n",
       "  subcortical_ACA_ctr subcortical_MCA_ctr PCA_cortex_ctr thalamus_ctr  \\\n",
       "0                   N                   N              N            N   \n",
       "1                   N                   N              N            N   \n",
       "2                   N                   N              N            N   \n",
       "3                   N                   N              N            N   \n",
       "4                   N                   N              N            N   \n",
       "\n",
       "  brainstem_ctr cerebellum_ctr  ... cortical_MCA_mril subcortical_ACA_mril  \\\n",
       "0             N              N  ...                 N                    N   \n",
       "1             N              N  ...                 N                    N   \n",
       "2             N              N  ...                 N                    N   \n",
       "3             N              N  ...                 N                    N   \n",
       "4             N              N  ...                 N                    N   \n",
       "\n",
       "  subcortical_MCA_mril PCA_cortex_mril thalamus_mril brainstem_mril  \\\n",
       "0                    N               N             N              N   \n",
       "1                    N               N             N              N   \n",
       "2                    N               N             N              N   \n",
       "3                    N               N             N              N   \n",
       "4                    N               N             N              N   \n",
       "\n",
       "  cerebellum_mril Watershed_mril Hemorrhagic_infarct_mril Old_stroke_mrich  \n",
       "0               N              N                        N                N  \n",
       "1               N              N                        N                N  \n",
       "2               N              N                        N                N  \n",
       "3               N              N                        N                N  \n",
       "4               N              N                        N                N  \n",
       "\n",
       "[5 rows x 46 columns]"
      ]
     },
     "execution_count": 2,
     "metadata": {},
     "output_type": "execute_result"
    }
   ],
   "source": [
    "cdcm = pd.read_csv(\"C:/Users/Jacky C/Desktop/TSR-proganosis/Data/TSR_2018_raw/CASEDCTMR(denormalized).csv\")\n",
    "cdcm.head()"
   ]
  },
  {
   "cell_type": "code",
   "execution_count": 3,
   "metadata": {},
   "outputs": [],
   "source": [
    "#cdcm.describe()"
   ]
  },
  {
   "cell_type": "code",
   "execution_count": 4,
   "metadata": {},
   "outputs": [
    {
     "name": "stdout",
     "output_type": "stream",
     "text": [
      "Y       744\n",
      "N    138003\n",
      "Name: cortical_ACA_ctr, dtype: int64 count     138747\n",
      "unique         2\n",
      "top            N\n",
      "freq      138003\n",
      "Name: cortical_ACA_ctr, dtype: object\n"
     ]
    }
   ],
   "source": [
    "#cortical_ACA_ctr\n",
    "cortical_ACA_ctr = cdcm.iloc[:,2]\n",
    "#print(cortical_ACA_ctr)\n",
    "print(cortical_ACA_ctr.value_counts().sort_values(ascending= True), cortical_ACA_ctr.describe())"
   ]
  },
  {
   "cell_type": "code",
   "execution_count": 5,
   "metadata": {},
   "outputs": [
    {
     "name": "stderr",
     "output_type": "stream",
     "text": [
      "C:\\Users\\Jacky C\\Anaconda3\\lib\\site-packages\\seaborn\\_decorators.py:36: FutureWarning: Pass the following variable as a keyword arg: x. From version 0.12, the only valid positional argument will be `data`, and passing other arguments without an explicit keyword will result in an error or misinterpretation.\n",
      "  warnings.warn(\n"
     ]
    },
    {
     "data": {
      "text/plain": [
       "<AxesSubplot:xlabel='cortical_ACA_ctr', ylabel='count'>"
      ]
     },
     "execution_count": 5,
     "metadata": {},
     "output_type": "execute_result"
    },
    {
     "data": {
      "image/png": "[encoded data removed]",
      "text/plain": [
       "<Figure size 432x288 with 1 Axes>"
      ]
     },
     "metadata": {
      "needs_background": "light"
     },
     "output_type": "display_data"
    }
   ],
   "source": [
    "sns.countplot(cortical_ACA_ctr)"
   ]
  },
  {
   "cell_type": "code",
   "execution_count": 6,
   "metadata": {},
   "outputs": [
    {
     "name": "stdout",
     "output_type": "stream",
     "text": [
      "Y      4428\n",
      "N    134319\n",
      "Name: cortical_MCA_ctr, dtype: int64 count     138747\n",
      "unique         2\n",
      "top            N\n",
      "freq      134319\n",
      "Name: cortical_MCA_ctr, dtype: object\n"
     ]
    }
   ],
   "source": [
    "#cortical_MCA_ctr\n",
    "cortical_MCA_ctr = cdcm.iloc[:,3]\n",
    "#print(cortical_MCA_ctr)\n",
    "print(cortical_MCA_ctr.value_counts().sort_values(ascending= True), cortical_MCA_ctr.describe())"
   ]
  },
  {
   "cell_type": "code",
   "execution_count": 7,
   "metadata": {},
   "outputs": [
    {
     "name": "stderr",
     "output_type": "stream",
     "text": [
      "C:\\Users\\Jacky C\\Anaconda3\\lib\\site-packages\\seaborn\\_decorators.py:36: FutureWarning: Pass the following variable as a keyword arg: x. From version 0.12, the only valid positional argument will be `data`, and passing other arguments without an explicit keyword will result in an error or misinterpretation.\n",
      "  warnings.warn(\n"
     ]
    },
    {
     "data": {
      "text/plain": [
       "<AxesSubplot:xlabel='cortical_MCA_ctr', ylabel='count'>"
      ]
     },
     "execution_count": 7,
     "metadata": {},
     "output_type": "execute_result"
    },
    {
     "data": {
      "image/png": "[encoded data removed]",
      "text/plain": [
       "<Figure size 432x288 with 1 Axes>"
      ]
     },
     "metadata": {
      "needs_background": "light"
     },
     "output_type": "display_data"
    }
   ],
   "source": [
    "sns.countplot(cortical_MCA_ctr)"
   ]
  },
  {
   "cell_type": "code",
   "execution_count": 8,
   "metadata": {},
   "outputs": [
    {
     "name": "stdout",
     "output_type": "stream",
     "text": [
      "Y       676\n",
      "N    138071\n",
      "Name: subcortical_ACA_ctr, dtype: int64 count     138747\n",
      "unique         2\n",
      "top            N\n",
      "freq      138071\n",
      "Name: subcortical_ACA_ctr, dtype: object\n"
     ]
    }
   ],
   "source": [
    "#subcortical_ACA_ctr\n",
    "subcortical_ACA_ctr = cdcm.iloc[:,4]\n",
    "#print(subcortical_ACA_ctr)\n",
    "print(subcortical_ACA_ctr.value_counts().sort_values(ascending= True), subcortical_ACA_ctr.describe())"
   ]
  },
  {
   "cell_type": "code",
   "execution_count": 9,
   "metadata": {},
   "outputs": [
    {
     "name": "stderr",
     "output_type": "stream",
     "text": [
      "C:\\Users\\Jacky C\\Anaconda3\\lib\\site-packages\\seaborn\\_decorators.py:36: FutureWarning: Pass the following variable as a keyword arg: x. From version 0.12, the only valid positional argument will be `data`, and passing other arguments without an explicit keyword will result in an error or misinterpretation.\n",
      "  warnings.warn(\n"
     ]
    },
    {
     "data": {
      "text/plain": [
       "<AxesSubplot:xlabel='subcortical_ACA_ctr', ylabel='count'>"
      ]
     },
     "execution_count": 9,
     "metadata": {},
     "output_type": "execute_result"
    },
    {
     "data": {
      "image/png": "[encoded data removed]",
      "text/plain": [
       "<Figure size 432x288 with 1 Axes>"
      ]
     },
     "metadata": {
      "needs_background": "light"
     },
     "output_type": "display_data"
    }
   ],
   "source": [
    "sns.countplot(subcortical_ACA_ctr)"
   ]
  },
  {
   "cell_type": "code",
   "execution_count": 10,
   "metadata": {},
   "outputs": [
    {
     "name": "stdout",
     "output_type": "stream",
     "text": [
      "Y     10068\n",
      "N    128679\n",
      "Name: subcortical_MCA_ctr, dtype: int64 count     138747\n",
      "unique         2\n",
      "top            N\n",
      "freq      128679\n",
      "Name: subcortical_MCA_ctr, dtype: object\n"
     ]
    }
   ],
   "source": [
    "#subcortical_MCA_ctr\n",
    "subcortical_MCA_ctr = cdcm.iloc[:,5]\n",
    "#print(subcortical_MCA_ctr)\n",
    "print(subcortical_MCA_ctr.value_counts().sort_values(ascending= True), subcortical_MCA_ctr.describe())"
   ]
  },
  {
   "cell_type": "code",
   "execution_count": 11,
   "metadata": {},
   "outputs": [
    {
     "name": "stderr",
     "output_type": "stream",
     "text": [
      "C:\\Users\\Jacky C\\Anaconda3\\lib\\site-packages\\seaborn\\_decorators.py:36: FutureWarning: Pass the following variable as a keyword arg: x. From version 0.12, the only valid positional argument will be `data`, and passing other arguments without an explicit keyword will result in an error or misinterpretation.\n",
      "  warnings.warn(\n"
     ]
    },
    {
     "data": {
      "text/plain": [
       "<AxesSubplot:xlabel='subcortical_MCA_ctr', ylabel='count'>"
      ]
     },
     "execution_count": 11,
     "metadata": {},
     "output_type": "execute_result"
    },
    {
     "data": {
      "image/png": "[encoded data removed]",
      "text/plain": [
       "<Figure size 432x288 with 1 Axes>"
      ]
     },
     "metadata": {
      "needs_background": "light"
     },
     "output_type": "display_data"
    }
   ],
   "source": [
    "sns.countplot(subcortical_MCA_ctr)"
   ]
  },
  {
   "cell_type": "code",
   "execution_count": 12,
   "metadata": {},
   "outputs": [
    {
     "name": "stdout",
     "output_type": "stream",
     "text": [
      "Y      1326\n",
      "N    137421\n",
      "Name: PCA_cortex_ctr, dtype: int64 count     138747\n",
      "unique         2\n",
      "top            N\n",
      "freq      137421\n",
      "Name: PCA_cortex_ctr, dtype: object\n"
     ]
    }
   ],
   "source": [
    "#PCA_cortex_ctr\n",
    "PCA_cortex_ctr = cdcm.iloc[:,6]\n",
    "#print(PCA_cortex_ctr)\n",
    "print(PCA_cortex_ctr.value_counts().sort_values(ascending= True), PCA_cortex_ctr.describe())"
   ]
  },
  {
   "cell_type": "code",
   "execution_count": 13,
   "metadata": {},
   "outputs": [
    {
     "name": "stderr",
     "output_type": "stream",
     "text": [
      "C:\\Users\\Jacky C\\Anaconda3\\lib\\site-packages\\seaborn\\_decorators.py:36: FutureWarning: Pass the following variable as a keyword arg: x. From version 0.12, the only valid positional argument will be `data`, and passing other arguments without an explicit keyword will result in an error or misinterpretation.\n",
      "  warnings.warn(\n"
     ]
    },
    {
     "data": {
      "text/plain": [
       "<AxesSubplot:xlabel='PCA_cortex_ctr', ylabel='count'>"
      ]
     },
     "execution_count": 13,
     "metadata": {},
     "output_type": "execute_result"
    },
    {
     "data": {
      "image/png": "[encoded data removed]",
      "text/plain": [
       "<Figure size 432x288 with 1 Axes>"
      ]
     },
     "metadata": {
      "needs_background": "light"
     },
     "output_type": "display_data"
    }
   ],
   "source": [
    "sns.countplot(PCA_cortex_ctr)"
   ]
  },
  {
   "cell_type": "code",
   "execution_count": 14,
   "metadata": {},
   "outputs": [
    {
     "name": "stdout",
     "output_type": "stream",
     "text": [
      "Y      1279\n",
      "N    137468\n",
      "Name: thalamus_ctr, dtype: int64 count     138747\n",
      "unique         2\n",
      "top            N\n",
      "freq      137468\n",
      "Name: thalamus_ctr, dtype: object\n"
     ]
    }
   ],
   "source": [
    "#thalamus_ctr\n",
    "thalamus_ctr = cdcm.iloc[:,7]\n",
    "#print(thalamus_ctr)\n",
    "print(thalamus_ctr.value_counts().sort_values(ascending= True), thalamus_ctr.describe())"
   ]
  },
  {
   "cell_type": "code",
   "execution_count": 15,
   "metadata": {},
   "outputs": [
    {
     "name": "stderr",
     "output_type": "stream",
     "text": [
      "C:\\Users\\Jacky C\\Anaconda3\\lib\\site-packages\\seaborn\\_decorators.py:36: FutureWarning: Pass the following variable as a keyword arg: x. From version 0.12, the only valid positional argument will be `data`, and passing other arguments without an explicit keyword will result in an error or misinterpretation.\n",
      "  warnings.warn(\n"
     ]
    },
    {
     "data": {
      "text/plain": [
       "<AxesSubplot:xlabel='thalamus_ctr', ylabel='count'>"
      ]
     },
     "execution_count": 15,
     "metadata": {},
     "output_type": "execute_result"
    },
    {
     "data": {
      "image/png": "[encoded data removed]",
      "text/plain": [
       "<Figure size 432x288 with 1 Axes>"
      ]
     },
     "metadata": {
      "needs_background": "light"
     },
     "output_type": "display_data"
    }
   ],
   "source": [
    "sns.countplot(thalamus_ctr)"
   ]
  },
  {
   "cell_type": "code",
   "execution_count": 16,
   "metadata": {},
   "outputs": [
    {
     "name": "stdout",
     "output_type": "stream",
     "text": [
      "Y      1724\n",
      "N    137023\n",
      "Name: brainstem_ctr, dtype: int64 count     138747\n",
      "unique         2\n",
      "top            N\n",
      "freq      137023\n",
      "Name: brainstem_ctr, dtype: object\n"
     ]
    }
   ],
   "source": [
    "#brainstem_ctr\n",
    "brainstem_ctr = cdcm.iloc[:,8]\n",
    "#print(brainstem_ctr)\n",
    "print(brainstem_ctr.value_counts().sort_values(ascending= True), brainstem_ctr.describe())"
   ]
  },
  {
   "cell_type": "code",
   "execution_count": 17,
   "metadata": {},
   "outputs": [
    {
     "name": "stderr",
     "output_type": "stream",
     "text": [
      "C:\\Users\\Jacky C\\Anaconda3\\lib\\site-packages\\seaborn\\_decorators.py:36: FutureWarning: Pass the following variable as a keyword arg: x. From version 0.12, the only valid positional argument will be `data`, and passing other arguments without an explicit keyword will result in an error or misinterpretation.\n",
      "  warnings.warn(\n"
     ]
    },
    {
     "data": {
      "text/plain": [
       "<AxesSubplot:xlabel='brainstem_ctr', ylabel='count'>"
      ]
     },
     "execution_count": 17,
     "metadata": {},
     "output_type": "execute_result"
    },
    {
     "data": {
      "image/png": "[encoded data removed]",
      "text/plain": [
       "<Figure size 432x288 with 1 Axes>"
      ]
     },
     "metadata": {
      "needs_background": "light"
     },
     "output_type": "display_data"
    }
   ],
   "source": [
    "sns.countplot(brainstem_ctr)"
   ]
  },
  {
   "cell_type": "code",
   "execution_count": 18,
   "metadata": {},
   "outputs": [
    {
     "name": "stdout",
     "output_type": "stream",
     "text": [
      "Y      1537\n",
      "N    137210\n",
      "Name: cerebellum_ctr, dtype: int64 count     138747\n",
      "unique         2\n",
      "top            N\n",
      "freq      137210\n",
      "Name: cerebellum_ctr, dtype: object\n"
     ]
    }
   ],
   "source": [
    "#cerebellum_ctr\n",
    "cerebellum_ctr = cdcm.iloc[:,9]\n",
    "#print(cerebellum_ctr)\n",
    "print(cerebellum_ctr.value_counts().sort_values(ascending= True), cerebellum_ctr.describe())"
   ]
  },
  {
   "cell_type": "code",
   "execution_count": 19,
   "metadata": {},
   "outputs": [
    {
     "name": "stderr",
     "output_type": "stream",
     "text": [
      "C:\\Users\\Jacky C\\Anaconda3\\lib\\site-packages\\seaborn\\_decorators.py:36: FutureWarning: Pass the following variable as a keyword arg: x. From version 0.12, the only valid positional argument will be `data`, and passing other arguments without an explicit keyword will result in an error or misinterpretation.\n",
      "  warnings.warn(\n"
     ]
    },
    {
     "data": {
      "text/plain": [
       "<AxesSubplot:xlabel='cerebellum_ctr', ylabel='count'>"
      ]
     },
     "execution_count": 19,
     "metadata": {},
     "output_type": "execute_result"
    },
    {
     "data": {
      "image/png": "[encoded data removed]",
      "text/plain": [
       "<Figure size 432x288 with 1 Axes>"
      ]
     },
     "metadata": {
      "needs_background": "light"
     },
     "output_type": "display_data"
    }
   ],
   "source": [
    "sns.countplot(cerebellum_ctr)"
   ]
  },
  {
   "cell_type": "code",
   "execution_count": 20,
   "metadata": {},
   "outputs": [
    {
     "name": "stdout",
     "output_type": "stream",
     "text": [
      "Y       197\n",
      "N    138550\n",
      "Name: Watershed_ctr, dtype: int64 count     138747\n",
      "unique         2\n",
      "top            N\n",
      "freq      138550\n",
      "Name: Watershed_ctr, dtype: object\n"
     ]
    }
   ],
   "source": [
    "#Watershed_ctr\n",
    "Watershed_ctr = cdcm.iloc[:,10]\n",
    "#print(Watershed_ctr)\n",
    "print(Watershed_ctr.value_counts().sort_values(ascending= True), Watershed_ctr.describe())"
   ]
  },
  {
   "cell_type": "code",
   "execution_count": 21,
   "metadata": {},
   "outputs": [
    {
     "name": "stderr",
     "output_type": "stream",
     "text": [
      "C:\\Users\\Jacky C\\Anaconda3\\lib\\site-packages\\seaborn\\_decorators.py:36: FutureWarning: Pass the following variable as a keyword arg: x. From version 0.12, the only valid positional argument will be `data`, and passing other arguments without an explicit keyword will result in an error or misinterpretation.\n",
      "  warnings.warn(\n"
     ]
    },
    {
     "data": {
      "text/plain": [
       "<AxesSubplot:xlabel='Watershed_ctr', ylabel='count'>"
      ]
     },
     "execution_count": 21,
     "metadata": {},
     "output_type": "execute_result"
    },
    {
     "data": {
      "image/png": "[encoded data removed]",
      "text/plain": [
       "<Figure size 432x288 with 1 Axes>"
      ]
     },
     "metadata": {
      "needs_background": "light"
     },
     "output_type": "display_data"
    }
   ],
   "source": [
    "sns.countplot(Watershed_ctr)"
   ]
  },
  {
   "cell_type": "code",
   "execution_count": 22,
   "metadata": {},
   "outputs": [
    {
     "name": "stdout",
     "output_type": "stream",
     "text": [
      "Y       740\n",
      "N    138007\n",
      "Name: Hemorrhagic_infarct_ctr, dtype: int64 count     138747\n",
      "unique         2\n",
      "top            N\n",
      "freq      138007\n",
      "Name: Hemorrhagic_infarct_ctr, dtype: object\n"
     ]
    }
   ],
   "source": [
    "#Hemorrhagic_infarct_ctr\n",
    "Hemorrhagic_infarct_ctr = cdcm.iloc[:,11]\n",
    "#print(Hemorrhagic_infarct_ctr)\n",
    "print(Hemorrhagic_infarct_ctr.value_counts().sort_values(ascending= True), Hemorrhagic_infarct_ctr.describe())"
   ]
  },
  {
   "cell_type": "code",
   "execution_count": 23,
   "metadata": {},
   "outputs": [
    {
     "name": "stderr",
     "output_type": "stream",
     "text": [
      "C:\\Users\\Jacky C\\Anaconda3\\lib\\site-packages\\seaborn\\_decorators.py:36: FutureWarning: Pass the following variable as a keyword arg: x. From version 0.12, the only valid positional argument will be `data`, and passing other arguments without an explicit keyword will result in an error or misinterpretation.\n",
      "  warnings.warn(\n"
     ]
    },
    {
     "data": {
      "text/plain": [
       "<AxesSubplot:xlabel='Hemorrhagic_infarct_ctr', ylabel='count'>"
      ]
     },
     "execution_count": 23,
     "metadata": {},
     "output_type": "execute_result"
    },
    {
     "data": {
      "image/png": "[encoded data removed]",
      "text/plain": [
       "<Figure size 432x288 with 1 Axes>"
      ]
     },
     "metadata": {
      "needs_background": "light"
     },
     "output_type": "display_data"
    }
   ],
   "source": [
    "sns.countplot(Hemorrhagic_infarct_ctr)"
   ]
  },
  {
   "cell_type": "code",
   "execution_count": 24,
   "metadata": {},
   "outputs": [
    {
     "name": "stdout",
     "output_type": "stream",
     "text": [
      "Y     11577\n",
      "N    127166\n",
      "Name: Old_stroke_ctci, dtype: int64 count     138743\n",
      "unique         2\n",
      "top            N\n",
      "freq      127166\n",
      "Name: Old_stroke_ctci, dtype: object\n"
     ]
    }
   ],
   "source": [
    "#Old_stroke_ctci\n",
    "Old_stroke_ctci = cdcm.iloc[:,12]\n",
    "#print(Old_stroke_ctci)\n",
    "print(Old_stroke_ctci.value_counts().sort_values(ascending= True), Old_stroke_ctci.describe())"
   ]
  },
  {
   "cell_type": "code",
   "execution_count": 25,
   "metadata": {},
   "outputs": [
    {
     "name": "stderr",
     "output_type": "stream",
     "text": [
      "C:\\Users\\Jacky C\\Anaconda3\\lib\\site-packages\\seaborn\\_decorators.py:36: FutureWarning: Pass the following variable as a keyword arg: x. From version 0.12, the only valid positional argument will be `data`, and passing other arguments without an explicit keyword will result in an error or misinterpretation.\n",
      "  warnings.warn(\n"
     ]
    },
    {
     "data": {
      "text/plain": [
       "<AxesSubplot:xlabel='Old_stroke_ctci', ylabel='count'>"
      ]
     },
     "execution_count": 25,
     "metadata": {},
     "output_type": "execute_result"
    },
    {
     "data": {
      "image/png": "[encoded data removed]",
      "text/plain": [
       "<Figure size 432x288 with 1 Axes>"
      ]
     },
     "metadata": {
      "needs_background": "light"
     },
     "output_type": "display_data"
    }
   ],
   "source": [
    "sns.countplot(Old_stroke_ctci)"
   ]
  },
  {
   "cell_type": "code",
   "execution_count": 26,
   "metadata": {},
   "outputs": [
    {
     "name": "stdout",
     "output_type": "stream",
     "text": [
      "Y       673\n",
      "N    138074\n",
      "Name: cortical_ACA_ctl, dtype: int64 count     138747\n",
      "unique         2\n",
      "top            N\n",
      "freq      138074\n",
      "Name: cortical_ACA_ctl, dtype: object\n"
     ]
    }
   ],
   "source": [
    "#cortical_ACA_ctl\n",
    "cortical_ACA_ctl = cdcm.iloc[:,13]\n",
    "#print(cortical_ACA_ctl)\n",
    "print(cortical_ACA_ctl.value_counts().sort_values(ascending= True), cortical_ACA_ctl.describe())"
   ]
  },
  {
   "cell_type": "code",
   "execution_count": 27,
   "metadata": {},
   "outputs": [
    {
     "name": "stderr",
     "output_type": "stream",
     "text": [
      "C:\\Users\\Jacky C\\Anaconda3\\lib\\site-packages\\seaborn\\_decorators.py:36: FutureWarning: Pass the following variable as a keyword arg: x. From version 0.12, the only valid positional argument will be `data`, and passing other arguments without an explicit keyword will result in an error or misinterpretation.\n",
      "  warnings.warn(\n"
     ]
    },
    {
     "data": {
      "text/plain": [
       "<AxesSubplot:xlabel='cortical_ACA_ctl', ylabel='count'>"
      ]
     },
     "execution_count": 27,
     "metadata": {},
     "output_type": "execute_result"
    },
    {
     "data": {
      "image/png": "[encoded data removed]",
      "text/plain": [
       "<Figure size 432x288 with 1 Axes>"
      ]
     },
     "metadata": {
      "needs_background": "light"
     },
     "output_type": "display_data"
    }
   ],
   "source": [
    "sns.countplot(cortical_ACA_ctl)"
   ]
  },
  {
   "cell_type": "code",
   "execution_count": 28,
   "metadata": {},
   "outputs": [
    {
     "name": "stdout",
     "output_type": "stream",
     "text": [
      "Y      4487\n",
      "N    134260\n",
      "Name: cortical_MCA_ctl, dtype: int64 count     138747\n",
      "unique         2\n",
      "top            N\n",
      "freq      134260\n",
      "Name: cortical_MCA_ctl, dtype: object\n"
     ]
    }
   ],
   "source": [
    "#cortical_MCA_ctl\n",
    "cortical_MCA_ctl = cdcm.iloc[:,14]\n",
    "#print(cortical_MCA_ctl)\n",
    "print(cortical_MCA_ctl.value_counts().sort_values(ascending= True), cortical_MCA_ctl.describe())"
   ]
  },
  {
   "cell_type": "code",
   "execution_count": 29,
   "metadata": {},
   "outputs": [
    {
     "name": "stderr",
     "output_type": "stream",
     "text": [
      "C:\\Users\\Jacky C\\Anaconda3\\lib\\site-packages\\seaborn\\_decorators.py:36: FutureWarning: Pass the following variable as a keyword arg: x. From version 0.12, the only valid positional argument will be `data`, and passing other arguments without an explicit keyword will result in an error or misinterpretation.\n",
      "  warnings.warn(\n"
     ]
    },
    {
     "data": {
      "text/plain": [
       "<AxesSubplot:xlabel='cortical_MCA_ctl', ylabel='count'>"
      ]
     },
     "execution_count": 29,
     "metadata": {},
     "output_type": "execute_result"
    },
    {
     "data": {
      "image/png": "[encoded data removed]",
      "text/plain": [
       "<Figure size 432x288 with 1 Axes>"
      ]
     },
     "metadata": {
      "needs_background": "light"
     },
     "output_type": "display_data"
    }
   ],
   "source": [
    "sns.countplot(cortical_MCA_ctl)"
   ]
  },
  {
   "cell_type": "code",
   "execution_count": 30,
   "metadata": {},
   "outputs": [
    {
     "name": "stdout",
     "output_type": "stream",
     "text": [
      "Y       619\n",
      "N    138128\n",
      "Name: subcortical_ACA_ctl, dtype: int64 count     138747\n",
      "unique         2\n",
      "top            N\n",
      "freq      138128\n",
      "Name: subcortical_ACA_ctl, dtype: object\n"
     ]
    }
   ],
   "source": [
    "#subcortical_ACA_ctl\n",
    "subcortical_ACA_ctl = cdcm.iloc[:,15]\n",
    "#print(subcortical_ACA_ctl)\n",
    "print(subcortical_ACA_ctl.value_counts().sort_values(ascending= True), subcortical_ACA_ctl.describe())"
   ]
  },
  {
   "cell_type": "code",
   "execution_count": 31,
   "metadata": {},
   "outputs": [
    {
     "name": "stderr",
     "output_type": "stream",
     "text": [
      "C:\\Users\\Jacky C\\Anaconda3\\lib\\site-packages\\seaborn\\_decorators.py:36: FutureWarning: Pass the following variable as a keyword arg: x. From version 0.12, the only valid positional argument will be `data`, and passing other arguments without an explicit keyword will result in an error or misinterpretation.\n",
      "  warnings.warn(\n"
     ]
    },
    {
     "data": {
      "text/plain": [
       "<AxesSubplot:xlabel='subcortical_ACA_ctl', ylabel='count'>"
      ]
     },
     "execution_count": 31,
     "metadata": {},
     "output_type": "execute_result"
    },
    {
     "data": {
      "image/png": "[encoded data removed]",
      "text/plain": [
       "<Figure size 432x288 with 1 Axes>"
      ]
     },
     "metadata": {
      "needs_background": "light"
     },
     "output_type": "display_data"
    }
   ],
   "source": [
    "sns.countplot(subcortical_ACA_ctl)"
   ]
  },
  {
   "cell_type": "code",
   "execution_count": 32,
   "metadata": {},
   "outputs": [
    {
     "name": "stdout",
     "output_type": "stream",
     "text": [
      "Y     10143\n",
      "N    128604\n",
      "Name: subcortical_MCA_ctl, dtype: int64 count     138747\n",
      "unique         2\n",
      "top            N\n",
      "freq      128604\n",
      "Name: subcortical_MCA_ctl, dtype: object\n"
     ]
    }
   ],
   "source": [
    "#subcortical_MCA_ctl\n",
    "subcortical_MCA_ctl = cdcm.iloc[:,16]\n",
    "#print(subcortical_MCA_ctl)\n",
    "print(subcortical_MCA_ctl.value_counts().sort_values(ascending= True), subcortical_MCA_ctl.describe())"
   ]
  },
  {
   "cell_type": "code",
   "execution_count": 33,
   "metadata": {},
   "outputs": [
    {
     "name": "stderr",
     "output_type": "stream",
     "text": [
      "C:\\Users\\Jacky C\\Anaconda3\\lib\\site-packages\\seaborn\\_decorators.py:36: FutureWarning: Pass the following variable as a keyword arg: x. From version 0.12, the only valid positional argument will be `data`, and passing other arguments without an explicit keyword will result in an error or misinterpretation.\n",
      "  warnings.warn(\n"
     ]
    },
    {
     "data": {
      "text/plain": [
       "<AxesSubplot:xlabel='subcortical_MCA_ctl', ylabel='count'>"
      ]
     },
     "execution_count": 33,
     "metadata": {},
     "output_type": "execute_result"
    },
    {
     "data": {
      "image/png": "[encoded data removed]",
      "text/plain": [
       "<Figure size 432x288 with 1 Axes>"
      ]
     },
     "metadata": {
      "needs_background": "light"
     },
     "output_type": "display_data"
    }
   ],
   "source": [
    "sns.countplot(subcortical_MCA_ctl)"
   ]
  },
  {
   "cell_type": "code",
   "execution_count": 34,
   "metadata": {},
   "outputs": [
    {
     "name": "stdout",
     "output_type": "stream",
     "text": [
      "Y      1287\n",
      "N    137460\n",
      "Name: PCA_cortex_ctl, dtype: int64 count     138747\n",
      "unique         2\n",
      "top            N\n",
      "freq      137460\n",
      "Name: PCA_cortex_ctl, dtype: object\n"
     ]
    }
   ],
   "source": [
    "#PCA_cortex_ctl\n",
    "PCA_cortex_ctl = cdcm.iloc[:,17]\n",
    "#print(PCA_cortex_ctl)\n",
    "print(PCA_cortex_ctl.value_counts().sort_values(ascending= True), PCA_cortex_ctl.describe())"
   ]
  },
  {
   "cell_type": "code",
   "execution_count": 35,
   "metadata": {},
   "outputs": [
    {
     "name": "stderr",
     "output_type": "stream",
     "text": [
      "C:\\Users\\Jacky C\\Anaconda3\\lib\\site-packages\\seaborn\\_decorators.py:36: FutureWarning: Pass the following variable as a keyword arg: x. From version 0.12, the only valid positional argument will be `data`, and passing other arguments without an explicit keyword will result in an error or misinterpretation.\n",
      "  warnings.warn(\n"
     ]
    },
    {
     "data": {
      "text/plain": [
       "<AxesSubplot:xlabel='PCA_cortex_ctl', ylabel='count'>"
      ]
     },
     "execution_count": 35,
     "metadata": {},
     "output_type": "execute_result"
    },
    {
     "data": {
      "image/png": "[encoded data removed]",
      "text/plain": [
       "<Figure size 432x288 with 1 Axes>"
      ]
     },
     "metadata": {
      "needs_background": "light"
     },
     "output_type": "display_data"
    }
   ],
   "source": [
    "sns.countplot(PCA_cortex_ctl)"
   ]
  },
  {
   "cell_type": "code",
   "execution_count": 36,
   "metadata": {},
   "outputs": [
    {
     "name": "stdout",
     "output_type": "stream",
     "text": [
      "Y      1349\n",
      "N    137398\n",
      "Name: thalamus_ctl, dtype: int64 count     138747\n",
      "unique         2\n",
      "top            N\n",
      "freq      137398\n",
      "Name: thalamus_ctl, dtype: object\n"
     ]
    }
   ],
   "source": [
    "#thalamus_ctl\n",
    "thalamus_ctl = cdcm.iloc[:,18]\n",
    "#print(thalamus_ctl)\n",
    "print(thalamus_ctl.value_counts().sort_values(ascending= True), thalamus_ctl.describe())"
   ]
  },
  {
   "cell_type": "code",
   "execution_count": 37,
   "metadata": {},
   "outputs": [
    {
     "name": "stderr",
     "output_type": "stream",
     "text": [
      "C:\\Users\\Jacky C\\Anaconda3\\lib\\site-packages\\seaborn\\_decorators.py:36: FutureWarning: Pass the following variable as a keyword arg: x. From version 0.12, the only valid positional argument will be `data`, and passing other arguments without an explicit keyword will result in an error or misinterpretation.\n",
      "  warnings.warn(\n"
     ]
    },
    {
     "data": {
      "text/plain": [
       "<AxesSubplot:xlabel='thalamus_ctl', ylabel='count'>"
      ]
     },
     "execution_count": 37,
     "metadata": {},
     "output_type": "execute_result"
    },
    {
     "data": {
      "image/png": "[encoded data removed]",
      "text/plain": [
       "<Figure size 432x288 with 1 Axes>"
      ]
     },
     "metadata": {
      "needs_background": "light"
     },
     "output_type": "display_data"
    }
   ],
   "source": [
    "sns.countplot(thalamus_ctl)"
   ]
  },
  {
   "cell_type": "code",
   "execution_count": 38,
   "metadata": {},
   "outputs": [
    {
     "name": "stdout",
     "output_type": "stream",
     "text": [
      "Y      1882\n",
      "N    136865\n",
      "Name: brainstem_ctl, dtype: int64 count     138747\n",
      "unique         2\n",
      "top            N\n",
      "freq      136865\n",
      "Name: brainstem_ctl, dtype: object\n"
     ]
    }
   ],
   "source": [
    "#brainstem_ctl\n",
    "brainstem_ctl = cdcm.iloc[:,19]\n",
    "#print(brainstem_ctl)\n",
    "print(brainstem_ctl.value_counts().sort_values(ascending= True), brainstem_ctl.describe())"
   ]
  },
  {
   "cell_type": "code",
   "execution_count": 39,
   "metadata": {},
   "outputs": [
    {
     "name": "stderr",
     "output_type": "stream",
     "text": [
      "C:\\Users\\Jacky C\\Anaconda3\\lib\\site-packages\\seaborn\\_decorators.py:36: FutureWarning: Pass the following variable as a keyword arg: x. From version 0.12, the only valid positional argument will be `data`, and passing other arguments without an explicit keyword will result in an error or misinterpretation.\n",
      "  warnings.warn(\n"
     ]
    },
    {
     "data": {
      "text/plain": [
       "<AxesSubplot:xlabel='brainstem_ctl', ylabel='count'>"
      ]
     },
     "execution_count": 39,
     "metadata": {},
     "output_type": "execute_result"
    },
    {
     "data": {
      "image/png": "[encoded data removed]",
      "text/plain": [
       "<Figure size 432x288 with 1 Axes>"
      ]
     },
     "metadata": {
      "needs_background": "light"
     },
     "output_type": "display_data"
    }
   ],
   "source": [
    "sns.countplot(brainstem_ctl)"
   ]
  },
  {
   "cell_type": "code",
   "execution_count": 40,
   "metadata": {},
   "outputs": [
    {
     "name": "stdout",
     "output_type": "stream",
     "text": [
      "Y      1481\n",
      "N    137266\n",
      "Name: cerebellum_ctl, dtype: int64 count     138747\n",
      "unique         2\n",
      "top            N\n",
      "freq      137266\n",
      "Name: cerebellum_ctl, dtype: object\n"
     ]
    }
   ],
   "source": [
    "#cerebellum_ctl\n",
    "cerebellum_ctl = cdcm.iloc[:,20]\n",
    "#print(cerebellum_ctl)\n",
    "print(cerebellum_ctl.value_counts().sort_values(ascending= True), cerebellum_ctl.describe())"
   ]
  },
  {
   "cell_type": "code",
   "execution_count": 41,
   "metadata": {},
   "outputs": [
    {
     "name": "stderr",
     "output_type": "stream",
     "text": [
      "C:\\Users\\Jacky C\\Anaconda3\\lib\\site-packages\\seaborn\\_decorators.py:36: FutureWarning: Pass the following variable as a keyword arg: x. From version 0.12, the only valid positional argument will be `data`, and passing other arguments without an explicit keyword will result in an error or misinterpretation.\n",
      "  warnings.warn(\n"
     ]
    },
    {
     "data": {
      "text/plain": [
       "<AxesSubplot:xlabel='cerebellum_ctl', ylabel='count'>"
      ]
     },
     "execution_count": 41,
     "metadata": {},
     "output_type": "execute_result"
    },
    {
     "data": {
      "image/png": "[encoded data removed]",
      "text/plain": [
       "<Figure size 432x288 with 1 Axes>"
      ]
     },
     "metadata": {
      "needs_background": "light"
     },
     "output_type": "display_data"
    }
   ],
   "source": [
    "sns.countplot(cerebellum_ctl)"
   ]
  },
  {
   "cell_type": "code",
   "execution_count": 42,
   "metadata": {},
   "outputs": [
    {
     "name": "stdout",
     "output_type": "stream",
     "text": [
      "Y       180\n",
      "N    138567\n",
      "Name: Watershed_ctl, dtype: int64 count     138747\n",
      "unique         2\n",
      "top            N\n",
      "freq      138567\n",
      "Name: Watershed_ctl, dtype: object\n"
     ]
    }
   ],
   "source": [
    "#Watershed_ctl\n",
    "Watershed_ctl = cdcm.iloc[:,21]\n",
    "#print(Watershed_ctl)\n",
    "print(Watershed_ctl.value_counts().sort_values(ascending= True), Watershed_ctl.describe())"
   ]
  },
  {
   "cell_type": "code",
   "execution_count": 43,
   "metadata": {},
   "outputs": [
    {
     "name": "stderr",
     "output_type": "stream",
     "text": [
      "C:\\Users\\Jacky C\\Anaconda3\\lib\\site-packages\\seaborn\\_decorators.py:36: FutureWarning: Pass the following variable as a keyword arg: x. From version 0.12, the only valid positional argument will be `data`, and passing other arguments without an explicit keyword will result in an error or misinterpretation.\n",
      "  warnings.warn(\n"
     ]
    },
    {
     "data": {
      "text/plain": [
       "<AxesSubplot:xlabel='Watershed_ctl', ylabel='count'>"
      ]
     },
     "execution_count": 43,
     "metadata": {},
     "output_type": "execute_result"
    },
    {
     "data": {
      "image/png": "[encoded data removed]",
      "text/plain": [
       "<Figure size 432x288 with 1 Axes>"
      ]
     },
     "metadata": {
      "needs_background": "light"
     },
     "output_type": "display_data"
    }
   ],
   "source": [
    "sns.countplot(Watershed_ctl)"
   ]
  },
  {
   "cell_type": "code",
   "execution_count": 44,
   "metadata": {},
   "outputs": [
    {
     "name": "stdout",
     "output_type": "stream",
     "text": [
      "Y       602\n",
      "N    138145\n",
      "Name: Hemorrhagic_infarct_ctl, dtype: int64 count     138747\n",
      "unique         2\n",
      "top            N\n",
      "freq      138145\n",
      "Name: Hemorrhagic_infarct_ctl, dtype: object\n"
     ]
    }
   ],
   "source": [
    "#Hemorrhagic_infarct_ctl\n",
    "Hemorrhagic_infarct_ctl = cdcm.iloc[:,22]\n",
    "#print(Hemorrhagic_infarct_ctl)\n",
    "print(Hemorrhagic_infarct_ctl.value_counts().sort_values(ascending= True), Hemorrhagic_infarct_ctl.describe())"
   ]
  },
  {
   "cell_type": "code",
   "execution_count": 45,
   "metadata": {},
   "outputs": [
    {
     "name": "stderr",
     "output_type": "stream",
     "text": [
      "C:\\Users\\Jacky C\\Anaconda3\\lib\\site-packages\\seaborn\\_decorators.py:36: FutureWarning: Pass the following variable as a keyword arg: x. From version 0.12, the only valid positional argument will be `data`, and passing other arguments without an explicit keyword will result in an error or misinterpretation.\n",
      "  warnings.warn(\n"
     ]
    },
    {
     "data": {
      "text/plain": [
       "<AxesSubplot:xlabel='Hemorrhagic_infarct_ctl', ylabel='count'>"
      ]
     },
     "execution_count": 45,
     "metadata": {},
     "output_type": "execute_result"
    },
    {
     "data": {
      "image/png": "[encoded data removed]",
      "text/plain": [
       "<Figure size 432x288 with 1 Axes>"
      ]
     },
     "metadata": {
      "needs_background": "light"
     },
     "output_type": "display_data"
    }
   ],
   "source": [
    "sns.countplot(Hemorrhagic_infarct_ctl)"
   ]
  },
  {
   "cell_type": "code",
   "execution_count": 46,
   "metadata": {},
   "outputs": [
    {
     "name": "stdout",
     "output_type": "stream",
     "text": [
      "Y      3079\n",
      "N    135664\n",
      "Name: Old_stroke_ctch, dtype: int64 count     138743\n",
      "unique         2\n",
      "top            N\n",
      "freq      135664\n",
      "Name: Old_stroke_ctch, dtype: object\n"
     ]
    }
   ],
   "source": [
    "#Old_stroke_ctch\n",
    "Old_stroke_ctch = cdcm.iloc[:,23]\n",
    "#print(Old_stroke_ctch)\n",
    "print(Old_stroke_ctch.value_counts().sort_values(ascending= True), Old_stroke_ctch.describe())"
   ]
  },
  {
   "cell_type": "code",
   "execution_count": 47,
   "metadata": {},
   "outputs": [
    {
     "name": "stderr",
     "output_type": "stream",
     "text": [
      "C:\\Users\\Jacky C\\Anaconda3\\lib\\site-packages\\seaborn\\_decorators.py:36: FutureWarning: Pass the following variable as a keyword arg: x. From version 0.12, the only valid positional argument will be `data`, and passing other arguments without an explicit keyword will result in an error or misinterpretation.\n",
      "  warnings.warn(\n"
     ]
    },
    {
     "data": {
      "text/plain": [
       "<AxesSubplot:xlabel='Old_stroke_ctch', ylabel='count'>"
      ]
     },
     "execution_count": 47,
     "metadata": {},
     "output_type": "execute_result"
    },
    {
     "data": {
      "image/png": "[encoded data removed]",
      "text/plain": [
       "<Figure size 432x288 with 1 Axes>"
      ]
     },
     "metadata": {
      "needs_background": "light"
     },
     "output_type": "display_data"
    }
   ],
   "source": [
    "sns.countplot(Old_stroke_ctch)"
   ]
  },
  {
   "cell_type": "code",
   "execution_count": 48,
   "metadata": {},
   "outputs": [
    {
     "name": "stdout",
     "output_type": "stream",
     "text": [
      "Y      1445\n",
      "N    137302\n",
      "Name: cortical_ACA_mrir, dtype: int64 count     138747\n",
      "unique         2\n",
      "top            N\n",
      "freq      137302\n",
      "Name: cortical_ACA_mrir, dtype: object\n"
     ]
    }
   ],
   "source": [
    "#cortical_ACA_mrir\n",
    "cortical_ACA_mrir = cdcm.iloc[:,24]\n",
    "#print(cortical_ACA_mrir)\n",
    "print(cortical_ACA_mrir.value_counts().sort_values(ascending= True), cortical_ACA_mrir.describe())"
   ]
  },
  {
   "cell_type": "code",
   "execution_count": 49,
   "metadata": {},
   "outputs": [
    {
     "name": "stderr",
     "output_type": "stream",
     "text": [
      "C:\\Users\\Jacky C\\Anaconda3\\lib\\site-packages\\seaborn\\_decorators.py:36: FutureWarning: Pass the following variable as a keyword arg: x. From version 0.12, the only valid positional argument will be `data`, and passing other arguments without an explicit keyword will result in an error or misinterpretation.\n",
      "  warnings.warn(\n"
     ]
    },
    {
     "data": {
      "text/plain": [
       "<AxesSubplot:xlabel='cortical_ACA_mrir', ylabel='count'>"
      ]
     },
     "execution_count": 49,
     "metadata": {},
     "output_type": "execute_result"
    },
    {
     "data": {
      "image/png": "[encoded data removed]",
      "text/plain": [
       "<Figure size 432x288 with 1 Axes>"
      ]
     },
     "metadata": {
      "needs_background": "light"
     },
     "output_type": "display_data"
    }
   ],
   "source": [
    "sns.countplot(cortical_ACA_mrir)"
   ]
  },
  {
   "cell_type": "code",
   "execution_count": 50,
   "metadata": {},
   "outputs": [
    {
     "name": "stdout",
     "output_type": "stream",
     "text": [
      "Y      7803\n",
      "N    130944\n",
      "Name: cortical_MCA_mrir, dtype: int64 count     138747\n",
      "unique         2\n",
      "top            N\n",
      "freq      130944\n",
      "Name: cortical_MCA_mrir, dtype: object\n"
     ]
    }
   ],
   "source": [
    "#cortical_MCA_mrir\n",
    "cortical_MCA_mrir = cdcm.iloc[:,25]\n",
    "#print(cortical_MCA_mrir)\n",
    "print(cortical_MCA_mrir.value_counts().sort_values(ascending= True), cortical_MCA_mrir.describe())"
   ]
  },
  {
   "cell_type": "code",
   "execution_count": 51,
   "metadata": {},
   "outputs": [
    {
     "name": "stderr",
     "output_type": "stream",
     "text": [
      "C:\\Users\\Jacky C\\Anaconda3\\lib\\site-packages\\seaborn\\_decorators.py:36: FutureWarning: Pass the following variable as a keyword arg: x. From version 0.12, the only valid positional argument will be `data`, and passing other arguments without an explicit keyword will result in an error or misinterpretation.\n",
      "  warnings.warn(\n"
     ]
    },
    {
     "data": {
      "text/plain": [
       "<AxesSubplot:xlabel='cortical_MCA_mrir', ylabel='count'>"
      ]
     },
     "execution_count": 51,
     "metadata": {},
     "output_type": "execute_result"
    },
    {
     "data": {
      "image/png": "[encoded data removed]",
      "text/plain": [
       "<Figure size 432x288 with 1 Axes>"
      ]
     },
     "metadata": {
      "needs_background": "light"
     },
     "output_type": "display_data"
    }
   ],
   "source": [
    "sns.countplot(cortical_MCA_mrir)"
   ]
  },
  {
   "cell_type": "code",
   "execution_count": 52,
   "metadata": {},
   "outputs": [
    {
     "name": "stdout",
     "output_type": "stream",
     "text": [
      "Y      1307\n",
      "N    137440\n",
      "Name: subcortical_ACA_mrir, dtype: int64 count     138747\n",
      "unique         2\n",
      "top            N\n",
      "freq      137440\n",
      "Name: subcortical_ACA_mrir, dtype: object\n"
     ]
    }
   ],
   "source": [
    "#subcortical_ACA_mrir\n",
    "subcortical_ACA_mrir = cdcm.iloc[:,26]\n",
    "#print(subcortical_ACA_mrir)\n",
    "print(subcortical_ACA_mrir.value_counts().sort_values(ascending= True), subcortical_ACA_mrir.describe())"
   ]
  },
  {
   "cell_type": "code",
   "execution_count": 53,
   "metadata": {},
   "outputs": [
    {
     "name": "stderr",
     "output_type": "stream",
     "text": [
      "C:\\Users\\Jacky C\\Anaconda3\\lib\\site-packages\\seaborn\\_decorators.py:36: FutureWarning: Pass the following variable as a keyword arg: x. From version 0.12, the only valid positional argument will be `data`, and passing other arguments without an explicit keyword will result in an error or misinterpretation.\n",
      "  warnings.warn(\n"
     ]
    },
    {
     "data": {
      "text/plain": [
       "<AxesSubplot:xlabel='subcortical_ACA_mrir', ylabel='count'>"
      ]
     },
     "execution_count": 53,
     "metadata": {},
     "output_type": "execute_result"
    },
    {
     "data": {
      "image/png": "[encoded data removed]",
      "text/plain": [
       "<Figure size 432x288 with 1 Axes>"
      ]
     },
     "metadata": {
      "needs_background": "light"
     },
     "output_type": "display_data"
    }
   ],
   "source": [
    "sns.countplot(subcortical_ACA_mrir)"
   ]
  },
  {
   "cell_type": "code",
   "execution_count": 54,
   "metadata": {},
   "outputs": [
    {
     "name": "stdout",
     "output_type": "stream",
     "text": [
      "Y     16432\n",
      "N    122315\n",
      "Name: subcortical_MCA_mrir, dtype: int64 count     138747\n",
      "unique         2\n",
      "top            N\n",
      "freq      122315\n",
      "Name: subcortical_MCA_mrir, dtype: object\n"
     ]
    }
   ],
   "source": [
    "#subcortical_MCA_mrir\n",
    "subcortical_MCA_mrir = cdcm.iloc[:,27]\n",
    "#print(subcortical_MCA_mrir)\n",
    "print(subcortical_MCA_mrir.value_counts().sort_values(ascending= True), subcortical_MCA_mrir.describe())"
   ]
  },
  {
   "cell_type": "code",
   "execution_count": 55,
   "metadata": {},
   "outputs": [
    {
     "name": "stderr",
     "output_type": "stream",
     "text": [
      "C:\\Users\\Jacky C\\Anaconda3\\lib\\site-packages\\seaborn\\_decorators.py:36: FutureWarning: Pass the following variable as a keyword arg: x. From version 0.12, the only valid positional argument will be `data`, and passing other arguments without an explicit keyword will result in an error or misinterpretation.\n",
      "  warnings.warn(\n"
     ]
    },
    {
     "data": {
      "text/plain": [
       "<AxesSubplot:xlabel='subcortical_MCA_mrir', ylabel='count'>"
      ]
     },
     "execution_count": 55,
     "metadata": {},
     "output_type": "execute_result"
    },
    {
     "data": {
      "image/png": "[encoded data removed]",
      "text/plain": [
       "<Figure size 432x288 with 1 Axes>"
      ]
     },
     "metadata": {
      "needs_background": "light"
     },
     "output_type": "display_data"
    }
   ],
   "source": [
    "sns.countplot(subcortical_MCA_mrir)"
   ]
  },
  {
   "cell_type": "code",
   "execution_count": 56,
   "metadata": {},
   "outputs": [
    {
     "name": "stdout",
     "output_type": "stream",
     "text": [
      "Y      2966\n",
      "N    135781\n",
      "Name: PCA_cortex_mrir, dtype: int64 count     138747\n",
      "unique         2\n",
      "top            N\n",
      "freq      135781\n",
      "Name: PCA_cortex_mrir, dtype: object\n"
     ]
    }
   ],
   "source": [
    "#PCA_cortex_mrir\n",
    "PCA_cortex_mrir = cdcm.iloc[:,28]\n",
    "#print(PCA_cortex_mrir)\n",
    "print(PCA_cortex_mrir.value_counts().sort_values(ascending= True), PCA_cortex_mrir.describe())"
   ]
  },
  {
   "cell_type": "code",
   "execution_count": 57,
   "metadata": {},
   "outputs": [
    {
     "name": "stderr",
     "output_type": "stream",
     "text": [
      "C:\\Users\\Jacky C\\Anaconda3\\lib\\site-packages\\seaborn\\_decorators.py:36: FutureWarning: Pass the following variable as a keyword arg: x. From version 0.12, the only valid positional argument will be `data`, and passing other arguments without an explicit keyword will result in an error or misinterpretation.\n",
      "  warnings.warn(\n"
     ]
    },
    {
     "data": {
      "text/plain": [
       "<AxesSubplot:xlabel='PCA_cortex_mrir', ylabel='count'>"
      ]
     },
     "execution_count": 57,
     "metadata": {},
     "output_type": "execute_result"
    },
    {
     "data": {
      "image/png": "[encoded data removed]",
      "text/plain": [
       "<Figure size 432x288 with 1 Axes>"
      ]
     },
     "metadata": {
      "needs_background": "light"
     },
     "output_type": "display_data"
    }
   ],
   "source": [
    "sns.countplot(PCA_cortex_mrir)"
   ]
  },
  {
   "cell_type": "code",
   "execution_count": 58,
   "metadata": {},
   "outputs": [
    {
     "name": "stdout",
     "output_type": "stream",
     "text": [
      "Y      2782\n",
      "N    135965\n",
      "Name: thalamus_mrir, dtype: int64 count     138747\n",
      "unique         2\n",
      "top            N\n",
      "freq      135965\n",
      "Name: thalamus_mrir, dtype: object\n"
     ]
    }
   ],
   "source": [
    "#thalamus_mrir\n",
    "thalamus_mrir = cdcm.iloc[:,29]\n",
    "#print(thalamus_mrir)\n",
    "print(thalamus_mrir.value_counts().sort_values(ascending= True), thalamus_mrir.describe())"
   ]
  },
  {
   "cell_type": "code",
   "execution_count": 59,
   "metadata": {},
   "outputs": [
    {
     "name": "stderr",
     "output_type": "stream",
     "text": [
      "C:\\Users\\Jacky C\\Anaconda3\\lib\\site-packages\\seaborn\\_decorators.py:36: FutureWarning: Pass the following variable as a keyword arg: x. From version 0.12, the only valid positional argument will be `data`, and passing other arguments without an explicit keyword will result in an error or misinterpretation.\n",
      "  warnings.warn(\n"
     ]
    },
    {
     "data": {
      "text/plain": [
       "<AxesSubplot:xlabel='thalamus_mrir', ylabel='count'>"
      ]
     },
     "execution_count": 59,
     "metadata": {},
     "output_type": "execute_result"
    },
    {
     "data": {
      "image/png": "[encoded data removed]",
      "text/plain": [
       "<Figure size 432x288 with 1 Axes>"
      ]
     },
     "metadata": {
      "needs_background": "light"
     },
     "output_type": "display_data"
    }
   ],
   "source": [
    "sns.countplot(thalamus_mrir)"
   ]
  },
  {
   "cell_type": "code",
   "execution_count": 60,
   "metadata": {},
   "outputs": [
    {
     "name": "stdout",
     "output_type": "stream",
     "text": [
      "Y      6986\n",
      "N    131761\n",
      "Name: brainstem_mrir, dtype: int64 count     138747\n",
      "unique         2\n",
      "top            N\n",
      "freq      131761\n",
      "Name: brainstem_mrir, dtype: object\n"
     ]
    }
   ],
   "source": [
    "#brainstem_mrir\n",
    "brainstem_mrir = cdcm.iloc[:,30]\n",
    "#print(brainstem_mrir)\n",
    "print(brainstem_mrir.value_counts().sort_values(ascending= True), brainstem_mrir.describe())"
   ]
  },
  {
   "cell_type": "code",
   "execution_count": 61,
   "metadata": {},
   "outputs": [
    {
     "name": "stderr",
     "output_type": "stream",
     "text": [
      "C:\\Users\\Jacky C\\Anaconda3\\lib\\site-packages\\seaborn\\_decorators.py:36: FutureWarning: Pass the following variable as a keyword arg: x. From version 0.12, the only valid positional argument will be `data`, and passing other arguments without an explicit keyword will result in an error or misinterpretation.\n",
      "  warnings.warn(\n"
     ]
    },
    {
     "data": {
      "text/plain": [
       "<AxesSubplot:xlabel='brainstem_mrir', ylabel='count'>"
      ]
     },
     "execution_count": 61,
     "metadata": {},
     "output_type": "execute_result"
    },
    {
     "data": {
      "image/png": "[encoded data removed]",
      "text/plain": [
       "<Figure size 432x288 with 1 Axes>"
      ]
     },
     "metadata": {
      "needs_background": "light"
     },
     "output_type": "display_data"
    }
   ],
   "source": [
    "sns.countplot(brainstem_mrir)"
   ]
  },
  {
   "cell_type": "code",
   "execution_count": 62,
   "metadata": {},
   "outputs": [
    {
     "name": "stdout",
     "output_type": "stream",
     "text": [
      "Y      3777\n",
      "N    134970\n",
      "Name: cerebellum_mrir, dtype: int64 count     138747\n",
      "unique         2\n",
      "top            N\n",
      "freq      134970\n",
      "Name: cerebellum_mrir, dtype: object\n"
     ]
    }
   ],
   "source": [
    "#cerebellum_mrir\n",
    "cerebellum_mrir = cdcm.iloc[:,31]\n",
    "#print(cerebellum_mrir)\n",
    "print(cerebellum_mrir.value_counts().sort_values(ascending= True), cerebellum_mrir.describe())"
   ]
  },
  {
   "cell_type": "code",
   "execution_count": 63,
   "metadata": {},
   "outputs": [
    {
     "name": "stderr",
     "output_type": "stream",
     "text": [
      "C:\\Users\\Jacky C\\Anaconda3\\lib\\site-packages\\seaborn\\_decorators.py:36: FutureWarning: Pass the following variable as a keyword arg: x. From version 0.12, the only valid positional argument will be `data`, and passing other arguments without an explicit keyword will result in an error or misinterpretation.\n",
      "  warnings.warn(\n"
     ]
    },
    {
     "data": {
      "text/plain": [
       "<AxesSubplot:xlabel='cerebellum_mrir', ylabel='count'>"
      ]
     },
     "execution_count": 63,
     "metadata": {},
     "output_type": "execute_result"
    },
    {
     "data": {
      "image/png": "[encoded data removed]",
      "text/plain": [
       "<Figure size 432x288 with 1 Axes>"
      ]
     },
     "metadata": {
      "needs_background": "light"
     },
     "output_type": "display_data"
    }
   ],
   "source": [
    "sns.countplot(cerebellum_mrir)"
   ]
  },
  {
   "cell_type": "code",
   "execution_count": 64,
   "metadata": {},
   "outputs": [
    {
     "name": "stdout",
     "output_type": "stream",
     "text": [
      "Y       936\n",
      "N    137811\n",
      "Name: Watershed_mrir, dtype: int64 count     138747\n",
      "unique         2\n",
      "top            N\n",
      "freq      137811\n",
      "Name: Watershed_mrir, dtype: object\n"
     ]
    }
   ],
   "source": [
    "#Watershed_mrir\n",
    "Watershed_mrir = cdcm.iloc[:,32]\n",
    "#print(Watershed_mrir)\n",
    "print(Watershed_mrir.value_counts().sort_values(ascending= True), Watershed_mrir.describe())"
   ]
  },
  {
   "cell_type": "code",
   "execution_count": 65,
   "metadata": {},
   "outputs": [
    {
     "name": "stderr",
     "output_type": "stream",
     "text": [
      "C:\\Users\\Jacky C\\Anaconda3\\lib\\site-packages\\seaborn\\_decorators.py:36: FutureWarning: Pass the following variable as a keyword arg: x. From version 0.12, the only valid positional argument will be `data`, and passing other arguments without an explicit keyword will result in an error or misinterpretation.\n",
      "  warnings.warn(\n"
     ]
    },
    {
     "data": {
      "text/plain": [
       "<AxesSubplot:xlabel='Watershed_mrir', ylabel='count'>"
      ]
     },
     "execution_count": 65,
     "metadata": {},
     "output_type": "execute_result"
    },
    {
     "data": {
      "image/png": "[encoded data removed]",
      "text/plain": [
       "<Figure size 432x288 with 1 Axes>"
      ]
     },
     "metadata": {
      "needs_background": "light"
     },
     "output_type": "display_data"
    }
   ],
   "source": [
    "sns.countplot(Watershed_mrir)"
   ]
  },
  {
   "cell_type": "code",
   "execution_count": 66,
   "metadata": {},
   "outputs": [
    {
     "name": "stdout",
     "output_type": "stream",
     "text": [
      "Y       820\n",
      "N    137927\n",
      "Name: Hemorrhagic_infarct_mrir, dtype: int64 count     138747\n",
      "unique         2\n",
      "top            N\n",
      "freq      137927\n",
      "Name: Hemorrhagic_infarct_mrir, dtype: object\n"
     ]
    }
   ],
   "source": [
    "#Hemorrhagic_infarct_mrir\n",
    "Hemorrhagic_infarct_mrir = cdcm.iloc[:,33]\n",
    "#print(Hemorrhagic_infarct_mrir)\n",
    "print(Hemorrhagic_infarct_mrir.value_counts().sort_values(ascending= True), Hemorrhagic_infarct_mrir.describe())"
   ]
  },
  {
   "cell_type": "code",
   "execution_count": 67,
   "metadata": {},
   "outputs": [
    {
     "name": "stderr",
     "output_type": "stream",
     "text": [
      "C:\\Users\\Jacky C\\Anaconda3\\lib\\site-packages\\seaborn\\_decorators.py:36: FutureWarning: Pass the following variable as a keyword arg: x. From version 0.12, the only valid positional argument will be `data`, and passing other arguments without an explicit keyword will result in an error or misinterpretation.\n",
      "  warnings.warn(\n"
     ]
    },
    {
     "data": {
      "text/plain": [
       "<AxesSubplot:xlabel='Hemorrhagic_infarct_mrir', ylabel='count'>"
      ]
     },
     "execution_count": 67,
     "metadata": {},
     "output_type": "execute_result"
    },
    {
     "data": {
      "image/png": "[encoded data removed]",
      "text/plain": [
       "<Figure size 432x288 with 1 Axes>"
      ]
     },
     "metadata": {
      "needs_background": "light"
     },
     "output_type": "display_data"
    }
   ],
   "source": [
    "sns.countplot(Hemorrhagic_infarct_mrir)"
   ]
  },
  {
   "cell_type": "code",
   "execution_count": 68,
   "metadata": {},
   "outputs": [
    {
     "name": "stdout",
     "output_type": "stream",
     "text": [
      "Y      7926\n",
      "N    130817\n",
      "Name: Old_stroke_mrici, dtype: int64 count     138743\n",
      "unique         2\n",
      "top            N\n",
      "freq      130817\n",
      "Name: Old_stroke_mrici, dtype: object\n"
     ]
    }
   ],
   "source": [
    "#Old_stroke_mrici\n",
    "Old_stroke_mrici = cdcm.iloc[:,34]\n",
    "#print(Old_stroke_mrici)\n",
    "print(Old_stroke_mrici.value_counts().sort_values(ascending= True), Old_stroke_mrici.describe())"
   ]
  },
  {
   "cell_type": "code",
   "execution_count": 69,
   "metadata": {},
   "outputs": [
    {
     "name": "stderr",
     "output_type": "stream",
     "text": [
      "C:\\Users\\Jacky C\\Anaconda3\\lib\\site-packages\\seaborn\\_decorators.py:36: FutureWarning: Pass the following variable as a keyword arg: x. From version 0.12, the only valid positional argument will be `data`, and passing other arguments without an explicit keyword will result in an error or misinterpretation.\n",
      "  warnings.warn(\n"
     ]
    },
    {
     "data": {
      "text/plain": [
       "<AxesSubplot:xlabel='Old_stroke_mrici', ylabel='count'>"
      ]
     },
     "execution_count": 69,
     "metadata": {},
     "output_type": "execute_result"
    },
    {
     "data": {
      "image/png": "[encoded data removed]",
      "text/plain": [
       "<Figure size 432x288 with 1 Axes>"
      ]
     },
     "metadata": {
      "needs_background": "light"
     },
     "output_type": "display_data"
    }
   ],
   "source": [
    "sns.countplot(Old_stroke_mrici)"
   ]
  },
  {
   "cell_type": "code",
   "execution_count": 70,
   "metadata": {},
   "outputs": [
    {
     "name": "stdout",
     "output_type": "stream",
     "text": [
      "Y      1445\n",
      "N    137302\n",
      "Name: cortical_ACA_mril, dtype: int64 count     138747\n",
      "unique         2\n",
      "top            N\n",
      "freq      137302\n",
      "Name: cortical_ACA_mril, dtype: object\n"
     ]
    }
   ],
   "source": [
    "#cortical_ACA_mril\n",
    "cortical_ACA_mril = cdcm.iloc[:,35]\n",
    "#print(cortical_ACA_mril)\n",
    "print(cortical_ACA_mril.value_counts().sort_values(ascending= True), cortical_ACA_mril.describe())"
   ]
  },
  {
   "cell_type": "code",
   "execution_count": 71,
   "metadata": {},
   "outputs": [
    {
     "name": "stderr",
     "output_type": "stream",
     "text": [
      "C:\\Users\\Jacky C\\Anaconda3\\lib\\site-packages\\seaborn\\_decorators.py:36: FutureWarning: Pass the following variable as a keyword arg: x. From version 0.12, the only valid positional argument will be `data`, and passing other arguments without an explicit keyword will result in an error or misinterpretation.\n",
      "  warnings.warn(\n"
     ]
    },
    {
     "data": {
      "text/plain": [
       "<AxesSubplot:xlabel='cortical_ACA_mril', ylabel='count'>"
      ]
     },
     "execution_count": 71,
     "metadata": {},
     "output_type": "execute_result"
    },
    {
     "data": {
      "image/png": "[encoded data removed]",
      "text/plain": [
       "<Figure size 432x288 with 1 Axes>"
      ]
     },
     "metadata": {
      "needs_background": "light"
     },
     "output_type": "display_data"
    }
   ],
   "source": [
    "sns.countplot(cortical_ACA_mril)"
   ]
  },
  {
   "cell_type": "code",
   "execution_count": 72,
   "metadata": {},
   "outputs": [
    {
     "name": "stdout",
     "output_type": "stream",
     "text": [
      "Y      8393\n",
      "N    130354\n",
      "Name: cortical_MCA_mril, dtype: int64 count     138747\n",
      "unique         2\n",
      "top            N\n",
      "freq      130354\n",
      "Name: cortical_MCA_mril, dtype: object\n"
     ]
    }
   ],
   "source": [
    "#cortical_MCA_mril\n",
    "cortical_MCA_mril = cdcm.iloc[:,36]\n",
    "#print(cortical_MCA_mril)\n",
    "print(cortical_MCA_mril.value_counts().sort_values(ascending= True), cortical_MCA_mril.describe())"
   ]
  },
  {
   "cell_type": "code",
   "execution_count": 73,
   "metadata": {},
   "outputs": [
    {
     "name": "stderr",
     "output_type": "stream",
     "text": [
      "C:\\Users\\Jacky C\\Anaconda3\\lib\\site-packages\\seaborn\\_decorators.py:36: FutureWarning: Pass the following variable as a keyword arg: x. From version 0.12, the only valid positional argument will be `data`, and passing other arguments without an explicit keyword will result in an error or misinterpretation.\n",
      "  warnings.warn(\n"
     ]
    },
    {
     "data": {
      "text/plain": [
       "<AxesSubplot:xlabel='cortical_MCA_mril', ylabel='count'>"
      ]
     },
     "execution_count": 73,
     "metadata": {},
     "output_type": "execute_result"
    },
    {
     "data": {
      "image/png": "[encoded data removed]",
      "text/plain": [
       "<Figure size 432x288 with 1 Axes>"
      ]
     },
     "metadata": {
      "needs_background": "light"
     },
     "output_type": "display_data"
    }
   ],
   "source": [
    "sns.countplot(cortical_MCA_mril)"
   ]
  },
  {
   "cell_type": "code",
   "execution_count": 74,
   "metadata": {},
   "outputs": [
    {
     "name": "stdout",
     "output_type": "stream",
     "text": [
      "Y      1296\n",
      "N    137451\n",
      "Name: subcortical_ACA_mril, dtype: int64 count     138747\n",
      "unique         2\n",
      "top            N\n",
      "freq      137451\n",
      "Name: subcortical_ACA_mril, dtype: object\n"
     ]
    }
   ],
   "source": [
    "#subcortical_ACA_mril\n",
    "subcortical_ACA_mril = cdcm.iloc[:,37]\n",
    "#print(subcortical_ACA_mril)\n",
    "print(subcortical_ACA_mril.value_counts().sort_values(ascending= True), subcortical_ACA_mril.describe())"
   ]
  },
  {
   "cell_type": "code",
   "execution_count": 75,
   "metadata": {},
   "outputs": [
    {
     "name": "stderr",
     "output_type": "stream",
     "text": [
      "C:\\Users\\Jacky C\\Anaconda3\\lib\\site-packages\\seaborn\\_decorators.py:36: FutureWarning: Pass the following variable as a keyword arg: x. From version 0.12, the only valid positional argument will be `data`, and passing other arguments without an explicit keyword will result in an error or misinterpretation.\n",
      "  warnings.warn(\n"
     ]
    },
    {
     "data": {
      "text/plain": [
       "<AxesSubplot:xlabel='subcortical_ACA_mril', ylabel='count'>"
      ]
     },
     "execution_count": 75,
     "metadata": {},
     "output_type": "execute_result"
    },
    {
     "data": {
      "image/png": "[encoded data removed]",
      "text/plain": [
       "<Figure size 432x288 with 1 Axes>"
      ]
     },
     "metadata": {
      "needs_background": "light"
     },
     "output_type": "display_data"
    }
   ],
   "source": [
    "sns.countplot(subcortical_ACA_mril)"
   ]
  },
  {
   "cell_type": "code",
   "execution_count": 76,
   "metadata": {},
   "outputs": [
    {
     "name": "stdout",
     "output_type": "stream",
     "text": [
      "Y     17621\n",
      "N    121126\n",
      "Name: subcortical_MCA_mril, dtype: int64 count     138747\n",
      "unique         2\n",
      "top            N\n",
      "freq      121126\n",
      "Name: subcortical_MCA_mril, dtype: object\n"
     ]
    }
   ],
   "source": [
    "#subcortical_MCA_mril\n",
    "subcortical_MCA_mril = cdcm.iloc[:,38]\n",
    "#print(subcortical_MCA_mril)\n",
    "print(subcortical_MCA_mril.value_counts().sort_values(ascending= True), subcortical_MCA_mril.describe())"
   ]
  },
  {
   "cell_type": "code",
   "execution_count": 77,
   "metadata": {},
   "outputs": [
    {
     "name": "stderr",
     "output_type": "stream",
     "text": [
      "C:\\Users\\Jacky C\\Anaconda3\\lib\\site-packages\\seaborn\\_decorators.py:36: FutureWarning: Pass the following variable as a keyword arg: x. From version 0.12, the only valid positional argument will be `data`, and passing other arguments without an explicit keyword will result in an error or misinterpretation.\n",
      "  warnings.warn(\n"
     ]
    },
    {
     "data": {
      "text/plain": [
       "<AxesSubplot:xlabel='subcortical_MCA_mril', ylabel='count'>"
      ]
     },
     "execution_count": 77,
     "metadata": {},
     "output_type": "execute_result"
    },
    {
     "data": {
      "image/png": "[encoded data removed]",
      "text/plain": [
       "<Figure size 432x288 with 1 Axes>"
      ]
     },
     "metadata": {
      "needs_background": "light"
     },
     "output_type": "display_data"
    }
   ],
   "source": [
    "sns.countplot(subcortical_MCA_mril)"
   ]
  },
  {
   "cell_type": "code",
   "execution_count": 78,
   "metadata": {},
   "outputs": [
    {
     "name": "stdout",
     "output_type": "stream",
     "text": [
      "Y      3125\n",
      "N    135622\n",
      "Name: PCA_cortex_mril, dtype: int64 count     138747\n",
      "unique         2\n",
      "top            N\n",
      "freq      135622\n",
      "Name: PCA_cortex_mril, dtype: object\n"
     ]
    }
   ],
   "source": [
    "#PCA_cortex_mril\n",
    "PCA_cortex_mril = cdcm.iloc[:,39]\n",
    "#print(PCA_cortex_mril)\n",
    "print(PCA_cortex_mril.value_counts().sort_values(ascending= True), PCA_cortex_mril.describe())"
   ]
  },
  {
   "cell_type": "code",
   "execution_count": 79,
   "metadata": {},
   "outputs": [
    {
     "name": "stderr",
     "output_type": "stream",
     "text": [
      "C:\\Users\\Jacky C\\Anaconda3\\lib\\site-packages\\seaborn\\_decorators.py:36: FutureWarning: Pass the following variable as a keyword arg: x. From version 0.12, the only valid positional argument will be `data`, and passing other arguments without an explicit keyword will result in an error or misinterpretation.\n",
      "  warnings.warn(\n"
     ]
    },
    {
     "data": {
      "text/plain": [
       "<AxesSubplot:xlabel='PCA_cortex_mril', ylabel='count'>"
      ]
     },
     "execution_count": 79,
     "metadata": {},
     "output_type": "execute_result"
    },
    {
     "data": {
      "image/png": "[encoded data removed]",
      "text/plain": [
       "<Figure size 432x288 with 1 Axes>"
      ]
     },
     "metadata": {
      "needs_background": "light"
     },
     "output_type": "display_data"
    }
   ],
   "source": [
    "sns.countplot(PCA_cortex_mril)"
   ]
  },
  {
   "cell_type": "code",
   "execution_count": 80,
   "metadata": {},
   "outputs": [
    {
     "name": "stdout",
     "output_type": "stream",
     "text": [
      "Y      2892\n",
      "N    135855\n",
      "Name: thalamus_mril, dtype: int64 count     138747\n",
      "unique         2\n",
      "top            N\n",
      "freq      135855\n",
      "Name: thalamus_mril, dtype: object\n"
     ]
    }
   ],
   "source": [
    "#thalamus_mril\n",
    "thalamus_mril = cdcm.iloc[:,40]\n",
    "#print(thalamus_mril)\n",
    "print(thalamus_mril.value_counts().sort_values(ascending= True), thalamus_mril.describe())"
   ]
  },
  {
   "cell_type": "code",
   "execution_count": 81,
   "metadata": {},
   "outputs": [
    {
     "name": "stderr",
     "output_type": "stream",
     "text": [
      "C:\\Users\\Jacky C\\Anaconda3\\lib\\site-packages\\seaborn\\_decorators.py:36: FutureWarning: Pass the following variable as a keyword arg: x. From version 0.12, the only valid positional argument will be `data`, and passing other arguments without an explicit keyword will result in an error or misinterpretation.\n",
      "  warnings.warn(\n"
     ]
    },
    {
     "data": {
      "text/plain": [
       "<AxesSubplot:xlabel='thalamus_mril', ylabel='count'>"
      ]
     },
     "execution_count": 81,
     "metadata": {},
     "output_type": "execute_result"
    },
    {
     "data": {
      "image/png": "[encoded data removed]",
      "text/plain": [
       "<Figure size 432x288 with 1 Axes>"
      ]
     },
     "metadata": {
      "needs_background": "light"
     },
     "output_type": "display_data"
    }
   ],
   "source": [
    "sns.countplot(thalamus_mril)"
   ]
  },
  {
   "cell_type": "code",
   "execution_count": 82,
   "metadata": {},
   "outputs": [
    {
     "name": "stdout",
     "output_type": "stream",
     "text": [
      "Y      7438\n",
      "N    131309\n",
      "Name: brainstem_mril, dtype: int64 count     138747\n",
      "unique         2\n",
      "top            N\n",
      "freq      131309\n",
      "Name: brainstem_mril, dtype: object\n"
     ]
    }
   ],
   "source": [
    "#brainstem_mril\n",
    "brainstem_mril = cdcm.iloc[:,41]\n",
    "#print(brainstem_mril)\n",
    "print(brainstem_mril.value_counts().sort_values(ascending= True), brainstem_mril.describe())"
   ]
  },
  {
   "cell_type": "code",
   "execution_count": 83,
   "metadata": {},
   "outputs": [
    {
     "name": "stderr",
     "output_type": "stream",
     "text": [
      "C:\\Users\\Jacky C\\Anaconda3\\lib\\site-packages\\seaborn\\_decorators.py:36: FutureWarning: Pass the following variable as a keyword arg: x. From version 0.12, the only valid positional argument will be `data`, and passing other arguments without an explicit keyword will result in an error or misinterpretation.\n",
      "  warnings.warn(\n"
     ]
    },
    {
     "data": {
      "text/plain": [
       "<AxesSubplot:xlabel='brainstem_mril', ylabel='count'>"
      ]
     },
     "execution_count": 83,
     "metadata": {},
     "output_type": "execute_result"
    },
    {
     "data": {
      "image/png": "[encoded data removed]",
      "text/plain": [
       "<Figure size 432x288 with 1 Axes>"
      ]
     },
     "metadata": {
      "needs_background": "light"
     },
     "output_type": "display_data"
    }
   ],
   "source": [
    "sns.countplot(brainstem_mril)"
   ]
  },
  {
   "cell_type": "code",
   "execution_count": 84,
   "metadata": {},
   "outputs": [
    {
     "name": "stdout",
     "output_type": "stream",
     "text": [
      "Y      3719\n",
      "N    135028\n",
      "Name: cerebellum_mril, dtype: int64 count     138747\n",
      "unique         2\n",
      "top            N\n",
      "freq      135028\n",
      "Name: cerebellum_mril, dtype: object\n"
     ]
    }
   ],
   "source": [
    "#cerebellum_mril\n",
    "cerebellum_mril = cdcm.iloc[:,42]\n",
    "#print(cerebellum_mril)\n",
    "print(cerebellum_mril.value_counts().sort_values(ascending= True), cerebellum_mril.describe())"
   ]
  },
  {
   "cell_type": "code",
   "execution_count": 85,
   "metadata": {},
   "outputs": [
    {
     "name": "stderr",
     "output_type": "stream",
     "text": [
      "C:\\Users\\Jacky C\\Anaconda3\\lib\\site-packages\\seaborn\\_decorators.py:36: FutureWarning: Pass the following variable as a keyword arg: x. From version 0.12, the only valid positional argument will be `data`, and passing other arguments without an explicit keyword will result in an error or misinterpretation.\n",
      "  warnings.warn(\n"
     ]
    },
    {
     "data": {
      "text/plain": [
       "<AxesSubplot:xlabel='cerebellum_mril', ylabel='count'>"
      ]
     },
     "execution_count": 85,
     "metadata": {},
     "output_type": "execute_result"
    },
    {
     "data": {
      "image/png": "[encoded data removed]",
      "text/plain": [
       "<Figure size 432x288 with 1 Axes>"
      ]
     },
     "metadata": {
      "needs_background": "light"
     },
     "output_type": "display_data"
    }
   ],
   "source": [
    "sns.countplot(cerebellum_mril)"
   ]
  },
  {
   "cell_type": "code",
   "execution_count": 86,
   "metadata": {},
   "outputs": [
    {
     "name": "stdout",
     "output_type": "stream",
     "text": [
      "Y      1038\n",
      "N    137709\n",
      "Name: Watershed_mril, dtype: int64 count     138747\n",
      "unique         2\n",
      "top            N\n",
      "freq      137709\n",
      "Name: Watershed_mril, dtype: object\n"
     ]
    }
   ],
   "source": [
    "#Watershed_mril\n",
    "Watershed_mril = cdcm.iloc[:,43]\n",
    "#print(Watershed_mril)\n",
    "print(Watershed_mril.value_counts().sort_values(ascending= True), Watershed_mril.describe())"
   ]
  },
  {
   "cell_type": "code",
   "execution_count": 87,
   "metadata": {},
   "outputs": [
    {
     "name": "stderr",
     "output_type": "stream",
     "text": [
      "C:\\Users\\Jacky C\\Anaconda3\\lib\\site-packages\\seaborn\\_decorators.py:36: FutureWarning: Pass the following variable as a keyword arg: x. From version 0.12, the only valid positional argument will be `data`, and passing other arguments without an explicit keyword will result in an error or misinterpretation.\n",
      "  warnings.warn(\n"
     ]
    },
    {
     "data": {
      "text/plain": [
       "<AxesSubplot:xlabel='Watershed_mril', ylabel='count'>"
      ]
     },
     "execution_count": 87,
     "metadata": {},
     "output_type": "execute_result"
    },
    {
     "data": {
      "image/png": "[encoded data removed]",
      "text/plain": [
       "<Figure size 432x288 with 1 Axes>"
      ]
     },
     "metadata": {
      "needs_background": "light"
     },
     "output_type": "display_data"
    }
   ],
   "source": [
    "sns.countplot(Watershed_mril)"
   ]
  },
  {
   "cell_type": "code",
   "execution_count": 88,
   "metadata": {},
   "outputs": [
    {
     "name": "stdout",
     "output_type": "stream",
     "text": [
      "Y       671\n",
      "N    138076\n",
      "Name: Hemorrhagic_infarct_mril, dtype: int64 count     138747\n",
      "unique         2\n",
      "top            N\n",
      "freq      138076\n",
      "Name: Hemorrhagic_infarct_mril, dtype: object\n"
     ]
    }
   ],
   "source": [
    "#Hemorrhagic_infarct_mril\n",
    "Hemorrhagic_infarct_mril = cdcm.iloc[:,44]\n",
    "#print(Hemorrhagic_infarct_mril)\n",
    "print(Hemorrhagic_infarct_mril.value_counts().sort_values(ascending= True), Hemorrhagic_infarct_mril.describe())"
   ]
  },
  {
   "cell_type": "code",
   "execution_count": 89,
   "metadata": {},
   "outputs": [
    {
     "name": "stderr",
     "output_type": "stream",
     "text": [
      "C:\\Users\\Jacky C\\Anaconda3\\lib\\site-packages\\seaborn\\_decorators.py:36: FutureWarning: Pass the following variable as a keyword arg: x. From version 0.12, the only valid positional argument will be `data`, and passing other arguments without an explicit keyword will result in an error or misinterpretation.\n",
      "  warnings.warn(\n"
     ]
    },
    {
     "data": {
      "text/plain": [
       "<AxesSubplot:xlabel='Hemorrhagic_infarct_mril', ylabel='count'>"
      ]
     },
     "execution_count": 89,
     "metadata": {},
     "output_type": "execute_result"
    },
    {
     "data": {
      "image/png": "[encoded data removed]",
      "text/plain": [
       "<Figure size 432x288 with 1 Axes>"
      ]
     },
     "metadata": {
      "needs_background": "light"
     },
     "output_type": "display_data"
    }
   ],
   "source": [
    "sns.countplot(Hemorrhagic_infarct_mril)"
   ]
  },
  {
   "cell_type": "code",
   "execution_count": 90,
   "metadata": {},
   "outputs": [
    {
     "name": "stdout",
     "output_type": "stream",
     "text": [
      "Y       845\n",
      "N    137898\n",
      "Name: Old_stroke_mrich, dtype: int64 count     138743\n",
      "unique         2\n",
      "top            N\n",
      "freq      137898\n",
      "Name: Old_stroke_mrich, dtype: object\n"
     ]
    }
   ],
   "source": [
    "#Old_stroke_mrich\n",
    "Old_stroke_mrich = cdcm.iloc[:,45]\n",
    "#print(Old_stroke_mrich)\n",
    "print(Old_stroke_mrich.value_counts().sort_values(ascending= True), Old_stroke_mrich.describe())"
   ]
  },
  {
   "cell_type": "code",
   "execution_count": 91,
   "metadata": {},
   "outputs": [
    {
     "name": "stderr",
     "output_type": "stream",
     "text": [
      "C:\\Users\\Jacky C\\Anaconda3\\lib\\site-packages\\seaborn\\_decorators.py:36: FutureWarning: Pass the following variable as a keyword arg: x. From version 0.12, the only valid positional argument will be `data`, and passing other arguments without an explicit keyword will result in an error or misinterpretation.\n",
      "  warnings.warn(\n"
     ]
    },
    {
     "data": {
      "text/plain": [
       "<AxesSubplot:xlabel='Old_stroke_mrich', ylabel='count'>"
      ]
     },
     "execution_count": 91,
     "metadata": {},
     "output_type": "execute_result"
    },
    {
     "data": {
      "image/png": "[encoded data removed]",
      "text/plain": [
       "<Figure size 432x288 with 1 Axes>"
      ]
     },
     "metadata": {
      "needs_background": "light"
     },
     "output_type": "display_data"
    }
   ],
   "source": [
    "sns.countplot(Old_stroke_mrich)"
   ]
  }
 ],
 "metadata": {
  "kernelspec": {
   "display_name": "Python 3",
   "language": "python",
   "name": "python3"
  },
  "language_info": {
   "codemirror_mode": {
    "name": "ipython",
    "version": 3
   },
   "file_extension": ".py",
   "mimetype": "text/x-python",
   "name": "python",
   "nbconvert_exporter": "python",
   "pygments_lexer": "ipython3",
   "version": "3.8.5"
  }
 },
 "nbformat": 4,
 "nbformat_minor": 4
}
