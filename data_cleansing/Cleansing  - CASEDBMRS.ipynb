{
 "cells": [
  {
   "cell_type": "code",
   "execution_count": 1,
   "metadata": {},
   "outputs": [],
   "source": [
    "import pandas as pd\n",
    "import matplotlib.pyplot as plt\n",
    "import os\n",
    "import numpy as np"
   ]
  },
  {
   "cell_type": "code",
   "execution_count": 2,
   "metadata": {},
   "outputs": [
    {
     "data": {
      "text/html": [
       "<div>\n",
       "<style scoped>\n",
       "    .dataframe tbody tr th:only-of-type {\n",
       "        vertical-align: middle;\n",
       "    }\n",
       "\n",
       "    .dataframe tbody tr th {\n",
       "        vertical-align: top;\n",
       "    }\n",
       "\n",
       "    .dataframe thead th {\n",
       "        text-align: right;\n",
       "    }\n",
       "</style>\n",
       "<table border=\"1\" class=\"dataframe\">\n",
       "  <thead>\n",
       "    <tr style=\"text-align: right;\">\n",
       "      <th></th>\n",
       "      <th>ICASE_ID</th>\n",
       "      <th>IDCASE_ID</th>\n",
       "      <th>Feeding</th>\n",
       "      <th>Transfers</th>\n",
       "      <th>Bathing</th>\n",
       "      <th>Toilet_use</th>\n",
       "      <th>Grooming</th>\n",
       "      <th>Mobility</th>\n",
       "      <th>Stairs</th>\n",
       "      <th>Dressing</th>\n",
       "      <th>Bowel_control</th>\n",
       "      <th>Bladder_control</th>\n",
       "      <th>discharged_mrs</th>\n",
       "    </tr>\n",
       "  </thead>\n",
       "  <tbody>\n",
       "    <tr>\n",
       "      <th>0</th>\n",
       "      <td>9066</td>\n",
       "      <td>010-00009066-1</td>\n",
       "      <td>10.0</td>\n",
       "      <td>0.0</td>\n",
       "      <td>0.0</td>\n",
       "      <td>0.0</td>\n",
       "      <td>0.0</td>\n",
       "      <td>0.0</td>\n",
       "      <td>0.0</td>\n",
       "      <td>5.0</td>\n",
       "      <td>10.0</td>\n",
       "      <td>5.0</td>\n",
       "      <td>4.0</td>\n",
       "    </tr>\n",
       "    <tr>\n",
       "      <th>1</th>\n",
       "      <td>9066</td>\n",
       "      <td>022-00009066-1</td>\n",
       "      <td>10.0</td>\n",
       "      <td>0.0</td>\n",
       "      <td>0.0</td>\n",
       "      <td>0.0</td>\n",
       "      <td>0.0</td>\n",
       "      <td>0.0</td>\n",
       "      <td>0.0</td>\n",
       "      <td>5.0</td>\n",
       "      <td>10.0</td>\n",
       "      <td>5.0</td>\n",
       "      <td>4.0</td>\n",
       "    </tr>\n",
       "    <tr>\n",
       "      <th>2</th>\n",
       "      <td>4830</td>\n",
       "      <td>005-00004830-2</td>\n",
       "      <td>0.0</td>\n",
       "      <td>5.0</td>\n",
       "      <td>0.0</td>\n",
       "      <td>0.0</td>\n",
       "      <td>0.0</td>\n",
       "      <td>5.0</td>\n",
       "      <td>0.0</td>\n",
       "      <td>0.0</td>\n",
       "      <td>5.0</td>\n",
       "      <td>5.0</td>\n",
       "      <td>4.0</td>\n",
       "    </tr>\n",
       "    <tr>\n",
       "      <th>3</th>\n",
       "      <td>9067</td>\n",
       "      <td>005-00009067-1</td>\n",
       "      <td>5.0</td>\n",
       "      <td>10.0</td>\n",
       "      <td>0.0</td>\n",
       "      <td>5.0</td>\n",
       "      <td>0.0</td>\n",
       "      <td>10.0</td>\n",
       "      <td>5.0</td>\n",
       "      <td>5.0</td>\n",
       "      <td>10.0</td>\n",
       "      <td>10.0</td>\n",
       "      <td>3.0</td>\n",
       "    </tr>\n",
       "    <tr>\n",
       "      <th>4</th>\n",
       "      <td>9068</td>\n",
       "      <td>005-00009068-1</td>\n",
       "      <td>10.0</td>\n",
       "      <td>10.0</td>\n",
       "      <td>5.0</td>\n",
       "      <td>5.0</td>\n",
       "      <td>0.0</td>\n",
       "      <td>10.0</td>\n",
       "      <td>5.0</td>\n",
       "      <td>5.0</td>\n",
       "      <td>10.0</td>\n",
       "      <td>10.0</td>\n",
       "      <td>4.0</td>\n",
       "    </tr>\n",
       "  </tbody>\n",
       "</table>\n",
       "</div>"
      ],
      "text/plain": [
       "   ICASE_ID       IDCASE_ID  Feeding  Transfers  Bathing  Toilet_use  \\\n",
       "0      9066  010-00009066-1     10.0        0.0      0.0         0.0   \n",
       "1      9066  022-00009066-1     10.0        0.0      0.0         0.0   \n",
       "2      4830  005-00004830-2      0.0        5.0      0.0         0.0   \n",
       "3      9067  005-00009067-1      5.0       10.0      0.0         5.0   \n",
       "4      9068  005-00009068-1     10.0       10.0      5.0         5.0   \n",
       "\n",
       "   Grooming  Mobility  Stairs  Dressing  Bowel_control  Bladder_control  \\\n",
       "0       0.0       0.0     0.0       5.0           10.0              5.0   \n",
       "1       0.0       0.0     0.0       5.0           10.0              5.0   \n",
       "2       0.0       5.0     0.0       0.0            5.0              5.0   \n",
       "3       0.0      10.0     5.0       5.0           10.0             10.0   \n",
       "4       0.0      10.0     5.0       5.0           10.0             10.0   \n",
       "\n",
       "   discharged_mrs  \n",
       "0             4.0  \n",
       "1             4.0  \n",
       "2             4.0  \n",
       "3             3.0  \n",
       "4             4.0  "
      ]
     },
     "execution_count": 2,
     "metadata": {},
     "output_type": "execute_result"
    }
   ],
   "source": [
    "csv_path = os.path.join(\"..\", \"data\",\"TSR_2018_raw\", \"CASEDBMRS(denormalized).csv\")\n",
    "cdb = pd.read_csv(csv_path)\n",
    "cdb.head()"
   ]
  },
  {
   "cell_type": "code",
   "execution_count": 3,
   "metadata": {},
   "outputs": [
    {
     "data": {
      "text/html": [
       "<div>\n",
       "<style scoped>\n",
       "    .dataframe tbody tr th:only-of-type {\n",
       "        vertical-align: middle;\n",
       "    }\n",
       "\n",
       "    .dataframe tbody tr th {\n",
       "        vertical-align: top;\n",
       "    }\n",
       "\n",
       "    .dataframe thead th {\n",
       "        text-align: right;\n",
       "    }\n",
       "</style>\n",
       "<table border=\"1\" class=\"dataframe\">\n",
       "  <thead>\n",
       "    <tr style=\"text-align: right;\">\n",
       "      <th></th>\n",
       "      <th>ICASE_ID</th>\n",
       "      <th>Feeding</th>\n",
       "      <th>Transfers</th>\n",
       "      <th>Bathing</th>\n",
       "      <th>Toilet_use</th>\n",
       "      <th>Grooming</th>\n",
       "      <th>Mobility</th>\n",
       "      <th>Stairs</th>\n",
       "      <th>Dressing</th>\n",
       "      <th>Bowel_control</th>\n",
       "      <th>Bladder_control</th>\n",
       "      <th>discharged_mrs</th>\n",
       "    </tr>\n",
       "  </thead>\n",
       "  <tbody>\n",
       "    <tr>\n",
       "      <th>count</th>\n",
       "      <td>138803.000000</td>\n",
       "      <td>138791.000000</td>\n",
       "      <td>138791.000000</td>\n",
       "      <td>138791.000000</td>\n",
       "      <td>138791.000000</td>\n",
       "      <td>138791.000000</td>\n",
       "      <td>138791.000000</td>\n",
       "      <td>138791.000000</td>\n",
       "      <td>138791.000000</td>\n",
       "      <td>138791.000000</td>\n",
       "      <td>138791.000000</td>\n",
       "      <td>138787.000000</td>\n",
       "    </tr>\n",
       "    <tr>\n",
       "      <th>mean</th>\n",
       "      <td>61947.886523</td>\n",
       "      <td>6.025816</td>\n",
       "      <td>8.795505</td>\n",
       "      <td>2.717554</td>\n",
       "      <td>5.367884</td>\n",
       "      <td>2.028892</td>\n",
       "      <td>8.311310</td>\n",
       "      <td>4.213047</td>\n",
       "      <td>5.718548</td>\n",
       "      <td>7.053123</td>\n",
       "      <td>6.879048</td>\n",
       "      <td>2.648382</td>\n",
       "    </tr>\n",
       "    <tr>\n",
       "      <th>std</th>\n",
       "      <td>36861.112826</td>\n",
       "      <td>4.463483</td>\n",
       "      <td>6.186092</td>\n",
       "      <td>2.502047</td>\n",
       "      <td>4.375352</td>\n",
       "      <td>2.488226</td>\n",
       "      <td>6.547905</td>\n",
       "      <td>4.403908</td>\n",
       "      <td>4.333144</td>\n",
       "      <td>4.344079</td>\n",
       "      <td>4.424391</td>\n",
       "      <td>1.780485</td>\n",
       "    </tr>\n",
       "    <tr>\n",
       "      <th>min</th>\n",
       "      <td>1.000000</td>\n",
       "      <td>0.000000</td>\n",
       "      <td>0.000000</td>\n",
       "      <td>0.000000</td>\n",
       "      <td>0.000000</td>\n",
       "      <td>0.000000</td>\n",
       "      <td>0.000000</td>\n",
       "      <td>0.000000</td>\n",
       "      <td>0.000000</td>\n",
       "      <td>0.000000</td>\n",
       "      <td>0.000000</td>\n",
       "      <td>0.000000</td>\n",
       "    </tr>\n",
       "    <tr>\n",
       "      <th>25%</th>\n",
       "      <td>29991.500000</td>\n",
       "      <td>0.000000</td>\n",
       "      <td>0.000000</td>\n",
       "      <td>0.000000</td>\n",
       "      <td>0.000000</td>\n",
       "      <td>0.000000</td>\n",
       "      <td>0.000000</td>\n",
       "      <td>0.000000</td>\n",
       "      <td>0.000000</td>\n",
       "      <td>0.000000</td>\n",
       "      <td>0.000000</td>\n",
       "      <td>1.000000</td>\n",
       "    </tr>\n",
       "    <tr>\n",
       "      <th>50%</th>\n",
       "      <td>61172.000000</td>\n",
       "      <td>10.000000</td>\n",
       "      <td>10.000000</td>\n",
       "      <td>5.000000</td>\n",
       "      <td>5.000000</td>\n",
       "      <td>0.000000</td>\n",
       "      <td>10.000000</td>\n",
       "      <td>5.000000</td>\n",
       "      <td>5.000000</td>\n",
       "      <td>10.000000</td>\n",
       "      <td>10.000000</td>\n",
       "      <td>3.000000</td>\n",
       "    </tr>\n",
       "    <tr>\n",
       "      <th>75%</th>\n",
       "      <td>93644.500000</td>\n",
       "      <td>10.000000</td>\n",
       "      <td>15.000000</td>\n",
       "      <td>5.000000</td>\n",
       "      <td>10.000000</td>\n",
       "      <td>5.000000</td>\n",
       "      <td>15.000000</td>\n",
       "      <td>10.000000</td>\n",
       "      <td>10.000000</td>\n",
       "      <td>10.000000</td>\n",
       "      <td>10.000000</td>\n",
       "      <td>4.000000</td>\n",
       "    </tr>\n",
       "    <tr>\n",
       "      <th>max</th>\n",
       "      <td>127958.000000</td>\n",
       "      <td>50.000000</td>\n",
       "      <td>51.000000</td>\n",
       "      <td>55.000000</td>\n",
       "      <td>20.000000</td>\n",
       "      <td>51.000000</td>\n",
       "      <td>55.000000</td>\n",
       "      <td>55.000000</td>\n",
       "      <td>41.000000</td>\n",
       "      <td>55.000000</td>\n",
       "      <td>20.000000</td>\n",
       "      <td>55.000000</td>\n",
       "    </tr>\n",
       "  </tbody>\n",
       "</table>\n",
       "</div>"
      ],
      "text/plain": [
       "            ICASE_ID        Feeding      Transfers        Bathing  \\\n",
       "count  138803.000000  138791.000000  138791.000000  138791.000000   \n",
       "mean    61947.886523       6.025816       8.795505       2.717554   \n",
       "std     36861.112826       4.463483       6.186092       2.502047   \n",
       "min         1.000000       0.000000       0.000000       0.000000   \n",
       "25%     29991.500000       0.000000       0.000000       0.000000   \n",
       "50%     61172.000000      10.000000      10.000000       5.000000   \n",
       "75%     93644.500000      10.000000      15.000000       5.000000   \n",
       "max    127958.000000      50.000000      51.000000      55.000000   \n",
       "\n",
       "          Toilet_use       Grooming       Mobility         Stairs  \\\n",
       "count  138791.000000  138791.000000  138791.000000  138791.000000   \n",
       "mean        5.367884       2.028892       8.311310       4.213047   \n",
       "std         4.375352       2.488226       6.547905       4.403908   \n",
       "min         0.000000       0.000000       0.000000       0.000000   \n",
       "25%         0.000000       0.000000       0.000000       0.000000   \n",
       "50%         5.000000       0.000000      10.000000       5.000000   \n",
       "75%        10.000000       5.000000      15.000000      10.000000   \n",
       "max        20.000000      51.000000      55.000000      55.000000   \n",
       "\n",
       "            Dressing  Bowel_control  Bladder_control  discharged_mrs  \n",
       "count  138791.000000  138791.000000    138791.000000   138787.000000  \n",
       "mean        5.718548       7.053123         6.879048        2.648382  \n",
       "std         4.333144       4.344079         4.424391        1.780485  \n",
       "min         0.000000       0.000000         0.000000        0.000000  \n",
       "25%         0.000000       0.000000         0.000000        1.000000  \n",
       "50%         5.000000      10.000000        10.000000        3.000000  \n",
       "75%        10.000000      10.000000        10.000000        4.000000  \n",
       "max        41.000000      55.000000        20.000000       55.000000  "
      ]
     },
     "execution_count": 3,
     "metadata": {},
     "output_type": "execute_result"
    }
   ],
   "source": [
    "cdb.describe()"
   ]
  },
  {
   "cell_type": "markdown",
   "metadata": {},
   "source": [
    "# Feeding"
   ]
  },
  {
   "cell_type": "code",
   "execution_count": 4,
   "metadata": {},
   "outputs": [
    {
     "name": "stderr",
     "output_type": "stream",
     "text": [
      "<ipython-input-4-57141973e64c>:2: SettingWithCopyWarning: \n",
      "A value is trying to be set on a copy of a slice from a DataFrame\n",
      "\n",
      "See the caveats in the documentation: https://pandas.pydata.org/pandas-docs/stable/user_guide/indexing.html#returning-a-view-versus-a-copy\n",
      "  feeding[(feeding < 0) | (feeding > 10)] = np.nan\n"
     ]
    },
    {
     "name": "stdout",
     "output_type": "stream",
     "text": [
      "count    138771.000000\n",
      "mean          6.023708\n",
      "std           4.457777\n",
      "min           0.000000\n",
      "25%           0.000000\n",
      "50%          10.000000\n",
      "75%          10.000000\n",
      "max          10.000000\n",
      "Name: Feeding, dtype: float64\n"
     ]
    },
    {
     "data": {
      "image/png": "[encoded data removed]",
      "text/plain": [
       "<Figure size 1080x360 with 2 Axes>"
      ]
     },
     "metadata": {
      "needs_background": "light"
     },
     "output_type": "display_data"
    }
   ],
   "source": [
    "feeding = cdb.loc[:, \"Feeding\"]\n",
    "feeding[(feeding < 0) | (feeding > 10)] = np.nan\n",
    "#print(feeding)\n",
    "#print(feeding.value_counts() / len(feeding))\n",
    "print(feeding.describe())\n",
    "\n",
    "fig, (ax1,ax2) = plt.subplots(nrows = 1, ncols = 2, figsize = (15,5))\n",
    "\n",
    "feeding.plot.box(ax = ax1)\n",
    "ax1.set_title(\"Feeding - Boxplot\")\n",
    "ax1.set_xlabel('Feeding')\n",
    "ax1.set_ylabel('Times', rotation=0)\n",
    "ax1.set_xticks([])\n",
    "\n",
    "#feeding.plot.hist(ax = ax2, bins=100)\n",
    "#plt.show()\n",
    "feeding.plot.hist(ax = ax2, bins=100, range=[0,10])\n",
    "ax2.set_title(\"Feeding - Histogram\")\n",
    "ax2.set_xlabel('Feeding(Times)')\n",
    "ax2.set_ylabel('Number', rotation=0)\n",
    "plt.show()"
   ]
  },
  {
   "cell_type": "markdown",
   "metadata": {},
   "source": [
    "# Transfers"
   ]
  },
  {
   "cell_type": "code",
   "execution_count": 5,
   "metadata": {},
   "outputs": [
    {
     "name": "stderr",
     "output_type": "stream",
     "text": [
      "<ipython-input-5-b42854e32486>:2: SettingWithCopyWarning: \n",
      "A value is trying to be set on a copy of a slice from a DataFrame\n",
      "\n",
      "See the caveats in the documentation: https://pandas.pydata.org/pandas-docs/stable/user_guide/indexing.html#returning-a-view-versus-a-copy\n",
      "  transfers[(transfers < 0) | (transfers > 15)] = np.nan\n"
     ]
    },
    {
     "name": "stdout",
     "output_type": "stream",
     "text": [
      "count    138787.00000\n",
      "mean          8.79475\n",
      "std           6.18402\n",
      "min           0.00000\n",
      "25%           0.00000\n",
      "50%          10.00000\n",
      "75%          15.00000\n",
      "max          15.00000\n",
      "Name: Transfers, dtype: float64\n"
     ]
    },
    {
     "data": {
      "image/png": "[encoded data removed]",
      "text/plain": [
       "<Figure size 1080x360 with 2 Axes>"
      ]
     },
     "metadata": {
      "needs_background": "light"
     },
     "output_type": "display_data"
    }
   ],
   "source": [
    "transfers = cdb.loc[:, \"Transfers\"]\n",
    "transfers[(transfers < 0) | (transfers > 15)] = np.nan\n",
    "#print(transfers)\n",
    "#print(transfers.value_counts() / len(transfers))\n",
    "print(transfers.describe())\n",
    "\n",
    "fig, (ax1,ax2) = plt.subplots(nrows = 1, ncols = 2, figsize = (15,5))\n",
    "\n",
    "transfers.plot.box(ax = ax1)\n",
    "ax1.set_title(\"Transfers - Boxplot\")\n",
    "ax1.set_xlabel('Transfers')\n",
    "ax1.set_ylabel('Times', rotation=0)\n",
    "ax1.set_xticks([])\n",
    "\n",
    "#transfers.plot.hist(ax = ax2, bins=100)\n",
    "#plt.show()\n",
    "transfers.plot.hist(ax = ax2, bins=100, range=[0,20])\n",
    "ax2.set_title(\"Transfers - Histogram\")\n",
    "ax2.set_xlabel('Transfers(Times)')\n",
    "ax2.set_ylabel('Number', rotation=0)\n",
    "plt.show()"
   ]
  },
  {
   "cell_type": "markdown",
   "metadata": {},
   "source": [
    "# Bathing"
   ]
  },
  {
   "cell_type": "code",
   "execution_count": 6,
   "metadata": {},
   "outputs": [
    {
     "name": "stderr",
     "output_type": "stream",
     "text": [
      "<ipython-input-6-c86df0fc64f2>:2: SettingWithCopyWarning: \n",
      "A value is trying to be set on a copy of a slice from a DataFrame\n",
      "\n",
      "See the caveats in the documentation: https://pandas.pydata.org/pandas-docs/stable/user_guide/indexing.html#returning-a-view-versus-a-copy\n",
      "  bathing[(bathing < 0) | (bathing > 5)] = np.nan\n"
     ]
    },
    {
     "name": "stdout",
     "output_type": "stream",
     "text": [
      "count    138744.000000\n",
      "mean          2.714359\n",
      "std           2.490770\n",
      "min           0.000000\n",
      "25%           0.000000\n",
      "50%           5.000000\n",
      "75%           5.000000\n",
      "max           5.000000\n",
      "Name: Bathing, dtype: float64\n"
     ]
    },
    {
     "data": {
      "image/png": "[encoded data removed]",
      "text/plain": [
       "<Figure size 1080x360 with 2 Axes>"
      ]
     },
     "metadata": {
      "needs_background": "light"
     },
     "output_type": "display_data"
    }
   ],
   "source": [
    "bathing = cdb.loc[:, \"Bathing\"]\n",
    "bathing[(bathing < 0) | (bathing > 5)] = np.nan\n",
    "#print(bathing)\n",
    "#print(bathing.value_counts() / len(bathing))\n",
    "print(bathing.describe())\n",
    "\n",
    "fig, (ax1,ax2) = plt.subplots(nrows = 1, ncols = 2, figsize = (15,5))\n",
    "\n",
    "bathing.plot.box(ax = ax1)\n",
    "ax1.set_title(\"Bathing - Boxplot\")\n",
    "ax1.set_xlabel('Bathing')\n",
    "ax1.set_ylabel('Times', rotation=0)\n",
    "ax1.set_xticks([])\n",
    "\n",
    "#bathing.plot.hist(ax = ax2, bins=100)\n",
    "#plt.show()\n",
    "bathing.plot.hist(ax = ax2, bins=100, range=[0,10])\n",
    "ax2.set_title(\"Bathing - Histogram\")\n",
    "ax2.set_xlabel('Bathing(Times)')\n",
    "ax2.set_ylabel('Number', rotation=0)\n",
    "plt.show()"
   ]
  },
  {
   "cell_type": "markdown",
   "metadata": {},
   "source": [
    "# Toilet"
   ]
  },
  {
   "cell_type": "code",
   "execution_count": 7,
   "metadata": {},
   "outputs": [
    {
     "name": "stderr",
     "output_type": "stream",
     "text": [
      "<ipython-input-7-fe364a721a15>:2: SettingWithCopyWarning: \n",
      "A value is trying to be set on a copy of a slice from a DataFrame\n",
      "\n",
      "See the caveats in the documentation: https://pandas.pydata.org/pandas-docs/stable/user_guide/indexing.html#returning-a-view-versus-a-copy\n",
      "  toilet[(toilet < 0) | (toilet > 10)] = np.nan\n"
     ]
    },
    {
     "name": "stdout",
     "output_type": "stream",
     "text": [
      "count    138776.000000\n",
      "mean          5.366865\n",
      "std           4.374417\n",
      "min           0.000000\n",
      "25%           0.000000\n",
      "50%           5.000000\n",
      "75%          10.000000\n",
      "max          10.000000\n",
      "Name: Toilet_use, dtype: float64\n"
     ]
    },
    {
     "data": {
      "image/png": "[encoded data removed]",
      "text/plain": [
       "<Figure size 1080x360 with 2 Axes>"
      ]
     },
     "metadata": {
      "needs_background": "light"
     },
     "output_type": "display_data"
    }
   ],
   "source": [
    "toilet = cdb.loc[:, \"Toilet_use\"]\n",
    "toilet[(toilet < 0) | (toilet > 10)] = np.nan\n",
    "#print(toilet)\n",
    "#print(toilet.value_counts() / len(toilet))\n",
    "print(toilet.describe())\n",
    "\n",
    "fig, (ax1,ax2) = plt.subplots(nrows = 1, ncols = 2, figsize = (15,5))\n",
    "\n",
    "toilet.plot.box(ax = ax1)\n",
    "ax1.set_title(\"Toilet - Boxplot\")\n",
    "ax1.set_xlabel('Toilet')\n",
    "ax1.set_ylabel('Times', rotation=0)\n",
    "ax1.set_xticks([])\n",
    "\n",
    "#toilet.plot.hist(ax = ax2, bins=100)\n",
    "#plt.show()\n",
    "toilet.plot.hist(ax = ax2, bins=100, range=[0,10])\n",
    "ax2.set_title(\"Toilet - Histogram\")\n",
    "ax2.set_xlabel('Toilet(Times)')\n",
    "ax2.set_ylabel('Number', rotation=0)\n",
    "plt.show()"
   ]
  },
  {
   "cell_type": "markdown",
   "metadata": {},
   "source": [
    "# Grooming"
   ]
  },
  {
   "cell_type": "code",
   "execution_count": 8,
   "metadata": {},
   "outputs": [
    {
     "name": "stderr",
     "output_type": "stream",
     "text": [
      "<ipython-input-8-27d54142043a>:2: SettingWithCopyWarning: \n",
      "A value is trying to be set on a copy of a slice from a DataFrame\n",
      "\n",
      "See the caveats in the documentation: https://pandas.pydata.org/pandas-docs/stable/user_guide/indexing.html#returning-a-view-versus-a-copy\n",
      "  grooming[(grooming < 0) | (grooming > 5)] = np.nan\n"
     ]
    },
    {
     "name": "stdout",
     "output_type": "stream",
     "text": [
      "count    138459.000000\n",
      "mean          2.008631\n",
      "std           2.451150\n",
      "min           0.000000\n",
      "25%           0.000000\n",
      "50%           0.000000\n",
      "75%           5.000000\n",
      "max           5.000000\n",
      "Name: Grooming, dtype: float64\n"
     ]
    },
    {
     "data": {
      "image/png": "[encoded data removed]",
      "text/plain": [
       "<Figure size 1080x360 with 2 Axes>"
      ]
     },
     "metadata": {
      "needs_background": "light"
     },
     "output_type": "display_data"
    }
   ],
   "source": [
    "grooming = cdb.loc[:, \"Grooming\"]\n",
    "grooming[(grooming < 0) | (grooming > 5)] = np.nan\n",
    "#print(grooming)\n",
    "#print(grooming.value_counts() / len(grooming))\n",
    "print(grooming.describe())\n",
    "\n",
    "fig, (ax1,ax2) = plt.subplots(nrows = 1, ncols = 2, figsize = (15,5))\n",
    "\n",
    "grooming.plot.box(ax = ax1)\n",
    "ax1.set_title(\"Grooming - Boxplot\")\n",
    "ax1.set_xlabel('Grooming')\n",
    "ax1.set_ylabel('Times', rotation=0)\n",
    "ax1.set_xticks([])\n",
    "\n",
    "#grooming.plot.hist(ax = ax2, bins=100)\n",
    "#plt.show()\n",
    "grooming.plot.hist(ax = ax2, bins=100, range=[0,10])\n",
    "ax2.set_title(\"Grooming - Histogram\")\n",
    "ax2.set_xlabel('Grooming(Times)')\n",
    "ax2.set_ylabel('Number', rotation=0)\n",
    "plt.show()"
   ]
  },
  {
   "cell_type": "markdown",
   "metadata": {},
   "source": [
    "# Mobility"
   ]
  },
  {
   "cell_type": "code",
   "execution_count": 9,
   "metadata": {},
   "outputs": [
    {
     "name": "stderr",
     "output_type": "stream",
     "text": [
      "<ipython-input-9-8a43eeae2562>:2: SettingWithCopyWarning: \n",
      "A value is trying to be set on a copy of a slice from a DataFrame\n",
      "\n",
      "See the caveats in the documentation: https://pandas.pydata.org/pandas-docs/stable/user_guide/indexing.html#returning-a-view-versus-a-copy\n",
      "  mobility[(mobility < 0) | (mobility > 15)] = np.nan\n"
     ]
    },
    {
     "name": "stdout",
     "output_type": "stream",
     "text": [
      "count    138787.000000\n",
      "mean          8.310476\n",
      "std           6.545592\n",
      "min           0.000000\n",
      "25%           0.000000\n",
      "50%          10.000000\n",
      "75%          15.000000\n",
      "max          15.000000\n",
      "Name: Mobility, dtype: float64\n"
     ]
    },
    {
     "data": {
      "image/png": "[encoded data removed]",
      "text/plain": [
       "<Figure size 1080x360 with 2 Axes>"
      ]
     },
     "metadata": {
      "needs_background": "light"
     },
     "output_type": "display_data"
    }
   ],
   "source": [
    "mobility = cdb.loc[:, \"Mobility\"]\n",
    "mobility[(mobility < 0) | (mobility > 15)] = np.nan\n",
    "#print(mobility)\n",
    "#print(mobility.value_counts() / len(mobility))\n",
    "print(mobility.describe())\n",
    "\n",
    "fig, (ax1,ax2) = plt.subplots(nrows = 1, ncols = 2, figsize = (15,5))\n",
    "\n",
    "mobility.plot.box(ax = ax1)\n",
    "ax1.set_title(\"Mobility - Boxplot\")\n",
    "ax1.set_xlabel('Mobility')\n",
    "ax1.set_ylabel('Times', rotation=0)\n",
    "ax1.set_xticks([])\n",
    "\n",
    "#mobility.plot.hist(ax = ax2, bins=100)\n",
    "#plt.show()\n",
    "mobility.plot.hist(ax = ax2, bins=100, range=[0,20])\n",
    "ax2.set_title(\"Mobility - Histogram\")\n",
    "ax2.set_xlabel('Mobility(Times)')\n",
    "ax2.set_ylabel('Number', rotation=0)\n",
    "plt.show()"
   ]
  },
  {
   "cell_type": "markdown",
   "metadata": {},
   "source": [
    "# Stairs"
   ]
  },
  {
   "cell_type": "code",
   "execution_count": 10,
   "metadata": {},
   "outputs": [
    {
     "name": "stderr",
     "output_type": "stream",
     "text": [
      "<ipython-input-10-efe67c335a98>:2: SettingWithCopyWarning: \n",
      "A value is trying to be set on a copy of a slice from a DataFrame\n",
      "\n",
      "See the caveats in the documentation: https://pandas.pydata.org/pandas-docs/stable/user_guide/indexing.html#returning-a-view-versus-a-copy\n",
      "  stairs[(stairs < 0) | (stairs > 10)] = np.nan\n"
     ]
    },
    {
     "name": "stdout",
     "output_type": "stream",
     "text": [
      "count    138768.000000\n",
      "mean          4.210459\n",
      "std           4.396483\n",
      "min           0.000000\n",
      "25%           0.000000\n",
      "50%           5.000000\n",
      "75%          10.000000\n",
      "max          10.000000\n",
      "Name: Stairs, dtype: float64\n"
     ]
    },
    {
     "data": {
      "image/png": "[encoded data removed]",
      "text/plain": [
       "<Figure size 1080x360 with 2 Axes>"
      ]
     },
     "metadata": {
      "needs_background": "light"
     },
     "output_type": "display_data"
    }
   ],
   "source": [
    "stairs = cdb.loc[:, \"Stairs\"]\n",
    "stairs[(stairs < 0) | (stairs > 10)] = np.nan\n",
    "#print(stairs)\n",
    "#print(stairs.value_counts() / len(stairs))\n",
    "print(stairs.describe())\n",
    "\n",
    "fig, (ax1,ax2) = plt.subplots(nrows = 1, ncols = 2, figsize = (15,5))\n",
    "\n",
    "stairs.plot.box(ax = ax1)\n",
    "ax1.set_title(\"Stairs - Boxplot\")\n",
    "ax1.set_xlabel('Stairs')\n",
    "ax1.set_ylabel('Times', rotation=0)\n",
    "ax1.set_xticks([])\n",
    "\n",
    "#stairs.plot.hist(ax = ax2, bins=100)\n",
    "#plt.show()\n",
    "stairs.plot.hist(ax = ax2, bins=100, range=[0,20])\n",
    "ax2.set_title(\"Stairs - Histogram\")\n",
    "ax2.set_xlabel('Stairs(Times)')\n",
    "ax2.set_ylabel('Number', rotation=0)\n",
    "plt.show()"
   ]
  },
  {
   "cell_type": "markdown",
   "metadata": {},
   "source": [
    "# Dressing"
   ]
  },
  {
   "cell_type": "code",
   "execution_count": 11,
   "metadata": {},
   "outputs": [
    {
     "name": "stderr",
     "output_type": "stream",
     "text": [
      "<ipython-input-11-63d1703018fb>:2: SettingWithCopyWarning: \n",
      "A value is trying to be set on a copy of a slice from a DataFrame\n",
      "\n",
      "See the caveats in the documentation: https://pandas.pydata.org/pandas-docs/stable/user_guide/indexing.html#returning-a-view-versus-a-copy\n",
      "  dressing[(dressing < 0) | (dressing > 10)] = np.nan\n"
     ]
    },
    {
     "name": "stdout",
     "output_type": "stream",
     "text": [
      "count    138615.000000\n",
      "mean          5.706583\n",
      "std           4.322294\n",
      "min           0.000000\n",
      "25%           0.000000\n",
      "50%           5.000000\n",
      "75%          10.000000\n",
      "max          10.000000\n",
      "Name: Dressing, dtype: float64\n"
     ]
    },
    {
     "data": {
      "image/png": "[encoded data removed]",
      "text/plain": [
       "<Figure size 1080x360 with 2 Axes>"
      ]
     },
     "metadata": {
      "needs_background": "light"
     },
     "output_type": "display_data"
    }
   ],
   "source": [
    "dressing = cdb.loc[:, \"Dressing\"]\n",
    "dressing[(dressing < 0) | (dressing > 10)] = np.nan\n",
    "#print(dressing)\n",
    "#print(dressing.value_counts() / len(dressing))\n",
    "print(dressing.describe())\n",
    "\n",
    "fig, (ax1,ax2) = plt.subplots(nrows = 1, ncols = 2, figsize = (15,5))\n",
    "\n",
    "dressing.plot.box(ax = ax1)\n",
    "ax1.set_title(\"Dressing - Boxplot\")\n",
    "ax1.set_xlabel('Dressing')\n",
    "ax1.set_ylabel('Times', rotation=0)\n",
    "ax1.set_xticks([])\n",
    "\n",
    "#dressing.plot.hist(ax = ax2, bins=100)\n",
    "#plt.show()\n",
    "dressing.plot.hist(ax = ax2, bins=100, range=[0,20])\n",
    "ax2.set_title(\"Dressing - Histogram\")\n",
    "ax2.set_xlabel('Dressing(Times)')\n",
    "ax2.set_ylabel('Number', rotation=0)\n",
    "plt.show()"
   ]
  },
  {
   "cell_type": "markdown",
   "metadata": {},
   "source": [
    "# Bowel Control"
   ]
  },
  {
   "cell_type": "code",
   "execution_count": 12,
   "metadata": {},
   "outputs": [
    {
     "name": "stderr",
     "output_type": "stream",
     "text": [
      "<ipython-input-12-164591d131b4>:2: SettingWithCopyWarning: \n",
      "A value is trying to be set on a copy of a slice from a DataFrame\n",
      "\n",
      "See the caveats in the documentation: https://pandas.pydata.org/pandas-docs/stable/user_guide/indexing.html#returning-a-view-versus-a-copy\n",
      "  bowel_c[(bowel_c < 0) | (bowel_c > 10)] = np.nan\n"
     ]
    },
    {
     "name": "stdout",
     "output_type": "stream",
     "text": [
      "count    138617.000000\n",
      "mean          7.042816\n",
      "std           4.335695\n",
      "min           0.000000\n",
      "25%           0.000000\n",
      "50%          10.000000\n",
      "75%          10.000000\n",
      "max          10.000000\n",
      "Name: Bowel_control, dtype: float64\n"
     ]
    },
    {
     "data": {
      "image/png": "[encoded data removed]",
      "text/plain": [
       "<Figure size 1080x360 with 2 Axes>"
      ]
     },
     "metadata": {
      "needs_background": "light"
     },
     "output_type": "display_data"
    }
   ],
   "source": [
    "bowel_c = cdb.loc[:, \"Bowel_control\"]\n",
    "bowel_c[(bowel_c < 0) | (bowel_c > 10)] = np.nan\n",
    "#print(bowel_c)\n",
    "#print(bowel_c.value_counts() / len(bowel_c))\n",
    "print(bowel_c.describe())\n",
    "\n",
    "fig, (ax1,ax2) = plt.subplots(nrows = 1, ncols = 2, figsize = (15,5))\n",
    "\n",
    "bowel_c.plot.box(ax = ax1)\n",
    "ax1.set_title(\"Bowel Control - Boxplot\")\n",
    "ax1.set_xlabel('Bowel Control')\n",
    "ax1.set_ylabel('Times', rotation=0)\n",
    "ax1.set_xticks([])\n",
    "\n",
    "#bowel_c.plot.hist(ax = ax2, bins=100)\n",
    "#plt.show()\n",
    "bowel_c.plot.hist(ax = ax2, bins=100, range=[0,20])\n",
    "ax2.set_title(\"Bowel Control - Histogram\")\n",
    "ax2.set_xlabel('Bowel Control(Times)')\n",
    "ax2.set_ylabel('Number', rotation=0)\n",
    "plt.show()"
   ]
  },
  {
   "cell_type": "markdown",
   "metadata": {},
   "source": [
    "# Bladder Control"
   ]
  },
  {
   "cell_type": "code",
   "execution_count": 13,
   "metadata": {},
   "outputs": [
    {
     "name": "stderr",
     "output_type": "stream",
     "text": [
      "<ipython-input-13-d2add4f47bdf>:2: SettingWithCopyWarning: \n",
      "A value is trying to be set on a copy of a slice from a DataFrame\n",
      "\n",
      "See the caveats in the documentation: https://pandas.pydata.org/pandas-docs/stable/user_guide/indexing.html#returning-a-view-versus-a-copy\n",
      "  bladder_c[(bladder_c < 0) | (bladder_c > 10)] = np.nan\n"
     ]
    },
    {
     "name": "stdout",
     "output_type": "stream",
     "text": [
      "count    138784.000000\n",
      "mean          6.878567\n",
      "std           4.423953\n",
      "min           0.000000\n",
      "25%           0.000000\n",
      "50%          10.000000\n",
      "75%          10.000000\n",
      "max          10.000000\n",
      "Name: Bladder_control, dtype: float64\n"
     ]
    },
    {
     "data": {
      "image/png": "[encoded data removed]",
      "text/plain": [
       "<Figure size 1080x360 with 2 Axes>"
      ]
     },
     "metadata": {
      "needs_background": "light"
     },
     "output_type": "display_data"
    }
   ],
   "source": [
    "bladder_c = cdb.loc[:, \"Bladder_control\"]\n",
    "bladder_c[(bladder_c < 0) | (bladder_c > 10)] = np.nan\n",
    "#print(bladder_c)\n",
    "#print(bladder_c.value_counts() / len(bladder_c))\n",
    "print(bladder_c.describe())\n",
    "\n",
    "fig, (ax1,ax2) = plt.subplots(nrows = 1, ncols = 2, figsize = (15,5))\n",
    "\n",
    "bladder_c.plot.box(ax = ax1)\n",
    "ax1.set_title(\"Bladder Control - Boxplot\")\n",
    "ax1.set_xlabel('Bladder Control')\n",
    "ax1.set_ylabel('Times', rotation=0)\n",
    "ax1.set_xticks([])\n",
    "\n",
    "#bladder_c.plot.hist(ax = ax2, bins=100)\n",
    "#plt.show()\n",
    "bladder_c.plot.hist(ax = ax2, bins=100, range=[0,10])\n",
    "ax2.set_title(\"Bladder Control - Histogram\")\n",
    "ax2.set_xlabel('Bladder Control(Times)')\n",
    "ax2.set_ylabel('Number', rotation=0)\n",
    "plt.show()"
   ]
  },
  {
   "cell_type": "markdown",
   "metadata": {},
   "source": [
    "# Total"
   ]
  },
  {
   "cell_type": "code",
   "execution_count": 14,
   "metadata": {},
   "outputs": [
    {
     "name": "stdout",
     "output_type": "stream",
     "text": [
      "count    138354.000000\n",
      "mean         57.012641\n",
      "std          40.201678\n",
      "min           0.000000\n",
      "25%          10.000000\n",
      "50%          65.000000\n",
      "75%         100.000000\n",
      "max         100.000000\n",
      "dtype: float64\n"
     ]
    },
    {
     "data": {
      "image/png": "[encoded data removed]",
      "text/plain": [
       "<Figure size 1080x360 with 2 Axes>"
      ]
     },
     "metadata": {
      "needs_background": "light"
     },
     "output_type": "display_data"
    }
   ],
   "source": [
    "total = feeding + transfers + bathing + toilet + grooming + mobility + dressing + stairs + bowel_c + bladder_c\n",
    "#print(total)\n",
    "#print(total.value_counts() / len(total))\n",
    "print(total.describe())\n",
    "\n",
    "fig, (ax1,ax2) = plt.subplots(nrows = 1, ncols = 2, figsize = (15,5))\n",
    "\n",
    "total.plot.box(ax = ax1)\n",
    "ax1.set_title(\"Total Barthel Index - Boxplot\")\n",
    "ax1.set_xlabel('Total Barthel Index')\n",
    "ax1.set_ylabel('Score', rotation=0)\n",
    "ax1.set_xticks([])\n",
    "\n",
    "#total.plot.hist(ax = ax2, bins=100)\n",
    "#plt.show()\n",
    "total.plot.hist(ax = ax2, bins=100, range=[0,100])\n",
    "ax2.set_title(\"Total Barthel Index - Histogram\")\n",
    "ax2.set_xlabel('Total Barthel Index(Score)')\n",
    "ax2.set_ylabel('Number', rotation=0)\n",
    "plt.show()"
   ]
  },
  {
   "cell_type": "markdown",
   "metadata": {},
   "source": [
    "# Discharged mRS"
   ]
  },
  {
   "cell_type": "code",
   "execution_count": 15,
   "metadata": {},
   "outputs": [
    {
     "name": "stderr",
     "output_type": "stream",
     "text": [
      "<ipython-input-15-5efe75022176>:2: SettingWithCopyWarning: \n",
      "A value is trying to be set on a copy of a slice from a DataFrame\n",
      "\n",
      "See the caveats in the documentation: https://pandas.pydata.org/pandas-docs/stable/user_guide/indexing.html#returning-a-view-versus-a-copy\n",
      "  DmRS[DmRS > 6] = np.nan\n"
     ]
    },
    {
     "name": "stdout",
     "output_type": "stream",
     "text": [
      "count    138777.000000\n",
      "mean          2.647175\n",
      "std           1.768303\n",
      "min           0.000000\n",
      "25%           1.000000\n",
      "50%           3.000000\n",
      "75%           4.000000\n",
      "max           6.000000\n",
      "Name: discharged_mrs, dtype: float64\n"
     ]
    },
    {
     "data": {
      "image/png": "[encoded data removed]",
      "text/plain": [
       "<Figure size 1080x360 with 2 Axes>"
      ]
     },
     "metadata": {
      "needs_background": "light"
     },
     "output_type": "display_data"
    }
   ],
   "source": [
    "DmRS = cdb.loc[:, \"discharged_mrs\"]\n",
    "DmRS[DmRS > 6] = np.nan\n",
    "#print(DmRS)\n",
    "#print(DmRS.value_counts() / len(DmRS))\n",
    "print(DmRS.describe())\n",
    "\n",
    "fig, (ax1,ax2) = plt.subplots(nrows = 1, ncols = 2, figsize = (15,5))\n",
    "\n",
    "DmRS.plot.box(ax = ax1)\n",
    "ax1.set_title(\"Discharged mRS - Boxplot\")\n",
    "ax1.set_xlabel('Discharged mRS')\n",
    "ax1.set_ylabel('Score', rotation=0)\n",
    "ax1.set_xticks([])\n",
    "\n",
    "#DmRS.plot.hist(ax = ax2, bins=100)\n",
    "#plt.show()\n",
    "DmRS.plot.hist(ax = ax2, bins=100, range=[0,6])\n",
    "ax2.set_title(\"Discharged mRS - Histogram\")\n",
    "ax2.set_xlabel('Discharged mRS(Score)')\n",
    "ax2.set_ylabel('Number', rotation=0)\n",
    "plt.show()"
   ]
  }
 ],
 "metadata": {
  "kernelspec": {
   "display_name": "Python 3",
   "language": "python",
   "name": "python3"
  },
  "language_info": {
   "codemirror_mode": {
    "name": "ipython",
    "version": 3
   },
   "file_extension": ".py",
   "mimetype": "text/x-python",
   "name": "python",
   "nbconvert_exporter": "python",
   "pygments_lexer": "ipython3",
   "version": "3.8.5"
  }
 },
 "nbformat": 4,
 "nbformat_minor": 4
}
