{
 "cells": [
  {
   "cell_type": "code",
   "execution_count": 1,
   "metadata": {},
   "outputs": [],
   "source": [
    "import pandas as pd\n",
    "import matplotlib.pyplot as plt\n",
    "import seaborn as sns\n",
    "import os\n",
    "import numpy as np"
   ]
  },
  {
   "cell_type": "code",
   "execution_count": 2,
   "metadata": {},
   "outputs": [
    {
     "name": "stderr",
     "output_type": "stream",
     "text": [
      "C:\\Users\\Jacky C\\Anaconda3\\lib\\site-packages\\IPython\\core\\interactiveshell.py:3146: DtypeWarning: Columns (10) have mixed types.Specify dtype option on import or set low_memory=False.\n",
      "  has_raised = await self.run_ast_nodes(code_ast.body, cell_name,\n"
     ]
    },
    {
     "data": {
      "text/html": [
       "<div>\n",
       "<style scoped>\n",
       "    .dataframe tbody tr th:only-of-type {\n",
       "        vertical-align: middle;\n",
       "    }\n",
       "\n",
       "    .dataframe tbody tr th {\n",
       "        vertical-align: top;\n",
       "    }\n",
       "\n",
       "    .dataframe thead th {\n",
       "        text-align: right;\n",
       "    }\n",
       "</style>\n",
       "<table border=\"1\" class=\"dataframe\">\n",
       "  <thead>\n",
       "    <tr style=\"text-align: right;\">\n",
       "      <th></th>\n",
       "      <th>ICASE_ID</th>\n",
       "      <th>IDCASE_ID</th>\n",
       "      <th>VERS_1</th>\n",
       "      <th>VERS_3</th>\n",
       "      <th>VERS_6</th>\n",
       "      <th>VERS_12</th>\n",
       "      <th>VEIHD_1</th>\n",
       "      <th>VEIHD_3</th>\n",
       "      <th>VEIHD_6</th>\n",
       "      <th>VEIHD_12</th>\n",
       "      <th>MRS_1</th>\n",
       "      <th>MRS_3</th>\n",
       "      <th>MRS_6</th>\n",
       "      <th>MRS_12</th>\n",
       "    </tr>\n",
       "  </thead>\n",
       "  <tbody>\n",
       "    <tr>\n",
       "      <th>0</th>\n",
       "      <td>9067</td>\n",
       "      <td>005-00009067-1</td>\n",
       "      <td>NaN</td>\n",
       "      <td>N</td>\n",
       "      <td>N</td>\n",
       "      <td>NaN</td>\n",
       "      <td>NaN</td>\n",
       "      <td>N</td>\n",
       "      <td>N</td>\n",
       "      <td>NaN</td>\n",
       "      <td>NaN</td>\n",
       "      <td>3</td>\n",
       "      <td>3</td>\n",
       "      <td>NaN</td>\n",
       "    </tr>\n",
       "    <tr>\n",
       "      <th>1</th>\n",
       "      <td>9068</td>\n",
       "      <td>005-00009068-1</td>\n",
       "      <td>NaN</td>\n",
       "      <td>N</td>\n",
       "      <td>N</td>\n",
       "      <td>N</td>\n",
       "      <td>NaN</td>\n",
       "      <td>N</td>\n",
       "      <td>N</td>\n",
       "      <td>N</td>\n",
       "      <td>NaN</td>\n",
       "      <td>2</td>\n",
       "      <td>2</td>\n",
       "      <td>2.0</td>\n",
       "    </tr>\n",
       "    <tr>\n",
       "      <th>2</th>\n",
       "      <td>9069</td>\n",
       "      <td>005-00009069-1</td>\n",
       "      <td>NaN</td>\n",
       "      <td>N</td>\n",
       "      <td>N</td>\n",
       "      <td>N</td>\n",
       "      <td>NaN</td>\n",
       "      <td>N</td>\n",
       "      <td>N</td>\n",
       "      <td>N</td>\n",
       "      <td>NaN</td>\n",
       "      <td>2</td>\n",
       "      <td>2</td>\n",
       "      <td>1.0</td>\n",
       "    </tr>\n",
       "    <tr>\n",
       "      <th>3</th>\n",
       "      <td>9070</td>\n",
       "      <td>005-00009070-1</td>\n",
       "      <td>NaN</td>\n",
       "      <td>N</td>\n",
       "      <td>N</td>\n",
       "      <td>NaN</td>\n",
       "      <td>NaN</td>\n",
       "      <td>N</td>\n",
       "      <td>N</td>\n",
       "      <td>NaN</td>\n",
       "      <td>NaN</td>\n",
       "      <td>3</td>\n",
       "      <td>3</td>\n",
       "      <td>NaN</td>\n",
       "    </tr>\n",
       "    <tr>\n",
       "      <th>4</th>\n",
       "      <td>9071</td>\n",
       "      <td>005-00009071-1</td>\n",
       "      <td>NaN</td>\n",
       "      <td>N</td>\n",
       "      <td>N</td>\n",
       "      <td>NaN</td>\n",
       "      <td>NaN</td>\n",
       "      <td>N</td>\n",
       "      <td>N</td>\n",
       "      <td>NaN</td>\n",
       "      <td>NaN</td>\n",
       "      <td>1</td>\n",
       "      <td>0</td>\n",
       "      <td>NaN</td>\n",
       "    </tr>\n",
       "  </tbody>\n",
       "</table>\n",
       "</div>"
      ],
      "text/plain": [
       "   ICASE_ID       IDCASE_ID VERS_1 VERS_3 VERS_6 VERS_12 VEIHD_1 VEIHD_3  \\\n",
       "0      9067  005-00009067-1    NaN      N      N     NaN     NaN       N   \n",
       "1      9068  005-00009068-1    NaN      N      N       N     NaN       N   \n",
       "2      9069  005-00009069-1    NaN      N      N       N     NaN       N   \n",
       "3      9070  005-00009070-1    NaN      N      N     NaN     NaN       N   \n",
       "4      9071  005-00009071-1    NaN      N      N     NaN     NaN       N   \n",
       "\n",
       "  VEIHD_6 VEIHD_12 MRS_1 MRS_3 MRS_6  MRS_12  \n",
       "0       N      NaN   NaN     3     3     NaN  \n",
       "1       N        N   NaN     2     2     2.0  \n",
       "2       N        N   NaN     2     2     1.0  \n",
       "3       N      NaN   NaN     3     3     NaN  \n",
       "4       N      NaN   NaN     1     0     NaN  "
      ]
     },
     "execution_count": 2,
     "metadata": {},
     "output_type": "execute_result"
    }
   ],
   "source": [
    "csv_path = os.path.join(\"..\", \"data\",\"TSR_2018_raw\", \"CASEDRFUR(denormalized).csv\")\n",
    "cdr = pd.read_csv(csv_path)\n",
    "cdr.head()"
   ]
  },
  {
   "cell_type": "code",
   "execution_count": 3,
   "metadata": {},
   "outputs": [
    {
     "data": {
      "text/html": [
       "<div>\n",
       "<style scoped>\n",
       "    .dataframe tbody tr th:only-of-type {\n",
       "        vertical-align: middle;\n",
       "    }\n",
       "\n",
       "    .dataframe tbody tr th {\n",
       "        vertical-align: top;\n",
       "    }\n",
       "\n",
       "    .dataframe thead th {\n",
       "        text-align: right;\n",
       "    }\n",
       "</style>\n",
       "<table border=\"1\" class=\"dataframe\">\n",
       "  <thead>\n",
       "    <tr style=\"text-align: right;\">\n",
       "      <th></th>\n",
       "      <th>ICASE_ID</th>\n",
       "      <th>MRS_12</th>\n",
       "    </tr>\n",
       "  </thead>\n",
       "  <tbody>\n",
       "    <tr>\n",
       "      <th>count</th>\n",
       "      <td>84402.000000</td>\n",
       "      <td>39443.000000</td>\n",
       "    </tr>\n",
       "    <tr>\n",
       "      <th>mean</th>\n",
       "      <td>56272.241416</td>\n",
       "      <td>2.031210</td>\n",
       "    </tr>\n",
       "    <tr>\n",
       "      <th>std</th>\n",
       "      <td>33731.705805</td>\n",
       "      <td>1.743435</td>\n",
       "    </tr>\n",
       "    <tr>\n",
       "      <th>min</th>\n",
       "      <td>1.000000</td>\n",
       "      <td>0.000000</td>\n",
       "    </tr>\n",
       "    <tr>\n",
       "      <th>25%</th>\n",
       "      <td>28596.250000</td>\n",
       "      <td>1.000000</td>\n",
       "    </tr>\n",
       "    <tr>\n",
       "      <th>50%</th>\n",
       "      <td>52851.500000</td>\n",
       "      <td>2.000000</td>\n",
       "    </tr>\n",
       "    <tr>\n",
       "      <th>75%</th>\n",
       "      <td>82507.500000</td>\n",
       "      <td>3.000000</td>\n",
       "    </tr>\n",
       "    <tr>\n",
       "      <th>max</th>\n",
       "      <td>127951.000000</td>\n",
       "      <td>7.000000</td>\n",
       "    </tr>\n",
       "  </tbody>\n",
       "</table>\n",
       "</div>"
      ],
      "text/plain": [
       "            ICASE_ID        MRS_12\n",
       "count   84402.000000  39443.000000\n",
       "mean    56272.241416      2.031210\n",
       "std     33731.705805      1.743435\n",
       "min         1.000000      0.000000\n",
       "25%     28596.250000      1.000000\n",
       "50%     52851.500000      2.000000\n",
       "75%     82507.500000      3.000000\n",
       "max    127951.000000      7.000000"
      ]
     },
     "execution_count": 3,
     "metadata": {},
     "output_type": "execute_result"
    }
   ],
   "source": [
    "cdr.describe()"
   ]
  },
  {
   "cell_type": "markdown",
   "metadata": {},
   "source": [
    "# VERS_1"
   ]
  },
  {
   "cell_type": "code",
   "execution_count": 4,
   "metadata": {},
   "outputs": [
    {
     "name": "stderr",
     "output_type": "stream",
     "text": [
      "C:\\Users\\Jacky C\\Anaconda3\\lib\\site-packages\\seaborn\\_decorators.py:36: FutureWarning: Pass the following variable as a keyword arg: x. From version 0.12, the only valid positional argument will be `data`, and passing other arguments without an explicit keyword will result in an error or misinterpretation.\n",
      "  warnings.warn(\n"
     ]
    },
    {
     "name": "stdout",
     "output_type": "stream",
     "text": [
      "N    0.960321\n",
      "Y    0.008744\n",
      "Name: VERS_1, dtype: float64\n"
     ]
    },
    {
     "data": {
      "image/png": "[encoded data removed]",
      "text/plain": [
       "<Figure size 432x288 with 1 Axes>"
      ]
     },
     "metadata": {
      "needs_background": "light"
     },
     "output_type": "display_data"
    }
   ],
   "source": [
    "vers1 = cdr.loc[:,\"VERS_1\"]\n",
    "#print(vers1)\n",
    "print(vers1.value_counts() / len(vers1))\n",
    "#print(vers1.describe())\n",
    "\n",
    "sns.countplot(vers1)\n",
    "plt.title(\"VERS_1 - Barplot\")\n",
    "plt.xlabel('VERS_1')\n",
    "plt.ylabel('Number', rotation=0)\n",
    "plt.show()"
   ]
  },
  {
   "cell_type": "markdown",
   "metadata": {},
   "source": [
    "# VERS_3"
   ]
  },
  {
   "cell_type": "code",
   "execution_count": 5,
   "metadata": {},
   "outputs": [
    {
     "name": "stdout",
     "output_type": "stream",
     "text": [
      "N    0.851970\n",
      "Y    0.008033\n",
      "Name: VERS_3, dtype: float64\n"
     ]
    },
    {
     "name": "stderr",
     "output_type": "stream",
     "text": [
      "C:\\Users\\Jacky C\\Anaconda3\\lib\\site-packages\\seaborn\\_decorators.py:36: FutureWarning: Pass the following variable as a keyword arg: x. From version 0.12, the only valid positional argument will be `data`, and passing other arguments without an explicit keyword will result in an error or misinterpretation.\n",
      "  warnings.warn(\n"
     ]
    },
    {
     "data": {
      "image/png": "[encoded data removed]",
      "text/plain": [
       "<Figure size 432x288 with 1 Axes>"
      ]
     },
     "metadata": {
      "needs_background": "light"
     },
     "output_type": "display_data"
    }
   ],
   "source": [
    "vers3 = cdr.loc[:,\"VERS_3\"]\n",
    "#print(vers3)\n",
    "print(vers3.value_counts() / len(vers3))\n",
    "#print(vers3.describe())\n",
    "\n",
    "sns.countplot(vers3)\n",
    "plt.title(\"VERS_3 - Barplot\")\n",
    "plt.xlabel('VERS_3')\n",
    "plt.ylabel('Number', rotation=0)\n",
    "plt.show()"
   ]
  },
  {
   "cell_type": "markdown",
   "metadata": {},
   "source": [
    "# VERS_6"
   ]
  },
  {
   "cell_type": "code",
   "execution_count": 6,
   "metadata": {},
   "outputs": [
    {
     "name": "stdout",
     "output_type": "stream",
     "text": [
      "N    0.754105\n",
      "Y    0.006481\n",
      "Name: VERS_6, dtype: float64\n"
     ]
    },
    {
     "name": "stderr",
     "output_type": "stream",
     "text": [
      "C:\\Users\\Jacky C\\Anaconda3\\lib\\site-packages\\seaborn\\_decorators.py:36: FutureWarning: Pass the following variable as a keyword arg: x. From version 0.12, the only valid positional argument will be `data`, and passing other arguments without an explicit keyword will result in an error or misinterpretation.\n",
      "  warnings.warn(\n"
     ]
    },
    {
     "data": {
      "image/png": "[encoded data removed]",
      "text/plain": [
       "<Figure size 432x288 with 1 Axes>"
      ]
     },
     "metadata": {
      "needs_background": "light"
     },
     "output_type": "display_data"
    }
   ],
   "source": [
    "vers6 = cdr.loc[:,\"VERS_6\"]\n",
    "#print(vers6)\n",
    "print(vers6.value_counts() / len(vers6))\n",
    "#print(vers6.describe())\n",
    "\n",
    "sns.countplot(vers6)\n",
    "plt.title(\"VERS_6 - Barplot\")\n",
    "plt.xlabel('VERS_6')\n",
    "plt.ylabel('Number', rotation=0)\n",
    "plt.show()"
   ]
  },
  {
   "cell_type": "markdown",
   "metadata": {},
   "source": [
    "# VERS_12"
   ]
  },
  {
   "cell_type": "code",
   "execution_count": 7,
   "metadata": {},
   "outputs": [
    {
     "name": "stderr",
     "output_type": "stream",
     "text": [
      "C:\\Users\\Jacky C\\Anaconda3\\lib\\site-packages\\seaborn\\_decorators.py:36: FutureWarning: Pass the following variable as a keyword arg: x. From version 0.12, the only valid positional argument will be `data`, and passing other arguments without an explicit keyword will result in an error or misinterpretation.\n",
      "  warnings.warn(\n"
     ]
    },
    {
     "name": "stdout",
     "output_type": "stream",
     "text": [
      "N    0.511232\n",
      "Y    0.006362\n",
      "Name: VERS_12, dtype: float64\n"
     ]
    },
    {
     "data": {
      "image/png": "[encoded data removed]",
      "text/plain": [
       "<Figure size 432x288 with 1 Axes>"
      ]
     },
     "metadata": {
      "needs_background": "light"
     },
     "output_type": "display_data"
    }
   ],
   "source": [
    "vers12 = cdr.loc[:,\"VERS_12\"]\n",
    "#print(vers12)\n",
    "print(vers12.value_counts() / len(vers12))\n",
    "#print(vers12.describe())\n",
    "\n",
    "sns.countplot(vers12)\n",
    "plt.title(\"VERS_12 - Barplot\")\n",
    "plt.xlabel('VERS_12')\n",
    "plt.ylabel('Number', rotation=0)\n",
    "plt.show()"
   ]
  },
  {
   "cell_type": "markdown",
   "metadata": {},
   "source": [
    "# VEIHD_1"
   ]
  },
  {
   "cell_type": "code",
   "execution_count": 8,
   "metadata": {},
   "outputs": [
    {
     "name": "stderr",
     "output_type": "stream",
     "text": [
      "C:\\Users\\Jacky C\\Anaconda3\\lib\\site-packages\\seaborn\\_decorators.py:36: FutureWarning: Pass the following variable as a keyword arg: x. From version 0.12, the only valid positional argument will be `data`, and passing other arguments without an explicit keyword will result in an error or misinterpretation.\n",
      "  warnings.warn(\n"
     ]
    },
    {
     "name": "stdout",
     "output_type": "stream",
     "text": [
      "N    0.967572\n",
      "Y    0.000758\n",
      "Name: VEIHD_1, dtype: float64\n"
     ]
    },
    {
     "data": {
      "image/png": "[encoded data removed]",
      "text/plain": [
       "<Figure size 432x288 with 1 Axes>"
      ]
     },
     "metadata": {
      "needs_background": "light"
     },
     "output_type": "display_data"
    }
   ],
   "source": [
    "veihd1 = cdr.loc[:,\"VEIHD_1\"]\n",
    "#print(veihd1)\n",
    "print(veihd1.value_counts() / len(veihd1))\n",
    "#print(veihd1.describe())\n",
    "\n",
    "sns.countplot(veihd1)\n",
    "plt.title(\"VEIHD_1 - Barplot\")\n",
    "plt.xlabel('VEIHD_1')\n",
    "plt.ylabel('Number', rotation=0)\n",
    "plt.show()"
   ]
  },
  {
   "cell_type": "markdown",
   "metadata": {},
   "source": [
    "# VEIHD_3"
   ]
  },
  {
   "cell_type": "code",
   "execution_count": 9,
   "metadata": {},
   "outputs": [
    {
     "name": "stderr",
     "output_type": "stream",
     "text": [
      "C:\\Users\\Jacky C\\Anaconda3\\lib\\site-packages\\seaborn\\_decorators.py:36: FutureWarning: Pass the following variable as a keyword arg: x. From version 0.12, the only valid positional argument will be `data`, and passing other arguments without an explicit keyword will result in an error or misinterpretation.\n",
      "  warnings.warn(\n"
     ]
    },
    {
     "name": "stdout",
     "output_type": "stream",
     "text": [
      "N    0.858510\n",
      "Y    0.000972\n",
      "Name: VEIHD_3, dtype: float64\n"
     ]
    },
    {
     "data": {
      "image/png": "[encoded data removed]",
      "text/plain": [
       "<Figure size 432x288 with 1 Axes>"
      ]
     },
     "metadata": {
      "needs_background": "light"
     },
     "output_type": "display_data"
    }
   ],
   "source": [
    "veihd3 = cdr.loc[:,\"VEIHD_3\"]\n",
    "#print(veihd3)\n",
    "print(veihd3.value_counts() / len(veihd3))\n",
    "#print(veihd3.describe())\n",
    "\n",
    "sns.countplot(veihd3)\n",
    "plt.title(\"VEIHD_3 - Barplot\")\n",
    "plt.xlabel('VEIHD_3')\n",
    "plt.ylabel('Number', rotation=0)\n",
    "plt.show()"
   ]
  },
  {
   "cell_type": "markdown",
   "metadata": {},
   "source": [
    "# VEIHD_6"
   ]
  },
  {
   "cell_type": "code",
   "execution_count": 10,
   "metadata": {},
   "outputs": [
    {
     "name": "stderr",
     "output_type": "stream",
     "text": [
      "C:\\Users\\Jacky C\\Anaconda3\\lib\\site-packages\\seaborn\\_decorators.py:36: FutureWarning: Pass the following variable as a keyword arg: x. From version 0.12, the only valid positional argument will be `data`, and passing other arguments without an explicit keyword will result in an error or misinterpretation.\n",
      "  warnings.warn(\n"
     ]
    },
    {
     "name": "stdout",
     "output_type": "stream",
     "text": [
      "N    0.759544\n",
      "Y    0.000782\n",
      "Name: VEIHD_6, dtype: float64\n"
     ]
    },
    {
     "data": {
      "image/png": "[encoded data removed]",
      "text/plain": [
       "<Figure size 432x288 with 1 Axes>"
      ]
     },
     "metadata": {
      "needs_background": "light"
     },
     "output_type": "display_data"
    }
   ],
   "source": [
    "veihd6 = cdr.loc[:,\"VEIHD_6\"]\n",
    "#print(veihd6)\n",
    "print(veihd6.value_counts() / len(veihd6))\n",
    "#print(veihd6.describe())\n",
    "\n",
    "sns.countplot(veihd6)\n",
    "plt.title(\"VEIHD_6 - Barplot\")\n",
    "plt.xlabel('VEIHD_6')\n",
    "plt.ylabel('Number', rotation=0)\n",
    "plt.show()"
   ]
  },
  {
   "cell_type": "markdown",
   "metadata": {},
   "source": [
    "# VEIHD_12"
   ]
  },
  {
   "cell_type": "code",
   "execution_count": 11,
   "metadata": {},
   "outputs": [
    {
     "name": "stderr",
     "output_type": "stream",
     "text": [
      "C:\\Users\\Jacky C\\Anaconda3\\lib\\site-packages\\seaborn\\_decorators.py:36: FutureWarning: Pass the following variable as a keyword arg: x. From version 0.12, the only valid positional argument will be `data`, and passing other arguments without an explicit keyword will result in an error or misinterpretation.\n",
      "  warnings.warn(\n"
     ]
    },
    {
     "name": "stdout",
     "output_type": "stream",
     "text": [
      "N    0.516741\n",
      "Y    0.000770\n",
      "Name: VEIHD_12, dtype: float64\n"
     ]
    },
    {
     "data": {
      "image/png": "[encoded data removed]",
      "text/plain": [
       "<Figure size 432x288 with 1 Axes>"
      ]
     },
     "metadata": {
      "needs_background": "light"
     },
     "output_type": "display_data"
    }
   ],
   "source": [
    "veihd12 = cdr.loc[:,\"VEIHD_12\"]\n",
    "#print(veihd12)\n",
    "print(veihd12.value_counts() / len(veihd12))\n",
    "#print(veihd12.describe())\n",
    "\n",
    "sns.countplot(veihd12)\n",
    "plt.title(\"VEIHD_12 - Barplot\")\n",
    "plt.xlabel('VEIHD_12')\n",
    "plt.ylabel('Number', rotation=0)\n",
    "plt.show()"
   ]
  },
  {
   "cell_type": "markdown",
   "metadata": {},
   "source": [
    "# MRS_1"
   ]
  },
  {
   "cell_type": "code",
   "execution_count": 12,
   "metadata": {},
   "outputs": [
    {
     "name": "stderr",
     "output_type": "stream",
     "text": [
      "<ipython-input-12-12af4031047a>:2: SettingWithCopyWarning: \n",
      "A value is trying to be set on a copy of a slice from a DataFrame\n",
      "\n",
      "See the caveats in the documentation: https://pandas.pydata.org/pandas-docs/stable/user_guide/indexing.html#returning-a-view-versus-a-copy\n",
      "  mrs1[mrs1 == str(1)] = float(1)\n",
      "<ipython-input-12-12af4031047a>:3: SettingWithCopyWarning: \n",
      "A value is trying to be set on a copy of a slice from a DataFrame\n",
      "\n",
      "See the caveats in the documentation: https://pandas.pydata.org/pandas-docs/stable/user_guide/indexing.html#returning-a-view-versus-a-copy\n",
      "  mrs1[mrs1 == str(2)] = float(2)\n",
      "<ipython-input-12-12af4031047a>:4: SettingWithCopyWarning: \n",
      "A value is trying to be set on a copy of a slice from a DataFrame\n",
      "\n",
      "See the caveats in the documentation: https://pandas.pydata.org/pandas-docs/stable/user_guide/indexing.html#returning-a-view-versus-a-copy\n",
      "  mrs1[mrs1 == str(3)] = float(3)\n",
      "<ipython-input-12-12af4031047a>:5: SettingWithCopyWarning: \n",
      "A value is trying to be set on a copy of a slice from a DataFrame\n",
      "\n",
      "See the caveats in the documentation: https://pandas.pydata.org/pandas-docs/stable/user_guide/indexing.html#returning-a-view-versus-a-copy\n",
      "  mrs1[mrs1 == str(4)] = float(4)\n",
      "<ipython-input-12-12af4031047a>:6: SettingWithCopyWarning: \n",
      "A value is trying to be set on a copy of a slice from a DataFrame\n",
      "\n",
      "See the caveats in the documentation: https://pandas.pydata.org/pandas-docs/stable/user_guide/indexing.html#returning-a-view-versus-a-copy\n",
      "  mrs1[mrs1 == str(5)] = float(5)\n",
      "<ipython-input-12-12af4031047a>:7: SettingWithCopyWarning: \n",
      "A value is trying to be set on a copy of a slice from a DataFrame\n",
      "\n",
      "See the caveats in the documentation: https://pandas.pydata.org/pandas-docs/stable/user_guide/indexing.html#returning-a-view-versus-a-copy\n",
      "  mrs1[mrs1 == str(6)] = float(6)\n",
      "<ipython-input-12-12af4031047a>:8: SettingWithCopyWarning: \n",
      "A value is trying to be set on a copy of a slice from a DataFrame\n",
      "\n",
      "See the caveats in the documentation: https://pandas.pydata.org/pandas-docs/stable/user_guide/indexing.html#returning-a-view-versus-a-copy\n",
      "  mrs1[(mrs1 != 1.0) & (mrs1 != 2.0) & (mrs1 != 3.0) & (mrs1 != 4.0) & (mrs1 != 5.0) & (mrs1 != 6.0)] = np.nan\n",
      "C:\\Users\\Jacky C\\Anaconda3\\lib\\site-packages\\seaborn\\_decorators.py:36: FutureWarning: Pass the following variable as a keyword arg: x. From version 0.12, the only valid positional argument will be `data`, and passing other arguments without an explicit keyword will result in an error or misinterpretation.\n",
      "  warnings.warn(\n"
     ]
    },
    {
     "name": "stdout",
     "output_type": "stream",
     "text": [
      "1.0    0.197175\n",
      "4.0    0.167295\n",
      "5.0    0.156880\n",
      "2.0    0.150091\n",
      "3.0    0.147129\n",
      "6.0    0.009028\n",
      "Name: MRS_1, dtype: float64\n"
     ]
    },
    {
     "data": {
      "image/png": "[encoded data removed]",
      "text/plain": [
       "<Figure size 432x288 with 1 Axes>"
      ]
     },
     "metadata": {
      "needs_background": "light"
     },
     "output_type": "display_data"
    }
   ],
   "source": [
    "mrs1 = cdr.loc[:,\"MRS_1\"]\n",
    "mrs1[mrs1 == str(1)] = float(1)\n",
    "mrs1[mrs1 == str(2)] = float(2)\n",
    "mrs1[mrs1 == str(3)] = float(3)\n",
    "mrs1[mrs1 == str(4)] = float(4)\n",
    "mrs1[mrs1 == str(5)] = float(5)\n",
    "mrs1[mrs1 == str(6)] = float(6)\n",
    "mrs1[(mrs1 != 1.0) & (mrs1 != 2.0) & (mrs1 != 3.0) & (mrs1 != 4.0) & (mrs1 != 5.0) & (mrs1 != 6.0)] = np.nan\n",
    "#print(mrs1)\n",
    "print(mrs1.value_counts() / len(mrs1))\n",
    "#print(mrs1.describe())\n",
    "\n",
    "sns.countplot(mrs1)\n",
    "plt.title(\"MRS_1 - Barplot\")\n",
    "plt.xlabel('MRS_1')\n",
    "plt.ylabel('Number', rotation=0)\n",
    "plt.show()"
   ]
  },
  {
   "cell_type": "markdown",
   "metadata": {},
   "source": [
    "# MRS_3"
   ]
  },
  {
   "cell_type": "code",
   "execution_count": 13,
   "metadata": {},
   "outputs": [
    {
     "name": "stderr",
     "output_type": "stream",
     "text": [
      "<ipython-input-13-a49be41c3548>:2: SettingWithCopyWarning: \n",
      "A value is trying to be set on a copy of a slice from a DataFrame\n",
      "\n",
      "See the caveats in the documentation: https://pandas.pydata.org/pandas-docs/stable/user_guide/indexing.html#returning-a-view-versus-a-copy\n",
      "  mrs3[mrs3 == \"５\"] = 5\n",
      "<ipython-input-13-a49be41c3548>:3: SettingWithCopyWarning: \n",
      "A value is trying to be set on a copy of a slice from a DataFrame\n",
      "\n",
      "See the caveats in the documentation: https://pandas.pydata.org/pandas-docs/stable/user_guide/indexing.html#returning-a-view-versus-a-copy\n",
      "  mrs3[mrs3 == \"２\"] = 2\n",
      "<ipython-input-13-a49be41c3548>:4: SettingWithCopyWarning: \n",
      "A value is trying to be set on a copy of a slice from a DataFrame\n",
      "\n",
      "See the caveats in the documentation: https://pandas.pydata.org/pandas-docs/stable/user_guide/indexing.html#returning-a-view-versus-a-copy\n",
      "  mrs3[mrs3 == str(1)] = float(1)\n",
      "<ipython-input-13-a49be41c3548>:5: SettingWithCopyWarning: \n",
      "A value is trying to be set on a copy of a slice from a DataFrame\n",
      "\n",
      "See the caveats in the documentation: https://pandas.pydata.org/pandas-docs/stable/user_guide/indexing.html#returning-a-view-versus-a-copy\n",
      "  mrs3[mrs3 == str(2)] = float(2)\n",
      "<ipython-input-13-a49be41c3548>:6: SettingWithCopyWarning: \n",
      "A value is trying to be set on a copy of a slice from a DataFrame\n",
      "\n",
      "See the caveats in the documentation: https://pandas.pydata.org/pandas-docs/stable/user_guide/indexing.html#returning-a-view-versus-a-copy\n",
      "  mrs3[mrs3 == str(3)] = float(3)\n",
      "<ipython-input-13-a49be41c3548>:7: SettingWithCopyWarning: \n",
      "A value is trying to be set on a copy of a slice from a DataFrame\n",
      "\n",
      "See the caveats in the documentation: https://pandas.pydata.org/pandas-docs/stable/user_guide/indexing.html#returning-a-view-versus-a-copy\n",
      "  mrs3[mrs3 == str(4)] = float(4)\n",
      "<ipython-input-13-a49be41c3548>:8: SettingWithCopyWarning: \n",
      "A value is trying to be set on a copy of a slice from a DataFrame\n",
      "\n",
      "See the caveats in the documentation: https://pandas.pydata.org/pandas-docs/stable/user_guide/indexing.html#returning-a-view-versus-a-copy\n",
      "  mrs3[mrs3 == str(5)] = float(5)\n",
      "<ipython-input-13-a49be41c3548>:9: SettingWithCopyWarning: \n",
      "A value is trying to be set on a copy of a slice from a DataFrame\n",
      "\n",
      "See the caveats in the documentation: https://pandas.pydata.org/pandas-docs/stable/user_guide/indexing.html#returning-a-view-versus-a-copy\n",
      "  mrs3[mrs3 == str(6)] = float(6)\n",
      "<ipython-input-13-a49be41c3548>:10: SettingWithCopyWarning: \n",
      "A value is trying to be set on a copy of a slice from a DataFrame\n",
      "\n",
      "See the caveats in the documentation: https://pandas.pydata.org/pandas-docs/stable/user_guide/indexing.html#returning-a-view-versus-a-copy\n",
      "  mrs3[(mrs3 != 1.0) & (mrs3 != 2.0) & (mrs3 != 3.0) & (mrs3 != 4.0) & (mrs3 != 5.0) & (mrs3 != 6.0)] = np.nan\n",
      "C:\\Users\\Jacky C\\Anaconda3\\lib\\site-packages\\seaborn\\_decorators.py:36: FutureWarning: Pass the following variable as a keyword arg: x. From version 0.12, the only valid positional argument will be `data`, and passing other arguments without an explicit keyword will result in an error or misinterpretation.\n",
      "  warnings.warn(\n"
     ]
    },
    {
     "name": "stdout",
     "output_type": "stream",
     "text": [
      "1.0    0.182235\n",
      "2.0    0.134890\n",
      "3.0    0.126727\n",
      "4.0    0.119736\n",
      "5.0    0.106194\n",
      "6.0    0.008519\n",
      "Name: MRS_3, dtype: float64\n"
     ]
    },
    {
     "data": {
      "image/png": "[encoded data removed]",
      "text/plain": [
       "<Figure size 432x288 with 1 Axes>"
      ]
     },
     "metadata": {
      "needs_background": "light"
     },
     "output_type": "display_data"
    }
   ],
   "source": [
    "mrs3 = cdr.loc[:,\"MRS_3\"]\n",
    "mrs3[mrs3 == \"５\"] = 5\n",
    "mrs3[mrs3 == \"２\"] = 2\n",
    "mrs3[mrs3 == str(1)] = float(1)\n",
    "mrs3[mrs3 == str(2)] = float(2)\n",
    "mrs3[mrs3 == str(3)] = float(3)\n",
    "mrs3[mrs3 == str(4)] = float(4)\n",
    "mrs3[mrs3 == str(5)] = float(5)\n",
    "mrs3[mrs3 == str(6)] = float(6)\n",
    "mrs3[(mrs3 != 1.0) & (mrs3 != 2.0) & (mrs3 != 3.0) & (mrs3 != 4.0) & (mrs3 != 5.0) & (mrs3 != 6.0)] = np.nan\n",
    "#print(mrs3)\n",
    "print(mrs3.value_counts() / len(mrs3))\n",
    "#print(mrs3.describe())\n",
    "\n",
    "sns.countplot(mrs3)\n",
    "plt.title(\"MRS_3 - Barplot\")\n",
    "plt.xlabel('MRS_3')\n",
    "plt.ylabel('Number', rotation=0)\n",
    "plt.show()"
   ]
  },
  {
   "cell_type": "markdown",
   "metadata": {},
   "source": [
    "# MRS_6"
   ]
  },
  {
   "cell_type": "code",
   "execution_count": 14,
   "metadata": {},
   "outputs": [
    {
     "name": "stderr",
     "output_type": "stream",
     "text": [
      "<ipython-input-14-8c7feb33bf13>:2: SettingWithCopyWarning: \n",
      "A value is trying to be set on a copy of a slice from a DataFrame\n",
      "\n",
      "See the caveats in the documentation: https://pandas.pydata.org/pandas-docs/stable/user_guide/indexing.html#returning-a-view-versus-a-copy\n",
      "  mrs6[mrs6 == \"５\"] = 5\n",
      "<ipython-input-14-8c7feb33bf13>:3: SettingWithCopyWarning: \n",
      "A value is trying to be set on a copy of a slice from a DataFrame\n",
      "\n",
      "See the caveats in the documentation: https://pandas.pydata.org/pandas-docs/stable/user_guide/indexing.html#returning-a-view-versus-a-copy\n",
      "  mrs6[mrs6 == \"４\"] = 4\n",
      "<ipython-input-14-8c7feb33bf13>:4: SettingWithCopyWarning: \n",
      "A value is trying to be set on a copy of a slice from a DataFrame\n",
      "\n",
      "See the caveats in the documentation: https://pandas.pydata.org/pandas-docs/stable/user_guide/indexing.html#returning-a-view-versus-a-copy\n",
      "  mrs6[mrs6 == str(1)] = float(1)\n",
      "<ipython-input-14-8c7feb33bf13>:5: SettingWithCopyWarning: \n",
      "A value is trying to be set on a copy of a slice from a DataFrame\n",
      "\n",
      "See the caveats in the documentation: https://pandas.pydata.org/pandas-docs/stable/user_guide/indexing.html#returning-a-view-versus-a-copy\n",
      "  mrs6[mrs6 == str(2)] = float(2)\n",
      "<ipython-input-14-8c7feb33bf13>:6: SettingWithCopyWarning: \n",
      "A value is trying to be set on a copy of a slice from a DataFrame\n",
      "\n",
      "See the caveats in the documentation: https://pandas.pydata.org/pandas-docs/stable/user_guide/indexing.html#returning-a-view-versus-a-copy\n",
      "  mrs6[mrs6 == str(3)] = float(3)\n",
      "<ipython-input-14-8c7feb33bf13>:7: SettingWithCopyWarning: \n",
      "A value is trying to be set on a copy of a slice from a DataFrame\n",
      "\n",
      "See the caveats in the documentation: https://pandas.pydata.org/pandas-docs/stable/user_guide/indexing.html#returning-a-view-versus-a-copy\n",
      "  mrs6[mrs6 == str(4)] = float(4)\n",
      "<ipython-input-14-8c7feb33bf13>:8: SettingWithCopyWarning: \n",
      "A value is trying to be set on a copy of a slice from a DataFrame\n",
      "\n",
      "See the caveats in the documentation: https://pandas.pydata.org/pandas-docs/stable/user_guide/indexing.html#returning-a-view-versus-a-copy\n",
      "  mrs6[mrs6 == str(5)] = float(5)\n",
      "<ipython-input-14-8c7feb33bf13>:9: SettingWithCopyWarning: \n",
      "A value is trying to be set on a copy of a slice from a DataFrame\n",
      "\n",
      "See the caveats in the documentation: https://pandas.pydata.org/pandas-docs/stable/user_guide/indexing.html#returning-a-view-versus-a-copy\n",
      "  mrs6[mrs6 == str(6)] = float(6)\n",
      "<ipython-input-14-8c7feb33bf13>:10: SettingWithCopyWarning: \n",
      "A value is trying to be set on a copy of a slice from a DataFrame\n",
      "\n",
      "See the caveats in the documentation: https://pandas.pydata.org/pandas-docs/stable/user_guide/indexing.html#returning-a-view-versus-a-copy\n",
      "  mrs6[(mrs6 != 1.0) & (mrs6 != 2.0) & (mrs6 != 3.0) & (mrs6 != 4.0) & (mrs6 != 5.0) & (mrs6 != 6.0)] = np.nan\n",
      "C:\\Users\\Jacky C\\Anaconda3\\lib\\site-packages\\seaborn\\_decorators.py:36: FutureWarning: Pass the following variable as a keyword arg: x. From version 0.12, the only valid positional argument will be `data`, and passing other arguments without an explicit keyword will result in an error or misinterpretation.\n",
      "  warnings.warn(\n"
     ]
    },
    {
     "name": "stdout",
     "output_type": "stream",
     "text": [
      "1.0    0.162544\n",
      "2.0    0.112912\n",
      "3.0    0.104026\n",
      "4.0    0.090543\n",
      "5.0    0.082960\n",
      "6.0    0.007227\n",
      "Name: MRS_6, dtype: float64\n"
     ]
    },
    {
     "data": {
      "image/png": "[encoded data removed]",
      "text/plain": [
       "<Figure size 432x288 with 1 Axes>"
      ]
     },
     "metadata": {
      "needs_background": "light"
     },
     "output_type": "display_data"
    }
   ],
   "source": [
    "mrs6 = cdr.loc[:,\"MRS_6\"]\n",
    "mrs6[mrs6 == \"５\"] = 5\n",
    "mrs6[mrs6 == \"４\"] = 4\n",
    "mrs6[mrs6 == str(1)] = float(1)\n",
    "mrs6[mrs6 == str(2)] = float(2)\n",
    "mrs6[mrs6 == str(3)] = float(3)\n",
    "mrs6[mrs6 == str(4)] = float(4)\n",
    "mrs6[mrs6 == str(5)] = float(5)\n",
    "mrs6[mrs6 == str(6)] = float(6)\n",
    "mrs6[(mrs6 != 1.0) & (mrs6 != 2.0) & (mrs6 != 3.0) & (mrs6 != 4.0) & (mrs6 != 5.0) & (mrs6 != 6.0)] = np.nan\n",
    "#print(mrs6)\n",
    "print(mrs6.value_counts() / len(mrs6))\n",
    "#print(mrs6.describe())\n",
    "\n",
    "sns.countplot(mrs6)\n",
    "plt.title(\"MRS_6 - Barplot\")\n",
    "plt.xlabel('MRS_6')\n",
    "plt.ylabel('Number', rotation=0)\n",
    "plt.show()"
   ]
  },
  {
   "cell_type": "markdown",
   "metadata": {},
   "source": [
    "# MRS_12"
   ]
  },
  {
   "cell_type": "code",
   "execution_count": 15,
   "metadata": {},
   "outputs": [
    {
     "name": "stdout",
     "output_type": "stream",
     "text": [
      "1.0    0.108659\n",
      "2.0    0.071622\n",
      "3.0    0.061065\n",
      "4.0    0.053778\n",
      "5.0    0.050177\n",
      "6.0    0.008009\n",
      "Name: MRS_12, dtype: float64\n"
     ]
    },
    {
     "name": "stderr",
     "output_type": "stream",
     "text": [
      "<ipython-input-15-ef064fa400f2>:2: SettingWithCopyWarning: \n",
      "A value is trying to be set on a copy of a slice from a DataFrame\n",
      "\n",
      "See the caveats in the documentation: https://pandas.pydata.org/pandas-docs/stable/user_guide/indexing.html#returning-a-view-versus-a-copy\n",
      "  mrs12[mrs12 == str(1)] = float(1)\n",
      "<ipython-input-15-ef064fa400f2>:3: SettingWithCopyWarning: \n",
      "A value is trying to be set on a copy of a slice from a DataFrame\n",
      "\n",
      "See the caveats in the documentation: https://pandas.pydata.org/pandas-docs/stable/user_guide/indexing.html#returning-a-view-versus-a-copy\n",
      "  mrs12[mrs12 == str(2)] = float(2)\n",
      "<ipython-input-15-ef064fa400f2>:4: SettingWithCopyWarning: \n",
      "A value is trying to be set on a copy of a slice from a DataFrame\n",
      "\n",
      "See the caveats in the documentation: https://pandas.pydata.org/pandas-docs/stable/user_guide/indexing.html#returning-a-view-versus-a-copy\n",
      "  mrs12[mrs12 == str(3)] = float(3)\n",
      "<ipython-input-15-ef064fa400f2>:5: SettingWithCopyWarning: \n",
      "A value is trying to be set on a copy of a slice from a DataFrame\n",
      "\n",
      "See the caveats in the documentation: https://pandas.pydata.org/pandas-docs/stable/user_guide/indexing.html#returning-a-view-versus-a-copy\n",
      "  mrs12[mrs12 == str(4)] = float(4)\n",
      "<ipython-input-15-ef064fa400f2>:6: SettingWithCopyWarning: \n",
      "A value is trying to be set on a copy of a slice from a DataFrame\n",
      "\n",
      "See the caveats in the documentation: https://pandas.pydata.org/pandas-docs/stable/user_guide/indexing.html#returning-a-view-versus-a-copy\n",
      "  mrs12[mrs12 == str(5)] = float(5)\n",
      "<ipython-input-15-ef064fa400f2>:7: SettingWithCopyWarning: \n",
      "A value is trying to be set on a copy of a slice from a DataFrame\n",
      "\n",
      "See the caveats in the documentation: https://pandas.pydata.org/pandas-docs/stable/user_guide/indexing.html#returning-a-view-versus-a-copy\n",
      "  mrs12[mrs12 == str(6)] = float(6)\n",
      "<ipython-input-15-ef064fa400f2>:8: SettingWithCopyWarning: \n",
      "A value is trying to be set on a copy of a slice from a DataFrame\n",
      "\n",
      "See the caveats in the documentation: https://pandas.pydata.org/pandas-docs/stable/user_guide/indexing.html#returning-a-view-versus-a-copy\n",
      "  mrs12[(mrs12 != 1.0) & (mrs12 != 2.0) & (mrs12 != 3.0) & (mrs12 != 4.0) & (mrs12 != 5.0) & (mrs12 != 6.0)] = np.nan\n",
      "C:\\Users\\Jacky C\\Anaconda3\\lib\\site-packages\\seaborn\\_decorators.py:36: FutureWarning: Pass the following variable as a keyword arg: x. From version 0.12, the only valid positional argument will be `data`, and passing other arguments without an explicit keyword will result in an error or misinterpretation.\n",
      "  warnings.warn(\n"
     ]
    },
    {
     "data": {
      "image/png": "[encoded data removed]",
      "text/plain": [
       "<Figure size 432x288 with 1 Axes>"
      ]
     },
     "metadata": {
      "needs_background": "light"
     },
     "output_type": "display_data"
    }
   ],
   "source": [
    "mrs12 = cdr.loc[:,\"MRS_12\"]\n",
    "mrs12[mrs12 == str(1)] = float(1)\n",
    "mrs12[mrs12 == str(2)] = float(2)\n",
    "mrs12[mrs12 == str(3)] = float(3)\n",
    "mrs12[mrs12 == str(4)] = float(4)\n",
    "mrs12[mrs12 == str(5)] = float(5)\n",
    "mrs12[mrs12 == str(6)] = float(6)\n",
    "mrs12[(mrs12 != 1.0) & (mrs12 != 2.0) & (mrs12 != 3.0) & (mrs12 != 4.0) & (mrs12 != 5.0) & (mrs12 != 6.0)] = np.nan\n",
    "#print(mrs12)\n",
    "print(mrs12.value_counts() / len(mrs12))\n",
    "#print(mrs12.describe())\n",
    "\n",
    "sns.countplot(mrs12)\n",
    "plt.title(\"MRS_12 - Barplot\")\n",
    "plt.xlabel('MRS_12')\n",
    "plt.ylabel('Number', rotation=0)\n",
    "plt.show()"
   ]
  }
 ],
 "metadata": {
  "kernelspec": {
   "display_name": "Python 3",
   "language": "python",
   "name": "python3"
  },
  "language_info": {
   "codemirror_mode": {
    "name": "ipython",
    "version": 3
   },
   "file_extension": ".py",
   "mimetype": "text/x-python",
   "name": "python",
   "nbconvert_exporter": "python",
   "pygments_lexer": "ipython3",
   "version": "3.8.5"
  }
 },
 "nbformat": 4,
 "nbformat_minor": 4
}
