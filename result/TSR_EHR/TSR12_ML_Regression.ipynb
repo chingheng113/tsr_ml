{
 "cells": [
  {
   "cell_type": "code",
   "execution_count": 1,
   "id": "98b98468",
   "metadata": {},
   "outputs": [],
   "source": [
    "import pandas as pd\n",
    "import os\n",
    "import numpy as np\n",
    "from sklearn.model_selection import cross_val_score\n",
    "from sklearn.svm import LinearSVR\n",
    "from sklearn.ensemble import RandomForestRegressor\n",
    "from xgboost import XGBRegressor\n",
    "from sklearn.model_selection import cross_val_predict\n",
    "from sklearn.metrics import confusion_matrix"
   ]
  },
  {
   "cell_type": "code",
   "execution_count": 2,
   "id": "3006e247",
   "metadata": {},
   "outputs": [
    {
     "data": {
      "text/html": [
       "<div>\n",
       "<style scoped>\n",
       "    .dataframe tbody tr th:only-of-type {\n",
       "        vertical-align: middle;\n",
       "    }\n",
       "\n",
       "    .dataframe tbody tr th {\n",
       "        vertical-align: top;\n",
       "    }\n",
       "\n",
       "    .dataframe thead th {\n",
       "        text-align: right;\n",
       "    }\n",
       "</style>\n",
       "<table border=\"1\" class=\"dataframe\">\n",
       "  <thead>\n",
       "    <tr style=\"text-align: right;\">\n",
       "      <th></th>\n",
       "      <th>height_nm</th>\n",
       "      <th>weight_nm</th>\n",
       "      <th>edu_id</th>\n",
       "      <th>pro_id</th>\n",
       "      <th>opc_id</th>\n",
       "      <th>ih_fl</th>\n",
       "      <th>ivtpamg_nm</th>\n",
       "      <th>hospitalised_time</th>\n",
       "      <th>nivtpa_id</th>\n",
       "      <th>nivtpa1_fl</th>\n",
       "      <th>...</th>\n",
       "      <th>nihs_9_out</th>\n",
       "      <th>nihs_10_out</th>\n",
       "      <th>nihs_11_out</th>\n",
       "      <th>total_out</th>\n",
       "      <th>SexName</th>\n",
       "      <th>Age</th>\n",
       "      <th>mrs_tx_1</th>\n",
       "      <th>mrs_tx_3</th>\n",
       "      <th>mrs_tx_6</th>\n",
       "      <th>mrs_tx_12</th>\n",
       "    </tr>\n",
       "  </thead>\n",
       "  <tbody>\n",
       "    <tr>\n",
       "      <th>0</th>\n",
       "      <td>153.0</td>\n",
       "      <td>62.0</td>\n",
       "      <td>3</td>\n",
       "      <td>1</td>\n",
       "      <td>3</td>\n",
       "      <td>0</td>\n",
       "      <td>0.0</td>\n",
       "      <td>8.000</td>\n",
       "      <td>0</td>\n",
       "      <td>999</td>\n",
       "      <td>...</td>\n",
       "      <td>0</td>\n",
       "      <td>1</td>\n",
       "      <td>0</td>\n",
       "      <td>4</td>\n",
       "      <td>0</td>\n",
       "      <td>67.0</td>\n",
       "      <td>1</td>\n",
       "      <td>1</td>\n",
       "      <td>1</td>\n",
       "      <td>1</td>\n",
       "    </tr>\n",
       "    <tr>\n",
       "      <th>1</th>\n",
       "      <td>152.0</td>\n",
       "      <td>62.0</td>\n",
       "      <td>3</td>\n",
       "      <td>1</td>\n",
       "      <td>2</td>\n",
       "      <td>0</td>\n",
       "      <td>0.0</td>\n",
       "      <td>4.000</td>\n",
       "      <td>0</td>\n",
       "      <td>999</td>\n",
       "      <td>...</td>\n",
       "      <td>0</td>\n",
       "      <td>0</td>\n",
       "      <td>0</td>\n",
       "      <td>1</td>\n",
       "      <td>0</td>\n",
       "      <td>69.0</td>\n",
       "      <td>1</td>\n",
       "      <td>0</td>\n",
       "      <td>0</td>\n",
       "      <td>0</td>\n",
       "    </tr>\n",
       "    <tr>\n",
       "      <th>2</th>\n",
       "      <td>148.0</td>\n",
       "      <td>56.0</td>\n",
       "      <td>2</td>\n",
       "      <td>1</td>\n",
       "      <td>2</td>\n",
       "      <td>0</td>\n",
       "      <td>0.0</td>\n",
       "      <td>5.000</td>\n",
       "      <td>0</td>\n",
       "      <td>999</td>\n",
       "      <td>...</td>\n",
       "      <td>0</td>\n",
       "      <td>0</td>\n",
       "      <td>0</td>\n",
       "      <td>2</td>\n",
       "      <td>0</td>\n",
       "      <td>71.0</td>\n",
       "      <td>0</td>\n",
       "      <td>0</td>\n",
       "      <td>0</td>\n",
       "      <td>0</td>\n",
       "    </tr>\n",
       "    <tr>\n",
       "      <th>3</th>\n",
       "      <td>152.0</td>\n",
       "      <td>56.0</td>\n",
       "      <td>4</td>\n",
       "      <td>1</td>\n",
       "      <td>2</td>\n",
       "      <td>0</td>\n",
       "      <td>0.0</td>\n",
       "      <td>3.000</td>\n",
       "      <td>1</td>\n",
       "      <td>0</td>\n",
       "      <td>...</td>\n",
       "      <td>0</td>\n",
       "      <td>0</td>\n",
       "      <td>0</td>\n",
       "      <td>0</td>\n",
       "      <td>0</td>\n",
       "      <td>71.0</td>\n",
       "      <td>0</td>\n",
       "      <td>0</td>\n",
       "      <td>0</td>\n",
       "      <td>0</td>\n",
       "    </tr>\n",
       "    <tr>\n",
       "      <th>4</th>\n",
       "      <td>170.0</td>\n",
       "      <td>87.8</td>\n",
       "      <td>5</td>\n",
       "      <td>8</td>\n",
       "      <td>3</td>\n",
       "      <td>0</td>\n",
       "      <td>0.0</td>\n",
       "      <td>8.491</td>\n",
       "      <td>0</td>\n",
       "      <td>999</td>\n",
       "      <td>...</td>\n",
       "      <td>0</td>\n",
       "      <td>0</td>\n",
       "      <td>2</td>\n",
       "      <td>2</td>\n",
       "      <td>1</td>\n",
       "      <td>59.0</td>\n",
       "      <td>5</td>\n",
       "      <td>5</td>\n",
       "      <td>5</td>\n",
       "      <td>4</td>\n",
       "    </tr>\n",
       "  </tbody>\n",
       "</table>\n",
       "<p>5 rows × 310 columns</p>\n",
       "</div>"
      ],
      "text/plain": [
       "   height_nm  weight_nm  edu_id  pro_id  opc_id  ih_fl  ivtpamg_nm  \\\n",
       "0      153.0       62.0       3       1       3      0         0.0   \n",
       "1      152.0       62.0       3       1       2      0         0.0   \n",
       "2      148.0       56.0       2       1       2      0         0.0   \n",
       "3      152.0       56.0       4       1       2      0         0.0   \n",
       "4      170.0       87.8       5       8       3      0         0.0   \n",
       "\n",
       "   hospitalised_time  nivtpa_id  nivtpa1_fl  ...  nihs_9_out  nihs_10_out  \\\n",
       "0              8.000          0         999  ...           0            1   \n",
       "1              4.000          0         999  ...           0            0   \n",
       "2              5.000          0         999  ...           0            0   \n",
       "3              3.000          1           0  ...           0            0   \n",
       "4              8.491          0         999  ...           0            0   \n",
       "\n",
       "   nihs_11_out  total_out  SexName   Age  mrs_tx_1  mrs_tx_3  mrs_tx_6  \\\n",
       "0            0          4        0  67.0         1         1         1   \n",
       "1            0          1        0  69.0         1         0         0   \n",
       "2            0          2        0  71.0         0         0         0   \n",
       "3            0          0        0  71.0         0         0         0   \n",
       "4            2          2        1  59.0         5         5         5   \n",
       "\n",
       "   mrs_tx_12  \n",
       "0          1  \n",
       "1          0  \n",
       "2          0  \n",
       "3          0  \n",
       "4          4  \n",
       "\n",
       "[5 rows x 310 columns]"
      ]
     },
     "execution_count": 2,
     "metadata": {},
     "output_type": "execute_result"
    }
   ],
   "source": [
    "csv_path = os.path.join(\"..\", \"..\", \"data\",\"LINKED_DATA\", \"TSR_EHR\", \"TSR_12_CLEANED.csv\")\n",
    "tsr_12 = pd.read_csv(csv_path)\n",
    "tsr_12.head()"
   ]
  },
  {
   "cell_type": "code",
   "execution_count": 3,
   "id": "14e077d6",
   "metadata": {},
   "outputs": [],
   "source": [
    "tsr_12_input = tsr_12.drop([\"mrs_tx_12\"], axis=1)\n",
    "tsr_12_input[tsr_12_input == \"N\"] = 0\n",
    "tsr_12_input[tsr_12_input == \"Y\"] = 1\n",
    "tsr_12_input = tsr_12_input.astype(\"float64\")\n",
    "tsr_12_input = np.array(tsr_12_input.values)\n",
    "\n",
    "tsr_12_input_nomrs = tsr_12.drop([\"mrs_tx_12\", \"mrs_tx_6\", \"mrs_tx_3\", \"mrs_tx_1\"], axis=1)\n",
    "tsr_12_input_nomrs[tsr_12_input_nomrs == \"N\"] = 0\n",
    "tsr_12_input_nomrs[tsr_12_input_nomrs == \"Y\"] = 1\n",
    "tsr_12_input_nomrs = tsr_12_input_nomrs.astype(\"float64\")\n",
    "tsr_12_input_nomrs = np.array(tsr_12_input_nomrs.values)"
   ]
  },
  {
   "cell_type": "markdown",
   "id": "9e108841",
   "metadata": {},
   "source": [
    "# 6 classes"
   ]
  },
  {
   "cell_type": "code",
   "execution_count": 4,
   "id": "35764cee",
   "metadata": {},
   "outputs": [],
   "source": [
    "tsr_12_output = tsr_12.mrs_tx_1\n",
    "tsr_12_output = tsr_12_output.astype(\"float64\")\n",
    "tsr_12_output = np.array(tsr_12_output.values)"
   ]
  },
  {
   "cell_type": "markdown",
   "id": "897a6fcc",
   "metadata": {},
   "source": [
    "## SVM"
   ]
  },
  {
   "cell_type": "code",
   "execution_count": 5,
   "id": "13e8103a",
   "metadata": {},
   "outputs": [
    {
     "name": "stdout",
     "output_type": "stream",
     "text": [
      "[0.97750597 0.95628404 0.97446699 0.92790661 0.964881   0.97956609\n",
      " 0.98262851 0.91944339 0.93719758 0.96678132]\n",
      "Mean of R^2: 0.9586661505309936\n",
      "Std of R^2: 0.021613042221545108\n"
     ]
    }
   ],
   "source": [
    "svr = LinearSVR(epsilon = 0, dual=False, loss = \"squared_epsilon_insensitive\", C = 1, random_state = 19)\n",
    "svr_scores = cross_val_score(svr,tsr_12_input,tsr_12_output,cv = 10, scoring='r2')\n",
    "print(svr_scores)\n",
    "print(\"Mean of R^2:\", svr_scores.mean())\n",
    "print(\"Std of R^2:\", svr_scores.std())"
   ]
  },
  {
   "cell_type": "code",
   "execution_count": 6,
   "id": "c38ad9c7",
   "metadata": {},
   "outputs": [
    {
     "name": "stdout",
     "output_type": "stream",
     "text": [
      "[1.07725649 0.73680547 0.4681583  ... 0.51904241 4.76491759 1.21413784]\n",
      "[1. 1. 0. ... 1. 5. 1.]\n",
      "Accuracy of RF: 0.7922774401144083\n"
     ]
    }
   ],
   "source": [
    "svr.fit(tsr_12_input,tsr_12_output)\n",
    "svr_predict =svr.predict(tsr_12_input)\n",
    "print(svr_predict)\n",
    "svr_predict = np.round(svr_predict)\n",
    "print(svr_predict)\n",
    "print(\"Accuracy of RF:\", (tsr_12_output == svr_predict).sum() / len(svr_predict))"
   ]
  },
  {
   "cell_type": "code",
   "execution_count": 7,
   "id": "875d3ad7",
   "metadata": {},
   "outputs": [
    {
     "data": {
      "text/plain": [
       "array([[  0,   0,   0,   0,   0,   0,   0,   0,   0],\n",
       "       [  0,   0,   0,   0,   0,   0,   0,   0,   0],\n",
       "       [  1,   1, 292,  42,   0,   1,   0,   0,   0],\n",
       "       [  0,   0,   0, 794,  36,   1,   0,   0,   0],\n",
       "       [  0,   0,   0,  27, 395,  24,   0,   0,   0],\n",
       "       [  0,   0,   0,   0,  28, 356,  10,   0,   0],\n",
       "       [  0,   0,   0,   0,   1,  41, 454,  14,   0],\n",
       "       [  0,   0,   0,   0,   0,   0,  30, 248,   1],\n",
       "       [  0,   0,   0,   0,   0,   0,   0,   0,   0]], dtype=int64)"
      ]
     },
     "execution_count": 7,
     "metadata": {},
     "output_type": "execute_result"
    }
   ],
   "source": [
    "svr_pred = cross_val_predict(svr,tsr_12_input,tsr_12_output,cv = 10)\n",
    "svr_pred = np.round(svr_pred)\n",
    "confusion_matrix(tsr_12_output, svr_pred)"
   ]
  },
  {
   "cell_type": "code",
   "execution_count": 8,
   "id": "b4c54b8a",
   "metadata": {},
   "outputs": [
    {
     "data": {
      "text/plain": [
       "array([[294,  42,   0,   1,   0,   0],\n",
       "       [  0, 794,  36,   1,   0,   0],\n",
       "       [  0,  27, 395,  24,   0,   0],\n",
       "       [  0,   0,  28, 356,  10,   0],\n",
       "       [  0,   0,   1,  41, 454,  14],\n",
       "       [  0,   0,   0,   0,  30, 249]], dtype=int64)"
      ]
     },
     "execution_count": 8,
     "metadata": {},
     "output_type": "execute_result"
    }
   ],
   "source": [
    "svr_pred[svr_pred == -1] = 0\n",
    "svr_pred[svr_pred == -2] = 0\n",
    "svr_pred[svr_pred == 6] = 5\n",
    "confusion_matrix(tsr_12_output, svr_pred)"
   ]
  },
  {
   "cell_type": "code",
   "execution_count": 9,
   "id": "cdbd9c45",
   "metadata": {},
   "outputs": [
    {
     "name": "stdout",
     "output_type": "stream",
     "text": [
      "[0.71448973 0.75274534 0.82736483 0.81437323 0.77947162 0.82689984\n",
      " 0.79493208 0.81629587 0.72042847 0.69645312]\n",
      "Mean of R^2: 0.7743454126020682\n",
      "Std of R^2: 0.04733782272086469\n"
     ]
    }
   ],
   "source": [
    "svr1 = LinearSVR(epsilon = 0, dual=False, loss = \"squared_epsilon_insensitive\", C = 1, random_state = 19)\n",
    "svr_scores1 = cross_val_score(svr1,tsr_12_input_nomrs,tsr_12_output,cv = 10, scoring='r2')\n",
    "print(svr_scores1)\n",
    "print(\"Mean of R^2:\", svr_scores1.mean())\n",
    "print(\"Std of R^2:\", svr_scores1.std())"
   ]
  },
  {
   "cell_type": "code",
   "execution_count": 10,
   "id": "e891be3c",
   "metadata": {},
   "outputs": [
    {
     "name": "stdout",
     "output_type": "stream",
     "text": [
      "[1.11183691 0.87118922 0.94313173 ... 1.13251514 4.78957798 1.54101559]\n",
      "[1. 1. 1. ... 1. 5. 2.]\n",
      "Accuracy of RF: 0.5613156953879156\n"
     ]
    }
   ],
   "source": [
    "svr1.fit(tsr_12_input_nomrs,tsr_12_output)\n",
    "svr_predict1 =svr1.predict(tsr_12_input_nomrs)\n",
    "print(svr_predict1)\n",
    "svr_predict1 = np.round(svr_predict1)\n",
    "print(svr_predict1)\n",
    "print(\"Accuracy of RF:\", (tsr_12_output == svr_predict1).sum() / len(svr_predict1))"
   ]
  },
  {
   "cell_type": "code",
   "execution_count": 11,
   "id": "5f9dbf3f",
   "metadata": {},
   "outputs": [
    {
     "data": {
      "text/plain": [
       "array([[  0,   0,   0,   0,   0,   0,   0,   0,   0],\n",
       "       [  0,   0,   0,   0,   0,   0,   0,   0,   0],\n",
       "       [  1,   1,  55, 245,  30,   4,   0,   1,   0],\n",
       "       [  0,   0,  14, 654, 133,  24,   6,   0,   0],\n",
       "       [  0,   0,   1, 169, 193,  76,   7,   0,   0],\n",
       "       [  0,   0,   0,  15,  99, 240,  35,   5,   0],\n",
       "       [  0,   0,   0,   5,  18, 156, 277,  54,   0],\n",
       "       [  0,   0,   0,   1,   6,  14,  79, 174,   5],\n",
       "       [  0,   0,   0,   0,   0,   0,   0,   0,   0]], dtype=int64)"
      ]
     },
     "execution_count": 11,
     "metadata": {},
     "output_type": "execute_result"
    }
   ],
   "source": [
    "svr_pred1 = cross_val_predict(svr1,tsr_12_input_nomrs,tsr_12_output,cv = 10)\n",
    "svr_pred1 = np.round(svr_pred1)\n",
    "confusion_matrix(tsr_12_output, svr_pred1)"
   ]
  },
  {
   "cell_type": "code",
   "execution_count": 12,
   "id": "6e51f6ee",
   "metadata": {},
   "outputs": [
    {
     "data": {
      "text/plain": [
       "array([[ 57, 245,  30,   4,   0,   1,   0],\n",
       "       [ 14, 654, 133,  24,   6,   0,   0],\n",
       "       [  1, 169, 193,  76,   7,   0,   0],\n",
       "       [  0,  15,  99, 240,  35,   5,   0],\n",
       "       [  0,   5,  18, 156, 277,  54,   0],\n",
       "       [  0,   1,   6,  14,  79, 174,   5],\n",
       "       [  0,   0,   0,   0,   0,   0,   0]], dtype=int64)"
      ]
     },
     "execution_count": 12,
     "metadata": {},
     "output_type": "execute_result"
    }
   ],
   "source": [
    "svr_pred1[svr_pred1 == -5] = 0\n",
    "svr_pred1[svr_pred1 == -4] = 0\n",
    "confusion_matrix(tsr_12_output, svr_pred1)"
   ]
  },
  {
   "cell_type": "markdown",
   "id": "c5a9f998",
   "metadata": {},
   "source": [
    "## RF"
   ]
  },
  {
   "cell_type": "code",
   "execution_count": 13,
   "id": "5b4f5fac",
   "metadata": {},
   "outputs": [
    {
     "name": "stdout",
     "output_type": "stream",
     "text": [
      "[0.99995718 0.99966588 0.9999666  0.99991394 0.99951801 0.9999538\n",
      " 0.99990526 0.99996546 0.99998622 0.99988793]\n",
      "Mean of R^2: 0.999872028686078\n",
      "Std of R^2: 0.0001468289738189413\n"
     ]
    }
   ],
   "source": [
    "rfr = RandomForestRegressor(criterion = \"mse\", n_estimators = 15, bootstrap=True, random_state = 19,max_features = 0.8)\n",
    "rfr_scores = cross_val_score(rfr,tsr_12_input,tsr_12_output,cv = 10, scoring='r2')\n",
    "print(rfr_scores)\n",
    "print(\"Mean of R^2:\", rfr_scores.mean())\n",
    "print(\"Std of R^2:\", rfr_scores.std())"
   ]
  },
  {
   "cell_type": "code",
   "execution_count": 14,
   "id": "cb15e2a4",
   "metadata": {},
   "outputs": [
    {
     "name": "stdout",
     "output_type": "stream",
     "text": [
      "[1. 1. 0. ... 0. 5. 1.]\n",
      "[1. 1. 0. ... 0. 5. 1.]\n",
      "Accuracy of RF: 1.0\n"
     ]
    }
   ],
   "source": [
    "rfr.fit(tsr_12_input,tsr_12_output)\n",
    "rfr_predict =rfr.predict(tsr_12_input)\n",
    "print(rfr_predict)\n",
    "rfr_predict = np.round(rfr_predict)\n",
    "print(rfr_predict)\n",
    "print(\"Accuracy of RF:\", (tsr_12_output == rfr_predict).sum() / len(rfr_predict))"
   ]
  },
  {
   "cell_type": "code",
   "execution_count": 15,
   "id": "a4a3d8cb",
   "metadata": {},
   "outputs": [
    {
     "data": {
      "text/plain": [
       "array([[337,   0,   0,   0,   0,   0],\n",
       "       [  0, 831,   0,   0,   0,   0],\n",
       "       [  0,   0, 446,   0,   0,   0],\n",
       "       [  0,   0,   0, 394,   0,   0],\n",
       "       [  0,   0,   0,   0, 510,   0],\n",
       "       [  0,   0,   0,   0,   0, 279]], dtype=int64)"
      ]
     },
     "execution_count": 15,
     "metadata": {},
     "output_type": "execute_result"
    }
   ],
   "source": [
    "rfr_pred = cross_val_predict(rfr,tsr_12_input,tsr_12_output,cv = 10)\n",
    "rfr_pred = np.round(rfr_pred)\n",
    "confusion_matrix(tsr_12_output, rfr_pred)"
   ]
  },
  {
   "cell_type": "code",
   "execution_count": 16,
   "id": "c76191cc",
   "metadata": {},
   "outputs": [
    {
     "name": "stdout",
     "output_type": "stream",
     "text": [
      "[0.7847378  0.81460552 0.86070665 0.81994466 0.78999239 0.83301935\n",
      " 0.83633177 0.86456348 0.77757829 0.78390643]\n",
      "Mean of R^2: 0.8165386343479961\n",
      "Std of R^2: 0.030388623691578846\n"
     ]
    }
   ],
   "source": [
    "rfr1 = RandomForestRegressor(criterion = \"mse\", n_estimators = 15, bootstrap=True, random_state = 19,max_features = 0.8)\n",
    "rfr_scores1 = cross_val_score(rfr1,tsr_12_input_nomrs,tsr_12_output,cv = 10, scoring='r2')\n",
    "print(rfr_scores1)\n",
    "print(\"Mean of R^2:\", rfr_scores1.mean())\n",
    "print(\"Std of R^2:\", rfr_scores1.std())"
   ]
  },
  {
   "cell_type": "code",
   "execution_count": 17,
   "id": "0ff3bc98",
   "metadata": {},
   "outputs": [
    {
     "name": "stdout",
     "output_type": "stream",
     "text": [
      "[0.93333333 0.86666667 0.         ... 0.4        4.86666667 1.2       ]\n",
      "[1. 1. 0. ... 0. 5. 1.]\n",
      "Accuracy of RF: 0.9349302824454773\n"
     ]
    }
   ],
   "source": [
    "rfr1.fit(tsr_12_input_nomrs,tsr_12_output)\n",
    "rfr_predict1 =rfr1.predict(tsr_12_input_nomrs)\n",
    "print(rfr_predict1)\n",
    "rfr_predict1 = np.round(rfr_predict1)\n",
    "print(rfr_predict1)\n",
    "print(\"Accuracy of RF:\", (tsr_12_output == rfr_predict1).sum() / len(rfr_predict1))"
   ]
  },
  {
   "cell_type": "code",
   "execution_count": 18,
   "id": "f05e8dd8",
   "metadata": {},
   "outputs": [
    {
     "data": {
      "text/plain": [
       "array([[209, 107,  14,   6,   0,   1],\n",
       "       [ 44, 593, 156,  34,   4,   0],\n",
       "       [  0, 104, 265,  68,   9,   0],\n",
       "       [  0,  12,  93, 236,  52,   1],\n",
       "       [  0,   6,  17,  95, 364,  28],\n",
       "       [  0,   1,   2,  12,  86, 178]], dtype=int64)"
      ]
     },
     "execution_count": 18,
     "metadata": {},
     "output_type": "execute_result"
    }
   ],
   "source": [
    "rfr_pred1 = cross_val_predict(rfr1,tsr_12_input_nomrs,tsr_12_output,cv = 10)\n",
    "rfr_pred1 = np.round(rfr_pred1)\n",
    "confusion_matrix(tsr_12_output, rfr_pred1)"
   ]
  },
  {
   "cell_type": "markdown",
   "id": "e50f8dc9",
   "metadata": {},
   "source": [
    "## XGBoost"
   ]
  },
  {
   "cell_type": "code",
   "execution_count": 19,
   "id": "9230331f",
   "metadata": {},
   "outputs": [
    {
     "name": "stdout",
     "output_type": "stream",
     "text": [
      "[0.99993885 0.99995166 0.99995083 0.99995068 0.99994955 0.99994612\n",
      " 0.99995135 0.99994278 0.99994875 0.99993334]\n",
      "Mean of R^2: 0.9999463923219803\n",
      "Std of R^2: 5.884427122176203e-06\n"
     ]
    }
   ],
   "source": [
    "xgbr = XGBRegressor(n_estimators  = 15, objective=\"reg:squarederror\", random_state = 19) \n",
    "xgbr_scores = cross_val_score(xgbr,tsr_12_input,tsr_12_output,cv = 10, scoring='r2')\n",
    "print(xgbr_scores)\n",
    "print(\"Mean of R^2:\", xgbr_scores.mean())\n",
    "print(\"Std of R^2:\", xgbr_scores.std())"
   ]
  },
  {
   "cell_type": "code",
   "execution_count": 20,
   "id": "412e3232",
   "metadata": {},
   "outputs": [
    {
     "name": "stdout",
     "output_type": "stream",
     "text": [
      "[9.9760783e-01 9.9760783e-01 2.4193309e-03 ... 2.4193309e-03 4.9781404e+00\n",
      " 9.9760783e-01]\n",
      "[1. 1. 0. ... 0. 5. 1.]\n",
      "Accuracy of RF: 1.0\n"
     ]
    }
   ],
   "source": [
    "xgbr.fit(tsr_12_input,tsr_12_output)\n",
    "xgbr_predict =xgbr.predict(tsr_12_input)\n",
    "print(xgbr_predict)\n",
    "xgbr_predict = np.round(xgbr_predict)\n",
    "print(xgbr_predict)\n",
    "print(\"Accuracy of RF:\", (tsr_12_output == xgbr_predict).sum() / len(xgbr_predict))"
   ]
  },
  {
   "cell_type": "code",
   "execution_count": 21,
   "id": "9390e4f9",
   "metadata": {},
   "outputs": [
    {
     "data": {
      "text/plain": [
       "array([[337,   0,   0,   0,   0,   0],\n",
       "       [  0, 831,   0,   0,   0,   0],\n",
       "       [  0,   0, 446,   0,   0,   0],\n",
       "       [  0,   0,   0, 394,   0,   0],\n",
       "       [  0,   0,   0,   0, 510,   0],\n",
       "       [  0,   0,   0,   0,   0, 279]], dtype=int64)"
      ]
     },
     "execution_count": 21,
     "metadata": {},
     "output_type": "execute_result"
    }
   ],
   "source": [
    "xgbr_pred = cross_val_predict(xgbr,tsr_12_input,tsr_12_output,cv = 10)\n",
    "xgbr_pred = np.round(xgbr_pred)\n",
    "confusion_matrix(tsr_12_output, xgbr_pred)"
   ]
  },
  {
   "cell_type": "code",
   "execution_count": 22,
   "id": "ac74beb9",
   "metadata": {},
   "outputs": [
    {
     "name": "stdout",
     "output_type": "stream",
     "text": [
      "[0.7847378  0.81460552 0.86070665 0.81994466 0.78999239 0.83301935\n",
      " 0.83633177 0.86456348 0.77757829 0.78390643]\n",
      "Mean of R^2: 0.8165386343479961\n",
      "Std of R^2: 0.030388623691578846\n"
     ]
    }
   ],
   "source": [
    "xgbr1 = RandomForestRegressor(criterion = \"mse\", n_estimators = 15, bootstrap=True, random_state = 19,max_features = 0.8)\n",
    "xgbr_scores1 = cross_val_score(xgbr1,tsr_12_input_nomrs,tsr_12_output,cv = 10, scoring='r2')\n",
    "print(xgbr_scores1)\n",
    "print(\"Mean of R^2:\", xgbr_scores1.mean())\n",
    "print(\"Std of R^2:\", xgbr_scores1.std())"
   ]
  },
  {
   "cell_type": "code",
   "execution_count": 23,
   "id": "e48adead",
   "metadata": {},
   "outputs": [
    {
     "name": "stdout",
     "output_type": "stream",
     "text": [
      "[0.93333333 0.86666667 0.         ... 0.4        4.86666667 1.2       ]\n",
      "[1. 1. 0. ... 0. 5. 1.]\n",
      "Accuracy of RF: 0.9349302824454773\n"
     ]
    }
   ],
   "source": [
    "xgbr1.fit(tsr_12_input_nomrs,tsr_12_output)\n",
    "xgbr_predict1 =xgbr1.predict(tsr_12_input_nomrs)\n",
    "print(xgbr_predict1)\n",
    "xgbr_predict1 = np.round(xgbr_predict1)\n",
    "print(xgbr_predict1)\n",
    "print(\"Accuracy of RF:\", (tsr_12_output == xgbr_predict1).sum() / len(xgbr_predict1))"
   ]
  },
  {
   "cell_type": "code",
   "execution_count": 24,
   "id": "1683dbd4",
   "metadata": {},
   "outputs": [
    {
     "data": {
      "text/plain": [
       "array([[209, 107,  14,   6,   0,   1],\n",
       "       [ 44, 593, 156,  34,   4,   0],\n",
       "       [  0, 104, 265,  68,   9,   0],\n",
       "       [  0,  12,  93, 236,  52,   1],\n",
       "       [  0,   6,  17,  95, 364,  28],\n",
       "       [  0,   1,   2,  12,  86, 178]], dtype=int64)"
      ]
     },
     "execution_count": 24,
     "metadata": {},
     "output_type": "execute_result"
    }
   ],
   "source": [
    "xgbr_pred1 = cross_val_predict(xgbr1,tsr_12_input_nomrs,tsr_12_output,cv = 10)\n",
    "xgbr_pred1 = np.round(xgbr_pred1)\n",
    "confusion_matrix(tsr_12_output, xgbr_pred1)"
   ]
  },
  {
   "cell_type": "markdown",
   "id": "00750ad9",
   "metadata": {},
   "source": [
    "# 2 classes"
   ]
  },
  {
   "cell_type": "code",
   "execution_count": 25,
   "id": "39e5bc0b",
   "metadata": {},
   "outputs": [],
   "source": [
    "tsr_12_output[(tsr_12_output == 0)|(tsr_12_output == 1)|(tsr_12_output == 2)] = 0\n",
    "tsr_12_output[(tsr_12_output == 3)|(tsr_12_output == 4)|(tsr_12_output == 5)] = 1"
   ]
  },
  {
   "cell_type": "markdown",
   "id": "77001f0b",
   "metadata": {},
   "source": [
    "## SVM"
   ]
  },
  {
   "cell_type": "code",
   "execution_count": 26,
   "id": "922fc9b2",
   "metadata": {
    "scrolled": true
   },
   "outputs": [
    {
     "name": "stdout",
     "output_type": "stream",
     "text": [
      "[0.74688802 0.80922849 0.82543556 0.78713999 0.83460751 0.83668233\n",
      " 0.82601752 0.78014965 0.76469575 0.75393518]\n",
      "Mean of R^2: 0.7964779995334053\n",
      "Std of R^2: 0.0325221903342801\n"
     ]
    }
   ],
   "source": [
    "svr2 = LinearSVR(epsilon = 0, dual=False, loss = \"squared_epsilon_insensitive\", C = 1, random_state = 19)\n",
    "svr_scores2 = cross_val_score(svr2,tsr_12_input,tsr_12_output,cv = 10, scoring='r2')\n",
    "print(svr_scores2)\n",
    "print(\"Mean of R^2:\", svr_scores2.mean())\n",
    "print(\"Std of R^2:\", svr_scores2.std())"
   ]
  },
  {
   "cell_type": "code",
   "execution_count": 27,
   "id": "443e15a9",
   "metadata": {},
   "outputs": [
    {
     "name": "stdout",
     "output_type": "stream",
     "text": [
      "[-1.27222339e-04 -4.25323644e-02 -1.77274041e-01 ... -1.54786124e-01\n",
      "  1.20158204e+00  2.20727857e-02]\n",
      "[-0. -0. -0. ... -0.  1.  0.]\n",
      "Accuracy of RF: 0.9678226671433678\n"
     ]
    }
   ],
   "source": [
    "svr2.fit(tsr_12_input,tsr_12_output)\n",
    "svr_predict2 =svr2.predict(tsr_12_input)\n",
    "print(svr_predict2)\n",
    "svr_predict2 = np.round(svr_predict2)\n",
    "print(svr_predict2)\n",
    "print(\"Accuracy of RF:\", (tsr_12_output == svr_predict2).sum() / len(svr_predict2))"
   ]
  },
  {
   "cell_type": "code",
   "execution_count": 28,
   "id": "8b7c1c32",
   "metadata": {},
   "outputs": [
    {
     "data": {
      "text/plain": [
       "array([[   0,    0,    0],\n",
       "       [   3, 1576,   35],\n",
       "       [   0,   42, 1141]], dtype=int64)"
      ]
     },
     "execution_count": 28,
     "metadata": {},
     "output_type": "execute_result"
    }
   ],
   "source": [
    "svr_pred2 = cross_val_predict(svr2,tsr_12_input,tsr_12_output,cv = 10)\n",
    "svr_pred2 = np.round(svr_pred2)\n",
    "confusion_matrix(tsr_12_output, svr_pred2)"
   ]
  },
  {
   "cell_type": "code",
   "execution_count": 29,
   "id": "bee4b04d",
   "metadata": {},
   "outputs": [
    {
     "data": {
      "text/plain": [
       "array([[1579,   35],\n",
       "       [  42, 1141]], dtype=int64)"
      ]
     },
     "execution_count": 29,
     "metadata": {},
     "output_type": "execute_result"
    }
   ],
   "source": [
    "svr_pred2[svr_pred2 == -1] = 0\n",
    "confusion_matrix(tsr_12_output, svr_pred2)"
   ]
  },
  {
   "cell_type": "code",
   "execution_count": 30,
   "id": "adb3e300",
   "metadata": {
    "scrolled": true
   },
   "outputs": [
    {
     "name": "stdout",
     "output_type": "stream",
     "text": [
      "[0.60997352 0.64152925 0.73357294 0.68732289 0.70386453 0.77256948\n",
      " 0.69745339 0.69620375 0.64261836 0.58812289]\n",
      "Mean of R^2: 0.6773230997995845\n",
      "Std of R^2: 0.053647301204474515\n"
     ]
    }
   ],
   "source": [
    "svr3 = LinearSVR(epsilon = 0, dual=False, loss = \"squared_epsilon_insensitive\", C = 1, random_state = 19)\n",
    "svr_scores3 = cross_val_score(svr3,tsr_12_input_nomrs,tsr_12_output,cv = 10, scoring='r2')\n",
    "print(svr_scores3)\n",
    "print(\"Mean of R^2:\", svr_scores3.mean())\n",
    "print(\"Std of R^2:\", svr_scores3.std())"
   ]
  },
  {
   "cell_type": "code",
   "execution_count": 31,
   "id": "6d3bc86a",
   "metadata": {},
   "outputs": [
    {
     "name": "stdout",
     "output_type": "stream",
     "text": [
      "[ 0.02395908 -0.01231632  0.01042118 ...  0.072532    1.18530539\n",
      "  0.08558349]\n",
      "[ 0. -0.  0. ...  0.  1.  0.]\n",
      "Accuracy of RF: 0.9095459420808009\n"
     ]
    }
   ],
   "source": [
    "svr3.fit(tsr_12_input_nomrs,tsr_12_output)\n",
    "svr_predict3 =svr3.predict(tsr_12_input_nomrs)\n",
    "print(svr_predict3)\n",
    "svr_predict3 = np.round(svr_predict3)\n",
    "print(svr_predict3)\n",
    "print(\"Accuracy of RF:\", (tsr_12_output == svr_predict3).sum() / len(svr_predict3))"
   ]
  },
  {
   "cell_type": "code",
   "execution_count": 32,
   "id": "c971891d",
   "metadata": {},
   "outputs": [
    {
     "data": {
      "text/plain": [
       "array([[   0,    0,    0],\n",
       "       [   1, 1474,  139],\n",
       "       [   0,  127, 1056]], dtype=int64)"
      ]
     },
     "execution_count": 32,
     "metadata": {},
     "output_type": "execute_result"
    }
   ],
   "source": [
    "svr_pred3 = cross_val_predict(svr3,tsr_12_input_nomrs,tsr_12_output,cv = 10)\n",
    "svr_pred3 = np.round(svr_pred3)\n",
    "confusion_matrix(tsr_12_output, svr_pred3)"
   ]
  },
  {
   "cell_type": "code",
   "execution_count": 33,
   "id": "c00b5b7e",
   "metadata": {},
   "outputs": [
    {
     "data": {
      "text/plain": [
       "array([[1475,  139],\n",
       "       [ 127, 1056]], dtype=int64)"
      ]
     },
     "execution_count": 33,
     "metadata": {},
     "output_type": "execute_result"
    }
   ],
   "source": [
    "svr_pred3[svr_pred3 == -1] = 0\n",
    "confusion_matrix(tsr_12_output, svr_pred3)"
   ]
  },
  {
   "cell_type": "markdown",
   "id": "a7baddb7",
   "metadata": {},
   "source": [
    "## RF"
   ]
  },
  {
   "cell_type": "code",
   "execution_count": 34,
   "id": "f9e5f015",
   "metadata": {},
   "outputs": [
    {
     "name": "stdout",
     "output_type": "stream",
     "text": [
      "[1.         0.99980424 1.         0.99992919 1.         1.\n",
      " 1.         1.         1.         1.        ]\n",
      "Mean of R^2: 0.9999733432645282\n",
      "Std of R^2: 6.019117035794216e-05\n"
     ]
    }
   ],
   "source": [
    "rfr2 = RandomForestRegressor(criterion = \"mse\", n_estimators = 15, bootstrap=True, random_state = 19,max_features = 0.8)\n",
    "rfr_scores2 = cross_val_score(rfr2,tsr_12_input,tsr_12_output,cv = 10, scoring='r2')\n",
    "print(rfr_scores2)\n",
    "print(\"Mean of R^2:\", rfr_scores2.mean())\n",
    "print(\"Std of R^2:\", rfr_scores2.std())"
   ]
  },
  {
   "cell_type": "code",
   "execution_count": 35,
   "id": "e5c00398",
   "metadata": {},
   "outputs": [
    {
     "name": "stdout",
     "output_type": "stream",
     "text": [
      "[0. 0. 0. ... 0. 1. 0.]\n",
      "[0. 0. 0. ... 0. 1. 0.]\n",
      "Accuracy of RF: 1.0\n"
     ]
    }
   ],
   "source": [
    "rfr2.fit(tsr_12_input,tsr_12_output)\n",
    "rfr_predict2 =rfr2.predict(tsr_12_input)\n",
    "print(rfr_predict2)\n",
    "rfr_predict2 = np.round(rfr_predict2)\n",
    "print(rfr_predict2)\n",
    "print(\"Accuracy of RF:\", (tsr_12_output == rfr_predict2).sum() / len(rfr_predict2))"
   ]
  },
  {
   "cell_type": "code",
   "execution_count": 36,
   "id": "71dc4b98",
   "metadata": {},
   "outputs": [
    {
     "data": {
      "text/plain": [
       "array([[1614,    0],\n",
       "       [   0, 1183]], dtype=int64)"
      ]
     },
     "execution_count": 36,
     "metadata": {},
     "output_type": "execute_result"
    }
   ],
   "source": [
    "rf_pred2 = cross_val_predict(rfr2,tsr_12_input,tsr_12_output,cv = 10)\n",
    "rf_pred2 = np.round(rf_pred2)\n",
    "confusion_matrix(tsr_12_output, rf_pred2)"
   ]
  },
  {
   "cell_type": "code",
   "execution_count": 37,
   "id": "dc77b435",
   "metadata": {
    "scrolled": true
   },
   "outputs": [
    {
     "name": "stdout",
     "output_type": "stream",
     "text": [
      "[0.67436952 0.70433759 0.7949208  0.74424277 0.75273339 0.79387526\n",
      " 0.7098545  0.73176183 0.6800626  0.60852235]\n",
      "Mean of R^2: 0.7194680609420423\n",
      "Std of R^2: 0.054146120458681925\n"
     ]
    }
   ],
   "source": [
    "rfr3 = RandomForestRegressor(criterion = \"mse\", n_estimators = 15, bootstrap=True, random_state = 19,max_features = 0.8)\n",
    "rfr_scores3 = cross_val_score(rfr3,tsr_12_input_nomrs,tsr_12_output,cv = 10, scoring='r2')\n",
    "print(rfr_scores3)\n",
    "print(\"Mean of R^2:\", rfr_scores3.mean())\n",
    "print(\"Std of R^2:\", rfr_scores3.std())"
   ]
  },
  {
   "cell_type": "code",
   "execution_count": 38,
   "id": "443e15a9",
   "metadata": {},
   "outputs": [
    {
     "name": "stdout",
     "output_type": "stream",
     "text": [
      "[0.         0.         0.         ... 0.         1.         0.06666667]\n",
      "[0. 0. 0. ... 0. 1. 0.]\n",
      "Accuracy of RF: 0.997139792634966\n"
     ]
    }
   ],
   "source": [
    "rfr3.fit(tsr_12_input_nomrs,tsr_12_output)\n",
    "rfr_predict3 =rfr3.predict(tsr_12_input_nomrs)\n",
    "print(rfr_predict3)\n",
    "rfr_predict3 = np.round(rfr_predict3)\n",
    "print(rfr_predict3)\n",
    "print(\"Accuracy of RF:\", (tsr_12_output == rfr_predict3).sum() / len(rfr_predict3))"
   ]
  },
  {
   "cell_type": "code",
   "execution_count": 39,
   "id": "8b7c1c32",
   "metadata": {},
   "outputs": [
    {
     "data": {
      "text/plain": [
       "array([[1462,  152],\n",
       "       [  93, 1090]], dtype=int64)"
      ]
     },
     "execution_count": 39,
     "metadata": {},
     "output_type": "execute_result"
    }
   ],
   "source": [
    "rfr_pred3 = cross_val_predict(rfr3,tsr_12_input_nomrs,tsr_12_output,cv = 10)\n",
    "rfr_pred3 = np.round(rfr_pred3)\n",
    "confusion_matrix(tsr_12_output, rfr_pred3)"
   ]
  },
  {
   "cell_type": "markdown",
   "id": "c0d1d828",
   "metadata": {},
   "source": [
    "## XGBoost"
   ]
  },
  {
   "cell_type": "code",
   "execution_count": 40,
   "id": "eeb10ecd",
   "metadata": {},
   "outputs": [
    {
     "name": "stdout",
     "output_type": "stream",
     "text": [
      "[0.99997706 0.9999766  0.99997648 0.99997461 0.99997654 0.999977\n",
      " 0.99997628 0.99997644 0.99997609 0.99997706]\n",
      "Mean of R^2: 0.9999764165186296\n",
      "Std of R^2: 6.781968422816103e-07\n"
     ]
    }
   ],
   "source": [
    "xgbr2 = XGBRegressor(n_estimators  = 15, objective=\"reg:squarederror\", random_state = 19) \n",
    "xgbr_scores2 = cross_val_score(xgbr2,tsr_12_input,tsr_12_output,cv = 10, scoring='r2')\n",
    "print(xgbr_scores2)\n",
    "print(\"Mean of R^2:\", xgbr_scores2.mean())\n",
    "print(\"Std of R^2:\", xgbr_scores2.std())"
   ]
  },
  {
   "cell_type": "code",
   "execution_count": 41,
   "id": "96868c26",
   "metadata": {},
   "outputs": [
    {
     "name": "stdout",
     "output_type": "stream",
     "text": [
      "[0.00238325 0.00238325 0.00238325 ... 0.00238325 0.9976133  0.00238325]\n",
      "[0. 0. 0. ... 0. 1. 0.]\n",
      "Accuracy of RF: 1.0\n"
     ]
    }
   ],
   "source": [
    "xgbr2.fit(tsr_12_input,tsr_12_output)\n",
    "xgbr_predict2 =xgbr2.predict(tsr_12_input)\n",
    "print(xgbr_predict2)\n",
    "xgbr_predict2 = np.round(xgbr_predict2)\n",
    "print(xgbr_predict2)\n",
    "print(\"Accuracy of RF:\", (tsr_12_output == xgbr_predict2).sum() / len(xgbr_predict2))"
   ]
  },
  {
   "cell_type": "code",
   "execution_count": 42,
   "id": "5c552aa9",
   "metadata": {},
   "outputs": [
    {
     "data": {
      "text/plain": [
       "array([[1614,    0],\n",
       "       [   0, 1183]], dtype=int64)"
      ]
     },
     "execution_count": 42,
     "metadata": {},
     "output_type": "execute_result"
    }
   ],
   "source": [
    "xgbr_pred2 = cross_val_predict(xgbr2,tsr_12_input,tsr_12_output,cv = 10)\n",
    "xgbr_pred2 = np.round(xgbr_pred2)\n",
    "confusion_matrix(tsr_12_output, xgbr_pred2)"
   ]
  },
  {
   "cell_type": "code",
   "execution_count": 43,
   "id": "922fc9b2",
   "metadata": {
    "scrolled": true
   },
   "outputs": [
    {
     "name": "stdout",
     "output_type": "stream",
     "text": [
      "[0.69106629 0.72264037 0.82978793 0.75276784 0.76755001 0.79607017\n",
      " 0.68396137 0.74830537 0.67251316 0.6428272 ]\n",
      "Mean of R^2: 0.7307489717278237\n",
      "Std of R^2: 0.055833807794982114\n"
     ]
    }
   ],
   "source": [
    "xgbr3 = XGBRegressor(n_estimators  = 15, objective=\"reg:squarederror\", random_state = 19) \n",
    "xgbr_scores3 = cross_val_score(xgbr3,tsr_12_input_nomrs,tsr_12_output,cv = 10, scoring='r2')\n",
    "print(xgbr_scores3)\n",
    "print(\"Mean of R^2:\", xgbr_scores3.mean())\n",
    "print(\"Std of R^2:\", xgbr_scores3.std())"
   ]
  },
  {
   "cell_type": "code",
   "execution_count": 44,
   "id": "443e15a9",
   "metadata": {},
   "outputs": [
    {
     "name": "stdout",
     "output_type": "stream",
     "text": [
      "[0.00315062 0.0029903  0.00510203 ... 0.03138744 0.98297805 0.01206112]\n",
      "[0. 0. 0. ... 0. 1. 0.]\n",
      "Accuracy of RF: 0.9910618519842689\n"
     ]
    }
   ],
   "source": [
    "xgbr3.fit(tsr_12_input_nomrs,tsr_12_output)\n",
    "xgbr_predict3 =xgbr3.predict(tsr_12_input_nomrs)\n",
    "print(xgbr_predict3)\n",
    "xgbr_predict3 = np.round(xgbr_predict3)\n",
    "print(xgbr_predict3)\n",
    "print(\"Accuracy of RF:\", (tsr_12_output == xgbr_predict3).sum() / len(xgbr_predict3))"
   ]
  },
  {
   "cell_type": "code",
   "execution_count": 45,
   "id": "8b7c1c32",
   "metadata": {},
   "outputs": [
    {
     "data": {
      "text/plain": [
       "array([[1472,  142],\n",
       "       [  95, 1088]], dtype=int64)"
      ]
     },
     "execution_count": 45,
     "metadata": {},
     "output_type": "execute_result"
    }
   ],
   "source": [
    "xgbr_pred3 = cross_val_predict(xgbr3,tsr_12_input_nomrs,tsr_12_output,cv = 10)\n",
    "xgbr_pred3 = np.round(xgbr_pred3)\n",
    "confusion_matrix(tsr_12_output, xgbr_pred3)"
   ]
  },
  {
   "cell_type": "markdown",
   "id": "06f91a74",
   "metadata": {},
   "source": [
    "# Summary"
   ]
  },
  {
   "cell_type": "markdown",
   "id": "b12b47bd",
   "metadata": {},
   "source": [
    "## Mean & Std"
   ]
  },
  {
   "cell_type": "code",
   "execution_count": 46,
   "id": "10081ee5",
   "metadata": {},
   "outputs": [],
   "source": [
    "svr_mean = np.array([svr_scores.mean(), svr_scores.std(), svr_scores[0], svr_scores[1], svr_scores[2], svr_scores[3],\n",
    "                     svr_scores[4], svr_scores[5], svr_scores[6], svr_scores[7], svr_scores[8], svr_scores[9]])\n",
    "rfr_mean = np.array([rfr_scores.mean(), rfr_scores.std(), rfr_scores[0], rfr_scores[1], rfr_scores[2], rfr_scores[3],rfr_scores[4], \n",
    "                    rfr_scores[5], rfr_scores[6], rfr_scores[7], rfr_scores[8], rfr_scores[9]])\n",
    "xgbr_mean = np.array([xgbr_scores.mean(), xgbr_scores.std(), xgbr_scores[0], xgbr_scores[1], xgbr_scores[2], xgbr_scores[3],\n",
    "                     xgbr_scores[4], xgbr_scores[5], xgbr_scores[6], xgbr_scores[7], xgbr_scores[8], xgbr_scores[9]])\n",
    "svr_mean2 = np.array([svr_scores2.mean(), svr_scores2.std(), svr_scores2[0], svr_scores2[1], svr_scores2[2], svr_scores2[3],\n",
    "                     svr_scores2[4], svr_scores2[5], svr_scores2[6], svr_scores2[7], svr_scores2[8], svr_scores2[9]])\n",
    "rfr_mean2 = np.array([rfr_scores2.mean(), rfr_scores2.std(), rfr_scores2[0], rfr_scores2[1], rfr_scores2[2], rfr_scores2[3],rfr_scores2[4], \n",
    "                    rfr_scores2[5], rfr_scores2[6], rfr_scores2[7], rfr_scores2[8], rfr_scores2[9]])\n",
    "xgbr_mean2 = np.array([xgbr_scores2.mean(), xgbr_scores2.std(), xgbr_scores2[0], xgbr_scores2[1], xgbr_scores2[2], xgbr_scores2[3],\n",
    "                     xgbr_scores2[4], xgbr_scores2[5], xgbr_scores2[6], xgbr_scores2[7], xgbr_scores2[8], xgbr_scores2[9]])"
   ]
  },
  {
   "cell_type": "code",
   "execution_count": 47,
   "id": "1ff321fe",
   "metadata": {},
   "outputs": [],
   "source": [
    "tsr_12_mean = pd.DataFrame([svr_mean, rfr_mean, xgbr_mean, svr_mean2, rfr_mean2, xgbr_mean2]).T\n",
    "tsr_12_mean.index = [\"Mean\", \"Std\", \"R^2_1\", \"R^2_2\", \"R^2_3\", \"R^2_4\", \"R^2_5\", \"R^2_6\", \"R^2_7\", \"R^2_8\", \"R^2_9\", \"R^2_10\"]\n",
    "tsr_12_mean.columns = [\"svr\", 'rfr', 'xgbr', 'svr2', 'rfr2', 'xgbr2']"
   ]
  },
  {
   "cell_type": "code",
   "execution_count": 48,
   "id": "d858688a",
   "metadata": {},
   "outputs": [],
   "source": [
    "csv_save = os.path.join(\".\", \"tsr_12_mean_regression.csv\")\n",
    "tsr_12_mean.to_csv(csv_save, index = True)"
   ]
  },
  {
   "cell_type": "code",
   "execution_count": null,
   "id": "55879a5c",
   "metadata": {},
   "outputs": [],
   "source": []
  }
 ],
 "metadata": {
  "kernelspec": {
   "display_name": "Python 3",
   "language": "python",
   "name": "python3"
  },
  "language_info": {
   "codemirror_mode": {
    "name": "ipython",
    "version": 3
   },
   "file_extension": ".py",
   "mimetype": "text/x-python",
   "name": "python",
   "nbconvert_exporter": "python",
   "pygments_lexer": "ipython3",
   "version": "3.8.8"
  }
 },
 "nbformat": 4,
 "nbformat_minor": 5
}
