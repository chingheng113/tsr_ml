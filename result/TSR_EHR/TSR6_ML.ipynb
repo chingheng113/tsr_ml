{
 "cells": [
  {
   "cell_type": "code",
   "execution_count": 1,
   "id": "f9015e18",
   "metadata": {},
   "outputs": [],
   "source": [
    "import pandas as pd\n",
    "import os\n",
    "import numpy as np\n",
    "from sklearn.model_selection import cross_val_score\n",
    "from sklearn.calibration import CalibratedClassifierCV\n",
    "from sklearn.svm import LinearSVC\n",
    "from sklearn.ensemble import RandomForestClassifier\n",
    "from xgboost import XGBClassifier\n",
    "from sklearn.model_selection import cross_val_predict\n",
    "from sklearn.metrics import confusion_matrix"
   ]
  },
  {
   "cell_type": "code",
   "execution_count": 2,
   "id": "d496f832",
   "metadata": {
    "scrolled": true
   },
   "outputs": [
    {
     "data": {
      "text/html": [
       "<div>\n",
       "<style scoped>\n",
       "    .dataframe tbody tr th:only-of-type {\n",
       "        vertical-align: middle;\n",
       "    }\n",
       "\n",
       "    .dataframe tbody tr th {\n",
       "        vertical-align: top;\n",
       "    }\n",
       "\n",
       "    .dataframe thead th {\n",
       "        text-align: right;\n",
       "    }\n",
       "</style>\n",
       "<table border=\"1\" class=\"dataframe\">\n",
       "  <thead>\n",
       "    <tr style=\"text-align: right;\">\n",
       "      <th></th>\n",
       "      <th>height_nm</th>\n",
       "      <th>weight_nm</th>\n",
       "      <th>edu_id</th>\n",
       "      <th>pro_id</th>\n",
       "      <th>opc_id</th>\n",
       "      <th>ih_fl</th>\n",
       "      <th>ivtpamg_nm</th>\n",
       "      <th>hospitalised_time</th>\n",
       "      <th>nivtpa_id</th>\n",
       "      <th>nivtpa1_fl</th>\n",
       "      <th>...</th>\n",
       "      <th>nihs_8_out</th>\n",
       "      <th>nihs_9_out</th>\n",
       "      <th>nihs_10_out</th>\n",
       "      <th>nihs_11_out</th>\n",
       "      <th>total_out</th>\n",
       "      <th>SexName</th>\n",
       "      <th>Age</th>\n",
       "      <th>mrs_tx_1</th>\n",
       "      <th>mrs_tx_3</th>\n",
       "      <th>mrs_tx_6</th>\n",
       "    </tr>\n",
       "  </thead>\n",
       "  <tbody>\n",
       "    <tr>\n",
       "      <th>0</th>\n",
       "      <td>153.0</td>\n",
       "      <td>62.0</td>\n",
       "      <td>3</td>\n",
       "      <td>1</td>\n",
       "      <td>3</td>\n",
       "      <td>0</td>\n",
       "      <td>0.0</td>\n",
       "      <td>8.0</td>\n",
       "      <td>0</td>\n",
       "      <td>999</td>\n",
       "      <td>...</td>\n",
       "      <td>1</td>\n",
       "      <td>0</td>\n",
       "      <td>1</td>\n",
       "      <td>0</td>\n",
       "      <td>4</td>\n",
       "      <td>0</td>\n",
       "      <td>67.0</td>\n",
       "      <td>1</td>\n",
       "      <td>1</td>\n",
       "      <td>1</td>\n",
       "    </tr>\n",
       "    <tr>\n",
       "      <th>1</th>\n",
       "      <td>152.0</td>\n",
       "      <td>62.0</td>\n",
       "      <td>3</td>\n",
       "      <td>1</td>\n",
       "      <td>2</td>\n",
       "      <td>0</td>\n",
       "      <td>0.0</td>\n",
       "      <td>4.0</td>\n",
       "      <td>0</td>\n",
       "      <td>999</td>\n",
       "      <td>...</td>\n",
       "      <td>1</td>\n",
       "      <td>0</td>\n",
       "      <td>0</td>\n",
       "      <td>0</td>\n",
       "      <td>1</td>\n",
       "      <td>0</td>\n",
       "      <td>69.0</td>\n",
       "      <td>1</td>\n",
       "      <td>0</td>\n",
       "      <td>0</td>\n",
       "    </tr>\n",
       "    <tr>\n",
       "      <th>2</th>\n",
       "      <td>148.0</td>\n",
       "      <td>56.0</td>\n",
       "      <td>2</td>\n",
       "      <td>1</td>\n",
       "      <td>2</td>\n",
       "      <td>0</td>\n",
       "      <td>0.0</td>\n",
       "      <td>5.0</td>\n",
       "      <td>0</td>\n",
       "      <td>999</td>\n",
       "      <td>...</td>\n",
       "      <td>1</td>\n",
       "      <td>0</td>\n",
       "      <td>0</td>\n",
       "      <td>0</td>\n",
       "      <td>2</td>\n",
       "      <td>0</td>\n",
       "      <td>71.0</td>\n",
       "      <td>0</td>\n",
       "      <td>0</td>\n",
       "      <td>0</td>\n",
       "    </tr>\n",
       "    <tr>\n",
       "      <th>3</th>\n",
       "      <td>152.0</td>\n",
       "      <td>56.0</td>\n",
       "      <td>4</td>\n",
       "      <td>1</td>\n",
       "      <td>2</td>\n",
       "      <td>0</td>\n",
       "      <td>0.0</td>\n",
       "      <td>3.0</td>\n",
       "      <td>1</td>\n",
       "      <td>0</td>\n",
       "      <td>...</td>\n",
       "      <td>0</td>\n",
       "      <td>0</td>\n",
       "      <td>0</td>\n",
       "      <td>0</td>\n",
       "      <td>0</td>\n",
       "      <td>0</td>\n",
       "      <td>71.0</td>\n",
       "      <td>0</td>\n",
       "      <td>0</td>\n",
       "      <td>0</td>\n",
       "    </tr>\n",
       "    <tr>\n",
       "      <th>4</th>\n",
       "      <td>160.0</td>\n",
       "      <td>60.0</td>\n",
       "      <td>2</td>\n",
       "      <td>1</td>\n",
       "      <td>3</td>\n",
       "      <td>0</td>\n",
       "      <td>0.0</td>\n",
       "      <td>4.0</td>\n",
       "      <td>0</td>\n",
       "      <td>999</td>\n",
       "      <td>...</td>\n",
       "      <td>0</td>\n",
       "      <td>0</td>\n",
       "      <td>0</td>\n",
       "      <td>0</td>\n",
       "      <td>4</td>\n",
       "      <td>0</td>\n",
       "      <td>62.0</td>\n",
       "      <td>3</td>\n",
       "      <td>3</td>\n",
       "      <td>3</td>\n",
       "    </tr>\n",
       "  </tbody>\n",
       "</table>\n",
       "<p>5 rows × 309 columns</p>\n",
       "</div>"
      ],
      "text/plain": [
       "   height_nm  weight_nm  edu_id  pro_id  opc_id  ih_fl  ivtpamg_nm  \\\n",
       "0      153.0       62.0       3       1       3      0         0.0   \n",
       "1      152.0       62.0       3       1       2      0         0.0   \n",
       "2      148.0       56.0       2       1       2      0         0.0   \n",
       "3      152.0       56.0       4       1       2      0         0.0   \n",
       "4      160.0       60.0       2       1       3      0         0.0   \n",
       "\n",
       "   hospitalised_time  nivtpa_id  nivtpa1_fl  ...  nihs_8_out  nihs_9_out  \\\n",
       "0                8.0          0         999  ...           1           0   \n",
       "1                4.0          0         999  ...           1           0   \n",
       "2                5.0          0         999  ...           1           0   \n",
       "3                3.0          1           0  ...           0           0   \n",
       "4                4.0          0         999  ...           0           0   \n",
       "\n",
       "   nihs_10_out  nihs_11_out  total_out  SexName   Age  mrs_tx_1  mrs_tx_3  \\\n",
       "0            1            0          4        0  67.0         1         1   \n",
       "1            0            0          1        0  69.0         1         0   \n",
       "2            0            0          2        0  71.0         0         0   \n",
       "3            0            0          0        0  71.0         0         0   \n",
       "4            0            0          4        0  62.0         3         3   \n",
       "\n",
       "   mrs_tx_6  \n",
       "0         1  \n",
       "1         0  \n",
       "2         0  \n",
       "3         0  \n",
       "4         3  \n",
       "\n",
       "[5 rows x 309 columns]"
      ]
     },
     "execution_count": 2,
     "metadata": {},
     "output_type": "execute_result"
    }
   ],
   "source": [
    "csv_path = os.path.join(\"..\", \"..\", \"data\",\"LINKED_DATA\", \"TSR_EHR\", \"TSR_6_CLEANED.csv\")\n",
    "tsr_6 = pd.read_csv(csv_path)\n",
    "tsr_6.head()"
   ]
  },
  {
   "cell_type": "code",
   "execution_count": 3,
   "id": "14e077d6",
   "metadata": {},
   "outputs": [],
   "source": [
    "tsr_6_input = tsr_6.drop([\"mrs_tx_6\"], axis=1)\n",
    "tsr_6_input[tsr_6_input == \"N\"] = 0\n",
    "tsr_6_input[tsr_6_input == \"Y\"] = 1\n",
    "tsr_6_input = tsr_6_input.astype(\"float64\")\n",
    "tsr_6_input = np.array(tsr_6_input.values)\n",
    "\n",
    "tsr_6_input_nomrs = tsr_6.drop([\"mrs_tx_6\", \"mrs_tx_3\", \"mrs_tx_1\"], axis=1)\n",
    "tsr_6_input_nomrs[tsr_6_input_nomrs == \"N\"] = 0\n",
    "tsr_6_input_nomrs[tsr_6_input_nomrs == \"Y\"] = 1\n",
    "tsr_6_input_nomrs = tsr_6_input_nomrs.astype(\"float64\")\n",
    "tsr_6_input_nomrs = np.array(tsr_6_input_nomrs.values)"
   ]
  },
  {
   "cell_type": "markdown",
   "id": "9e108841",
   "metadata": {},
   "source": [
    "# 6 classes"
   ]
  },
  {
   "cell_type": "code",
   "execution_count": 4,
   "id": "35764cee",
   "metadata": {},
   "outputs": [],
   "source": [
    "tsr_6_output = tsr_6.mrs_tx_6\n",
    "tsr_6_output = tsr_6_output.astype(\"float64\")\n",
    "tsr_6_output = np.array(tsr_6_output.values)"
   ]
  },
  {
   "cell_type": "markdown",
   "id": "adc92102",
   "metadata": {},
   "source": [
    "## SVM"
   ]
  },
  {
   "cell_type": "code",
   "execution_count": 5,
   "id": "cb0e08ad",
   "metadata": {},
   "outputs": [
    {
     "name": "stdout",
     "output_type": "stream",
     "text": [
      "[0.51682692 0.56144578 0.58072289 0.56144578 0.54698795 0.57349398\n",
      " 0.59759036 0.62891566 0.62650602 0.47710843]\n",
      "0.5671043790546803 0.04427265406672428\n"
     ]
    }
   ],
   "source": [
    "svc = CalibratedClassifierCV(LinearSVC(penalty = \"l2\", dual=False, loss = \"squared_hinge\", C = 1, multi_class = \"ovr\", \n",
    "                                       random_state = 19)) \n",
    "svc_scores = cross_val_score(svc,tsr_6_input,tsr_6_output,cv = 10,scoring='accuracy')\n",
    "print(svc_scores)\n",
    "print(svc_scores.mean(), svc_scores.std())"
   ]
  },
  {
   "cell_type": "code",
   "execution_count": 6,
   "id": "bc2187d4",
   "metadata": {},
   "outputs": [
    {
     "name": "stdout",
     "output_type": "stream",
     "text": [
      "[[2.62630828e-01 4.36144827e-01 1.79607732e-01 5.90131023e-02\n",
      "  6.10074427e-02 1.59606671e-03]\n",
      " [4.82963580e-01 3.30278037e-01 1.16349493e-01 2.75117104e-02\n",
      "  4.28076717e-02 8.95077371e-05]\n",
      " [4.35502619e-01 3.90729605e-01 9.92472343e-02 2.42406221e-02\n",
      "  5.00859597e-02 1.93960671e-04]\n",
      " ...\n",
      " [1.96591181e-04 5.14861668e-02 8.44364505e-02 7.84446130e-02\n",
      "  3.46359020e-01 4.39077158e-01]\n",
      " [4.47502548e-01 3.57509939e-01 1.15367133e-01 5.27176679e-02\n",
      "  2.68932534e-02 9.45921566e-06]\n",
      " [1.95877948e-01 5.84952461e-01 1.27338808e-01 5.20396461e-02\n",
      "  3.85399454e-02 1.25119145e-03]]\n"
     ]
    }
   ],
   "source": [
    "svc.fit(tsr_6_input,tsr_6_output)\n",
    "svc_predict =svc.predict_proba(tsr_6_input)\n",
    "print(svc_predict)"
   ]
  },
  {
   "cell_type": "code",
   "execution_count": 7,
   "id": "f1fb1d3c",
   "metadata": {},
   "outputs": [
    {
     "data": {
      "text/plain": [
       "array([[480, 197,   1,   6,   1,   2],\n",
       "       [191, 933,  22,  38,  12,   3],\n",
       "       [  8, 406,  28,  81,  42,   6],\n",
       "       [  2, 131,  41, 213, 172,  20],\n",
       "       [  3,  22,   8, 121, 297, 156],\n",
       "       [  1,  12,   1,  18,  73, 403]], dtype=int64)"
      ]
     },
     "execution_count": 7,
     "metadata": {},
     "output_type": "execute_result"
    }
   ],
   "source": [
    "svc_pred = cross_val_predict(svc,tsr_6_input,tsr_6_output,cv = 10)\n",
    "confusion_matrix(tsr_6_output, svc_pred)"
   ]
  },
  {
   "cell_type": "code",
   "execution_count": 8,
   "id": "c71181e0",
   "metadata": {},
   "outputs": [
    {
     "name": "stdout",
     "output_type": "stream",
     "text": [
      "[0.41826923 0.46987952 0.48192771 0.45060241 0.44819277 0.47951807\n",
      " 0.48192771 0.48915663 0.48674699 0.38072289]\n",
      "0.4586943929564411 0.03353015888203472\n"
     ]
    }
   ],
   "source": [
    "svc1 = CalibratedClassifierCV(LinearSVC(penalty = \"l2\", dual=False, loss = \"squared_hinge\", C = 1, multi_class = \"ovr\", \n",
    "                                       random_state = 19)) \n",
    "svc_scores1 = cross_val_score(svc1,tsr_6_input_nomrs,tsr_6_output,cv = 10,scoring='accuracy')\n",
    "print(svc_scores1)\n",
    "print(svc_scores1.mean(), svc_scores1.std())"
   ]
  },
  {
   "cell_type": "code",
   "execution_count": 9,
   "id": "3bc13fff",
   "metadata": {},
   "outputs": [
    {
     "name": "stdout",
     "output_type": "stream",
     "text": [
      "[[0.24917628 0.40797357 0.17433398 0.06990812 0.07102823 0.02757982]\n",
      " [0.32759771 0.37114698 0.15689171 0.05004688 0.08238716 0.01192955]\n",
      " [0.24366189 0.43176777 0.14583386 0.05374681 0.10052211 0.02446756]\n",
      " ...\n",
      " [0.01396494 0.06286017 0.11007298 0.10818105 0.36008193 0.34483893]\n",
      " [0.13830491 0.40890712 0.2218385  0.14608549 0.07497908 0.00988491]\n",
      " [0.33674387 0.48128917 0.09533672 0.03949874 0.03237625 0.01475526]]\n"
     ]
    }
   ],
   "source": [
    "svc1.fit(tsr_6_input_nomrs,tsr_6_output)\n",
    "svc_predict1 =svc1.predict_proba(tsr_6_input_nomrs)\n",
    "print(svc_predict1)"
   ]
  },
  {
   "cell_type": "code",
   "execution_count": 10,
   "id": "52f37031",
   "metadata": {},
   "outputs": [
    {
     "data": {
      "text/plain": [
       "array([[480, 197,   1,   6,   1,   2],\n",
       "       [191, 933,  22,  38,  12,   3],\n",
       "       [  8, 406,  28,  81,  42,   6],\n",
       "       [  2, 131,  41, 213, 172,  20],\n",
       "       [  3,  22,   8, 121, 297, 156],\n",
       "       [  1,  12,   1,  18,  73, 403]], dtype=int64)"
      ]
     },
     "execution_count": 10,
     "metadata": {},
     "output_type": "execute_result"
    }
   ],
   "source": [
    "svc_pred1 = cross_val_predict(svc,tsr_6_input,tsr_6_output,cv = 10)\n",
    "confusion_matrix(tsr_6_output, svc_pred1)"
   ]
  },
  {
   "cell_type": "markdown",
   "id": "099fb906",
   "metadata": {},
   "source": [
    "## RF"
   ]
  },
  {
   "cell_type": "code",
   "execution_count": 11,
   "id": "471e0ef2",
   "metadata": {},
   "outputs": [
    {
     "name": "stdout",
     "output_type": "stream",
     "text": [
      "[0.83894231 0.77831325 0.78313253 0.80240964 0.75421687 0.81927711\n",
      " 0.84578313 0.86506024 0.87710843 0.77831325]\n",
      "0.8142556765523633 0.039316092051628566\n"
     ]
    }
   ],
   "source": [
    "rf = CalibratedClassifierCV(RandomForestClassifier(criterion = \"gini\", n_estimators = 15, bootstrap=True, random_state = 19,\n",
    "                                                  max_features = 0.8)) \n",
    "rf_scores = cross_val_score(rf,tsr_6_input,tsr_6_output,cv = 10,scoring='accuracy')\n",
    "print(rf_scores)\n",
    "print(rf_scores.mean(), rf_scores.std())"
   ]
  },
  {
   "cell_type": "code",
   "execution_count": 12,
   "id": "9a1ca6e6",
   "metadata": {},
   "outputs": [
    {
     "name": "stdout",
     "output_type": "stream",
     "text": [
      "[[0.04000209 0.86645474 0.03114201 0.02557868 0.021572   0.01525048]\n",
      " [0.8675884  0.04180575 0.03009286 0.02481917 0.02092116 0.01477265]\n",
      " [0.85046666 0.05834707 0.03030459 0.0249512  0.02107068 0.0148598 ]\n",
      " ...\n",
      " [0.03266449 0.0457411  0.03321087 0.02754244 0.56290207 0.29793904]\n",
      " [0.83803154 0.07077873 0.03029367 0.02496977 0.021071   0.01485528]\n",
      " [0.08984111 0.80060191 0.03994975 0.03064247 0.02282925 0.01613552]]\n"
     ]
    }
   ],
   "source": [
    "rf.fit(tsr_6_input,tsr_6_output)\n",
    "rf_predict =rf.predict_proba(tsr_6_input)\n",
    "print(rf_predict)"
   ]
  },
  {
   "cell_type": "code",
   "execution_count": 13,
   "id": "7b77dedd",
   "metadata": {},
   "outputs": [
    {
     "data": {
      "text/plain": [
       "array([[523, 133,  23,   5,   1,   2],\n",
       "       [ 59, 983, 129,  24,   2,   2],\n",
       "       [  4,  46, 428,  80,  11,   2],\n",
       "       [  1,   6,  15, 465,  87,   5],\n",
       "       [  3,   3,   9,  23, 537,  32],\n",
       "       [  1,   5,   5,   5,  48, 444]], dtype=int64)"
      ]
     },
     "execution_count": 13,
     "metadata": {},
     "output_type": "execute_result"
    }
   ],
   "source": [
    "rf_pred = cross_val_predict(rf,tsr_6_input,tsr_6_output,cv = 10)\n",
    "confusion_matrix(tsr_6_output, rf_pred)"
   ]
  },
  {
   "cell_type": "code",
   "execution_count": 14,
   "id": "d2cd5104",
   "metadata": {},
   "outputs": [
    {
     "name": "stdout",
     "output_type": "stream",
     "text": [
      "[0.54567308 0.52771084 0.5253012  0.47951807 0.50120482 0.54457831\n",
      " 0.54698795 0.57349398 0.54939759 0.49638554]\n",
      "0.529025139017609 0.027459224541674414\n"
     ]
    }
   ],
   "source": [
    "rf1 = CalibratedClassifierCV(RandomForestClassifier(criterion = \"gini\", n_estimators = 15, bootstrap=True, random_state = 19,\n",
    "                                                  max_features = 0.8)) \n",
    "rf_scores1 = cross_val_score(rf1,tsr_6_input_nomrs,tsr_6_output,cv = 10,scoring='accuracy')\n",
    "print(rf_scores1)\n",
    "print(rf_scores1.mean(), rf_scores1.std())"
   ]
  },
  {
   "cell_type": "code",
   "execution_count": 15,
   "id": "38a4e1a6",
   "metadata": {},
   "outputs": [
    {
     "name": "stdout",
     "output_type": "stream",
     "text": [
      "[[0.07728163 0.74656812 0.06191197 0.04787064 0.04120978 0.02515784]\n",
      " [0.57465898 0.24627601 0.06232256 0.05131628 0.0406614  0.02476477]\n",
      " [0.68114596 0.1454417  0.05660159 0.04628846 0.03987006 0.03065223]\n",
      " ...\n",
      " [0.04903728 0.08993016 0.06395325 0.05959659 0.51558801 0.22189472]\n",
      " [0.54273872 0.22343855 0.11604724 0.04970156 0.04234806 0.02572587]\n",
      " [0.10491886 0.65762199 0.09732522 0.06482629 0.0483315  0.02697615]]\n"
     ]
    }
   ],
   "source": [
    "rf1.fit(tsr_6_input_nomrs,tsr_6_output)\n",
    "rf_predict1 =rf1.predict_proba(tsr_6_input_nomrs)\n",
    "print(rf_predict1)"
   ]
  },
  {
   "cell_type": "code",
   "execution_count": 16,
   "id": "e84189c6",
   "metadata": {},
   "outputs": [
    {
     "data": {
      "text/plain": [
       "array([[523, 133,  23,   5,   1,   2],\n",
       "       [ 59, 983, 129,  24,   2,   2],\n",
       "       [  4,  46, 428,  80,  11,   2],\n",
       "       [  1,   6,  15, 465,  87,   5],\n",
       "       [  3,   3,   9,  23, 537,  32],\n",
       "       [  1,   5,   5,   5,  48, 444]], dtype=int64)"
      ]
     },
     "execution_count": 16,
     "metadata": {},
     "output_type": "execute_result"
    }
   ],
   "source": [
    "rf_pred1 = cross_val_predict(rf1,tsr_6_input,tsr_6_output,cv = 10)\n",
    "confusion_matrix(tsr_6_output, rf_pred1)"
   ]
  },
  {
   "cell_type": "markdown",
   "id": "e7a6a401",
   "metadata": {},
   "source": [
    "## XGBoost"
   ]
  },
  {
   "cell_type": "code",
   "execution_count": 17,
   "id": "f19e65e4",
   "metadata": {},
   "outputs": [
    {
     "name": "stdout",
     "output_type": "stream",
     "text": [
      "[0.84375    0.77590361 0.79036145 0.78554217 0.75662651 0.8313253\n",
      " 0.85783133 0.86746988 0.8746988  0.77831325]\n",
      "0.8161822289156626 0.04121576140668579\n"
     ]
    }
   ],
   "source": [
    "xgb = CalibratedClassifierCV(XGBClassifier(booster = \"gbtree\", objective=\"multi:softprob\", eval_metric = \"auc\", \n",
    "                                            use_label_encoder = False, random_state = 19)) \n",
    "xgb_scores = cross_val_score(xgb,tsr_6_input,tsr_6_output,cv = 10)\n",
    "print(xgb_scores)\n",
    "print(xgb_scores.mean(), xgb_scores.std())"
   ]
  },
  {
   "cell_type": "code",
   "execution_count": 18,
   "id": "fdfa2378",
   "metadata": {},
   "outputs": [
    {
     "name": "stdout",
     "output_type": "stream",
     "text": [
      "[[0.04512145 0.84098348 0.04130014 0.03170251 0.02317658 0.01771583]\n",
      " [0.83629073 0.0563939  0.03875986 0.02994878 0.02192818 0.01667855]\n",
      " [0.83547843 0.0570138  0.03889254 0.02997052 0.0219563  0.01668841]\n",
      " ...\n",
      " [0.04092791 0.05704307 0.04076101 0.03114246 0.64629912 0.18382643]\n",
      " [0.83733321 0.05547512 0.03871359 0.02991198 0.02190423 0.01666188]\n",
      " [0.04371344 0.84093849 0.04258106 0.03183324 0.02319587 0.0177379 ]]\n"
     ]
    }
   ],
   "source": [
    "xgb.fit(tsr_6_input,tsr_6_output)\n",
    "xgb_predict =xgb.predict_proba(tsr_6_input)\n",
    "print(xgb_predict)"
   ]
  },
  {
   "cell_type": "code",
   "execution_count": 19,
   "id": "a45f3fc9",
   "metadata": {},
   "outputs": [
    {
     "data": {
      "text/plain": [
       "array([[528, 130,  22,   4,   1,   2],\n",
       "       [ 57, 988, 126,  24,   2,   2],\n",
       "       [  4,  46, 428,  80,  11,   2],\n",
       "       [  1,   7,  14, 467,  85,   5],\n",
       "       [  3,   3,   9,  26, 533,  33],\n",
       "       [  1,   4,   6,   6,  47, 444]], dtype=int64)"
      ]
     },
     "execution_count": 19,
     "metadata": {},
     "output_type": "execute_result"
    }
   ],
   "source": [
    "xgb_pred = cross_val_predict(xgb,tsr_6_input,tsr_6_output,cv = 10)\n",
    "confusion_matrix(tsr_6_output, xgb_pred)"
   ]
  },
  {
   "cell_type": "code",
   "execution_count": 20,
   "id": "c578b786",
   "metadata": {},
   "outputs": [
    {
     "name": "stdout",
     "output_type": "stream",
     "text": [
      "[0.55769231 0.51325301 0.49879518 0.45783133 0.46746988 0.54216867\n",
      " 0.53975904 0.5373494  0.55180723 0.45783133]\n",
      "0.5123957367933272 0.03744529465468969\n"
     ]
    }
   ],
   "source": [
    "xgb1 = CalibratedClassifierCV(XGBClassifier(booster = \"gbtree\", objective=\"multi:softprob\", eval_metric = \"auc\", \n",
    "                                            use_label_encoder = False, random_state = 19)) \n",
    "xgb_scores1 = cross_val_score(xgb1,tsr_6_input_nomrs,tsr_6_output,cv = 10)\n",
    "print(xgb_scores1)\n",
    "print(xgb_scores1.mean(), xgb_scores1.std())"
   ]
  },
  {
   "cell_type": "code",
   "execution_count": 21,
   "id": "f3a76612",
   "metadata": {},
   "outputs": [
    {
     "name": "stdout",
     "output_type": "stream",
     "text": [
      "[[0.12025963 0.6174519  0.09060211 0.07298136 0.06138691 0.03731809]\n",
      " [0.58102131 0.17824582 0.08284752 0.06721667 0.05655691 0.03411177]\n",
      " [0.61201422 0.15046757 0.0817671  0.06619166 0.0558391  0.03372034]\n",
      " ...\n",
      " [0.06770862 0.09848145 0.08031112 0.06551596 0.52392851 0.16405434]\n",
      " [0.55172081 0.14411421 0.1418541  0.07025728 0.05743581 0.03461779]\n",
      " [0.11449874 0.59234981 0.11380467 0.07778259 0.06327538 0.03828881]]\n"
     ]
    }
   ],
   "source": [
    "xgb1.fit(tsr_6_input_nomrs,tsr_6_output)\n",
    "xgb_predict1 =xgb1.predict_proba(tsr_6_input_nomrs)\n",
    "print(xgb_predict1)"
   ]
  },
  {
   "cell_type": "code",
   "execution_count": 22,
   "id": "e915733a",
   "metadata": {},
   "outputs": [
    {
     "data": {
      "text/plain": [
       "array([[528, 130,  22,   4,   1,   2],\n",
       "       [ 57, 988, 126,  24,   2,   2],\n",
       "       [  4,  46, 428,  80,  11,   2],\n",
       "       [  1,   7,  14, 467,  85,   5],\n",
       "       [  3,   3,   9,  26, 533,  33],\n",
       "       [  1,   4,   6,   6,  47, 444]], dtype=int64)"
      ]
     },
     "execution_count": 22,
     "metadata": {},
     "output_type": "execute_result"
    }
   ],
   "source": [
    "xgb_pred1 = cross_val_predict(xgb1,tsr_6_input,tsr_6_output,cv = 10)\n",
    "confusion_matrix(tsr_6_output, xgb_pred1)"
   ]
  },
  {
   "cell_type": "markdown",
   "id": "33a66699",
   "metadata": {},
   "source": [
    "# 2 classes"
   ]
  },
  {
   "cell_type": "code",
   "execution_count": 23,
   "id": "d39c2285",
   "metadata": {},
   "outputs": [],
   "source": [
    "tsr_6_output[(tsr_6_output == 0)|(tsr_6_output == 1)|(tsr_6_output == 2)] = 0\n",
    "tsr_6_output[(tsr_6_output == 3)|(tsr_6_output == 4)|(tsr_6_output == 5)] = 1"
   ]
  },
  {
   "cell_type": "markdown",
   "id": "3c2a3c37",
   "metadata": {},
   "source": [
    "## SVM"
   ]
  },
  {
   "cell_type": "code",
   "execution_count": 24,
   "id": "86b435bd",
   "metadata": {},
   "outputs": [
    {
     "name": "stdout",
     "output_type": "stream",
     "text": [
      "[0.90384615 0.9373494  0.95180723 0.95421687 0.9373494  0.95421687\n",
      " 0.95421687 0.95421687 0.94457831 0.92289157]\n",
      "0.941468952734013 0.016003503213462875\n"
     ]
    }
   ],
   "source": [
    "svc2 = CalibratedClassifierCV(LinearSVC(penalty = \"l2\", dual=False, loss = \"squared_hinge\", C = 1, multi_class = \"ovr\", \n",
    "                                       random_state = 19)) \n",
    "svc_scores2 = cross_val_score(svc2,tsr_6_input,tsr_6_output,cv = 10,scoring='accuracy')\n",
    "print(svc_scores2)\n",
    "print(svc_scores2.mean(), svc_scores2.std())"
   ]
  },
  {
   "cell_type": "code",
   "execution_count": 25,
   "id": "7a77c18b",
   "metadata": {
    "scrolled": true
   },
   "outputs": [
    {
     "name": "stdout",
     "output_type": "stream",
     "text": [
      "[[9.91738275e-01 8.26172474e-03]\n",
      " [9.99194398e-01 8.05601774e-04]\n",
      " [9.98234342e-01 1.76565816e-03]\n",
      " ...\n",
      " [1.42816728e-03 9.98571833e-01]\n",
      " [9.99878052e-01 1.21948397e-04]\n",
      " [9.94883991e-01 5.11600858e-03]]\n"
     ]
    }
   ],
   "source": [
    "svc2.fit(tsr_6_input,tsr_6_output)\n",
    "svc_predict2 =svc2.predict_proba(tsr_6_input)\n",
    "print(svc_predict2)"
   ]
  },
  {
   "cell_type": "code",
   "execution_count": 26,
   "id": "99ea5c1d",
   "metadata": {},
   "outputs": [
    {
     "data": {
      "text/plain": [
       "array([[2327,  130],\n",
       "       [ 113, 1581]], dtype=int64)"
      ]
     },
     "execution_count": 26,
     "metadata": {},
     "output_type": "execute_result"
    }
   ],
   "source": [
    "svc_pred2 = cross_val_predict(svc2,tsr_6_input,tsr_6_output,cv = 10)\n",
    "confusion_matrix(tsr_6_output, svc_pred2)"
   ]
  },
  {
   "cell_type": "code",
   "execution_count": 27,
   "id": "0ff1e9c0",
   "metadata": {},
   "outputs": [
    {
     "name": "stdout",
     "output_type": "stream",
     "text": [
      "[0.82932692 0.87951807 0.8939759  0.88674699 0.87951807 0.88915663\n",
      " 0.8313253  0.83855422 0.85301205 0.82650602]\n",
      "0.8607640176088971 0.026209961518877074\n"
     ]
    }
   ],
   "source": [
    "svc3 = CalibratedClassifierCV(LinearSVC(penalty = \"l2\", dual=False, loss = \"squared_hinge\", C = 1, multi_class = \"ovr\", \n",
    "                                       random_state = 19)) \n",
    "svc_scores3 = cross_val_score(svc3,tsr_6_input_nomrs,tsr_6_output,cv = 10,scoring='accuracy')\n",
    "print(svc_scores3)\n",
    "print(svc_scores3.mean(), svc_scores3.std())"
   ]
  },
  {
   "cell_type": "code",
   "execution_count": 28,
   "id": "451f7a6b",
   "metadata": {},
   "outputs": [
    {
     "name": "stdout",
     "output_type": "stream",
     "text": [
      "[[0.94668835 0.05331165]\n",
      " [0.96648344 0.03351656]\n",
      " [0.94636012 0.05363988]\n",
      " ...\n",
      " [0.01299893 0.98700107]\n",
      " [0.95043305 0.04956695]\n",
      " [0.98923322 0.01076678]]\n"
     ]
    }
   ],
   "source": [
    "svc3.fit(tsr_6_input_nomrs,tsr_6_output)\n",
    "svc_predict3 =svc3.predict_proba(tsr_6_input_nomrs)\n",
    "print(svc_predict3)"
   ]
  },
  {
   "cell_type": "code",
   "execution_count": 29,
   "id": "86ec096c",
   "metadata": {},
   "outputs": [
    {
     "data": {
      "text/plain": [
       "array([[2327,  130],\n",
       "       [ 113, 1581]], dtype=int64)"
      ]
     },
     "execution_count": 29,
     "metadata": {},
     "output_type": "execute_result"
    }
   ],
   "source": [
    "svc_pred3 = cross_val_predict(svc3,tsr_6_input,tsr_6_output,cv = 10)\n",
    "confusion_matrix(tsr_6_output, svc_pred3)"
   ]
  },
  {
   "cell_type": "markdown",
   "id": "1f0fea88",
   "metadata": {},
   "source": [
    "## RF"
   ]
  },
  {
   "cell_type": "code",
   "execution_count": 30,
   "id": "33c60392",
   "metadata": {},
   "outputs": [
    {
     "name": "stdout",
     "output_type": "stream",
     "text": [
      "[0.92307692 0.94939759 0.9686747  0.97108434 0.93975904 0.95903614\n",
      " 0.96144578 0.97108434 0.95421687 0.94698795]\n",
      "0.9544763670064874 0.014515746268267491\n"
     ]
    }
   ],
   "source": [
    "rf2 = CalibratedClassifierCV(RandomForestClassifier(criterion = \"gini\", n_estimators = 15, bootstrap=True, random_state = 19,\n",
    "                                                  max_features = 0.8)) \n",
    "rf_scores2 = cross_val_score(rf2,tsr_6_input,tsr_6_output,cv = 10,scoring='accuracy')\n",
    "print(rf_scores2)\n",
    "print(rf_scores2.mean(), rf_scores2.std())"
   ]
  },
  {
   "cell_type": "code",
   "execution_count": 31,
   "id": "e4c13aab",
   "metadata": {},
   "outputs": [
    {
     "name": "stdout",
     "output_type": "stream",
     "text": [
      "[[0.97970288 0.02029712]\n",
      " [0.97970288 0.02029712]\n",
      " [0.97970288 0.02029712]\n",
      " ...\n",
      " [0.03411972 0.96588028]\n",
      " [0.97692192 0.02307808]\n",
      " [0.97557557 0.02442443]]\n"
     ]
    }
   ],
   "source": [
    "rf2.fit(tsr_6_input,tsr_6_output)\n",
    "rf_predict2 =rf2.predict_proba(tsr_6_input)\n",
    "print(rf_predict2)"
   ]
  },
  {
   "cell_type": "code",
   "execution_count": 32,
   "id": "64610f76",
   "metadata": {},
   "outputs": [
    {
     "data": {
      "text/plain": [
       "array([[2326,  131],\n",
       "       [  58, 1636]], dtype=int64)"
      ]
     },
     "execution_count": 32,
     "metadata": {},
     "output_type": "execute_result"
    }
   ],
   "source": [
    "rf_pred2 = cross_val_predict(rf2,tsr_6_input,tsr_6_output,cv = 10)\n",
    "confusion_matrix(tsr_6_output, rf_pred2)"
   ]
  },
  {
   "cell_type": "code",
   "execution_count": 33,
   "id": "efb0f3bf",
   "metadata": {},
   "outputs": [
    {
     "name": "stdout",
     "output_type": "stream",
     "text": [
      "[0.81730769 0.87228916 0.89156627 0.88192771 0.8746988  0.88674699\n",
      " 0.83614458 0.82650602 0.85301205 0.83855422]\n",
      "0.8578753475440222 0.02556737220238637\n"
     ]
    }
   ],
   "source": [
    "rf3 = CalibratedClassifierCV(RandomForestClassifier(criterion = \"gini\", n_estimators = 15, bootstrap=True, random_state = 19,\n",
    "                                                  max_features = 0.8))  \n",
    "rf_scores3 = cross_val_score(rf3,tsr_6_input_nomrs,tsr_6_output,cv = 10,scoring='accuracy')\n",
    "print(rf_scores3)\n",
    "print(rf_scores3.mean(), rf_scores3.std())"
   ]
  },
  {
   "cell_type": "code",
   "execution_count": 34,
   "id": "351dd990",
   "metadata": {},
   "outputs": [
    {
     "name": "stdout",
     "output_type": "stream",
     "text": [
      "[[0.9151256  0.0848744 ]\n",
      " [0.94686082 0.05313918]\n",
      " [0.95137321 0.04862679]\n",
      " ...\n",
      " [0.12080764 0.87919236]\n",
      " [0.94791324 0.05208676]\n",
      " [0.93967523 0.06032477]]\n"
     ]
    }
   ],
   "source": [
    "rf3.fit(tsr_6_input_nomrs,tsr_6_output)\n",
    "rf_predict3 =rf3.predict_proba(tsr_6_input_nomrs)\n",
    "print(rf_predict3)"
   ]
  },
  {
   "cell_type": "code",
   "execution_count": 35,
   "id": "8723f94d",
   "metadata": {},
   "outputs": [
    {
     "data": {
      "text/plain": [
       "array([[2326,  131],\n",
       "       [  58, 1636]], dtype=int64)"
      ]
     },
     "execution_count": 35,
     "metadata": {},
     "output_type": "execute_result"
    }
   ],
   "source": [
    "rf_pred3 = cross_val_predict(rf3,tsr_6_input,tsr_6_output,cv = 10)\n",
    "confusion_matrix(tsr_6_output, rf_pred3)"
   ]
  },
  {
   "cell_type": "markdown",
   "id": "2d347b54",
   "metadata": {},
   "source": [
    "## XGBoost"
   ]
  },
  {
   "cell_type": "code",
   "execution_count": 36,
   "id": "b0ed11ae",
   "metadata": {},
   "outputs": [
    {
     "name": "stdout",
     "output_type": "stream",
     "text": [
      "[0.92548077 0.94939759 0.9686747  0.9686747  0.93975904 0.96385542\n",
      " 0.96144578 0.96626506 0.95180723 0.94457831]\n",
      "0.953993860055607 0.01365505069244317\n"
     ]
    }
   ],
   "source": [
    "xgb2 = CalibratedClassifierCV(XGBClassifier(booster = \"gbtree\", objective=\"binary:logistic\", eval_metric = \"auc\", \n",
    "                                            use_label_encoder = False, random_state = 19))\n",
    "xgb_scores2 = cross_val_score(xgb2,tsr_6_input,tsr_6_output,cv = 10)\n",
    "print(xgb_scores2)\n",
    "print(xgb_scores2.mean(), xgb_scores2.std())"
   ]
  },
  {
   "cell_type": "code",
   "execution_count": 37,
   "id": "aef4b6f7",
   "metadata": {},
   "outputs": [
    {
     "name": "stdout",
     "output_type": "stream",
     "text": [
      "[[0.97595077 0.02404923]\n",
      " [0.97589151 0.02410849]\n",
      " [0.97584418 0.02415582]\n",
      " ...\n",
      " [0.05836251 0.94163749]\n",
      " [0.97595456 0.02404544]\n",
      " [0.97588442 0.02411558]]\n"
     ]
    }
   ],
   "source": [
    "xgb2.fit(tsr_6_input,tsr_6_output)\n",
    "xgb_predict2 =xgb2.predict_proba(tsr_6_input)\n",
    "print(xgb_predict2)"
   ]
  },
  {
   "cell_type": "code",
   "execution_count": 38,
   "id": "aa662e39",
   "metadata": {},
   "outputs": [
    {
     "data": {
      "text/plain": [
       "array([[2331,  126],\n",
       "       [  65, 1629]], dtype=int64)"
      ]
     },
     "execution_count": 38,
     "metadata": {},
     "output_type": "execute_result"
    }
   ],
   "source": [
    "xgb_pred2 = cross_val_predict(xgb2,tsr_6_input,tsr_6_output,cv = 10)\n",
    "confusion_matrix(tsr_6_output, xgb_pred2)"
   ]
  },
  {
   "cell_type": "code",
   "execution_count": 39,
   "id": "832c97cf",
   "metadata": {},
   "outputs": [
    {
     "name": "stdout",
     "output_type": "stream",
     "text": [
      "[0.84615385 0.88674699 0.88674699 0.87951807 0.8626506  0.90361446\n",
      " 0.84096386 0.84096386 0.86024096 0.86024096]\n",
      "0.8667840593141797 0.020438570391413908\n"
     ]
    }
   ],
   "source": [
    "xgb3 = CalibratedClassifierCV(XGBClassifier(booster = \"gbtree\", objective=\"binary:logistic\", eval_metric = \"auc\", \n",
    "                                            use_label_encoder = False, random_state = 19))\n",
    "xgb_scores3 = cross_val_score(xgb3,tsr_6_input_nomrs,tsr_6_output,cv = 10)\n",
    "print(xgb_scores3)\n",
    "print(xgb_scores3.mean(), xgb_scores3.std())"
   ]
  },
  {
   "cell_type": "code",
   "execution_count": 40,
   "id": "a97ae8e9",
   "metadata": {},
   "outputs": [
    {
     "name": "stdout",
     "output_type": "stream",
     "text": [
      "[[0.91659353 0.08340647]\n",
      " [0.91630272 0.08369728]\n",
      " [0.9141637  0.0858363 ]\n",
      " ...\n",
      " [0.10434855 0.89565145]\n",
      " [0.9155376  0.0844624 ]\n",
      " [0.91669914 0.08330086]]\n"
     ]
    }
   ],
   "source": [
    "xgb3.fit(tsr_6_input_nomrs,tsr_6_output)\n",
    "xgb_predict3 =xgb3.predict_proba(tsr_6_input_nomrs)\n",
    "print(xgb_predict3)"
   ]
  },
  {
   "cell_type": "code",
   "execution_count": 41,
   "id": "c86601b3",
   "metadata": {},
   "outputs": [
    {
     "data": {
      "text/plain": [
       "array([[2331,  126],\n",
       "       [  65, 1629]], dtype=int64)"
      ]
     },
     "execution_count": 41,
     "metadata": {},
     "output_type": "execute_result"
    }
   ],
   "source": [
    "xgb_pred3 = cross_val_predict(xgb3,tsr_6_input,tsr_6_output,cv = 10)\n",
    "confusion_matrix(tsr_6_output, xgb_pred3)"
   ]
  },
  {
   "cell_type": "markdown",
   "id": "27f4d833",
   "metadata": {},
   "source": [
    "# Summary"
   ]
  },
  {
   "cell_type": "markdown",
   "id": "6bd53feb",
   "metadata": {},
   "source": [
    "## Mean & Std"
   ]
  },
  {
   "cell_type": "code",
   "execution_count": 42,
   "id": "579f5f6f",
   "metadata": {},
   "outputs": [],
   "source": [
    "svc_mean = np.array([svc_scores.mean(), svc_scores.std(), svc_scores[0], svc_scores[1], svc_scores[2], svc_scores[3],\n",
    "                     svc_scores[4], svc_scores[5], svc_scores[6], svc_scores[7], svc_scores[8], svc_scores[9]])\n",
    "rf_mean = np.array([rf_scores.mean(), rf_scores.std(), rf_scores[0], rf_scores[1], rf_scores[2], rf_scores[3],rf_scores[4], \n",
    "                    rf_scores[5], rf_scores[6], rf_scores[7], rf_scores[8], rf_scores[9]])\n",
    "xgb_mean = np.array([xgb_scores.mean(), xgb_scores.std(), xgb_scores[0], xgb_scores[1], xgb_scores[2], xgb_scores[3],\n",
    "                     xgb_scores[4], xgb_scores[5], xgb_scores[6], xgb_scores[7], xgb_scores[8], xgb_scores[9]])\n",
    "\n",
    "svc_mean1 = np.array([svc_scores1.mean(), svc_scores1.std(), svc_scores1[0], svc_scores1[1], svc_scores1[2], svc_scores1[3],\n",
    "                     svc_scores1[4], svc_scores1[5], svc_scores1[6], svc_scores1[7], svc_scores1[8], svc_scores1[9]])\n",
    "rf_mean1 = np.array([rf_scores1.mean(), rf_scores1.std(), rf_scores1[0], rf_scores1[1], rf_scores1[2], rf_scores1[3],rf_scores1[4], \n",
    "                    rf_scores1[5], rf_scores1[6], rf_scores1[7], rf_scores1[8], rf_scores1[9]])\n",
    "xgb_mean1 = np.array([xgb_scores1.mean(), xgb_scores1.std(), xgb_scores1[0], xgb_scores1[1], xgb_scores1[2], xgb_scores1[3],\n",
    "                     xgb_scores1[4], xgb_scores1[5], xgb_scores1[6], xgb_scores1[7], xgb_scores1[8], xgb_scores1[9]])\n",
    "\n",
    "svc_mean2 = np.array([svc_scores2.mean(), svc_scores2.std(), svc_scores2[0], svc_scores2[1], svc_scores2[2], svc_scores2[3],\n",
    "                     svc_scores2[4], svc_scores2[5], svc_scores2[6], svc_scores2[7], svc_scores2[8], svc_scores2[9]])\n",
    "rf_mean2 = np.array([rf_scores2.mean(), rf_scores2.std(), rf_scores2[0], rf_scores2[1], rf_scores2[2], rf_scores2[3],rf_scores2[4], \n",
    "                    rf_scores2[5], rf_scores2[6], rf_scores2[7], rf_scores2[8], rf_scores2[9]])\n",
    "xgb_mean2 = np.array([xgb_scores2.mean(), xgb_scores2.std(), xgb_scores2[0], xgb_scores2[1], xgb_scores2[2], xgb_scores2[3],\n",
    "                     xgb_scores2[4], xgb_scores2[5], xgb_scores2[6], xgb_scores2[7], xgb_scores2[8], xgb_scores2[9]])\n",
    "\n",
    "svc_mean3 = np.array([svc_scores3.mean(), svc_scores3.std(), svc_scores3[0], svc_scores3[1], svc_scores3[2], svc_scores3[3],\n",
    "                     svc_scores3[4], svc_scores3[5], svc_scores3[6], svc_scores3[7], svc_scores3[8], svc_scores3[9]])\n",
    "rf_mean3 = np.array([rf_scores3.mean(), rf_scores3.std(), rf_scores3[0], rf_scores3[1], rf_scores3[2], rf_scores3[3],rf_scores3[4], \n",
    "                    rf_scores3[5], rf_scores3[6], rf_scores3[7], rf_scores3[8], rf_scores3[9]])\n",
    "xgb_mean3 = np.array([xgb_scores3.mean(), xgb_scores3.std(), xgb_scores3[0], xgb_scores3[1], xgb_scores3[2], xgb_scores3[3],\n",
    "                     xgb_scores3[4], xgb_scores3[5], xgb_scores3[6], xgb_scores3[7], xgb_scores3[8], xgb_scores3[9]])"
   ]
  },
  {
   "cell_type": "code",
   "execution_count": 43,
   "id": "3e2491f0",
   "metadata": {},
   "outputs": [],
   "source": [
    "tsr_6_mean = pd.DataFrame([svc_mean, rf_mean, xgb_mean,svc_mean1, rf_mean1, xgb_mean1, svc_mean2, rf_mean2, xgb_mean2,\n",
    "                          svc_mean3, rf_mean3, xgb_mean3]).T\n",
    "tsr_6_mean.index = [\"Mean\", \"Std\", \"mean_1\", \"mean_2\", \"mean_3\", \"mean_4\", \"mean_5\", \"mean_6\", \"mean_7\", \"mean_8\", \"mean_9\", \"mean_10\"]\n",
    "tsr_6_mean.columns = [\"svc\", 'rf', 'xgb', \"svc1\", 'rf1', 'xgb1', 'svc2', 'rf2', 'xgb2', \"svc3\", 'rf3', 'xgb3']"
   ]
  },
  {
   "cell_type": "code",
   "execution_count": 44,
   "id": "de8f5407",
   "metadata": {},
   "outputs": [],
   "source": [
    "csv_save = os.path.join(\".\", \"tsr_6_mean.csv\")\n",
    "tsr_6_mean.to_csv(csv_save, index = True)"
   ]
  },
  {
   "cell_type": "markdown",
   "id": "d71fa700",
   "metadata": {},
   "source": [
    "## Predicted Probability"
   ]
  },
  {
   "cell_type": "code",
   "execution_count": 45,
   "id": "54dd25b9",
   "metadata": {},
   "outputs": [],
   "source": [
    "svc_predict_0 = svc_predict[:, 0]\n",
    "svc_predict_1 = svc_predict[:, 1]\n",
    "svc_predict_2 = svc_predict[:, 2]\n",
    "svc_predict_3 = svc_predict[:, 3]\n",
    "svc_predict_4 = svc_predict[:, 4]\n",
    "svc_predict_5 = svc_predict[:, 5]\n",
    "\n",
    "rf_predict_0 = rf_predict[:, 0]\n",
    "rf_predict_1 = rf_predict[:, 1]\n",
    "rf_predict_2 = rf_predict[:, 2]\n",
    "rf_predict_3 = rf_predict[:, 3]\n",
    "rf_predict_4 = rf_predict[:, 4]\n",
    "rf_predict_5 = rf_predict[:, 5]\n",
    "\n",
    "xgb_predict_0 = xgb_predict[:, 0]\n",
    "xgb_predict_1 = xgb_predict[:, 1]\n",
    "xgb_predict_2 = xgb_predict[:, 2]\n",
    "xgb_predict_3 = xgb_predict[:, 3]\n",
    "xgb_predict_4 = xgb_predict[:, 4]\n",
    "xgb_predict_5 = xgb_predict[:, 5]\n",
    "\n",
    "svc_predict1_0 = svc_predict1[:, 0]\n",
    "svc_predict1_1 = svc_predict1[:, 1]\n",
    "svc_predict1_2 = svc_predict1[:, 2]\n",
    "svc_predict1_3 = svc_predict1[:, 3]\n",
    "svc_predict1_4 = svc_predict1[:, 4]\n",
    "svc_predict1_5 = svc_predict1[:, 5]\n",
    "\n",
    "rf_predict1_0 = rf_predict1[:, 0]\n",
    "rf_predict1_1 = rf_predict1[:, 1]\n",
    "rf_predict1_2 = rf_predict1[:, 2]\n",
    "rf_predict1_3 = rf_predict1[:, 3]\n",
    "rf_predict1_4 = rf_predict1[:, 4]\n",
    "rf_predict1_5 = rf_predict1[:, 5]\n",
    "\n",
    "xgb_predict1_0 = xgb_predict1[:, 0]\n",
    "xgb_predict1_1 = xgb_predict1[:, 1]\n",
    "xgb_predict1_2 = xgb_predict1[:, 2]\n",
    "xgb_predict1_3 = xgb_predict1[:, 3]\n",
    "xgb_predict1_4 = xgb_predict1[:, 4]\n",
    "xgb_predict1_5 = xgb_predict1[:, 5]\n",
    "\n",
    "svc_predict2_0 = svc_predict2[:, 0]\n",
    "svc_predict2_1 = svc_predict2[:, 1]\n",
    "\n",
    "rf_predict2_0 = rf_predict2[:, 0]\n",
    "rf_predict2_1 = rf_predict2[:, 1]\n",
    "\n",
    "xgb_predict2_0 = xgb_predict2[:, 0]\n",
    "xgb_predict2_1 = xgb_predict2[:, 1]\n",
    "\n",
    "svc_predict3_0 = svc_predict3[:, 0]\n",
    "svc_predict3_1 = svc_predict3[:, 1]\n",
    "\n",
    "rf_predict3_0 = rf_predict3[:, 0]\n",
    "rf_predict3_1 = rf_predict3[:, 1]\n",
    "\n",
    "xgb_predict3_0 = xgb_predict3[:, 0]\n",
    "xgb_predict3_1 = xgb_predict3[:, 1]"
   ]
  },
  {
   "cell_type": "code",
   "execution_count": 46,
   "id": "29c3475d",
   "metadata": {},
   "outputs": [],
   "source": [
    "tsr_6_pred_prob = pd.DataFrame([svc_predict_0, svc_predict_1, svc_predict_2, svc_predict_3, svc_predict_4, svc_predict_5, \n",
    "                               rf_predict_0, rf_predict_1, rf_predict_2, rf_predict_3, rf_predict_4, rf_predict_5,\n",
    "                               xgb_predict_0, xgb_predict_1, xgb_predict_2, xgb_predict_3, xgb_predict_4, xgb_predict_5,\n",
    "                                svc_predict1_0, svc_predict1_1, svc_predict1_2, svc_predict1_3, svc_predict1_4, svc_predict1_5, \n",
    "                               rf_predict1_0, rf_predict1_1, rf_predict1_2, rf_predict1_3, rf_predict1_4, rf_predict1_5,\n",
    "                               xgb_predict1_0, xgb_predict1_1, xgb_predict1_2, xgb_predict1_3, xgb_predict1_4, xgb_predict1_5,\n",
    "                               svc_predict2_0, svc_predict2_1, rf_predict2_0, rf_predict2_1, xgb_predict2_0, xgb_predict2_1,\n",
    "                               svc_predict3_0, svc_predict3_1, rf_predict3_0, rf_predict3_1, xgb_predict3_0, xgb_predict3_1]).T\n",
    "tsr_6_pred_prob.columns = [\"svc_predict_0\", \"svc_predict_1\", \"svc_predict_2\", \"svc_predict_3\", \"svc_predict_4\", \"svc_predict_5\", \n",
    "                           \"rf_predict_0\", \"rf_predict_1\", \"rf_predict_2\", \"rf_predict_3\", \"rf_predict_4\", \"rf_predict_5\",\n",
    "                           \"xgb_predict_0\", \"xgb_predict_1\", \"xgb_predict_2\", 'xgb_predict_3', \"xgb_predict_4\", \"xgb_predict_5\",\n",
    "                           \"svc_predict1_0\", \"svc_predict1_1\", \"svc_predict1_2\", \"svc_predict1_3\", \"svc_predict1_4\", \"svc_predict1_5\", \n",
    "                           \"rf_predict1_0\", \"rf_predict1_1\", \"rf_predict1_2\", \"rf_predict1_3\", \"rf_predict1_4\", \"rf_predict1_5\",\n",
    "                           \"xgb_predict1_0\", \"xgb_predict1_1\", \"xgb_predict1_2\", 'xgb_predict1_3', \"xgb_predict1_4\", \"xgb_predict1_5\",\n",
    "                           \"svc_predict2_0\", \"svc_predict2_1\", \"rf_predict2_0\", \"rf_predict2_1\", \"xgb_predict2_0\", \"xgb_predict2_1\",\n",
    "                           \"svc_predict3_0\", \"svc_predict3_1\", \"rf_predict3_0\", \"rf_predict3_1\", \"xgb_predict3_0\", \"xgb_predict3_1\"]"
   ]
  },
  {
   "cell_type": "code",
   "execution_count": 47,
   "id": "8281d6da",
   "metadata": {},
   "outputs": [],
   "source": [
    "csv_save2 = os.path.join(\".\", \"tsr_6_pred_prob.csv\")\n",
    "tsr_6_pred_prob.to_csv(csv_save2, index = False)"
   ]
  },
  {
   "cell_type": "code",
   "execution_count": null,
   "id": "1d256732",
   "metadata": {},
   "outputs": [],
   "source": []
  }
 ],
 "metadata": {
  "kernelspec": {
   "display_name": "Python 3",
   "language": "python",
   "name": "python3"
  },
  "language_info": {
   "codemirror_mode": {
    "name": "ipython",
    "version": 3
   },
   "file_extension": ".py",
   "mimetype": "text/x-python",
   "name": "python",
   "nbconvert_exporter": "python",
   "pygments_lexer": "ipython3",
   "version": "3.8.8"
  }
 },
 "nbformat": 4,
 "nbformat_minor": 5
}
