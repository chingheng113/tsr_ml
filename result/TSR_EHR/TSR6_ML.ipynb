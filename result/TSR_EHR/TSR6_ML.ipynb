{
 "cells": [
  {
   "cell_type": "code",
   "execution_count": 1,
   "id": "f9015e18",
   "metadata": {},
   "outputs": [],
   "source": [
    "import pandas as pd\n",
    "import os\n",
    "import numpy as np\n",
    "from sklearn.model_selection import cross_val_score\n",
    "from sklearn.calibration import CalibratedClassifierCV\n",
    "from sklearn.svm import LinearSVC\n",
    "from sklearn.ensemble import RandomForestClassifier\n",
    "from xgboost import XGBClassifier\n",
    "from sklearn.model_selection import cross_val_predict\n",
    "from sklearn.metrics import confusion_matrix"
   ]
  },
  {
   "cell_type": "code",
   "execution_count": 2,
   "id": "d496f832",
   "metadata": {
    "scrolled": true
   },
   "outputs": [
    {
     "data": {
      "text/html": [
       "<div>\n",
       "<style scoped>\n",
       "    .dataframe tbody tr th:only-of-type {\n",
       "        vertical-align: middle;\n",
       "    }\n",
       "\n",
       "    .dataframe tbody tr th {\n",
       "        vertical-align: top;\n",
       "    }\n",
       "\n",
       "    .dataframe thead th {\n",
       "        text-align: right;\n",
       "    }\n",
       "</style>\n",
       "<table border=\"1\" class=\"dataframe\">\n",
       "  <thead>\n",
       "    <tr style=\"text-align: right;\">\n",
       "      <th></th>\n",
       "      <th>height_nm</th>\n",
       "      <th>weight_nm</th>\n",
       "      <th>edu_id</th>\n",
       "      <th>pro_id</th>\n",
       "      <th>opc_id</th>\n",
       "      <th>ih_fl</th>\n",
       "      <th>ivtpamg_nm</th>\n",
       "      <th>hospitalised_time</th>\n",
       "      <th>nivtpa_id</th>\n",
       "      <th>nivtpa1_fl</th>\n",
       "      <th>...</th>\n",
       "      <th>nihs_8_out</th>\n",
       "      <th>nihs_9_out</th>\n",
       "      <th>nihs_10_out</th>\n",
       "      <th>nihs_11_out</th>\n",
       "      <th>total_out</th>\n",
       "      <th>SexName</th>\n",
       "      <th>Age</th>\n",
       "      <th>mrs_tx_1</th>\n",
       "      <th>mrs_tx_3</th>\n",
       "      <th>mrs_tx_6</th>\n",
       "    </tr>\n",
       "  </thead>\n",
       "  <tbody>\n",
       "    <tr>\n",
       "      <th>0</th>\n",
       "      <td>153.0</td>\n",
       "      <td>62.0</td>\n",
       "      <td>3</td>\n",
       "      <td>1</td>\n",
       "      <td>3</td>\n",
       "      <td>0</td>\n",
       "      <td>0.0</td>\n",
       "      <td>8.0</td>\n",
       "      <td>0</td>\n",
       "      <td>999</td>\n",
       "      <td>...</td>\n",
       "      <td>1</td>\n",
       "      <td>0</td>\n",
       "      <td>1</td>\n",
       "      <td>0</td>\n",
       "      <td>4</td>\n",
       "      <td>0</td>\n",
       "      <td>67.0</td>\n",
       "      <td>1</td>\n",
       "      <td>1</td>\n",
       "      <td>1</td>\n",
       "    </tr>\n",
       "    <tr>\n",
       "      <th>1</th>\n",
       "      <td>152.0</td>\n",
       "      <td>62.0</td>\n",
       "      <td>3</td>\n",
       "      <td>1</td>\n",
       "      <td>2</td>\n",
       "      <td>0</td>\n",
       "      <td>0.0</td>\n",
       "      <td>4.0</td>\n",
       "      <td>0</td>\n",
       "      <td>999</td>\n",
       "      <td>...</td>\n",
       "      <td>1</td>\n",
       "      <td>0</td>\n",
       "      <td>0</td>\n",
       "      <td>0</td>\n",
       "      <td>1</td>\n",
       "      <td>0</td>\n",
       "      <td>69.0</td>\n",
       "      <td>1</td>\n",
       "      <td>0</td>\n",
       "      <td>0</td>\n",
       "    </tr>\n",
       "    <tr>\n",
       "      <th>2</th>\n",
       "      <td>148.0</td>\n",
       "      <td>56.0</td>\n",
       "      <td>2</td>\n",
       "      <td>1</td>\n",
       "      <td>2</td>\n",
       "      <td>0</td>\n",
       "      <td>0.0</td>\n",
       "      <td>5.0</td>\n",
       "      <td>0</td>\n",
       "      <td>999</td>\n",
       "      <td>...</td>\n",
       "      <td>1</td>\n",
       "      <td>0</td>\n",
       "      <td>0</td>\n",
       "      <td>0</td>\n",
       "      <td>2</td>\n",
       "      <td>0</td>\n",
       "      <td>71.0</td>\n",
       "      <td>0</td>\n",
       "      <td>0</td>\n",
       "      <td>0</td>\n",
       "    </tr>\n",
       "    <tr>\n",
       "      <th>3</th>\n",
       "      <td>152.0</td>\n",
       "      <td>56.0</td>\n",
       "      <td>4</td>\n",
       "      <td>1</td>\n",
       "      <td>2</td>\n",
       "      <td>0</td>\n",
       "      <td>0.0</td>\n",
       "      <td>3.0</td>\n",
       "      <td>1</td>\n",
       "      <td>0</td>\n",
       "      <td>...</td>\n",
       "      <td>0</td>\n",
       "      <td>0</td>\n",
       "      <td>0</td>\n",
       "      <td>0</td>\n",
       "      <td>0</td>\n",
       "      <td>0</td>\n",
       "      <td>71.0</td>\n",
       "      <td>0</td>\n",
       "      <td>0</td>\n",
       "      <td>0</td>\n",
       "    </tr>\n",
       "    <tr>\n",
       "      <th>4</th>\n",
       "      <td>160.0</td>\n",
       "      <td>60.0</td>\n",
       "      <td>2</td>\n",
       "      <td>1</td>\n",
       "      <td>3</td>\n",
       "      <td>0</td>\n",
       "      <td>0.0</td>\n",
       "      <td>4.0</td>\n",
       "      <td>0</td>\n",
       "      <td>999</td>\n",
       "      <td>...</td>\n",
       "      <td>0</td>\n",
       "      <td>0</td>\n",
       "      <td>0</td>\n",
       "      <td>0</td>\n",
       "      <td>4</td>\n",
       "      <td>0</td>\n",
       "      <td>62.0</td>\n",
       "      <td>3</td>\n",
       "      <td>3</td>\n",
       "      <td>3</td>\n",
       "    </tr>\n",
       "  </tbody>\n",
       "</table>\n",
       "<p>5 rows × 309 columns</p>\n",
       "</div>"
      ],
      "text/plain": [
       "   height_nm  weight_nm  edu_id  pro_id  opc_id  ih_fl  ivtpamg_nm  \\\n",
       "0      153.0       62.0       3       1       3      0         0.0   \n",
       "1      152.0       62.0       3       1       2      0         0.0   \n",
       "2      148.0       56.0       2       1       2      0         0.0   \n",
       "3      152.0       56.0       4       1       2      0         0.0   \n",
       "4      160.0       60.0       2       1       3      0         0.0   \n",
       "\n",
       "   hospitalised_time  nivtpa_id  nivtpa1_fl  ...  nihs_8_out  nihs_9_out  \\\n",
       "0                8.0          0         999  ...           1           0   \n",
       "1                4.0          0         999  ...           1           0   \n",
       "2                5.0          0         999  ...           1           0   \n",
       "3                3.0          1           0  ...           0           0   \n",
       "4                4.0          0         999  ...           0           0   \n",
       "\n",
       "   nihs_10_out  nihs_11_out  total_out  SexName   Age  mrs_tx_1  mrs_tx_3  \\\n",
       "0            1            0          4        0  67.0         1         1   \n",
       "1            0            0          1        0  69.0         1         0   \n",
       "2            0            0          2        0  71.0         0         0   \n",
       "3            0            0          0        0  71.0         0         0   \n",
       "4            0            0          4        0  62.0         3         3   \n",
       "\n",
       "   mrs_tx_6  \n",
       "0         1  \n",
       "1         0  \n",
       "2         0  \n",
       "3         0  \n",
       "4         3  \n",
       "\n",
       "[5 rows x 309 columns]"
      ]
     },
     "execution_count": 2,
     "metadata": {},
     "output_type": "execute_result"
    }
   ],
   "source": [
    "csv_path = os.path.join(\"..\", \"..\", \"data\",\"LINKED_DATA\", \"TSR_EHR\", \"TSR_6_CLEANED.csv\")\n",
    "tsr_6 = pd.read_csv(csv_path)\n",
    "tsr_6.head()"
   ]
  },
  {
   "cell_type": "code",
   "execution_count": 3,
   "id": "14e077d6",
   "metadata": {},
   "outputs": [],
   "source": [
    "tsr_6_input = tsr_6.drop([\"mrs_tx_6\"], axis=1)\n",
    "tsr_6_input[tsr_6_input == \"N\"] = 0\n",
    "tsr_6_input[tsr_6_input == \"Y\"] = 1\n",
    "tsr_6_input = tsr_6_input.astype(\"float64\")\n",
    "tsr_6_input = np.array(tsr_6_input.values)\n",
    "\n",
    "tsr_6_input_nomrs = tsr_6.drop([\"mrs_tx_6\", \"mrs_tx_3\", \"mrs_tx_1\"], axis=1)\n",
    "tsr_6_input_nomrs[tsr_6_input_nomrs == \"N\"] = 0\n",
    "tsr_6_input_nomrs[tsr_6_input_nomrs == \"Y\"] = 1\n",
    "tsr_6_input_nomrs = tsr_6_input_nomrs.astype(\"float64\")\n",
    "tsr_6_input_nomrs = np.array(tsr_6_input_nomrs.values)"
   ]
  },
  {
   "cell_type": "markdown",
   "id": "9e108841",
   "metadata": {},
   "source": [
    "# 6 classes"
   ]
  },
  {
   "cell_type": "code",
   "execution_count": 4,
   "id": "35764cee",
   "metadata": {},
   "outputs": [],
   "source": [
    "tsr_6_output = tsr_6.mrs_tx_6\n",
    "tsr_6_output = tsr_6_output.astype(\"float64\")\n",
    "tsr_6_output = np.array(tsr_6_output.values)"
   ]
  },
  {
   "cell_type": "markdown",
   "id": "adc92102",
   "metadata": {},
   "source": [
    "## SVM"
   ]
  },
  {
   "cell_type": "code",
   "execution_count": 5,
   "id": "cb0e08ad",
   "metadata": {},
   "outputs": [
    {
     "name": "stderr",
     "output_type": "stream",
     "text": [
      "C:\\Users\\Jacky C\\Anaconda3\\envs\\tsr_ml\\lib\\site-packages\\sklearn\\svm\\_base.py:976: ConvergenceWarning: Liblinear failed to converge, increase the number of iterations.\n",
      "  warnings.warn(\"Liblinear failed to converge, increase \"\n"
     ]
    },
    {
     "name": "stdout",
     "output_type": "stream",
     "text": [
      "[0.51201923 0.55180723 0.58072289 0.56144578 0.54939759 0.58554217\n",
      " 0.6        0.63855422 0.62409639 0.47951807]\n",
      "0.5683103568118628 0.0460775972902029\n"
     ]
    }
   ],
   "source": [
    "svc = CalibratedClassifierCV(LinearSVC(penalty = \"l2\", dual=False, loss = \"squared_hinge\", C = 1, multi_class = \"ovr\", \n",
    "                                       random_state = 19)) \n",
    "svc_scores = cross_val_score(svc,tsr_6_input,tsr_6_output,cv = 10,scoring='accuracy')\n",
    "print(svc_scores)\n",
    "print(svc_scores.mean(), svc_scores.std())"
   ]
  },
  {
   "cell_type": "code",
   "execution_count": 6,
   "id": "bc2187d4",
   "metadata": {},
   "outputs": [
    {
     "name": "stdout",
     "output_type": "stream",
     "text": [
      "[[2.70947044e-01 4.33523551e-01 1.78449852e-01 5.73814010e-02\n",
      "  5.79907065e-02 1.70744568e-03]\n",
      " [4.86529911e-01 3.29674933e-01 1.15648896e-01 2.69818718e-02\n",
      "  4.10786077e-02 8.57804808e-05]\n",
      " [4.26948743e-01 3.97529847e-01 1.00672123e-01 2.44389819e-02\n",
      "  5.02218254e-02 1.88479184e-04]\n",
      " ...\n",
      " [1.94268032e-04 4.64103325e-02 8.38097688e-02 7.89344487e-02\n",
      "  3.40218409e-01 4.50432773e-01]\n",
      " [4.46024993e-01 3.63007701e-01 1.13266056e-01 5.23206846e-02\n",
      "  2.53683286e-02 1.22369447e-05]\n",
      " [1.98988164e-01 5.79756762e-01 1.27553622e-01 5.44134021e-02\n",
      "  3.77252661e-02 1.56278358e-03]]\n"
     ]
    }
   ],
   "source": [
    "svc.fit(tsr_6_input,tsr_6_output)\n",
    "svc_predict =svc.predict_proba(tsr_6_input)\n",
    "print(svc_predict)"
   ]
  },
  {
   "cell_type": "code",
   "execution_count": 7,
   "id": "f1fb1d3c",
   "metadata": {},
   "outputs": [
    {
     "name": "stderr",
     "output_type": "stream",
     "text": [
      "C:\\Users\\Jacky C\\Anaconda3\\envs\\tsr_ml\\lib\\site-packages\\sklearn\\svm\\_base.py:976: ConvergenceWarning: Liblinear failed to converge, increase the number of iterations.\n",
      "  warnings.warn(\"Liblinear failed to converge, increase \"\n"
     ]
    },
    {
     "data": {
      "text/plain": [
       "array([[483, 194,   1,   6,   2,   1],\n",
       "       [191, 934,  22,  37,  11,   4],\n",
       "       [  8, 406,  27,  79,  45,   6],\n",
       "       [  2, 131,  39, 213, 173,  21],\n",
       "       [  3,  22,   7, 118, 302, 155],\n",
       "       [  2,  12,   1,  18,  75, 400]], dtype=int64)"
      ]
     },
     "execution_count": 7,
     "metadata": {},
     "output_type": "execute_result"
    }
   ],
   "source": [
    "svc_pred = cross_val_predict(svc,tsr_6_input,tsr_6_output,cv = 10)\n",
    "confusion_matrix(tsr_6_output, svc_pred)"
   ]
  },
  {
   "cell_type": "code",
   "execution_count": null,
   "id": "c71181e0",
   "metadata": {},
   "outputs": [],
   "source": [
    "svc1 = CalibratedClassifierCV(LinearSVC(penalty = \"l2\", dual=False, loss = \"squared_hinge\", C = 1, multi_class = \"ovr\", \n",
    "                                       random_state = 19)) \n",
    "svc_scores1 = cross_val_score(svc1,tsr_6_input_nomrs,tsr_6_output,cv = 10,scoring='accuracy')\n",
    "print(svc_scores1)\n",
    "print(svc_scores1.mean(), svc_scores1.std())"
   ]
  },
  {
   "cell_type": "code",
   "execution_count": null,
   "id": "3bc13fff",
   "metadata": {},
   "outputs": [],
   "source": [
    "svc1.fit(tsr_6_input_nomrs,tsr_6_output)\n",
    "svc_predict1 =svc1.predict_proba(tsr_6_input_nomrs)\n",
    "print(svc_predict1)"
   ]
  },
  {
   "cell_type": "code",
   "execution_count": null,
   "id": "52f37031",
   "metadata": {},
   "outputs": [],
   "source": [
    "svc_pred1 = cross_val_predict(svc,tsr_6_input,tsr_6_output,cv = 10)\n",
    "confusion_matrix(tsr_6_output, svc_pred1)"
   ]
  },
  {
   "cell_type": "markdown",
   "id": "099fb906",
   "metadata": {},
   "source": [
    "## RF"
   ]
  },
  {
   "cell_type": "code",
   "execution_count": null,
   "id": "471e0ef2",
   "metadata": {},
   "outputs": [],
   "source": [
    "rf = CalibratedClassifierCV(RandomForestClassifier(criterion = \"gini\", n_estimators = 15, bootstrap=True, random_state = 19,\n",
    "                                                  max_features = 0.8)) \n",
    "rf_scores = cross_val_score(rf,tsr_6_input,tsr_6_output,cv = 10,scoring='accuracy')\n",
    "print(rf_scores)\n",
    "print(rf_scores.mean(), rf_scores.std())"
   ]
  },
  {
   "cell_type": "code",
   "execution_count": null,
   "id": "9a1ca6e6",
   "metadata": {},
   "outputs": [],
   "source": [
    "rf.fit(tsr_6_input,tsr_6_output)\n",
    "rf_predict =rf.predict_proba(tsr_6_input)\n",
    "print(rf_predict)"
   ]
  },
  {
   "cell_type": "code",
   "execution_count": null,
   "id": "7b77dedd",
   "metadata": {},
   "outputs": [],
   "source": [
    "rf_pred = cross_val_predict(rf,tsr_6_input,tsr_6_output,cv = 10)\n",
    "confusion_matrix(tsr_6_output, rf_pred)"
   ]
  },
  {
   "cell_type": "code",
   "execution_count": null,
   "id": "d2cd5104",
   "metadata": {},
   "outputs": [],
   "source": [
    "rf1 = CalibratedClassifierCV(RandomForestClassifier(criterion = \"gini\", n_estimators = 15, bootstrap=True, random_state = 19,\n",
    "                                                  max_features = 0.8)) \n",
    "rf_scores1 = cross_val_score(rf1,tsr_6_input_nomrs,tsr_6_output,cv = 10,scoring='accuracy')\n",
    "print(rf_scores1)\n",
    "print(rf_scores1.mean(), rf_scores1.std())"
   ]
  },
  {
   "cell_type": "code",
   "execution_count": null,
   "id": "38a4e1a6",
   "metadata": {},
   "outputs": [],
   "source": [
    "rf1.fit(tsr_6_input_nomrs,tsr_6_output)\n",
    "rf_predict1 =rf1.predict_proba(tsr_6_input_nomrs)\n",
    "print(rf_predict1)"
   ]
  },
  {
   "cell_type": "code",
   "execution_count": null,
   "id": "e84189c6",
   "metadata": {},
   "outputs": [],
   "source": [
    "rf_pred1 = cross_val_predict(rf1,tsr_6_input,tsr_6_output,cv = 10)\n",
    "confusion_matrix(tsr_6_output, rf_pred1)"
   ]
  },
  {
   "cell_type": "markdown",
   "id": "e7a6a401",
   "metadata": {},
   "source": [
    "## XGBoost"
   ]
  },
  {
   "cell_type": "code",
   "execution_count": null,
   "id": "f19e65e4",
   "metadata": {},
   "outputs": [],
   "source": [
    "xgb = CalibratedClassifierCV(XGBClassifier(booster = \"gbtree\", objective=\"multi:softprob\", eval_metric = \"auc\", \n",
    "                                            use_label_encoder = False, random_state = 19)) \n",
    "xgb_scores = cross_val_score(xgb,tsr_6_input,tsr_6_output,cv = 10)\n",
    "print(xgb_scores)\n",
    "print(xgb_scores.mean(), xgb_scores.std())"
   ]
  },
  {
   "cell_type": "code",
   "execution_count": null,
   "id": "fdfa2378",
   "metadata": {},
   "outputs": [],
   "source": [
    "xgb.fit(tsr_6_input,tsr_6_output)\n",
    "xgb_predict =xgb.predict_proba(tsr_6_input)\n",
    "print(xgb_predict)"
   ]
  },
  {
   "cell_type": "code",
   "execution_count": null,
   "id": "a45f3fc9",
   "metadata": {},
   "outputs": [],
   "source": [
    "xgb_pred = cross_val_predict(xgb,tsr_6_input,tsr_6_output,cv = 10)\n",
    "confusion_matrix(tsr_6_output, xgb_pred)"
   ]
  },
  {
   "cell_type": "code",
   "execution_count": null,
   "id": "c578b786",
   "metadata": {},
   "outputs": [],
   "source": [
    "xgb1 = CalibratedClassifierCV(XGBClassifier(booster = \"gbtree\", objective=\"multi:softprob\", eval_metric = \"auc\", \n",
    "                                            use_label_encoder = False, random_state = 19)) \n",
    "xgb_scores1 = cross_val_score(xgb1,tsr_6_input_nomrs,tsr_6_output,cv = 10)\n",
    "print(xgb_scores1)\n",
    "print(xgb_scores1.mean(), xgb_scores1.std())"
   ]
  },
  {
   "cell_type": "code",
   "execution_count": null,
   "id": "f3a76612",
   "metadata": {},
   "outputs": [],
   "source": [
    "xgb1.fit(tsr_6_input_nomrs,tsr_6_output)\n",
    "xgb_predict1 =xgb1.predict_proba(tsr_6_input_nomrs)\n",
    "print(xgb_predict1)"
   ]
  },
  {
   "cell_type": "code",
   "execution_count": null,
   "id": "e915733a",
   "metadata": {},
   "outputs": [],
   "source": [
    "xgb_pred1 = cross_val_predict(xgb1,tsr_6_input,tsr_6_output,cv = 10)\n",
    "confusion_matrix(tsr_6_output, xgb_pred1)"
   ]
  },
  {
   "cell_type": "markdown",
   "id": "33a66699",
   "metadata": {},
   "source": [
    "# 2 classes"
   ]
  },
  {
   "cell_type": "code",
   "execution_count": null,
   "id": "d39c2285",
   "metadata": {},
   "outputs": [],
   "source": [
    "tsr_6_output[(tsr_6_output == 0)|(tsr_6_output == 1)|(tsr_6_output == 2)] = 0\n",
    "tsr_6_output[(tsr_6_output == 3)|(tsr_6_output == 4)|(tsr_6_output == 5)] = 1"
   ]
  },
  {
   "cell_type": "markdown",
   "id": "3c2a3c37",
   "metadata": {},
   "source": [
    "## SVM"
   ]
  },
  {
   "cell_type": "code",
   "execution_count": null,
   "id": "86b435bd",
   "metadata": {},
   "outputs": [],
   "source": [
    "svc2 = CalibratedClassifierCV(LinearSVC(penalty = \"l2\", dual=False, loss = \"squared_hinge\", C = 1, multi_class = \"ovr\", \n",
    "                                       random_state = 19)) \n",
    "svc_scores2 = cross_val_score(svc2,tsr_6_input,tsr_6_output,cv = 10,scoring='accuracy')\n",
    "print(svc_scores2)\n",
    "print(svc_scores2.mean(), svc_scores2.std())"
   ]
  },
  {
   "cell_type": "code",
   "execution_count": null,
   "id": "7a77c18b",
   "metadata": {
    "scrolled": true
   },
   "outputs": [],
   "source": [
    "svc2.fit(tsr_6_input,tsr_6_output)\n",
    "svc_predict2 =svc2.predict_proba(tsr_6_input)\n",
    "print(svc_predict2)"
   ]
  },
  {
   "cell_type": "code",
   "execution_count": null,
   "id": "99ea5c1d",
   "metadata": {},
   "outputs": [],
   "source": [
    "svc_pred2 = cross_val_predict(svc2,tsr_6_input,tsr_6_output,cv = 10)\n",
    "confusion_matrix(tsr_6_output, svc_pred2)"
   ]
  },
  {
   "cell_type": "code",
   "execution_count": null,
   "id": "0ff1e9c0",
   "metadata": {},
   "outputs": [],
   "source": [
    "svc3 = CalibratedClassifierCV(LinearSVC(penalty = \"l2\", dual=False, loss = \"squared_hinge\", C = 1, multi_class = \"ovr\", \n",
    "                                       random_state = 19)) \n",
    "svc_scores3 = cross_val_score(svc3,tsr_6_input_nomrs,tsr_6_output,cv = 10,scoring='accuracy')\n",
    "print(svc_scores3)\n",
    "print(svc_scores3.mean(), svc_scores3.std())"
   ]
  },
  {
   "cell_type": "code",
   "execution_count": null,
   "id": "451f7a6b",
   "metadata": {},
   "outputs": [],
   "source": [
    "svc3.fit(tsr_6_input_nomrs,tsr_6_output)\n",
    "svc_predict3 =svc3.predict_proba(tsr_6_input_nomrs)\n",
    "print(svc_predict3)"
   ]
  },
  {
   "cell_type": "code",
   "execution_count": null,
   "id": "86ec096c",
   "metadata": {},
   "outputs": [],
   "source": [
    "svc_pred3 = cross_val_predict(svc3,tsr_6_input,tsr_6_output,cv = 10)\n",
    "confusion_matrix(tsr_6_output, svc_pred3)"
   ]
  },
  {
   "cell_type": "markdown",
   "id": "1f0fea88",
   "metadata": {},
   "source": [
    "## RF"
   ]
  },
  {
   "cell_type": "code",
   "execution_count": null,
   "id": "33c60392",
   "metadata": {},
   "outputs": [],
   "source": [
    "rf2 = CalibratedClassifierCV(RandomForestClassifier(criterion = \"gini\", n_estimators = 15, bootstrap=True, random_state = 19,\n",
    "                                                  max_features = 0.8)) \n",
    "rf_scores2 = cross_val_score(rf2,tsr_6_input,tsr_6_output,cv = 10,scoring='accuracy')\n",
    "print(rf_scores2)\n",
    "print(rf_scores2.mean(), rf_scores2.std())"
   ]
  },
  {
   "cell_type": "code",
   "execution_count": null,
   "id": "e4c13aab",
   "metadata": {},
   "outputs": [],
   "source": [
    "rf2.fit(tsr_6_input,tsr_6_output)\n",
    "rf_predict2 =rf2.predict_proba(tsr_6_input)\n",
    "print(rf_predict2)"
   ]
  },
  {
   "cell_type": "code",
   "execution_count": null,
   "id": "64610f76",
   "metadata": {},
   "outputs": [],
   "source": [
    "rf_pred2 = cross_val_predict(rf2,tsr_6_input,tsr_6_output,cv = 10)\n",
    "confusion_matrix(tsr_6_output, rf_pred2)"
   ]
  },
  {
   "cell_type": "code",
   "execution_count": null,
   "id": "efb0f3bf",
   "metadata": {},
   "outputs": [],
   "source": [
    "rf3 = CalibratedClassifierCV(RandomForestClassifier(criterion = \"gini\", n_estimators = 15, bootstrap=True, random_state = 19,\n",
    "                                                  max_features = 0.8))  \n",
    "rf_scores3 = cross_val_score(rf3,tsr_6_input_nomrs,tsr_6_output,cv = 10,scoring='accuracy')\n",
    "print(rf_scores3)\n",
    "print(rf_scores3.mean(), rf_scores3.std())"
   ]
  },
  {
   "cell_type": "code",
   "execution_count": null,
   "id": "351dd990",
   "metadata": {},
   "outputs": [],
   "source": [
    "rf3.fit(tsr_6_input_nomrs,tsr_6_output)\n",
    "rf_predict3 =rf3.predict_proba(tsr_6_input_nomrs)\n",
    "print(rf_predict3)"
   ]
  },
  {
   "cell_type": "code",
   "execution_count": null,
   "id": "8723f94d",
   "metadata": {},
   "outputs": [],
   "source": [
    "rf_pred3 = cross_val_predict(rf3,tsr_6_input,tsr_6_output,cv = 10)\n",
    "confusion_matrix(tsr_6_output, rf_pred3)"
   ]
  },
  {
   "cell_type": "markdown",
   "id": "2d347b54",
   "metadata": {},
   "source": [
    "## XGBoost"
   ]
  },
  {
   "cell_type": "code",
   "execution_count": null,
   "id": "b0ed11ae",
   "metadata": {},
   "outputs": [],
   "source": [
    "xgb2 = CalibratedClassifierCV(XGBClassifier(booster = \"gbtree\", objective=\"binary:logistic\", eval_metric = \"auc\", \n",
    "                                            use_label_encoder = False, random_state = 19))\n",
    "xgb_scores2 = cross_val_score(xgb2,tsr_6_input,tsr_6_output,cv = 10)\n",
    "print(xgb_scores2)\n",
    "print(xgb_scores2.mean(), xgb_scores2.std())"
   ]
  },
  {
   "cell_type": "code",
   "execution_count": null,
   "id": "aef4b6f7",
   "metadata": {},
   "outputs": [],
   "source": [
    "xgb2.fit(tsr_6_input,tsr_6_output)\n",
    "xgb_predict2 =xgb2.predict_proba(tsr_6_input)\n",
    "print(xgb_predict2)"
   ]
  },
  {
   "cell_type": "code",
   "execution_count": null,
   "id": "aa662e39",
   "metadata": {},
   "outputs": [],
   "source": [
    "xgb_pred2 = cross_val_predict(xgb2,tsr_6_input,tsr_6_output,cv = 10)\n",
    "confusion_matrix(tsr_6_output, xgb_pred2)"
   ]
  },
  {
   "cell_type": "code",
   "execution_count": null,
   "id": "832c97cf",
   "metadata": {},
   "outputs": [],
   "source": [
    "xgb3 = CalibratedClassifierCV(XGBClassifier(booster = \"gbtree\", objective=\"binary:logistic\", eval_metric = \"auc\", \n",
    "                                            use_label_encoder = False, random_state = 19))\n",
    "xgb_scores3 = cross_val_score(xgb3,tsr_6_input_nomrs,tsr_6_output,cv = 10)\n",
    "print(xgb_scores3)\n",
    "print(xgb_scores3.mean(), xgb_scores3.std())"
   ]
  },
  {
   "cell_type": "code",
   "execution_count": null,
   "id": "a97ae8e9",
   "metadata": {},
   "outputs": [],
   "source": [
    "xgb3.fit(tsr_6_input_nomrs,tsr_6_output)\n",
    "xgb_predict3 =xgb3.predict_proba(tsr_6_input_nomrs)\n",
    "print(xgb_predict3)"
   ]
  },
  {
   "cell_type": "code",
   "execution_count": null,
   "id": "c86601b3",
   "metadata": {},
   "outputs": [],
   "source": [
    "xgb_pred3 = cross_val_predict(xgb3,tsr_6_input,tsr_6_output,cv = 10)\n",
    "confusion_matrix(tsr_6_output, xgb_pred3)"
   ]
  },
  {
   "cell_type": "markdown",
   "id": "27f4d833",
   "metadata": {},
   "source": [
    "# Summary"
   ]
  },
  {
   "cell_type": "markdown",
   "id": "6bd53feb",
   "metadata": {},
   "source": [
    "## Mean & Std"
   ]
  },
  {
   "cell_type": "code",
   "execution_count": null,
   "id": "579f5f6f",
   "metadata": {},
   "outputs": [],
   "source": [
    "svc_mean = np.array([svc_scores.mean(), svc_scores.std(), svc_scores[0], svc_scores[1], svc_scores[2], svc_scores[3],\n",
    "                     svc_scores[4], svc_scores[5], svc_scores[6], svc_scores[7], svc_scores[8], svc_scores[9]])\n",
    "rf_mean = np.array([rf_scores.mean(), rf_scores.std(), rf_scores[0], rf_scores[1], rf_scores[2], rf_scores[3],rf_scores[4], \n",
    "                    rf_scores[5], rf_scores[6], rf_scores[7], rf_scores[8], rf_scores[9]])\n",
    "xgb_mean = np.array([xgb_scores.mean(), xgb_scores.std(), xgb_scores[0], xgb_scores[1], xgb_scores[2], xgb_scores[3],\n",
    "                     xgb_scores[4], xgb_scores[5], xgb_scores[6], xgb_scores[7], xgb_scores[8], xgb_scores[9]])\n",
    "\n",
    "svc_mean1 = np.array([svc_scores1.mean(), svc_scores1.std(), svc_scores1[0], svc_scores1[1], svc_scores1[2], svc_scores1[3],\n",
    "                     svc_scores1[4], svc_scores1[5], svc_scores1[6], svc_scores1[7], svc_scores1[8], svc_scores1[9]])\n",
    "rf_mean1 = np.array([rf_scores1.mean(), rf_scores1.std(), rf_scores1[0], rf_scores1[1], rf_scores1[2], rf_scores1[3],rf_scores1[4], \n",
    "                    rf_scores1[5], rf_scores1[6], rf_scores1[7], rf_scores1[8], rf_scores1[9]])\n",
    "xgb_mean1 = np.array([xgb_scores1.mean(), xgb_scores1.std(), xgb_scores1[0], xgb_scores1[1], xgb_scores1[2], xgb_scores1[3],\n",
    "                     xgb_scores1[4], xgb_scores1[5], xgb_scores1[6], xgb_scores1[7], xgb_scores1[8], xgb_scores1[9]])\n",
    "\n",
    "svc_mean2 = np.array([svc_scores2.mean(), svc_scores2.std(), svc_scores2[0], svc_scores2[1], svc_scores2[2], svc_scores2[3],\n",
    "                     svc_scores2[4], svc_scores2[5], svc_scores2[6], svc_scores2[7], svc_scores2[8], svc_scores2[9]])\n",
    "rf_mean2 = np.array([rf_scores2.mean(), rf_scores2.std(), rf_scores2[0], rf_scores2[1], rf_scores2[2], rf_scores2[3],rf_scores2[4], \n",
    "                    rf_scores2[5], rf_scores2[6], rf_scores2[7], rf_scores2[8], rf_scores2[9]])\n",
    "xgb_mean2 = np.array([xgb_scores2.mean(), xgb_scores2.std(), xgb_scores2[0], xgb_scores2[1], xgb_scores2[2], xgb_scores2[3],\n",
    "                     xgb_scores2[4], xgb_scores2[5], xgb_scores2[6], xgb_scores2[7], xgb_scores2[8], xgb_scores2[9]])\n",
    "\n",
    "svc_mean3 = np.array([svc_scores3.mean(), svc_scores3.std(), svc_scores3[0], svc_scores3[1], svc_scores3[2], svc_scores3[3],\n",
    "                     svc_scores3[4], svc_scores3[5], svc_scores3[6], svc_scores3[7], svc_scores3[8], svc_scores3[9]])\n",
    "rf_mean3 = np.array([rf_scores3.mean(), rf_scores3.std(), rf_scores3[0], rf_scores3[1], rf_scores3[2], rf_scores3[3],rf_scores3[4], \n",
    "                    rf_scores3[5], rf_scores3[6], rf_scores3[7], rf_scores3[8], rf_scores3[9]])\n",
    "xgb_mean3 = np.array([xgb_scores3.mean(), xgb_scores3.std(), xgb_scores3[0], xgb_scores3[1], xgb_scores3[2], xgb_scores3[3],\n",
    "                     xgb_scores3[4], xgb_scores3[5], xgb_scores3[6], xgb_scores3[7], xgb_scores3[8], xgb_scores3[9]])"
   ]
  },
  {
   "cell_type": "code",
   "execution_count": null,
   "id": "3e2491f0",
   "metadata": {},
   "outputs": [],
   "source": [
    "tsr_6_mean = pd.DataFrame([svc_mean, rf_mean, xgb_mean,svc_mean1, rf_mean1, xgb_mean1, svc_mean2, rf_mean2, xgb_mean2,\n",
    "                          svc_mean3, rf_mean3, xgb_mean3]).T\n",
    "tsr_6_mean.index = [\"Mean\", \"Std\", \"mean_1\", \"mean_2\", \"mean_3\", \"mean_4\", \"mean_5\", \"mean_6\", \"mean_7\", \"mean_8\", \"mean_9\", \"mean_10\"]\n",
    "tsr_6_mean.columns = [\"svc\", 'rf', 'xgb', \"svc1\", 'rf1', 'xgb1', 'svc2', 'rf2', 'xgb2', \"svc3\", 'rf3', 'xgb3']"
   ]
  },
  {
   "cell_type": "code",
   "execution_count": null,
   "id": "de8f5407",
   "metadata": {},
   "outputs": [],
   "source": [
    "csv_save = os.path.join(\".\", \"tsr_6_mean.csv\")\n",
    "tsr_6_mean.to_csv(csv_save, index = True)"
   ]
  },
  {
   "cell_type": "markdown",
   "id": "d71fa700",
   "metadata": {},
   "source": [
    "## Predicted Probability"
   ]
  },
  {
   "cell_type": "code",
   "execution_count": null,
   "id": "54dd25b9",
   "metadata": {},
   "outputs": [],
   "source": [
    "svc_predict_0 = svc_predict[:, 0]\n",
    "svc_predict_1 = svc_predict[:, 1]\n",
    "svc_predict_2 = svc_predict[:, 2]\n",
    "svc_predict_3 = svc_predict[:, 3]\n",
    "svc_predict_4 = svc_predict[:, 4]\n",
    "svc_predict_5 = svc_predict[:, 5]\n",
    "\n",
    "rf_predict_0 = rf_predict[:, 0]\n",
    "rf_predict_1 = rf_predict[:, 1]\n",
    "rf_predict_2 = rf_predict[:, 2]\n",
    "rf_predict_3 = rf_predict[:, 3]\n",
    "rf_predict_4 = rf_predict[:, 4]\n",
    "rf_predict_5 = rf_predict[:, 5]\n",
    "\n",
    "xgb_predict_0 = xgb_predict[:, 0]\n",
    "xgb_predict_1 = xgb_predict[:, 1]\n",
    "xgb_predict_2 = xgb_predict[:, 2]\n",
    "xgb_predict_3 = xgb_predict[:, 3]\n",
    "xgb_predict_4 = xgb_predict[:, 4]\n",
    "xgb_predict_5 = xgb_predict[:, 5]\n",
    "\n",
    "svc_predict1_0 = svc_predict1[:, 0]\n",
    "svc_predict1_1 = svc_predict1[:, 1]\n",
    "svc_predict1_2 = svc_predict1[:, 2]\n",
    "svc_predict1_3 = svc_predict1[:, 3]\n",
    "svc_predict1_4 = svc_predict1[:, 4]\n",
    "svc_predict1_5 = svc_predict1[:, 5]\n",
    "\n",
    "rf_predict1_0 = rf_predict1[:, 0]\n",
    "rf_predict1_1 = rf_predict1[:, 1]\n",
    "rf_predict1_2 = rf_predict1[:, 2]\n",
    "rf_predict1_3 = rf_predict1[:, 3]\n",
    "rf_predict1_4 = rf_predict1[:, 4]\n",
    "rf_predict1_5 = rf_predict1[:, 5]\n",
    "\n",
    "xgb_predict1_0 = xgb_predict1[:, 0]\n",
    "xgb_predict1_1 = xgb_predict1[:, 1]\n",
    "xgb_predict1_2 = xgb_predict1[:, 2]\n",
    "xgb_predict1_3 = xgb_predict1[:, 3]\n",
    "xgb_predict1_4 = xgb_predict1[:, 4]\n",
    "xgb_predict1_5 = xgb_predict1[:, 5]\n",
    "\n",
    "svc_predict2_0 = svc_predict2[:, 0]\n",
    "svc_predict2_1 = svc_predict2[:, 1]\n",
    "\n",
    "rf_predict2_0 = rf_predict2[:, 0]\n",
    "rf_predict2_1 = rf_predict2[:, 1]\n",
    "\n",
    "xgb_predict2_0 = xgb_predict2[:, 0]\n",
    "xgb_predict2_1 = xgb_predict2[:, 1]\n",
    "\n",
    "svc_predict3_0 = svc_predict3[:, 0]\n",
    "svc_predict3_1 = svc_predict3[:, 1]\n",
    "\n",
    "rf_predict3_0 = rf_predict3[:, 0]\n",
    "rf_predict3_1 = rf_predict3[:, 1]\n",
    "\n",
    "xgb_predict3_0 = xgb_predict3[:, 0]\n",
    "xgb_predict3_1 = xgb_predict3[:, 1]"
   ]
  },
  {
   "cell_type": "code",
   "execution_count": null,
   "id": "29c3475d",
   "metadata": {},
   "outputs": [],
   "source": [
    "tsr_6_pred_prob = pd.DataFrame([svc_predict_0, svc_predict_1, svc_predict_2, svc_predict_3, svc_predict_4, svc_predict_5, \n",
    "                               rf_predict_0, rf_predict_1, rf_predict_2, rf_predict_3, rf_predict_4, rf_predict_5,\n",
    "                               xgb_predict_0, xgb_predict_1, xgb_predict_2, xgb_predict_3, xgb_predict_4, xgb_predict_5,\n",
    "                                svc_predict1_0, svc_predict1_1, svc_predict1_2, svc_predict1_3, svc_predict1_4, svc_predict1_5, \n",
    "                               rf_predict1_0, rf_predict1_1, rf_predict1_2, rf_predict1_3, rf_predict1_4, rf_predict1_5,\n",
    "                               xgb_predict1_0, xgb_predict1_1, xgb_predict1_2, xgb_predict1_3, xgb_predict1_4, xgb_predict1_5,\n",
    "                               svc_predict2_0, svc_predict2_1, rf_predict2_0, rf_predict2_1, xgb_predict2_0, xgb_predict2_1,\n",
    "                               svc_predict3_0, svc_predict3_1, rf_predict3_0, rf_predict3_1, xgb_predict3_0, xgb_predict3_1]).T\n",
    "tsr_6_pred_prob.columns = [\"svc_predict_0\", \"svc_predict_1\", \"svc_predict_2\", \"svc_predict_3\", \"svc_predict_4\", \"svc_predict_5\", \n",
    "                           \"rf_predict_0\", \"rf_predict_1\", \"rf_predict_2\", \"rf_predict_3\", \"rf_predict_4\", \"rf_predict_5\",\n",
    "                           \"xgb_predict_0\", \"xgb_predict_1\", \"xgb_predict_2\", 'xgb_predict_3', \"xgb_predict_4\", \"xgb_predict_5\",\n",
    "                           \"svc_predict1_0\", \"svc_predict1_1\", \"svc_predict1_2\", \"svc_predict1_3\", \"svc_predict1_4\", \"svc_predict1_5\", \n",
    "                           \"rf_predict1_0\", \"rf_predict1_1\", \"rf_predict1_2\", \"rf_predict1_3\", \"rf_predict1_4\", \"rf_predict1_5\",\n",
    "                           \"xgb_predict1_0\", \"xgb_predict1_1\", \"xgb_predict1_2\", 'xgb_predict1_3', \"xgb_predict1_4\", \"xgb_predict1_5\",\n",
    "                           \"svc_predict2_0\", \"svc_predict2_1\", \"rf_predict2_0\", \"rf_predict2_1\", \"xgb_predict2_0\", \"xgb_predict2_1\",\n",
    "                           \"svc_predict3_0\", \"svc_predict3_1\", \"rf_predict3_0\", \"rf_predict3_1\", \"xgb_predict3_0\", \"xgb_predict3_1\"]"
   ]
  },
  {
   "cell_type": "code",
   "execution_count": null,
   "id": "8281d6da",
   "metadata": {},
   "outputs": [],
   "source": [
    "csv_save2 = os.path.join(\".\", \"tsr_6_pred_prob.csv\")\n",
    "tsr_6_pred_prob.to_csv(csv_save2, index = False)"
   ]
  },
  {
   "cell_type": "code",
   "execution_count": null,
   "id": "1d256732",
   "metadata": {},
   "outputs": [],
   "source": []
  }
 ],
 "metadata": {
  "kernelspec": {
   "display_name": "Python 3",
   "language": "python",
   "name": "python3"
  },
  "language_info": {
   "codemirror_mode": {
    "name": "ipython",
    "version": 3
   },
   "file_extension": ".py",
   "mimetype": "text/x-python",
   "name": "python",
   "nbconvert_exporter": "python",
   "pygments_lexer": "ipython3",
   "version": "3.8.8"
  }
 },
 "nbformat": 4,
 "nbformat_minor": 5
}
