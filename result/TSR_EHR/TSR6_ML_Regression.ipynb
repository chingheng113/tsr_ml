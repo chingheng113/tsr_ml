{
 "cells": [
  {
   "cell_type": "code",
   "execution_count": 1,
   "id": "98b98468",
   "metadata": {},
   "outputs": [],
   "source": [
    "import pandas as pd\n",
    "import os\n",
    "import numpy as np\n",
    "from sklearn.model_selection import cross_val_score\n",
    "from sklearn.model_selection import train_test_split\n",
    "from sklearn.svm import LinearSVR\n",
    "from sklearn.ensemble import RandomForestRegressor\n",
    "from xgboost import XGBRegressor\n",
    "from sklearn.model_selection import cross_val_predict\n",
    "from sklearn.metrics import confusion_matrix"
   ]
  },
  {
   "cell_type": "code",
   "execution_count": 2,
   "id": "3006e247",
   "metadata": {},
   "outputs": [
    {
     "data": {
      "text/html": [
       "<div>\n",
       "<style scoped>\n",
       "    .dataframe tbody tr th:only-of-type {\n",
       "        vertical-align: middle;\n",
       "    }\n",
       "\n",
       "    .dataframe tbody tr th {\n",
       "        vertical-align: top;\n",
       "    }\n",
       "\n",
       "    .dataframe thead th {\n",
       "        text-align: right;\n",
       "    }\n",
       "</style>\n",
       "<table border=\"1\" class=\"dataframe\">\n",
       "  <thead>\n",
       "    <tr style=\"text-align: right;\">\n",
       "      <th></th>\n",
       "      <th>height_nm</th>\n",
       "      <th>weight_nm</th>\n",
       "      <th>edu_id</th>\n",
       "      <th>pro_id</th>\n",
       "      <th>opc_id</th>\n",
       "      <th>ih_fl</th>\n",
       "      <th>ivtpamg_nm</th>\n",
       "      <th>hospitalised_time</th>\n",
       "      <th>nivtpa_id</th>\n",
       "      <th>nivtpa1_fl</th>\n",
       "      <th>...</th>\n",
       "      <th>nihs_8_out</th>\n",
       "      <th>nihs_9_out</th>\n",
       "      <th>nihs_10_out</th>\n",
       "      <th>nihs_11_out</th>\n",
       "      <th>total_out</th>\n",
       "      <th>SexName</th>\n",
       "      <th>Age</th>\n",
       "      <th>mrs_tx_1</th>\n",
       "      <th>mrs_tx_3</th>\n",
       "      <th>mrs_tx_6</th>\n",
       "    </tr>\n",
       "  </thead>\n",
       "  <tbody>\n",
       "    <tr>\n",
       "      <th>0</th>\n",
       "      <td>153.0</td>\n",
       "      <td>62.0</td>\n",
       "      <td>3</td>\n",
       "      <td>1</td>\n",
       "      <td>3</td>\n",
       "      <td>0</td>\n",
       "      <td>0.0</td>\n",
       "      <td>8.0</td>\n",
       "      <td>0</td>\n",
       "      <td>999</td>\n",
       "      <td>...</td>\n",
       "      <td>1</td>\n",
       "      <td>0</td>\n",
       "      <td>1</td>\n",
       "      <td>0</td>\n",
       "      <td>4</td>\n",
       "      <td>0</td>\n",
       "      <td>67.0</td>\n",
       "      <td>1</td>\n",
       "      <td>1</td>\n",
       "      <td>1</td>\n",
       "    </tr>\n",
       "    <tr>\n",
       "      <th>1</th>\n",
       "      <td>152.0</td>\n",
       "      <td>62.0</td>\n",
       "      <td>3</td>\n",
       "      <td>1</td>\n",
       "      <td>2</td>\n",
       "      <td>0</td>\n",
       "      <td>0.0</td>\n",
       "      <td>4.0</td>\n",
       "      <td>0</td>\n",
       "      <td>999</td>\n",
       "      <td>...</td>\n",
       "      <td>1</td>\n",
       "      <td>0</td>\n",
       "      <td>0</td>\n",
       "      <td>0</td>\n",
       "      <td>1</td>\n",
       "      <td>0</td>\n",
       "      <td>69.0</td>\n",
       "      <td>1</td>\n",
       "      <td>0</td>\n",
       "      <td>0</td>\n",
       "    </tr>\n",
       "    <tr>\n",
       "      <th>2</th>\n",
       "      <td>148.0</td>\n",
       "      <td>56.0</td>\n",
       "      <td>2</td>\n",
       "      <td>1</td>\n",
       "      <td>2</td>\n",
       "      <td>0</td>\n",
       "      <td>0.0</td>\n",
       "      <td>5.0</td>\n",
       "      <td>0</td>\n",
       "      <td>999</td>\n",
       "      <td>...</td>\n",
       "      <td>1</td>\n",
       "      <td>0</td>\n",
       "      <td>0</td>\n",
       "      <td>0</td>\n",
       "      <td>2</td>\n",
       "      <td>0</td>\n",
       "      <td>71.0</td>\n",
       "      <td>0</td>\n",
       "      <td>0</td>\n",
       "      <td>0</td>\n",
       "    </tr>\n",
       "    <tr>\n",
       "      <th>3</th>\n",
       "      <td>152.0</td>\n",
       "      <td>56.0</td>\n",
       "      <td>4</td>\n",
       "      <td>1</td>\n",
       "      <td>2</td>\n",
       "      <td>0</td>\n",
       "      <td>0.0</td>\n",
       "      <td>3.0</td>\n",
       "      <td>1</td>\n",
       "      <td>0</td>\n",
       "      <td>...</td>\n",
       "      <td>0</td>\n",
       "      <td>0</td>\n",
       "      <td>0</td>\n",
       "      <td>0</td>\n",
       "      <td>0</td>\n",
       "      <td>0</td>\n",
       "      <td>71.0</td>\n",
       "      <td>0</td>\n",
       "      <td>0</td>\n",
       "      <td>0</td>\n",
       "    </tr>\n",
       "    <tr>\n",
       "      <th>4</th>\n",
       "      <td>160.0</td>\n",
       "      <td>60.0</td>\n",
       "      <td>2</td>\n",
       "      <td>1</td>\n",
       "      <td>3</td>\n",
       "      <td>0</td>\n",
       "      <td>0.0</td>\n",
       "      <td>4.0</td>\n",
       "      <td>0</td>\n",
       "      <td>999</td>\n",
       "      <td>...</td>\n",
       "      <td>0</td>\n",
       "      <td>0</td>\n",
       "      <td>0</td>\n",
       "      <td>0</td>\n",
       "      <td>4</td>\n",
       "      <td>0</td>\n",
       "      <td>62.0</td>\n",
       "      <td>3</td>\n",
       "      <td>3</td>\n",
       "      <td>3</td>\n",
       "    </tr>\n",
       "  </tbody>\n",
       "</table>\n",
       "<p>5 rows × 309 columns</p>\n",
       "</div>"
      ],
      "text/plain": [
       "   height_nm  weight_nm  edu_id  pro_id  opc_id  ih_fl  ivtpamg_nm  \\\n",
       "0      153.0       62.0       3       1       3      0         0.0   \n",
       "1      152.0       62.0       3       1       2      0         0.0   \n",
       "2      148.0       56.0       2       1       2      0         0.0   \n",
       "3      152.0       56.0       4       1       2      0         0.0   \n",
       "4      160.0       60.0       2       1       3      0         0.0   \n",
       "\n",
       "   hospitalised_time  nivtpa_id  nivtpa1_fl  ...  nihs_8_out  nihs_9_out  \\\n",
       "0                8.0          0         999  ...           1           0   \n",
       "1                4.0          0         999  ...           1           0   \n",
       "2                5.0          0         999  ...           1           0   \n",
       "3                3.0          1           0  ...           0           0   \n",
       "4                4.0          0         999  ...           0           0   \n",
       "\n",
       "   nihs_10_out  nihs_11_out  total_out  SexName   Age  mrs_tx_1  mrs_tx_3  \\\n",
       "0            1            0          4        0  67.0         1         1   \n",
       "1            0            0          1        0  69.0         1         0   \n",
       "2            0            0          2        0  71.0         0         0   \n",
       "3            0            0          0        0  71.0         0         0   \n",
       "4            0            0          4        0  62.0         3         3   \n",
       "\n",
       "   mrs_tx_6  \n",
       "0         1  \n",
       "1         0  \n",
       "2         0  \n",
       "3         0  \n",
       "4         3  \n",
       "\n",
       "[5 rows x 309 columns]"
      ]
     },
     "execution_count": 2,
     "metadata": {},
     "output_type": "execute_result"
    }
   ],
   "source": [
    "csv_path = os.path.join(\"..\", \"..\", \"data\",\"LINKED_DATA\", \"TSR_EHR\", \"TSR_6_CLEANED.csv\")\n",
    "tsr_6 = pd.read_csv(csv_path)\n",
    "tsr_6.head()"
   ]
  },
  {
   "cell_type": "code",
   "execution_count": 3,
   "id": "14e077d6",
   "metadata": {},
   "outputs": [],
   "source": [
    "tsr_6_input = tsr_6.drop([\"mrs_tx_6\"], axis=1)\n",
    "tsr_6_input[tsr_6_input == \"N\"] = 0\n",
    "tsr_6_input[tsr_6_input == \"Y\"] = 1\n",
    "tsr_6_input = tsr_6_input.astype(\"float64\")\n",
    "tsr_6_input = np.array(tsr_6_input.values)\n",
    "\n",
    "tsr_6_input_nomrs = tsr_6.drop([\"mrs_tx_6\", \"mrs_tx_3\", \"mrs_tx_1\"], axis=1)\n",
    "tsr_6_input_nomrs[tsr_6_input_nomrs == \"N\"] = 0\n",
    "tsr_6_input_nomrs[tsr_6_input_nomrs == \"Y\"] = 1\n",
    "tsr_6_input_nomrs = tsr_6_input_nomrs.astype(\"float64\")\n",
    "tsr_6_input_nomrs = np.array(tsr_6_input_nomrs.values)"
   ]
  },
  {
   "cell_type": "markdown",
   "id": "9e108841",
   "metadata": {},
   "source": [
    "# 6 classes"
   ]
  },
  {
   "cell_type": "code",
   "execution_count": 4,
   "id": "35764cee",
   "metadata": {},
   "outputs": [],
   "source": [
    "tsr_6_output = tsr_6.mrs_tx_1\n",
    "tsr_6_output = tsr_6_output.astype(\"float64\")\n",
    "tsr_6_output = np.array(tsr_6_output.values)"
   ]
  },
  {
   "cell_type": "markdown",
   "id": "897a6fcc",
   "metadata": {},
   "source": [
    "## SVM"
   ]
  },
  {
   "cell_type": "code",
   "execution_count": 5,
   "id": "13e8103a",
   "metadata": {},
   "outputs": [
    {
     "name": "stdout",
     "output_type": "stream",
     "text": [
      "[0.97298991 0.97765583 0.9822613  0.9043261  0.99057859 0.97934303\n",
      " 0.97305357 0.98671394 0.96758493 0.92350859]\n",
      "Mean of R^2: 0.9658015800762796\n",
      "Std of R^2: 0.02705812134930812\n"
     ]
    }
   ],
   "source": [
    "svr = LinearSVR(epsilon = 0, dual=False, loss = \"squared_epsilon_insensitive\", C = 1, random_state = 19)\n",
    "svr_scores = cross_val_score(svr,tsr_6_input,tsr_6_output,cv = 10, scoring='r2')\n",
    "print(svr_scores)\n",
    "print(\"Mean of R^2:\", svr_scores.mean())\n",
    "print(\"Std of R^2:\", svr_scores.std())"
   ]
  },
  {
   "cell_type": "code",
   "execution_count": 6,
   "id": "5e4b6d18",
   "metadata": {},
   "outputs": [
    {
     "name": "stdout",
     "output_type": "stream",
     "text": [
      "[ 4.58220739  3.73811773  3.94748385 ... -0.05735297  3.67172496\n",
      "  1.04913939]\n",
      "[ 5.  4.  4. ... -0.  4.  1.]\n",
      "[4.58821536 2.50220275 3.79844501 ... 2.67594207 3.09239123 3.87866723]\n",
      "[5. 3. 4. ... 3. 3. 4.]\n",
      "[4.3158863  4.97551555 0.75071333 ... 1.03935331 3.95548251 0.0191575 ]\n",
      "[4. 5. 1. ... 1. 4. 0.]\n",
      "[4.0613744  1.07699694 0.26825867 ... 2.00094894 1.0852585  0.89742411]\n",
      "[4. 1. 0. ... 2. 1. 1.]\n",
      "[3.00394115 3.80012033 1.18189494 ... 0.01407841 3.01472744 3.11119519]\n",
      "[3. 4. 1. ... 0. 3. 3.]\n",
      "[4.03634993 0.89762987 3.83235552 ... 3.33858494 3.89067855 0.16829999]\n",
      "[4. 1. 4. ... 3. 4. 0.]\n",
      "[ 3.02256103  4.78775915  3.27112474 ... -0.0063484   5.12908047\n",
      "  1.00495649]\n",
      "[ 3.  5.  3. ... -0.  5.  1.]\n",
      "[1.04139318 4.81234015 4.01386339 ... 5.07539115 0.00904217 0.22240637]\n",
      "[1. 5. 4. ... 5. 0. 0.]\n",
      "[1.11100296 3.08622226 4.74131152 ... 2.99334468 4.02754797 3.50037999]\n",
      "[1. 3. 5. ... 3. 4. 4.]\n",
      "[4.1687502  2.15434266 4.40581069 ... 4.6742488  0.45265339 3.32409872]\n",
      "[4. 2. 4. ... 5. 0. 3.]\n",
      "Accuracy of RF: [0.9735152487961477, 0.9157303370786517, 0.9614767255216693, 0.9791332263242376, 0.9791332263242376, 0.8731942215088283, 0.9454253611556982, 0.9646869983948636, 0.8940609951845907, 0.8234349919743178]\n",
      "Mean of Accuracy of RF: 0.9309791332263243\n"
     ]
    }
   ],
   "source": [
    "acc_svr = []\n",
    "for i in range(10):\n",
    "    X_train, X_test, y_train, y_test = train_test_split(tsr_6_input, tsr_6_output, test_size=0.3, random_state=i)\n",
    "    svr.fit(X_train,y_train)\n",
    "    svr_predict = svr.predict(X_test)\n",
    "    print(svr_predict)\n",
    "    svr_predict = np.round(svr_predict)\n",
    "    print(svr_predict)\n",
    "    accuracy = (y_test == svr_predict).sum() / len(svr_predict)\n",
    "    acc_svr.append(accuracy)\n",
    "\n",
    "print(\"Accuracy of RF:\", acc_svr)\n",
    "print(\"Mean of Accuracy of RF:\", sum(acc_svr)/10)"
   ]
  },
  {
   "cell_type": "raw",
   "id": "85a6f917",
   "metadata": {},
   "source": [
    "svr.fit(tsr_6_input,tsr_6_output)\n",
    "svr_predict =svr.predict(tsr_6_input)\n",
    "print(svr_predict)\n",
    "svr_predict = np.round(svr_predict)\n",
    "print(svr_predict)\n",
    "print(\"Accuracy of RF:\", (tsr_6_output == svr_predict).sum() / len(svr_predict))"
   ]
  },
  {
   "cell_type": "code",
   "execution_count": 7,
   "id": "875d3ad7",
   "metadata": {},
   "outputs": [
    {
     "data": {
      "text/plain": [
       "array([[   0,    0,    0,    0,    0,    0,    0,    0],\n",
       "       [   1,  402,   55,    8,    0,    0,    0,    0],\n",
       "       [   0,    1, 1010,   55,    1,    0,    0,    0],\n",
       "       [   0,    1,   21,  642,   19,    0,    0,    0],\n",
       "       [   0,    0,    0,   32,  556,    8,    0,    0],\n",
       "       [   0,    0,    0,    0,   57,  750,    9,    0],\n",
       "       [   0,    0,    0,    0,    5,   47,  469,    2],\n",
       "       [   0,    0,    0,    0,    0,    0,    0,    0]], dtype=int64)"
      ]
     },
     "execution_count": 7,
     "metadata": {},
     "output_type": "execute_result"
    }
   ],
   "source": [
    "svr_pred = cross_val_predict(svr,tsr_6_input,tsr_6_output,cv = 10)\n",
    "svr_pred = np.round(svr_pred)\n",
    "confusion_matrix(tsr_6_output, svr_pred)"
   ]
  },
  {
   "cell_type": "code",
   "execution_count": 8,
   "id": "b4c54b8a",
   "metadata": {},
   "outputs": [
    {
     "data": {
      "text/plain": [
       "array([[ 403,   55,    8,    0,    0,    0,    0],\n",
       "       [   1, 1010,   55,    1,    0,    0,    0],\n",
       "       [   1,   21,  642,   19,    0,    0,    0],\n",
       "       [   0,    0,   32,  556,    8,    0,    0],\n",
       "       [   0,    0,    0,   57,  750,    9,    0],\n",
       "       [   0,    0,    0,    5,   47,  469,    2],\n",
       "       [   0,    0,    0,    0,    0,    0,    0]], dtype=int64)"
      ]
     },
     "execution_count": 8,
     "metadata": {},
     "output_type": "execute_result"
    }
   ],
   "source": [
    "svr_pred[svr_pred == -1] = 0\n",
    "confusion_matrix(tsr_6_output, svr_pred)"
   ]
  },
  {
   "cell_type": "code",
   "execution_count": 9,
   "id": "cdbd9c45",
   "metadata": {},
   "outputs": [
    {
     "name": "stdout",
     "output_type": "stream",
     "text": [
      "[0.67045177 0.78329337 0.81744363 0.79407382 0.81889027 0.79818859\n",
      " 0.83967165 0.74176129 0.75511674 0.64201807]\n",
      "Mean of R^2: 0.7660909189303222\n",
      "Std of R^2: 0.06180736630616617\n"
     ]
    }
   ],
   "source": [
    "svr1 = LinearSVR(epsilon = 0, dual=False, loss = \"squared_epsilon_insensitive\", C = 1, random_state = 19)\n",
    "svr_scores1 = cross_val_score(svr1,tsr_6_input_nomrs,tsr_6_output,cv = 10, scoring='r2')\n",
    "print(svr_scores1)\n",
    "print(\"Mean of R^2:\", svr_scores1.mean())\n",
    "print(\"Std of R^2:\", svr_scores1.std())"
   ]
  },
  {
   "cell_type": "code",
   "execution_count": 10,
   "id": "84a91c4d",
   "metadata": {},
   "outputs": [
    {
     "name": "stdout",
     "output_type": "stream",
     "text": [
      "[4.45932022 2.76426442 3.09596483 ... 0.74628467 2.81999047 0.79129908]\n",
      "[4. 3. 3. ... 1. 3. 1.]\n",
      "[4.29347801 1.20399972 3.09447794 ... 2.79997903 2.85946775 3.56198483]\n",
      "[4. 1. 3. ... 3. 3. 4.]\n",
      "[3.3844966  4.57711604 0.97995747 ... 1.09125877 3.0692339  0.62530585]\n",
      "[3. 5. 1. ... 1. 3. 1.]\n",
      "[3.34352621 0.89151353 1.35281944 ... 1.48908961 1.28731971 1.13965001]\n",
      "[3. 1. 1. ... 1. 1. 1.]\n",
      "[3.1505186  2.77783396 2.08617902 ... 0.72240521 3.08936883 3.74337168]\n",
      "[3. 3. 2. ... 1. 3. 4.]\n",
      "[3.98965751 0.80443951 3.52794331 ... 3.47670524 3.35431741 0.41131998]\n",
      "[4. 1. 4. ... 3. 3. 0.]\n",
      "[2.59532269 4.51222102 2.82965199 ... 0.62721193 5.4104717  1.18552866]\n",
      "[3. 5. 3. ... 1. 5. 1.]\n",
      "[0.9694227  4.32900087 3.23871927 ... 5.2193328  0.39016271 0.96111579]\n",
      "[1. 4. 3. ... 5. 0. 1.]\n",
      "[1.10267847 2.25786597 3.83311328 ... 2.56532274 3.73536248 2.94308232]\n",
      "[1. 2. 4. ... 3. 4. 3.]\n",
      "[4.16935229 2.13884364 4.75830994 ... 4.42590561 0.90226517 2.91602378]\n",
      "[4. 2. 5. ... 4. 1. 3.]\n",
      "Accuracy of RF: [0.5184590690208668, 0.5457463884430177, 0.557784911717496, 0.5666131621187801, 0.5232744783306581, 0.5762439807383628, 0.5642054574638844, 0.579454253611557, 0.5617977528089888, 0.5473515248796148]\n",
      "Mean of Accuracy of RF: 0.5540930979133225\n"
     ]
    }
   ],
   "source": [
    "acc_svr1 = []\n",
    "for i in range(10):\n",
    "    X_train, X_test, y_train, y_test = train_test_split(tsr_6_input_nomrs, tsr_6_output, test_size=0.3, random_state=i)\n",
    "    svr1.fit(X_train,y_train)\n",
    "    svr1_predict = svr1.predict(X_test)\n",
    "    print(svr1_predict)\n",
    "    svr1_predict = np.round(svr1_predict)\n",
    "    print(svr1_predict)\n",
    "    accuracy = (y_test == svr1_predict).sum() / len(svr1_predict)\n",
    "    acc_svr1.append(accuracy)\n",
    "\n",
    "print(\"Accuracy of RF:\", acc_svr1)\n",
    "print(\"Mean of Accuracy of RF:\", sum(acc_svr1)/10)"
   ]
  },
  {
   "cell_type": "raw",
   "id": "019ab9eb",
   "metadata": {},
   "source": [
    "svr1.fit(tsr_6_input_nomrs,tsr_6_output)\n",
    "svr_predict1 =svr1.predict(tsr_6_input_nomrs)\n",
    "print(svr_predict1)\n",
    "svr_predict1 = np.round(svr_predict1)\n",
    "print(svr_predict1)\n",
    "print(\"Accuracy of RF:\", (tsr_6_output == svr_predict1).sum() / len(svr_predict1))"
   ]
  },
  {
   "cell_type": "code",
   "execution_count": 11,
   "id": "5f9dbf3f",
   "metadata": {},
   "outputs": [
    {
     "data": {
      "text/plain": [
       "array([[  0,   0,   0,   0,   0,   0,   0,   0],\n",
       "       [  1,  33, 362,  58,  11,   0,   1,   0],\n",
       "       [  1,   8, 813, 207,  30,   7,   1,   0],\n",
       "       [  1,   3, 281, 296,  92,  10,   0,   0],\n",
       "       [  0,   0,  23, 183, 330,  55,   5,   0],\n",
       "       [  0,   0,   8,  32, 227, 447, 102,   0],\n",
       "       [  0,   1,   5,   6,  24, 140, 339,   8],\n",
       "       [  0,   0,   0,   0,   0,   0,   0,   0]], dtype=int64)"
      ]
     },
     "execution_count": 11,
     "metadata": {},
     "output_type": "execute_result"
    }
   ],
   "source": [
    "svr_pred1 = cross_val_predict(svr1,tsr_6_input_nomrs,tsr_6_output,cv = 10)\n",
    "svr_pred1 = np.round(svr_pred1)\n",
    "confusion_matrix(tsr_6_output, svr_pred1)"
   ]
  },
  {
   "cell_type": "code",
   "execution_count": 12,
   "id": "6e51f6ee",
   "metadata": {},
   "outputs": [
    {
     "data": {
      "text/plain": [
       "array([[  0,   0,   0,   0,   0,   0,   0],\n",
       "       [  1,  33, 362,  58,  11,   0,   1],\n",
       "       [  1,   8, 813, 207,  30,   7,   1],\n",
       "       [  1,   3, 281, 296,  92,  10,   0],\n",
       "       [  0,   0,  23, 183, 330,  55,   5],\n",
       "       [  0,   0,   8,  32, 227, 447, 102],\n",
       "       [  0,   1,   5,   6,  24, 140, 347]], dtype=int64)"
      ]
     },
     "execution_count": 12,
     "metadata": {},
     "output_type": "execute_result"
    }
   ],
   "source": [
    "svr_pred1[svr_pred1 == 6] = 5\n",
    "confusion_matrix(tsr_6_output, svr_pred1)"
   ]
  },
  {
   "cell_type": "markdown",
   "id": "c5a9f998",
   "metadata": {},
   "source": [
    "## RF"
   ]
  },
  {
   "cell_type": "code",
   "execution_count": 13,
   "id": "5b4f5fac",
   "metadata": {},
   "outputs": [
    {
     "name": "stdout",
     "output_type": "stream",
     "text": [
      "[0.99996182 0.99996745 0.99998849 0.99991848 0.9999752  0.99996659\n",
      " 0.99991892 0.99985967 0.99998559 0.99999551]\n",
      "Mean of R^2: 0.9999537729717906\n",
      "Std of R^2: 4.0187223876986936e-05\n"
     ]
    }
   ],
   "source": [
    "rfr = RandomForestRegressor(criterion = \"mse\", n_estimators = 15, bootstrap=True, random_state = 19,max_features = 0.8)\n",
    "rfr_scores = cross_val_score(rfr,tsr_6_input,tsr_6_output,cv = 10, scoring='r2')\n",
    "print(rfr_scores)\n",
    "print(\"Mean of R^2:\", rfr_scores.mean())\n",
    "print(\"Std of R^2:\", rfr_scores.std())"
   ]
  },
  {
   "cell_type": "code",
   "execution_count": 14,
   "id": "8e8bf8d2",
   "metadata": {},
   "outputs": [
    {
     "name": "stdout",
     "output_type": "stream",
     "text": [
      "[5. 4. 4. ... 0. 4. 1.]\n",
      "[5. 4. 4. ... 0. 4. 1.]\n",
      "[5.         2.93333333 4.         ... 3.         3.         4.        ]\n",
      "[5. 3. 4. ... 3. 3. 4.]\n",
      "[4. 5. 1. ... 1. 4. 0.]\n",
      "[4. 5. 1. ... 1. 4. 0.]\n",
      "[4. 1. 0. ... 2. 1. 1.]\n",
      "[4. 1. 0. ... 2. 1. 1.]\n",
      "[3. 4. 1. ... 0. 3. 4.]\n",
      "[3. 4. 1. ... 0. 3. 4.]\n",
      "[4. 1. 4. ... 3. 4. 0.]\n",
      "[4. 1. 4. ... 3. 4. 0.]\n",
      "[3. 5. 4. ... 0. 5. 1.]\n",
      "[3. 5. 4. ... 0. 5. 1.]\n",
      "[1. 5. 4. ... 5. 0. 0.]\n",
      "[1. 5. 4. ... 5. 0. 0.]\n",
      "[1.         3.         4.93333333 ... 3.         4.         4.        ]\n",
      "[1. 3. 5. ... 3. 4. 4.]\n",
      "[4. 2. 4. ... 5. 0. 4.]\n",
      "[4. 2. 4. ... 5. 0. 4.]\n",
      "Accuracy of RF: [1.0, 1.0, 1.0, 1.0, 1.0, 1.0, 1.0, 1.0, 1.0, 1.0]\n",
      "Mean of Accuracy of RF: 1.0\n"
     ]
    }
   ],
   "source": [
    "acc_rfr = []\n",
    "for i in range(10):\n",
    "    X_train, X_test, y_train, y_test = train_test_split(tsr_6_input, tsr_6_output, test_size=0.3, random_state=i)\n",
    "    rfr.fit(X_train,y_train)\n",
    "    rfr_predict = rfr.predict(X_test)\n",
    "    print(rfr_predict)\n",
    "    rfr_predict = np.round(rfr_predict)\n",
    "    print(rfr_predict)\n",
    "    accuracy = (y_test == rfr_predict).sum() / len(rfr_predict)\n",
    "    acc_rfr.append(accuracy)\n",
    "\n",
    "print(\"Accuracy of RF:\", acc_rfr)\n",
    "print(\"Mean of Accuracy of RF:\", sum(acc_rfr)/10)"
   ]
  },
  {
   "cell_type": "raw",
   "id": "5250a502",
   "metadata": {},
   "source": [
    "rfr.fit(tsr_6_input,tsr_6_output)\n",
    "rfr_predict =rfr.predict(tsr_6_input)\n",
    "print(rfr_predict)\n",
    "rfr_predict = np.round(rfr_predict)\n",
    "print(rfr_predict)\n",
    "print(\"Accuracy of RF:\", (tsr_6_output == rfr_predict).sum() / len(rfr_predict))"
   ]
  },
  {
   "cell_type": "code",
   "execution_count": 15,
   "id": "a4a3d8cb",
   "metadata": {},
   "outputs": [
    {
     "data": {
      "text/plain": [
       "array([[ 466,    0,    0,    0,    0,    0],\n",
       "       [   0, 1067,    0,    0,    0,    0],\n",
       "       [   0,    0,  683,    0,    0,    0],\n",
       "       [   0,    0,    0,  596,    0,    0],\n",
       "       [   0,    0,    0,    0,  816,    0],\n",
       "       [   0,    0,    0,    0,    0,  523]], dtype=int64)"
      ]
     },
     "execution_count": 15,
     "metadata": {},
     "output_type": "execute_result"
    }
   ],
   "source": [
    "rfr_pred = cross_val_predict(rfr,tsr_6_input,tsr_6_output,cv = 10)\n",
    "rfr_pred = np.round(rfr_pred)\n",
    "confusion_matrix(tsr_6_output, rfr_pred)"
   ]
  },
  {
   "cell_type": "code",
   "execution_count": 16,
   "id": "c76191cc",
   "metadata": {},
   "outputs": [
    {
     "name": "stdout",
     "output_type": "stream",
     "text": [
      "[0.78461641 0.83812407 0.85364225 0.80021598 0.83401323 0.82829245\n",
      " 0.88028419 0.75923783 0.8452423  0.79136409]\n",
      "Mean of R^2: 0.8215032792722285\n",
      "Std of R^2: 0.03482763312237961\n"
     ]
    }
   ],
   "source": [
    "rfr1 = RandomForestRegressor(criterion = \"mse\", n_estimators = 15, bootstrap=True, random_state = 19,max_features = 0.8)\n",
    "rfr_scores1 = cross_val_score(rfr1,tsr_6_input_nomrs,tsr_6_output,cv = 10, scoring='r2')\n",
    "print(rfr_scores1)\n",
    "print(\"Mean of R^2:\", rfr_scores1.mean())\n",
    "print(\"Std of R^2:\", rfr_scores1.std())"
   ]
  },
  {
   "cell_type": "code",
   "execution_count": 17,
   "id": "067d211e",
   "metadata": {},
   "outputs": [
    {
     "name": "stdout",
     "output_type": "stream",
     "text": [
      "[4.93333333 3.33333333 2.66666667 ... 0.         3.2        0.8       ]\n",
      "[5. 3. 3. ... 0. 3. 1.]\n",
      "[4.46666667 0.86666667 4.13333333 ... 2.33333333 3.66666667 3.93333333]\n",
      "[4. 1. 4. ... 2. 4. 4.]\n",
      "[3.86666667 4.13333333 1.         ... 1.46666667 3.46666667 0.06666667]\n",
      "[4. 4. 1. ... 1. 3. 0.]\n",
      "[2.86666667 0.93333333 1.53333333 ... 1.66666667 1.26666667 0.93333333]\n",
      "[3. 1. 2. ... 2. 1. 1.]\n",
      "[3.2        3.8        2.26666667 ... 0.         3.         3.93333333]\n",
      "[3. 4. 2. ... 0. 3. 4.]\n",
      "[4.2        1.46666667 4.2        ... 3.86666667 4.         0.06666667]\n",
      "[4. 1. 4. ... 4. 4. 0.]\n",
      "[3.         3.86666667 2.8        ... 0.         4.66666667 1.06666667]\n",
      "[3. 4. 3. ... 0. 5. 1.]\n",
      "[0.8        4.86666667 4.13333333 ... 4.93333333 0.         1.06666667]\n",
      "[1. 5. 4. ... 5. 0. 1.]\n",
      "[1.13333333 3.         4.06666667 ... 2.93333333 3.73333333 2.93333333]\n",
      "[1. 3. 4. ... 3. 4. 3.]\n",
      "[4.33333333 1.73333333 4.8        ... 4.06666667 1.         3.6       ]\n",
      "[4. 2. 5. ... 4. 1. 4.]\n",
      "Accuracy of RF: [0.666131621187801, 0.6613162118780096, 0.6966292134831461, 0.6597110754414125, 0.6677367576243981, 0.6717495987158909, 0.7014446227929374, 0.6837881219903692, 0.6902086677367576, 0.6717495987158909]\n",
      "Mean of Accuracy of RF: 0.6770465489566614\n"
     ]
    }
   ],
   "source": [
    "acc_rfr1 = []\n",
    "for i in range(10):\n",
    "    X_train, X_test, y_train, y_test = train_test_split(tsr_6_input_nomrs, tsr_6_output, test_size=0.3, random_state=i)\n",
    "    rfr1.fit(X_train,y_train)\n",
    "    rfr1_predict = rfr1.predict(X_test)\n",
    "    print(rfr1_predict)\n",
    "    rfr1_predict = np.round(rfr1_predict)\n",
    "    print(rfr1_predict)\n",
    "    accuracy = (y_test == rfr1_predict).sum() / len(rfr1_predict)\n",
    "    acc_rfr1.append(accuracy)\n",
    "\n",
    "print(\"Accuracy of RF:\", acc_rfr1)\n",
    "print(\"Mean of Accuracy of RF:\", sum(acc_rfr1)/10)"
   ]
  },
  {
   "cell_type": "raw",
   "id": "0612bdc9",
   "metadata": {},
   "source": [
    "rfr1.fit(tsr_6_input_nomrs,tsr_6_output)\n",
    "rfr_predict1 =rfr1.predict(tsr_6_input_nomrs)\n",
    "print(rfr_predict1)\n",
    "rfr_predict1 = np.round(rfr_predict1)\n",
    "print(rfr_predict1)\n",
    "print(\"Accuracy of RF:\", (tsr_6_output == rfr_predict1).sum() / len(rfr_predict1))"
   ]
  },
  {
   "cell_type": "code",
   "execution_count": 18,
   "id": "f05e8dd8",
   "metadata": {},
   "outputs": [
    {
     "data": {
      "text/plain": [
       "array([[282, 140,  26,  17,   0,   1],\n",
       "       [ 54, 757, 205,  44,   5,   2],\n",
       "       [  2, 132, 435, 102,  12,   0],\n",
       "       [  0,  14, 130, 378,  72,   2],\n",
       "       [  0,   7,  16, 149, 599,  45],\n",
       "       [  0,   3,   2,  12, 146, 360]], dtype=int64)"
      ]
     },
     "execution_count": 18,
     "metadata": {},
     "output_type": "execute_result"
    }
   ],
   "source": [
    "rfr_pred1 = cross_val_predict(rfr1,tsr_6_input_nomrs,tsr_6_output,cv = 10)\n",
    "rfr_pred1 = np.round(rfr_pred1)\n",
    "confusion_matrix(tsr_6_output, rfr_pred1)"
   ]
  },
  {
   "cell_type": "markdown",
   "id": "e50f8dc9",
   "metadata": {},
   "source": [
    "## XGBoost"
   ]
  },
  {
   "cell_type": "code",
   "execution_count": 19,
   "id": "9230331f",
   "metadata": {},
   "outputs": [
    {
     "name": "stdout",
     "output_type": "stream",
     "text": [
      "[0.99993897 0.99995103 0.99994665 0.99995117 0.99994241 0.99994807\n",
      " 0.99994522 0.99994435 0.99993649 0.99991847]\n",
      "Mean of R^2: 0.999942283896733\n",
      "Std of R^2: 9.123852646233461e-06\n"
     ]
    }
   ],
   "source": [
    "xgbr = XGBRegressor(n_estimators  = 15, objective=\"reg:squarederror\", random_state = 19) \n",
    "xgbr_scores = cross_val_score(xgbr,tsr_6_input,tsr_6_output,cv = 10, scoring='r2')\n",
    "print(xgbr_scores)\n",
    "print(\"Mean of R^2:\", xgbr_scores.mean())\n",
    "print(\"Std of R^2:\", xgbr_scores.std())"
   ]
  },
  {
   "cell_type": "code",
   "execution_count": 20,
   "id": "39c22bb6",
   "metadata": {},
   "outputs": [
    {
     "name": "stdout",
     "output_type": "stream",
     "text": [
      "[4.9782729e+00 3.9831913e+00 3.9831913e+00 ... 2.4217656e-03 3.9831913e+00\n",
      " 9.9760616e-01]\n",
      "[5. 4. 4. ... 0. 4. 1.]\n",
      "[4.9782605 2.9879477 3.9831862 ... 2.9879477 2.9879477 3.9831862]\n",
      "[5. 3. 4. ... 3. 3. 4.]\n",
      "[3.9831941e+00 4.9782672e+00 9.9760556e-01 ... 9.9760556e-01 3.9831941e+00\n",
      " 2.4207328e-03]\n",
      "[4. 5. 1. ... 1. 4. 0.]\n",
      "[3.9831975e+00 9.9760628e-01 2.4219174e-03 ... 1.9927814e+00 9.9760628e-01\n",
      " 9.9760628e-01]\n",
      "[4. 1. 0. ... 2. 1. 1.]\n",
      "[2.9879458e+00 3.9831891e+00 9.9760610e-01 ... 2.4217656e-03 2.9879458e+00\n",
      " 3.9831891e+00]\n",
      "[3. 4. 1. ... 0. 3. 4.]\n",
      "[3.9831920e+00 9.9760544e-01 3.9831920e+00 ... 2.9879527e+00 3.9831920e+00\n",
      " 2.4223770e-03]\n",
      "[4. 1. 4. ... 3. 4. 0.]\n",
      "[2.9879479e+00 4.9782534e+00 3.9831984e+00 ... 2.4210233e-03 4.9782534e+00\n",
      " 9.9760568e-01]\n",
      "[3. 5. 4. ... 0. 5. 1.]\n",
      "[9.9760598e-01 4.9782658e+00 3.9831913e+00 ... 4.9782658e+00 2.4216154e-03\n",
      " 2.4216154e-03]\n",
      "[1. 5. 4. ... 5. 0. 0.]\n",
      "[0.99760574 2.9879508  4.9782515  ... 2.9879508  3.9832036  3.9832036 ]\n",
      "[1. 3. 5. ... 3. 4. 4.]\n",
      "[3.9831922e+00 1.9927840e+00 3.9831922e+00 ... 4.9782381e+00 2.4210233e-03\n",
      " 3.9831922e+00]\n",
      "[4. 2. 4. ... 5. 0. 4.]\n",
      "Accuracy of RF: [1.0, 1.0, 1.0, 1.0, 1.0, 1.0, 1.0, 1.0, 1.0, 1.0]\n",
      "Mean of Accuracy of RF: 1.0\n"
     ]
    }
   ],
   "source": [
    "acc_xgbr = []\n",
    "for i in range(10):\n",
    "    X_train, X_test, y_train, y_test = train_test_split(tsr_6_input, tsr_6_output, test_size=0.3, random_state=i)\n",
    "    xgbr.fit(X_train,y_train)\n",
    "    xgbr_predict = xgbr.predict(X_test)\n",
    "    print(xgbr_predict)\n",
    "    xgbr_predict = np.round(xgbr_predict)\n",
    "    print(xgbr_predict)\n",
    "    accuracy = (y_test == xgbr_predict).sum() / len(xgbr_predict)\n",
    "    acc_xgbr.append(accuracy)\n",
    "\n",
    "print(\"Accuracy of RF:\", acc_xgbr)\n",
    "print(\"Mean of Accuracy of RF:\", sum(acc_xgbr)/10)"
   ]
  },
  {
   "cell_type": "raw",
   "id": "ba37511a",
   "metadata": {},
   "source": [
    "xgbr.fit(tsr_6_input,tsr_6_output)\n",
    "xgbr_predict =xgbr.predict(tsr_6_input)\n",
    "print(xgbr_predict)\n",
    "xgbr_predict = np.round(xgbr_predict)\n",
    "print(xgbr_predict)\n",
    "print(\"Accuracy of RF:\", (tsr_6_output == xgbr_predict).sum() / len(xgbr_predict))"
   ]
  },
  {
   "cell_type": "code",
   "execution_count": 21,
   "id": "9390e4f9",
   "metadata": {},
   "outputs": [
    {
     "data": {
      "text/plain": [
       "array([[ 466,    0,    0,    0,    0,    0],\n",
       "       [   0, 1067,    0,    0,    0,    0],\n",
       "       [   0,    0,  683,    0,    0,    0],\n",
       "       [   0,    0,    0,  596,    0,    0],\n",
       "       [   0,    0,    0,    0,  816,    0],\n",
       "       [   0,    0,    0,    0,    0,  523]], dtype=int64)"
      ]
     },
     "execution_count": 21,
     "metadata": {},
     "output_type": "execute_result"
    }
   ],
   "source": [
    "xgbr_pred = cross_val_predict(xgbr,tsr_6_input,tsr_6_output,cv = 10)\n",
    "xgbr_pred = np.round(xgbr_pred)\n",
    "confusion_matrix(tsr_6_output, xgbr_pred)"
   ]
  },
  {
   "cell_type": "code",
   "execution_count": 22,
   "id": "f219d1ee",
   "metadata": {},
   "outputs": [
    {
     "name": "stdout",
     "output_type": "stream",
     "text": [
      "[0.78461641 0.83812407 0.85364225 0.80021598 0.83401323 0.82829245\n",
      " 0.88028419 0.75923783 0.8452423  0.79136409]\n",
      "Mean of R^2: 0.8215032792722285\n",
      "Std of R^2: 0.03482763312237961\n"
     ]
    }
   ],
   "source": [
    "xgbr1 = RandomForestRegressor(criterion = \"mse\", n_estimators = 15, bootstrap=True, random_state = 19,max_features = 0.8)\n",
    "xgbr_scores1 = cross_val_score(xgbr1,tsr_6_input_nomrs,tsr_6_output,cv = 10, scoring='r2')\n",
    "print(xgbr_scores1)\n",
    "print(\"Mean of R^2:\", xgbr_scores1.mean())\n",
    "print(\"Std of R^2:\", xgbr_scores1.std())"
   ]
  },
  {
   "cell_type": "code",
   "execution_count": 23,
   "id": "44276a45",
   "metadata": {},
   "outputs": [
    {
     "name": "stdout",
     "output_type": "stream",
     "text": [
      "[4.93333333 3.33333333 2.66666667 ... 0.         3.2        0.8       ]\n",
      "[5. 3. 3. ... 0. 3. 1.]\n",
      "[4.46666667 0.86666667 4.13333333 ... 2.33333333 3.66666667 3.93333333]\n",
      "[4. 1. 4. ... 2. 4. 4.]\n",
      "[3.86666667 4.13333333 1.         ... 1.46666667 3.46666667 0.06666667]\n",
      "[4. 4. 1. ... 1. 3. 0.]\n",
      "[2.86666667 0.93333333 1.53333333 ... 1.66666667 1.26666667 0.93333333]\n",
      "[3. 1. 2. ... 2. 1. 1.]\n",
      "[3.2        3.8        2.26666667 ... 0.         3.         3.93333333]\n",
      "[3. 4. 2. ... 0. 3. 4.]\n",
      "[4.2        1.46666667 4.2        ... 3.86666667 4.         0.06666667]\n",
      "[4. 1. 4. ... 4. 4. 0.]\n",
      "[3.         3.86666667 2.8        ... 0.         4.66666667 1.06666667]\n",
      "[3. 4. 3. ... 0. 5. 1.]\n",
      "[0.8        4.86666667 4.13333333 ... 4.93333333 0.         1.06666667]\n",
      "[1. 5. 4. ... 5. 0. 1.]\n",
      "[1.13333333 3.         4.06666667 ... 2.93333333 3.73333333 2.93333333]\n",
      "[1. 3. 4. ... 3. 4. 3.]\n",
      "[4.33333333 1.73333333 4.8        ... 4.06666667 1.         3.6       ]\n",
      "[4. 2. 5. ... 4. 1. 4.]\n",
      "Accuracy of RF: [0.666131621187801, 0.6613162118780096, 0.6966292134831461, 0.6597110754414125, 0.6677367576243981, 0.6717495987158909, 0.7014446227929374, 0.6837881219903692, 0.6902086677367576, 0.6717495987158909]\n",
      "Mean of Accuracy of RF: 0.6770465489566614\n"
     ]
    }
   ],
   "source": [
    "acc_xgbr1 = []\n",
    "for i in range(10):\n",
    "    X_train, X_test, y_train, y_test = train_test_split(tsr_6_input_nomrs, tsr_6_output, test_size=0.3, random_state=i)\n",
    "    xgbr1.fit(X_train,y_train)\n",
    "    xgbr1_predict = xgbr1.predict(X_test)\n",
    "    print(xgbr1_predict)\n",
    "    xgbr1_predict = np.round(xgbr1_predict)\n",
    "    print(xgbr1_predict)\n",
    "    accuracy = (y_test == xgbr1_predict).sum() / len(xgbr1_predict)\n",
    "    acc_xgbr1.append(accuracy)\n",
    "\n",
    "print(\"Accuracy of RF:\", acc_xgbr1)\n",
    "print(\"Mean of Accuracy of RF:\", sum(acc_xgbr1)/10)"
   ]
  },
  {
   "cell_type": "raw",
   "id": "b92a5ee8",
   "metadata": {},
   "source": [
    "xgbr1.fit(tsr_6_input_nomrs,tsr_6_output)\n",
    "xgbr_predict1 =xgbr1.predict(tsr_6_input_nomrs)\n",
    "print(xgbr_predict1)\n",
    "xgbr_predict1 = np.round(xgbr_predict1)\n",
    "print(xgbr_predict1)\n",
    "print(\"Accuracy of RF:\", (tsr_6_output == xgbr_predict1).sum() / len(xgbr_predict1))"
   ]
  },
  {
   "cell_type": "code",
   "execution_count": 24,
   "id": "bf1314ef",
   "metadata": {},
   "outputs": [
    {
     "data": {
      "text/plain": [
       "array([[282, 140,  26,  17,   0,   1],\n",
       "       [ 54, 757, 205,  44,   5,   2],\n",
       "       [  2, 132, 435, 102,  12,   0],\n",
       "       [  0,  14, 130, 378,  72,   2],\n",
       "       [  0,   7,  16, 149, 599,  45],\n",
       "       [  0,   3,   2,  12, 146, 360]], dtype=int64)"
      ]
     },
     "execution_count": 24,
     "metadata": {},
     "output_type": "execute_result"
    }
   ],
   "source": [
    "xgbr_pred1 = cross_val_predict(xgbr1,tsr_6_input_nomrs,tsr_6_output,cv = 10)\n",
    "xgbr_pred1 = np.round(xgbr_pred1)\n",
    "confusion_matrix(tsr_6_output, xgbr_pred1)"
   ]
  },
  {
   "cell_type": "markdown",
   "id": "00750ad9",
   "metadata": {},
   "source": [
    "# 2 classes"
   ]
  },
  {
   "cell_type": "code",
   "execution_count": 25,
   "id": "39e5bc0b",
   "metadata": {},
   "outputs": [],
   "source": [
    "tsr_6_output[(tsr_6_output == 0)|(tsr_6_output == 1)|(tsr_6_output == 2)] = 0\n",
    "tsr_6_output[(tsr_6_output == 3)|(tsr_6_output == 4)|(tsr_6_output == 5)] = 1"
   ]
  },
  {
   "cell_type": "markdown",
   "id": "77001f0b",
   "metadata": {},
   "source": [
    "## SVM"
   ]
  },
  {
   "cell_type": "code",
   "execution_count": 26,
   "id": "922fc9b2",
   "metadata": {
    "scrolled": true
   },
   "outputs": [
    {
     "name": "stdout",
     "output_type": "stream",
     "text": [
      "[0.727862   0.81356089 0.82028994 0.8450266  0.82888114 0.82684768\n",
      " 0.78140753 0.80205846 0.80881142 0.73299616]\n",
      "Mean of R^2: 0.7987741823736992\n",
      "Std of R^2: 0.03779395446884126\n"
     ]
    }
   ],
   "source": [
    "svr2 = LinearSVR(epsilon = 0, dual=False, loss = \"squared_epsilon_insensitive\", C = 1, random_state = 19)\n",
    "svr_scores2 = cross_val_score(svr2,tsr_6_input,tsr_6_output,cv = 10, scoring='r2')\n",
    "print(svr_scores2)\n",
    "print(\"Mean of R^2:\", svr_scores2.mean())\n",
    "print(\"Std of R^2:\", svr_scores2.std())"
   ]
  },
  {
   "cell_type": "code",
   "execution_count": 27,
   "id": "87231c8a",
   "metadata": {},
   "outputs": [
    {
     "name": "stdout",
     "output_type": "stream",
     "text": [
      "[ 0.75781747  0.81620929  0.9585553  ... -0.14269086  0.86187971\n",
      " -0.01030904]\n",
      "[ 1.  1.  1. ... -0.  1. -0.]\n",
      "[1.23249856 0.34602821 0.8637123  ... 0.68432869 0.70787881 0.84225802]\n",
      "[1. 0. 1. ... 1. 1. 1.]\n",
      "[ 1.10548017  1.2155176  -0.08518498 ...  0.0337493   0.8176167\n",
      " -0.17534512]\n",
      "[ 1.  1. -0. ...  0.  1. -0.]\n",
      "[ 0.95709807  0.02324432 -0.20425835 ...  0.13270699 -0.01337053\n",
      " -0.00117275]\n",
      "[ 1.  0. -0. ...  0. -0. -0.]\n",
      "[ 0.7035395   0.78637946  0.21106204 ... -0.1184989   0.77296097\n",
      "  0.85277214]\n",
      "[ 1.  1.  0. ... -0.  1.  1.]\n",
      "[ 0.97068853 -0.0828431   0.76397916 ...  0.75267554  0.73937193\n",
      " -0.17948684]\n",
      "[ 1. -0.  1. ...  1.  1. -0.]\n",
      "[ 0.76490701  1.23007638  0.62510142 ... -0.131473    1.12573497\n",
      " -0.03106504]\n",
      "[ 1.  1.  1. ... -0.  1. -0.]\n",
      "[ 0.00494504  1.01569223  0.78480079 ...  1.01882287 -0.08616495\n",
      " -0.0951651 ]\n",
      "[ 0.  1.  1. ...  1. -0. -0.]\n",
      "[0.07127283 0.60552209 1.2002353  ... 0.67190728 0.89788554 0.78208576]\n",
      "[0. 1. 1. ... 1. 1. 1.]\n",
      "[ 0.95146268  0.52345125  0.91938696 ...  1.24006699 -0.17184452\n",
      "  0.76401032]\n",
      "[ 1.  1.  1. ...  1. -0.  1.]\n",
      "Accuracy of RF: [0.9646869983948636, 0.9582664526484751, 0.9815409309791332, 0.963884430176565, 0.9542536115569823, 0.9807383627608347, 0.9823434991974318, 0.9502407704654896, 0.9502407704654896, 0.9590690208667737]\n",
      "Mean of Accuracy of RF: 0.9645264847512038\n"
     ]
    }
   ],
   "source": [
    "acc_svr2 = []\n",
    "for i in range(10):\n",
    "    X_train, X_test, y_train, y_test = train_test_split(tsr_6_input, tsr_6_output, test_size=0.3, random_state=i)\n",
    "    svr2.fit(X_train,y_train)\n",
    "    svr2_predict = svr2.predict(X_test)\n",
    "    print(svr2_predict)\n",
    "    svr2_predict = np.round(svr2_predict)\n",
    "    print(svr2_predict)\n",
    "    accuracy = (y_test == svr2_predict).sum() / len(svr2_predict)\n",
    "    acc_svr2.append(accuracy)\n",
    "\n",
    "print(\"Accuracy of RF:\", acc_svr2)\n",
    "print(\"Mean of Accuracy of RF:\", sum(acc_svr2)/10)"
   ]
  },
  {
   "cell_type": "raw",
   "id": "b66b6c56",
   "metadata": {},
   "source": [
    "svr2.fit(tsr_6_input,tsr_6_output)\n",
    "svr_predict2 =svr2.predict(tsr_6_input)\n",
    "print(svr_predict2)\n",
    "svr_predict2 = np.round(svr_predict2)\n",
    "print(svr_predict2)\n",
    "print(\"Accuracy of RF:\", (tsr_6_output == svr_predict2).sum() / len(svr_predict2))"
   ]
  },
  {
   "cell_type": "code",
   "execution_count": 28,
   "id": "8b7c1c32",
   "metadata": {},
   "outputs": [
    {
     "data": {
      "text/plain": [
       "array([[   0,    0,    0],\n",
       "       [   2, 2147,   67],\n",
       "       [   0,   71, 1864]], dtype=int64)"
      ]
     },
     "execution_count": 28,
     "metadata": {},
     "output_type": "execute_result"
    }
   ],
   "source": [
    "svr_pred2 = cross_val_predict(svr2,tsr_6_input,tsr_6_output,cv = 10)\n",
    "svr_pred2 = np.round(svr_pred2)\n",
    "confusion_matrix(tsr_6_output, svr_pred2)"
   ]
  },
  {
   "cell_type": "code",
   "execution_count": 29,
   "id": "62f5c069",
   "metadata": {},
   "outputs": [
    {
     "data": {
      "text/plain": [
       "array([[2149,   67],\n",
       "       [  71, 1864]], dtype=int64)"
      ]
     },
     "execution_count": 29,
     "metadata": {},
     "output_type": "execute_result"
    }
   ],
   "source": [
    "svr_pred2[svr_pred2 == -1] = 0\n",
    "svr_pred2[svr_pred2 == 2] = 1\n",
    "confusion_matrix(tsr_6_output, svr_pred2)"
   ]
  },
  {
   "cell_type": "code",
   "execution_count": 30,
   "id": "c53e724e",
   "metadata": {
    "scrolled": true
   },
   "outputs": [
    {
     "name": "stdout",
     "output_type": "stream",
     "text": [
      "[0.56391089 0.66895285 0.72511638 0.73974173 0.7378679  0.71606311\n",
      " 0.71009548 0.66075518 0.735074   0.53413458]\n",
      "Mean of R^2: 0.6791712103358022\n",
      "Std of R^2: 0.07030762706798502\n"
     ]
    }
   ],
   "source": [
    "svr3 = LinearSVR(epsilon = 0, dual=False, loss = \"squared_epsilon_insensitive\", C = 1, random_state = 19)\n",
    "svr_scores3 = cross_val_score(svr3,tsr_6_input_nomrs,tsr_6_output,cv = 10, scoring='r2')\n",
    "print(svr_scores3)\n",
    "print(\"Mean of R^2:\", svr_scores3.mean())\n",
    "print(\"Std of R^2:\", svr_scores3.std())"
   ]
  },
  {
   "cell_type": "code",
   "execution_count": 31,
   "id": "d188790c",
   "metadata": {},
   "outputs": [
    {
     "name": "stdout",
     "output_type": "stream",
     "text": [
      "[ 0.85806713  0.6474175   0.78337678 ... -0.01938124  0.70762786\n",
      " -0.0930031 ]\n",
      "[ 1.  1.  1. ... -0.  1. -0.]\n",
      "[1.10314371 0.04672379 0.67955114 ... 0.65159814 0.70241887 0.76542962]\n",
      "[1. 0. 1. ... 1. 1. 1.]\n",
      "[ 8.93002713e-01  1.14056331e+00 -2.96491330e-02 ... -9.11488045e-04\n",
      "  5.92487590e-01 -4.45403240e-02]\n",
      "[ 1.  1. -0. ... -0.  1. -0.]\n",
      "[ 0.77686294 -0.02845329  0.01532818 ... -0.00499205 -0.02968107\n",
      "  0.03084538]\n",
      "[ 1. -0.  0. ... -0. -0.  0.]\n",
      "[ 0.72116574  0.67637886  0.37895233 ... -0.01416306  0.7718958\n",
      "  0.99385778]\n",
      "[ 1.  1.  0. ... -0.  1.  1.]\n",
      "[ 0.89975054 -0.09084631  0.67827471 ...  0.87074913  0.59467186\n",
      " -0.03225209]\n",
      "[ 1. -0.  1. ...  1.  1. -0.]\n",
      "[ 0.64167997  1.18813081  0.51550701 ... -0.00613614  1.2587248\n",
      "  0.03468118]\n",
      "[ 1.  1.  1. ... -0.  1.  0.]\n",
      "[-0.02499695  0.95096492  0.66811186 ...  1.02188329 -0.02819109\n",
      "  0.01776138]\n",
      "[-0.  1.  1. ...  1. -0.  0.]\n",
      "[0.09950253 0.40090181 1.03848018 ... 0.62095958 0.86999202 0.65835281]\n",
      "[0. 0. 1. ... 1. 1. 1.]\n",
      "[ 0.96650478  0.51397082  1.0231302  ...  1.10837263 -0.00671181\n",
      "  0.6192546 ]\n",
      "[ 1.  1.  1. ...  1. -0.  1.]\n",
      "Accuracy of RF: [0.9149277688603531, 0.8940609951845907, 0.9101123595505618, 0.9012841091492777, 0.9093097913322632, 0.9245585874799358, 0.9197431781701445, 0.9141252006420546, 0.9085072231139647, 0.913322632423756]\n",
      "Mean of Accuracy of RF: 0.9109951845906903\n"
     ]
    }
   ],
   "source": [
    "acc_svr3 = []\n",
    "for i in range(10):\n",
    "    X_train, X_test, y_train, y_test = train_test_split(tsr_6_input_nomrs, tsr_6_output, test_size=0.3, random_state=i)\n",
    "    svr3.fit(X_train,y_train)\n",
    "    svr3_predict = svr3.predict(X_test)\n",
    "    print(svr3_predict)\n",
    "    svr3_predict = np.round(svr3_predict)\n",
    "    print(svr3_predict)\n",
    "    accuracy = (y_test == svr3_predict).sum() / len(svr3_predict)\n",
    "    acc_svr3.append(accuracy)\n",
    "\n",
    "print(\"Accuracy of RF:\", acc_svr3)\n",
    "print(\"Mean of Accuracy of RF:\", sum(acc_svr3)/10)"
   ]
  },
  {
   "cell_type": "code",
   "execution_count": 32,
   "id": "443e15a9",
   "metadata": {},
   "outputs": [
    {
     "name": "stdout",
     "output_type": "stream",
     "text": [
      "[ 0.01243191 -0.02560191  0.00387048 ...  1.23686719  0.21027683\n",
      "  0.10932557]\n",
      "[ 0. -0.  0. ...  1.  0.  0.]\n",
      "Accuracy of RF: 0.9159238737653578\n"
     ]
    }
   ],
   "source": [
    "svr3.fit(tsr_6_input_nomrs,tsr_6_output)\n",
    "svr_predict3 =svr3.predict(tsr_6_input_nomrs)\n",
    "print(svr_predict3)\n",
    "svr_predict3 = np.round(svr_predict3)\n",
    "print(svr_predict3)\n",
    "print(\"Accuracy of RF:\", (tsr_6_output == svr_predict3).sum() / len(svr_predict3))"
   ]
  },
  {
   "cell_type": "code",
   "execution_count": 33,
   "id": "8b7c1c32",
   "metadata": {},
   "outputs": [
    {
     "data": {
      "text/plain": [
       "array([[2034,  182],\n",
       "       [ 223, 1712]], dtype=int64)"
      ]
     },
     "execution_count": 33,
     "metadata": {},
     "output_type": "execute_result"
    }
   ],
   "source": [
    "svr_pred3 = cross_val_predict(svr3,tsr_6_input_nomrs,tsr_6_output,cv = 10)\n",
    "svr_pred3 = np.round(svr_pred3)\n",
    "confusion_matrix(tsr_6_output, svr_pred3)"
   ]
  },
  {
   "cell_type": "markdown",
   "id": "a7baddb7",
   "metadata": {},
   "source": [
    "## RF"
   ]
  },
  {
   "cell_type": "code",
   "execution_count": 34,
   "id": "f9e5f015",
   "metadata": {},
   "outputs": [
    {
     "name": "stdout",
     "output_type": "stream",
     "text": [
      "[1.         1.         1.         0.99986738 1.         1.\n",
      " 1.         1.         1.         1.        ]\n",
      "Mean of R^2: 0.9999867382481705\n",
      "Std of R^2: 3.9785255488455905e-05\n"
     ]
    }
   ],
   "source": [
    "rfr2 = RandomForestRegressor(criterion = \"mse\", n_estimators = 15, bootstrap=True, random_state = 19,max_features = 0.8)\n",
    "rfr_scores2 = cross_val_score(rfr2,tsr_6_input,tsr_6_output,cv = 10, scoring='r2')\n",
    "print(rfr_scores2)\n",
    "print(\"Mean of R^2:\", rfr_scores2.mean())\n",
    "print(\"Std of R^2:\", rfr_scores2.std())"
   ]
  },
  {
   "cell_type": "code",
   "execution_count": 35,
   "id": "df7ba0a2",
   "metadata": {},
   "outputs": [
    {
     "name": "stdout",
     "output_type": "stream",
     "text": [
      "[1. 1. 1. ... 0. 1. 0.]\n",
      "[1. 1. 1. ... 0. 1. 0.]\n",
      "[1. 1. 1. ... 1. 1. 1.]\n",
      "[1. 1. 1. ... 1. 1. 1.]\n",
      "[1. 1. 0. ... 0. 1. 0.]\n",
      "[1. 1. 0. ... 0. 1. 0.]\n",
      "[1. 0. 0. ... 0. 0. 0.]\n",
      "[1. 0. 0. ... 0. 0. 0.]\n",
      "[1. 1. 0. ... 0. 1. 1.]\n",
      "[1. 1. 0. ... 0. 1. 1.]\n",
      "[1. 0. 1. ... 1. 1. 0.]\n",
      "[1. 0. 1. ... 1. 1. 0.]\n",
      "[1. 1. 1. ... 0. 1. 0.]\n",
      "[1. 1. 1. ... 0. 1. 0.]\n",
      "[0. 1. 1. ... 1. 0. 0.]\n",
      "[0. 1. 1. ... 1. 0. 0.]\n",
      "[0. 1. 1. ... 1. 1. 1.]\n",
      "[0. 1. 1. ... 1. 1. 1.]\n",
      "[1. 0. 1. ... 1. 0. 1.]\n",
      "[1. 0. 1. ... 1. 0. 1.]\n",
      "Accuracy of RF: [1.0, 1.0, 1.0, 1.0, 1.0, 1.0, 1.0, 1.0, 1.0, 1.0]\n",
      "Mean of Accuracy of RF: 1.0\n"
     ]
    }
   ],
   "source": [
    "acc_rfr2 = []\n",
    "for i in range(10):\n",
    "    X_train, X_test, y_train, y_test = train_test_split(tsr_6_input, tsr_6_output, test_size=0.3, random_state=i)\n",
    "    rfr2.fit(X_train,y_train)\n",
    "    rfr2_predict = rfr2.predict(X_test)\n",
    "    print(rfr2_predict)\n",
    "    rfr2_predict = np.round(rfr2_predict)\n",
    "    print(rfr2_predict)\n",
    "    accuracy = (y_test == rfr2_predict).sum() / len(rfr2_predict)\n",
    "    acc_rfr2.append(accuracy)\n",
    "\n",
    "print(\"Accuracy of RF:\", acc_rfr2)\n",
    "print(\"Mean of Accuracy of RF:\", sum(acc_rfr2)/10)"
   ]
  },
  {
   "cell_type": "raw",
   "id": "7ecb1ec5",
   "metadata": {},
   "source": [
    "rfr2.fit(tsr_6_input,tsr_6_output)\n",
    "rfr_predict2 =rfr2.predict(tsr_6_input)\n",
    "print(rfr_predict2)\n",
    "rfr_predict2 = np.round(rfr_predict2)\n",
    "print(rfr_predict2)\n",
    "print(\"Accuracy of RF:\", (tsr_6_output == rfr_predict2).sum() / len(rfr_predict2))"
   ]
  },
  {
   "cell_type": "code",
   "execution_count": 36,
   "id": "71dc4b98",
   "metadata": {},
   "outputs": [
    {
     "data": {
      "text/plain": [
       "array([[2216,    0],\n",
       "       [   0, 1935]], dtype=int64)"
      ]
     },
     "execution_count": 36,
     "metadata": {},
     "output_type": "execute_result"
    }
   ],
   "source": [
    "rf_pred2 = cross_val_predict(rfr2,tsr_6_input,tsr_6_output,cv = 10)\n",
    "rf_pred2 = np.round(rf_pred2)\n",
    "confusion_matrix(tsr_6_output, rf_pred2)"
   ]
  },
  {
   "cell_type": "code",
   "execution_count": 37,
   "id": "922fc9b2",
   "metadata": {
    "scrolled": true
   },
   "outputs": [
    {
     "name": "stdout",
     "output_type": "stream",
     "text": [
      "[0.61955993 0.74186447 0.83176085 0.76283567 0.78815204 0.73151756\n",
      " 0.75826261 0.72771581 0.82543574 0.62756759]\n",
      "Mean of R^2: 0.7414672274832117\n",
      "Std of R^2: 0.06800337265622568\n"
     ]
    }
   ],
   "source": [
    "rfr3 = RandomForestRegressor(criterion = \"mse\", n_estimators = 15, bootstrap=True, random_state = 19,max_features = 0.8)\n",
    "rfr_scores3 = cross_val_score(rfr3,tsr_6_input_nomrs,tsr_6_output,cv = 10, scoring='r2')\n",
    "print(rfr_scores3)\n",
    "print(\"Mean of R^2:\", rfr_scores3.mean())\n",
    "print(\"Std of R^2:\", rfr_scores3.std())"
   ]
  },
  {
   "cell_type": "code",
   "execution_count": 38,
   "id": "58a3da06",
   "metadata": {},
   "outputs": [
    {
     "name": "stdout",
     "output_type": "stream",
     "text": [
      "[1.         0.66666667 0.86666667 ... 0.         0.86666667 0.        ]\n",
      "[1. 1. 1. ... 0. 1. 0.]\n",
      "[1.         0.         1.         ... 0.66666667 1.         1.        ]\n",
      "[1. 0. 1. ... 1. 1. 1.]\n",
      "[1.         1.         0.         ... 0.2        0.73333333 0.        ]\n",
      "[1. 1. 0. ... 0. 1. 0.]\n",
      "[0.53333333 0.         0.13333333 ... 0.         0.         0.        ]\n",
      "[1. 0. 0. ... 0. 0. 0.]\n",
      "[0.66666667 0.86666667 0.46666667 ... 0.         0.86666667 0.86666667]\n",
      "[1. 1. 0. ... 0. 1. 1.]\n",
      "[1.         0.06666667 1.         ... 1.         0.73333333 0.        ]\n",
      "[1. 0. 1. ... 1. 1. 0.]\n",
      "[0.86666667 1.         0.73333333 ... 0.         1.         0.        ]\n",
      "[1. 1. 1. ... 0. 1. 0.]\n",
      "[0.         1.         0.93333333 ... 1.         0.         0.        ]\n",
      "[0. 1. 1. ... 1. 0. 0.]\n",
      "[0.         0.8        1.         ... 0.8        0.93333333 0.73333333]\n",
      "[0. 1. 1. ... 1. 1. 1.]\n",
      "[1.  0.  1.  ... 1.  0.  0.8]\n",
      "[1. 0. 1. ... 1. 0. 1.]\n",
      "Accuracy of RF: [0.9325842696629213, 0.9085072231139647, 0.9237560192616372, 0.9093097913322632, 0.9269662921348315, 0.9365971107544141, 0.9261637239165329, 0.9213483146067416, 0.9245585874799358, 0.9093097913322632]\n",
      "Mean of Accuracy of RF: 0.9219101123595503\n"
     ]
    }
   ],
   "source": [
    "acc_rfr3 = []\n",
    "for i in range(10):\n",
    "    X_train, X_test, y_train, y_test = train_test_split(tsr_6_input_nomrs, tsr_6_output, test_size=0.3, random_state=i)\n",
    "    rfr3.fit(X_train,y_train)\n",
    "    rfr3_predict = rfr3.predict(X_test)\n",
    "    print(rfr3_predict)\n",
    "    rfr3_predict = np.round(rfr3_predict)\n",
    "    print(rfr3_predict)\n",
    "    accuracy = (y_test == rfr3_predict).sum() / len(rfr3_predict)\n",
    "    acc_rfr3.append(accuracy)\n",
    "\n",
    "print(\"Accuracy of RF:\", acc_rfr3)\n",
    "print(\"Mean of Accuracy of RF:\", sum(acc_rfr3)/10)"
   ]
  },
  {
   "cell_type": "raw",
   "id": "2421d0a1",
   "metadata": {},
   "source": [
    "rfr3.fit(tsr_6_input_nomrs,tsr_6_output)\n",
    "rfr_predict3 =rfr3.predict(tsr_6_input_nomrs)\n",
    "print(rfr_predict3)\n",
    "rfr_predict3 = np.round(rfr_predict3)\n",
    "print(rfr_predict3)\n",
    "print(\"Accuracy of RF:\", (tsr_6_output == rfr_predict3).sum() / len(rfr_predict3))"
   ]
  },
  {
   "cell_type": "code",
   "execution_count": 39,
   "id": "8b7c1c32",
   "metadata": {},
   "outputs": [
    {
     "data": {
      "text/plain": [
       "array([[2009,  207],\n",
       "       [ 121, 1814]], dtype=int64)"
      ]
     },
     "execution_count": 39,
     "metadata": {},
     "output_type": "execute_result"
    }
   ],
   "source": [
    "rfr_pred3 = cross_val_predict(rfr3,tsr_6_input_nomrs,tsr_6_output,cv = 10)\n",
    "rfr_pred3 = np.round(rfr_pred3)\n",
    "confusion_matrix(tsr_6_output, rfr_pred3)"
   ]
  },
  {
   "cell_type": "markdown",
   "id": "c0d1d828",
   "metadata": {},
   "source": [
    "## XGBoost"
   ]
  },
  {
   "cell_type": "code",
   "execution_count": 40,
   "id": "eeb10ecd",
   "metadata": {},
   "outputs": [
    {
     "name": "stdout",
     "output_type": "stream",
     "text": [
      "[0.99997719 0.99997704 0.99997708 0.99997658 0.99997729 0.99997701\n",
      " 0.99997684 0.9999771  0.99997714 0.99997599]\n",
      "Mean of R^2: 0.999976926155173\n",
      "Std of R^2: 3.6484455271521257e-07\n"
     ]
    }
   ],
   "source": [
    "xgbr2 = XGBRegressor(n_estimators  = 15, objective=\"reg:squarederror\", random_state = 19) \n",
    "xgbr_scores2 = cross_val_score(xgbr2,tsr_6_input,tsr_6_output,cv = 10, scoring='r2')\n",
    "print(xgbr_scores2)\n",
    "print(\"Mean of R^2:\", xgbr_scores2.mean())\n",
    "print(\"Std of R^2:\", xgbr_scores2.std())"
   ]
  },
  {
   "cell_type": "code",
   "execution_count": 41,
   "id": "69e7a6b9",
   "metadata": {},
   "outputs": [
    {
     "name": "stdout",
     "output_type": "stream",
     "text": [
      "[0.9976149  0.9976149  0.9976149  ... 0.00238363 0.9976149  0.00238363]\n",
      "[1. 1. 1. ... 0. 1. 0.]\n",
      "[0.99761474 0.99761474 0.99761474 ... 0.99761474 0.99761474 0.99761474]\n",
      "[1. 1. 1. ... 1. 1. 1.]\n",
      "[0.9976149  0.9976149  0.00238364 ... 0.00238364 0.9976149  0.00238364]\n",
      "[1. 1. 0. ... 0. 1. 0.]\n",
      "[0.99761486 0.00238357 0.00238357 ... 0.00238357 0.00238357 0.00238357]\n",
      "[1. 0. 0. ... 0. 0. 0.]\n",
      "[0.99761486 0.99761486 0.00238357 ... 0.00238357 0.99761486 0.99761486]\n",
      "[1. 1. 0. ... 0. 1. 1.]\n",
      "[0.99761504 0.00238371 0.99761504 ... 0.99761504 0.99761504 0.00238371]\n",
      "[1. 0. 1. ... 1. 1. 0.]\n",
      "[0.997615   0.997615   0.997615   ... 0.00238366 0.997615   0.00238366]\n",
      "[1. 1. 1. ... 0. 1. 0.]\n",
      "[0.00238354 0.9976148  0.9976148  ... 0.9976148  0.00238354 0.00238354]\n",
      "[0. 1. 1. ... 1. 0. 0.]\n",
      "[0.0023838  0.99761516 0.99761516 ... 0.99761516 0.99761516 0.99761516]\n",
      "[0. 1. 1. ... 1. 1. 1.]\n",
      "[0.9976148  0.00238355 0.9976148  ... 0.9976148  0.00238355 0.9976148 ]\n",
      "[1. 0. 1. ... 1. 0. 1.]\n",
      "Accuracy of RF: [1.0, 1.0, 1.0, 1.0, 1.0, 1.0, 1.0, 1.0, 1.0, 1.0]\n",
      "Mean of Accuracy of RF: 1.0\n"
     ]
    }
   ],
   "source": [
    "acc_xgbr2 = []\n",
    "for i in range(10):\n",
    "    X_train, X_test, y_train, y_test = train_test_split(tsr_6_input, tsr_6_output, test_size=0.3, random_state=i)\n",
    "    xgbr2.fit(X_train,y_train)\n",
    "    xgbr2_predict = xgbr2.predict(X_test)\n",
    "    print(xgbr2_predict)\n",
    "    xgbr2_predict = np.round(xgbr2_predict)\n",
    "    print(xgbr2_predict)\n",
    "    accuracy = (y_test == xgbr2_predict).sum() / len(xgbr2_predict)\n",
    "    acc_xgbr2.append(accuracy)\n",
    "\n",
    "print(\"Accuracy of RF:\", acc_xgbr2)\n",
    "print(\"Mean of Accuracy of RF:\", sum(acc_xgbr2)/10)"
   ]
  },
  {
   "cell_type": "raw",
   "id": "6ad4b7e6",
   "metadata": {},
   "source": [
    "xgbr2.fit(tsr_6_input,tsr_6_output)\n",
    "xgbr_predict2 =xgbr2.predict(tsr_6_input)\n",
    "print(xgbr_predict2)\n",
    "xgbr_predict2 = np.round(xgbr_predict2)\n",
    "print(xgbr_predict2)\n",
    "print(\"Accuracy of RF:\", (tsr_6_output == xgbr_predict2).sum() / len(xgbr_predict2))"
   ]
  },
  {
   "cell_type": "code",
   "execution_count": 42,
   "id": "5c552aa9",
   "metadata": {},
   "outputs": [
    {
     "data": {
      "text/plain": [
       "array([[2216,    0],\n",
       "       [   0, 1935]], dtype=int64)"
      ]
     },
     "execution_count": 42,
     "metadata": {},
     "output_type": "execute_result"
    }
   ],
   "source": [
    "xgbr_pred2 = cross_val_predict(xgbr2,tsr_6_input,tsr_6_output,cv = 10)\n",
    "xgbr_pred2 = np.round(xgbr_pred2)\n",
    "confusion_matrix(tsr_6_output, xgbr_pred2)"
   ]
  },
  {
   "cell_type": "code",
   "execution_count": 43,
   "id": "922fc9b2",
   "metadata": {
    "scrolled": true
   },
   "outputs": [
    {
     "name": "stdout",
     "output_type": "stream",
     "text": [
      "[0.66684919 0.7667298  0.81267796 0.76909761 0.77169132 0.7166649\n",
      " 0.78748053 0.68365637 0.83661724 0.61305075]\n",
      "Mean of R^2: 0.7424515666316938\n",
      "Std of R^2: 0.06675556623211351\n"
     ]
    }
   ],
   "source": [
    "xgbr3 = XGBRegressor(n_estimators  = 15, objective=\"reg:squarederror\", random_state = 19) \n",
    "xgbr_scores3 = cross_val_score(xgbr3,tsr_6_input_nomrs,tsr_6_output,cv = 10, scoring='r2')\n",
    "print(xgbr_scores3)\n",
    "print(\"Mean of R^2:\", xgbr_scores3.mean())\n",
    "print(\"Std of R^2:\", xgbr_scores3.std())"
   ]
  },
  {
   "cell_type": "code",
   "execution_count": 44,
   "id": "030714e0",
   "metadata": {},
   "outputs": [
    {
     "name": "stdout",
     "output_type": "stream",
     "text": [
      "[ 9.1425282e-01  8.7836862e-01  9.2156327e-01 ... -8.7596243e-04\n",
      "  9.8789114e-01  4.4615595e-03]\n",
      "[ 1.  1.  1. ... -0.  1.  0.]\n",
      "[ 1.0023288 -0.0074449  0.8080402 ...  0.8441419  0.9192201  1.0176051]\n",
      "[ 1. -0.  1. ...  1.  1.  1.]\n",
      "[0.8695944  0.9827018  0.0012117  ... 0.4121816  0.9345941  0.00659465]\n",
      "[1. 1. 0. ... 0. 1. 0.]\n",
      "[ 0.2781615   0.01376157 -0.00159715 ...  0.01517371 -0.00272453\n",
      "  0.01114556]\n",
      "[ 0.  0. -0. ...  0. -0.  0.]\n",
      "[0.7300358  0.6739242  0.7824044  ... 0.00269532 0.93173903 0.91431457]\n",
      "[1. 1. 1. ... 0. 1. 1.]\n",
      "[ 0.98446137  0.01122049  0.8603599  ...  1.0189377   0.7383886\n",
      " -0.00197598]\n",
      "[ 1.  0.  1. ...  1.  1. -0.]\n",
      "[9.5698106e-01 9.9468923e-01 9.3026048e-01 ... 1.5293702e-04 9.9763811e-01\n",
      " 3.3327300e-02]\n",
      "[1. 1. 1. ... 0. 1. 0.]\n",
      "[ 0.0299752   1.0103089   0.99754614 ...  0.9980083  -0.00706562\n",
      "  0.0388917 ]\n",
      "[ 0.  1.  1. ...  1. -0.  0.]\n",
      "[0.01814644 0.58289903 1.0050956  ... 0.808921   0.9621824  0.90636224]\n",
      "[0. 1. 1. ... 1. 1. 1.]\n",
      "[ 1.086577    0.06123479  1.0174953  ...  1.0089079  -0.00566712\n",
      "  0.95237523]\n",
      "[ 1.  0.  1. ...  1. -0.  1.]\n",
      "Accuracy of RF: [0.9269662921348315, 0.9101123595505618, 0.9229534510433387, 0.9077046548956661, 0.9189406099518459, 0.9333868378812199, 0.92776886035313, 0.9157303370786517, 0.9197431781701445, 0.9052969502407705]\n",
      "Mean of Accuracy of RF: 0.9188603531300161\n"
     ]
    }
   ],
   "source": [
    "acc_xgbr3 = []\n",
    "for i in range(10):\n",
    "    X_train, X_test, y_train, y_test = train_test_split(tsr_6_input_nomrs, tsr_6_output, test_size=0.3, random_state=i)\n",
    "    xgbr3.fit(X_train,y_train)\n",
    "    xgbr3_predict = xgbr3.predict(X_test)\n",
    "    print(xgbr3_predict)\n",
    "    xgbr3_predict = np.round(xgbr3_predict)\n",
    "    print(xgbr3_predict)\n",
    "    accuracy = (y_test == xgbr3_predict).sum() / len(xgbr3_predict)\n",
    "    acc_xgbr3.append(accuracy)\n",
    "\n",
    "print(\"Accuracy of RF:\", acc_xgbr3)\n",
    "print(\"Mean of Accuracy of RF:\", sum(acc_xgbr3)/10)"
   ]
  },
  {
   "cell_type": "raw",
   "id": "59b7edd1",
   "metadata": {},
   "source": [
    "xgbr3.fit(tsr_6_input_nomrs,tsr_6_output)\n",
    "xgbr_predict3 =xgbr3.predict(tsr_6_input_nomrs)\n",
    "print(xgbr_predict3)\n",
    "xgbr_predict3 = np.round(xgbr_predict3)\n",
    "print(xgbr_predict3)\n",
    "print(\"Accuracy of RF:\", (tsr_6_output == xgbr_predict3).sum() / len(xgbr_predict3))"
   ]
  },
  {
   "cell_type": "code",
   "execution_count": 45,
   "id": "8b7c1c32",
   "metadata": {},
   "outputs": [
    {
     "data": {
      "text/plain": [
       "array([[2008,  208],\n",
       "       [ 118, 1817]], dtype=int64)"
      ]
     },
     "execution_count": 45,
     "metadata": {},
     "output_type": "execute_result"
    }
   ],
   "source": [
    "xgbr_pred3 = cross_val_predict(xgbr3,tsr_6_input_nomrs,tsr_6_output,cv = 10)\n",
    "xgbr_pred3 = np.round(xgbr_pred3)\n",
    "confusion_matrix(tsr_6_output, xgbr_pred3)"
   ]
  },
  {
   "cell_type": "markdown",
   "id": "06f91a74",
   "metadata": {},
   "source": [
    "# Summary"
   ]
  },
  {
   "cell_type": "markdown",
   "id": "b12b47bd",
   "metadata": {},
   "source": [
    "## Mean & Std"
   ]
  },
  {
   "cell_type": "code",
   "execution_count": 46,
   "id": "10081ee5",
   "metadata": {},
   "outputs": [],
   "source": [
    "svr_mean = np.array([svr_scores.mean(), svr_scores.std(), svr_scores[0], svr_scores[1], svr_scores[2], svr_scores[3],\n",
    "                     svr_scores[4], svr_scores[5], svr_scores[6], svr_scores[7], svr_scores[8], svr_scores[9]])\n",
    "rfr_mean = np.array([rfr_scores.mean(), rfr_scores.std(), rfr_scores[0], rfr_scores[1], rfr_scores[2], rfr_scores[3],rfr_scores[4], \n",
    "                    rfr_scores[5], rfr_scores[6], rfr_scores[7], rfr_scores[8], rfr_scores[9]])\n",
    "xgbr_mean = np.array([xgbr_scores.mean(), xgbr_scores.std(), xgbr_scores[0], xgbr_scores[1], xgbr_scores[2], xgbr_scores[3],\n",
    "                     xgbr_scores[4], xgbr_scores[5], xgbr_scores[6], xgbr_scores[7], xgbr_scores[8], xgbr_scores[9]])\n",
    "svr_mean2 = np.array([svr_scores2.mean(), svr_scores2.std(), svr_scores2[0], svr_scores2[1], svr_scores2[2], svr_scores2[3],\n",
    "                     svr_scores2[4], svr_scores2[5], svr_scores2[6], svr_scores2[7], svr_scores2[8], svr_scores2[9]])\n",
    "rfr_mean2 = np.array([rfr_scores2.mean(), rfr_scores2.std(), rfr_scores2[0], rfr_scores2[1], rfr_scores2[2], rfr_scores2[3],rfr_scores2[4], \n",
    "                    rfr_scores2[5], rfr_scores2[6], rfr_scores2[7], rfr_scores2[8], rfr_scores2[9]])\n",
    "xgbr_mean2 = np.array([xgbr_scores2.mean(), xgbr_scores2.std(), xgbr_scores2[0], xgbr_scores2[1], xgbr_scores2[2], xgbr_scores2[3],\n",
    "                     xgbr_scores2[4], xgbr_scores2[5], xgbr_scores2[6], xgbr_scores2[7], xgbr_scores2[8], xgbr_scores2[9]])"
   ]
  },
  {
   "cell_type": "code",
   "execution_count": 47,
   "id": "1ff321fe",
   "metadata": {},
   "outputs": [],
   "source": [
    "tsr_6_mean = pd.DataFrame([svr_mean, rfr_mean, xgbr_mean, svr_mean2, rfr_mean2, xgbr_mean2]).T\n",
    "tsr_6_mean.index = [\"Mean\", \"Std\", \"R^2_1\", \"R^2_2\", \"R^2_3\", \"R^2_4\", \"R^2_5\", \"R^2_6\", \"R^2_7\", \"R^2_8\", \"R^2_9\", \"R^2_10\"]\n",
    "tsr_6_mean.columns = [\"svr\", 'rfr', 'xgbr', 'svr2', 'rfr2', 'xgbr2']"
   ]
  },
  {
   "cell_type": "code",
   "execution_count": 48,
   "id": "d858688a",
   "metadata": {},
   "outputs": [],
   "source": [
    "csv_save = os.path.join(\".\", \"tsr_6_mean_regression.csv\")\n",
    "tsr_6_mean.to_csv(csv_save, index = True)"
   ]
  },
  {
   "cell_type": "code",
   "execution_count": null,
   "id": "55879a5c",
   "metadata": {},
   "outputs": [],
   "source": []
  }
 ],
 "metadata": {
  "kernelspec": {
   "display_name": "Python 3",
   "language": "python",
   "name": "python3"
  },
  "language_info": {
   "codemirror_mode": {
    "name": "ipython",
    "version": 3
   },
   "file_extension": ".py",
   "mimetype": "text/x-python",
   "name": "python",
   "nbconvert_exporter": "python",
   "pygments_lexer": "ipython3",
   "version": "3.8.8"
  }
 },
 "nbformat": 4,
 "nbformat_minor": 5
}
