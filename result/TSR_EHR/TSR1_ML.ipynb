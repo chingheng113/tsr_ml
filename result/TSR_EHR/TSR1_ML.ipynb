{
 "cells": [
  {
   "cell_type": "code",
   "execution_count": 1,
   "id": "f8be38cb",
   "metadata": {},
   "outputs": [],
   "source": [
    "import pandas as pd\n",
    "import os\n",
    "import numpy as np\n",
    "from sklearn.model_selection import cross_val_score\n",
    "from sklearn.calibration import CalibratedClassifierCV\n",
    "from sklearn.svm import LinearSVC\n",
    "from sklearn.ensemble import RandomForestClassifier\n",
    "from xgboost import XGBClassifier\n",
    "from sklearn.model_selection import cross_val_predict\n",
    "from sklearn.metrics import confusion_matrix"
   ]
  },
  {
   "cell_type": "code",
   "execution_count": 2,
   "id": "bf2ab166",
   "metadata": {},
   "outputs": [
    {
     "data": {
      "text/html": [
       "<div>\n",
       "<style scoped>\n",
       "    .dataframe tbody tr th:only-of-type {\n",
       "        vertical-align: middle;\n",
       "    }\n",
       "\n",
       "    .dataframe tbody tr th {\n",
       "        vertical-align: top;\n",
       "    }\n",
       "\n",
       "    .dataframe thead th {\n",
       "        text-align: right;\n",
       "    }\n",
       "</style>\n",
       "<table border=\"1\" class=\"dataframe\">\n",
       "  <thead>\n",
       "    <tr style=\"text-align: right;\">\n",
       "      <th></th>\n",
       "      <th>height_nm</th>\n",
       "      <th>weight_nm</th>\n",
       "      <th>edu_id</th>\n",
       "      <th>pro_id</th>\n",
       "      <th>opc_id</th>\n",
       "      <th>ih_fl</th>\n",
       "      <th>ivtpamg_nm</th>\n",
       "      <th>hospitalised_time</th>\n",
       "      <th>nivtpa_id</th>\n",
       "      <th>nivtpa1_fl</th>\n",
       "      <th>...</th>\n",
       "      <th>nihs_6br_out</th>\n",
       "      <th>nihs_7_out</th>\n",
       "      <th>nihs_8_out</th>\n",
       "      <th>nihs_9_out</th>\n",
       "      <th>nihs_10_out</th>\n",
       "      <th>nihs_11_out</th>\n",
       "      <th>total_out</th>\n",
       "      <th>SexName</th>\n",
       "      <th>Age</th>\n",
       "      <th>mrs_tx_1</th>\n",
       "    </tr>\n",
       "  </thead>\n",
       "  <tbody>\n",
       "    <tr>\n",
       "      <th>0</th>\n",
       "      <td>150.0</td>\n",
       "      <td>49.0</td>\n",
       "      <td>2</td>\n",
       "      <td>1</td>\n",
       "      <td>3</td>\n",
       "      <td>0</td>\n",
       "      <td>0.0</td>\n",
       "      <td>16.0</td>\n",
       "      <td>1</td>\n",
       "      <td>0</td>\n",
       "      <td>...</td>\n",
       "      <td>0</td>\n",
       "      <td>0</td>\n",
       "      <td>0</td>\n",
       "      <td>0</td>\n",
       "      <td>0</td>\n",
       "      <td>0</td>\n",
       "      <td>8</td>\n",
       "      <td>0</td>\n",
       "      <td>66.0</td>\n",
       "      <td>4</td>\n",
       "    </tr>\n",
       "    <tr>\n",
       "      <th>1</th>\n",
       "      <td>153.0</td>\n",
       "      <td>62.0</td>\n",
       "      <td>3</td>\n",
       "      <td>1</td>\n",
       "      <td>3</td>\n",
       "      <td>0</td>\n",
       "      <td>0.0</td>\n",
       "      <td>8.0</td>\n",
       "      <td>0</td>\n",
       "      <td>999</td>\n",
       "      <td>...</td>\n",
       "      <td>0</td>\n",
       "      <td>1</td>\n",
       "      <td>1</td>\n",
       "      <td>0</td>\n",
       "      <td>1</td>\n",
       "      <td>0</td>\n",
       "      <td>4</td>\n",
       "      <td>0</td>\n",
       "      <td>67.0</td>\n",
       "      <td>1</td>\n",
       "    </tr>\n",
       "    <tr>\n",
       "      <th>2</th>\n",
       "      <td>152.0</td>\n",
       "      <td>62.0</td>\n",
       "      <td>3</td>\n",
       "      <td>1</td>\n",
       "      <td>2</td>\n",
       "      <td>0</td>\n",
       "      <td>0.0</td>\n",
       "      <td>4.0</td>\n",
       "      <td>0</td>\n",
       "      <td>999</td>\n",
       "      <td>...</td>\n",
       "      <td>0</td>\n",
       "      <td>0</td>\n",
       "      <td>1</td>\n",
       "      <td>0</td>\n",
       "      <td>0</td>\n",
       "      <td>0</td>\n",
       "      <td>1</td>\n",
       "      <td>0</td>\n",
       "      <td>69.0</td>\n",
       "      <td>1</td>\n",
       "    </tr>\n",
       "    <tr>\n",
       "      <th>3</th>\n",
       "      <td>148.0</td>\n",
       "      <td>56.0</td>\n",
       "      <td>2</td>\n",
       "      <td>1</td>\n",
       "      <td>2</td>\n",
       "      <td>0</td>\n",
       "      <td>0.0</td>\n",
       "      <td>5.0</td>\n",
       "      <td>0</td>\n",
       "      <td>999</td>\n",
       "      <td>...</td>\n",
       "      <td>0</td>\n",
       "      <td>0</td>\n",
       "      <td>1</td>\n",
       "      <td>0</td>\n",
       "      <td>0</td>\n",
       "      <td>0</td>\n",
       "      <td>2</td>\n",
       "      <td>0</td>\n",
       "      <td>71.0</td>\n",
       "      <td>0</td>\n",
       "    </tr>\n",
       "    <tr>\n",
       "      <th>4</th>\n",
       "      <td>152.0</td>\n",
       "      <td>56.0</td>\n",
       "      <td>4</td>\n",
       "      <td>1</td>\n",
       "      <td>2</td>\n",
       "      <td>0</td>\n",
       "      <td>0.0</td>\n",
       "      <td>3.0</td>\n",
       "      <td>1</td>\n",
       "      <td>0</td>\n",
       "      <td>...</td>\n",
       "      <td>0</td>\n",
       "      <td>0</td>\n",
       "      <td>0</td>\n",
       "      <td>0</td>\n",
       "      <td>0</td>\n",
       "      <td>0</td>\n",
       "      <td>0</td>\n",
       "      <td>0</td>\n",
       "      <td>71.0</td>\n",
       "      <td>0</td>\n",
       "    </tr>\n",
       "  </tbody>\n",
       "</table>\n",
       "<p>5 rows × 307 columns</p>\n",
       "</div>"
      ],
      "text/plain": [
       "   height_nm  weight_nm  edu_id  pro_id  opc_id  ih_fl  ivtpamg_nm  \\\n",
       "0      150.0       49.0       2       1       3      0         0.0   \n",
       "1      153.0       62.0       3       1       3      0         0.0   \n",
       "2      152.0       62.0       3       1       2      0         0.0   \n",
       "3      148.0       56.0       2       1       2      0         0.0   \n",
       "4      152.0       56.0       4       1       2      0         0.0   \n",
       "\n",
       "   hospitalised_time  nivtpa_id  nivtpa1_fl  ...  nihs_6br_out  nihs_7_out  \\\n",
       "0               16.0          1           0  ...             0           0   \n",
       "1                8.0          0         999  ...             0           1   \n",
       "2                4.0          0         999  ...             0           0   \n",
       "3                5.0          0         999  ...             0           0   \n",
       "4                3.0          1           0  ...             0           0   \n",
       "\n",
       "   nihs_8_out  nihs_9_out  nihs_10_out  nihs_11_out  total_out  SexName   Age  \\\n",
       "0           0           0            0            0          8        0  66.0   \n",
       "1           1           0            1            0          4        0  67.0   \n",
       "2           1           0            0            0          1        0  69.0   \n",
       "3           1           0            0            0          2        0  71.0   \n",
       "4           0           0            0            0          0        0  71.0   \n",
       "\n",
       "   mrs_tx_1  \n",
       "0         4  \n",
       "1         1  \n",
       "2         1  \n",
       "3         0  \n",
       "4         0  \n",
       "\n",
       "[5 rows x 307 columns]"
      ]
     },
     "execution_count": 2,
     "metadata": {},
     "output_type": "execute_result"
    }
   ],
   "source": [
    "csv_path = os.path.join(\"..\", \"..\", \"data\",\"LINKED_DATA\", \"TSR_EHR\", \"TSR_1_CLEANED.csv\")\n",
    "tsr_1 = pd.read_csv(csv_path)\n",
    "tsr_1.head()"
   ]
  },
  {
   "cell_type": "code",
   "execution_count": 3,
   "id": "14e077d6",
   "metadata": {},
   "outputs": [],
   "source": [
    "tsr_1_input = tsr_1.drop([\"mrs_tx_1\"], axis=1)\n",
    "tsr_1_input[tsr_1_input == \"N\"] = 0\n",
    "tsr_1_input[tsr_1_input == \"Y\"] = 1\n",
    "tsr_1_input = tsr_1_input.astype(\"float64\")\n",
    "tsr_1_input = np.array(tsr_1_input.values)"
   ]
  },
  {
   "cell_type": "markdown",
   "id": "9e108841",
   "metadata": {},
   "source": [
    "# 6 classes"
   ]
  },
  {
   "cell_type": "code",
   "execution_count": 4,
   "id": "35764cee",
   "metadata": {},
   "outputs": [],
   "source": [
    "tsr_1_output = tsr_1.mrs_tx_1\n",
    "tsr_1_output = tsr_1_output.astype(\"float64\")\n",
    "tsr_1_output = np.array(tsr_1_output.values)"
   ]
  },
  {
   "cell_type": "markdown",
   "id": "897a6fcc",
   "metadata": {},
   "source": [
    "## SVM"
   ]
  },
  {
   "cell_type": "code",
   "execution_count": 5,
   "id": "13e8103a",
   "metadata": {},
   "outputs": [
    {
     "name": "stderr",
     "output_type": "stream",
     "text": [
      "C:\\Users\\Jacky C\\Anaconda3\\envs\\tsr_ml\\lib\\site-packages\\sklearn\\svm\\_base.py:976: ConvergenceWarning: Liblinear failed to converge, increase the number of iterations.\n",
      "  warnings.warn(\"Liblinear failed to converge, increase \"\n",
      "C:\\Users\\Jacky C\\Anaconda3\\envs\\tsr_ml\\lib\\site-packages\\sklearn\\svm\\_base.py:976: ConvergenceWarning: Liblinear failed to converge, increase the number of iterations.\n",
      "  warnings.warn(\"Liblinear failed to converge, increase \"\n",
      "C:\\Users\\Jacky C\\Anaconda3\\envs\\tsr_ml\\lib\\site-packages\\sklearn\\svm\\_base.py:976: ConvergenceWarning: Liblinear failed to converge, increase the number of iterations.\n",
      "  warnings.warn(\"Liblinear failed to converge, increase \"\n",
      "C:\\Users\\Jacky C\\Anaconda3\\envs\\tsr_ml\\lib\\site-packages\\sklearn\\svm\\_base.py:976: ConvergenceWarning: Liblinear failed to converge, increase the number of iterations.\n",
      "  warnings.warn(\"Liblinear failed to converge, increase \"\n"
     ]
    },
    {
     "name": "stdout",
     "output_type": "stream",
     "text": [
      "[0.53777778 0.60296296 0.60148148 0.5837037  0.59259259 0.59555556\n",
      " 0.64592593 0.6162963  0.64444444 0.49851632]\n",
      "0.5919257061215519 0.042684698077643066\n"
     ]
    },
    {
     "name": "stderr",
     "output_type": "stream",
     "text": [
      "C:\\Users\\Jacky C\\Anaconda3\\envs\\tsr_ml\\lib\\site-packages\\sklearn\\svm\\_base.py:976: ConvergenceWarning: Liblinear failed to converge, increase the number of iterations.\n",
      "  warnings.warn(\"Liblinear failed to converge, increase \"\n"
     ]
    }
   ],
   "source": [
    "svc = CalibratedClassifierCV(LinearSVC(penalty = \"l2\", dual=False, loss = \"squared_hinge\", C = 1, multi_class = \"ovr\", \n",
    "                                       random_state = 19)) \n",
    "svc_scores = cross_val_score(svc,tsr_1_input,tsr_1_output,cv = 10, scoring='accuracy')\n",
    "print(svc_scores)\n",
    "print(svc_scores.mean(), svc_scores.std())"
   ]
  },
  {
   "cell_type": "code",
   "execution_count": 6,
   "id": "d0638939",
   "metadata": {},
   "outputs": [
    {
     "name": "stderr",
     "output_type": "stream",
     "text": [
      "C:\\Users\\Jacky C\\Anaconda3\\envs\\tsr_ml\\lib\\site-packages\\sklearn\\svm\\_base.py:976: ConvergenceWarning: Liblinear failed to converge, increase the number of iterations.\n",
      "  warnings.warn(\"Liblinear failed to converge, increase \"\n"
     ]
    },
    {
     "name": "stdout",
     "output_type": "stream",
     "text": [
      "[[2.94226221e-03 6.94550526e-02 2.04117201e-02 1.51821604e-01\n",
      "  6.46611286e-01 1.08758076e-01]\n",
      " [1.49927560e-01 4.58113836e-01 2.58483116e-01 5.64449406e-02\n",
      "  7.04024524e-02 6.62809536e-03]\n",
      " [1.61699064e-01 5.26369628e-01 1.90600135e-01 4.70856222e-02\n",
      "  6.72523119e-02 6.99323950e-03]\n",
      " ...\n",
      " [5.74485032e-05 5.11739154e-03 1.14039250e-02 1.71036376e-02\n",
      "  3.20906142e-02 9.34226983e-01]\n",
      " [5.25512810e-05 7.34149835e-03 2.09117323e-03 1.02760247e-01\n",
      "  2.92274883e-01 5.95479647e-01]\n",
      " [3.29482781e-04 3.06614793e-02 1.28105606e-02 9.42863665e-02\n",
      "  3.64832020e-01 4.97080091e-01]]\n"
     ]
    },
    {
     "name": "stderr",
     "output_type": "stream",
     "text": [
      "C:\\Users\\Jacky C\\Anaconda3\\envs\\tsr_ml\\lib\\site-packages\\sklearn\\svm\\_base.py:976: ConvergenceWarning: Liblinear failed to converge, increase the number of iterations.\n",
      "  warnings.warn(\"Liblinear failed to converge, increase \"\n"
     ]
    }
   ],
   "source": [
    "svc.fit(tsr_1_input,tsr_1_output)\n",
    "svc_predict =svc.predict_proba(tsr_1_input)\n",
    "print(svc_predict)"
   ]
  },
  {
   "cell_type": "code",
   "execution_count": 7,
   "id": "b08737af",
   "metadata": {},
   "outputs": [
    {
     "name": "stderr",
     "output_type": "stream",
     "text": [
      "C:\\Users\\Jacky C\\Anaconda3\\envs\\tsr_ml\\lib\\site-packages\\sklearn\\svm\\_base.py:976: ConvergenceWarning: Liblinear failed to converge, increase the number of iterations.\n",
      "  warnings.warn(\"Liblinear failed to converge, increase \"\n",
      "C:\\Users\\Jacky C\\Anaconda3\\envs\\tsr_ml\\lib\\site-packages\\sklearn\\svm\\_base.py:976: ConvergenceWarning: Liblinear failed to converge, increase the number of iterations.\n",
      "  warnings.warn(\"Liblinear failed to converge, increase \"\n",
      "C:\\Users\\Jacky C\\Anaconda3\\envs\\tsr_ml\\lib\\site-packages\\sklearn\\svm\\_base.py:976: ConvergenceWarning: Liblinear failed to converge, increase the number of iterations.\n",
      "  warnings.warn(\"Liblinear failed to converge, increase \"\n",
      "C:\\Users\\Jacky C\\Anaconda3\\envs\\tsr_ml\\lib\\site-packages\\sklearn\\svm\\_base.py:976: ConvergenceWarning: Liblinear failed to converge, increase the number of iterations.\n",
      "  warnings.warn(\"Liblinear failed to converge, increase \"\n",
      "C:\\Users\\Jacky C\\Anaconda3\\envs\\tsr_ml\\lib\\site-packages\\sklearn\\svm\\_base.py:976: ConvergenceWarning: Liblinear failed to converge, increase the number of iterations.\n",
      "  warnings.warn(\"Liblinear failed to converge, increase \"\n"
     ]
    },
    {
     "data": {
      "text/plain": [
       "array([[ 274,  219,   23,   30,   10,    2],\n",
       "       [ 115,  881,  166,   58,   45,    4],\n",
       "       [  20,  339,  345,  109,  112,    7],\n",
       "       [   7,   64,  156,  224,  377,   27],\n",
       "       [   1,   27,   39,  116,  980,  337],\n",
       "       [   1,    8,   12,   15,  308, 1291]], dtype=int64)"
      ]
     },
     "execution_count": 7,
     "metadata": {},
     "output_type": "execute_result"
    }
   ],
   "source": [
    "svc_pred = cross_val_predict(svc,tsr_1_input,tsr_1_output,cv = 10)\n",
    "confusion_matrix(tsr_1_output, svc_pred)"
   ]
  },
  {
   "cell_type": "markdown",
   "id": "c5a9f998",
   "metadata": {},
   "source": [
    "## RF"
   ]
  },
  {
   "cell_type": "code",
   "execution_count": 8,
   "id": "5b4f5fac",
   "metadata": {},
   "outputs": [
    {
     "name": "stdout",
     "output_type": "stream",
     "text": [
      "[0.69481481 0.76592593 0.72296296 0.7037037  0.74074074 0.75555556\n",
      " 0.80148148 0.79407407 0.78222222 0.64094955]\n",
      "0.7402431036377622 0.047813339288996774\n"
     ]
    }
   ],
   "source": [
    "rf = CalibratedClassifierCV(RandomForestClassifier(criterion = \"gini\", n_estimators = 15, bootstrap=True, random_state = 19,\n",
    "                                                  max_features = 0.8)) \n",
    "rf_scores = cross_val_score(rf,tsr_1_input,tsr_1_output,cv = 10, scoring='accuracy')\n",
    "print(rf_scores)\n",
    "print(rf_scores.mean(), rf_scores.std())"
   ]
  },
  {
   "cell_type": "code",
   "execution_count": 9,
   "id": "b1223528",
   "metadata": {},
   "outputs": [
    {
     "name": "stdout",
     "output_type": "stream",
     "text": [
      "[[0.02161392 0.03984294 0.03374814 0.06501049 0.80230888 0.03747563]\n",
      " [0.03740463 0.82121215 0.04082079 0.03206861 0.04079358 0.02770024]\n",
      " [0.02284936 0.84885682 0.03493287 0.03083941 0.03628596 0.02623558]\n",
      " ...\n",
      " [0.0197908  0.03658606 0.03069316 0.02950689 0.03468654 0.84873654]\n",
      " [0.0197908  0.03658606 0.03069316 0.02950689 0.03468654 0.84873654]\n",
      " [0.02123273 0.03912224 0.03308034 0.03169159 0.58416506 0.29070806]]\n"
     ]
    }
   ],
   "source": [
    "rf.fit(tsr_1_input,tsr_1_output)\n",
    "rf_predict =rf.predict_proba(tsr_1_input)\n",
    "print(rf_predict)"
   ]
  },
  {
   "cell_type": "code",
   "execution_count": 10,
   "id": "05921300",
   "metadata": {},
   "outputs": [
    {
     "data": {
      "text/plain": [
       "array([[ 348,  149,   41,   15,    4,    1],\n",
       "       [  79,  848,  271,   47,   17,    7],\n",
       "       [   5,   92,  646,  155,   31,    3],\n",
       "       [   0,   15,   63,  583,  183,   11],\n",
       "       [   2,   13,   21,  104, 1204,  156],\n",
       "       [   1,    5,   10,   17,  235, 1367]], dtype=int64)"
      ]
     },
     "execution_count": 10,
     "metadata": {},
     "output_type": "execute_result"
    }
   ],
   "source": [
    "rf_pred = cross_val_predict(rf,tsr_1_input,tsr_1_output,cv = 10)\n",
    "confusion_matrix(tsr_1_output, rf_pred)"
   ]
  },
  {
   "cell_type": "markdown",
   "id": "e50f8dc9",
   "metadata": {},
   "source": [
    "## XGBoost"
   ]
  },
  {
   "cell_type": "code",
   "execution_count": null,
   "id": "06557ba9",
   "metadata": {},
   "outputs": [],
   "source": [
    "xgb = CalibratedClassifierCV(XGBClassifier(booster = \"gbtree\", objective=\"multi:softprob\", eval_metric = \"auc\", \n",
    "                                            use_label_encoder = False, random_state = 19)) \n",
    "xgb_scores = cross_val_score(xgb,tsr_1_input,tsr_1_output,cv = 10)\n",
    "print(xgb_scores)\n",
    "print(xgb_scores.mean(), xgb_scores.std())"
   ]
  },
  {
   "cell_type": "code",
   "execution_count": null,
   "id": "6cd49a10",
   "metadata": {},
   "outputs": [],
   "source": [
    "xgb.fit(tsr_1_input,tsr_1_output)\n",
    "xgb_predict =xgb.predict_proba(tsr_1_input)\n",
    "print(xgb_predict)"
   ]
  },
  {
   "cell_type": "code",
   "execution_count": null,
   "id": "0816e2db",
   "metadata": {},
   "outputs": [],
   "source": [
    "xgb_pred = cross_val_predict(xgb,tsr_1_input,tsr_1_output,cv = 10)\n",
    "confusion_matrix(tsr_1_output, xgb_pred)"
   ]
  },
  {
   "cell_type": "markdown",
   "id": "00750ad9",
   "metadata": {},
   "source": [
    "# 2 classes"
   ]
  },
  {
   "cell_type": "code",
   "execution_count": null,
   "id": "39e5bc0b",
   "metadata": {},
   "outputs": [],
   "source": [
    "tsr_1_output[(tsr_1_output == 0)|(tsr_1_output == 1)|(tsr_1_output == 2)] = 0\n",
    "tsr_1_output[(tsr_1_output == 3)|(tsr_1_output == 4)|(tsr_1_output == 5)] = 1"
   ]
  },
  {
   "cell_type": "markdown",
   "id": "77001f0b",
   "metadata": {},
   "source": [
    "## SVM"
   ]
  },
  {
   "cell_type": "code",
   "execution_count": null,
   "id": "922fc9b2",
   "metadata": {},
   "outputs": [],
   "source": [
    "svc2 = CalibratedClassifierCV(LinearSVC(penalty = \"l2\", dual=False, loss = \"squared_hinge\", C = 1, multi_class = \"ovr\", \n",
    "                                       random_state = 19)) \n",
    "svc_scores2 = cross_val_score(svc2,tsr_1_input,tsr_1_output,cv = 10, scoring='accuracy')\n",
    "print(svc_scores2)\n",
    "print(svc_scores2.mean(), svc_scores2.std())"
   ]
  },
  {
   "cell_type": "code",
   "execution_count": null,
   "id": "0f680208",
   "metadata": {},
   "outputs": [],
   "source": [
    "svc2.fit(tsr_1_input,tsr_1_output)\n",
    "svc_predict2 =svc2.predict_proba(tsr_1_input)\n",
    "print(svc_predict2)"
   ]
  },
  {
   "cell_type": "code",
   "execution_count": null,
   "id": "ab174656",
   "metadata": {},
   "outputs": [],
   "source": [
    "svc_pred2 = cross_val_predict(svc2,tsr_1_input,tsr_1_output,cv = 10)\n",
    "confusion_matrix(tsr_1_output, svc_pred2)"
   ]
  },
  {
   "cell_type": "markdown",
   "id": "a7baddb7",
   "metadata": {},
   "source": [
    "## RF"
   ]
  },
  {
   "cell_type": "code",
   "execution_count": null,
   "id": "f9e5f015",
   "metadata": {},
   "outputs": [],
   "source": [
    "rf2 = CalibratedClassifierCV(RandomForestClassifier(criterion = \"gini\", n_estimators = 15, bootstrap=True, random_state = 19,\n",
    "                                                  max_features = 0.8)) \n",
    "rf_scores2 = cross_val_score(rf2,tsr_1_input,tsr_1_output,cv = 10, scoring='accuracy')\n",
    "print(rf_scores2)\n",
    "print(rf_scores2.mean(), rf_scores2.std())"
   ]
  },
  {
   "cell_type": "code",
   "execution_count": null,
   "id": "c38ad9c7",
   "metadata": {},
   "outputs": [],
   "source": [
    "rf2.fit(tsr_1_input,tsr_1_output)\n",
    "rf_predict2 =rf2.predict_proba(tsr_1_input)\n",
    "print(rf_predict2)"
   ]
  },
  {
   "cell_type": "code",
   "execution_count": null,
   "id": "8510520e",
   "metadata": {},
   "outputs": [],
   "source": [
    "rf_pred2 = cross_val_predict(rf2,tsr_1_input,tsr_1_output,cv = 10)\n",
    "confusion_matrix(tsr_1_output, rf_pred2)"
   ]
  },
  {
   "cell_type": "markdown",
   "id": "c0d1d828",
   "metadata": {},
   "source": [
    "## XGBoost"
   ]
  },
  {
   "cell_type": "code",
   "execution_count": null,
   "id": "eeb10ecd",
   "metadata": {},
   "outputs": [],
   "source": [
    "xgb2 = CalibratedClassifierCV(XGBClassifier(booster = \"gbtree\", objective=\"binary:logistic\", eval_metric = \"auc\", \n",
    "                                            use_label_encoder = False, random_state = 19)) \n",
    "xgb_scores2 = cross_val_score(xgb2,tsr_1_input,tsr_1_output,cv = 10)\n",
    "print(xgb_scores2)\n",
    "print(xgb_scores2.mean(), xgb_scores2.std())"
   ]
  },
  {
   "cell_type": "code",
   "execution_count": null,
   "id": "ef4b685a",
   "metadata": {},
   "outputs": [],
   "source": [
    "xgb2.fit(tsr_1_input,tsr_1_output)\n",
    "xgb_predict2 =xgb2.predict_proba(tsr_1_input)\n",
    "print(xgb_predict2)"
   ]
  },
  {
   "cell_type": "code",
   "execution_count": null,
   "id": "e164f308",
   "metadata": {},
   "outputs": [],
   "source": [
    "xgb_pred2 = cross_val_predict(xgb2,tsr_1_input,tsr_1_output,cv = 10)\n",
    "confusion_matrix(tsr_1_output, xgb_pred2)"
   ]
  },
  {
   "cell_type": "markdown",
   "id": "06f91a74",
   "metadata": {},
   "source": [
    "# Summary"
   ]
  },
  {
   "cell_type": "markdown",
   "id": "b12b47bd",
   "metadata": {},
   "source": [
    "## Mean & Std"
   ]
  },
  {
   "cell_type": "code",
   "execution_count": null,
   "id": "10081ee5",
   "metadata": {},
   "outputs": [],
   "source": [
    "svc_mean = np.array([svc_scores.mean(), svc_scores.std(), svc_scores[0], svc_scores[1], svc_scores[2], svc_scores[3],\n",
    "                     svc_scores[4], svc_scores[5], svc_scores[6], svc_scores[7], svc_scores[8], svc_scores[9]])\n",
    "rf_mean = np.array([rf_scores.mean(), rf_scores.std(), rf_scores[0], rf_scores[1], rf_scores[2], rf_scores[3],rf_scores[4], \n",
    "                    rf_scores[5], rf_scores[6], rf_scores[7], rf_scores[8], rf_scores[9]])\n",
    "xgb_mean = np.array([xgb_scores.mean(), xgb_scores.std(), xgb_scores[0], xgb_scores[1], xgb_scores[2], xgb_scores[3],\n",
    "                     xgb_scores[4], xgb_scores[5], xgb_scores[6], xgb_scores[7], xgb_scores[8], xgb_scores[9]])\n",
    "svc_mean2 = np.array([svc_scores2.mean(), svc_scores2.std(), svc_scores2[0], svc_scores2[1], svc_scores2[2], svc_scores2[3],\n",
    "                     svc_scores2[4], svc_scores2[5], svc_scores2[6], svc_scores2[7], svc_scores2[8], svc_scores2[9]])\n",
    "rf_mean2 = np.array([rf_scores2.mean(), rf_scores2.std(), rf_scores2[0], rf_scores2[1], rf_scores2[2], rf_scores2[3],rf_scores2[4], \n",
    "                    rf_scores2[5], rf_scores2[6], rf_scores2[7], rf_scores2[8], rf_scores2[9]])\n",
    "xgb_mean2 = np.array([xgb_scores2.mean(), xgb_scores2.std(), xgb_scores2[0], xgb_scores2[1], xgb_scores2[2], xgb_scores2[3],\n",
    "                     xgb_scores2[4], xgb_scores2[5], xgb_scores2[6], xgb_scores2[7], xgb_scores2[8], xgb_scores2[9]])"
   ]
  },
  {
   "cell_type": "code",
   "execution_count": null,
   "id": "1ff321fe",
   "metadata": {},
   "outputs": [],
   "source": [
    "tsr_1_mean = pd.DataFrame([svc_mean, rf_mean, xgb_mean, svc_mean2, rf_mean2, xgb_mean2]).T\n",
    "tsr_1_mean.index = [\"Mean\", \"Std\", \"mean_1\", \"mean_2\", \"mean_3\", \"mean_4\", \"mean_5\", \"mean_6\", \"mean_7\", \"mean_8\", \"mean_9\", \"mean_10\"]\n",
    "tsr_1_mean.columns = [\"svc\", 'rf', 'xgb', 'svc2', 'rf2', 'xgb2']"
   ]
  },
  {
   "cell_type": "code",
   "execution_count": null,
   "id": "d858688a",
   "metadata": {},
   "outputs": [],
   "source": [
    "csv_save = os.path.join(\".\", \"tsr_1_mean.csv\")\n",
    "tsr_1_mean.to_csv(csv_save, index = True)"
   ]
  },
  {
   "cell_type": "markdown",
   "id": "9a4d1601",
   "metadata": {},
   "source": [
    "## Predicted Probability"
   ]
  },
  {
   "cell_type": "code",
   "execution_count": null,
   "id": "90f64069",
   "metadata": {},
   "outputs": [],
   "source": [
    "svc_predict_0 = svc_predict[:, 0]\n",
    "svc_predict_1 = svc_predict[:, 1]\n",
    "svc_predict_2 = svc_predict[:, 2]\n",
    "svc_predict_3 = svc_predict[:, 3]\n",
    "svc_predict_4 = svc_predict[:, 4]\n",
    "svc_predict_5 = svc_predict[:, 5]\n",
    "\n",
    "rf_predict_0 = rf_predict[:, 0]\n",
    "rf_predict_1 = rf_predict[:, 1]\n",
    "rf_predict_2 = rf_predict[:, 2]\n",
    "rf_predict_3 = rf_predict[:, 3]\n",
    "rf_predict_4 = rf_predict[:, 4]\n",
    "rf_predict_5 = rf_predict[:, 5]\n",
    "\n",
    "xgb_predict_0 = xgb_predict[:, 0]\n",
    "xgb_predict_1 = xgb_predict[:, 1]\n",
    "xgb_predict_2 = xgb_predict[:, 2]\n",
    "xgb_predict_3 = xgb_predict[:, 3]\n",
    "xgb_predict_4 = xgb_predict[:, 4]\n",
    "xgb_predict_5 = xgb_predict[:, 5]\n",
    "\n",
    "svc_predict2_0 = svc_predict2[:, 0]\n",
    "svc_predict2_1 = svc_predict2[:, 1]\n",
    "\n",
    "rf_predict2_0 = rf_predict2[:, 0]\n",
    "rf_predict2_1 = rf_predict2[:, 1]\n",
    "\n",
    "xgb_predict2_0 = xgb_predict2[:, 0]\n",
    "xgb_predict2_1 = xgb_predict2[:, 1]"
   ]
  },
  {
   "cell_type": "code",
   "execution_count": null,
   "id": "71927861",
   "metadata": {},
   "outputs": [],
   "source": [
    "tsr_1_pred_prob = pd.DataFrame([svc_predict_0, svc_predict_1, svc_predict_2, svc_predict_3, svc_predict_4, svc_predict_5, \n",
    "                               rf_predict_0, rf_predict_1, rf_predict_2, rf_predict_3, rf_predict_4, rf_predict_5,\n",
    "                               xgb_predict_0, xgb_predict_1, xgb_predict_2, xgb_predict_3, xgb_predict_4, xgb_predict_5,\n",
    "                               svc_predict2_0, svc_predict2_1, rf_predict2_0, rf_predict2_1, xgb_predict2_0, xgb_predict2_1]).T\n",
    "tsr_1_pred_prob.columns = [\"svc_predict_0\", \"svc_predict_1\", \"svc_predict_2\", \"svc_predict_3\", \"svc_predict_4\", \"svc_predict_5\", \n",
    "                           \"rf_predict_0\", \"rf_predict_1\", \"rf_predict_2\", \"rf_predict_3\", \"rf_predict_4\", \"rf_predict_5\",\n",
    "                           \"xgb_predict_0\", \"xgb_predict_1\", \"xgb_predict_2\", 'xgb_predict_3', \"xgb_predict_4\", \"xgb_predict_5\",\n",
    "                           \"svc_predict2_0\", \"svc_predict2_1\", \"rf_predict2_0\", \"rf_predict2_1\", \"xgb_predict2_0\", \"xgb_predict2_1\"]"
   ]
  },
  {
   "cell_type": "code",
   "execution_count": null,
   "id": "db5ff25b",
   "metadata": {},
   "outputs": [],
   "source": [
    "csv_save2 = os.path.join(\".\", \"tsr_1_pred_prob.csv\")\n",
    "tsr_1_pred_prob.to_csv(csv_save2, index = False)"
   ]
  },
  {
   "cell_type": "code",
   "execution_count": null,
   "id": "c70881b8",
   "metadata": {},
   "outputs": [],
   "source": []
  }
 ],
 "metadata": {
  "kernelspec": {
   "display_name": "Python 3",
   "language": "python",
   "name": "python3"
  },
  "language_info": {
   "codemirror_mode": {
    "name": "ipython",
    "version": 3
   },
   "file_extension": ".py",
   "mimetype": "text/x-python",
   "name": "python",
   "nbconvert_exporter": "python",
   "pygments_lexer": "ipython3",
   "version": "3.8.8"
  }
 },
 "nbformat": 4,
 "nbformat_minor": 5
}
