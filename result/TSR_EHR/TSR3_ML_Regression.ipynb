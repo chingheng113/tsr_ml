{
 "cells": [
  {
   "cell_type": "code",
   "execution_count": 1,
   "id": "98b98468",
   "metadata": {},
   "outputs": [],
   "source": [
    "import pandas as pd\n",
    "import os\n",
    "import numpy as np\n",
    "from sklearn.model_selection import cross_val_score\n",
    "from sklearn.svm import LinearSVR\n",
    "from sklearn.ensemble import RandomForestRegressor\n",
    "from xgboost import XGBRegressor\n",
    "from sklearn.model_selection import cross_val_predict\n",
    "from sklearn.metrics import confusion_matrix"
   ]
  },
  {
   "cell_type": "code",
   "execution_count": 2,
   "id": "3006e247",
   "metadata": {},
   "outputs": [
    {
     "data": {
      "text/html": [
       "<div>\n",
       "<style scoped>\n",
       "    .dataframe tbody tr th:only-of-type {\n",
       "        vertical-align: middle;\n",
       "    }\n",
       "\n",
       "    .dataframe tbody tr th {\n",
       "        vertical-align: top;\n",
       "    }\n",
       "\n",
       "    .dataframe thead th {\n",
       "        text-align: right;\n",
       "    }\n",
       "</style>\n",
       "<table border=\"1\" class=\"dataframe\">\n",
       "  <thead>\n",
       "    <tr style=\"text-align: right;\">\n",
       "      <th></th>\n",
       "      <th>height_nm</th>\n",
       "      <th>weight_nm</th>\n",
       "      <th>edu_id</th>\n",
       "      <th>pro_id</th>\n",
       "      <th>opc_id</th>\n",
       "      <th>ih_fl</th>\n",
       "      <th>ivtpamg_nm</th>\n",
       "      <th>hospitalised_time</th>\n",
       "      <th>nivtpa_id</th>\n",
       "      <th>nivtpa1_fl</th>\n",
       "      <th>...</th>\n",
       "      <th>nihs_7_out</th>\n",
       "      <th>nihs_8_out</th>\n",
       "      <th>nihs_9_out</th>\n",
       "      <th>nihs_10_out</th>\n",
       "      <th>nihs_11_out</th>\n",
       "      <th>total_out</th>\n",
       "      <th>SexName</th>\n",
       "      <th>Age</th>\n",
       "      <th>mrs_tx_1</th>\n",
       "      <th>mrs_tx_3</th>\n",
       "    </tr>\n",
       "  </thead>\n",
       "  <tbody>\n",
       "    <tr>\n",
       "      <th>0</th>\n",
       "      <td>153.0</td>\n",
       "      <td>62.0</td>\n",
       "      <td>3</td>\n",
       "      <td>1</td>\n",
       "      <td>3</td>\n",
       "      <td>0</td>\n",
       "      <td>0.0</td>\n",
       "      <td>8.0</td>\n",
       "      <td>0</td>\n",
       "      <td>999</td>\n",
       "      <td>...</td>\n",
       "      <td>1</td>\n",
       "      <td>1</td>\n",
       "      <td>0</td>\n",
       "      <td>1</td>\n",
       "      <td>0</td>\n",
       "      <td>4</td>\n",
       "      <td>0</td>\n",
       "      <td>67.0</td>\n",
       "      <td>1</td>\n",
       "      <td>1</td>\n",
       "    </tr>\n",
       "    <tr>\n",
       "      <th>1</th>\n",
       "      <td>152.0</td>\n",
       "      <td>62.0</td>\n",
       "      <td>3</td>\n",
       "      <td>1</td>\n",
       "      <td>2</td>\n",
       "      <td>0</td>\n",
       "      <td>0.0</td>\n",
       "      <td>4.0</td>\n",
       "      <td>0</td>\n",
       "      <td>999</td>\n",
       "      <td>...</td>\n",
       "      <td>0</td>\n",
       "      <td>1</td>\n",
       "      <td>0</td>\n",
       "      <td>0</td>\n",
       "      <td>0</td>\n",
       "      <td>1</td>\n",
       "      <td>0</td>\n",
       "      <td>69.0</td>\n",
       "      <td>1</td>\n",
       "      <td>0</td>\n",
       "    </tr>\n",
       "    <tr>\n",
       "      <th>2</th>\n",
       "      <td>148.0</td>\n",
       "      <td>56.0</td>\n",
       "      <td>2</td>\n",
       "      <td>999</td>\n",
       "      <td>2</td>\n",
       "      <td>0</td>\n",
       "      <td>0.0</td>\n",
       "      <td>5.0</td>\n",
       "      <td>0</td>\n",
       "      <td>999</td>\n",
       "      <td>...</td>\n",
       "      <td>0</td>\n",
       "      <td>1</td>\n",
       "      <td>0</td>\n",
       "      <td>0</td>\n",
       "      <td>0</td>\n",
       "      <td>2</td>\n",
       "      <td>0</td>\n",
       "      <td>71.0</td>\n",
       "      <td>0</td>\n",
       "      <td>0</td>\n",
       "    </tr>\n",
       "    <tr>\n",
       "      <th>3</th>\n",
       "      <td>152.0</td>\n",
       "      <td>56.0</td>\n",
       "      <td>4</td>\n",
       "      <td>1</td>\n",
       "      <td>2</td>\n",
       "      <td>0</td>\n",
       "      <td>0.0</td>\n",
       "      <td>3.0</td>\n",
       "      <td>1</td>\n",
       "      <td>0</td>\n",
       "      <td>...</td>\n",
       "      <td>0</td>\n",
       "      <td>0</td>\n",
       "      <td>0</td>\n",
       "      <td>0</td>\n",
       "      <td>0</td>\n",
       "      <td>0</td>\n",
       "      <td>0</td>\n",
       "      <td>71.0</td>\n",
       "      <td>0</td>\n",
       "      <td>0</td>\n",
       "    </tr>\n",
       "    <tr>\n",
       "      <th>4</th>\n",
       "      <td>160.0</td>\n",
       "      <td>60.0</td>\n",
       "      <td>2</td>\n",
       "      <td>1</td>\n",
       "      <td>3</td>\n",
       "      <td>0</td>\n",
       "      <td>0.0</td>\n",
       "      <td>4.0</td>\n",
       "      <td>0</td>\n",
       "      <td>999</td>\n",
       "      <td>...</td>\n",
       "      <td>0</td>\n",
       "      <td>0</td>\n",
       "      <td>0</td>\n",
       "      <td>0</td>\n",
       "      <td>0</td>\n",
       "      <td>4</td>\n",
       "      <td>0</td>\n",
       "      <td>62.0</td>\n",
       "      <td>3</td>\n",
       "      <td>3</td>\n",
       "    </tr>\n",
       "  </tbody>\n",
       "</table>\n",
       "<p>5 rows × 308 columns</p>\n",
       "</div>"
      ],
      "text/plain": [
       "   height_nm  weight_nm  edu_id  pro_id  opc_id  ih_fl  ivtpamg_nm  \\\n",
       "0      153.0       62.0       3       1       3      0         0.0   \n",
       "1      152.0       62.0       3       1       2      0         0.0   \n",
       "2      148.0       56.0       2     999       2      0         0.0   \n",
       "3      152.0       56.0       4       1       2      0         0.0   \n",
       "4      160.0       60.0       2       1       3      0         0.0   \n",
       "\n",
       "   hospitalised_time  nivtpa_id  nivtpa1_fl  ...  nihs_7_out  nihs_8_out  \\\n",
       "0                8.0          0         999  ...           1           1   \n",
       "1                4.0          0         999  ...           0           1   \n",
       "2                5.0          0         999  ...           0           1   \n",
       "3                3.0          1           0  ...           0           0   \n",
       "4                4.0          0         999  ...           0           0   \n",
       "\n",
       "   nihs_9_out  nihs_10_out  nihs_11_out  total_out  SexName   Age  mrs_tx_1  \\\n",
       "0           0            1            0          4        0  67.0         1   \n",
       "1           0            0            0          1        0  69.0         1   \n",
       "2           0            0            0          2        0  71.0         0   \n",
       "3           0            0            0          0        0  71.0         0   \n",
       "4           0            0            0          4        0  62.0         3   \n",
       "\n",
       "   mrs_tx_3  \n",
       "0         1  \n",
       "1         0  \n",
       "2         0  \n",
       "3         0  \n",
       "4         3  \n",
       "\n",
       "[5 rows x 308 columns]"
      ]
     },
     "execution_count": 2,
     "metadata": {},
     "output_type": "execute_result"
    }
   ],
   "source": [
    "csv_path = os.path.join(\"..\", \"..\", \"data\",\"LINKED_DATA\", \"TSR_EHR\", \"TSR_3_CLEANED.csv\")\n",
    "tsr_3 = pd.read_csv(csv_path)\n",
    "tsr_3.head()"
   ]
  },
  {
   "cell_type": "code",
   "execution_count": 3,
   "id": "14e077d6",
   "metadata": {},
   "outputs": [],
   "source": [
    "tsr_3_input = tsr_3.drop([\"mrs_tx_3\"], axis=1)\n",
    "tsr_3_input[tsr_3_input == \"N\"] = 0\n",
    "tsr_3_input[tsr_3_input == \"Y\"] = 1\n",
    "tsr_3_input = tsr_3_input.astype(\"float64\")\n",
    "tsr_3_input = np.array(tsr_3_input.values)\n",
    "\n",
    "tsr_3_input_nomrs = tsr_3.drop([\"mrs_tx_3\", \"mrs_tx_1\"], axis=1)\n",
    "tsr_3_input_nomrs[tsr_3_input_nomrs == \"N\"] = 0\n",
    "tsr_3_input_nomrs[tsr_3_input_nomrs == \"Y\"] = 1\n",
    "tsr_3_input_nomrs = tsr_3_input_nomrs.astype(\"float64\")\n",
    "tsr_3_input_nomrs = np.array(tsr_3_input_nomrs.values)"
   ]
  },
  {
   "cell_type": "markdown",
   "id": "9e108841",
   "metadata": {},
   "source": [
    "# 6 classes"
   ]
  },
  {
   "cell_type": "code",
   "execution_count": 4,
   "id": "35764cee",
   "metadata": {},
   "outputs": [],
   "source": [
    "tsr_3_output = tsr_3.mrs_tx_1\n",
    "tsr_3_output = tsr_3_output.astype(\"float64\")\n",
    "tsr_3_output = np.array(tsr_3_output.values)"
   ]
  },
  {
   "cell_type": "markdown",
   "id": "897a6fcc",
   "metadata": {},
   "source": [
    "## SVM"
   ]
  },
  {
   "cell_type": "code",
   "execution_count": 5,
   "id": "13e8103a",
   "metadata": {},
   "outputs": [
    {
     "name": "stdout",
     "output_type": "stream",
     "text": [
      "[0.99694273 0.98606705 0.97507974 0.99001265 0.97946683 0.97822353\n",
      " 0.93773754 0.93069012 0.99708053 0.91708152]\n",
      "Mean of R^2: 0.968838223524956\n",
      "Std of R^2: 0.027701938328636384\n"
     ]
    }
   ],
   "source": [
    "svr = LinearSVR(epsilon = 0, dual=False, loss = \"squared_epsilon_insensitive\", C = 1, random_state = 19)\n",
    "svr_scores = cross_val_score(svr,tsr_3_input,tsr_3_output,cv = 10, scoring='r2')\n",
    "print(svr_scores)\n",
    "print(\"Mean of R^2:\", svr_scores.mean())\n",
    "print(\"Std of R^2:\", svr_scores.std())"
   ]
  },
  {
   "cell_type": "code",
   "execution_count": 6,
   "id": "c38ad9c7",
   "metadata": {},
   "outputs": [
    {
     "name": "stdout",
     "output_type": "stream",
     "text": [
      "[1.04877115 1.04908655 0.06418789 ... 5.0157436  5.04873924 4.8565692 ]\n",
      "[1. 1. 0. ... 5. 5. 5.]\n",
      "Accuracy of RF: 0.9995790359924226\n"
     ]
    }
   ],
   "source": [
    "svr.fit(tsr_3_input,tsr_3_output)\n",
    "svr_predict =svr.predict(tsr_3_input)\n",
    "print(svr_predict)\n",
    "svr_predict = np.round(svr_predict)\n",
    "print(svr_predict)\n",
    "print(\"Accuracy of RF:\", (tsr_3_output == svr_predict).sum() / len(svr_predict))"
   ]
  },
  {
   "cell_type": "code",
   "execution_count": 7,
   "id": "875d3ad7",
   "metadata": {},
   "outputs": [
    {
     "data": {
      "text/plain": [
       "array([[   0,    0,    0,    0,    0,    0,    0],\n",
       "       [   2,  424,   70,    4,    0,    0,    0],\n",
       "       [   0,    0, 1086,   54,    4,    0,    0],\n",
       "       [   0,    0,   23,  727,   21,    0,    0],\n",
       "       [   0,    0,    0,   29,  628,   10,    0],\n",
       "       [   0,    0,    0,    4,   48,  900,    7],\n",
       "       [   0,    0,    0,    0,    5,   44,  661]], dtype=int64)"
      ]
     },
     "execution_count": 7,
     "metadata": {},
     "output_type": "execute_result"
    }
   ],
   "source": [
    "svr_pred = cross_val_predict(svr,tsr_3_input,tsr_3_output,cv = 10)\n",
    "svr_pred = np.round(svr_pred)\n",
    "confusion_matrix(tsr_3_output, svr_pred)"
   ]
  },
  {
   "cell_type": "code",
   "execution_count": 8,
   "id": "b4c54b8a",
   "metadata": {},
   "outputs": [
    {
     "data": {
      "text/plain": [
       "array([[ 426,   70,    4,    0,    0,    0],\n",
       "       [   0, 1086,   54,    4,    0,    0],\n",
       "       [   0,   23,  727,   21,    0,    0],\n",
       "       [   0,    0,   29,  628,   10,    0],\n",
       "       [   0,    0,    4,   48,  900,    7],\n",
       "       [   0,    0,    0,    5,   44,  661]], dtype=int64)"
      ]
     },
     "execution_count": 8,
     "metadata": {},
     "output_type": "execute_result"
    }
   ],
   "source": [
    "svr_pred[svr_pred == -1] = 0\n",
    "confusion_matrix(tsr_3_output, svr_pred)"
   ]
  },
  {
   "cell_type": "code",
   "execution_count": 9,
   "id": "5148cf10",
   "metadata": {},
   "outputs": [
    {
     "name": "stdout",
     "output_type": "stream",
     "text": [
      "[0.75387908 0.76861388 0.83189696 0.80334807 0.82178857 0.81403305\n",
      " 0.80603646 0.7588735  0.84258892 0.66742796]\n",
      "Mean of R^2: 0.7868486450762257\n",
      "Std of R^2: 0.04919342478037698\n"
     ]
    }
   ],
   "source": [
    "svr1 = LinearSVR(epsilon = 0, dual=False, loss = \"squared_epsilon_insensitive\", C = 1, random_state = 19)\n",
    "svr_scores1 = cross_val_score(svr1,tsr_3_input_nomrs,tsr_3_output,cv = 10, scoring='r2')\n",
    "print(svr_scores1)\n",
    "print(\"Mean of R^2:\", svr_scores1.mean())\n",
    "print(\"Std of R^2:\", svr_scores1.std())"
   ]
  },
  {
   "cell_type": "code",
   "execution_count": 10,
   "id": "c38ad9c7",
   "metadata": {},
   "outputs": [
    {
     "name": "stdout",
     "output_type": "stream",
     "text": [
      "[1.17194557 0.90045753 0.82003352 ... 5.27031679 4.3583525  4.03077705]\n",
      "[1. 1. 1. ... 5. 4. 4.]\n",
      "Accuracy of RF: 0.5647232161650179\n"
     ]
    }
   ],
   "source": [
    "svr1.fit(tsr_3_input_nomrs,tsr_3_output)\n",
    "svr_predict1 =svr1.predict(tsr_3_input_nomrs)\n",
    "print(svr_predict1)\n",
    "svr_predict1 = np.round(svr_predict1)\n",
    "print(svr_predict1)\n",
    "print(\"Accuracy of RF:\", (tsr_3_output == svr_predict1).sum() / len(svr_predict1))"
   ]
  },
  {
   "cell_type": "code",
   "execution_count": 11,
   "id": "875d3ad7",
   "metadata": {},
   "outputs": [
    {
     "data": {
      "text/plain": [
       "array([[  0,   0,   0,   0,   0,   0,   0,   0],\n",
       "       [  2,  34, 391,  61,  11,   0,   1,   0],\n",
       "       [  0,  10, 868, 221,  35,   8,   2,   0],\n",
       "       [  1,   1, 282, 377,  96,  14,   0,   0],\n",
       "       [  0,   0,  21, 203, 369,  68,   6,   0],\n",
       "       [  0,   0,   8,  30, 245, 545, 131,   0],\n",
       "       [  0,   2,   4,   4,  26, 187, 469,  18],\n",
       "       [  0,   0,   0,   0,   0,   0,   0,   0]], dtype=int64)"
      ]
     },
     "execution_count": 11,
     "metadata": {},
     "output_type": "execute_result"
    }
   ],
   "source": [
    "svr_pred1 = cross_val_predict(svr1,tsr_3_input_nomrs,tsr_3_output,cv = 10)\n",
    "svr_pred1 = np.round(svr_pred1)\n",
    "confusion_matrix(tsr_3_output, svr_pred1)"
   ]
  },
  {
   "cell_type": "code",
   "execution_count": 12,
   "id": "a7f62456",
   "metadata": {},
   "outputs": [
    {
     "data": {
      "text/plain": [
       "array([[ 36, 391,  61,  11,   0,   1],\n",
       "       [ 10, 868, 221,  35,   8,   2],\n",
       "       [  2, 282, 377,  96,  14,   0],\n",
       "       [  0,  21, 203, 369,  68,   6],\n",
       "       [  0,   8,  30, 245, 545, 131],\n",
       "       [  2,   4,   4,  26, 187, 487]], dtype=int64)"
      ]
     },
     "execution_count": 12,
     "metadata": {},
     "output_type": "execute_result"
    }
   ],
   "source": [
    "svr_pred1[svr_pred1 == -1] = 0\n",
    "svr_pred1[svr_pred1 == 6] = 5\n",
    "confusion_matrix(tsr_3_output, svr_pred1)"
   ]
  },
  {
   "cell_type": "markdown",
   "id": "c5a9f998",
   "metadata": {},
   "source": [
    "## RF"
   ]
  },
  {
   "cell_type": "code",
   "execution_count": 13,
   "id": "5b4f5fac",
   "metadata": {},
   "outputs": [
    {
     "name": "stdout",
     "output_type": "stream",
     "text": [
      "[0.9999604  0.99997409 0.99998647 0.99999664 0.99998574 0.99998577\n",
      " 0.9999849  0.99998505 0.99999245 0.99997482]\n",
      "Mean of R^2: 0.9999826326079451\n",
      "Std of R^2: 9.827182229605757e-06\n"
     ]
    }
   ],
   "source": [
    "rfr = RandomForestRegressor(criterion = \"mse\", n_estimators = 15, bootstrap=True, random_state = 19,max_features = 0.8)\n",
    "rfr_scores = cross_val_score(rfr,tsr_3_input,tsr_3_output,cv = 10, scoring='r2')\n",
    "print(rfr_scores)\n",
    "print(\"Mean of R^2:\", rfr_scores.mean())\n",
    "print(\"Std of R^2:\", rfr_scores.std())"
   ]
  },
  {
   "cell_type": "code",
   "execution_count": 14,
   "id": "cb15e2a4",
   "metadata": {},
   "outputs": [
    {
     "name": "stdout",
     "output_type": "stream",
     "text": [
      "[1. 1. 0. ... 5. 5. 5.]\n",
      "[1. 1. 0. ... 5. 5. 5.]\n",
      "Accuracy of RF: 1.0\n"
     ]
    }
   ],
   "source": [
    "rfr.fit(tsr_3_input,tsr_3_output)\n",
    "rfr_predict =rfr.predict(tsr_3_input)\n",
    "print(rfr_predict)\n",
    "rfr_predict = np.round(rfr_predict)\n",
    "print(rfr_predict)\n",
    "print(\"Accuracy of RF:\", (tsr_3_output == rfr_predict).sum() / len(rfr_predict))"
   ]
  },
  {
   "cell_type": "code",
   "execution_count": 15,
   "id": "a4a3d8cb",
   "metadata": {},
   "outputs": [
    {
     "data": {
      "text/plain": [
       "array([[ 500,    0,    0,    0,    0,    0],\n",
       "       [   0, 1144,    0,    0,    0,    0],\n",
       "       [   0,    0,  771,    0,    0,    0],\n",
       "       [   0,    0,    0,  667,    0,    0],\n",
       "       [   0,    0,    0,    0,  959,    0],\n",
       "       [   0,    0,    0,    0,    0,  710]], dtype=int64)"
      ]
     },
     "execution_count": 15,
     "metadata": {},
     "output_type": "execute_result"
    }
   ],
   "source": [
    "rfr_pred = cross_val_predict(rfr,tsr_3_input,tsr_3_output,cv = 10)\n",
    "rfr_pred = np.round(rfr_pred)\n",
    "confusion_matrix(tsr_3_output, rfr_pred)"
   ]
  },
  {
   "cell_type": "code",
   "execution_count": 16,
   "id": "13e8103a",
   "metadata": {},
   "outputs": [
    {
     "name": "stdout",
     "output_type": "stream",
     "text": [
      "[0.79848646 0.83124349 0.86398329 0.8160926  0.84065532 0.85591027\n",
      " 0.8449297  0.7813848  0.89386159 0.81143728]\n",
      "Mean of R^2: 0.8337984798534303\n",
      "Std of R^2: 0.03161128500485248\n"
     ]
    }
   ],
   "source": [
    "rfr1 = RandomForestRegressor(criterion = \"mse\", n_estimators = 15, bootstrap=True, random_state = 19,max_features = 0.8)\n",
    "rfr_scores1 = cross_val_score(rfr1,tsr_3_input_nomrs,tsr_3_output,cv = 10, scoring='r2')\n",
    "print(rfr_scores1)\n",
    "print(\"Mean of R^2:\", rfr_scores1.mean())\n",
    "print(\"Std of R^2:\", rfr_scores1.std())"
   ]
  },
  {
   "cell_type": "code",
   "execution_count": 17,
   "id": "c38ad9c7",
   "metadata": {},
   "outputs": [
    {
     "name": "stdout",
     "output_type": "stream",
     "text": [
      "[0.93333333 1.         0.         ... 5.         4.93333333 4.6       ]\n",
      "[1. 1. 0. ... 5. 5. 5.]\n",
      "Accuracy of RF: 0.9379078088823406\n"
     ]
    }
   ],
   "source": [
    "rfr1.fit(tsr_3_input_nomrs,tsr_3_output)\n",
    "rfr_predict1 =rfr1.predict(tsr_3_input_nomrs)\n",
    "print(rfr_predict1)\n",
    "rfr_predict1 = np.round(rfr_predict1)\n",
    "print(rfr_predict1)\n",
    "print(\"Accuracy of RF:\", (tsr_3_output == rfr_predict1).sum() / len(rfr_predict1))"
   ]
  },
  {
   "cell_type": "code",
   "execution_count": 18,
   "id": "875d3ad7",
   "metadata": {},
   "outputs": [
    {
     "data": {
      "text/plain": [
       "array([[296, 160,  31,  11,   1,   1],\n",
       "       [ 76, 779, 235,  42,  10,   2],\n",
       "       [  2, 125, 505, 118,  21,   0],\n",
       "       [  0,  21, 125, 431,  87,   3],\n",
       "       [  0,   9,  16, 167, 720,  47],\n",
       "       [  0,   2,   4,  16, 178, 510]], dtype=int64)"
      ]
     },
     "execution_count": 18,
     "metadata": {},
     "output_type": "execute_result"
    }
   ],
   "source": [
    "rfr_pred1 = cross_val_predict(rfr1,tsr_3_input_nomrs,tsr_3_output,cv = 10)\n",
    "rfr_pred1 = np.round(rfr_pred1)\n",
    "confusion_matrix(tsr_3_output, rfr_pred1)"
   ]
  },
  {
   "cell_type": "markdown",
   "id": "e50f8dc9",
   "metadata": {},
   "source": [
    "## XGBoost"
   ]
  },
  {
   "cell_type": "code",
   "execution_count": 19,
   "id": "9230331f",
   "metadata": {},
   "outputs": [
    {
     "name": "stdout",
     "output_type": "stream",
     "text": [
      "[0.99993267 0.99994881 0.99994648 0.99995066 0.99994196 0.99994731\n",
      " 0.99994212 0.99993815 0.99993076 0.99991742]\n",
      "Mean of R^2: 0.9999396339808422\n",
      "Std of R^2: 9.726589976168125e-06\n"
     ]
    }
   ],
   "source": [
    "xgbr = XGBRegressor(n_estimators  = 15, objective=\"reg:squarederror\", random_state = 19) \n",
    "xgbr_scores = cross_val_score(xgbr,tsr_3_input,tsr_3_output,cv = 10, scoring='r2')\n",
    "print(xgbr_scores)\n",
    "print(\"Mean of R^2:\", xgbr_scores.mean())\n",
    "print(\"Std of R^2:\", xgbr_scores.std())"
   ]
  },
  {
   "cell_type": "code",
   "execution_count": 20,
   "id": "412e3232",
   "metadata": {},
   "outputs": [
    {
     "name": "stdout",
     "output_type": "stream",
     "text": [
      "[9.9761289e-01 9.9761289e-01 2.4044225e-03 ... 4.9784422e+00 4.9784422e+00\n",
      " 4.9784422e+00]\n",
      "[1. 1. 0. ... 5. 5. 5.]\n",
      "Accuracy of RF: 1.0\n"
     ]
    }
   ],
   "source": [
    "xgbr.fit(tsr_3_input,tsr_3_output)\n",
    "xgbr_predict =xgbr.predict(tsr_3_input)\n",
    "print(xgbr_predict)\n",
    "xgbr_predict = np.round(xgbr_predict)\n",
    "print(xgbr_predict)\n",
    "print(\"Accuracy of RF:\", (tsr_3_output == xgbr_predict).sum() / len(xgbr_predict))"
   ]
  },
  {
   "cell_type": "code",
   "execution_count": 21,
   "id": "9390e4f9",
   "metadata": {},
   "outputs": [
    {
     "data": {
      "text/plain": [
       "array([[ 500,    0,    0,    0,    0,    0],\n",
       "       [   0, 1144,    0,    0,    0,    0],\n",
       "       [   0,    0,  771,    0,    0,    0],\n",
       "       [   0,    0,    0,  667,    0,    0],\n",
       "       [   0,    0,    0,    0,  959,    0],\n",
       "       [   0,    0,    0,    0,    0,  710]], dtype=int64)"
      ]
     },
     "execution_count": 21,
     "metadata": {},
     "output_type": "execute_result"
    }
   ],
   "source": [
    "xgbr_pred = cross_val_predict(xgbr,tsr_3_input,tsr_3_output,cv = 10)\n",
    "xgbr_pred = np.round(xgbr_pred)\n",
    "confusion_matrix(tsr_3_output, xgbr_pred)"
   ]
  },
  {
   "cell_type": "code",
   "execution_count": 22,
   "id": "13e8103a",
   "metadata": {},
   "outputs": [
    {
     "name": "stdout",
     "output_type": "stream",
     "text": [
      "[0.79848646 0.83124349 0.86398329 0.8160926  0.84065532 0.85591027\n",
      " 0.8449297  0.7813848  0.89386159 0.81143728]\n",
      "Mean of R^2: 0.8337984798534303\n",
      "Std of R^2: 0.03161128500485248\n"
     ]
    }
   ],
   "source": [
    "xgbr1 = RandomForestRegressor(criterion = \"mse\", n_estimators = 15, bootstrap=True, random_state = 19,max_features = 0.8)\n",
    "xgbr_scores1 = cross_val_score(xgbr1,tsr_3_input_nomrs,tsr_3_output,cv = 10, scoring='r2')\n",
    "print(xgbr_scores1)\n",
    "print(\"Mean of R^2:\", xgbr_scores1.mean())\n",
    "print(\"Std of R^2:\", xgbr_scores1.std())"
   ]
  },
  {
   "cell_type": "code",
   "execution_count": 23,
   "id": "c38ad9c7",
   "metadata": {},
   "outputs": [
    {
     "name": "stdout",
     "output_type": "stream",
     "text": [
      "[0.93333333 1.         0.         ... 5.         4.93333333 4.6       ]\n",
      "[1. 1. 0. ... 5. 5. 5.]\n",
      "Accuracy of RF: 0.9379078088823406\n"
     ]
    }
   ],
   "source": [
    "xgbr1.fit(tsr_3_input_nomrs,tsr_3_output)\n",
    "xgbr_predict1 =xgbr1.predict(tsr_3_input_nomrs)\n",
    "print(xgbr_predict1)\n",
    "xgbr_predict1 = np.round(xgbr_predict1)\n",
    "print(xgbr_predict1)\n",
    "print(\"Accuracy of RF:\", (tsr_3_output == xgbr_predict1).sum() / len(xgbr_predict1))"
   ]
  },
  {
   "cell_type": "code",
   "execution_count": 24,
   "id": "875d3ad7",
   "metadata": {},
   "outputs": [
    {
     "data": {
      "text/plain": [
       "array([[296, 160,  31,  11,   1,   1],\n",
       "       [ 76, 779, 235,  42,  10,   2],\n",
       "       [  2, 125, 505, 118,  21,   0],\n",
       "       [  0,  21, 125, 431,  87,   3],\n",
       "       [  0,   9,  16, 167, 720,  47],\n",
       "       [  0,   2,   4,  16, 178, 510]], dtype=int64)"
      ]
     },
     "execution_count": 24,
     "metadata": {},
     "output_type": "execute_result"
    }
   ],
   "source": [
    "xgbr_pred1 = cross_val_predict(xgbr1,tsr_3_input_nomrs,tsr_3_output,cv = 10)\n",
    "xgbr_pred1 = np.round(xgbr_pred1)\n",
    "confusion_matrix(tsr_3_output, xgbr_pred1)"
   ]
  },
  {
   "cell_type": "markdown",
   "id": "00750ad9",
   "metadata": {},
   "source": [
    "# 2 classes"
   ]
  },
  {
   "cell_type": "code",
   "execution_count": 25,
   "id": "39e5bc0b",
   "metadata": {},
   "outputs": [],
   "source": [
    "tsr_3_output[(tsr_3_output == 0)|(tsr_3_output == 1)|(tsr_3_output == 2)] = 0\n",
    "tsr_3_output[(tsr_3_output == 3)|(tsr_3_output == 4)|(tsr_3_output == 5)] = 1"
   ]
  },
  {
   "cell_type": "markdown",
   "id": "77001f0b",
   "metadata": {},
   "source": [
    "## SVM"
   ]
  },
  {
   "cell_type": "code",
   "execution_count": 26,
   "id": "922fc9b2",
   "metadata": {
    "scrolled": true
   },
   "outputs": [
    {
     "name": "stdout",
     "output_type": "stream",
     "text": [
      "[0.75140732 0.80245764 0.81446121 0.85211964 0.8428527  0.80778785\n",
      " 0.80576081 0.81369901 0.82505254 0.72815394]\n",
      "Mean of R^2: 0.8043752659309547\n",
      "Std of R^2: 0.03606769245824599\n"
     ]
    }
   ],
   "source": [
    "svr2 = LinearSVR(epsilon = 0, dual=False, loss = \"squared_epsilon_insensitive\", C = 1, random_state = 19)\n",
    "svr_scores2 = cross_val_score(svr2,tsr_3_input,tsr_3_output,cv = 10, scoring='r2')\n",
    "print(svr_scores2)\n",
    "print(\"Mean of R^2:\", svr_scores2.mean())\n",
    "print(\"Std of R^2:\", svr_scores2.std())"
   ]
  },
  {
   "cell_type": "code",
   "execution_count": 27,
   "id": "443e15a9",
   "metadata": {},
   "outputs": [
    {
     "name": "stdout",
     "output_type": "stream",
     "text": [
      "[ 0.00911766  0.01407269 -0.1753291  ...  0.97216899  1.22712792\n",
      "  1.19348218]\n",
      "[ 0.  0. -0. ...  1.  1.  1.]\n",
      "Accuracy of RF: 0.978530835613555\n"
     ]
    }
   ],
   "source": [
    "svr2.fit(tsr_3_input,tsr_3_output)\n",
    "svr_predict2 =svr2.predict(tsr_3_input)\n",
    "print(svr_predict2)\n",
    "svr_predict2 = np.round(svr_predict2)\n",
    "print(svr_predict2)\n",
    "print(\"Accuracy of RF:\", (tsr_3_output == svr_predict2).sum() / len(svr_predict2))"
   ]
  },
  {
   "cell_type": "code",
   "execution_count": 28,
   "id": "8b7c1c32",
   "metadata": {},
   "outputs": [
    {
     "data": {
      "text/plain": [
       "array([[2341,   74],\n",
       "       [  76, 2260]], dtype=int64)"
      ]
     },
     "execution_count": 28,
     "metadata": {},
     "output_type": "execute_result"
    }
   ],
   "source": [
    "svr_pred2 = cross_val_predict(svr2,tsr_3_input,tsr_3_output,cv = 10)\n",
    "svr_pred2 = np.round(svr_pred2)\n",
    "confusion_matrix(tsr_3_output, svr_pred2)"
   ]
  },
  {
   "cell_type": "code",
   "execution_count": 29,
   "id": "922fc9b2",
   "metadata": {
    "scrolled": true
   },
   "outputs": [
    {
     "name": "stdout",
     "output_type": "stream",
     "text": [
      "[0.63299409 0.67364712 0.73980537 0.730141   0.75369505 0.70540712\n",
      " 0.71956343 0.67518402 0.77269368 0.53585951]\n",
      "Mean of R^2: 0.6938990384976448\n",
      "Std of R^2: 0.06591086758052825\n"
     ]
    }
   ],
   "source": [
    "svr3 = LinearSVR(epsilon = 0, dual=False, loss = \"squared_epsilon_insensitive\", C = 1, random_state = 19)\n",
    "svr_scores3 = cross_val_score(svr3,tsr_3_input_nomrs,tsr_3_output,cv = 10, scoring='r2')\n",
    "print(svr_scores3)\n",
    "print(\"Mean of R^2:\", svr_scores3.mean())\n",
    "print(\"Std of R^2:\", svr_scores3.std())"
   ]
  },
  {
   "cell_type": "code",
   "execution_count": 30,
   "id": "443e15a9",
   "metadata": {},
   "outputs": [
    {
     "name": "stdout",
     "output_type": "stream",
     "text": [
      "[ 0.02920437  0.01130879 -0.01810003 ...  1.03223808  1.10867321\n",
      "  1.02422355]\n",
      "[ 0.  0. -0. ...  1.  1.  1.]\n",
      "Accuracy of RF: 0.9179120185224163\n"
     ]
    }
   ],
   "source": [
    "svr3.fit(tsr_3_input_nomrs,tsr_3_output)\n",
    "svr_predict3 =svr3.predict(tsr_3_input_nomrs)\n",
    "print(svr_predict3)\n",
    "svr_predict3 = np.round(svr_predict3)\n",
    "print(svr_predict3)\n",
    "print(\"Accuracy of RF:\", (tsr_3_output == svr_predict3).sum() / len(svr_predict3))"
   ]
  },
  {
   "cell_type": "code",
   "execution_count": 31,
   "id": "8b7c1c32",
   "metadata": {},
   "outputs": [
    {
     "data": {
      "text/plain": [
       "array([[2219,  196],\n",
       "       [ 238, 2098]], dtype=int64)"
      ]
     },
     "execution_count": 31,
     "metadata": {},
     "output_type": "execute_result"
    }
   ],
   "source": [
    "svr_pred3 = cross_val_predict(svr3,tsr_3_input_nomrs,tsr_3_output,cv = 10)\n",
    "svr_pred3 = np.round(svr_pred3)\n",
    "confusion_matrix(tsr_3_output, svr_pred3)"
   ]
  },
  {
   "cell_type": "markdown",
   "id": "a7baddb7",
   "metadata": {},
   "source": [
    "## RF"
   ]
  },
  {
   "cell_type": "code",
   "execution_count": 32,
   "id": "f9e5f015",
   "metadata": {},
   "outputs": [
    {
     "name": "stdout",
     "output_type": "stream",
     "text": [
      "[1.         1.         1.         0.99996156 1.         1.\n",
      " 1.         1.         1.         1.        ]\n",
      "Mean of R^2: 0.9999961563048739\n",
      "Std of R^2: 1.1531085378579942e-05\n"
     ]
    }
   ],
   "source": [
    "rfr2 = RandomForestRegressor(criterion = \"mse\", n_estimators = 15, bootstrap=True, random_state = 19,max_features = 0.8)\n",
    "rfr_scores2 = cross_val_score(rfr2,tsr_3_input,tsr_3_output,cv = 10, scoring='r2')\n",
    "print(rfr_scores2)\n",
    "print(\"Mean of R^2:\", rfr_scores2.mean())\n",
    "print(\"Std of R^2:\", rfr_scores2.std())"
   ]
  },
  {
   "cell_type": "code",
   "execution_count": 33,
   "id": "e5c00398",
   "metadata": {},
   "outputs": [
    {
     "name": "stdout",
     "output_type": "stream",
     "text": [
      "[0. 0. 0. ... 1. 1. 1.]\n",
      "[0. 0. 0. ... 1. 1. 1.]\n",
      "Accuracy of RF: 1.0\n"
     ]
    }
   ],
   "source": [
    "rfr2.fit(tsr_3_input,tsr_3_output)\n",
    "rfr_predict2 =rfr2.predict(tsr_3_input)\n",
    "print(rfr_predict2)\n",
    "rfr_predict2 = np.round(rfr_predict2)\n",
    "print(rfr_predict2)\n",
    "print(\"Accuracy of RF:\", (tsr_3_output == rfr_predict2).sum() / len(rfr_predict2))"
   ]
  },
  {
   "cell_type": "code",
   "execution_count": 34,
   "id": "71dc4b98",
   "metadata": {},
   "outputs": [
    {
     "data": {
      "text/plain": [
       "array([[2415,    0],\n",
       "       [   0, 2336]], dtype=int64)"
      ]
     },
     "execution_count": 34,
     "metadata": {},
     "output_type": "execute_result"
    }
   ],
   "source": [
    "rf_pred2 = cross_val_predict(rfr2,tsr_3_input,tsr_3_output,cv = 10)\n",
    "rf_pred2 = np.round(rf_pred2)\n",
    "confusion_matrix(tsr_3_output, rf_pred2)"
   ]
  },
  {
   "cell_type": "code",
   "execution_count": 35,
   "id": "922fc9b2",
   "metadata": {
    "scrolled": true
   },
   "outputs": [
    {
     "name": "stdout",
     "output_type": "stream",
     "text": [
      "[0.67450974 0.71671835 0.83315047 0.7694936  0.77265994 0.74529902\n",
      " 0.75116166 0.77124322 0.84322987 0.62267818]\n",
      "Mean of R^2: 0.7500144060955003\n",
      "Std of R^2: 0.06323867093793825\n"
     ]
    }
   ],
   "source": [
    "rfr3 = RandomForestRegressor(criterion = \"mse\", n_estimators = 15, bootstrap=True, random_state = 19,max_features = 0.8)\n",
    "rfr_scores3 = cross_val_score(rfr3,tsr_3_input_nomrs,tsr_3_output,cv = 10, scoring='r2')\n",
    "print(rfr_scores3)\n",
    "print(\"Mean of R^2:\", rfr_scores3.mean())\n",
    "print(\"Std of R^2:\", rfr_scores3.std())"
   ]
  },
  {
   "cell_type": "code",
   "execution_count": 36,
   "id": "443e15a9",
   "metadata": {},
   "outputs": [
    {
     "name": "stdout",
     "output_type": "stream",
     "text": [
      "[0.06666667 0.         0.         ... 1.         1.         1.        ]\n",
      "[0. 0. 0. ... 1. 1. 1.]\n",
      "Accuracy of RF: 0.9972637339507472\n"
     ]
    }
   ],
   "source": [
    "rfr3.fit(tsr_3_input_nomrs,tsr_3_output)\n",
    "rfr_predict3 =rfr3.predict(tsr_3_input_nomrs)\n",
    "print(rfr_predict3)\n",
    "rfr_predict3 = np.round(rfr_predict3)\n",
    "print(rfr_predict3)\n",
    "print(\"Accuracy of RF:\", (tsr_3_output == rfr_predict3).sum() / len(rfr_predict3))"
   ]
  },
  {
   "cell_type": "code",
   "execution_count": 37,
   "id": "8b7c1c32",
   "metadata": {},
   "outputs": [
    {
     "data": {
      "text/plain": [
       "array([[2184,  231],\n",
       "       [ 128, 2208]], dtype=int64)"
      ]
     },
     "execution_count": 37,
     "metadata": {},
     "output_type": "execute_result"
    }
   ],
   "source": [
    "rfr_pred3 = cross_val_predict(rfr3,tsr_3_input_nomrs,tsr_3_output,cv = 10)\n",
    "rfr_pred3 = np.round(rfr_pred3)\n",
    "confusion_matrix(tsr_3_output, rfr_pred3)"
   ]
  },
  {
   "cell_type": "markdown",
   "id": "c0d1d828",
   "metadata": {},
   "source": [
    "## XGBoost"
   ]
  },
  {
   "cell_type": "code",
   "execution_count": 38,
   "id": "eeb10ecd",
   "metadata": {},
   "outputs": [
    {
     "name": "stdout",
     "output_type": "stream",
     "text": [
      "[0.99997726 0.99997712 0.99997712 0.99997671 0.99997732 0.99997719\n",
      " 0.99997694 0.9999773  0.99997729 0.99997552]\n",
      "Mean of R^2: 0.999976976946966\n",
      "Std of R^2: 5.183694326287556e-07\n"
     ]
    }
   ],
   "source": [
    "xgbr2 = XGBRegressor(n_estimators  = 15, objective=\"reg:squarederror\", random_state = 19) \n",
    "xgbr_scores2 = cross_val_score(xgbr2,tsr_3_input,tsr_3_output,cv = 10, scoring='r2')\n",
    "print(xgbr_scores2)\n",
    "print(\"Mean of R^2:\", xgbr_scores2.mean())\n",
    "print(\"Std of R^2:\", xgbr_scores2.std())"
   ]
  },
  {
   "cell_type": "code",
   "execution_count": 39,
   "id": "96868c26",
   "metadata": {},
   "outputs": [
    {
     "name": "stdout",
     "output_type": "stream",
     "text": [
      "[0.0023801 0.0023801 0.0023801 ... 0.9976197 0.9976197 0.9976197]\n",
      "[0. 0. 0. ... 1. 1. 1.]\n",
      "Accuracy of RF: 1.0\n"
     ]
    }
   ],
   "source": [
    "xgbr2.fit(tsr_3_input,tsr_3_output)\n",
    "xgbr_predict2 =xgbr2.predict(tsr_3_input)\n",
    "print(xgbr_predict2)\n",
    "xgbr_predict2 = np.round(xgbr_predict2)\n",
    "print(xgbr_predict2)\n",
    "print(\"Accuracy of RF:\", (tsr_3_output == xgbr_predict2).sum() / len(xgbr_predict2))"
   ]
  },
  {
   "cell_type": "code",
   "execution_count": 40,
   "id": "5c552aa9",
   "metadata": {},
   "outputs": [
    {
     "data": {
      "text/plain": [
       "array([[2415,    0],\n",
       "       [   0, 2336]], dtype=int64)"
      ]
     },
     "execution_count": 40,
     "metadata": {},
     "output_type": "execute_result"
    }
   ],
   "source": [
    "xgbr_pred2 = cross_val_predict(xgbr2,tsr_3_input,tsr_3_output,cv = 10)\n",
    "xgbr_pred2 = np.round(xgbr_pred2)\n",
    "confusion_matrix(tsr_3_output, xgbr_pred2)"
   ]
  },
  {
   "cell_type": "code",
   "execution_count": 41,
   "id": "922fc9b2",
   "metadata": {
    "scrolled": true
   },
   "outputs": [
    {
     "name": "stdout",
     "output_type": "stream",
     "text": [
      "[0.71489409 0.74967602 0.84586303 0.76303676 0.75537171 0.7370609\n",
      " 0.7565685  0.74812115 0.8265216  0.64069671]\n",
      "Mean of R^2: 0.7537810472258741\n",
      "Std of R^2: 0.05338066926479723\n"
     ]
    }
   ],
   "source": [
    "xgbr3 = XGBRegressor(n_estimators  = 15, objective=\"reg:squarederror\", random_state = 19) \n",
    "xgbr_scores3 = cross_val_score(xgbr3,tsr_3_input_nomrs,tsr_3_output,cv = 10, scoring='r2')\n",
    "print(xgbr_scores3)\n",
    "print(\"Mean of R^2:\", xgbr_scores3.mean())\n",
    "print(\"Std of R^2:\", xgbr_scores3.std())"
   ]
  },
  {
   "cell_type": "code",
   "execution_count": 42,
   "id": "443e15a9",
   "metadata": {},
   "outputs": [
    {
     "name": "stdout",
     "output_type": "stream",
     "text": [
      "[ 0.01006533  0.01087    -0.00179522 ...  1.0187713   1.007954\n",
      "  1.0018022 ]\n",
      "[ 0.  0. -0. ...  1.  1.  1.]\n",
      "Accuracy of RF: 0.9795832456324984\n"
     ]
    }
   ],
   "source": [
    "xgbr3.fit(tsr_3_input_nomrs,tsr_3_output)\n",
    "xgbr_predict3 =xgbr3.predict(tsr_3_input_nomrs)\n",
    "print(xgbr_predict3)\n",
    "xgbr_predict3 = np.round(xgbr_predict3)\n",
    "print(xgbr_predict3)\n",
    "print(\"Accuracy of RF:\", (tsr_3_output == xgbr_predict3).sum() / len(xgbr_predict3))"
   ]
  },
  {
   "cell_type": "code",
   "execution_count": 43,
   "id": "8b7c1c32",
   "metadata": {},
   "outputs": [
    {
     "data": {
      "text/plain": [
       "array([[2187,  228],\n",
       "       [ 141, 2195]], dtype=int64)"
      ]
     },
     "execution_count": 43,
     "metadata": {},
     "output_type": "execute_result"
    }
   ],
   "source": [
    "xgbr_pred3 = cross_val_predict(xgbr3,tsr_3_input_nomrs,tsr_3_output,cv = 10)\n",
    "xgbr_pred3 = np.round(xgbr_pred3)\n",
    "confusion_matrix(tsr_3_output, xgbr_pred3)"
   ]
  },
  {
   "cell_type": "markdown",
   "id": "06f91a74",
   "metadata": {},
   "source": [
    "# Summary"
   ]
  },
  {
   "cell_type": "markdown",
   "id": "b12b47bd",
   "metadata": {},
   "source": [
    "## Mean & Std"
   ]
  },
  {
   "cell_type": "code",
   "execution_count": 44,
   "id": "10081ee5",
   "metadata": {},
   "outputs": [],
   "source": [
    "svr_mean = np.array([svr_scores.mean(), svr_scores.std(), svr_scores[0], svr_scores[1], svr_scores[2], svr_scores[3],\n",
    "                     svr_scores[4], svr_scores[5], svr_scores[6], svr_scores[7], svr_scores[8], svr_scores[9]])\n",
    "rfr_mean = np.array([rfr_scores.mean(), rfr_scores.std(), rfr_scores[0], rfr_scores[1], rfr_scores[2], rfr_scores[3],rfr_scores[4], \n",
    "                    rfr_scores[5], rfr_scores[6], rfr_scores[7], rfr_scores[8], rfr_scores[9]])\n",
    "xgbr_mean = np.array([xgbr_scores.mean(), xgbr_scores.std(), xgbr_scores[0], xgbr_scores[1], xgbr_scores[2], xgbr_scores[3],\n",
    "                     xgbr_scores[4], xgbr_scores[5], xgbr_scores[6], xgbr_scores[7], xgbr_scores[8], xgbr_scores[9]])\n",
    "svr_mean2 = np.array([svr_scores2.mean(), svr_scores2.std(), svr_scores2[0], svr_scores2[1], svr_scores2[2], svr_scores2[3],\n",
    "                     svr_scores2[4], svr_scores2[5], svr_scores2[6], svr_scores2[7], svr_scores2[8], svr_scores2[9]])\n",
    "rfr_mean2 = np.array([rfr_scores2.mean(), rfr_scores2.std(), rfr_scores2[0], rfr_scores2[1], rfr_scores2[2], rfr_scores2[3],rfr_scores2[4], \n",
    "                    rfr_scores2[5], rfr_scores2[6], rfr_scores2[7], rfr_scores2[8], rfr_scores2[9]])\n",
    "xgbr_mean2 = np.array([xgbr_scores2.mean(), xgbr_scores2.std(), xgbr_scores2[0], xgbr_scores2[1], xgbr_scores2[2], xgbr_scores2[3],\n",
    "                     xgbr_scores2[4], xgbr_scores2[5], xgbr_scores2[6], xgbr_scores2[7], xgbr_scores2[8], xgbr_scores2[9]])"
   ]
  },
  {
   "cell_type": "code",
   "execution_count": 45,
   "id": "1ff321fe",
   "metadata": {},
   "outputs": [],
   "source": [
    "tsr_3_mean = pd.DataFrame([svr_mean, rfr_mean, xgbr_mean, svr_mean2, rfr_mean2, xgbr_mean2]).T\n",
    "tsr_3_mean.index = [\"Mean\", \"Std\", \"R^2_1\", \"R^2_2\", \"R^2_3\", \"R^2_4\", \"R^2_5\", \"R^2_6\", \"R^2_7\", \"R^2_8\", \"R^2_9\", \"R^2_10\"]\n",
    "tsr_3_mean.columns = [\"svr\", 'rfr', 'xgbr', 'svr2', 'rfr2', 'xgbr2']"
   ]
  },
  {
   "cell_type": "code",
   "execution_count": 46,
   "id": "d858688a",
   "metadata": {},
   "outputs": [],
   "source": [
    "csv_save = os.path.join(\".\", \"tsr_3_mean_regression.csv\")\n",
    "tsr_3_mean.to_csv(csv_save, index = True)"
   ]
  },
  {
   "cell_type": "code",
   "execution_count": null,
   "id": "55879a5c",
   "metadata": {},
   "outputs": [],
   "source": []
  }
 ],
 "metadata": {
  "kernelspec": {
   "display_name": "Python 3",
   "language": "python",
   "name": "python3"
  },
  "language_info": {
   "codemirror_mode": {
    "name": "ipython",
    "version": 3
   },
   "file_extension": ".py",
   "mimetype": "text/x-python",
   "name": "python",
   "nbconvert_exporter": "python",
   "pygments_lexer": "ipython3",
   "version": "3.8.8"
  }
 },
 "nbformat": 4,
 "nbformat_minor": 5
}
