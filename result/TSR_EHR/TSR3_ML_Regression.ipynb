{
 "cells": [
  {
   "cell_type": "code",
   "execution_count": 1,
   "id": "e2d10b26",
   "metadata": {},
   "outputs": [],
   "source": [
    "import pandas as pd\n",
    "import os\n",
    "import numpy as np\n",
    "from sklearn.model_selection import cross_val_score\n",
    "from sklearn.model_selection import train_test_split\n",
    "from sklearn.svm import LinearSVR\n",
    "from sklearn.ensemble import RandomForestRegressor\n",
    "from xgboost import XGBRegressor\n",
    "from sklearn.model_selection import cross_val_predict\n",
    "from sklearn.metrics import confusion_matrix"
   ]
  },
  {
   "cell_type": "code",
   "execution_count": 2,
   "id": "42a5de3f",
   "metadata": {},
   "outputs": [
    {
     "data": {
      "text/html": [
       "<div>\n",
       "<style scoped>\n",
       "    .dataframe tbody tr th:only-of-type {\n",
       "        vertical-align: middle;\n",
       "    }\n",
       "\n",
       "    .dataframe tbody tr th {\n",
       "        vertical-align: top;\n",
       "    }\n",
       "\n",
       "    .dataframe thead th {\n",
       "        text-align: right;\n",
       "    }\n",
       "</style>\n",
       "<table border=\"1\" class=\"dataframe\">\n",
       "  <thead>\n",
       "    <tr style=\"text-align: right;\">\n",
       "      <th></th>\n",
       "      <th>height_nm</th>\n",
       "      <th>weight_nm</th>\n",
       "      <th>edu_id</th>\n",
       "      <th>pro_id</th>\n",
       "      <th>opc_id</th>\n",
       "      <th>ih_fl</th>\n",
       "      <th>ivtpamg_nm</th>\n",
       "      <th>hospitalised_time</th>\n",
       "      <th>nivtpa_id</th>\n",
       "      <th>nivtpa1_fl</th>\n",
       "      <th>...</th>\n",
       "      <th>nihs_7_out</th>\n",
       "      <th>nihs_8_out</th>\n",
       "      <th>nihs_9_out</th>\n",
       "      <th>nihs_10_out</th>\n",
       "      <th>nihs_11_out</th>\n",
       "      <th>total_out</th>\n",
       "      <th>SexName</th>\n",
       "      <th>Age</th>\n",
       "      <th>mrs_tx_1</th>\n",
       "      <th>mrs_tx_3</th>\n",
       "    </tr>\n",
       "  </thead>\n",
       "  <tbody>\n",
       "    <tr>\n",
       "      <th>0</th>\n",
       "      <td>153.0</td>\n",
       "      <td>62.0</td>\n",
       "      <td>3</td>\n",
       "      <td>1</td>\n",
       "      <td>3</td>\n",
       "      <td>0</td>\n",
       "      <td>0.0</td>\n",
       "      <td>8.0</td>\n",
       "      <td>0</td>\n",
       "      <td>999</td>\n",
       "      <td>...</td>\n",
       "      <td>1</td>\n",
       "      <td>1</td>\n",
       "      <td>0</td>\n",
       "      <td>1</td>\n",
       "      <td>0</td>\n",
       "      <td>4</td>\n",
       "      <td>0</td>\n",
       "      <td>67.0</td>\n",
       "      <td>1</td>\n",
       "      <td>1</td>\n",
       "    </tr>\n",
       "    <tr>\n",
       "      <th>1</th>\n",
       "      <td>152.0</td>\n",
       "      <td>62.0</td>\n",
       "      <td>3</td>\n",
       "      <td>1</td>\n",
       "      <td>2</td>\n",
       "      <td>0</td>\n",
       "      <td>0.0</td>\n",
       "      <td>4.0</td>\n",
       "      <td>0</td>\n",
       "      <td>999</td>\n",
       "      <td>...</td>\n",
       "      <td>0</td>\n",
       "      <td>1</td>\n",
       "      <td>0</td>\n",
       "      <td>0</td>\n",
       "      <td>0</td>\n",
       "      <td>1</td>\n",
       "      <td>0</td>\n",
       "      <td>69.0</td>\n",
       "      <td>1</td>\n",
       "      <td>0</td>\n",
       "    </tr>\n",
       "    <tr>\n",
       "      <th>2</th>\n",
       "      <td>148.0</td>\n",
       "      <td>56.0</td>\n",
       "      <td>2</td>\n",
       "      <td>999</td>\n",
       "      <td>2</td>\n",
       "      <td>0</td>\n",
       "      <td>0.0</td>\n",
       "      <td>5.0</td>\n",
       "      <td>0</td>\n",
       "      <td>999</td>\n",
       "      <td>...</td>\n",
       "      <td>0</td>\n",
       "      <td>1</td>\n",
       "      <td>0</td>\n",
       "      <td>0</td>\n",
       "      <td>0</td>\n",
       "      <td>2</td>\n",
       "      <td>0</td>\n",
       "      <td>71.0</td>\n",
       "      <td>0</td>\n",
       "      <td>0</td>\n",
       "    </tr>\n",
       "    <tr>\n",
       "      <th>3</th>\n",
       "      <td>152.0</td>\n",
       "      <td>56.0</td>\n",
       "      <td>4</td>\n",
       "      <td>1</td>\n",
       "      <td>2</td>\n",
       "      <td>0</td>\n",
       "      <td>0.0</td>\n",
       "      <td>3.0</td>\n",
       "      <td>1</td>\n",
       "      <td>0</td>\n",
       "      <td>...</td>\n",
       "      <td>0</td>\n",
       "      <td>0</td>\n",
       "      <td>0</td>\n",
       "      <td>0</td>\n",
       "      <td>0</td>\n",
       "      <td>0</td>\n",
       "      <td>0</td>\n",
       "      <td>71.0</td>\n",
       "      <td>0</td>\n",
       "      <td>0</td>\n",
       "    </tr>\n",
       "    <tr>\n",
       "      <th>4</th>\n",
       "      <td>160.0</td>\n",
       "      <td>60.0</td>\n",
       "      <td>2</td>\n",
       "      <td>1</td>\n",
       "      <td>3</td>\n",
       "      <td>0</td>\n",
       "      <td>0.0</td>\n",
       "      <td>4.0</td>\n",
       "      <td>0</td>\n",
       "      <td>999</td>\n",
       "      <td>...</td>\n",
       "      <td>0</td>\n",
       "      <td>0</td>\n",
       "      <td>0</td>\n",
       "      <td>0</td>\n",
       "      <td>0</td>\n",
       "      <td>4</td>\n",
       "      <td>0</td>\n",
       "      <td>62.0</td>\n",
       "      <td>3</td>\n",
       "      <td>3</td>\n",
       "    </tr>\n",
       "  </tbody>\n",
       "</table>\n",
       "<p>5 rows × 308 columns</p>\n",
       "</div>"
      ],
      "text/plain": [
       "   height_nm  weight_nm  edu_id  pro_id  opc_id  ih_fl  ivtpamg_nm  \\\n",
       "0      153.0       62.0       3       1       3      0         0.0   \n",
       "1      152.0       62.0       3       1       2      0         0.0   \n",
       "2      148.0       56.0       2     999       2      0         0.0   \n",
       "3      152.0       56.0       4       1       2      0         0.0   \n",
       "4      160.0       60.0       2       1       3      0         0.0   \n",
       "\n",
       "   hospitalised_time  nivtpa_id  nivtpa1_fl  ...  nihs_7_out  nihs_8_out  \\\n",
       "0                8.0          0         999  ...           1           1   \n",
       "1                4.0          0         999  ...           0           1   \n",
       "2                5.0          0         999  ...           0           1   \n",
       "3                3.0          1           0  ...           0           0   \n",
       "4                4.0          0         999  ...           0           0   \n",
       "\n",
       "   nihs_9_out  nihs_10_out  nihs_11_out  total_out  SexName   Age  mrs_tx_1  \\\n",
       "0           0            1            0          4        0  67.0         1   \n",
       "1           0            0            0          1        0  69.0         1   \n",
       "2           0            0            0          2        0  71.0         0   \n",
       "3           0            0            0          0        0  71.0         0   \n",
       "4           0            0            0          4        0  62.0         3   \n",
       "\n",
       "   mrs_tx_3  \n",
       "0         1  \n",
       "1         0  \n",
       "2         0  \n",
       "3         0  \n",
       "4         3  \n",
       "\n",
       "[5 rows x 308 columns]"
      ]
     },
     "execution_count": 2,
     "metadata": {},
     "output_type": "execute_result"
    }
   ],
   "source": [
    "csv_path = os.path.join(\"..\", \"..\", \"data\",\"LINKED_DATA\", \"TSR_EHR\", \"TSR_3_CLEANED.csv\")\n",
    "tsr_3 = pd.read_csv(csv_path)\n",
    "tsr_3.head()"
   ]
  },
  {
   "cell_type": "code",
   "execution_count": 3,
   "id": "aff46c02",
   "metadata": {},
   "outputs": [],
   "source": [
    "tsr_3_input = tsr_3.drop([\"mrs_tx_3\"], axis=1)\n",
    "tsr_3_input[tsr_3_input == \"N\"] = 0\n",
    "tsr_3_input[tsr_3_input == \"Y\"] = 1\n",
    "tsr_3_input = tsr_3_input.astype(\"float64\")\n",
    "tsr_3_input = np.array(tsr_3_input.values)\n",
    "\n",
    "tsr_3_input_nomrs = tsr_3.drop([\"mrs_tx_3\", \"mrs_tx_1\"], axis=1)\n",
    "tsr_3_input_nomrs[tsr_3_input_nomrs == \"N\"] = 0\n",
    "tsr_3_input_nomrs[tsr_3_input_nomrs == \"Y\"] = 1\n",
    "tsr_3_input_nomrs = tsr_3_input_nomrs.astype(\"float64\")\n",
    "tsr_3_input_nomrs = np.array(tsr_3_input_nomrs.values)"
   ]
  },
  {
   "cell_type": "markdown",
   "id": "8c724fd0",
   "metadata": {},
   "source": [
    "# 6 classes"
   ]
  },
  {
   "cell_type": "code",
   "execution_count": 4,
   "id": "6620d989",
   "metadata": {},
   "outputs": [],
   "source": [
    "tsr_3_output = tsr_3.mrs_tx_1\n",
    "tsr_3_output = tsr_3_output.astype(\"float64\")\n",
    "tsr_3_output = np.array(tsr_3_output.values)"
   ]
  },
  {
   "cell_type": "markdown",
   "id": "ab21f6b0",
   "metadata": {},
   "source": [
    "## SVM"
   ]
  },
  {
   "cell_type": "code",
   "execution_count": 5,
   "id": "7570f553",
   "metadata": {},
   "outputs": [
    {
     "name": "stdout",
     "output_type": "stream",
     "text": [
      "[0.93599297 0.88191515 0.98220603 0.94713455 0.97598876 0.9974574\n",
      " 0.99732306 0.97888391 0.99782017 0.95298329]\n",
      "Mean of R^2: 0.9647705287103797\n",
      "Std of R^2: 0.03463024653217385\n"
     ]
    }
   ],
   "source": [
    "svr = LinearSVR(epsilon = 0, dual=False, loss = \"squared_epsilon_insensitive\", C = 1, random_state = 19)\n",
    "svr_scores = cross_val_score(svr,tsr_3_input,tsr_3_output,cv = 10, scoring='r2')\n",
    "print(svr_scores)\n",
    "print(\"Mean of R^2:\", svr_scores.mean())\n",
    "print(\"Std of R^2:\", svr_scores.std())"
   ]
  },
  {
   "cell_type": "code",
   "execution_count": 6,
   "id": "0aaa0dd3",
   "metadata": {},
   "outputs": [
    {
     "name": "stdout",
     "output_type": "stream",
     "text": [
      "Accuracy of RF: [0.9340813464235624, 0.8751753155680224, 0.9971949509116409, 0.985273492286115, 0.9859747545582047, 1.0, 0.9908835904628331, 0.8997194950911641, 0.9810659186535764, 0.9901823281907434]\n",
      "Mean of Accuracy of RF: 0.9639551192145863\n"
     ]
    }
   ],
   "source": [
    "acc_svr = []\n",
    "for i in range(10):\n",
    "    X_train, X_test, y_train, y_test = train_test_split(tsr_3_input, tsr_3_output, test_size=0.3, random_state=i)\n",
    "    svr.fit(X_train,y_train)\n",
    "    svr_predict = svr.predict(X_test)\n",
    "    #print(svr_predict)\n",
    "    svr_predict = np.round(svr_predict)\n",
    "    #print(svr_predict)\n",
    "    accuracy = (y_test == svr_predict).sum() / len(svr_predict)\n",
    "    acc_svr.append(accuracy)\n",
    "\n",
    "print(\"Accuracy of RF:\", acc_svr)\n",
    "print(\"Mean of Accuracy of RF:\", sum(acc_svr)/10)"
   ]
  },
  {
   "cell_type": "raw",
   "id": "c6d246c7",
   "metadata": {},
   "source": [
    "svr.fit(tsr_3_input,tsr_3_output)\n",
    "svr_predict =svr.predict(tsr_3_input)\n",
    "print(svr_predict)\n",
    "svr_predict = np.round(svr_predict)\n",
    "print(svr_predict)\n",
    "print(\"Accuracy of RF:\", (tsr_3_output == svr_predict).sum() / len(svr_predict))"
   ]
  },
  {
   "cell_type": "code",
   "execution_count": 7,
   "id": "9af31457",
   "metadata": {},
   "outputs": [
    {
     "data": {
      "text/plain": [
       "array([[ 362,  135,    2,    0,    1,    0,    0],\n",
       "       [   0, 1079,   63,    2,    0,    0,    0],\n",
       "       [   0,   22,  718,   31,    0,    0,    0],\n",
       "       [   0,    0,   30,  620,   17,    0,    0],\n",
       "       [   0,    0,    1,   69,  876,   13,    0],\n",
       "       [   0,    0,    1,    2,   60,  645,    2],\n",
       "       [   0,    0,    0,    0,    0,    0,    0]], dtype=int64)"
      ]
     },
     "execution_count": 7,
     "metadata": {},
     "output_type": "execute_result"
    }
   ],
   "source": [
    "svr_pred = cross_val_predict(svr,tsr_3_input,tsr_3_output,cv = 10)\n",
    "svr_pred = np.round(svr_pred)\n",
    "confusion_matrix(tsr_3_output, svr_pred)"
   ]
  },
  {
   "cell_type": "code",
   "execution_count": 8,
   "id": "848afdb2",
   "metadata": {},
   "outputs": [
    {
     "data": {
      "text/plain": [
       "array([[ 362,  135,    2,    0,    1,    0,    0],\n",
       "       [   0, 1079,   63,    2,    0,    0,    0],\n",
       "       [   0,   22,  718,   31,    0,    0,    0],\n",
       "       [   0,    0,   30,  620,   17,    0,    0],\n",
       "       [   0,    0,    1,   69,  876,   13,    0],\n",
       "       [   0,    0,    1,    2,   60,  645,    2],\n",
       "       [   0,    0,    0,    0,    0,    0,    0]], dtype=int64)"
      ]
     },
     "execution_count": 8,
     "metadata": {},
     "output_type": "execute_result"
    }
   ],
   "source": [
    "svr_pred[svr_pred == -1] = 0\n",
    "confusion_matrix(tsr_3_output, svr_pred)"
   ]
  },
  {
   "cell_type": "code",
   "execution_count": 9,
   "id": "fb7a7984",
   "metadata": {},
   "outputs": [
    {
     "name": "stdout",
     "output_type": "stream",
     "text": [
      "[0.73874921 0.78776362 0.82635448 0.79226118 0.82764897 0.8086996\n",
      " 0.8045052  0.76058387 0.82346778 0.63811033]\n",
      "Mean of R^2: 0.780814423056179\n",
      "Std of R^2: 0.05490724101725365\n"
     ]
    }
   ],
   "source": [
    "svr1 = LinearSVR(epsilon = 0, dual=False, loss = \"squared_epsilon_insensitive\", C = 1, random_state = 19)\n",
    "svr_scores1 = cross_val_score(svr1,tsr_3_input_nomrs,tsr_3_output,cv = 10, scoring='r2')\n",
    "print(svr_scores1)\n",
    "print(\"Mean of R^2:\", svr_scores1.mean())\n",
    "print(\"Std of R^2:\", svr_scores1.std())"
   ]
  },
  {
   "cell_type": "code",
   "execution_count": 10,
   "id": "5595e419",
   "metadata": {},
   "outputs": [
    {
     "name": "stdout",
     "output_type": "stream",
     "text": [
      "Accuracy of RF: [0.5371669004207573, 0.5729312762973352, 0.5750350631136045, 0.5757363253856943, 0.5511921458625526, 0.5680224403927069, 0.5532959326788219, 0.5792426367461431, 0.5483870967741935, 0.5918653576437588]\n",
      "Mean of Accuracy of RF: 0.5652875175315568\n"
     ]
    }
   ],
   "source": [
    "acc_svr1 = []\n",
    "for i in range(10):\n",
    "    X_train, X_test, y_train, y_test = train_test_split(tsr_3_input_nomrs, tsr_3_output, test_size=0.3, random_state=i)\n",
    "    svr1.fit(X_train,y_train)\n",
    "    svr1_predict = svr1.predict(X_test)\n",
    "    #print(svr1_predict)\n",
    "    svr1_predict = np.round(svr1_predict)\n",
    "    #print(svr1_predict)\n",
    "    accuracy = (y_test == svr1_predict).sum() / len(svr1_predict)\n",
    "    acc_svr1.append(accuracy)\n",
    "\n",
    "print(\"Accuracy of RF:\", acc_svr1)\n",
    "print(\"Mean of Accuracy of RF:\", sum(acc_svr1)/10)"
   ]
  },
  {
   "cell_type": "code",
   "execution_count": 11,
   "id": "a438cd74",
   "metadata": {},
   "outputs": [
    {
     "name": "stdout",
     "output_type": "stream",
     "text": [
      "[1.17417686 0.94851839 0.84817572 ... 5.3016844  4.39889774 4.00838992]\n",
      "[1. 1. 1. ... 5. 4. 4.]\n",
      "Accuracy of RF: 0.5611450221006103\n"
     ]
    }
   ],
   "source": [
    "svr1.fit(tsr_3_input_nomrs,tsr_3_output)\n",
    "svr_predict1 =svr1.predict(tsr_3_input_nomrs)\n",
    "print(svr_predict1)\n",
    "svr_predict1 = np.round(svr_predict1)\n",
    "print(svr_predict1)\n",
    "print(\"Accuracy of RF:\", (tsr_3_output == svr_predict1).sum() / len(svr_predict1))"
   ]
  },
  {
   "cell_type": "code",
   "execution_count": 12,
   "id": "91614f8a",
   "metadata": {},
   "outputs": [
    {
     "data": {
      "text/plain": [
       "array([[  0,   0,   0,   0,   0,   0,   0,   0,   0],\n",
       "       [  0,   0,   0,   0,   0,   0,   0,   0,   0],\n",
       "       [  2,   0,  19, 407,  59,  12,   0,   1,   0],\n",
       "       [  0,   0,   3, 879, 217,  33,  10,   2,   0],\n",
       "       [  1,   1,   0, 298, 363,  94,  13,   1,   0],\n",
       "       [  0,   0,   0,  24, 194, 377,  64,   8,   0],\n",
       "       [  0,   0,   1,   8,  28, 247, 543, 132,   0],\n",
       "       [  0,   0,   2,   4,   5,  25, 196, 459,  19],\n",
       "       [  0,   0,   0,   0,   0,   0,   0,   0,   0]], dtype=int64)"
      ]
     },
     "execution_count": 12,
     "metadata": {},
     "output_type": "execute_result"
    }
   ],
   "source": [
    "svr_pred1 = cross_val_predict(svr1,tsr_3_input_nomrs,tsr_3_output,cv = 10)\n",
    "svr_pred1 = np.round(svr_pred1)\n",
    "confusion_matrix(tsr_3_output, svr_pred1)"
   ]
  },
  {
   "cell_type": "code",
   "execution_count": 13,
   "id": "0703d779",
   "metadata": {},
   "outputs": [
    {
     "data": {
      "text/plain": [
       "array([[  0,   0,   0,   0,   0,   0,   0],\n",
       "       [  2,  19, 407,  59,  12,   0,   1],\n",
       "       [  0,   3, 879, 217,  33,  10,   2],\n",
       "       [  1,   1, 298, 363,  94,  13,   1],\n",
       "       [  0,   0,  24, 194, 377,  64,   8],\n",
       "       [  0,   1,   8,  28, 247, 543, 132],\n",
       "       [  0,   2,   4,   5,  25, 196, 478]], dtype=int64)"
      ]
     },
     "execution_count": 13,
     "metadata": {},
     "output_type": "execute_result"
    }
   ],
   "source": [
    "svr_pred1[svr_pred1 == -1] = 0\n",
    "svr_pred1[svr_pred1 == 6] = 5\n",
    "confusion_matrix(tsr_3_output, svr_pred1)"
   ]
  },
  {
   "cell_type": "markdown",
   "id": "4a10ecc2",
   "metadata": {},
   "source": [
    "## RF"
   ]
  },
  {
   "cell_type": "code",
   "execution_count": 14,
   "id": "58e03862",
   "metadata": {},
   "outputs": [
    {
     "name": "stdout",
     "output_type": "stream",
     "text": [
      "[0.9999604  0.99997409 0.99998647 0.99999664 0.99998574 0.99998577\n",
      " 0.9999849  0.99998505 0.99999245 0.99997482]\n",
      "Mean of R^2: 0.9999826326079451\n",
      "Std of R^2: 9.827182229605757e-06\n"
     ]
    }
   ],
   "source": [
    "rfr = RandomForestRegressor(criterion = \"mse\", n_estimators = 15, bootstrap=True, random_state = 19,max_features = 0.8)\n",
    "rfr_scores = cross_val_score(rfr,tsr_3_input,tsr_3_output,cv = 10, scoring='r2')\n",
    "print(rfr_scores)\n",
    "print(\"Mean of R^2:\", rfr_scores.mean())\n",
    "print(\"Std of R^2:\", rfr_scores.std())"
   ]
  },
  {
   "cell_type": "code",
   "execution_count": 15,
   "id": "19c0b016",
   "metadata": {},
   "outputs": [
    {
     "name": "stdout",
     "output_type": "stream",
     "text": [
      "Accuracy of RF: [1.0, 1.0, 1.0, 1.0, 1.0, 1.0, 1.0, 1.0, 1.0, 1.0]\n",
      "Mean of Accuracy of RF: 1.0\n"
     ]
    }
   ],
   "source": [
    "acc_rfr = []\n",
    "for i in range(10):\n",
    "    X_train, X_test, y_train, y_test = train_test_split(tsr_3_input, tsr_3_output, test_size=0.3, random_state=i)\n",
    "    rfr.fit(X_train,y_train)\n",
    "    rfr_predict = rfr.predict(X_test)\n",
    "    #print(rfr_predict)\n",
    "    rfr_predict = np.round(rfr_predict)\n",
    "    #print(rfr_predict)\n",
    "    accuracy = (y_test == rfr_predict).sum() / len(rfr_predict)\n",
    "    acc_rfr.append(accuracy)\n",
    "\n",
    "print(\"Accuracy of RF:\", acc_rfr)\n",
    "print(\"Mean of Accuracy of RF:\", sum(acc_rfr)/10)"
   ]
  },
  {
   "cell_type": "raw",
   "id": "903ad104",
   "metadata": {},
   "source": [
    "rfr.fit(tsr_3_input,tsr_3_output)\n",
    "rfr_predict =rfr.predict(tsr_3_input)\n",
    "print(rfr_predict)\n",
    "rfr_predict = np.round(rfr_predict)\n",
    "print(rfr_predict)\n",
    "print(\"Accuracy of RF:\", (tsr_3_output == rfr_predict).sum() / len(rfr_predict))"
   ]
  },
  {
   "cell_type": "code",
   "execution_count": 16,
   "id": "bd1b93bc",
   "metadata": {},
   "outputs": [
    {
     "data": {
      "text/plain": [
       "array([[ 500,    0,    0,    0,    0,    0],\n",
       "       [   0, 1144,    0,    0,    0,    0],\n",
       "       [   0,    0,  771,    0,    0,    0],\n",
       "       [   0,    0,    0,  667,    0,    0],\n",
       "       [   0,    0,    0,    0,  959,    0],\n",
       "       [   0,    0,    0,    0,    0,  710]], dtype=int64)"
      ]
     },
     "execution_count": 16,
     "metadata": {},
     "output_type": "execute_result"
    }
   ],
   "source": [
    "rfr_pred = cross_val_predict(rfr,tsr_3_input,tsr_3_output,cv = 10)\n",
    "rfr_pred = np.round(rfr_pred)\n",
    "confusion_matrix(tsr_3_output, rfr_pred)"
   ]
  },
  {
   "cell_type": "code",
   "execution_count": 17,
   "id": "b6ff341b",
   "metadata": {},
   "outputs": [
    {
     "name": "stdout",
     "output_type": "stream",
     "text": [
      "[0.79848646 0.83124349 0.86398329 0.8160926  0.84065532 0.85591027\n",
      " 0.8449297  0.7813848  0.89386159 0.81143728]\n",
      "Mean of R^2: 0.8337984798534303\n",
      "Std of R^2: 0.03161128500485248\n"
     ]
    }
   ],
   "source": [
    "rfr1 = RandomForestRegressor(criterion = \"mse\", n_estimators = 15, bootstrap=True, random_state = 19,max_features = 0.8)\n",
    "rfr_scores1 = cross_val_score(rfr1,tsr_3_input_nomrs,tsr_3_output,cv = 10, scoring='r2')\n",
    "print(rfr_scores1)\n",
    "print(\"Mean of R^2:\", rfr_scores1.mean())\n",
    "print(\"Std of R^2:\", rfr_scores1.std())"
   ]
  },
  {
   "cell_type": "code",
   "execution_count": 18,
   "id": "2b30f91e",
   "metadata": {},
   "outputs": [
    {
     "name": "stdout",
     "output_type": "stream",
     "text": [
      "Accuracy of RF: [0.685133239831697, 0.6760168302945302, 0.6914446002805049, 0.6865357643758766, 0.6942496493688639, 0.6760168302945302, 0.7124824684431977, 0.6865357643758766, 0.6991584852734923, 0.6830294530154277]\n",
      "Mean of Accuracy of RF: 0.6890603085553998\n"
     ]
    }
   ],
   "source": [
    "acc_rfr1 = []\n",
    "for i in range(10):\n",
    "    X_train, X_test, y_train, y_test = train_test_split(tsr_3_input_nomrs, tsr_3_output, test_size=0.3, random_state=i)\n",
    "    rfr1.fit(X_train,y_train)\n",
    "    rfr1_predict = rfr1.predict(X_test)\n",
    "    #print(rfr1_predict)\n",
    "    rfr1_predict = np.round(rfr1_predict)\n",
    "    #print(rfr1_predict)\n",
    "    accuracy = (y_test == rfr1_predict).sum() / len(rfr1_predict)\n",
    "    acc_rfr1.append(accuracy)\n",
    "\n",
    "print(\"Accuracy of RF:\", acc_rfr1)\n",
    "print(\"Mean of Accuracy of RF:\", sum(acc_rfr1)/10)"
   ]
  },
  {
   "cell_type": "raw",
   "id": "49e7e13d",
   "metadata": {},
   "source": [
    "rfr1.fit(tsr_3_input_nomrs,tsr_3_output)\n",
    "rfr_predict1 =rfr1.predict(tsr_3_input_nomrs)\n",
    "print(rfr_predict1)\n",
    "rfr_predict1 = np.round(rfr_predict1)\n",
    "print(rfr_predict1)\n",
    "print(\"Accuracy of RF:\", (tsr_3_output == rfr_predict1).sum() / len(rfr_predict1))"
   ]
  },
  {
   "cell_type": "code",
   "execution_count": 19,
   "id": "c8e331b6",
   "metadata": {},
   "outputs": [
    {
     "data": {
      "text/plain": [
       "array([[296, 160,  31,  11,   1,   1],\n",
       "       [ 76, 779, 235,  42,  10,   2],\n",
       "       [  2, 125, 505, 118,  21,   0],\n",
       "       [  0,  21, 125, 431,  87,   3],\n",
       "       [  0,   9,  16, 167, 720,  47],\n",
       "       [  0,   2,   4,  16, 178, 510]], dtype=int64)"
      ]
     },
     "execution_count": 19,
     "metadata": {},
     "output_type": "execute_result"
    }
   ],
   "source": [
    "rfr_pred1 = cross_val_predict(rfr1,tsr_3_input_nomrs,tsr_3_output,cv = 10)\n",
    "rfr_pred1 = np.round(rfr_pred1)\n",
    "confusion_matrix(tsr_3_output, rfr_pred1)"
   ]
  },
  {
   "cell_type": "markdown",
   "id": "b66529bc",
   "metadata": {},
   "source": [
    "## XGBoost"
   ]
  },
  {
   "cell_type": "code",
   "execution_count": 20,
   "id": "de72ba0e",
   "metadata": {},
   "outputs": [
    {
     "name": "stdout",
     "output_type": "stream",
     "text": [
      "[0.99993267 0.99994881 0.99994648 0.99995066 0.99994196 0.99994731\n",
      " 0.99994212 0.99993815 0.99993076 0.99991742]\n",
      "Mean of R^2: 0.9999396339808422\n",
      "Std of R^2: 9.726589976168125e-06\n"
     ]
    }
   ],
   "source": [
    "xgbr = XGBRegressor(n_estimators  = 15, objective=\"reg:squarederror\", random_state = 19) \n",
    "xgbr_scores = cross_val_score(xgbr,tsr_3_input,tsr_3_output,cv = 10, scoring='r2')\n",
    "print(xgbr_scores)\n",
    "print(\"Mean of R^2:\", xgbr_scores.mean())\n",
    "print(\"Std of R^2:\", xgbr_scores.std())"
   ]
  },
  {
   "cell_type": "code",
   "execution_count": 21,
   "id": "7fab3f49",
   "metadata": {},
   "outputs": [
    {
     "name": "stdout",
     "output_type": "stream",
     "text": [
      "Accuracy of RF: [1.0, 1.0, 1.0, 1.0, 1.0, 1.0, 1.0, 1.0, 1.0, 1.0]\n",
      "Mean of Accuracy of RF: 1.0\n"
     ]
    }
   ],
   "source": [
    "acc_xgbr = []\n",
    "for i in range(10):\n",
    "    X_train, X_test, y_train, y_test = train_test_split(tsr_3_input, tsr_3_output, test_size=0.3, random_state=i)\n",
    "    xgbr.fit(X_train,y_train)\n",
    "    xgbr_predict = xgbr.predict(X_test)\n",
    "    #print(xgbr_predict)\n",
    "    xgbr_predict = np.round(xgbr_predict)\n",
    "    #print(xgbr_predict)\n",
    "    accuracy = (y_test == xgbr_predict).sum() / len(xgbr_predict)\n",
    "    acc_xgbr.append(accuracy)\n",
    "\n",
    "print(\"Accuracy of RF:\", acc_xgbr)\n",
    "print(\"Mean of Accuracy of RF:\", sum(acc_xgbr)/10)"
   ]
  },
  {
   "cell_type": "raw",
   "id": "80270f50",
   "metadata": {},
   "source": [
    "xgbr.fit(tsr_3_input,tsr_3_output)\n",
    "xgbr_predict =xgbr.predict(tsr_3_input)\n",
    "print(xgbr_predict)\n",
    "xgbr_predict = np.round(xgbr_predict)\n",
    "print(xgbr_predict)\n",
    "print(\"Accuracy of RF:\", (tsr_3_output == xgbr_predict).sum() / len(xgbr_predict))"
   ]
  },
  {
   "cell_type": "code",
   "execution_count": 22,
   "id": "5963a55b",
   "metadata": {},
   "outputs": [
    {
     "data": {
      "text/plain": [
       "array([[ 500,    0,    0,    0,    0,    0],\n",
       "       [   0, 1144,    0,    0,    0,    0],\n",
       "       [   0,    0,  771,    0,    0,    0],\n",
       "       [   0,    0,    0,  667,    0,    0],\n",
       "       [   0,    0,    0,    0,  959,    0],\n",
       "       [   0,    0,    0,    0,    0,  710]], dtype=int64)"
      ]
     },
     "execution_count": 22,
     "metadata": {},
     "output_type": "execute_result"
    }
   ],
   "source": [
    "xgbr_pred = cross_val_predict(xgbr,tsr_3_input,tsr_3_output,cv = 10)\n",
    "xgbr_pred = np.round(xgbr_pred)\n",
    "confusion_matrix(tsr_3_output, xgbr_pred)"
   ]
  },
  {
   "cell_type": "code",
   "execution_count": 23,
   "id": "d11b98f4",
   "metadata": {},
   "outputs": [
    {
     "name": "stdout",
     "output_type": "stream",
     "text": [
      "[0.79848646 0.83124349 0.86398329 0.8160926  0.84065532 0.85591027\n",
      " 0.8449297  0.7813848  0.89386159 0.81143728]\n",
      "Mean of R^2: 0.8337984798534303\n",
      "Std of R^2: 0.03161128500485248\n"
     ]
    }
   ],
   "source": [
    "xgbr1 = RandomForestRegressor(criterion = \"mse\", n_estimators = 15, bootstrap=True, random_state = 19,max_features = 0.8)\n",
    "xgbr_scores1 = cross_val_score(xgbr1,tsr_3_input_nomrs,tsr_3_output,cv = 10, scoring='r2')\n",
    "print(xgbr_scores1)\n",
    "print(\"Mean of R^2:\", xgbr_scores1.mean())\n",
    "print(\"Std of R^2:\", xgbr_scores1.std())"
   ]
  },
  {
   "cell_type": "code",
   "execution_count": 24,
   "id": "2b0ca358",
   "metadata": {},
   "outputs": [
    {
     "name": "stdout",
     "output_type": "stream",
     "text": [
      "Accuracy of RF: [0.685133239831697, 0.6760168302945302, 0.6914446002805049, 0.6865357643758766, 0.6942496493688639, 0.6760168302945302, 0.7124824684431977, 0.6865357643758766, 0.6991584852734923, 0.6830294530154277]\n",
      "Mean of Accuracy of RF: 0.6890603085553998\n"
     ]
    }
   ],
   "source": [
    "acc_xgbr1 = []\n",
    "for i in range(10):\n",
    "    X_train, X_test, y_train, y_test = train_test_split(tsr_3_input_nomrs, tsr_3_output, test_size=0.3, random_state=i)\n",
    "    xgbr1.fit(X_train,y_train)\n",
    "    xgbr1_predict = xgbr1.predict(X_test)\n",
    "    #print(xgbr1_predict)\n",
    "    xgbr1_predict = np.round(xgbr1_predict)\n",
    "    #print(xgbr1_predict)\n",
    "    accuracy = (y_test == xgbr1_predict).sum() / len(xgbr1_predict)\n",
    "    acc_xgbr1.append(accuracy)\n",
    "\n",
    "print(\"Accuracy of RF:\", acc_xgbr1)\n",
    "print(\"Mean of Accuracy of RF:\", sum(acc_xgbr1)/10)"
   ]
  },
  {
   "cell_type": "raw",
   "id": "15d82899",
   "metadata": {},
   "source": [
    "xgbr1.fit(tsr_3_input_nomrs,tsr_3_output)\n",
    "xgbr_predict1 =xgbr1.predict(tsr_3_input_nomrs)\n",
    "print(xgbr_predict1)\n",
    "xgbr_predict1 = np.round(xgbr_predict1)\n",
    "print(xgbr_predict1)\n",
    "print(\"Accuracy of RF:\", (tsr_3_output == xgbr_predict1).sum() / len(xgbr_predict1))"
   ]
  },
  {
   "cell_type": "code",
   "execution_count": 25,
   "id": "438d6b25",
   "metadata": {},
   "outputs": [
    {
     "data": {
      "text/plain": [
       "array([[296, 160,  31,  11,   1,   1],\n",
       "       [ 76, 779, 235,  42,  10,   2],\n",
       "       [  2, 125, 505, 118,  21,   0],\n",
       "       [  0,  21, 125, 431,  87,   3],\n",
       "       [  0,   9,  16, 167, 720,  47],\n",
       "       [  0,   2,   4,  16, 178, 510]], dtype=int64)"
      ]
     },
     "execution_count": 25,
     "metadata": {},
     "output_type": "execute_result"
    }
   ],
   "source": [
    "xgbr_pred1 = cross_val_predict(xgbr1,tsr_3_input_nomrs,tsr_3_output,cv = 10)\n",
    "xgbr_pred1 = np.round(xgbr_pred1)\n",
    "confusion_matrix(tsr_3_output, xgbr_pred1)"
   ]
  },
  {
   "cell_type": "markdown",
   "id": "0345cd57",
   "metadata": {},
   "source": [
    "# 2 classes"
   ]
  },
  {
   "cell_type": "code",
   "execution_count": 26,
   "id": "5f5a8f84",
   "metadata": {},
   "outputs": [],
   "source": [
    "tsr_3_output[(tsr_3_output == 0)|(tsr_3_output == 1)|(tsr_3_output == 2)] = 0\n",
    "tsr_3_output[(tsr_3_output == 3)|(tsr_3_output == 4)|(tsr_3_output == 5)] = 1"
   ]
  },
  {
   "cell_type": "markdown",
   "id": "3774a254",
   "metadata": {},
   "source": [
    "## SVM"
   ]
  },
  {
   "cell_type": "code",
   "execution_count": 27,
   "id": "cdf21ef3",
   "metadata": {
    "scrolled": true
   },
   "outputs": [
    {
     "name": "stdout",
     "output_type": "stream",
     "text": [
      "[0.7589501  0.79709672 0.8141315  0.84887988 0.84468708 0.81412863\n",
      " 0.8021148  0.81704023 0.82336342 0.73357385]\n",
      "Mean of R^2: 0.805396621020947\n",
      "Std of R^2: 0.0338244105018299\n"
     ]
    }
   ],
   "source": [
    "svr2 = LinearSVR(epsilon = 0, dual=False, loss = \"squared_epsilon_insensitive\", C = 1, random_state = 19)\n",
    "svr_scores2 = cross_val_score(svr2,tsr_3_input,tsr_3_output,cv = 10, scoring='r2')\n",
    "print(svr_scores2)\n",
    "print(\"Mean of R^2:\", svr_scores2.mean())\n",
    "print(\"Std of R^2:\", svr_scores2.std())"
   ]
  },
  {
   "cell_type": "code",
   "execution_count": 28,
   "id": "3dc6bf76",
   "metadata": {},
   "outputs": [
    {
     "name": "stdout",
     "output_type": "stream",
     "text": [
      "Accuracy of RF: [0.9726507713884993, 0.9663394109396914, 0.9761570827489481, 0.9684431977559608, 0.9866760168302945, 0.9663394109396914, 0.9782608695652174, 0.982468443197756, 0.9670406732117812, 0.9691444600280504]\n",
      "Mean of Accuracy of RF: 0.9733520336605892\n"
     ]
    }
   ],
   "source": [
    "acc_svr2 = []\n",
    "for i in range(10):\n",
    "    X_train, X_test, y_train, y_test = train_test_split(tsr_3_input, tsr_3_output, test_size=0.3, random_state=i)\n",
    "    svr2.fit(X_train,y_train)\n",
    "    svr2_predict = svr2.predict(X_test)\n",
    "    #print(svr2_predict)\n",
    "    svr2_predict = np.round(svr2_predict)\n",
    "    #print(svr2_predict)\n",
    "    accuracy = (y_test == svr2_predict).sum() / len(svr2_predict)\n",
    "    acc_svr2.append(accuracy)\n",
    "\n",
    "print(\"Accuracy of RF:\", acc_svr2)\n",
    "print(\"Mean of Accuracy of RF:\", sum(acc_svr2)/10)"
   ]
  },
  {
   "cell_type": "raw",
   "id": "5f6774f2",
   "metadata": {},
   "source": [
    "svr2.fit(tsr_3_input,tsr_3_output)\n",
    "svr_predict2 =svr2.predict(tsr_3_input)\n",
    "print(svr_predict2)\n",
    "svr_predict2 = np.round(svr_predict2)\n",
    "print(svr_predict2)\n",
    "print(\"Accuracy of RF:\", (tsr_3_output == svr_predict2).sum() / len(svr_predict2))"
   ]
  },
  {
   "cell_type": "code",
   "execution_count": 29,
   "id": "28b2fd27",
   "metadata": {},
   "outputs": [
    {
     "data": {
      "text/plain": [
       "array([[2344,   71],\n",
       "       [  75, 2261]], dtype=int64)"
      ]
     },
     "execution_count": 29,
     "metadata": {},
     "output_type": "execute_result"
    }
   ],
   "source": [
    "svr_pred2 = cross_val_predict(svr2,tsr_3_input,tsr_3_output,cv = 10)\n",
    "svr_pred2 = np.round(svr_pred2)\n",
    "confusion_matrix(tsr_3_output, svr_pred2)"
   ]
  },
  {
   "cell_type": "code",
   "execution_count": 30,
   "id": "e1bd14e7",
   "metadata": {
    "scrolled": true
   },
   "outputs": [
    {
     "name": "stdout",
     "output_type": "stream",
     "text": [
      "[0.60849137 0.66896247 0.7379421  0.73399559 0.75512915 0.69983834\n",
      " 0.71975856 0.67443361 0.7712184  0.53487333]\n",
      "Mean of R^2: 0.6904642932258542\n",
      "Std of R^2: 0.06888057174630827\n"
     ]
    }
   ],
   "source": [
    "svr3 = LinearSVR(epsilon = 0, dual=False, loss = \"squared_epsilon_insensitive\", C = 1, random_state = 19)\n",
    "svr_scores3 = cross_val_score(svr3,tsr_3_input_nomrs,tsr_3_output,cv = 10, scoring='r2')\n",
    "print(svr_scores3)\n",
    "print(\"Mean of R^2:\", svr_scores3.mean())\n",
    "print(\"Std of R^2:\", svr_scores3.std())"
   ]
  },
  {
   "cell_type": "code",
   "execution_count": 31,
   "id": "fd603c6f",
   "metadata": {},
   "outputs": [
    {
     "name": "stdout",
     "output_type": "stream",
     "text": [
      "Accuracy of RF: [0.9172510518934082, 0.9102384291725105, 0.9130434782608695, 0.9074333800841514, 0.926367461430575, 0.9158485273492286, 0.9158485273492286, 0.9158485273492286, 0.9228611500701263, 0.9200561009817672]\n",
      "Mean of Accuracy of RF: 0.9164796633941095\n"
     ]
    }
   ],
   "source": [
    "acc_svr3 = []\n",
    "for i in range(10):\n",
    "    X_train, X_test, y_train, y_test = train_test_split(tsr_3_input_nomrs, tsr_3_output, test_size=0.3, random_state=i)\n",
    "    svr3.fit(X_train,y_train)\n",
    "    svr3_predict = svr3.predict(X_test)\n",
    "    #print(svr3_predict)\n",
    "    svr3_predict = np.round(svr3_predict)\n",
    "    #print(svr3_predict)\n",
    "    accuracy = (y_test == svr3_predict).sum() / len(svr3_predict)\n",
    "    acc_svr3.append(accuracy)\n",
    "\n",
    "print(\"Accuracy of RF:\", acc_svr3)\n",
    "print(\"Mean of Accuracy of RF:\", sum(acc_svr3)/10)"
   ]
  },
  {
   "cell_type": "raw",
   "id": "3b2e6802",
   "metadata": {},
   "source": [
    "svr3.fit(tsr_3_input_nomrs,tsr_3_output)\n",
    "svr_predict3 =svr3.predict(tsr_3_input_nomrs)\n",
    "print(svr_predict3)\n",
    "svr_predict3 = np.round(svr_predict3)\n",
    "print(svr_predict3)\n",
    "print(\"Accuracy of RF:\", (tsr_3_output == svr_predict3).sum() / len(svr_predict3))"
   ]
  },
  {
   "cell_type": "code",
   "execution_count": 32,
   "id": "1563a5ed",
   "metadata": {},
   "outputs": [
    {
     "data": {
      "text/plain": [
       "array([[2220,  195],\n",
       "       [ 238, 2098]], dtype=int64)"
      ]
     },
     "execution_count": 32,
     "metadata": {},
     "output_type": "execute_result"
    }
   ],
   "source": [
    "svr_pred3 = cross_val_predict(svr3,tsr_3_input_nomrs,tsr_3_output,cv = 10)\n",
    "svr_pred3 = np.round(svr_pred3)\n",
    "confusion_matrix(tsr_3_output, svr_pred3)"
   ]
  },
  {
   "cell_type": "markdown",
   "id": "0c27f9e0",
   "metadata": {},
   "source": [
    "## RF"
   ]
  },
  {
   "cell_type": "code",
   "execution_count": 33,
   "id": "1d73c49a",
   "metadata": {},
   "outputs": [
    {
     "name": "stdout",
     "output_type": "stream",
     "text": [
      "[1.         1.         1.         0.99996156 1.         1.\n",
      " 1.         1.         1.         1.        ]\n",
      "Mean of R^2: 0.9999961563048739\n",
      "Std of R^2: 1.1531085378579942e-05\n"
     ]
    }
   ],
   "source": [
    "rfr2 = RandomForestRegressor(criterion = \"mse\", n_estimators = 15, bootstrap=True, random_state = 19,max_features = 0.8)\n",
    "rfr_scores2 = cross_val_score(rfr2,tsr_3_input,tsr_3_output,cv = 10, scoring='r2')\n",
    "print(rfr_scores2)\n",
    "print(\"Mean of R^2:\", rfr_scores2.mean())\n",
    "print(\"Std of R^2:\", rfr_scores2.std())"
   ]
  },
  {
   "cell_type": "code",
   "execution_count": 34,
   "id": "41eee609",
   "metadata": {},
   "outputs": [
    {
     "name": "stdout",
     "output_type": "stream",
     "text": [
      "Accuracy of RF: [1.0, 1.0, 1.0, 1.0, 1.0, 1.0, 1.0, 1.0, 1.0, 1.0]\n",
      "Mean of Accuracy of RF: 1.0\n"
     ]
    }
   ],
   "source": [
    "acc_rfr2 = []\n",
    "for i in range(10):\n",
    "    X_train, X_test, y_train, y_test = train_test_split(tsr_3_input, tsr_3_output, test_size=0.3, random_state=i)\n",
    "    rfr2.fit(X_train,y_train)\n",
    "    rfr2_predict = rfr2.predict(X_test)\n",
    "    #print(rfr2_predict)\n",
    "    rfr2_predict = np.round(rfr2_predict)\n",
    "    #print(rfr2_predict)\n",
    "    accuracy = (y_test == rfr2_predict).sum() / len(rfr2_predict)\n",
    "    acc_rfr2.append(accuracy)\n",
    "\n",
    "print(\"Accuracy of RF:\", acc_rfr2)\n",
    "print(\"Mean of Accuracy of RF:\", sum(acc_rfr2)/10)"
   ]
  },
  {
   "cell_type": "raw",
   "id": "88e251d3",
   "metadata": {},
   "source": [
    "rfr2.fit(tsr_3_input,tsr_3_output)\n",
    "rfr_predict2 =rfr2.predict(tsr_3_input)\n",
    "print(rfr_predict2)\n",
    "rfr_predict2 = np.round(rfr_predict2)\n",
    "print(rfr_predict2)\n",
    "print(\"Accuracy of RF:\", (tsr_3_output == rfr_predict2).sum() / len(rfr_predict2))"
   ]
  },
  {
   "cell_type": "code",
   "execution_count": 35,
   "id": "1451b6b1",
   "metadata": {},
   "outputs": [
    {
     "data": {
      "text/plain": [
       "array([[2415,    0],\n",
       "       [   0, 2336]], dtype=int64)"
      ]
     },
     "execution_count": 35,
     "metadata": {},
     "output_type": "execute_result"
    }
   ],
   "source": [
    "rf_pred2 = cross_val_predict(rfr2,tsr_3_input,tsr_3_output,cv = 10)\n",
    "rf_pred2 = np.round(rf_pred2)\n",
    "confusion_matrix(tsr_3_output, rf_pred2)"
   ]
  },
  {
   "cell_type": "code",
   "execution_count": 36,
   "id": "a371c676",
   "metadata": {
    "scrolled": true
   },
   "outputs": [
    {
     "name": "stdout",
     "output_type": "stream",
     "text": [
      "[0.67450974 0.71671835 0.83315047 0.7694936  0.77265994 0.74529902\n",
      " 0.75116166 0.77124322 0.84322987 0.62267818]\n",
      "Mean of R^2: 0.7500144060955003\n",
      "Std of R^2: 0.06323867093793825\n"
     ]
    }
   ],
   "source": [
    "rfr3 = RandomForestRegressor(criterion = \"mse\", n_estimators = 15, bootstrap=True, random_state = 19,max_features = 0.8)\n",
    "rfr_scores3 = cross_val_score(rfr3,tsr_3_input_nomrs,tsr_3_output,cv = 10, scoring='r2')\n",
    "print(rfr_scores3)\n",
    "print(\"Mean of R^2:\", rfr_scores3.mean())\n",
    "print(\"Std of R^2:\", rfr_scores3.std())"
   ]
  },
  {
   "cell_type": "code",
   "execution_count": 37,
   "id": "fd6e5781",
   "metadata": {},
   "outputs": [
    {
     "name": "stdout",
     "output_type": "stream",
     "text": [
      "Accuracy of RF: [0.923562412342216, 0.9130434782608695, 0.9277699859747546, 0.9172510518934082, 0.9277699859747546, 0.9256661991584852, 0.9242636746143057, 0.9277699859747546, 0.9312762973352033, 0.9256661991584852]\n",
      "Mean of Accuracy of RF: 0.9244039270687237\n"
     ]
    }
   ],
   "source": [
    "acc_rfr3 = []\n",
    "for i in range(10):\n",
    "    X_train, X_test, y_train, y_test = train_test_split(tsr_3_input_nomrs, tsr_3_output, test_size=0.3, random_state=i)\n",
    "    rfr3.fit(X_train,y_train)\n",
    "    rfr3_predict = rfr3.predict(X_test)\n",
    "    #print(rfr3_predict)\n",
    "    rfr3_predict = np.round(rfr3_predict)\n",
    "    #print(rfr3_predict)\n",
    "    accuracy = (y_test == rfr3_predict).sum() / len(rfr3_predict)\n",
    "    acc_rfr3.append(accuracy)\n",
    "\n",
    "print(\"Accuracy of RF:\", acc_rfr3)\n",
    "print(\"Mean of Accuracy of RF:\", sum(acc_rfr3)/10)"
   ]
  },
  {
   "cell_type": "raw",
   "id": "8cac0267",
   "metadata": {},
   "source": [
    "rfr3.fit(tsr_3_input_nomrs,tsr_3_output)\n",
    "rfr_predict3 =rfr3.predict(tsr_3_input_nomrs)\n",
    "print(rfr_predict3)\n",
    "rfr_predict3 = np.round(rfr_predict3)\n",
    "print(rfr_predict3)\n",
    "print(\"Accuracy of RF:\", (tsr_3_output == rfr_predict3).sum() / len(rfr_predict3))"
   ]
  },
  {
   "cell_type": "code",
   "execution_count": 38,
   "id": "b67ef3cb",
   "metadata": {},
   "outputs": [
    {
     "data": {
      "text/plain": [
       "array([[2184,  231],\n",
       "       [ 128, 2208]], dtype=int64)"
      ]
     },
     "execution_count": 38,
     "metadata": {},
     "output_type": "execute_result"
    }
   ],
   "source": [
    "rfr_pred3 = cross_val_predict(rfr3,tsr_3_input_nomrs,tsr_3_output,cv = 10)\n",
    "rfr_pred3 = np.round(rfr_pred3)\n",
    "confusion_matrix(tsr_3_output, rfr_pred3)"
   ]
  },
  {
   "cell_type": "markdown",
   "id": "ce7201cc",
   "metadata": {},
   "source": [
    "## XGBoost"
   ]
  },
  {
   "cell_type": "code",
   "execution_count": 39,
   "id": "9100093a",
   "metadata": {},
   "outputs": [
    {
     "name": "stdout",
     "output_type": "stream",
     "text": [
      "[0.99997726 0.99997712 0.99997712 0.99997671 0.99997732 0.99997719\n",
      " 0.99997694 0.9999773  0.99997729 0.99997552]\n",
      "Mean of R^2: 0.999976976946966\n",
      "Std of R^2: 5.183694326287556e-07\n"
     ]
    }
   ],
   "source": [
    "xgbr2 = XGBRegressor(n_estimators  = 15, objective=\"reg:squarederror\", random_state = 19) \n",
    "xgbr_scores2 = cross_val_score(xgbr2,tsr_3_input,tsr_3_output,cv = 10, scoring='r2')\n",
    "print(xgbr_scores2)\n",
    "print(\"Mean of R^2:\", xgbr_scores2.mean())\n",
    "print(\"Std of R^2:\", xgbr_scores2.std())"
   ]
  },
  {
   "cell_type": "code",
   "execution_count": 40,
   "id": "cf670760",
   "metadata": {},
   "outputs": [
    {
     "name": "stdout",
     "output_type": "stream",
     "text": [
      "Accuracy of RF: [1.0, 1.0, 1.0, 1.0, 1.0, 1.0, 1.0, 1.0, 1.0, 1.0]\n",
      "Mean of Accuracy of RF: 1.0\n"
     ]
    }
   ],
   "source": [
    "acc_xgbr2 = []\n",
    "for i in range(10):\n",
    "    X_train, X_test, y_train, y_test = train_test_split(tsr_3_input, tsr_3_output, test_size=0.3, random_state=i)\n",
    "    xgbr2.fit(X_train,y_train)\n",
    "    xgbr2_predict = xgbr2.predict(X_test)\n",
    "    #print(xgbr2_predict)\n",
    "    xgbr2_predict = np.round(xgbr2_predict)\n",
    "    #print(xgbr2_predict)\n",
    "    accuracy = (y_test == xgbr2_predict).sum() / len(xgbr2_predict)\n",
    "    acc_xgbr2.append(accuracy)\n",
    "\n",
    "print(\"Accuracy of RF:\", acc_xgbr2)\n",
    "print(\"Mean of Accuracy of RF:\", sum(acc_xgbr2)/10)"
   ]
  },
  {
   "cell_type": "raw",
   "id": "271b3417",
   "metadata": {},
   "source": [
    "xgbr2.fit(tsr_3_input,tsr_3_output)\n",
    "xgbr_predict2 =xgbr2.predict(tsr_3_input)\n",
    "print(xgbr_predict2)\n",
    "xgbr_predict2 = np.round(xgbr_predict2)\n",
    "print(xgbr_predict2)\n",
    "print(\"Accuracy of RF:\", (tsr_3_output == xgbr_predict2).sum() / len(xgbr_predict2))"
   ]
  },
  {
   "cell_type": "code",
   "execution_count": 41,
   "id": "f52a7d4a",
   "metadata": {},
   "outputs": [
    {
     "data": {
      "text/plain": [
       "array([[2415,    0],\n",
       "       [   0, 2336]], dtype=int64)"
      ]
     },
     "execution_count": 41,
     "metadata": {},
     "output_type": "execute_result"
    }
   ],
   "source": [
    "xgbr_pred2 = cross_val_predict(xgbr2,tsr_3_input,tsr_3_output,cv = 10)\n",
    "xgbr_pred2 = np.round(xgbr_pred2)\n",
    "confusion_matrix(tsr_3_output, xgbr_pred2)"
   ]
  },
  {
   "cell_type": "code",
   "execution_count": 42,
   "id": "18e0ab75",
   "metadata": {
    "scrolled": true
   },
   "outputs": [
    {
     "name": "stdout",
     "output_type": "stream",
     "text": [
      "[0.71489409 0.74967602 0.84586303 0.76303676 0.75537171 0.7370609\n",
      " 0.7565685  0.74812115 0.8265216  0.64069671]\n",
      "Mean of R^2: 0.7537810472258741\n",
      "Std of R^2: 0.05338066926479723\n"
     ]
    }
   ],
   "source": [
    "xgbr3 = XGBRegressor(n_estimators  = 15, objective=\"reg:squarederror\", random_state = 19) \n",
    "xgbr_scores3 = cross_val_score(xgbr3,tsr_3_input_nomrs,tsr_3_output,cv = 10, scoring='r2')\n",
    "print(xgbr_scores3)\n",
    "print(\"Mean of R^2:\", xgbr_scores3.mean())\n",
    "print(\"Std of R^2:\", xgbr_scores3.std())"
   ]
  },
  {
   "cell_type": "code",
   "execution_count": 43,
   "id": "4f7a346a",
   "metadata": {},
   "outputs": [
    {
     "name": "stdout",
     "output_type": "stream",
     "text": [
      "Accuracy of RF: [0.9186535764375876, 0.9228611500701263, 0.9256661991584852, 0.908835904628331, 0.9221598877980365, 0.9200561009817672, 0.9242636746143057, 0.9256661991584852, 0.9305750350631136, 0.9368863955119214]\n",
      "Mean of Accuracy of RF: 0.9235624123422159\n"
     ]
    }
   ],
   "source": [
    "acc_xgbr3 = []\n",
    "for i in range(10):\n",
    "    X_train, X_test, y_train, y_test = train_test_split(tsr_3_input_nomrs, tsr_3_output, test_size=0.3, random_state=i)\n",
    "    xgbr3.fit(X_train,y_train)\n",
    "    xgbr3_predict = xgbr3.predict(X_test)\n",
    "    #print(xgbr3_predict)\n",
    "    xgbr3_predict = np.round(xgbr3_predict)\n",
    "    #print(xgbr3_predict)\n",
    "    accuracy = (y_test == xgbr3_predict).sum() / len(xgbr3_predict)\n",
    "    acc_xgbr3.append(accuracy)\n",
    "\n",
    "print(\"Accuracy of RF:\", acc_xgbr3)\n",
    "print(\"Mean of Accuracy of RF:\", sum(acc_xgbr3)/10)"
   ]
  },
  {
   "cell_type": "raw",
   "id": "701d3752",
   "metadata": {},
   "source": [
    "xgbr3.fit(tsr_3_input_nomrs,tsr_3_output)\n",
    "xgbr_predict3 =xgbr3.predict(tsr_3_input_nomrs)\n",
    "print(xgbr_predict3)\n",
    "xgbr_predict3 = np.round(xgbr_predict3)\n",
    "print(xgbr_predict3)\n",
    "print(\"Accuracy of RF:\", (tsr_3_output == xgbr_predict3).sum() / len(xgbr_predict3))"
   ]
  },
  {
   "cell_type": "code",
   "execution_count": 44,
   "id": "287de285",
   "metadata": {},
   "outputs": [
    {
     "data": {
      "text/plain": [
       "array([[2187,  228],\n",
       "       [ 141, 2195]], dtype=int64)"
      ]
     },
     "execution_count": 44,
     "metadata": {},
     "output_type": "execute_result"
    }
   ],
   "source": [
    "xgbr_pred3 = cross_val_predict(xgbr3,tsr_3_input_nomrs,tsr_3_output,cv = 10)\n",
    "xgbr_pred3 = np.round(xgbr_pred3)\n",
    "confusion_matrix(tsr_3_output, xgbr_pred3)"
   ]
  },
  {
   "cell_type": "markdown",
   "id": "8ddecd9c",
   "metadata": {},
   "source": [
    "# Summary"
   ]
  },
  {
   "cell_type": "markdown",
   "id": "72142916",
   "metadata": {},
   "source": [
    "## Mean & Std"
   ]
  },
  {
   "cell_type": "code",
   "execution_count": 45,
   "id": "ad282f2d",
   "metadata": {},
   "outputs": [],
   "source": [
    "svr_mean = np.array([svr_scores.mean(), svr_scores.std(), svr_scores[0], svr_scores[1], svr_scores[2], svr_scores[3],\n",
    "                     svr_scores[4], svr_scores[5], svr_scores[6], svr_scores[7], svr_scores[8], svr_scores[9]])\n",
    "rfr_mean = np.array([rfr_scores.mean(), rfr_scores.std(), rfr_scores[0], rfr_scores[1], rfr_scores[2], rfr_scores[3],rfr_scores[4], \n",
    "                    rfr_scores[5], rfr_scores[6], rfr_scores[7], rfr_scores[8], rfr_scores[9]])\n",
    "xgbr_mean = np.array([xgbr_scores.mean(), xgbr_scores.std(), xgbr_scores[0], xgbr_scores[1], xgbr_scores[2], xgbr_scores[3],\n",
    "                     xgbr_scores[4], xgbr_scores[5], xgbr_scores[6], xgbr_scores[7], xgbr_scores[8], xgbr_scores[9]])\n",
    "svr_mean2 = np.array([svr_scores2.mean(), svr_scores2.std(), svr_scores2[0], svr_scores2[1], svr_scores2[2], svr_scores2[3],\n",
    "                     svr_scores2[4], svr_scores2[5], svr_scores2[6], svr_scores2[7], svr_scores2[8], svr_scores2[9]])\n",
    "rfr_mean2 = np.array([rfr_scores2.mean(), rfr_scores2.std(), rfr_scores2[0], rfr_scores2[1], rfr_scores2[2], rfr_scores2[3],rfr_scores2[4], \n",
    "                    rfr_scores2[5], rfr_scores2[6], rfr_scores2[7], rfr_scores2[8], rfr_scores2[9]])\n",
    "xgbr_mean2 = np.array([xgbr_scores2.mean(), xgbr_scores2.std(), xgbr_scores2[0], xgbr_scores2[1], xgbr_scores2[2], xgbr_scores2[3],\n",
    "                     xgbr_scores2[4], xgbr_scores2[5], xgbr_scores2[6], xgbr_scores2[7], xgbr_scores2[8], xgbr_scores2[9]])"
   ]
  },
  {
   "cell_type": "code",
   "execution_count": 46,
   "id": "c711c7c3",
   "metadata": {},
   "outputs": [],
   "source": [
    "tsr_3_mean = pd.DataFrame([svr_mean, rfr_mean, xgbr_mean, svr_mean2, rfr_mean2, xgbr_mean2]).T\n",
    "tsr_3_mean.index = [\"Mean\", \"Std\", \"R^2_1\", \"R^2_2\", \"R^2_3\", \"R^2_4\", \"R^2_5\", \"R^2_6\", \"R^2_7\", \"R^2_8\", \"R^2_9\", \"R^2_10\"]\n",
    "tsr_3_mean.columns = [\"svr\", 'rfr', 'xgbr', 'svr2', 'rfr2', 'xgbr2']"
   ]
  },
  {
   "cell_type": "code",
   "execution_count": 47,
   "id": "c513703d",
   "metadata": {},
   "outputs": [],
   "source": [
    "csv_save = os.path.join(\".\", \"tsr_3_mean_regression.csv\")\n",
    "tsr_3_mean.to_csv(csv_save, index = True)"
   ]
  },
  {
   "cell_type": "code",
   "execution_count": null,
   "id": "c1a66be3",
   "metadata": {},
   "outputs": [],
   "source": []
  }
 ],
 "metadata": {
  "kernelspec": {
   "display_name": "Python 3",
   "language": "python",
   "name": "python3"
  },
  "language_info": {
   "codemirror_mode": {
    "name": "ipython",
    "version": 3
   },
   "file_extension": ".py",
   "mimetype": "text/x-python",
   "name": "python",
   "nbconvert_exporter": "python",
   "pygments_lexer": "ipython3",
   "version": "3.8.8"
  }
 },
 "nbformat": 4,
 "nbformat_minor": 5
}
