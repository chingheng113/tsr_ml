{
 "cells": [
  {
   "cell_type": "code",
   "execution_count": 1,
   "id": "98b98468",
   "metadata": {},
   "outputs": [],
   "source": [
    "import pandas as pd\n",
    "import os\n",
    "import numpy as np\n",
    "from sklearn.model_selection import cross_val_score\n",
    "from sklearn.model_selection import train_test_split\n",
    "from sklearn.svm import LinearSVR\n",
    "from sklearn.ensemble import RandomForestRegressor\n",
    "from xgboost import XGBRegressor\n",
    "from sklearn.model_selection import cross_val_predict\n",
    "from sklearn.metrics import confusion_matrix"
   ]
  },
  {
   "cell_type": "code",
   "execution_count": 2,
   "id": "3006e247",
   "metadata": {},
   "outputs": [
    {
     "data": {
      "text/html": [
       "<div>\n",
       "<style scoped>\n",
       "    .dataframe tbody tr th:only-of-type {\n",
       "        vertical-align: middle;\n",
       "    }\n",
       "\n",
       "    .dataframe tbody tr th {\n",
       "        vertical-align: top;\n",
       "    }\n",
       "\n",
       "    .dataframe thead th {\n",
       "        text-align: right;\n",
       "    }\n",
       "</style>\n",
       "<table border=\"1\" class=\"dataframe\">\n",
       "  <thead>\n",
       "    <tr style=\"text-align: right;\">\n",
       "      <th></th>\n",
       "      <th>height_nm</th>\n",
       "      <th>weight_nm</th>\n",
       "      <th>edu_id</th>\n",
       "      <th>pro_id</th>\n",
       "      <th>opc_id</th>\n",
       "      <th>ih_fl</th>\n",
       "      <th>ivtpamg_nm</th>\n",
       "      <th>hospitalised_time</th>\n",
       "      <th>nivtpa_id</th>\n",
       "      <th>nivtpa1_fl</th>\n",
       "      <th>...</th>\n",
       "      <th>nihs_6br_out</th>\n",
       "      <th>nihs_7_out</th>\n",
       "      <th>nihs_8_out</th>\n",
       "      <th>nihs_9_out</th>\n",
       "      <th>nihs_10_out</th>\n",
       "      <th>nihs_11_out</th>\n",
       "      <th>total_out</th>\n",
       "      <th>SexName</th>\n",
       "      <th>Age</th>\n",
       "      <th>mrs_tx_1</th>\n",
       "    </tr>\n",
       "  </thead>\n",
       "  <tbody>\n",
       "    <tr>\n",
       "      <th>0</th>\n",
       "      <td>150.0</td>\n",
       "      <td>49.0</td>\n",
       "      <td>2</td>\n",
       "      <td>1</td>\n",
       "      <td>3</td>\n",
       "      <td>0</td>\n",
       "      <td>0.0</td>\n",
       "      <td>16.0</td>\n",
       "      <td>1</td>\n",
       "      <td>0</td>\n",
       "      <td>...</td>\n",
       "      <td>0</td>\n",
       "      <td>0</td>\n",
       "      <td>0</td>\n",
       "      <td>0</td>\n",
       "      <td>0</td>\n",
       "      <td>0</td>\n",
       "      <td>8</td>\n",
       "      <td>0</td>\n",
       "      <td>66.0</td>\n",
       "      <td>4</td>\n",
       "    </tr>\n",
       "    <tr>\n",
       "      <th>1</th>\n",
       "      <td>153.0</td>\n",
       "      <td>62.0</td>\n",
       "      <td>3</td>\n",
       "      <td>1</td>\n",
       "      <td>3</td>\n",
       "      <td>0</td>\n",
       "      <td>0.0</td>\n",
       "      <td>8.0</td>\n",
       "      <td>0</td>\n",
       "      <td>999</td>\n",
       "      <td>...</td>\n",
       "      <td>0</td>\n",
       "      <td>1</td>\n",
       "      <td>1</td>\n",
       "      <td>0</td>\n",
       "      <td>1</td>\n",
       "      <td>0</td>\n",
       "      <td>4</td>\n",
       "      <td>0</td>\n",
       "      <td>67.0</td>\n",
       "      <td>1</td>\n",
       "    </tr>\n",
       "    <tr>\n",
       "      <th>2</th>\n",
       "      <td>152.0</td>\n",
       "      <td>62.0</td>\n",
       "      <td>3</td>\n",
       "      <td>1</td>\n",
       "      <td>2</td>\n",
       "      <td>0</td>\n",
       "      <td>0.0</td>\n",
       "      <td>4.0</td>\n",
       "      <td>0</td>\n",
       "      <td>999</td>\n",
       "      <td>...</td>\n",
       "      <td>0</td>\n",
       "      <td>0</td>\n",
       "      <td>1</td>\n",
       "      <td>0</td>\n",
       "      <td>0</td>\n",
       "      <td>0</td>\n",
       "      <td>1</td>\n",
       "      <td>0</td>\n",
       "      <td>69.0</td>\n",
       "      <td>1</td>\n",
       "    </tr>\n",
       "    <tr>\n",
       "      <th>3</th>\n",
       "      <td>148.0</td>\n",
       "      <td>56.0</td>\n",
       "      <td>2</td>\n",
       "      <td>1</td>\n",
       "      <td>2</td>\n",
       "      <td>0</td>\n",
       "      <td>0.0</td>\n",
       "      <td>5.0</td>\n",
       "      <td>0</td>\n",
       "      <td>999</td>\n",
       "      <td>...</td>\n",
       "      <td>0</td>\n",
       "      <td>0</td>\n",
       "      <td>1</td>\n",
       "      <td>0</td>\n",
       "      <td>0</td>\n",
       "      <td>0</td>\n",
       "      <td>2</td>\n",
       "      <td>0</td>\n",
       "      <td>71.0</td>\n",
       "      <td>0</td>\n",
       "    </tr>\n",
       "    <tr>\n",
       "      <th>4</th>\n",
       "      <td>152.0</td>\n",
       "      <td>56.0</td>\n",
       "      <td>4</td>\n",
       "      <td>1</td>\n",
       "      <td>2</td>\n",
       "      <td>0</td>\n",
       "      <td>0.0</td>\n",
       "      <td>3.0</td>\n",
       "      <td>1</td>\n",
       "      <td>0</td>\n",
       "      <td>...</td>\n",
       "      <td>0</td>\n",
       "      <td>0</td>\n",
       "      <td>0</td>\n",
       "      <td>0</td>\n",
       "      <td>0</td>\n",
       "      <td>0</td>\n",
       "      <td>0</td>\n",
       "      <td>0</td>\n",
       "      <td>71.0</td>\n",
       "      <td>0</td>\n",
       "    </tr>\n",
       "  </tbody>\n",
       "</table>\n",
       "<p>5 rows × 307 columns</p>\n",
       "</div>"
      ],
      "text/plain": [
       "   height_nm  weight_nm  edu_id  pro_id  opc_id  ih_fl  ivtpamg_nm  \\\n",
       "0      150.0       49.0       2       1       3      0         0.0   \n",
       "1      153.0       62.0       3       1       3      0         0.0   \n",
       "2      152.0       62.0       3       1       2      0         0.0   \n",
       "3      148.0       56.0       2       1       2      0         0.0   \n",
       "4      152.0       56.0       4       1       2      0         0.0   \n",
       "\n",
       "   hospitalised_time  nivtpa_id  nivtpa1_fl  ...  nihs_6br_out  nihs_7_out  \\\n",
       "0               16.0          1           0  ...             0           0   \n",
       "1                8.0          0         999  ...             0           1   \n",
       "2                4.0          0         999  ...             0           0   \n",
       "3                5.0          0         999  ...             0           0   \n",
       "4                3.0          1           0  ...             0           0   \n",
       "\n",
       "   nihs_8_out  nihs_9_out  nihs_10_out  nihs_11_out  total_out  SexName   Age  \\\n",
       "0           0           0            0            0          8        0  66.0   \n",
       "1           1           0            1            0          4        0  67.0   \n",
       "2           1           0            0            0          1        0  69.0   \n",
       "3           1           0            0            0          2        0  71.0   \n",
       "4           0           0            0            0          0        0  71.0   \n",
       "\n",
       "   mrs_tx_1  \n",
       "0         4  \n",
       "1         1  \n",
       "2         1  \n",
       "3         0  \n",
       "4         0  \n",
       "\n",
       "[5 rows x 307 columns]"
      ]
     },
     "execution_count": 2,
     "metadata": {},
     "output_type": "execute_result"
    }
   ],
   "source": [
    "csv_path = os.path.join(\"..\", \"..\", \"data\",\"LINKED_DATA\", \"TSR_EHR\", \"TSR_1_CLEANED.csv\")\n",
    "tsr_1 = pd.read_csv(csv_path)\n",
    "tsr_1.head()"
   ]
  },
  {
   "cell_type": "code",
   "execution_count": 3,
   "id": "14e077d6",
   "metadata": {},
   "outputs": [],
   "source": [
    "tsr_1_input = tsr_1.drop([\"mrs_tx_1\"], axis=1)\n",
    "tsr_1_input[tsr_1_input == \"N\"] = 0\n",
    "tsr_1_input[tsr_1_input == \"Y\"] = 1\n",
    "tsr_1_input = tsr_1_input.astype(\"float64\")\n",
    "tsr_1_input = np.array(tsr_1_input.values)"
   ]
  },
  {
   "cell_type": "markdown",
   "id": "9e108841",
   "metadata": {},
   "source": [
    "# 6 classes"
   ]
  },
  {
   "cell_type": "code",
   "execution_count": 4,
   "id": "35764cee",
   "metadata": {},
   "outputs": [],
   "source": [
    "tsr_1_output = tsr_1.mrs_tx_1\n",
    "tsr_1_output = tsr_1_output.astype(\"float64\")\n",
    "tsr_1_output = np.array(tsr_1_output.values)"
   ]
  },
  {
   "cell_type": "markdown",
   "id": "897a6fcc",
   "metadata": {},
   "source": [
    "## SVM"
   ]
  },
  {
   "cell_type": "code",
   "execution_count": 5,
   "id": "13e8103a",
   "metadata": {},
   "outputs": [
    {
     "name": "stdout",
     "output_type": "stream",
     "text": [
      "[0.75819834 0.81292278 0.81497893 0.81372612 0.81603806 0.84767392\n",
      " 0.79382794 0.80927838 0.72774844 0.66216536]\n",
      "Mean of R^2: 0.7856558275219963\n",
      "Std of R^2: 0.0520984455211836\n"
     ]
    }
   ],
   "source": [
    "svr = LinearSVR(epsilon = 0, dual=False, loss = \"squared_epsilon_insensitive\", C = 1, random_state = 19)\n",
    "svr_scores = cross_val_score(svr,tsr_1_input,tsr_1_output,cv = 10, scoring='r2')\n",
    "print(svr_scores)\n",
    "print(\"Mean of R^2:\", svr_scores.mean())\n",
    "print(\"Std of R^2:\", svr_scores.std())"
   ]
  },
  {
   "cell_type": "code",
   "execution_count": 6,
   "id": "89e95290",
   "metadata": {},
   "outputs": [
    {
     "name": "stdout",
     "output_type": "stream",
     "text": [
      "Accuracy of RF: [0.5930864197530864, 0.5851851851851851, 0.5960493827160493, 0.614320987654321, 0.5930864197530864, 0.6049382716049383, 0.5975308641975309, 0.605925925925926, 0.5965432098765432, 0.5911111111111111]\n",
      "Mean of Accuracy of RF: 0.5977777777777777\n"
     ]
    }
   ],
   "source": [
    "acc_svr = []\n",
    "for i in range(10):\n",
    "    X_train, X_test, y_train, y_test = train_test_split(tsr_1_input, tsr_1_output, test_size=0.3, random_state=i)\n",
    "    svr.fit(X_train,y_train)\n",
    "    svr_predict = svr.predict(X_test)\n",
    "    #print(svr_predict)\n",
    "    svr_predict = np.round(svr_predict)\n",
    "    #print(svr_predict)\n",
    "    accuracy = (y_test == svr_predict).sum() / len(svr_predict)\n",
    "    acc_svr.append(accuracy)\n",
    "\n",
    "print(\"Accuracy of RF:\", acc_svr)\n",
    "print(\"Mean of Accuracy of RF:\", sum(acc_svr)/10)"
   ]
  },
  {
   "cell_type": "raw",
   "id": "2b39a3eb",
   "metadata": {},
   "source": [
    "svr.fit(tsr_1_input,tsr_1_output)\n",
    "svr_predict =svr.predict(tsr_1_input)\n",
    "print(svr_predict)\n",
    "svr_predict = np.round(svr_predict)\n",
    "print(svr_predict)\n",
    "print(\"Accuracy of RF:\", (tsr_1_output == svr_predict).sum() / len(svr_predict))"
   ]
  },
  {
   "cell_type": "code",
   "execution_count": 7,
   "id": "ca0a4aab",
   "metadata": {},
   "outputs": [
    {
     "data": {
      "text/plain": [
       "array([[  23,  452,   69,   13,    0,    1,    0],\n",
       "       [   2,  963,  254,   40,    8,    2,    0],\n",
       "       [   1,  318,  472,  128,   12,    1,    0],\n",
       "       [   0,   24,  239,  494,   94,    4,    0],\n",
       "       [   0,   13,   44,  347,  861,  235,    0],\n",
       "       [   0,    8,   22,   35,  361, 1177,   32],\n",
       "       [   0,    0,    0,    0,    0,    0,    0]], dtype=int64)"
      ]
     },
     "execution_count": 7,
     "metadata": {},
     "output_type": "execute_result"
    }
   ],
   "source": [
    "svr_pred = cross_val_predict(svr,tsr_1_input,tsr_1_output,cv = 10)\n",
    "svr_pred = np.round(svr_pred)\n",
    "confusion_matrix(tsr_1_output, svr_pred)"
   ]
  },
  {
   "cell_type": "code",
   "execution_count": 8,
   "id": "01afcc1f",
   "metadata": {},
   "outputs": [
    {
     "data": {
      "text/plain": [
       "array([[  23,  452,   69,   13,    0,    1],\n",
       "       [   2,  963,  254,   40,    8,    2],\n",
       "       [   1,  318,  472,  128,   12,    1],\n",
       "       [   0,   24,  239,  494,   94,    4],\n",
       "       [   0,   13,   44,  347,  861,  235],\n",
       "       [   0,    8,   22,   35,  361, 1209]], dtype=int64)"
      ]
     },
     "execution_count": 8,
     "metadata": {},
     "output_type": "execute_result"
    }
   ],
   "source": [
    "svr_pred[svr_pred == -1] = 0\n",
    "svr_pred[svr_pred == 6] = 5\n",
    "confusion_matrix(tsr_1_output, svr_pred)"
   ]
  },
  {
   "cell_type": "markdown",
   "id": "c5a9f998",
   "metadata": {},
   "source": [
    "## RF"
   ]
  },
  {
   "cell_type": "code",
   "execution_count": 9,
   "id": "5b4f5fac",
   "metadata": {},
   "outputs": [
    {
     "name": "stdout",
     "output_type": "stream",
     "text": [
      "[0.80253601 0.85442144 0.84661287 0.83234409 0.854438   0.87123276\n",
      " 0.82762541 0.88558175 0.78763589 0.80643935]\n",
      "Mean of R^2: 0.8368867559211093\n",
      "Std of R^2: 0.029832924726383228\n"
     ]
    }
   ],
   "source": [
    "rfr = RandomForestRegressor(criterion = \"mse\", n_estimators = 15, bootstrap=True, random_state = 19,max_features = 0.8)\n",
    "rfr_scores = cross_val_score(rfr,tsr_1_input,tsr_1_output,cv = 10, scoring='r2')\n",
    "print(rfr_scores)\n",
    "print(\"Mean of R^2:\", rfr_scores.mean())\n",
    "print(\"Std of R^2:\", rfr_scores.std())"
   ]
  },
  {
   "cell_type": "code",
   "execution_count": 10,
   "id": "deb4505d",
   "metadata": {},
   "outputs": [
    {
     "name": "stdout",
     "output_type": "stream",
     "text": [
      "Accuracy of RF: [0.7175308641975309, 0.7219753086419753, 0.7096296296296296, 0.7185185185185186, 0.7288888888888889, 0.7234567901234568, 0.7190123456790124, 0.7234567901234568, 0.7239506172839506, 0.731358024691358]\n",
      "Mean of Accuracy of RF: 0.7217777777777779\n"
     ]
    }
   ],
   "source": [
    "acc_rfr = []\n",
    "for i in range(10):\n",
    "    X_train, X_test, y_train, y_test = train_test_split(tsr_1_input, tsr_1_output, test_size=0.3, random_state=i)\n",
    "    rfr.fit(X_train,y_train)\n",
    "    rfr_predict = rfr.predict(X_test)\n",
    "    #print(rfr_predict)\n",
    "    rfr_predict = np.round(rfr_predict)\n",
    "    #print(rfr_predict)\n",
    "    accuracy = (y_test == rfr_predict).sum() / len(rfr_predict)\n",
    "    acc_rfr.append(accuracy)\n",
    "\n",
    "print(\"Accuracy of RF:\", acc_rfr)\n",
    "print(\"Mean of Accuracy of RF:\", sum(acc_rfr)/10)"
   ]
  },
  {
   "cell_type": "raw",
   "id": "2fe2d369",
   "metadata": {},
   "source": [
    "rfr.fit(tsr_1_input,tsr_1_output)\n",
    "rfr_predict =rfr.predict(tsr_1_input)\n",
    "print(rfr_predict)\n",
    "rfr_predict = np.round(rfr_predict)\n",
    "print(rfr_predict)\n",
    "print(\"Accuracy of RF:\", (tsr_1_output == rfr_predict).sum() / len(rfr_predict))"
   ]
  },
  {
   "cell_type": "code",
   "execution_count": 11,
   "id": "9e709993",
   "metadata": {},
   "outputs": [
    {
     "data": {
      "text/plain": [
       "array([[ 340,  172,   29,   16,    0,    1],\n",
       "       [  74,  881,  258,   43,   11,    2],\n",
       "       [   3,  117,  648,  146,   18,    0],\n",
       "       [   0,   16,  166,  515,  151,    7],\n",
       "       [   0,   14,   29,  222, 1105,  130],\n",
       "       [   0,    4,   13,   31,  291, 1296]], dtype=int64)"
      ]
     },
     "execution_count": 11,
     "metadata": {},
     "output_type": "execute_result"
    }
   ],
   "source": [
    "rfr_pred = cross_val_predict(rfr,tsr_1_input,tsr_1_output,cv = 10)\n",
    "rfr_pred = np.round(rfr_pred)\n",
    "confusion_matrix(tsr_1_output, rfr_pred)"
   ]
  },
  {
   "cell_type": "markdown",
   "id": "e50f8dc9",
   "metadata": {},
   "source": [
    "## XGBoost"
   ]
  },
  {
   "cell_type": "code",
   "execution_count": 12,
   "id": "7c56aded",
   "metadata": {},
   "outputs": [
    {
     "name": "stdout",
     "output_type": "stream",
     "text": [
      "[0.81509538 0.85465433 0.85629336 0.84323481 0.85948638 0.87759867\n",
      " 0.82663422 0.88904219 0.79003615 0.8080127 ]\n",
      "Mean of R^2: 0.8420088202986703\n",
      "Std of R^2: 0.029945460047586483\n"
     ]
    }
   ],
   "source": [
    "xgbr = XGBRegressor(n_estimators  = 15, objective=\"reg:squarederror\", random_state = 19) \n",
    "xgbr_scores = cross_val_score(xgbr,tsr_1_input,tsr_1_output,cv = 10, scoring='r2')\n",
    "print(xgbr_scores)\n",
    "print(\"Mean of R^2:\", xgbr_scores.mean())\n",
    "print(\"Std of R^2:\", xgbr_scores.std())"
   ]
  },
  {
   "cell_type": "code",
   "execution_count": 13,
   "id": "73aeee3b",
   "metadata": {},
   "outputs": [
    {
     "name": "stdout",
     "output_type": "stream",
     "text": [
      "Accuracy of RF: [0.7125925925925926, 0.7185185185185186, 0.7234567901234568, 0.7140740740740741, 0.7195061728395061, 0.7269135802469135, 0.7219753086419753, 0.731358024691358, 0.7224691358024692, 0.7229629629629629]\n",
      "Mean of Accuracy of RF: 0.7213827160493826\n"
     ]
    }
   ],
   "source": [
    "acc_xgbr = []\n",
    "for i in range(10):\n",
    "    X_train, X_test, y_train, y_test = train_test_split(tsr_1_input, tsr_1_output, test_size=0.3, random_state=i)\n",
    "    xgbr.fit(X_train,y_train)\n",
    "    xgbr_predict = xgbr.predict(X_test)\n",
    "    #print(xgbr_predict)\n",
    "    xgbr_predict = np.round(xgbr_predict)\n",
    "    #print(xgbr_predict)\n",
    "    accuracy = (y_test == xgbr_predict).sum() / len(xgbr_predict)\n",
    "    acc_xgbr.append(accuracy)\n",
    "\n",
    "print(\"Accuracy of RF:\", acc_xgbr)\n",
    "print(\"Mean of Accuracy of RF:\", sum(acc_xgbr)/10)"
   ]
  },
  {
   "cell_type": "raw",
   "id": "c9b26b2a",
   "metadata": {},
   "source": [
    "xgbr.fit(tsr_1_input,tsr_1_output)\n",
    "xgbr_predict =xgbr.predict(tsr_1_input)\n",
    "print(xgbr_predict)\n",
    "xgbr_predict = np.round(xgbr_predict)\n",
    "print(xgbr_predict)\n",
    "print(\"Accuracy of RF:\", (tsr_1_output == xgbr_predict).sum() / len(xgbr_predict))"
   ]
  },
  {
   "cell_type": "code",
   "execution_count": 14,
   "id": "5c8c728f",
   "metadata": {},
   "outputs": [
    {
     "data": {
      "text/plain": [
       "array([[ 350,  159,   34,   14,    0,    1],\n",
       "       [  72,  881,  259,   46,    9,    2],\n",
       "       [   3,   92,  682,  139,   16,    0],\n",
       "       [   0,   14,  167,  518,  149,    7],\n",
       "       [   0,   12,   36,  183, 1135,  134],\n",
       "       [   0,    4,   15,   29,  290, 1297]], dtype=int64)"
      ]
     },
     "execution_count": 14,
     "metadata": {},
     "output_type": "execute_result"
    }
   ],
   "source": [
    "xgbr_pred = cross_val_predict(xgbr,tsr_1_input,tsr_1_output,cv = 10)\n",
    "xgbr_pred = np.round(xgbr_pred)\n",
    "confusion_matrix(tsr_1_output, xgbr_pred)"
   ]
  },
  {
   "cell_type": "markdown",
   "id": "00750ad9",
   "metadata": {},
   "source": [
    "# 2 classes"
   ]
  },
  {
   "cell_type": "code",
   "execution_count": 15,
   "id": "39e5bc0b",
   "metadata": {},
   "outputs": [],
   "source": [
    "tsr_1_output[(tsr_1_output == 0)|(tsr_1_output == 1)|(tsr_1_output == 2)] = 0\n",
    "tsr_1_output[(tsr_1_output == 3)|(tsr_1_output == 4)|(tsr_1_output == 5)] = 1"
   ]
  },
  {
   "cell_type": "markdown",
   "id": "77001f0b",
   "metadata": {},
   "source": [
    "## SVM"
   ]
  },
  {
   "cell_type": "code",
   "execution_count": 16,
   "id": "922fc9b2",
   "metadata": {},
   "outputs": [
    {
     "name": "stdout",
     "output_type": "stream",
     "text": [
      "[0.65463265 0.67281146 0.72629149 0.72803586 0.72637818 0.71985612\n",
      " 0.69138906 0.72825933 0.45705818 0.55765237]\n",
      "Mean of R^2: 0.6662364692825355\n",
      "Std of R^2: 0.086093723164523\n"
     ]
    }
   ],
   "source": [
    "svr2 = LinearSVR(epsilon = 0, dual=False, loss = \"squared_epsilon_insensitive\", C = 1, random_state = 19)\n",
    "svr_scores2 = cross_val_score(svr2,tsr_1_input,tsr_1_output,cv = 10, scoring='r2')\n",
    "print(svr_scores2)\n",
    "print(\"Mean of R^2:\", svr_scores2.mean())\n",
    "print(\"Std of R^2:\", svr_scores2.std())"
   ]
  },
  {
   "cell_type": "code",
   "execution_count": 17,
   "id": "7d0c744c",
   "metadata": {},
   "outputs": [
    {
     "name": "stdout",
     "output_type": "stream",
     "text": [
      "Accuracy of RF: [0.9091358024691358, 0.9165432098765433, 0.9120987654320988, 0.92, 0.9185185185185185, 0.9234567901234568, 0.9155555555555556, 0.9274074074074075, 0.9165432098765433, 0.9125925925925926]\n",
      "Mean of Accuracy of RF: 0.9171851851851853\n"
     ]
    }
   ],
   "source": [
    "acc_svr2 = []\n",
    "for i in range(10):\n",
    "    X_train, X_test, y_train, y_test = train_test_split(tsr_1_input, tsr_1_output, test_size=0.3, random_state=i)\n",
    "    svr2.fit(X_train,y_train)\n",
    "    svr2_predict = svr2.predict(X_test)\n",
    "    #print(svr2_predict)\n",
    "    svr2_predict = np.round(svr2_predict)\n",
    "    #print(svr2_predict)\n",
    "    accuracy = (y_test == svr2_predict).sum() / len(svr2_predict)\n",
    "    acc_svr2.append(accuracy)\n",
    "\n",
    "print(\"Accuracy of RF:\", acc_svr2)\n",
    "print(\"Mean of Accuracy of RF:\", sum(acc_svr2)/10)"
   ]
  },
  {
   "cell_type": "raw",
   "id": "e2a1a8c0",
   "metadata": {},
   "source": [
    "svr2.fit(tsr_1_input,tsr_1_output)\n",
    "svr_predict2 =svr2.predict(tsr_1_input)\n",
    "print(svr_predict2)\n",
    "svr_predict2 = np.round(svr_predict2)\n",
    "print(svr_predict2)\n",
    "print(\"Accuracy of RF:\", (tsr_1_output == svr_predict2).sum() / len(svr_predict2))"
   ]
  },
  {
   "cell_type": "code",
   "execution_count": 18,
   "id": "3c75ecfa",
   "metadata": {},
   "outputs": [
    {
     "data": {
      "text/plain": [
       "array([[2523,  236],\n",
       "       [ 332, 3658]], dtype=int64)"
      ]
     },
     "execution_count": 18,
     "metadata": {},
     "output_type": "execute_result"
    }
   ],
   "source": [
    "svr_pred2 = cross_val_predict(svr2,tsr_1_input,tsr_1_output,cv = 10)\n",
    "svr_pred2 = np.round(svr_pred2)\n",
    "confusion_matrix(tsr_1_output, svr_pred2)"
   ]
  },
  {
   "cell_type": "markdown",
   "id": "a7baddb7",
   "metadata": {},
   "source": [
    "## RF"
   ]
  },
  {
   "cell_type": "code",
   "execution_count": 19,
   "id": "f9e5f015",
   "metadata": {},
   "outputs": [
    {
     "name": "stdout",
     "output_type": "stream",
     "text": [
      "[0.70414766 0.78598706 0.80979341 0.80851794 0.74737315 0.76380059\n",
      " 0.76552779 0.78078116 0.65483732 0.72780284]\n",
      "Mean of R^2: 0.7548568911288809\n",
      "Std of R^2: 0.04593017505732098\n"
     ]
    }
   ],
   "source": [
    "rfr2 = RandomForestRegressor(criterion = \"mse\", n_estimators = 15, bootstrap=True, random_state = 19,max_features = 0.8)\n",
    "rfr_scores2 = cross_val_score(rfr2,tsr_1_input,tsr_1_output,cv = 10, scoring='r2')\n",
    "print(rfr_scores2)\n",
    "print(\"Mean of R^2:\", rfr_scores2.mean())\n",
    "print(\"Std of R^2:\", rfr_scores2.std())"
   ]
  },
  {
   "cell_type": "code",
   "execution_count": 20,
   "id": "c93da796",
   "metadata": {},
   "outputs": [
    {
     "name": "stdout",
     "output_type": "stream",
     "text": [
      "Accuracy of RF: [0.9323456790123457, 0.9362962962962963, 0.928395061728395, 0.9392592592592592, 0.9377777777777778, 0.9358024691358025, 0.937283950617284, 0.9362962962962963, 0.9328395061728395, 0.934320987654321]\n",
      "Mean of Accuracy of RF: 0.9350617283950617\n"
     ]
    }
   ],
   "source": [
    "acc_rfr2 = []\n",
    "for i in range(10):\n",
    "    X_train, X_test, y_train, y_test = train_test_split(tsr_1_input, tsr_1_output, test_size=0.3, random_state=i)\n",
    "    rfr2.fit(X_train,y_train)\n",
    "    rfr2_predict = rfr2.predict(X_test)\n",
    "    #print(rfr2_predict)\n",
    "    rfr2_predict = np.round(rfr2_predict)\n",
    "    #print(rfr2_predict)\n",
    "    accuracy = (y_test == rfr2_predict).sum() / len(rfr2_predict)\n",
    "    acc_rfr2.append(accuracy)\n",
    "\n",
    "print(\"Accuracy of RF:\", acc_rfr2)\n",
    "print(\"Mean of Accuracy of RF:\", sum(acc_rfr2)/10)"
   ]
  },
  {
   "cell_type": "raw",
   "id": "648c49c4",
   "metadata": {},
   "source": [
    "rfr2.fit(tsr_1_input,tsr_1_output)\n",
    "rfr_predict2 =rfr2.predict(tsr_1_input)\n",
    "print(rfr_predict2)\n",
    "rfr_predict2 = np.round(rfr_predict2)\n",
    "print(rfr_predict2)\n",
    "print(\"Accuracy of RF:\", (tsr_1_output == rfr_predict2).sum() / len(rfr_predict2))"
   ]
  },
  {
   "cell_type": "code",
   "execution_count": 21,
   "id": "59335afb",
   "metadata": {},
   "outputs": [
    {
     "data": {
      "text/plain": [
       "array([[2495,  264],\n",
       "       [ 171, 3819]], dtype=int64)"
      ]
     },
     "execution_count": 21,
     "metadata": {},
     "output_type": "execute_result"
    }
   ],
   "source": [
    "rf_pred2 = cross_val_predict(rfr2,tsr_1_input,tsr_1_output,cv = 10)\n",
    "rf_pred2 = np.round(rf_pred2)\n",
    "confusion_matrix(tsr_1_output, rf_pred2)"
   ]
  },
  {
   "cell_type": "markdown",
   "id": "c0d1d828",
   "metadata": {},
   "source": [
    "## XGBoost"
   ]
  },
  {
   "cell_type": "code",
   "execution_count": 22,
   "id": "eeb10ecd",
   "metadata": {},
   "outputs": [
    {
     "name": "stdout",
     "output_type": "stream",
     "text": [
      "[0.72319331 0.79790321 0.80933179 0.80348947 0.7580319  0.78636109\n",
      " 0.76204846 0.81063156 0.68175723 0.76111351]\n",
      "Mean of R^2: 0.769386151505116\n",
      "Std of R^2: 0.03952853476472426\n"
     ]
    }
   ],
   "source": [
    "xgbr2 = XGBRegressor(n_estimators  = 15, objective=\"reg:squarederror\", random_state = 19) \n",
    "xgbr_scores2 = cross_val_score(xgbr2,tsr_1_input,tsr_1_output,cv = 10, scoring='r2')\n",
    "print(xgbr_scores2)\n",
    "print(\"Mean of R^2:\", xgbr_scores2.mean())\n",
    "print(\"Std of R^2:\", xgbr_scores2.std())"
   ]
  },
  {
   "cell_type": "code",
   "execution_count": 23,
   "id": "b07d17d5",
   "metadata": {},
   "outputs": [
    {
     "name": "stdout",
     "output_type": "stream",
     "text": [
      "Accuracy of RF: [0.9387654320987654, 0.9338271604938272, 0.9293827160493827, 0.9412345679012346, 0.9402469135802469, 0.9353086419753086, 0.9323456790123457, 0.9382716049382716, 0.928395061728395, 0.9358024691358025]\n",
      "Mean of Accuracy of RF: 0.935358024691358\n"
     ]
    }
   ],
   "source": [
    "acc_xgbr2 = []\n",
    "for i in range(10):\n",
    "    X_train, X_test, y_train, y_test = train_test_split(tsr_1_input, tsr_1_output, test_size=0.3, random_state=i)\n",
    "    xgbr2.fit(X_train,y_train)\n",
    "    xgbr2_predict = xgbr2.predict(X_test)\n",
    "    #print(xgbr2_predict)\n",
    "    xgbr2_predict = np.round(xgbr2_predict)\n",
    "    #print(xgbr2_predict)\n",
    "    accuracy = (y_test == xgbr2_predict).sum() / len(xgbr2_predict)\n",
    "    acc_xgbr2.append(accuracy)\n",
    "\n",
    "print(\"Accuracy of RF:\", acc_xgbr2)\n",
    "print(\"Mean of Accuracy of RF:\", sum(acc_xgbr2)/10)"
   ]
  },
  {
   "cell_type": "raw",
   "id": "4eb2390e",
   "metadata": {},
   "source": [
    "xgbr2.fit(tsr_1_input,tsr_1_output)\n",
    "xgbr_predict2 =xgbr2.predict(tsr_1_input)\n",
    "print(xgbr_predict2)\n",
    "xgbr_predict2 = np.round(xgbr_predict2)\n",
    "print(xgbr_predict2)\n",
    "print(\"Accuracy of RF:\", (tsr_1_output == xgbr_predict2).sum() / len(xgbr_predict2))"
   ]
  },
  {
   "cell_type": "code",
   "execution_count": 24,
   "id": "06759994",
   "metadata": {},
   "outputs": [
    {
     "data": {
      "text/plain": [
       "array([[2501,  258],\n",
       "       [ 161, 3829]], dtype=int64)"
      ]
     },
     "execution_count": 24,
     "metadata": {},
     "output_type": "execute_result"
    }
   ],
   "source": [
    "xgbr_pred2 = cross_val_predict(xgbr2,tsr_1_input,tsr_1_output,cv = 10)\n",
    "xgbr_pred2 = np.round(xgbr_pred2)\n",
    "confusion_matrix(tsr_1_output, xgbr_pred2)"
   ]
  },
  {
   "cell_type": "markdown",
   "id": "06f91a74",
   "metadata": {},
   "source": [
    "# Summary"
   ]
  },
  {
   "cell_type": "markdown",
   "id": "b12b47bd",
   "metadata": {},
   "source": [
    "## Mean & Std"
   ]
  },
  {
   "cell_type": "code",
   "execution_count": 25,
   "id": "10081ee5",
   "metadata": {},
   "outputs": [],
   "source": [
    "svr_mean = np.array([svr_scores.mean(), svr_scores.std(), svr_scores[0], svr_scores[1], svr_scores[2], svr_scores[3],\n",
    "                     svr_scores[4], svr_scores[5], svr_scores[6], svr_scores[7], svr_scores[8], svr_scores[9]])\n",
    "rfr_mean = np.array([rfr_scores.mean(), rfr_scores.std(), rfr_scores[0], rfr_scores[1], rfr_scores[2], rfr_scores[3],rfr_scores[4], \n",
    "                    rfr_scores[5], rfr_scores[6], rfr_scores[7], rfr_scores[8], rfr_scores[9]])\n",
    "xgbr_mean = np.array([xgbr_scores.mean(), xgbr_scores.std(), xgbr_scores[0], xgbr_scores[1], xgbr_scores[2], xgbr_scores[3],\n",
    "                     xgbr_scores[4], xgbr_scores[5], xgbr_scores[6], xgbr_scores[7], xgbr_scores[8], xgbr_scores[9]])\n",
    "svr_mean2 = np.array([svr_scores2.mean(), svr_scores2.std(), svr_scores2[0], svr_scores2[1], svr_scores2[2], svr_scores2[3],\n",
    "                     svr_scores2[4], svr_scores2[5], svr_scores2[6], svr_scores2[7], svr_scores2[8], svr_scores2[9]])\n",
    "rfr_mean2 = np.array([rfr_scores2.mean(), rfr_scores2.std(), rfr_scores2[0], rfr_scores2[1], rfr_scores2[2], rfr_scores2[3],rfr_scores2[4], \n",
    "                    rfr_scores2[5], rfr_scores2[6], rfr_scores2[7], rfr_scores2[8], rfr_scores2[9]])\n",
    "xgbr_mean2 = np.array([xgbr_scores2.mean(), xgbr_scores2.std(), xgbr_scores2[0], xgbr_scores2[1], xgbr_scores2[2], xgbr_scores2[3],\n",
    "                     xgbr_scores2[4], xgbr_scores2[5], xgbr_scores2[6], xgbr_scores2[7], xgbr_scores2[8], xgbr_scores2[9]])"
   ]
  },
  {
   "cell_type": "code",
   "execution_count": 26,
   "id": "1ff321fe",
   "metadata": {},
   "outputs": [],
   "source": [
    "tsr_1_mean = pd.DataFrame([svr_mean, rfr_mean, xgbr_mean, svr_mean2, rfr_mean2, xgbr_mean2]).T\n",
    "tsr_1_mean.index = [\"Mean\", \"Std\", \"R^2_1\", \"R^2_2\", \"R^2_3\", \"R^2_4\", \"R^2_5\", \"R^2_6\", \"R^2_7\", \"R^2_8\", \"R^2_9\", \"R^2_10\"]\n",
    "tsr_1_mean.columns = [\"svr\", 'rfr', 'xgbr', 'svr2', 'rfr2', 'xgbr2']"
   ]
  },
  {
   "cell_type": "code",
   "execution_count": 27,
   "id": "d858688a",
   "metadata": {},
   "outputs": [],
   "source": [
    "csv_save = os.path.join(\".\", \"tsr_1_mean_regression.csv\")\n",
    "tsr_1_mean.to_csv(csv_save, index = True)"
   ]
  },
  {
   "cell_type": "code",
   "execution_count": null,
   "id": "55879a5c",
   "metadata": {},
   "outputs": [],
   "source": []
  }
 ],
 "metadata": {
  "kernelspec": {
   "display_name": "Python 3",
   "language": "python",
   "name": "python3"
  },
  "language_info": {
   "codemirror_mode": {
    "name": "ipython",
    "version": 3
   },
   "file_extension": ".py",
   "mimetype": "text/x-python",
   "name": "python",
   "nbconvert_exporter": "python",
   "pygments_lexer": "ipython3",
   "version": "3.8.8"
  }
 },
 "nbformat": 4,
 "nbformat_minor": 5
}
