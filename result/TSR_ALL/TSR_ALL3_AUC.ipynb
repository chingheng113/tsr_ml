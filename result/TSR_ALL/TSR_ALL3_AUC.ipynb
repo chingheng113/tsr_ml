{
 "cells": [
  {
   "cell_type": "code",
   "execution_count": 1,
   "metadata": {},
   "outputs": [],
   "source": [
    "import warnings\n",
    "warnings.filterwarnings(\"ignore\")\n",
    "import pandas as pd\n",
    "import os\n",
    "import numpy as np\n",
    "import joblib\n",
    "from sklearn.metrics import auc, roc_curve\n",
    "from sklearn.ensemble import ExtraTreesClassifier\n",
    "from xgboost import XGBClassifier\n",
    "from sklearn.calibration import CalibratedClassifierCV\n",
    "import matplotlib.pyplot as plt"
   ]
  },
  {
   "cell_type": "markdown",
   "metadata": {},
   "source": [
    "# Import datasets"
   ]
  },
  {
   "cell_type": "code",
   "execution_count": 2,
   "metadata": {},
   "outputs": [],
   "source": [
    "csv_path = os.path.join(\"..\", \"..\", \"data\", \"LINKED_DATA\", \"TSR_ALL\", \"TSR_ALL3\", \"TSR_ALL3G_X_TRAIN.csv\")\n",
    "G_X_train = pd.read_csv(csv_path)\n",
    "\n",
    "csv_path = os.path.join(\"..\", \"..\", \"data\", \"LINKED_DATA\", \"TSR_ALL\", \"TSR_ALL3\", \"TSR_ALL3G_y_TRAIN.csv\")\n",
    "G_y_train = pd.read_csv(csv_path)\n",
    "G_y_train = np.ravel(G_y_train)\n",
    "\n",
    "csv_path = os.path.join(\"..\", \"..\", \"data\", \"LINKED_DATA\", \"TSR_ALL\", \"TSR_ALL3\", \"TSR_ALL3G_X_TEST.csv\")\n",
    "G_X_test = pd.read_csv(csv_path)\n",
    "\n",
    "csv_path = os.path.join(\"..\", \"..\", \"data\", \"LINKED_DATA\", \"TSR_ALL\", \"TSR_ALL3\", \"TSR_ALL3G_y_TEST.csv\")\n",
    "G_y_test = pd.read_csv(csv_path)\n",
    "G_y_test = np.ravel(G_y_test)"
   ]
  },
  {
   "cell_type": "code",
   "execution_count": 3,
   "metadata": {},
   "outputs": [],
   "source": [
    "csv_path = os.path.join(\"..\", \"..\", \"data\", \"LINKED_DATA\", \"TSR_ALL\", \"TSR_ALL3\", \"TSR_ALL3B_X_TRAIN.csv\")\n",
    "B_X_train = pd.read_csv(csv_path)\n",
    "\n",
    "csv_path = os.path.join(\"..\", \"..\", \"data\", \"LINKED_DATA\", \"TSR_ALL\", \"TSR_ALL3\", \"TSR_ALL3B_y_TRAIN.csv\")\n",
    "B_y_train = pd.read_csv(csv_path)\n",
    "B_y_train = np.ravel(B_y_train)\n",
    "\n",
    "csv_path = os.path.join(\"..\", \"..\", \"data\", \"LINKED_DATA\", \"TSR_ALL\", \"TSR_ALL3\", \"TSR_ALL3B_X_TEST.csv\")\n",
    "B_X_test = pd.read_csv(csv_path)\n",
    "\n",
    "csv_path = os.path.join(\"..\", \"..\", \"data\", \"LINKED_DATA\", \"TSR_ALL\", \"TSR_ALL3\", \"TSR_ALL3B_y_TEST.csv\")\n",
    "B_y_test = pd.read_csv(csv_path)\n",
    "B_y_test = np.ravel(B_y_test)"
   ]
  },
  {
   "cell_type": "markdown",
   "metadata": {},
   "source": [
    "# GOOD when Discharge"
   ]
  },
  {
   "cell_type": "markdown",
   "metadata": {},
   "source": [
    "## Algorithms"
   ]
  },
  {
   "cell_type": "markdown",
   "metadata": {},
   "source": [
    "### Extra trees"
   ]
  },
  {
   "cell_type": "code",
   "execution_count": 4,
   "metadata": {},
   "outputs": [],
   "source": [
    "pkl_path = os.path.join(\"..\", \"..\", \"model\", \"model_pickle\", \"TSR_ALL3G_ET_BASED.pkl\")\n",
    "G_ET_BASED = joblib.load(pkl_path)\n",
    "\n",
    "pkl_path = os.path.join(\"..\", \"..\", \"model\", \"model_pickle\", \"TSR_ALL3G_ET_TUNED.pkl\")\n",
    "G_ET_TUNED = joblib.load(pkl_path)\n",
    "\n",
    "pkl_path = os.path.join(\"..\", \"..\", \"model\", \"model_pickle\", \"TSR_ALL3G_ET_CALIBRATED.pkl\")\n",
    "G_ET_CALIBRATED = joblib.load(pkl_path)"
   ]
  },
  {
   "cell_type": "code",
   "execution_count": 5,
   "metadata": {},
   "outputs": [
    {
     "name": "stdout",
     "output_type": "stream",
     "text": [
      "AUC of testing set: 0.6894865103022585\n",
      "--> Tuned Parameters Best Score:  0.7328377408783334\n",
      "--> Best Parameters: \n",
      " {'extratreesclassifier__n_estimators': 150, 'extratreesclassifier__min_samples_split': 150, 'extratreesclassifier__max_samples': 0.8, 'extratreesclassifier__max_features': 0.2, 'extratreesclassifier__max_depth': 150, 'extratreesclassifier__criterion': 'gini', 'extratreesclassifier__class_weight': {0: 24, 1: 1}, 'extratreesclassifier__bootstrap': True}\n",
      "AUC of testing set: 0.7338766595975226\n",
      "AUC of testing set: 0.7359737921671634\n"
     ]
    }
   ],
   "source": [
    "#BASED\n",
    "G_y_test_pred = G_ET_BASED.predict_proba(G_X_test)\n",
    "fpr, tpr, thresholds = roc_curve(G_y_test, G_y_test_pred[:, 1])\n",
    "G_test_auroc = auc(fpr, tpr)\n",
    "print('AUC of testing set:', G_test_auroc)\n",
    "\n",
    "#TUNED\n",
    "print('--> Tuned Parameters Best Score: ', G_ET_TUNED.best_score_)\n",
    "print('--> Best Parameters: \\n', G_ET_TUNED.best_params_)\n",
    "\n",
    "G_y_test_pred = G_ET_TUNED.predict_proba(G_X_test)\n",
    "fpr, tpr, thresholds = roc_curve(G_y_test, G_y_test_pred[:, 1])\n",
    "G_test_auroc_tuned = auc(fpr, tpr)\n",
    "print('AUC of testing set:', G_test_auroc_tuned)\n",
    "\n",
    "#CALIBRATED\n",
    "G_y_test_pred = G_ET_CALIBRATED.predict_proba(G_X_test)\n",
    "fpr, tpr, thresholds = roc_curve(G_y_test, G_y_test_pred[:, 1])\n",
    "G_test_auroc_cc = auc(fpr, tpr)\n",
    "print('AUC of testing set:', G_test_auroc_cc)"
   ]
  },
  {
   "cell_type": "markdown",
   "metadata": {},
   "source": [
    "#### Selected Columns"
   ]
  },
  {
   "cell_type": "code",
   "execution_count": 6,
   "metadata": {},
   "outputs": [],
   "source": [
    "etG_fi = G_ET_CALIBRATED.base_estimator._final_estimator.feature_importances_\n",
    "etG_fi_df = pd.DataFrame(etG_fi)\n",
    "etG_fi_df.index = G_X_test.columns\n",
    "etG_fi_df.columns = ([\"Value\"])\n",
    "etG_fi_df = etG_fi_df.reset_index(drop=False)\n",
    "etG_fi_df.columns = ([\"Feature\",\"Value\"])\n",
    "etG_fi_df = etG_fi_df.sort_values([\"Value\"], ascending=False)"
   ]
  },
  {
   "cell_type": "code",
   "execution_count": 7,
   "metadata": {},
   "outputs": [
    {
     "name": "stdout",
     "output_type": "stream",
     "text": [
      "AUC of testing set: 0.5855114870078126\n",
      "AUC of testing set: 0.7192228719838436\n",
      "AUC of testing set: 0.7213119937937694\n",
      "AUC of testing set: 0.658840294964605\n",
      "AUC of testing set: 0.7368979808669328\n",
      "AUC of testing set: 0.7381780159456279\n",
      "AUC of testing set: 0.6782895763151349\n",
      "AUC of testing set: 0.7295677141086343\n",
      "AUC of testing set: 0.7301436455702607\n"
     ]
    }
   ],
   "source": [
    "G_test_auroc_list = []\n",
    "G_test_auroc_tuned_list = []\n",
    "G_test_auroc_cc_list = []\n",
    "\n",
    "for i in 10,20,30:\n",
    "    etG_fi_index = etG_fi_df[0:i].index\n",
    "    \n",
    "    G_X_train_selected = G_X_train.iloc[:, etG_fi_index]\n",
    "    \n",
    "    G_X_test_selected = G_X_test.iloc[:, etG_fi_index]\n",
    "    \n",
    "    # base et_selected\n",
    "    et_selected = ExtraTreesClassifier(random_state=19)\n",
    "    G_ET_BASED_selected = et_selected.fit(G_X_train_selected, G_y_train)\n",
    "    \n",
    "    G_y_test_pred = G_ET_BASED_selected.predict_proba(G_X_test_selected)\n",
    "    fpr, tpr, thresholds = roc_curve(G_y_test, G_y_test_pred[:, 1])\n",
    "    G_test_auroc_selected = auc(fpr, tpr)\n",
    "    G_test_auroc_list.append(G_test_auroc_selected)\n",
    "    print('AUC of testing set:', G_test_auroc_selected)\n",
    "    \n",
    "    # tune et_selected   \n",
    "    et_rscv_selected = G_ET_TUNED.best_estimator_\n",
    "    G_ET_TUNED_selected = et_rscv_selected.fit(G_X_train_selected, G_y_train)\n",
    "\n",
    "    G_y_test_pred = G_ET_TUNED_selected.predict_proba(G_X_test_selected)\n",
    "    fpr, tpr, thresholds = roc_curve(G_y_test, G_y_test_pred[:, 1])\n",
    "    G_test_auroc_selected_tuned = auc(fpr, tpr)\n",
    "    G_test_auroc_tuned_list.append(G_test_auroc_selected_tuned)\n",
    "    print('AUC of testing set:', G_test_auroc_selected_tuned)\n",
    "\n",
    "    # calibrate et_selected \n",
    "    et_cccv_selected = CalibratedClassifierCV(base_estimator=G_ET_TUNED_selected, cv=5)\n",
    "    G_ET_CALIBRATED_selected = et_cccv_selected.fit(G_X_train_selected, G_y_train)\n",
    "\n",
    "    G_y_test_pred = G_ET_CALIBRATED_selected.predict_proba(G_X_test_selected)\n",
    "    fpr, tpr, thresholds = roc_curve(G_y_test, G_y_test_pred[:, 1])\n",
    "    G_test_auroc_selected_cc = auc(fpr, tpr)\n",
    "    G_test_auroc_cc_list.append(G_test_auroc_selected_cc)\n",
    "    print('AUC of testing set:', G_test_auroc_selected_cc)\n",
    "    \n",
    "G_test_auroc_list.append(G_test_auroc)\n",
    "G_test_auroc_tuned_list.append(G_test_auroc_tuned)\n",
    "G_test_auroc_cc_list.append(G_test_auroc_cc)"
   ]
  },
  {
   "cell_type": "code",
   "execution_count": 8,
   "metadata": {},
   "outputs": [
    {
     "data": {
      "image/png": "[encoded data removed]",
      "text/plain": [
       "<Figure size 432x288 with 1 Axes>"
      ]
     },
     "metadata": {
      "needs_background": "light"
     },
     "output_type": "display_data"
    }
   ],
   "source": [
    "x = \"10\",\"20\",\"30\",\"310\"\n",
    "plt.plot(x, G_test_auroc_list, label = \"based\")\n",
    "plt.plot(x, G_test_auroc_tuned_list, label = \"tuned\")\n",
    "plt.plot(x, G_test_auroc_cc_list, label = \"calibrated\")\n",
    "plt.legend()\n",
    "for i in range(len(x)):\n",
    "    plt.annotate(round(G_test_auroc_list[i],3), (x[i], G_test_auroc_list[i]))\n",
    "    plt.annotate(round(G_test_auroc_tuned_list[i],3), (x[i], G_test_auroc_tuned_list[i]))\n",
    "    plt.annotate(round(G_test_auroc_cc_list[i],3), (x[i], G_test_auroc_cc_list[i]))\n",
    "plt.title('TSR_ALL3_ET_G', fontsize=15)\n",
    "#plt.savefig('PLOT/TSR_ALL3/TSR_ALL3_ET_G.png')\n",
    "plt.show()"
   ]
  },
  {
   "cell_type": "markdown",
   "metadata": {},
   "source": [
    "## XGBClassifier"
   ]
  },
  {
   "cell_type": "code",
   "execution_count": 9,
   "metadata": {},
   "outputs": [],
   "source": [
    "pkl_path = os.path.join(\"..\", \"..\", \"model\", \"model_pickle\", \"TSR_ALL3G_XGBC_BASED.pkl\")\n",
    "G_XGBC_BASED = joblib.load(pkl_path)\n",
    "\n",
    "pkl_path = os.path.join(\"..\", \"..\", \"model\", \"model_pickle\", \"TSR_ALL3G_XGBC_TUNED.pkl\")\n",
    "G_XGBC_TUNED = joblib.load(pkl_path)\n",
    "\n",
    "pkl_path = os.path.join(\"..\", \"..\", \"model\", \"model_pickle\", \"TSR_ALL3G_XGBC_CALIBRATED.pkl\")\n",
    "G_XGBC_CALIBRATED = joblib.load(pkl_path)"
   ]
  },
  {
   "cell_type": "code",
   "execution_count": 10,
   "metadata": {},
   "outputs": [
    {
     "name": "stdout",
     "output_type": "stream",
     "text": [
      "AUC of testing set: 0.6733418781436962\n",
      "--> Tuned Parameters Best Score:  0.7318374052322674\n",
      "--> Best Parameters: \n",
      " {'xgbclassifier__subsample': 0.5, 'xgbclassifier__scale_pos_weight': 0.04, 'xgbclassifier__reg_lambda': 0.1, 'xgbclassifier__reg_alpha': 0.1, 'xgbclassifier__n_estimators': 150, 'xgbclassifier__max_depth': 75, 'xgbclassifier__learning_rate': 0.01, 'xgbclassifier__gamma': 1, 'xgbclassifier__colsample_bytree': 0.2}\n",
      "AUC of testing set: 0.7371956438331907\n",
      "AUC of testing set: 0.7456735573254181\n"
     ]
    }
   ],
   "source": [
    "#BASED\n",
    "G_y_test_pred = G_XGBC_BASED.predict_proba(G_X_test)\n",
    "fpr, tpr, thresholds = roc_curve(G_y_test, G_y_test_pred[:, 1])\n",
    "G_test_auroc = auc(fpr, tpr)\n",
    "print('AUC of testing set:', G_test_auroc)\n",
    "\n",
    "#TUNED\n",
    "print('--> Tuned Parameters Best Score: ', G_XGBC_TUNED.best_score_)\n",
    "print('--> Best Parameters: \\n', G_XGBC_TUNED.best_params_)\n",
    "\n",
    "G_y_test_pred = G_XGBC_TUNED.predict_proba(G_X_test)\n",
    "fpr, tpr, thresholds = roc_curve(G_y_test, G_y_test_pred[:, 1])\n",
    "G_test_auroc_tuned = auc(fpr, tpr)\n",
    "print('AUC of testing set:', G_test_auroc_tuned)\n",
    "\n",
    "#CALIBRATED\n",
    "G_y_test_pred = G_XGBC_CALIBRATED.predict_proba(G_X_test)\n",
    "fpr, tpr, thresholds = roc_curve(G_y_test, G_y_test_pred[:, 1])\n",
    "G_test_auroc_cc = auc(fpr, tpr)\n",
    "print('AUC of testing set:', G_test_auroc_cc)"
   ]
  },
  {
   "cell_type": "markdown",
   "metadata": {},
   "source": [
    "### Selected Columns"
   ]
  },
  {
   "cell_type": "code",
   "execution_count": 11,
   "metadata": {},
   "outputs": [],
   "source": [
    "xgbcG_fi = G_XGBC_CALIBRATED.base_estimator._final_estimator.feature_importances_\n",
    "xgbcG_fi_df = pd.DataFrame(xgbcG_fi)\n",
    "xgbcG_fi_df.index = G_X_test.columns\n",
    "xgbcG_fi_df.columns = ([\"Value\"])\n",
    "xgbcG_fi_df = xgbcG_fi_df.reset_index(drop=False)\n",
    "xgbcG_fi_df.columns = ([\"Feature\",\"Value\"])\n",
    "xgbcG_fi_df = xgbcG_fi_df.sort_values([\"Value\"], ascending=False)"
   ]
  },
  {
   "cell_type": "code",
   "execution_count": 12,
   "metadata": {},
   "outputs": [
    {
     "name": "stdout",
     "output_type": "stream",
     "text": [
      "AUC of testing set: 0.684103279773675\n",
      "AUC of testing set: 0.7141254990914112\n",
      "AUC of testing set: 0.717155252739469\n",
      "AUC of testing set: 0.6685371087903331\n",
      "AUC of testing set: 0.7208018348855938\n",
      "AUC of testing set: 0.7218626281194531\n",
      "AUC of testing set: 0.6760162070317606\n",
      "AUC of testing set: 0.7257297169672107\n",
      "AUC of testing set: 0.7286068445617482\n"
     ]
    }
   ],
   "source": [
    "G_test_auroc_list = []\n",
    "G_test_auroc_tuned_list = []\n",
    "G_test_auroc_cc_list = []\n",
    "\n",
    "for i in 10,20,30:\n",
    "    xgbcG_fi_index = xgbcG_fi_df[0:i].index\n",
    "    \n",
    "    G_X_train_selected = G_X_train.iloc[:, xgbcG_fi_index]\n",
    "    \n",
    "    G_X_test_selected = G_X_test.iloc[:, xgbcG_fi_index]\n",
    "    \n",
    "    # base xgbc_selected\n",
    "    xgbc_selected = XGBClassifier(booster = \"gbtree\", random_state=19, use_label_encoder=False, eval_metric = \"auc\", tree_method = \"hist\", n_jobs=-1)\n",
    "    G_XGBC_BASED_selected = xgbc_selected.fit(G_X_train_selected, G_y_train)\n",
    "    \n",
    "    G_y_test_pred = G_XGBC_BASED_selected.predict_proba(G_X_test_selected)\n",
    "    fpr, tpr, thresholds = roc_curve(G_y_test, G_y_test_pred[:, 1])\n",
    "    G_test_auroc_selected = auc(fpr, tpr)\n",
    "    G_test_auroc_list.append(G_test_auroc_selected)\n",
    "    print('AUC of testing set:', G_test_auroc_selected)\n",
    "\n",
    "    # tune xgbc_selected\n",
    "    xgbcG_rscv_selected = G_XGBC_TUNED.best_estimator_\n",
    "    G_XGBC_TUNED_selected = xgbcG_rscv_selected.fit(G_X_train_selected, G_y_train)\n",
    "\n",
    "    G_y_test_pred = G_XGBC_TUNED_selected.predict_proba(G_X_test_selected)\n",
    "    fpr, tpr, thresholds = roc_curve(G_y_test, G_y_test_pred[:, 1])\n",
    "    G_test_auroc_selected_tuned = auc(fpr, tpr)\n",
    "    G_test_auroc_tuned_list.append(G_test_auroc_selected_tuned)\n",
    "    print('AUC of testing set:', G_test_auroc_selected_tuned)\n",
    "\n",
    "    # calibrate xgbc_selected\n",
    "    xgbcG_cccv_selected = CalibratedClassifierCV(base_estimator=G_XGBC_TUNED_selected, cv=5)\n",
    "    G_XGBC_CALIBRATED_selected = xgbcG_cccv_selected.fit(G_X_train_selected, G_y_train)\n",
    "\n",
    "    G_y_test_pred = G_XGBC_CALIBRATED_selected.predict_proba(G_X_test_selected)\n",
    "    fpr, tpr, thresholds = roc_curve(G_y_test, G_y_test_pred[:, 1])\n",
    "    G_test_auroc_selected_cc = auc(fpr, tpr)\n",
    "    G_test_auroc_cc_list.append(G_test_auroc_selected_cc)\n",
    "    print('AUC of testing set:', G_test_auroc_selected_cc)\n",
    "    \n",
    "G_test_auroc_list.append(G_test_auroc)\n",
    "G_test_auroc_tuned_list.append(G_test_auroc_tuned)\n",
    "G_test_auroc_cc_list.append(G_test_auroc_cc)"
   ]
  },
  {
   "cell_type": "code",
   "execution_count": 13,
   "metadata": {},
   "outputs": [
    {
     "data": {
      "image/png": "[encoded data removed]",
      "text/plain": [
       "<Figure size 432x288 with 1 Axes>"
      ]
     },
     "metadata": {
      "needs_background": "light"
     },
     "output_type": "display_data"
    }
   ],
   "source": [
    "x = \"10\",\"20\",\"30\",\"310\"\n",
    "plt.plot(x, G_test_auroc_list, label = \"based\")\n",
    "plt.plot(x, G_test_auroc_tuned_list, label = \"tuned\")\n",
    "plt.plot(x, G_test_auroc_cc_list, label = \"calibrated\")\n",
    "plt.legend()\n",
    "for i in range(len(x)):\n",
    "    plt.annotate(round(G_test_auroc_list[i],3), (x[i], G_test_auroc_list[i]))\n",
    "    plt.annotate(round(G_test_auroc_tuned_list[i],3), (x[i], G_test_auroc_tuned_list[i]))\n",
    "    plt.annotate(round(G_test_auroc_cc_list[i],3), (x[i], G_test_auroc_cc_list[i]))\n",
    "plt.title('TSR_ALL3_XGBC_G', fontsize=15)\n",
    "#plt.savefig('PLOT/TSR_ALL3/TSR_ALL3_XGBC_G.png')\n",
    "plt.show()"
   ]
  },
  {
   "cell_type": "markdown",
   "metadata": {},
   "source": [
    "# BAD when Discharge"
   ]
  },
  {
   "cell_type": "markdown",
   "metadata": {},
   "source": [
    "## Algorithms"
   ]
  },
  {
   "cell_type": "markdown",
   "metadata": {},
   "source": [
    "## Extra trees"
   ]
  },
  {
   "cell_type": "code",
   "execution_count": 14,
   "metadata": {},
   "outputs": [],
   "source": [
    "pkl_path = os.path.join(\"..\", \"..\", \"model\", \"model_pickle\", \"TSR_ALL3B_ET_BASED.pkl\")\n",
    "B_ET_BASED = joblib.load(pkl_path)\n",
    "\n",
    "pkl_path = os.path.join(\"..\", \"..\", \"model\", \"model_pickle\", \"TSR_ALL3B_ET_TUNED.pkl\")\n",
    "B_ET_TUNED = joblib.load(pkl_path)\n",
    "\n",
    "pkl_path = os.path.join(\"..\", \"..\", \"model\", \"model_pickle\", \"TSR_ALL3B_ET_CALIBRATED.pkl\")\n",
    "B_ET_CALIBRATED = joblib.load(pkl_path)"
   ]
  },
  {
   "cell_type": "code",
   "execution_count": 15,
   "metadata": {},
   "outputs": [
    {
     "name": "stdout",
     "output_type": "stream",
     "text": [
      "AUC of testing set: 0.8567415706122674\n",
      "--> Tuned Parameters Best Score:  0.8595910093391377\n",
      "--> Best Parameters: \n",
      " {'extratreesclassifier__n_estimators': 150, 'extratreesclassifier__min_samples_split': 25, 'extratreesclassifier__max_samples': 0.8, 'extratreesclassifier__max_features': 0.8, 'extratreesclassifier__max_depth': 75, 'extratreesclassifier__criterion': 'entropy', 'extratreesclassifier__class_weight': 'balanced', 'extratreesclassifier__bootstrap': True}\n",
      "AUC of testing set: 0.8620997509874587\n",
      "AUC of testing set: 0.8631041628713277\n"
     ]
    }
   ],
   "source": [
    "### BASED ET\n",
    "B_y_test_pred = B_ET_BASED.predict_proba(B_X_test)\n",
    "fpr, tpr, thresholds = roc_curve(B_y_test, B_y_test_pred[:, 1])\n",
    "B_test_auroc = auc(fpr, tpr)\n",
    "print('AUC of testing set:', B_test_auroc)\n",
    "\n",
    "### TUNED ET\n",
    "print('--> Tuned Parameters Best Score: ', B_ET_TUNED.best_score_)\n",
    "print('--> Best Parameters: \\n', B_ET_TUNED.best_params_)\n",
    "\n",
    "B_y_test_pred = B_ET_TUNED.predict_proba(B_X_test)\n",
    "fpr, tpr, thresholds = roc_curve(B_y_test, B_y_test_pred[:, 1])\n",
    "B_test_auroc_tuned = auc(fpr, tpr)\n",
    "print('AUC of testing set:', B_test_auroc_tuned)\n",
    "\n",
    "### CALIBRATED ET\n",
    "B_y_test_pred = B_ET_CALIBRATED.predict_proba(B_X_test)\n",
    "fpr, tpr, thresholds = roc_curve(B_y_test, B_y_test_pred[:, 1])\n",
    "B_test_auroc_cc = auc(fpr, tpr)\n",
    "print('AUC of testing set:', B_test_auroc_cc)"
   ]
  },
  {
   "cell_type": "markdown",
   "metadata": {},
   "source": [
    "### Selected Columns"
   ]
  },
  {
   "cell_type": "code",
   "execution_count": 16,
   "metadata": {},
   "outputs": [],
   "source": [
    "etB_fi = B_ET_CALIBRATED.base_estimator._final_estimator.feature_importances_\n",
    "etB_fi_df = pd.DataFrame(etB_fi)\n",
    "etB_fi_df.index = B_X_test.columns\n",
    "etB_fi_df.columns = ([\"Value\"])\n",
    "etB_fi_df = etB_fi_df.reset_index(drop=False)\n",
    "etB_fi_df.columns = ([\"Feature\",\"Value\"])\n",
    "etB_fi_df = etB_fi_df.sort_values([\"Value\"], ascending=False)"
   ]
  },
  {
   "cell_type": "code",
   "execution_count": 17,
   "metadata": {},
   "outputs": [
    {
     "name": "stdout",
     "output_type": "stream",
     "text": [
      "AUC of testing set: 0.7410811213092783\n",
      "AUC of testing set: 0.8429383422419634\n",
      "AUC of testing set: 0.8450084421745524\n",
      "AUC of testing set: 0.839379296155966\n",
      "AUC of testing set: 0.859503739210941\n",
      "AUC of testing set: 0.8606141811291825\n",
      "AUC of testing set: 0.8540304056209136\n",
      "AUC of testing set: 0.8635927917966659\n",
      "AUC of testing set: 0.8638139032098079\n"
     ]
    }
   ],
   "source": [
    "B_test_auroc_list = []\n",
    "B_test_auroc_tuned_list = []\n",
    "B_test_auroc_cc_list = []\n",
    "\n",
    "for i in 10,20,30:\n",
    "    etB_fi_index = etB_fi_df[0:i].index\n",
    "    \n",
    "    B_X_train_selected = B_X_train.iloc[:, etB_fi_index]\n",
    "    \n",
    "    B_X_test_selected = B_X_test.iloc[:, etB_fi_index]\n",
    "    \n",
    "    # base et_selected\n",
    "    et_selected = ExtraTreesClassifier(random_state=19)\n",
    "    B_ET_BASED_selected = et_selected.fit(B_X_train_selected, B_y_train)\n",
    "    \n",
    "    B_y_test_pred = B_ET_BASED_selected.predict_proba(B_X_test_selected)\n",
    "    fpr, tpr, thresholds = roc_curve(B_y_test, B_y_test_pred[:, 1])\n",
    "    B_test_auroc_selected = auc(fpr, tpr)\n",
    "    B_test_auroc_list.append(B_test_auroc_selected)\n",
    "    print('AUC of testing set:', B_test_auroc_selected)\n",
    "    \n",
    "    # tune et_selected   \n",
    "    et_rscv_selected = B_ET_TUNED.best_estimator_\n",
    "    B_ET_TUNED_selected = et_rscv_selected.fit(B_X_train_selected, B_y_train)\n",
    "\n",
    "    B_y_test_pred = B_ET_TUNED_selected.predict_proba(B_X_test_selected)\n",
    "    fpr, tpr, thresholds = roc_curve(B_y_test, B_y_test_pred[:, 1])\n",
    "    B_test_auroc_selected_tuned = auc(fpr, tpr)\n",
    "    B_test_auroc_tuned_list.append(B_test_auroc_selected_tuned)\n",
    "    print('AUC of testing set:', B_test_auroc_selected_tuned)\n",
    "\n",
    "    # calibrate et_selected \n",
    "    et_cccv_selected = CalibratedClassifierCV(base_estimator=B_ET_TUNED_selected, cv=5)\n",
    "    B_ET_CALIBRATED_selected = et_cccv_selected.fit(B_X_train_selected, B_y_train)\n",
    "\n",
    "    B_y_test_pred = B_ET_CALIBRATED_selected.predict_proba(B_X_test_selected)\n",
    "    fpr, tpr, thresholds = roc_curve(B_y_test, B_y_test_pred[:, 1])\n",
    "    B_test_auroc_selected_cc = auc(fpr, tpr)\n",
    "    B_test_auroc_cc_list.append(B_test_auroc_selected_cc)\n",
    "    print('AUC of testing set:', B_test_auroc_selected_cc)\n",
    "    \n",
    "B_test_auroc_list.append(B_test_auroc)\n",
    "B_test_auroc_tuned_list.append(B_test_auroc_tuned)\n",
    "B_test_auroc_cc_list.append(B_test_auroc_cc)"
   ]
  },
  {
   "cell_type": "code",
   "execution_count": 18,
   "metadata": {},
   "outputs": [
    {
     "data": {
      "image/png": "[encoded data removed]",
      "text/plain": [
       "<Figure size 432x288 with 1 Axes>"
      ]
     },
     "metadata": {
      "needs_background": "light"
     },
     "output_type": "display_data"
    }
   ],
   "source": [
    "x = \"10\",\"20\",\"30\",\"310\"\n",
    "plt.plot(x, B_test_auroc_list, label = \"based\")\n",
    "plt.plot(x, B_test_auroc_tuned_list, label = \"tuned\")\n",
    "plt.plot(x, B_test_auroc_cc_list, label = \"calibrated\")\n",
    "plt.legend()\n",
    "for i in range(len(x)):\n",
    "    plt.annotate(round(B_test_auroc_list[i],3), (x[i], B_test_auroc_list[i]))\n",
    "    plt.annotate(round(B_test_auroc_tuned_list[i],3), (x[i], B_test_auroc_tuned_list[i]))\n",
    "    plt.annotate(round(B_test_auroc_cc_list[i],3), (x[i], B_test_auroc_cc_list[i]))\n",
    "plt.title('TSR_ALL3_ET_B', fontsize=15)\n",
    "#plt.savefig('PLOT/TSR_ALL3/TSR_ALL3_ET_B.png')\n",
    "plt.show()"
   ]
  },
  {
   "cell_type": "markdown",
   "metadata": {},
   "source": [
    "## XGBClassifier"
   ]
  },
  {
   "cell_type": "code",
   "execution_count": 19,
   "metadata": {},
   "outputs": [],
   "source": [
    "pkl_path = os.path.join(\"..\", \"..\", \"model\", \"model_pickle\", \"TSR_ALL3B_XGBC_BASED.pkl\")\n",
    "B_XGBC_BASED = joblib.load(pkl_path)\n",
    "\n",
    "pkl_path = os.path.join(\"..\", \"..\", \"model\", \"model_pickle\", \"TSR_ALL3B_XGBC_TUNED.pkl\")\n",
    "B_XGBC_TUNED = joblib.load(pkl_path)\n",
    "\n",
    "pkl_path = os.path.join(\"..\", \"..\", \"model\", \"model_pickle\", \"TSR_ALL3B_XGBC_CALIBRATED.pkl\")\n",
    "B_XGBC_CALIBRATED = joblib.load(pkl_path)"
   ]
  },
  {
   "cell_type": "code",
   "execution_count": 20,
   "metadata": {},
   "outputs": [
    {
     "name": "stdout",
     "output_type": "stream",
     "text": [
      "AUC of testing set: 0.8519405507699964\n",
      "--> Tuned Parameters Best Score:  0.8650149939025866\n",
      "--> Best Parameters: \n",
      " {'xgbclassifier__subsample': 0.5, 'xgbclassifier__scale_pos_weight': 3, 'xgbclassifier__reg_lambda': 10, 'xgbclassifier__reg_alpha': 10, 'xgbclassifier__n_estimators': 75, 'xgbclassifier__max_depth': 25, 'xgbclassifier__learning_rate': 0.1, 'xgbclassifier__gamma': 10, 'xgbclassifier__colsample_bytree': 0.8}\n",
      "AUC of testing set: 0.8695435478856348\n",
      "AUC of testing set: 0.8681303887825396\n"
     ]
    }
   ],
   "source": [
    "### BASED XGBC\n",
    "B_y_test_pred = B_XGBC_BASED.predict_proba(B_X_test)\n",
    "fpr, tpr, thresholds = roc_curve(B_y_test, B_y_test_pred[:, 1])\n",
    "B_test_auroc = auc(fpr, tpr)\n",
    "print('AUC of testing set:', B_test_auroc)\n",
    "\n",
    "### TUNED XGBC\n",
    "print(\"--> Tuned Parameters Best Score: \", B_XGBC_TUNED.best_score_)\n",
    "print(\"--> Best Parameters: \\n\", B_XGBC_TUNED.best_params_)\n",
    "\n",
    "B_y_test_pred = B_XGBC_TUNED.predict_proba(B_X_test)\n",
    "fpr, tpr, thresholds = roc_curve(B_y_test, B_y_test_pred[:, 1])\n",
    "B_test_auroc_tuned = auc(fpr, tpr)\n",
    "print('AUC of testing set:', B_test_auroc_tuned)\n",
    "\n",
    "### CALIBRATED XGBC\n",
    "B_y_test_pred = B_XGBC_CALIBRATED.predict_proba(B_X_test)\n",
    "fpr, tpr, thresholds = roc_curve(B_y_test, B_y_test_pred[:, 1])\n",
    "B_test_auroc_cc = auc(fpr, tpr)\n",
    "print('AUC of testing set:', B_test_auroc_cc)"
   ]
  },
  {
   "cell_type": "markdown",
   "metadata": {},
   "source": [
    "### Selected Columns"
   ]
  },
  {
   "cell_type": "code",
   "execution_count": 21,
   "metadata": {},
   "outputs": [],
   "source": [
    "xgbcB_fi = B_XGBC_CALIBRATED.base_estimator._final_estimator.feature_importances_\n",
    "xgbcB_fi_df = pd.DataFrame(xgbcB_fi)\n",
    "xgbcB_fi_df.index = B_X_test.columns\n",
    "xgbcB_fi_df.columns = ([\"Value\"])\n",
    "xgbcB_fi_df = xgbcB_fi_df.reset_index(drop=False)\n",
    "xgbcB_fi_df.columns = ([\"Feature\",\"Value\"])\n",
    "xgbcB_fi_df = xgbcB_fi_df.sort_values([\"Value\"], ascending=False)"
   ]
  },
  {
   "cell_type": "code",
   "execution_count": 22,
   "metadata": {},
   "outputs": [
    {
     "name": "stdout",
     "output_type": "stream",
     "text": [
      "AUC of testing set: 0.8374104850773503\n",
      "AUC of testing set: 0.846116800846861\n",
      "AUC of testing set: 0.8461907919955083\n",
      "AUC of testing set: 0.8443188877708004\n",
      "AUC of testing set: 0.856057403913514\n",
      "AUC of testing set: 0.8563823184429619\n",
      "AUC of testing set: 0.8517155602092557\n",
      "AUC of testing set: 0.864814866962478\n",
      "AUC of testing set: 0.8657776139276916\n"
     ]
    }
   ],
   "source": [
    "B_test_auroc_list = []\n",
    "B_test_auroc_tuned_list = []\n",
    "B_test_auroc_cc_list = []\n",
    "\n",
    "for i in 10,20,30:\n",
    "    xgbcB_fi_index = xgbcB_fi_df[0:i].index\n",
    "    \n",
    "    B_X_train_selected = B_X_train.iloc[:, xgbcB_fi_index]\n",
    "    \n",
    "    B_X_test_selected = B_X_test.iloc[:, xgbcB_fi_index]\n",
    "    \n",
    "    # base xgbc_selected\n",
    "    xgbc_selected = XGBClassifier(booster = \"gbtree\", random_state=19, use_label_encoder=False, eval_metric = \"auc\", tree_method = \"hist\", n_jobs=-1)\n",
    "    B_XGBC_BASED_selected = xgbc_selected.fit(B_X_train_selected, B_y_train)\n",
    "    \n",
    "    B_y_test_pred = B_XGBC_BASED_selected.predict_proba(B_X_test_selected)\n",
    "    fpr, tpr, thresholds = roc_curve(B_y_test, B_y_test_pred[:, 1])\n",
    "    B_test_auroc_selected = auc(fpr, tpr)\n",
    "    B_test_auroc_list.append(B_test_auroc_selected)\n",
    "    print('AUC of testing set:', B_test_auroc_selected)\n",
    "\n",
    "    # tune xgbc_selected\n",
    "    xgbcB_rscv_selected = B_XGBC_TUNED.best_estimator_\n",
    "    B_XGBC_TUNED_selected = xgbcB_rscv_selected.fit(B_X_train_selected, B_y_train)\n",
    "\n",
    "    B_y_test_pred = B_XGBC_TUNED_selected.predict_proba(B_X_test_selected)\n",
    "    fpr, tpr, thresholds = roc_curve(B_y_test, B_y_test_pred[:, 1])\n",
    "    B_test_auroc_selected_tuned = auc(fpr, tpr)\n",
    "    B_test_auroc_tuned_list.append(B_test_auroc_selected_tuned)\n",
    "    print('AUC of testing set:', B_test_auroc_selected_tuned)\n",
    "\n",
    "    # calibrate xgbc_selected\n",
    "    xgbcB_cccv_selected = CalibratedClassifierCV(base_estimator=B_XGBC_TUNED_selected, cv=5)\n",
    "    B_XGBC_CALIBRATED_selected = xgbcB_cccv_selected.fit(B_X_train_selected, B_y_train)\n",
    "\n",
    "    B_y_test_pred = B_XGBC_CALIBRATED_selected.predict_proba(B_X_test_selected)\n",
    "    fpr, tpr, thresholds = roc_curve(B_y_test, B_y_test_pred[:, 1])\n",
    "    B_test_auroc_selected_cc = auc(fpr, tpr)\n",
    "    B_test_auroc_cc_list.append(B_test_auroc_selected_cc)\n",
    "    print('AUC of testing set:', B_test_auroc_selected_cc)\n",
    "    \n",
    "B_test_auroc_list.append(B_test_auroc)\n",
    "B_test_auroc_tuned_list.append(B_test_auroc_tuned)\n",
    "B_test_auroc_cc_list.append(B_test_auroc_cc)"
   ]
  },
  {
   "cell_type": "code",
   "execution_count": 23,
   "metadata": {},
   "outputs": [
    {
     "data": {
      "image/png": "[encoded data removed]",
      "text/plain": [
       "<Figure size 432x288 with 1 Axes>"
      ]
     },
     "metadata": {
      "needs_background": "light"
     },
     "output_type": "display_data"
    }
   ],
   "source": [
    "x = \"10\",\"20\",\"30\",\"310\"\n",
    "plt.plot(x, B_test_auroc_list, label = \"based\")\n",
    "plt.plot(x, B_test_auroc_tuned_list, label = \"tuned\")\n",
    "plt.plot(x, B_test_auroc_cc_list, label = \"calibrated\")\n",
    "plt.legend()\n",
    "for i in range(len(x)):\n",
    "    plt.annotate(round(B_test_auroc_list[i],3), (x[i], B_test_auroc_list[i]))\n",
    "    plt.annotate(round(B_test_auroc_tuned_list[i],3), (x[i], B_test_auroc_tuned_list[i]))\n",
    "    plt.annotate(round(B_test_auroc_cc_list[i],3), (x[i], B_test_auroc_cc_list[i]))\n",
    "plt.title('TSR_ALL3_XGBC_B', fontsize=15)\n",
    "#plt.savefig('PLOT/TSR_ALL3/TSR_ALL3_XGBC_B.png')\n",
    "plt.show()"
   ]
  }
 ],
 "metadata": {
  "kernelspec": {
   "display_name": "Python 3",
   "language": "python",
   "name": "python3"
  },
  "language_info": {
   "codemirror_mode": {
    "name": "ipython",
    "version": 3
   },
   "file_extension": ".py",
   "mimetype": "text/x-python",
   "name": "python",
   "nbconvert_exporter": "python",
   "pygments_lexer": "ipython3",
   "version": "3.8.10"
  }
 },
 "nbformat": 4,
 "nbformat_minor": 4
}
