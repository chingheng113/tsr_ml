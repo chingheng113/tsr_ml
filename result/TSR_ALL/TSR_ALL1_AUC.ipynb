{
 "cells": [
  {
   "cell_type": "code",
   "execution_count": 1,
   "metadata": {},
   "outputs": [],
   "source": [
    "import warnings\n",
    "warnings.filterwarnings(\"ignore\")\n",
    "import pandas as pd\n",
    "import os\n",
    "import numpy as np\n",
    "import joblib\n",
    "from sklearn.metrics import auc, roc_curve\n",
    "from sklearn.ensemble import ExtraTreesClassifier\n",
    "from xgboost import XGBClassifier\n",
    "from sklearn.calibration import CalibratedClassifierCV\n",
    "import matplotlib.pyplot as plt"
   ]
  },
  {
   "cell_type": "markdown",
   "metadata": {},
   "source": [
    "# Import datasets"
   ]
  },
  {
   "cell_type": "code",
   "execution_count": 2,
   "metadata": {},
   "outputs": [],
   "source": [
    "csv_path = os.path.join(\"..\", \"..\", \"data\", \"LINKED_DATA\", \"TSR_ALL\", \"TSR_ALL1\", \"TSR_ALL1G_X_TRAIN.csv\")\n",
    "G_X_train = pd.read_csv(csv_path)\n",
    "\n",
    "csv_path = os.path.join(\"..\", \"..\", \"data\", \"LINKED_DATA\", \"TSR_ALL\", \"TSR_ALL1\", \"TSR_ALL1G_y_TRAIN.csv\")\n",
    "G_y_train = pd.read_csv(csv_path)\n",
    "G_y_train = np.ravel(G_y_train)\n",
    "\n",
    "csv_path = os.path.join(\"..\", \"..\", \"data\", \"LINKED_DATA\", \"TSR_ALL\", \"TSR_ALL1\", \"TSR_ALL1G_X_TEST.csv\")\n",
    "G_X_test = pd.read_csv(csv_path)\n",
    "\n",
    "csv_path = os.path.join(\"..\", \"..\", \"data\", \"LINKED_DATA\", \"TSR_ALL\", \"TSR_ALL1\", \"TSR_ALL1G_y_TEST.csv\")\n",
    "G_y_test = pd.read_csv(csv_path)\n",
    "G_y_test = np.ravel(G_y_test)"
   ]
  },
  {
   "cell_type": "code",
   "execution_count": 3,
   "metadata": {},
   "outputs": [],
   "source": [
    "csv_path = os.path.join(\"..\", \"..\", \"data\", \"LINKED_DATA\", \"TSR_ALL\", \"TSR_ALL1\", \"TSR_ALL1B_X_TRAIN.csv\")\n",
    "B_X_train = pd.read_csv(csv_path)\n",
    "\n",
    "csv_path = os.path.join(\"..\", \"..\", \"data\", \"LINKED_DATA\", \"TSR_ALL\", \"TSR_ALL1\", \"TSR_ALL1B_y_TRAIN.csv\")\n",
    "B_y_train = pd.read_csv(csv_path)\n",
    "B_y_train = np.ravel(B_y_train)\n",
    "\n",
    "csv_path = os.path.join(\"..\", \"..\", \"data\", \"LINKED_DATA\", \"TSR_ALL\", \"TSR_ALL1\", \"TSR_ALL1B_X_TEST.csv\")\n",
    "B_X_test = pd.read_csv(csv_path)\n",
    "\n",
    "csv_path = os.path.join(\"..\", \"..\", \"data\", \"LINKED_DATA\", \"TSR_ALL\", \"TSR_ALL1\", \"TSR_ALL1B_y_TEST.csv\")\n",
    "B_y_test = pd.read_csv(csv_path)\n",
    "B_y_test = np.ravel(B_y_test)"
   ]
  },
  {
   "cell_type": "markdown",
   "metadata": {},
   "source": [
    "# GOOD when discharged"
   ]
  },
  {
   "cell_type": "markdown",
   "metadata": {},
   "source": [
    "## Algorithms"
   ]
  },
  {
   "cell_type": "markdown",
   "metadata": {},
   "source": [
    "### Extra trees"
   ]
  },
  {
   "cell_type": "code",
   "execution_count": 4,
   "metadata": {},
   "outputs": [],
   "source": [
    "pkl_path = os.path.join(\"..\", \"..\", \"model\", \"model_pickle\", \"TSR_ALL1G_ET_BASED.pkl\")\n",
    "G_ET_BASED = joblib.load(pkl_path)\n",
    "\n",
    "pkl_path = os.path.join(\"..\", \"..\", \"model\", \"model_pickle\", \"TSR_ALL1G_ET_TUNED.pkl\")\n",
    "G_ET_TUNED = joblib.load(pkl_path)\n",
    "\n",
    "pkl_path = os.path.join(\"..\", \"..\", \"model\", \"model_pickle\", \"TSR_ALL1G_ET_CALIBRATED.pkl\")\n",
    "G_ET_CALIBRATED = joblib.load(pkl_path)"
   ]
  },
  {
   "cell_type": "code",
   "execution_count": 5,
   "metadata": {},
   "outputs": [
    {
     "name": "stdout",
     "output_type": "stream",
     "text": [
      "AUC of testing set: 0.705792830080686\n",
      "--> Tuned Parameters Best Score:  0.7405012533593809\n",
      "--> Best Parameters: \n",
      " {'extratreesclassifier__n_estimators': 150, 'extratreesclassifier__min_samples_split': 150, 'extratreesclassifier__max_samples': 0.5, 'extratreesclassifier__max_features': 0.5, 'extratreesclassifier__max_depth': 75, 'extratreesclassifier__criterion': 'gini', 'extratreesclassifier__class_weight': 'balanced', 'extratreesclassifier__bootstrap': True}\n",
      "AUC of testing set: 0.7409141583054626\n",
      "AUC of testing set: 0.7400060653433966\n"
     ]
    }
   ],
   "source": [
    "#BASED\n",
    "G_y_test_pred = G_ET_BASED.predict_proba(G_X_test)\n",
    "fpr, tpr, thresholds = roc_curve(G_y_test, G_y_test_pred[:, 1])\n",
    "G_test_auroc = auc(fpr, tpr)\n",
    "print('AUC of testing set:', G_test_auroc)\n",
    "\n",
    "#TUNED\n",
    "print('--> Tuned Parameters Best Score: ', G_ET_TUNED.best_score_)\n",
    "print('--> Best Parameters: \\n', G_ET_TUNED.best_params_)\n",
    "\n",
    "G_y_test_pred = G_ET_TUNED.predict_proba(G_X_test)\n",
    "fpr, tpr, thresholds = roc_curve(G_y_test, G_y_test_pred[:, 1])\n",
    "G_test_auroc_tuned = auc(fpr, tpr)\n",
    "print('AUC of testing set:', G_test_auroc_tuned)\n",
    "\n",
    "#CALIBRATED\n",
    "G_y_test_pred = G_ET_CALIBRATED.predict_proba(G_X_test)\n",
    "fpr, tpr, thresholds = roc_curve(G_y_test, G_y_test_pred[:, 1])\n",
    "G_test_auroc_cc = auc(fpr, tpr)\n",
    "print('AUC of testing set:', G_test_auroc_cc)"
   ]
  },
  {
   "cell_type": "markdown",
   "metadata": {},
   "source": [
    "#### Selected Columns"
   ]
  },
  {
   "cell_type": "code",
   "execution_count": 6,
   "metadata": {},
   "outputs": [],
   "source": [
    "etG_fi = G_ET_CALIBRATED.base_estimator._final_estimator.feature_importances_\n",
    "etG_fi_df = pd.DataFrame(etG_fi)\n",
    "etG_fi_df.index = G_X_test.columns\n",
    "etG_fi_df.columns = ([\"Value\"])\n",
    "etG_fi_df = etG_fi_df.reset_index(drop=False)\n",
    "etG_fi_df.columns = ([\"Feature\",\"Value\"])\n",
    "etG_fi_df = etG_fi_df.sort_values([\"Value\"], ascending=False)"
   ]
  },
  {
   "cell_type": "code",
   "execution_count": 7,
   "metadata": {},
   "outputs": [
    {
     "name": "stdout",
     "output_type": "stream",
     "text": [
      "AUC of testing set: 0.5730626139921493\n",
      "AUC of testing set: 0.7016077431369785\n",
      "AUC of testing set: 0.7050863457160308\n",
      "AUC of testing set: 0.6590482536509522\n",
      "AUC of testing set: 0.7184441967050663\n",
      "AUC of testing set: 0.7252245672035776\n",
      "AUC of testing set: 0.6577574460632931\n",
      "AUC of testing set: 0.7241866246363998\n",
      "AUC of testing set: 0.7266870838085231\n"
     ]
    }
   ],
   "source": [
    "G_test_auroc_list = []\n",
    "G_test_auroc_tuned_list = []\n",
    "G_test_auroc_cc_list = []\n",
    "\n",
    "for i in 10,20,30:\n",
    "    etG_fi_index = etG_fi_df[0:i].index\n",
    "    \n",
    "    G_X_train_selected = G_X_train.iloc[:, etG_fi_index]\n",
    "    \n",
    "    G_X_test_selected = G_X_test.iloc[:, etG_fi_index]\n",
    "    \n",
    "    # base et_selected\n",
    "    et_selected = ExtraTreesClassifier(random_state=19)\n",
    "    G_ET_BASED_selected = et_selected.fit(G_X_train_selected, G_y_train)\n",
    "    \n",
    "    G_y_test_pred = G_ET_BASED_selected.predict_proba(G_X_test_selected)\n",
    "    fpr, tpr, thresholds = roc_curve(G_y_test, G_y_test_pred[:, 1])\n",
    "    G_test_auroc_selected = auc(fpr, tpr)\n",
    "    G_test_auroc_list.append(G_test_auroc_selected)\n",
    "    print('AUC of testing set:', G_test_auroc_selected)\n",
    "    \n",
    "    # tune et_selected   \n",
    "    et_rscv_selected = G_ET_TUNED.best_estimator_\n",
    "    G_ET_TUNED_selected = et_rscv_selected.fit(G_X_train_selected, G_y_train)\n",
    "\n",
    "    G_y_test_pred = G_ET_TUNED_selected.predict_proba(G_X_test_selected)\n",
    "    fpr, tpr, thresholds = roc_curve(G_y_test, G_y_test_pred[:, 1])\n",
    "    G_test_auroc_selected_tuned = auc(fpr, tpr)\n",
    "    G_test_auroc_tuned_list.append(G_test_auroc_selected_tuned)\n",
    "    print('AUC of testing set:', G_test_auroc_selected_tuned)\n",
    "\n",
    "    # calibrate et_selected \n",
    "    et_cccv_selected = CalibratedClassifierCV(base_estimator=G_ET_TUNED_selected, cv=5)\n",
    "    G_ET_CALIBRATED_selected = et_cccv_selected.fit(G_X_train_selected, G_y_train)\n",
    "\n",
    "    G_y_test_pred = G_ET_CALIBRATED_selected.predict_proba(G_X_test_selected)\n",
    "    fpr, tpr, thresholds = roc_curve(G_y_test, G_y_test_pred[:, 1])\n",
    "    G_test_auroc_selected_cc = auc(fpr, tpr)\n",
    "    G_test_auroc_cc_list.append(G_test_auroc_selected_cc)\n",
    "    print('AUC of testing set:', G_test_auroc_selected_cc)\n",
    "    \n",
    "G_test_auroc_list.append(G_test_auroc)\n",
    "G_test_auroc_tuned_list.append(G_test_auroc_tuned)\n",
    "G_test_auroc_cc_list.append(G_test_auroc_cc)"
   ]
  },
  {
   "cell_type": "code",
   "execution_count": 8,
   "metadata": {},
   "outputs": [
    {
     "data": {
      "image/png": "[encoded data removed]",
      "text/plain": [
       "<Figure size 432x288 with 1 Axes>"
      ]
     },
     "metadata": {
      "needs_background": "light"
     },
     "output_type": "display_data"
    }
   ],
   "source": [
    "x = \"10\",\"20\",\"30\",\"310\"\n",
    "plt.plot(x, G_test_auroc_list, label = \"based\")\n",
    "plt.plot(x, G_test_auroc_tuned_list, label = \"tuned\")\n",
    "plt.plot(x, G_test_auroc_cc_list, label = \"calibrated\")\n",
    "plt.legend()\n",
    "for i in range(len(x)):\n",
    "    plt.annotate(round(G_test_auroc_list[i],3), (x[i], G_test_auroc_list[i]))\n",
    "    plt.annotate(round(G_test_auroc_tuned_list[i],3), (x[i], G_test_auroc_tuned_list[i]))\n",
    "    plt.annotate(round(G_test_auroc_cc_list[i],3), (x[i], G_test_auroc_cc_list[i]))\n",
    "plt.title('TSR_ALL1_ET_G', fontsize=15)\n",
    "#plt.savefig('PLOT/TSR_ALL1/TSR_ALL1_ET_G.png')\n",
    "plt.show()"
   ]
  },
  {
   "cell_type": "markdown",
   "metadata": {},
   "source": [
    "### XGBClassifier"
   ]
  },
  {
   "cell_type": "code",
   "execution_count": 9,
   "metadata": {},
   "outputs": [],
   "source": [
    "pkl_path = os.path.join(\"..\", \"..\", \"model\", \"model_pickle\", \"TSR_ALL1G_XGBC_BASED.pkl\")\n",
    "G_XGBC_BASED = joblib.load(pkl_path)\n",
    "\n",
    "pkl_path = os.path.join(\"..\", \"..\", \"model\", \"model_pickle\", \"TSR_ALL1G_XGBC_TUNED.pkl\")\n",
    "G_XGBC_TUNED = joblib.load(pkl_path)\n",
    "\n",
    "pkl_path = os.path.join(\"..\", \"..\", \"model\", \"model_pickle\", \"TSR_ALL1G_XGBC_CALIBRATED.pkl\")\n",
    "G_XGBC_CALIBRATED = joblib.load(pkl_path)"
   ]
  },
  {
   "cell_type": "code",
   "execution_count": 10,
   "metadata": {},
   "outputs": [
    {
     "name": "stdout",
     "output_type": "stream",
     "text": [
      "AUC of testing set: 0.6741167877599662\n",
      "--> Tuned Parameters Best Score:  0.7399851004533213\n",
      "--> Best Parameters: \n",
      " {'xgbclassifier__subsample': 0.5, 'xgbclassifier__scale_pos_weight': 0.03, 'xgbclassifier__reg_lambda': 0.01, 'xgbclassifier__reg_alpha': 1, 'xgbclassifier__n_estimators': 150, 'xgbclassifier__max_depth': 75, 'xgbclassifier__learning_rate': 0.01, 'xgbclassifier__gamma': 1, 'xgbclassifier__colsample_bytree': 0.2}\n",
      "AUC of testing set: 0.7427816006526651\n",
      "AUC of testing set: 0.744300499322988\n"
     ]
    }
   ],
   "source": [
    "#BASED\n",
    "G_y_test_pred = G_XGBC_BASED.predict_proba(G_X_test)\n",
    "fpr, tpr, thresholds = roc_curve(G_y_test, G_y_test_pred[:, 1])\n",
    "G_test_auroc = auc(fpr, tpr)\n",
    "print('AUC of testing set:', G_test_auroc)\n",
    "\n",
    "#TUNED\n",
    "print('--> Tuned Parameters Best Score: ', G_XGBC_TUNED.best_score_)\n",
    "print('--> Best Parameters: \\n', G_XGBC_TUNED.best_params_)\n",
    "\n",
    "G_y_test_pred = G_XGBC_TUNED.predict_proba(G_X_test)\n",
    "fpr, tpr, thresholds = roc_curve(G_y_test, G_y_test_pred[:, 1])\n",
    "G_test_auroc_tuned = auc(fpr, tpr)\n",
    "print('AUC of testing set:', G_test_auroc_tuned)\n",
    "\n",
    "#CALIBRATED\n",
    "G_y_test_pred = G_XGBC_CALIBRATED.predict_proba(G_X_test)\n",
    "fpr, tpr, thresholds = roc_curve(G_y_test, G_y_test_pred[:, 1])\n",
    "G_test_auroc_cc = auc(fpr, tpr)\n",
    "print('AUC of testing set:', G_test_auroc_cc)"
   ]
  },
  {
   "cell_type": "markdown",
   "metadata": {},
   "source": [
    "#### Selected Columns"
   ]
  },
  {
   "cell_type": "code",
   "execution_count": 11,
   "metadata": {},
   "outputs": [],
   "source": [
    "xgbcG_fi = G_XGBC_CALIBRATED.base_estimator._final_estimator.feature_importances_\n",
    "xgbcG_fi_df = pd.DataFrame(xgbcG_fi)\n",
    "xgbcG_fi_df.index = G_X_test.columns\n",
    "xgbcG_fi_df.columns = ([\"Value\"])\n",
    "xgbcG_fi_df = xgbcG_fi_df.reset_index(drop=False)\n",
    "xgbcG_fi_df.columns = ([\"Feature\",\"Value\"])\n",
    "xgbcG_fi_df = xgbcG_fi_df.sort_values([\"Value\"], ascending=False)"
   ]
  },
  {
   "cell_type": "code",
   "execution_count": 12,
   "metadata": {},
   "outputs": [
    {
     "name": "stdout",
     "output_type": "stream",
     "text": [
      "AUC of testing set: 0.6409372236958444\n",
      "AUC of testing set: 0.7212419431309985\n",
      "AUC of testing set: 0.7198516126552109\n",
      "AUC of testing set: 0.6127752363134672\n",
      "AUC of testing set: 0.720174528120555\n",
      "AUC of testing set: 0.7197956577266922\n",
      "AUC of testing set: 0.644425223285793\n",
      "AUC of testing set: 0.7163930855085279\n",
      "AUC of testing set: 0.718002110056083\n"
     ]
    }
   ],
   "source": [
    "G_test_auroc_list = []\n",
    "G_test_auroc_tuned_list = []\n",
    "G_test_auroc_cc_list = []\n",
    "\n",
    "for i in 10,20,30:\n",
    "    xgbcG_fi_index = xgbcG_fi_df[0:i].index\n",
    "    \n",
    "    G_X_train_selected = G_X_train.iloc[:, xgbcG_fi_index]\n",
    "    \n",
    "    G_X_test_selected = G_X_test.iloc[:, xgbcG_fi_index]\n",
    "    \n",
    "    # base xgbc_selected\n",
    "    xgbc_selected = XGBClassifier(booster = \"gbtree\", random_state=19, use_label_encoder=False, eval_metric = \"auc\", tree_method = \"hist\", n_jobs=-1)\n",
    "    G_XGBC_BASED_selected = xgbc_selected.fit(G_X_train_selected, G_y_train)\n",
    "    \n",
    "    G_y_test_pred = G_XGBC_BASED_selected.predict_proba(G_X_test_selected)\n",
    "    fpr, tpr, thresholds = roc_curve(G_y_test, G_y_test_pred[:, 1])\n",
    "    G_test_auroc_selected = auc(fpr, tpr)\n",
    "    G_test_auroc_list.append(G_test_auroc_selected)\n",
    "    print('AUC of testing set:', G_test_auroc_selected)\n",
    "\n",
    "    # tune xgbc_selected\n",
    "    xgbcG_rscv_selected = G_XGBC_TUNED.best_estimator_\n",
    "    G_XGBC_TUNED_selected = xgbcG_rscv_selected.fit(G_X_train_selected, G_y_train)\n",
    "\n",
    "    G_y_test_pred = G_XGBC_TUNED_selected.predict_proba(G_X_test_selected)\n",
    "    fpr, tpr, thresholds = roc_curve(G_y_test, G_y_test_pred[:, 1])\n",
    "    G_test_auroc_selected_tuned = auc(fpr, tpr)\n",
    "    G_test_auroc_tuned_list.append(G_test_auroc_selected_tuned)\n",
    "    print('AUC of testing set:', G_test_auroc_selected_tuned)\n",
    "\n",
    "    # calibrate xgbc_selected\n",
    "    xgbcG_cccv_selected = CalibratedClassifierCV(base_estimator=G_XGBC_TUNED_selected, cv=5)\n",
    "    G_XGBC_CALIBRATED_selected = xgbcG_cccv_selected.fit(G_X_train_selected, G_y_train)\n",
    "\n",
    "    G_y_test_pred = G_XGBC_CALIBRATED_selected.predict_proba(G_X_test_selected)\n",
    "    fpr, tpr, thresholds = roc_curve(G_y_test, G_y_test_pred[:, 1])\n",
    "    G_test_auroc_selected_cc = auc(fpr, tpr)\n",
    "    G_test_auroc_cc_list.append(G_test_auroc_selected_cc)\n",
    "    print('AUC of testing set:', G_test_auroc_selected_cc)\n",
    "    \n",
    "G_test_auroc_list.append(G_test_auroc)\n",
    "G_test_auroc_tuned_list.append(G_test_auroc_tuned)\n",
    "G_test_auroc_cc_list.append(G_test_auroc_cc)"
   ]
  },
  {
   "cell_type": "code",
   "execution_count": 13,
   "metadata": {},
   "outputs": [
    {
     "data": {
      "image/png": "[encoded data removed]",
      "text/plain": [
       "<Figure size 432x288 with 1 Axes>"
      ]
     },
     "metadata": {
      "needs_background": "light"
     },
     "output_type": "display_data"
    }
   ],
   "source": [
    "x = \"10\",\"20\",\"30\",\"310\"\n",
    "plt.plot(x, G_test_auroc_list, label = \"based\")\n",
    "plt.plot(x, G_test_auroc_tuned_list, label = \"tuned\")\n",
    "plt.plot(x, G_test_auroc_cc_list, label = \"calibrated\")\n",
    "plt.legend()\n",
    "for i in range(len(x)):\n",
    "    plt.annotate(round(G_test_auroc_list[i],3), (x[i], G_test_auroc_list[i]))\n",
    "    plt.annotate(round(G_test_auroc_tuned_list[i],3), (x[i], G_test_auroc_tuned_list[i]))\n",
    "    plt.annotate(round(G_test_auroc_cc_list[i],3), (x[i], G_test_auroc_cc_list[i]))\n",
    "plt.title('TSR_ALL1_XGBC_G', fontsize=15)\n",
    "#plt.savefig('PLOT/TSR_ALL1/TSR_ALL1_XGBC_G.png')\n",
    "plt.show()"
   ]
  },
  {
   "cell_type": "markdown",
   "metadata": {},
   "source": [
    "# BAD when discharged"
   ]
  },
  {
   "cell_type": "markdown",
   "metadata": {},
   "source": [
    "## Algorithms"
   ]
  },
  {
   "cell_type": "markdown",
   "metadata": {},
   "source": [
    "### Extra trees"
   ]
  },
  {
   "cell_type": "code",
   "execution_count": 14,
   "metadata": {},
   "outputs": [],
   "source": [
    "pkl_path = os.path.join(\"..\", \"..\", \"model\", \"model_pickle\", \"TSR_ALL1B_ET_BASED.pkl\")\n",
    "B_ET_BASED = joblib.load(pkl_path)\n",
    "\n",
    "pkl_path = os.path.join(\"..\", \"..\", \"model\", \"model_pickle\", \"TSR_ALL1B_ET_TUNED.pkl\")\n",
    "B_ET_TUNED = joblib.load(pkl_path)\n",
    "\n",
    "pkl_path = os.path.join(\"..\", \"..\", \"model\", \"model_pickle\", \"TSR_ALL1B_ET_CALIBRATED.pkl\")\n",
    "B_ET_CALIBRATED = joblib.load(pkl_path)"
   ]
  },
  {
   "cell_type": "code",
   "execution_count": 15,
   "metadata": {},
   "outputs": [
    {
     "name": "stdout",
     "output_type": "stream",
     "text": [
      "AUC of testing set: 0.8463214676499224\n",
      "--> Tuned Parameters Best Score:  0.8591632154894508\n",
      "--> Best Parameters: \n",
      " {'extratreesclassifier__n_estimators': 150, 'extratreesclassifier__min_samples_split': 75, 'extratreesclassifier__max_samples': 0.8, 'extratreesclassifier__max_features': 0.2, 'extratreesclassifier__max_depth': 150, 'extratreesclassifier__criterion': 'entropy', 'extratreesclassifier__class_weight': {0: 1, 1: 7}, 'extratreesclassifier__bootstrap': False}\n",
      "AUC of testing set: 0.8576972889833093\n",
      "AUC of testing set: 0.8572924905878891\n"
     ]
    }
   ],
   "source": [
    "### BASED ET\n",
    "B_y_test_pred = B_ET_BASED.predict_proba(B_X_test)\n",
    "fpr, tpr, thresholds = roc_curve(B_y_test, B_y_test_pred[:, 1])\n",
    "B_test_auroc = auc(fpr, tpr)\n",
    "print('AUC of testing set:', B_test_auroc)\n",
    "\n",
    "### TUNED ET\n",
    "print('--> Tuned Parameters Best Score: ', B_ET_TUNED.best_score_)\n",
    "print('--> Best Parameters: \\n', B_ET_TUNED.best_params_)\n",
    "\n",
    "B_y_test_pred = B_ET_TUNED.predict_proba(B_X_test)\n",
    "fpr, tpr, thresholds = roc_curve(B_y_test, B_y_test_pred[:, 1])\n",
    "B_test_auroc_tuned = auc(fpr, tpr)\n",
    "print('AUC of testing set:', B_test_auroc_tuned)\n",
    "\n",
    "### CALIBRATED ET\n",
    "B_y_test_pred = B_ET_CALIBRATED.predict_proba(B_X_test)\n",
    "fpr, tpr, thresholds = roc_curve(B_y_test, B_y_test_pred[:, 1])\n",
    "B_test_auroc_cc = auc(fpr, tpr)\n",
    "print('AUC of testing set:', B_test_auroc_cc)"
   ]
  },
  {
   "cell_type": "markdown",
   "metadata": {},
   "source": [
    "#### Selected Columns"
   ]
  },
  {
   "cell_type": "code",
   "execution_count": 16,
   "metadata": {},
   "outputs": [],
   "source": [
    "etB_fi = B_ET_CALIBRATED.base_estimator._final_estimator.feature_importances_\n",
    "etB_fi_df = pd.DataFrame(etB_fi)\n",
    "etB_fi_df.index = B_X_test.columns\n",
    "etB_fi_df.columns = ([\"Value\"])\n",
    "etB_fi_df = etB_fi_df.reset_index(drop=False)\n",
    "etB_fi_df.columns = ([\"Feature\",\"Value\"])\n",
    "etB_fi_df = etB_fi_df.sort_values([\"Value\"], ascending=False)"
   ]
  },
  {
   "cell_type": "code",
   "execution_count": 17,
   "metadata": {},
   "outputs": [
    {
     "name": "stdout",
     "output_type": "stream",
     "text": [
      "AUC of testing set: 0.7841512111984481\n",
      "AUC of testing set: 0.8292212928340089\n",
      "AUC of testing set: 0.8299989222425392\n",
      "AUC of testing set: 0.8095609873719707\n",
      "AUC of testing set: 0.8545711529995451\n",
      "AUC of testing set: 0.8537660316422283\n",
      "AUC of testing set: 0.8329802003167512\n",
      "AUC of testing set: 0.856371464635855\n",
      "AUC of testing set: 0.8566013557823514\n"
     ]
    }
   ],
   "source": [
    "B_test_auroc_list = []\n",
    "B_test_auroc_tuned_list = []\n",
    "B_test_auroc_cc_list = []\n",
    "\n",
    "for i in 10,20,30:\n",
    "    etB_fi_index = etB_fi_df[0:i].index\n",
    "    \n",
    "    B_X_train_selected = B_X_train.iloc[:, etB_fi_index]\n",
    "    \n",
    "    B_X_test_selected = B_X_test.iloc[:, etB_fi_index]\n",
    "    \n",
    "    # base et_selected\n",
    "    et_selected = ExtraTreesClassifier(random_state=19)\n",
    "    B_ET_BASED_selected = et_selected.fit(B_X_train_selected, B_y_train)\n",
    "    \n",
    "    B_y_test_pred = B_ET_BASED_selected.predict_proba(B_X_test_selected)\n",
    "    fpr, tpr, thresholds = roc_curve(B_y_test, B_y_test_pred[:, 1])\n",
    "    B_test_auroc_selected = auc(fpr, tpr)\n",
    "    B_test_auroc_list.append(B_test_auroc_selected)\n",
    "    print('AUC of testing set:', B_test_auroc_selected)\n",
    "    \n",
    "    # tune et_selected   \n",
    "    et_rscv_selected = B_ET_TUNED.best_estimator_\n",
    "    B_ET_TUNED_selected = et_rscv_selected.fit(B_X_train_selected, B_y_train)\n",
    "\n",
    "    B_y_test_pred = B_ET_TUNED_selected.predict_proba(B_X_test_selected)\n",
    "    fpr, tpr, thresholds = roc_curve(B_y_test, B_y_test_pred[:, 1])\n",
    "    B_test_auroc_selected_tuned = auc(fpr, tpr)\n",
    "    B_test_auroc_tuned_list.append(B_test_auroc_selected_tuned)\n",
    "    print('AUC of testing set:', B_test_auroc_selected_tuned)\n",
    "\n",
    "    # calibrate et_selected \n",
    "    et_cccv_selected = CalibratedClassifierCV(base_estimator=B_ET_TUNED_selected, cv=5)\n",
    "    B_ET_CALIBRATED_selected = et_cccv_selected.fit(B_X_train_selected, B_y_train)\n",
    "\n",
    "    B_y_test_pred = B_ET_CALIBRATED_selected.predict_proba(B_X_test_selected)\n",
    "    fpr, tpr, thresholds = roc_curve(B_y_test, B_y_test_pred[:, 1])\n",
    "    B_test_auroc_selected_cc = auc(fpr, tpr)\n",
    "    B_test_auroc_cc_list.append(B_test_auroc_selected_cc)\n",
    "    print('AUC of testing set:', B_test_auroc_selected_cc)\n",
    "    \n",
    "B_test_auroc_list.append(B_test_auroc)\n",
    "B_test_auroc_tuned_list.append(B_test_auroc_tuned)\n",
    "B_test_auroc_cc_list.append(B_test_auroc_cc)"
   ]
  },
  {
   "cell_type": "code",
   "execution_count": 18,
   "metadata": {},
   "outputs": [
    {
     "data": {
      "image/png": "[encoded data removed]",
      "text/plain": [
       "<Figure size 432x288 with 1 Axes>"
      ]
     },
     "metadata": {
      "needs_background": "light"
     },
     "output_type": "display_data"
    }
   ],
   "source": [
    "x = \"10\",\"20\",\"30\",\"310\"\n",
    "plt.plot(x, B_test_auroc_list, label = \"based\")\n",
    "plt.plot(x, B_test_auroc_tuned_list, label = \"tuned\")\n",
    "plt.plot(x, B_test_auroc_cc_list, label = \"calibrated\")\n",
    "plt.legend()\n",
    "for i in range(len(x)):\n",
    "    plt.annotate(round(B_test_auroc_list[i],3), (x[i], B_test_auroc_list[i]))\n",
    "    plt.annotate(round(B_test_auroc_tuned_list[i],3), (x[i], B_test_auroc_tuned_list[i]))\n",
    "    plt.annotate(round(B_test_auroc_cc_list[i],3), (x[i], B_test_auroc_cc_list[i]))\n",
    "plt.title('TSR_ALL1_ET_B', fontsize=15)\n",
    "#plt.savefig('PLOT/TSR_ALL1/TSR_ALL1_ET_B.png')\n",
    "plt.show()"
   ]
  },
  {
   "cell_type": "markdown",
   "metadata": {},
   "source": [
    "### XGBClassifier"
   ]
  },
  {
   "cell_type": "code",
   "execution_count": 19,
   "metadata": {},
   "outputs": [],
   "source": [
    "pkl_path = os.path.join(\"..\", \"..\", \"model\", \"model_pickle\", \"TSR_ALL1B_XGBC_BASED.pkl\")\n",
    "B_XGBC_BASED = joblib.load(pkl_path)\n",
    "\n",
    "pkl_path = os.path.join(\"..\", \"..\", \"model\", \"model_pickle\", \"TSR_ALL1B_XGBC_TUNED.pkl\")\n",
    "B_XGBC_TUNED = joblib.load(pkl_path)\n",
    "\n",
    "pkl_path = os.path.join(\"..\", \"..\", \"model\", \"model_pickle\", \"TSR_ALL1B_XGBC_CALIBRATED.pkl\")\n",
    "B_XGBC_CALIBRATED = joblib.load(pkl_path)"
   ]
  },
  {
   "cell_type": "code",
   "execution_count": 20,
   "metadata": {},
   "outputs": [
    {
     "name": "stdout",
     "output_type": "stream",
     "text": [
      "AUC of testing set: 0.8478917054689799\n",
      "--> Tuned Parameters Best Score:  0.8632676750008516\n",
      "--> Best Parameters: \n",
      " {'xgbclassifier__subsample': 0.8, 'xgbclassifier__scale_pos_weight': 0.15, 'xgbclassifier__reg_lambda': 10, 'xgbclassifier__reg_alpha': 0.1, 'xgbclassifier__n_estimators': 150, 'xgbclassifier__max_depth': 75, 'xgbclassifier__learning_rate': 0.1, 'xgbclassifier__gamma': 1, 'xgbclassifier__colsample_bytree': 0.5}\n",
      "AUC of testing set: 0.85790197156547\n",
      "AUC of testing set: 0.8578790463855851\n"
     ]
    }
   ],
   "source": [
    "### BASED XGBC\n",
    "B_y_test_pred = B_XGBC_BASED.predict_proba(B_X_test)\n",
    "fpr, tpr, thresholds = roc_curve(B_y_test, B_y_test_pred[:, 1])\n",
    "B_test_auroc = auc(fpr, tpr)\n",
    "print('AUC of testing set:', B_test_auroc)\n",
    "\n",
    "### TUNED XGBC\n",
    "print(\"--> Tuned Parameters Best Score: \", B_XGBC_TUNED.best_score_)\n",
    "print(\"--> Best Parameters: \\n\", B_XGBC_TUNED.best_params_)\n",
    "\n",
    "B_y_test_pred = B_XGBC_TUNED.predict_proba(B_X_test)\n",
    "fpr, tpr, thresholds = roc_curve(B_y_test, B_y_test_pred[:, 1])\n",
    "B_test_auroc_tuned = auc(fpr, tpr)\n",
    "print('AUC of testing set:', B_test_auroc_tuned)\n",
    "\n",
    "### CALIBRATED XGBC\n",
    "B_y_test_pred = B_XGBC_CALIBRATED.predict_proba(B_X_test)\n",
    "fpr, tpr, thresholds = roc_curve(B_y_test, B_y_test_pred[:, 1])\n",
    "B_test_auroc_cc = auc(fpr, tpr)\n",
    "print('AUC of testing set:', B_test_auroc_cc)"
   ]
  },
  {
   "cell_type": "markdown",
   "metadata": {},
   "source": [
    "#### Selected Columns"
   ]
  },
  {
   "cell_type": "code",
   "execution_count": 21,
   "metadata": {},
   "outputs": [],
   "source": [
    "xgbcB_fi = B_XGBC_CALIBRATED.base_estimator._final_estimator.feature_importances_\n",
    "xgbcB_fi_df = pd.DataFrame(xgbcB_fi)\n",
    "xgbcB_fi_df.index = B_X_test.columns\n",
    "xgbcB_fi_df.columns = ([\"Value\"])\n",
    "xgbcB_fi_df = xgbcB_fi_df.reset_index(drop=False)\n",
    "xgbcB_fi_df.columns = ([\"Feature\",\"Value\"])\n",
    "xgbcB_fi_df = xgbcB_fi_df.sort_values([\"Value\"], ascending=False)"
   ]
  },
  {
   "cell_type": "code",
   "execution_count": 22,
   "metadata": {},
   "outputs": [
    {
     "name": "stdout",
     "output_type": "stream",
     "text": [
      "AUC of testing set: 0.8247070417749751\n",
      "AUC of testing set: 0.8349675668072623\n",
      "AUC of testing set: 0.8346899072580571\n",
      "AUC of testing set: 0.8409423618963416\n",
      "AUC of testing set: 0.8515916102975158\n",
      "AUC of testing set: 0.8511383128163629\n",
      "AUC of testing set: 0.8468637257892747\n",
      "AUC of testing set: 0.8552186294943857\n",
      "AUC of testing set: 0.8547778449600225\n"
     ]
    }
   ],
   "source": [
    "B_test_auroc_list = []\n",
    "B_test_auroc_tuned_list = []\n",
    "B_test_auroc_cc_list = []\n",
    "\n",
    "for i in 10,20,30:\n",
    "    xgbcB_fi_index = xgbcB_fi_df[0:i].index\n",
    "    \n",
    "    B_X_train_selected = B_X_train.iloc[:, xgbcB_fi_index]\n",
    "    \n",
    "    B_X_test_selected = B_X_test.iloc[:, xgbcB_fi_index]\n",
    "    \n",
    "    # base xgbc_selected\n",
    "    xgbc_selected = XGBClassifier(booster = \"gbtree\", random_state=19, use_label_encoder=False, eval_metric = \"auc\", tree_method = \"hist\", n_jobs=-1)\n",
    "    B_XGBC_BASED_selected = xgbc_selected.fit(B_X_train_selected, B_y_train)\n",
    "    \n",
    "    B_y_test_pred = B_XGBC_BASED_selected.predict_proba(B_X_test_selected)\n",
    "    fpr, tpr, thresholds = roc_curve(B_y_test, B_y_test_pred[:, 1])\n",
    "    B_test_auroc_selected = auc(fpr, tpr)\n",
    "    B_test_auroc_list.append(B_test_auroc_selected)\n",
    "    print('AUC of testing set:', B_test_auroc_selected)\n",
    "\n",
    "    # tune xgbc_selected\n",
    "    xgbcB_rscv_selected = B_XGBC_TUNED.best_estimator_\n",
    "    B_XGBC_TUNED_selected = xgbcB_rscv_selected.fit(B_X_train_selected, B_y_train)\n",
    "\n",
    "    B_y_test_pred = B_XGBC_TUNED_selected.predict_proba(B_X_test_selected)\n",
    "    fpr, tpr, thresholds = roc_curve(B_y_test, B_y_test_pred[:, 1])\n",
    "    B_test_auroc_selected_tuned = auc(fpr, tpr)\n",
    "    B_test_auroc_tuned_list.append(B_test_auroc_selected_tuned)\n",
    "    print('AUC of testing set:', B_test_auroc_selected_tuned)\n",
    "\n",
    "    # calibrate xgbc_selected\n",
    "    xgbcB_cccv_selected = CalibratedClassifierCV(base_estimator=B_XGBC_TUNED_selected, cv=5)\n",
    "    B_XGBC_CALIBRATED_selected = xgbcB_cccv_selected.fit(B_X_train_selected, B_y_train)\n",
    "\n",
    "    B_y_test_pred = B_XGBC_CALIBRATED_selected.predict_proba(B_X_test_selected)\n",
    "    fpr, tpr, thresholds = roc_curve(B_y_test, B_y_test_pred[:, 1])\n",
    "    B_test_auroc_selected_cc = auc(fpr, tpr)\n",
    "    B_test_auroc_cc_list.append(B_test_auroc_selected_cc)\n",
    "    print('AUC of testing set:', B_test_auroc_selected_cc)\n",
    "    \n",
    "B_test_auroc_list.append(B_test_auroc)\n",
    "B_test_auroc_tuned_list.append(B_test_auroc_tuned)\n",
    "B_test_auroc_cc_list.append(B_test_auroc_cc)"
   ]
  },
  {
   "cell_type": "code",
   "execution_count": 23,
   "metadata": {},
   "outputs": [
    {
     "data": {
      "image/png": "[encoded data removed]",
      "text/plain": [
       "<Figure size 432x288 with 1 Axes>"
      ]
     },
     "metadata": {
      "needs_background": "light"
     },
     "output_type": "display_data"
    }
   ],
   "source": [
    "x = \"10\",\"20\",\"30\",\"310\"\n",
    "plt.plot(x, B_test_auroc_list, label = \"based\")\n",
    "plt.plot(x, B_test_auroc_tuned_list, label = \"tuned\")\n",
    "plt.plot(x, B_test_auroc_cc_list, label = \"calibrated\")\n",
    "plt.legend()\n",
    "for i in range(len(x)):\n",
    "    plt.annotate(round(B_test_auroc_list[i],3), (x[i], B_test_auroc_list[i]))\n",
    "    plt.annotate(round(B_test_auroc_tuned_list[i],3), (x[i], B_test_auroc_tuned_list[i]))\n",
    "    plt.annotate(round(B_test_auroc_cc_list[i],3), (x[i], B_test_auroc_cc_list[i]))\n",
    "plt.title('TSR_ALL1_XGBC_B', fontsize=15)\n",
    "#plt.savefig('PLOT/TSR_ALL1/TSR_ALL1_XGBC_B.png')\n",
    "plt.show()"
   ]
  },
  {
   "cell_type": "code",
   "execution_count": null,
   "metadata": {},
   "outputs": [],
   "source": []
  }
 ],
 "metadata": {
  "kernelspec": {
   "display_name": "Python 3",
   "language": "python",
   "name": "python3"
  },
  "language_info": {
   "codemirror_mode": {
    "name": "ipython",
    "version": 3
   },
   "file_extension": ".py",
   "mimetype": "text/x-python",
   "name": "python",
   "nbconvert_exporter": "python",
   "pygments_lexer": "ipython3",
   "version": "3.8.10"
  }
 },
 "nbformat": 4,
 "nbformat_minor": 4
}
