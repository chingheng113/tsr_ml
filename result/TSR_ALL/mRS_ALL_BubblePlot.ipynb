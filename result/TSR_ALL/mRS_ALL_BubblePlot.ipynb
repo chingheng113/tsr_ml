{
 "cells": [
  {
   "cell_type": "code",
   "execution_count": null,
   "id": "bfca0a82",
   "metadata": {},
   "outputs": [],
   "source": [
    "import pandas as pd\n",
    "import os\n",
    "import matplotlib.pyplot as plt\n",
    "import seaborn as sns\n",
    "import numpy as np"
   ]
  },
  {
   "cell_type": "code",
   "execution_count": null,
   "id": "0bce9db7",
   "metadata": {},
   "outputs": [],
   "source": [
    "csv_path = os.path.join(\"..\", \"..\", \"data\",\"LINKED_DATA\", \"TSR_ALL\", \"TSR_ALL.csv\")\n",
    "tsr_all = pd.read_csv(csv_path)\n",
    "tsr_all.head()"
   ]
  },
  {
   "cell_type": "code",
   "execution_count": null,
   "id": "b7bba070",
   "metadata": {},
   "outputs": [],
   "source": [
    "barthel = [\"feeding\", \"transfers\", \"bathing\", \"toilet_use\", \"grooming\", \"mobility\", \"stairs\", \"dressing\", \n",
    "           \"bowel_control\", \"bladder_control\"]\n",
    "nihss_out = [\"nihs_1a_out\", \"nihs_1b_out\", \"nihs_1c_out\", \"nihs_2_out\", \"nihs_3_out\", \n",
    "            \"nihs_4_out\", \"nihs_5al_out\", \"nihs_5br_out\", \"nihs_6al_out\", \"nihs_6br_out\", \"nihs_7_out\", \n",
    "            \"nihs_8_out\", \"nihs_9_out\", \"nihs_10_out\", \"nihs_11_out\"]"
   ]
  },
  {
   "cell_type": "code",
   "execution_count": null,
   "id": "31e263d2",
   "metadata": {},
   "outputs": [],
   "source": [
    "tsr_all = tsr_all.drop([\"nihs_1a_in\", \"nihs_1b_in\", \"nihs_1c_in\", \"nihs_2_in\", \"nihs_3_in\", \n",
    "            \"nihs_4_in\", \"nihs_5al_in\", \"nihs_5br_in\", \"nihs_6al_in\", \"nihs_6br_in\", \"nihs_7_in\", \n",
    "            \"nihs_8_in\", \"nihs_9_in\", \"nihs_10_in\", \"nihs_11_in\"], axis = 1)"
   ]
  },
  {
   "cell_type": "code",
   "execution_count": null,
   "id": "6b1a5701",
   "metadata": {},
   "outputs": [],
   "source": [
    "tsr_all[\"discharged_mrs\"][(tsr_all[\"discharged_mrs\"] != 0) & (tsr_all[\"discharged_mrs\"] != 1) & (tsr_all[\"discharged_mrs\"] != 2) & (tsr_all[\"discharged_mrs\"] != 3) & (tsr_all[\"discharged_mrs\"] != 4) & (tsr_all[\"discharged_mrs\"] != 5) & (tsr_all[\"discharged_mrs\"] != 6)]  = np.nan\n",
    "for i in tsr_all[barthel]:\n",
    "    tsr_all[i] = pd.to_numeric(tsr_all[i], errors = \"coerce\")\n",
    "    \n",
    "tsr_all[\"feeding\"][(tsr_all[\"feeding\"] < 0) | (tsr_all[\"feeding\"] > 10)] = np.nan\n",
    "tsr_all[\"transfers\"][(tsr_all[\"transfers\"] < 0) | (tsr_all[\"transfers\"] > 15)] = np.nan\n",
    "tsr_all[\"bathing\"][(tsr_all[\"bathing\"] < 0) | (tsr_all[\"bathing\"] > 5)] = np.nan\n",
    "tsr_all[\"toilet_use\"][(tsr_all[\"toilet_use\"] < 0) | (tsr_all[\"toilet_use\"] > 10)] = np.nan\n",
    "tsr_all[\"grooming\"][(tsr_all[\"grooming\"] < 0) | (tsr_all[\"grooming\"] > 5)] = np.nan\n",
    "tsr_all[\"mobility\"][(tsr_all[\"mobility\"] < 0) | (tsr_all[\"mobility\"] > 15)] = np.nan\n",
    "tsr_all[\"stairs\"][(tsr_all[\"stairs\"] < 0) | (tsr_all[\"stairs\"] > 10)] = np.nan\n",
    "tsr_all[\"dressing\"][(tsr_all[\"dressing\"] < 0) | (tsr_all[\"dressing\"] > 10)] = np.nan\n",
    "tsr_all[\"bowel_control\"][(tsr_all[\"bowel_control\"] < 0) | (tsr_all[\"bowel_control\"] > 10)] = np.nan\n",
    "tsr_all[\"bladder_control\"][(tsr_all[\"bladder_control\"] < 0) | (tsr_all[\"bladder_control\"] > 10)] = np.nan\n",
    "\n",
    "for i in tsr_all[nihss_out]:\n",
    "    tsr_all[i] = pd.to_numeric(tsr_all[i], errors = \"coerce\")\n",
    "\n",
    "tsr_all[\"nihs_1a_out\"][(tsr_all[\"nihs_1a_out\"] < 0) | (tsr_all[\"nihs_1a_out\"] > 3)] = np.nan\n",
    "tsr_all[\"nihs_1b_out\"][(tsr_all[\"nihs_1b_out\"] < 0) | (tsr_all[\"nihs_1b_out\"] > 2)] = np.nan\n",
    "tsr_all[\"nihs_1c_out\"][(tsr_all[\"nihs_1c_out\"] < 0) | (tsr_all[\"nihs_1c_out\"] > 2)] = np.nan\n",
    "tsr_all[\"nihs_2_out\"][(tsr_all[\"nihs_2_out\"] < 0) | (tsr_all[\"nihs_2_out\"] > 2)] = np.nan\n",
    "tsr_all[\"nihs_3_out\"][(tsr_all[\"nihs_3_out\"] < 0) | (tsr_all[\"nihs_3_out\"] > 3)] = np.nan\n",
    "tsr_all[\"nihs_4_out\"][(tsr_all[\"nihs_4_out\"] < 0) | (tsr_all[\"nihs_4_out\"] > 3)] = np.nan\n",
    "tsr_all[\"nihs_5al_out\"][(tsr_all[\"nihs_5al_out\"] < 0) | (tsr_all[\"nihs_5al_out\"] > 4)] = np.nan\n",
    "tsr_all[\"nihs_5br_out\"][(tsr_all[\"nihs_5br_out\"] < 0) | (tsr_all[\"nihs_5br_out\"] > 4)] = np.nan\n",
    "tsr_all[\"nihs_6al_out\"][(tsr_all[\"nihs_6al_out\"] < 0) | (tsr_all[\"nihs_6al_out\"] > 4)] = np.nan\n",
    "tsr_all[\"nihs_6br_out\"][(tsr_all[\"nihs_6br_out\"] < 0) | (tsr_all[\"nihs_6br_out\"] > 4)] = np.nan\n",
    "tsr_all[\"nihs_7_out\"][(tsr_all[\"nihs_7_out\"] < 0) | (tsr_all[\"nihs_7_out\"] > 2)] = np.nan\n",
    "tsr_all[\"nihs_8_out\"][(tsr_all[\"nihs_8_out\"] < 0) | (tsr_all[\"nihs_8_out\"] > 2)] = np.nan\n",
    "tsr_all[\"nihs_9_out\"][(tsr_all[\"nihs_9_out\"] < 0) | (tsr_all[\"nihs_9_out\"] > 3)] = np.nan\n",
    "tsr_all[\"nihs_10_out\"][(tsr_all[\"nihs_10_out\"] < 0) | (tsr_all[\"nihs_10_out\"] > 2)] = np.nan\n",
    "tsr_all[\"nihs_11_out\"][(tsr_all[\"nihs_11_out\"] < 0) | (tsr_all[\"nihs_11_out\"] > 2)] = np.nan"
   ]
  },
  {
   "cell_type": "code",
   "execution_count": null,
   "id": "5e13049d",
   "metadata": {},
   "outputs": [],
   "source": [
    "tsr_all.shape"
   ]
  },
  {
   "cell_type": "code",
   "execution_count": null,
   "id": "ace3c740",
   "metadata": {},
   "outputs": [],
   "source": [
    "tsr_all = tsr_all.dropna()\n",
    "tsr_all.shape"
   ]
  },
  {
   "cell_type": "code",
   "execution_count": null,
   "id": "f2cb92fb",
   "metadata": {},
   "outputs": [],
   "source": [
    "barthel = tsr_all.feeding + tsr_all.transfers + tsr_all.bathing + tsr_all.toilet_use + tsr_all.grooming + tsr_all.mobility + tsr_all.stairs + tsr_all.dressing + tsr_all.bowel_control + tsr_all.bladder_control\n",
    "discharged_mrs = tsr_all.discharged_mrs\n",
    "discharged_mrs_0 = discharged_mrs[discharged_mrs==0]\n",
    "discharged_mrs_1 = discharged_mrs[discharged_mrs==1]\n",
    "discharged_mrs_2 = discharged_mrs[discharged_mrs==2]\n",
    "discharged_mrs_3 = discharged_mrs[discharged_mrs==3]\n",
    "discharged_mrs_4 = discharged_mrs[discharged_mrs==4]\n",
    "discharged_mrs_5 = discharged_mrs[discharged_mrs==5]\n",
    "discharged_mrs_6 = discharged_mrs[discharged_mrs==6]\n",
    "nihss_out = tsr_all.nihs_1a_out + tsr_all.nihs_1b_out + tsr_all.nihs_1c_out + tsr_all.nihs_2_out + tsr_all.nihs_3_out + tsr_all.nihs_4_out + tsr_all.nihs_5al_out + tsr_all.nihs_5br_out + tsr_all.nihs_6al_out + tsr_all.nihs_6br_out + tsr_all.nihs_7_out + tsr_all.nihs_8_out + tsr_all.nihs_9_out + tsr_all.nihs_10_out + tsr_all.nihs_11_out"
   ]
  },
  {
   "cell_type": "code",
   "execution_count": null,
   "id": "68a21901",
   "metadata": {},
   "outputs": [],
   "source": [
    "sns.kdeplot(barthel,hue = discharged_mrs,vertical=False, fill=True, alpha = 0.4, palette=\"hls\", linewidth=1)\n",
    "plt.title(\"barthel\")\n",
    "plt.xlim(0,100)\n",
    "plt.rcParams['figure.figsize'] = (10,5)\n",
    "#plt.legend(loc=1)\n",
    "plt.savefig(\"barthel_all.png\")\n",
    "plt.show()"
   ]
  },
  {
   "cell_type": "code",
   "execution_count": null,
   "id": "8e9cf64b",
   "metadata": {},
   "outputs": [],
   "source": [
    "fig, axes = plt.subplots(4, 2, figsize=(18, 10))\n",
    "fig.suptitle('Barthel index VS mRS')\n",
    "\n",
    "sns.kdeplot(ax=axes[0, 0], x = barthel,hue = discharged_mrs_0,vertical=False, fill=True, alpha = 0.4, palette=\"hls\", linewidth=1)\n",
    "sns.kdeplot(ax=axes[1, 0], x = barthel,hue = discharged_mrs_1,vertical=False, fill=True, alpha = 0.4, palette=\"hls\", linewidth=1)\n",
    "sns.kdeplot(ax=axes[2, 0], x = barthel,hue = discharged_mrs_2,vertical=False, fill=True, alpha = 0.4, palette=\"hls\", linewidth=1)\n",
    "sns.kdeplot(ax=axes[3, 0], x = barthel,hue = discharged_mrs_3,vertical=False, fill=True, alpha = 0.4, palette=\"hls\", linewidth=1)\n",
    "sns.kdeplot(ax=axes[0, 1], x = barthel,hue = discharged_mrs_4,vertical=False, fill=True, alpha = 0.4, palette=\"hls\", linewidth=1)\n",
    "sns.kdeplot(ax=axes[1, 1], x = barthel,hue = discharged_mrs_5,vertical=False, fill=True, alpha = 0.4, palette=\"hls\", linewidth=1)\n",
    "sns.kdeplot(ax=axes[2, 1], x = barthel,hue = discharged_mrs_6,vertical=False, fill=True, alpha = 0.4, palette=\"hls\", linewidth=1)\n",
    "fig.delaxes(axes[3,1])\n",
    "axes[0,0].set_xlim([0, 100])\n",
    "axes[1,0].set_xlim([0, 100])\n",
    "axes[2,0].set_xlim([0, 100])\n",
    "axes[3,0].set_xlim([0, 100])\n",
    "axes[0,1].set_xlim([0, 100])\n",
    "axes[1,1].set_xlim([0, 100])\n",
    "axes[2,1].set_xlim([0, 100])\n",
    "plt.savefig(\"barthel_all_subplot.png\")\n",
    "plt.show()"
   ]
  },
  {
   "cell_type": "code",
   "execution_count": null,
   "id": "6169e8e2",
   "metadata": {},
   "outputs": [],
   "source": [
    "sns.kdeplot(barthel,hue = discharged_mrs_0,vertical=False, fill=True, alpha = 0.4, palette=\"hls\", linewidth=1)\n",
    "plt.title(\"barthel\")\n",
    "plt.xlim(0,100)\n",
    "plt.ylim(0,0.8)\n",
    "plt.rcParams['figure.figsize'] = (10,5)\n",
    "plt.savefig(\"barthel_all_0.png\")\n",
    "plt.show()"
   ]
  },
  {
   "cell_type": "code",
   "execution_count": null,
   "id": "429a906a",
   "metadata": {},
   "outputs": [],
   "source": [
    "sns.kdeplot(barthel,hue = discharged_mrs_1,vertical=False, fill=True, alpha = 0.4, palette=\"hls\", linewidth=1)\n",
    "plt.title(\"barthel\")\n",
    "plt.xlim(0,100)\n",
    "plt.ylim(0,0.8)\n",
    "plt.rcParams['figure.figsize'] = (10,5)\n",
    "plt.savefig(\"barthel_all_1.png\")\n",
    "plt.show()"
   ]
  },
  {
   "cell_type": "code",
   "execution_count": null,
   "id": "bc06a187",
   "metadata": {},
   "outputs": [],
   "source": [
    "sns.kdeplot(barthel,hue = discharged_mrs_2,vertical=False, fill=True, alpha = 0.4, palette=\"hls\", linewidth=1)\n",
    "plt.title(\"barthel\")\n",
    "plt.xlim(0,100)\n",
    "plt.ylim(0,0.8)\n",
    "plt.rcParams['figure.figsize'] = (10,5)\n",
    "plt.savefig(\"barthel_all_2.png\")\n",
    "plt.show()"
   ]
  },
  {
   "cell_type": "code",
   "execution_count": null,
   "id": "2d19459e",
   "metadata": {},
   "outputs": [],
   "source": [
    "sns.kdeplot(barthel,hue = discharged_mrs_3,vertical=False, fill=True, alpha = 0.4, palette=\"hls\", linewidth=1)\n",
    "plt.title(\"barthel\")\n",
    "plt.xlim(0,100)\n",
    "plt.ylim(0,0.8)\n",
    "plt.rcParams['figure.figsize'] = (10,5)\n",
    "plt.savefig(\"barthel_all_3.png\")\n",
    "plt.show()"
   ]
  },
  {
   "cell_type": "code",
   "execution_count": null,
   "id": "452ba2c3",
   "metadata": {},
   "outputs": [],
   "source": [
    "sns.kdeplot(barthel,hue = discharged_mrs_4,vertical=False, fill=True, alpha = 0.4, palette=\"hls\", linewidth=1)\n",
    "plt.title(\"barthel\")\n",
    "plt.xlim(0,100)\n",
    "plt.ylim(0,0.8)\n",
    "plt.rcParams['figure.figsize'] = (10,5)\n",
    "plt.savefig(\"barthel_all_4.png\")\n",
    "plt.show()"
   ]
  },
  {
   "cell_type": "code",
   "execution_count": null,
   "id": "f1e78656",
   "metadata": {},
   "outputs": [],
   "source": [
    "sns.kdeplot(barthel,hue = discharged_mrs_5,vertical=False, fill=True, alpha = 0.4, palette=\"hls\", linewidth=1)\n",
    "plt.title(\"barthel\")\n",
    "plt.xlim(0,100)\n",
    "plt.ylim(0,0.8)\n",
    "plt.rcParams['figure.figsize'] = (10,5)\n",
    "plt.savefig(\"barthel_all_5.png\")\n",
    "plt.show()"
   ]
  },
  {
   "cell_type": "code",
   "execution_count": null,
   "id": "83ab52bf",
   "metadata": {},
   "outputs": [],
   "source": [
    "sns.kdeplot(barthel,hue = discharged_mrs_6,vertical=False, fill=True, alpha = 0.4, palette=\"hls\", linewidth=1)\n",
    "plt.title(\"barthel\")\n",
    "plt.xlim(0,100)\n",
    "plt.ylim(0,0.8)\n",
    "plt.rcParams['figure.figsize'] = (10,5)\n",
    "plt.savefig(\"barthel_all_6.png\")\n",
    "plt.show()"
   ]
  },
  {
   "cell_type": "code",
   "execution_count": null,
   "id": "6b90972f",
   "metadata": {},
   "outputs": [],
   "source": [
    "sns.kdeplot(nihss_out,hue = discharged_mrs,vertical=False, fill=True, alpha = 0.4, palette=\"hls\", linewidth=1)\n",
    "plt.title(\"nihss_out\")\n",
    "plt.xlim(0,42)\n",
    "plt.rcParams['figure.figsize'] = (10,5)\n",
    "plt.savefig(\"nihss_out_all.png\")\n",
    "plt.show()"
   ]
  },
  {
   "cell_type": "code",
   "execution_count": null,
   "id": "cf23c4d4",
   "metadata": {},
   "outputs": [],
   "source": [
    "fig, axes = plt.subplots(4, 2, figsize=(18, 10))\n",
    "fig.suptitle('NIHSS_out VS mRS')\n",
    "\n",
    "sns.kdeplot(ax=axes[0, 0], x = nihss_out,hue = discharged_mrs_0,vertical=False, fill=True, alpha = 0.4, palette=\"hls\", linewidth=1)\n",
    "sns.kdeplot(ax=axes[1, 0], x = nihss_out,hue = discharged_mrs_1,vertical=False, fill=True, alpha = 0.4, palette=\"hls\", linewidth=1)\n",
    "sns.kdeplot(ax=axes[2, 0], x = nihss_out,hue = discharged_mrs_2,vertical=False, fill=True, alpha = 0.4, palette=\"hls\", linewidth=1)\n",
    "sns.kdeplot(ax=axes[3, 0], x = nihss_out,hue = discharged_mrs_3,vertical=False, fill=True, alpha = 0.4, palette=\"hls\", linewidth=1)\n",
    "sns.kdeplot(ax=axes[0, 1], x = nihss_out,hue = discharged_mrs_4,vertical=False, fill=True, alpha = 0.4, palette=\"hls\", linewidth=1)\n",
    "sns.kdeplot(ax=axes[1, 1], x = nihss_out,hue = discharged_mrs_5,vertical=False, fill=True, alpha = 0.4, palette=\"hls\", linewidth=1)\n",
    "sns.kdeplot(ax=axes[2, 1], x = nihss_out,hue = discharged_mrs_6,vertical=False, fill=True, alpha = 0.4, palette=\"hls\", linewidth=1)\n",
    "fig.delaxes(axes[3,1])\n",
    "axes[0,0].set_xlim([0, 42])\n",
    "axes[1,0].set_xlim([0, 42])\n",
    "axes[2,0].set_xlim([0, 42])\n",
    "axes[3,0].set_xlim([0, 42])\n",
    "axes[0,1].set_xlim([0, 42])\n",
    "axes[1,1].set_xlim([0, 42])\n",
    "axes[2,1].set_xlim([0, 42])\n",
    "plt.savefig(\"NIHSS_out_all_subplot.png\")\n",
    "plt.show()"
   ]
  },
  {
   "cell_type": "code",
   "execution_count": null,
   "id": "b6011f9a",
   "metadata": {},
   "outputs": [],
   "source": [
    "sns.kdeplot(nihss_out,hue = discharged_mrs_0,vertical=False, fill=True, alpha = 0.4, palette=\"hls\", linewidth=1)\n",
    "plt.title(\"nihss_out\")\n",
    "plt.xlim(0,42)\n",
    "plt.ylim(0,0.5)\n",
    "plt.rcParams['figure.figsize'] = (10,5)\n",
    "plt.savefig(\"nihss_out_all_0.png\")\n",
    "plt.show()"
   ]
  },
  {
   "cell_type": "code",
   "execution_count": null,
   "id": "4a7fcd03",
   "metadata": {},
   "outputs": [],
   "source": [
    "sns.kdeplot(nihss_out,hue = discharged_mrs_1,vertical=False, fill=True, alpha = 0.4, palette=\"hls\", linewidth=1)\n",
    "plt.title(\"nihss_out\")\n",
    "plt.xlim(0,42)\n",
    "plt.ylim(0,0.5)\n",
    "plt.rcParams['figure.figsize'] = (10,5)\n",
    "plt.savefig(\"nihss_out_all_1.png\")\n",
    "plt.show()"
   ]
  },
  {
   "cell_type": "code",
   "execution_count": null,
   "id": "287cf87d",
   "metadata": {},
   "outputs": [],
   "source": [
    "sns.kdeplot(nihss_out,hue = discharged_mrs_2,vertical=False, fill=True, alpha = 0.4, palette=\"hls\", linewidth=1)\n",
    "plt.title(\"nihss_out\")\n",
    "plt.xlim(0,42)\n",
    "plt.ylim(0,0.5)\n",
    "plt.rcParams['figure.figsize'] = (10,5)\n",
    "plt.savefig(\"nihss_out_all_2.png\")\n",
    "plt.show()"
   ]
  },
  {
   "cell_type": "code",
   "execution_count": null,
   "id": "749a6b4a",
   "metadata": {},
   "outputs": [],
   "source": [
    "sns.kdeplot(nihss_out,hue = discharged_mrs_3,vertical=False, fill=True, alpha = 0.4, palette=\"hls\", linewidth=1)\n",
    "plt.title(\"nihss_out\")\n",
    "plt.xlim(0,42)\n",
    "plt.ylim(0,0.5)\n",
    "plt.rcParams['figure.figsize'] = (10,5)\n",
    "plt.savefig(\"nihss_out_all_3.png\")\n",
    "plt.show()"
   ]
  },
  {
   "cell_type": "code",
   "execution_count": null,
   "id": "293bc7c0",
   "metadata": {},
   "outputs": [],
   "source": [
    "sns.kdeplot(nihss_out,hue = discharged_mrs_4,vertical=False, fill=True, alpha = 0.4, palette=\"hls\", linewidth=1)\n",
    "plt.title(\"nihss_out\")\n",
    "plt.xlim(0,42)\n",
    "plt.ylim(0,0.5)\n",
    "plt.rcParams['figure.figsize'] = (10,5)\n",
    "plt.savefig(\"nihss_out_all_4.png\")\n",
    "plt.show()"
   ]
  },
  {
   "cell_type": "code",
   "execution_count": null,
   "id": "7c65007d",
   "metadata": {},
   "outputs": [],
   "source": [
    "sns.kdeplot(nihss_out,hue = discharged_mrs_5,vertical=False, fill=True, alpha = 0.4, palette=\"hls\", linewidth=1)\n",
    "plt.title(\"nihss_out\")\n",
    "plt.xlim(0,42)\n",
    "plt.ylim(0,0.5)\n",
    "plt.rcParams['figure.figsize'] = (10,5)\n",
    "plt.savefig(\"nihss_out_all_5.png\")\n",
    "plt.show()"
   ]
  },
  {
   "cell_type": "code",
   "execution_count": null,
   "id": "4107734e",
   "metadata": {},
   "outputs": [],
   "source": [
    "sns.kdeplot(nihss_out,hue = discharged_mrs_6,vertical=False, fill=True, alpha = 0.4, palette=\"hls\", linewidth=1)\n",
    "plt.title(\"nihss_out\")\n",
    "plt.xlim(0,42)\n",
    "plt.ylim(0,0.5)\n",
    "plt.rcParams['figure.figsize'] = (10,5)\n",
    "plt.savefig(\"nihss_out_all_6.png\")\n",
    "plt.show()"
   ]
  }
 ],
 "metadata": {
  "kernelspec": {
   "display_name": "Python 3",
   "language": "python",
   "name": "python3"
  },
  "language_info": {
   "codemirror_mode": {
    "name": "ipython",
    "version": 3
   },
   "file_extension": ".py",
   "mimetype": "text/x-python",
   "name": "python",
   "nbconvert_exporter": "python",
   "pygments_lexer": "ipython3",
   "version": "3.8.8"
  }
 },
 "nbformat": 4,
 "nbformat_minor": 5
}
