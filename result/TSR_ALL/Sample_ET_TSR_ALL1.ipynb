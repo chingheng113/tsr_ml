{
 "cells": [
  {
   "cell_type": "code",
   "execution_count": 1,
   "id": "b4566dcb",
   "metadata": {},
   "outputs": [],
   "source": [
    "import pandas as pd\n",
    "import os\n",
    "import numpy as np\n",
    "from sklearn.model_selection import train_test_split\n",
    "from sklearn.metrics import auc, roc_curve\n",
    "from sklearn.ensemble import ExtraTreesClassifier\n",
    "from xgboost import XGBClassifier\n",
    "from sklearn.model_selection import GridSearchCV\n",
    "from sklearn.calibration import CalibratedClassifierCV"
   ]
  },
  {
   "cell_type": "markdown",
   "id": "3db9eb56",
   "metadata": {},
   "source": [
    "# Import datasets"
   ]
  },
  {
   "cell_type": "code",
   "execution_count": 2,
   "id": "8ac50c59",
   "metadata": {},
   "outputs": [
    {
     "data": {
      "text/plain": [
       "(44850, 233)"
      ]
     },
     "execution_count": 2,
     "metadata": {},
     "output_type": "execute_result"
    }
   ],
   "source": [
    "csv_path = os.path.join(\"..\", \"..\", \"data\",\"LINKED_DATA\", \"TSR_ALL\", \"TSR_ALL1\", \"TSR_ALL1_MICE1.csv\")\n",
    "tsr_all1_df = pd.read_csv(csv_path)\n",
    "tsr_all1_df.shape"
   ]
  },
  {
   "cell_type": "markdown",
   "id": "bb1b1fdd",
   "metadata": {},
   "source": [
    "# Convert the multiple feature and outcome into binary ones"
   ]
  },
  {
   "cell_type": "code",
   "execution_count": 3,
   "id": "f7f96356",
   "metadata": {},
   "outputs": [
    {
     "name": "stderr",
     "output_type": "stream",
     "text": [
      "<ipython-input-3-ba86dd1f2e79>:2: SettingWithCopyWarning: \n",
      "A value is trying to be set on a copy of a slice from a DataFrame\n",
      "\n",
      "See the caveats in the documentation: https://pandas.pydata.org/pandas-docs/stable/user_guide/indexing.html#returning-a-view-versus-a-copy\n",
      "  mRS1[(mRS1 == 0) | (mRS1 == 1) | (mRS1 == 2)] = 1 #GOOD\n",
      "<ipython-input-3-ba86dd1f2e79>:3: SettingWithCopyWarning: \n",
      "A value is trying to be set on a copy of a slice from a DataFrame\n",
      "\n",
      "See the caveats in the documentation: https://pandas.pydata.org/pandas-docs/stable/user_guide/indexing.html#returning-a-view-versus-a-copy\n",
      "  mRS1[(mRS1 == 3) | (mRS1 == 4) | (mRS1 == 5) | (mRS1 == 6) | (mRS1 == 9)] = 0 #BAD\n"
     ]
    }
   ],
   "source": [
    "mRS1 = tsr_all1_df.mrs_tx_1\n",
    "mRS1[(mRS1 == 0) | (mRS1 == 1) | (mRS1 == 2)] = 1 #GOOD\n",
    "mRS1[(mRS1 == 3) | (mRS1 == 4) | (mRS1 == 5) | (mRS1 == 6) | (mRS1 == 9)] = 0 #BAD\n",
    "# discharged = tsr_all1_df.discharged_mrs\n",
    "# discharged[(discharged == 0) | (discharged == 1) | (discharged == 2)] = 1 #GOOD\n",
    "# discharged[(discharged == 3) | (discharged == 4) | (discharged == 5) | (discharged == 6) | (discharged == 9)] = 0 #BAD"
   ]
  },
  {
   "cell_type": "markdown",
   "id": "08588ed7",
   "metadata": {},
   "source": [
    "# Group all features and the outcome"
   ]
  },
  {
   "cell_type": "code",
   "execution_count": 4,
   "id": "18f3cc4b",
   "metadata": {},
   "outputs": [],
   "source": [
    "nominal_features = [\"edu_id\", \"pro_id\", \"opc_id\", \"toast_id\", \"offdt_id\", \"gender_tx\", \"hd_id\", \"pcva_id\",\n",
    "                    \"pcvaci_id\", \"pcvach_id\", \"po_id\", \"ur_id\", \"sm_id\", \"ptia_id\", \"hc_id\", \"hcht_id\",\n",
    "                    \"hchc_id\", \"ht_id\", \"dm_id\", \"pad_id\", \"al_id\", \"ca_id\", \"fahiid_parents_1\",\n",
    "                    \"fahiid_parents_2\", \"fahiid_parents_3\", \"fahiid_parents_4\", \"fahiid_brsi_1\",\n",
    "                    \"fahiid_brsi_2\", \"fahiid_brsi_3\", \"fahiid_brsi_4\"]\n",
    "ordinal_features = [\"gcse_nm\", \"gcsv_nm\", \"gcsm_nm\", \"discharged_mrs\", \"feeding\", \"transfers\",\n",
    "                    \"bathing\", \"toilet_use\", \"grooming\", \"mobility\", \"stairs\", \"dressing\", \"bowel_control\",\n",
    "                    \"bladder_control\", \"nihs_1a_in\", \"nihs_1b_in\", \"nihs_1c_in\", \"nihs_2_in\", \"nihs_3_in\", \"nihs_4_in\",\n",
    "                    \"nihs_5al_in\", \"nihs_5br_in\", \"nihs_6al_in\", \"nihs_6br_in\", \"nihs_7_in\", \"nihs_8_in\", \"nihs_9_in\",\n",
    "                    \"nihs_10_in\", \"nihs_11_in\", \"nihs_1a_out\", \"nihs_1b_out\", \"nihs_1c_out\", \"nihs_2_out\", \"nihs_3_out\",\n",
    "                    \"nihs_4_out\", \"nihs_5al_out\", \"nihs_5br_out\", \"nihs_6al_out\", \"nihs_6br_out\", \"nihs_7_out\",\n",
    "                    \"nihs_8_out\", \"nihs_9_out\", \"nihs_10_out\", \"nihs_11_out\"]\n",
    "boolean = [\"toastle_fl\", \"toastli_fl\", \"toastsce_fl\", \"toastsmo_fl\", \"toastsra_fl\", \"toastsdi_fl\",\n",
    "           \"toastsmi_fl\", \"toastsantip_fl\", \"toastsau_fl\", \"toastshy_fl\", \"toastspr_fl\", \"toastsantit_fl\",\n",
    "           \"toastsho_fl\", \"toastshys_fl\", \"toastsca_fl\", \"thda_fl\", \"thdh_fl\", \"thdi_fl\", \"thdam_fl\", \"thdv_fl\",\n",
    "           \"thde_fl\", \"thdm_fl\", \"thdr_fl\", \"thdp_fl\", \"trman_fl\", \"trmas_fl\", \"trmti_fl\", \"trmhe_fl\",\n",
    "           \"trmwa_fl\", \"trmia_fl\", \"trmfo_fl\", \"trmta_fl\", \"trmsd_fl\", \"trmre_fl\", \"trmen_fl\", \"trmag_fl\",\n",
    "           \"trmcl_fl\", \"trmpl_fl\", \"trmlm_fl\", \"trmiv_fl\", \"trmve_fl\", \"trmng_fl\", \"trmdy_fl\", \"trmicu_fl\",\n",
    "           \"trmsm_fl\", \"trmed_fl\", \"trmop_fl\", \"om_fl\", \"omas_fl\", \"omag_fl\", \"omti_fl\", \"omcl_fl\", \"omwa_fl\",\n",
    "           \"ompl_fl\", \"omanh_fl\", \"omand_fl\", \"omli_fl\", \"am_fl\", \"amas_fl\", \"amag_fl\", \"amti_fl\", \"amcl_fl\",\n",
    "           \"amwa_fl\", \"ampl_fl\", \"amanh_fl\", \"amand_fl\", \"amli_fl\", \"compn_fl\", \"comut_fl\", \"comug_fl\",\n",
    "           \"compr_fl\", \"compu_fl\", \"comac_fl\", \"comse_fl\", \"comde_fl\", \"detst_fl\", \"dethe_fl\", \"detho_fl\",\n",
    "           \"detha_fl\", \"detva_fl\", \"detre_fl\", \"detme_fl\", \"ct_fl\", \"mri_fl\", \"ecgl_fl\", \"ecga_fl\", \"ecgq_fl\",\n",
    "           \"cortical_aca_ctr\", \"cortical_mca_ctr\", \"subcortical_aca_ctr\", \"subcortical_mca_ctr\", \"pca_cortex_ctr\",\n",
    "           \"thalamus_ctr\", \"brainstem_ctr\", \"cerebellum_ctr\", \"watershed_ctr\", \"hemorrhagic_infarct_ctr\",\n",
    "           \"old_stroke_ctci\", \"cortical_aca_ctl\", \"cortical_mca_ctl\", \"subcortical_aca_ctl\", \"subcortical_mca_ctl\",\n",
    "           \"pca_cortex_ctl\", \"thalamus_ctl\", \"brainstem_ctl\", \"cerebellum_ctl\", \"watershed_ctl\",\n",
    "           \"hemorrhagic_infarct_ctl\", \"old_stroke_ctch\", \"cortical_aca_mrir\", \"cortical_mca_mrir\",\n",
    "           \"subcortical_aca_mrir\", \"subcortical_mca_mrir\", \"pca_cortex_mrir\", \"thalamus_mrir\", \"brainstem_mrir\",\n",
    "           \"cerebellum_mrir\", \"watershed_mrir\", \"hemorrhagic_infarct_mrir\", \"old_stroke_mrici\", \"cortical_aca_mril\",\n",
    "           \"cortical_mca_mril\", \"subcortical_aca_mril\", \"subcortical_mca_mril\", \"pca_cortex_mril\",\n",
    "           \"thalamus_mril\", \"brainstem_mril\", \"cerebellum_mril\", \"watershed_mril\", \"hemorrhagic_infarct_mril\",\n",
    "           \"old_stroke_mrich\"]\n",
    "continuous = [\"height_nm\", \"weight_nm\", \"sbp_nm\", \"dbp_nm\", \"bt_nm\", \"hr_nm\", \"rr_nm\", \"hb_nm\",\n",
    "              \"hct_nm\", \"platelet_nm\", \"wbc_nm\", \"ptt1_nm\", \"ptt2_nm\", \"ptinr_nm\", \"er_nm\", \"bun_nm\",\n",
    "              \"cre_nm\", \"ua_nm\", \"tcho_nm\", \"tg_nm\", \"hdl_nm\",\n",
    "              \"ldl_nm\", \"gpt_nm\", \"age\", \"hospitalised_time\"]\n",
    "labels = [\"mrs_tx_1\"]"
   ]
  },
  {
   "cell_type": "markdown",
   "id": "f6dc6c19",
   "metadata": {},
   "source": [
    "# Machine Learning"
   ]
  },
  {
   "cell_type": "markdown",
   "id": "2d26083a",
   "metadata": {},
   "source": [
    "## Preprocess input data (GOOD when Discharge)"
   ]
  },
  {
   "cell_type": "code",
   "execution_count": 156,
   "id": "7594a90b",
   "metadata": {},
   "outputs": [],
   "source": [
    "## discharged mRS = GOOD (tsr_all1_df.discharged_mrs == 1)\n",
    "mrs_dis1 = tsr_all1_df[(tsr_all1_df.discharged_mrs == 1) | (tsr_all1_df.discharged_mrs == 0) | (tsr_all1_df.discharged_mrs == 2)]"
   ]
  },
  {
   "cell_type": "code",
   "execution_count": 157,
   "id": "4273edd8",
   "metadata": {},
   "outputs": [
    {
     "name": "stdout",
     "output_type": "stream",
     "text": [
      "(20706, 230)\n"
     ]
    }
   ],
   "source": [
    "## input dataset\n",
    "tsr_1G_input = mrs_dis1.drop([\"icase_id\", \"idcase_id\", \"mrs_tx_1\"], axis=1)\n",
    "print(tsr_1G_input.shape)\n",
    "tsr_1G_input = tsr_1G_input.astype(\"float64\")\n",
    "tsr_1G_input = np.array(tsr_1G_input.values)"
   ]
  },
  {
   "cell_type": "code",
   "execution_count": 158,
   "id": "0f6af6bd",
   "metadata": {},
   "outputs": [
    {
     "name": "stdout",
     "output_type": "stream",
     "text": [
      "(20706,)\n"
     ]
    }
   ],
   "source": [
    "## output dataset\n",
    "tsr_1G_output = mrs_dis1.mrs_tx_1\n",
    "print(tsr_1G_output.shape)\n",
    "tsr_1G_output = tsr_1G_output.astype(\"float64\")\n",
    "tsr_1G_output = np.array(tsr_1G_output.values)"
   ]
  },
  {
   "cell_type": "code",
   "execution_count": 159,
   "id": "82a9b892",
   "metadata": {},
   "outputs": [
    {
     "name": "stdout",
     "output_type": "stream",
     "text": [
      "The shape of GOOD's X_train: (14494, 230)\n",
      "The shape of GOOD's y_train: (14494,)\n",
      "The shape of GOOD's X_test: (6212, 230)\n",
      "The shape of GOOD's y_test: (6212,)\n"
     ]
    }
   ],
   "source": [
    "## train_test_split\n",
    "G_X_train, G_X_test, G_y_train, G_y_test = train_test_split(tsr_1G_input, tsr_1G_output, test_size=0.3, random_state=19)\n",
    "print(\"The shape of GOOD's X_train:\", G_X_train.shape)\n",
    "print(\"The shape of GOOD's y_train:\", G_y_train.shape)\n",
    "print(\"The shape of GOOD's X_test:\", G_X_test.shape)\n",
    "print(\"The shape of GOOD's y_test:\", G_y_test.shape)"
   ]
  },
  {
   "cell_type": "code",
   "execution_count": 160,
   "id": "2e3a6f8f",
   "metadata": {},
   "outputs": [],
   "source": [
    "## scale G_X_train\n",
    "from sklearn.preprocessing import MinMaxScaler\n",
    "from sklearn.preprocessing import OrdinalEncoder\n",
    "from sklearn.preprocessing import OneHotEncoder\n",
    "G_X_train = pd.DataFrame(G_X_train)\n",
    "G_X_train.columns = tsr_all1_df.drop([\"icase_id\", \"idcase_id\", \"mrs_tx_1\"], axis=1).columns\n",
    "\n",
    "scaler = MinMaxScaler()\n",
    "G_X_train[continuous] = scaler.fit_transform(G_X_train[continuous])\n",
    "\n",
    "encoder = OrdinalEncoder(handle_unknown=\"use_encoded_value\", unknown_value=6)\n",
    "G_X_train[ordinal_features] = encoder.fit_transform(G_X_train[ordinal_features])\n",
    "\n",
    "ohe = OneHotEncoder(sparse=False, handle_unknown = \"ignore\")\n",
    "nominal_train = ohe.fit_transform(G_X_train[nominal_features])\n",
    "G_X_train = pd.concat([G_X_train, pd.DataFrame(nominal_train)], axis=1)\n",
    "G_X_train = G_X_train.drop(nominal_features, axis=1)\n",
    "\n",
    "G_X_train = np.array(G_X_train.values)"
   ]
  },
  {
   "cell_type": "code",
   "execution_count": 161,
   "id": "2206c94c",
   "metadata": {},
   "outputs": [],
   "source": [
    "## scale G_X_test\n",
    "G_X_test = pd.DataFrame(G_X_test)\n",
    "G_X_test.columns = tsr_all1_df.drop([\"icase_id\", \"idcase_id\", \"mrs_tx_1\"], axis=1).columns\n",
    "\n",
    "G_X_test[continuous] = scaler.transform(G_X_test[continuous])\n",
    "\n",
    "G_X_test[ordinal_features] = encoder.transform(G_X_test[ordinal_features])\n",
    "\n",
    "nominal_test = ohe.transform(G_X_test[nominal_features])\n",
    "G_X_test = pd.concat([G_X_test, pd.DataFrame(nominal_test)], axis=1)\n",
    "G_X_test = G_X_test.drop(nominal_features, axis=1)\n",
    "\n",
    "G_X_test = np.array(G_X_test.values)"
   ]
  },
  {
   "cell_type": "markdown",
   "id": "27deb647",
   "metadata": {},
   "source": [
    "## Undersampling"
   ]
  },
  {
   "cell_type": "code",
   "execution_count": 11,
   "id": "5a79f65f",
   "metadata": {},
   "outputs": [
    {
     "name": "stdout",
     "output_type": "stream",
     "text": [
      "Original dataset shape Counter({1.0: 14041, 0.0: 453})\n",
      "Resampled dataset shape Counter({1.0: 13980, 0.0: 453})\n"
     ]
    }
   ],
   "source": [
    "# Step 1 - TomekLinks\n",
    "from collections import Counter\n",
    "from imblearn.under_sampling import TomekLinks\n",
    "print('Original dataset shape %s' % Counter(G_y_train))\n",
    "tl = TomekLinks()\n",
    "G_X_train_tl, G_y_train_tl = tl.fit_resample(G_X_train, G_y_train)\n",
    "print('Resampled dataset shape %s' % Counter(G_y_train_tl))"
   ]
  },
  {
   "cell_type": "raw",
   "id": "8531c4db",
   "metadata": {},
   "source": [
    "# Step 2 - RandomUnderSampler\n",
    "from collections import Counter\n",
    "from imblearn.under_sampling import RandomUnderSampler\n",
    "print('Original dataset shape %s' % Counter(G_y_train_tl))\n",
    "rus = RandomUnderSampler(sampling_strategy='majority', random_state=19)\n",
    "G_X_train_rus, G_y_train_rus = rus.fit_resample(G_X_train_tl, G_y_train_tl)\n",
    "print('Resampled dataset shape %s' % Counter(G_y_train_rus))"
   ]
  },
  {
   "cell_type": "markdown",
   "id": "c5b52fea",
   "metadata": {},
   "source": [
    "## Algorithms"
   ]
  },
  {
   "cell_type": "code",
   "execution_count": 12,
   "id": "7d102b8c",
   "metadata": {},
   "outputs": [
    {
     "name": "stdout",
     "output_type": "stream",
     "text": [
      "AUC of training set: 1.0\n",
      "AUC of testing set: 0.6995404529212713\n"
     ]
    }
   ],
   "source": [
    "### base et \n",
    "et = ExtraTreesClassifier(random_state=19)\n",
    "et.fit(G_X_train_tl, G_y_train_tl)\n",
    "G_y_train_pred = et.predict_proba(G_X_train_tl)\n",
    "fpr, tpr, thresholds = roc_curve(G_y_train_tl, G_y_train_pred[:, 1])\n",
    "G_train_auroc = auc(fpr, tpr)\n",
    "print('AUC of training set:', G_train_auroc)\n",
    "G_y_test_pred = et.predict_proba(G_X_test)\n",
    "fpr, tpr, thresholds = roc_curve(G_y_test, G_y_test_pred[:, 1])\n",
    "G_test_auroc = auc(fpr, tpr)\n",
    "print('AUC of testing set:', G_test_auroc)\n",
    "\n",
    "# confusion_matrix(G_y_test, G_y_predicted)"
   ]
  },
  {
   "cell_type": "code",
   "execution_count": 13,
   "id": "edb19bb1",
   "metadata": {},
   "outputs": [
    {
     "name": "stdout",
     "output_type": "stream",
     "text": [
      "Fitting 5 folds for each of 3888 candidates, totalling 19440 fits\n"
     ]
    },
    {
     "name": "stderr",
     "output_type": "stream",
     "text": [
      "C:\\Users\\Jacky C\\anaconda3\\envs\\tsr_ml\\lib\\site-packages\\sklearn\\model_selection\\_search.py:922: UserWarning: One or more of the test scores are non-finite: [0.6629769  0.6629769  0.67994889 ... 0.72364624        nan 0.72912653]\n",
      "  warnings.warn(\n"
     ]
    },
    {
     "name": "stdout",
     "output_type": "stream",
     "text": [
      "--> Tuned Parameters Best Score:  0.7416387094069498\n",
      "--> Best Parameters: \n",
      " {'bootstrap': True, 'class_weight': {0: 25, 1: 1}, 'criterion': 'gini', 'max_depth': 25, 'max_features': 'auto', 'max_samples': 0.7, 'min_samples_split': 100, 'n_estimators': 150, 'oob_score': True}\n"
     ]
    }
   ],
   "source": [
    "hyperparameters_et = {\"n_estimators\": (50, 100, 150),\n",
    "                      \"criterion\": (\"gini\", \"entropy\"),\n",
    "                      \"max_depth\": (25, 50, 100),\n",
    "                      \"min_samples_split\": (25, 50, 100),\n",
    "                      \"max_features\": (\"auto\", \"sqrt\", \"log2\"),\n",
    "                      \"bootstrap\": (True, False),\n",
    "                      \"class_weight\": ('balanced', {0: 1, 1: 25}, {0: 25, 1: 1}),\n",
    "                      \"max_samples\": (100, 0.7),\n",
    "                      \"oob_score\": (True, False)}\n",
    "\n",
    "etG_gscv = GridSearchCV(estimator=ExtraTreesClassifier(random_state=19),\n",
    "                       param_grid=hyperparameters_et,\n",
    "                       n_jobs=-1,\n",
    "                       scoring='roc_auc',\n",
    "                       verbose=5,\n",
    "                       cv=5)\n",
    "\n",
    "etG_gsCV = etG_gscv.fit(G_X_train_tl, G_y_train_tl)\n",
    "print('--> Tuned Parameters Best Score: ', etG_gsCV.best_score_)\n",
    "print('--> Best Parameters: \\n', etG_gsCV.best_params_)"
   ]
  },
  {
   "cell_type": "code",
   "execution_count": 14,
   "id": "13690365",
   "metadata": {},
   "outputs": [
    {
     "name": "stdout",
     "output_type": "stream",
     "text": [
      "AUC of training set: 0.9651785742482955\n",
      "AUC of testing set: 0.7378698028822263\n"
     ]
    }
   ],
   "source": [
    "G_y_train_pred = etG_gsCV.predict_proba(G_X_train_tl)\n",
    "fpr, tpr, thresholds = roc_curve(G_y_train_tl, G_y_train_pred[:, 1])\n",
    "G_train_auroc = auc(fpr, tpr)\n",
    "print('AUC of training set:', G_train_auroc)\n",
    "\n",
    "G_y_test_pred = etG_gsCV.predict_proba(G_X_test)\n",
    "fpr, tpr, thresholds = roc_curve(G_y_test, G_y_test_pred[:, 1])\n",
    "G_test_auroc = auc(fpr, tpr)\n",
    "print('AUC of testing set:', G_test_auroc)"
   ]
  },
  {
   "cell_type": "markdown",
   "id": "af0ec38f",
   "metadata": {},
   "source": [
    "## CalibratedClassifierCV"
   ]
  },
  {
   "cell_type": "code",
   "execution_count": 88,
   "id": "35eb3c6d",
   "metadata": {},
   "outputs": [
    {
     "name": "stdout",
     "output_type": "stream",
     "text": [
      "AUC of training set: 0.9610114733441341\n",
      "AUC of testing set: 0.7435878747722378\n"
     ]
    }
   ],
   "source": [
    "etG_cccv = CalibratedClassifierCV(base_estimator=etG_gsCV.best_estimator_, cv=5)\n",
    "etG_ccCV = etG_cccv.fit(G_X_train_tl, G_y_train_tl)\n",
    "\n",
    "G_y_train_pred = etG_ccCV.predict_proba(G_X_train_tl)\n",
    "fpr, tpr, thresholds = roc_curve(G_y_train_tl, G_y_train_pred[:, 1])\n",
    "G_train_auroc = auc(fpr, tpr)\n",
    "print('AUC of training set:', G_train_auroc)\n",
    "\n",
    "G_y_test_pred = etG_ccCV.predict_proba(G_X_test)\n",
    "fpr, tpr, thresholds = roc_curve(G_y_test, G_y_test_pred[:, 1])\n",
    "G_test_auroc = auc(fpr, tpr)\n",
    "print('AUC of testing set:', G_test_auroc)"
   ]
  },
  {
   "cell_type": "markdown",
   "id": "bfc9c786",
   "metadata": {},
   "source": [
    "## Threshold"
   ]
  },
  {
   "cell_type": "code",
   "execution_count": 128,
   "id": "7093248b",
   "metadata": {},
   "outputs": [],
   "source": [
    "etG_sigma = etG_gsCV.best_estimator_.feature_importances_"
   ]
  },
  {
   "cell_type": "code",
   "execution_count": 129,
   "id": "ebbac249",
   "metadata": {},
   "outputs": [],
   "source": [
    "etG_sigma_df = pd.DataFrame(etG_sigma)"
   ]
  },
  {
   "cell_type": "code",
   "execution_count": 130,
   "id": "40896c2d",
   "metadata": {},
   "outputs": [],
   "source": [
    "etG_sigma_min = etG_sigma.min()\n",
    "etG_sigma_std = etG_sigma.std()\n",
    "etG_sigma_threshold = etG_sigma_min + etG_sigma_std"
   ]
  },
  {
   "cell_type": "code",
   "execution_count": 131,
   "id": "a40cb431",
   "metadata": {},
   "outputs": [],
   "source": [
    "etG_sigma_index = etG_sigma_df[etG_sigma_df > etG_sigma_threshold].dropna().index"
   ]
  },
  {
   "cell_type": "code",
   "execution_count": 133,
   "id": "cc394f88",
   "metadata": {},
   "outputs": [
    {
     "data": {
      "text/plain": [
       "Int64Index([  0,   1,   7,  10,  11,  13,  27,  34,  35,  43,  58,  59,  68,\n",
       "             69,  70,  71,  74,  77,  80,  81,  82,  83,  84,  90,  91,  92,\n",
       "            108, 110, 114, 116, 117, 118, 119, 120, 123, 128, 131, 134, 138,\n",
       "            147, 149, 158, 160, 173, 174, 176, 177, 181, 188, 189, 190, 191,\n",
       "            192, 194, 196, 198, 199, 200, 201, 204, 207, 211, 213, 222, 223,\n",
       "            231, 233, 234, 236, 237, 239, 240, 251, 252, 257, 260, 261, 263,\n",
       "            264, 266, 267, 269, 270, 278, 284, 293, 294, 295, 297, 299, 301,\n",
       "            303, 305, 307],\n",
       "           dtype='int64')"
      ]
     },
     "execution_count": 133,
     "metadata": {},
     "output_type": "execute_result"
    }
   ],
   "source": [
    "etG_sigma_index"
   ]
  },
  {
   "cell_type": "markdown",
   "id": "c05b1ea2",
   "metadata": {},
   "source": [
    "## Selected Columns"
   ]
  },
  {
   "cell_type": "code",
   "execution_count": 162,
   "id": "3c607d34",
   "metadata": {},
   "outputs": [],
   "source": [
    "G_X_train = pd.DataFrame(G_X_train)\n",
    "G_X_train_selected = G_X_train.iloc[:, etG_sigma_index]"
   ]
  },
  {
   "cell_type": "code",
   "execution_count": 163,
   "id": "18c0dcf2",
   "metadata": {},
   "outputs": [],
   "source": [
    "G_X_test = pd.DataFrame(G_X_test)\n",
    "G_X_test_selected = G_X_test.iloc[:, etG_sigma_index]"
   ]
  },
  {
   "cell_type": "code",
   "execution_count": 164,
   "id": "7278dad3",
   "metadata": {},
   "outputs": [
    {
     "name": "stdout",
     "output_type": "stream",
     "text": [
      "Original dataset shape Counter({1.0: 14041, 0.0: 453})\n",
      "Resampled dataset shape Counter({1.0: 13956, 0.0: 453})\n"
     ]
    }
   ],
   "source": [
    "# Step 1 - TomekLinks\n",
    "from collections import Counter\n",
    "from imblearn.under_sampling import TomekLinks\n",
    "print('Original dataset shape %s' % Counter(G_y_train))\n",
    "tl = TomekLinks()\n",
    "G_X_train_tl, G_y_train_tl = tl.fit_resample(G_X_train_selected, G_y_train)\n",
    "print('Resampled dataset shape %s' % Counter(G_y_train_tl))"
   ]
  },
  {
   "cell_type": "code",
   "execution_count": 166,
   "id": "a70e54d0",
   "metadata": {},
   "outputs": [
    {
     "name": "stdout",
     "output_type": "stream",
     "text": [
      "AUC of training set: 1.0\n",
      "AUC of testing set: 0.7046588892306964\n"
     ]
    }
   ],
   "source": [
    "### base et \n",
    "et = ExtraTreesClassifier(random_state=19)\n",
    "et.fit(G_X_train_tl, G_y_train_tl)\n",
    "G_y_train_pred = et.predict_proba(G_X_train_tl)\n",
    "fpr, tpr, thresholds = roc_curve(G_y_train_tl, G_y_train_pred[:, 1])\n",
    "G_train_auroc = auc(fpr, tpr)\n",
    "print('AUC of training set:', G_train_auroc)\n",
    "G_y_test_pred = et.predict_proba(G_X_test_selected)\n",
    "fpr, tpr, thresholds = roc_curve(G_y_test, G_y_test_pred[:, 1])\n",
    "G_test_auroc = auc(fpr, tpr)\n",
    "print('AUC of testing set:', G_test_auroc)\n",
    "\n",
    "# confusion_matrix(G_y_test, G_y_predicted)"
   ]
  },
  {
   "cell_type": "code",
   "execution_count": 167,
   "id": "7d1afa55",
   "metadata": {},
   "outputs": [
    {
     "name": "stdout",
     "output_type": "stream",
     "text": [
      "Fitting 5 folds for each of 3888 candidates, totalling 19440 fits\n"
     ]
    },
    {
     "name": "stderr",
     "output_type": "stream",
     "text": [
      "C:\\Users\\Jacky C\\anaconda3\\envs\\tsr_ml\\lib\\site-packages\\sklearn\\model_selection\\_search.py:922: UserWarning: One or more of the test scores are non-finite: [0.68480041 0.68480041 0.70218983 ... 0.73112523        nan 0.73425352]\n",
      "  warnings.warn(\n"
     ]
    },
    {
     "name": "stdout",
     "output_type": "stream",
     "text": [
      "--> Tuned Parameters Best Score:  0.7555806358239706\n",
      "--> Best Parameters: \n",
      " {'bootstrap': True, 'class_weight': {0: 1, 1: 25}, 'criterion': 'entropy', 'max_depth': 25, 'max_features': 'auto', 'max_samples': 0.7, 'min_samples_split': 100, 'n_estimators': 100, 'oob_score': True}\n"
     ]
    }
   ],
   "source": [
    "hyperparameters_et = {\"n_estimators\": (50, 100, 150),\n",
    "                      \"criterion\": (\"gini\", \"entropy\"),\n",
    "                      \"max_depth\": (25, 50, 100),\n",
    "                      \"min_samples_split\": (25, 50, 100),\n",
    "                      \"max_features\": (\"auto\", \"sqrt\", \"log2\"),\n",
    "                      \"bootstrap\": (True, False),\n",
    "                      \"class_weight\": ('balanced', {0: 1, 1: 25}, {0: 25, 1: 1}),\n",
    "                      \"max_samples\": (100, 0.7),\n",
    "                      \"oob_score\": (True, False)}\n",
    "\n",
    "etG_gscv = GridSearchCV(estimator=ExtraTreesClassifier(random_state=19),\n",
    "                       param_grid=hyperparameters_et,\n",
    "                       n_jobs=-1,\n",
    "                       scoring='roc_auc',\n",
    "                       verbose=5,\n",
    "                       cv=5)\n",
    "\n",
    "etG_gsCV = etG_gscv.fit(G_X_train_tl, G_y_train_tl)\n",
    "print('--> Tuned Parameters Best Score: ', etG_gsCV.best_score_)\n",
    "print('--> Best Parameters: \\n', etG_gsCV.best_params_)"
   ]
  },
  {
   "cell_type": "code",
   "execution_count": 168,
   "id": "4cc3ea19",
   "metadata": {},
   "outputs": [
    {
     "name": "stdout",
     "output_type": "stream",
     "text": [
      "AUC of training set: 0.9257194006771203\n",
      "AUC of testing set: 0.7324943798954069\n"
     ]
    }
   ],
   "source": [
    "G_y_train_pred = etG_gsCV.predict_proba(G_X_train_tl)\n",
    "fpr, tpr, thresholds = roc_curve(G_y_train_tl, G_y_train_pred[:, 1])\n",
    "G_train_auroc = auc(fpr, tpr)\n",
    "print('AUC of training set:', G_train_auroc)\n",
    "\n",
    "G_y_test_pred = etG_gsCV.predict_proba(G_X_test_selected)\n",
    "fpr, tpr, thresholds = roc_curve(G_y_test, G_y_test_pred[:, 1])\n",
    "G_test_auroc = auc(fpr, tpr)\n",
    "print('AUC of testing set:', G_test_auroc)"
   ]
  },
  {
   "cell_type": "code",
   "execution_count": 172,
   "id": "a6e285e5",
   "metadata": {},
   "outputs": [
    {
     "name": "stdout",
     "output_type": "stream",
     "text": [
      "AUC of training set: 0.9088301486159276\n",
      "AUC of testing set: 0.7055188243924371\n"
     ]
    }
   ],
   "source": [
    "etG_cccv = CalibratedClassifierCV(base_estimator=etG_gsCV.best_estimator_, cv=5)\n",
    "etG_ccCV = etG_cccv.fit(G_X_train_tl, G_y_train_tl)\n",
    "\n",
    "G_y_train_pred = etG_ccCV.predict_proba(G_X_train_tl)\n",
    "fpr, tpr, thresholds = roc_curve(G_y_train_tl, G_y_train_pred[:, 1])\n",
    "G_train_auroc = auc(fpr, tpr)\n",
    "print('AUC of training set:', G_train_auroc)\n",
    "\n",
    "G_y_test_pred = etG_ccCV.predict_proba(G_X_test_selected)\n",
    "fpr, tpr, thresholds = roc_curve(G_y_test, G_y_test_pred[:, 1])\n",
    "G_test_auroc = auc(fpr, tpr)\n",
    "print('AUC of testing set:', G_test_auroc)"
   ]
  },
  {
   "cell_type": "code",
   "execution_count": null,
   "id": "ab072e4e",
   "metadata": {},
   "outputs": [],
   "source": []
  }
 ],
 "metadata": {
  "kernelspec": {
   "display_name": "Python 3",
   "language": "python",
   "name": "python3"
  },
  "language_info": {
   "codemirror_mode": {
    "name": "ipython",
    "version": 3
   },
   "file_extension": ".py",
   "mimetype": "text/x-python",
   "name": "python",
   "nbconvert_exporter": "python",
   "pygments_lexer": "ipython3",
   "version": "3.8.10"
  }
 },
 "nbformat": 4,
 "nbformat_minor": 5
}
