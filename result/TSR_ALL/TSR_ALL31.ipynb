{
 "cells": [
  {
   "cell_type": "code",
   "execution_count": 1,
   "metadata": {},
   "outputs": [],
   "source": [
    "import pandas as pd\n",
    "pd.options.mode.chained_assignment = None\n",
    "import warnings\n",
    "warnings.filterwarnings(\"ignore\")\n",
    "import os\n",
    "import numpy as np\n",
    "from sklearn.model_selection import train_test_split\n",
    "from sklearn.metrics import auc, roc_curve\n",
    "from sklearn.ensemble import ExtraTreesClassifier\n",
    "from xgboost import XGBClassifier\n",
    "from sklearn.model_selection import RandomizedSearchCV\n",
    "from sklearn.calibration import CalibratedClassifierCV\n",
    "from imblearn.pipeline import make_pipeline\n",
    "from imblearn.under_sampling import TomekLinks\n",
    "import matplotlib.pyplot as plt\n",
    "import seaborn as sns"
   ]
  },
  {
   "cell_type": "markdown",
   "metadata": {},
   "source": [
    "# Import datasets"
   ]
  },
  {
   "cell_type": "code",
   "execution_count": 2,
   "metadata": {},
   "outputs": [
    {
     "data": {
      "text/plain": [
       "(39881, 234)"
      ]
     },
     "execution_count": 2,
     "metadata": {},
     "output_type": "execute_result"
    }
   ],
   "source": [
    "csv_path = os.path.join(\"..\", \"..\", \"data\",\"LINKED_DATA\", \"TSR_ALL\", \"TSR_ALL3\", \"TSR_ALL3_MICE5.csv\")\n",
    "tsr_all3_df = pd.read_csv(csv_path)\n",
    "tsr_all3_df.shape"
   ]
  },
  {
   "cell_type": "markdown",
   "metadata": {},
   "source": [
    "# Convert the multiple feature and outcome into binary ones"
   ]
  },
  {
   "cell_type": "code",
   "execution_count": 3,
   "metadata": {},
   "outputs": [],
   "source": [
    "mRS3 = tsr_all3_df.mrs_tx_3\n",
    "mRS3[(mRS3 == 0) | (mRS3 == 1) | (mRS3 == 2)] = 1 #GOOD\n",
    "mRS3[(mRS3 == 3) | (mRS3 == 4) | (mRS3 == 5) | (mRS3 == 6) | (mRS3 == 9)] = 0 #BAD"
   ]
  },
  {
   "cell_type": "markdown",
   "metadata": {},
   "source": [
    "# Group all features and the outcome"
   ]
  },
  {
   "cell_type": "code",
   "execution_count": 4,
   "metadata": {},
   "outputs": [],
   "source": [
    "nominal_features = [\"edu_id\", \"pro_id\", \"opc_id\", \"toast_id\", \"offdt_id\", \"gender_tx\", \"hd_id\", \"pcva_id\",\n",
    "                    \"pcvaci_id\", \"pcvach_id\", \"po_id\", \"ur_id\", \"sm_id\", \"ptia_id\", \"hc_id\", \"hcht_id\",\n",
    "                    \"hchc_id\", \"ht_id\", \"dm_id\", \"pad_id\", \"al_id\", \"ca_id\", \"fahiid_parents_1\",\n",
    "                    \"fahiid_parents_2\", \"fahiid_parents_3\", \"fahiid_parents_4\", \"fahiid_brsi_1\",\n",
    "                    \"fahiid_brsi_2\", \"fahiid_brsi_3\", \"fahiid_brsi_4\"]\n",
    "ordinal_features = [\"gcse_nm\", \"gcsv_nm\", \"gcsm_nm\", \"discharged_mrs\", \"feeding\", \"transfers\",\n",
    "                    \"bathing\", \"toilet_use\", \"grooming\", \"mobility\", \"stairs\", \"dressing\", \"bowel_control\",\n",
    "                    \"bladder_control\", \"nihs_1a_in\", \"nihs_1b_in\", \"nihs_1c_in\", \"nihs_2_in\", \"nihs_3_in\", \"nihs_4_in\",\n",
    "                    \"nihs_5al_in\", \"nihs_5br_in\", \"nihs_6al_in\", \"nihs_6br_in\", \"nihs_7_in\", \"nihs_8_in\", \"nihs_9_in\",\n",
    "                    \"nihs_10_in\", \"nihs_11_in\", \"nihs_1a_out\", \"nihs_1b_out\", \"nihs_1c_out\", \"nihs_2_out\", \"nihs_3_out\",\n",
    "                    \"nihs_4_out\", \"nihs_5al_out\", \"nihs_5br_out\", \"nihs_6al_out\", \"nihs_6br_out\", \"nihs_7_out\",\n",
    "                    \"nihs_8_out\", \"nihs_9_out\", \"nihs_10_out\", \"nihs_11_out\"]\n",
    "boolean = [\"toastle_fl\", \"toastli_fl\", \"toastsce_fl\", \"toastsmo_fl\", \"toastsra_fl\", \"toastsdi_fl\",\n",
    "           \"toastsmi_fl\", \"toastsantip_fl\", \"toastsau_fl\", \"toastshy_fl\", \"toastspr_fl\", \"toastsantit_fl\",\n",
    "           \"toastsho_fl\", \"toastshys_fl\", \"toastsca_fl\", \"thda_fl\", \"thdh_fl\", \"thdi_fl\", \"thdam_fl\", \"thdv_fl\",\n",
    "           \"thde_fl\", \"thdm_fl\", \"thdr_fl\", \"thdp_fl\", \"trman_fl\", \"trmas_fl\", \"trmti_fl\", \"trmhe_fl\",\n",
    "           \"trmwa_fl\", \"trmia_fl\", \"trmfo_fl\", \"trmta_fl\", \"trmsd_fl\", \"trmre_fl\", \"trmen_fl\", \"trmag_fl\",\n",
    "           \"trmcl_fl\", \"trmpl_fl\", \"trmlm_fl\", \"trmiv_fl\", \"trmve_fl\", \"trmng_fl\", \"trmdy_fl\", \"trmicu_fl\",\n",
    "           \"trmsm_fl\", \"trmed_fl\", \"trmop_fl\", \"om_fl\", \"omas_fl\", \"omag_fl\", \"omti_fl\", \"omcl_fl\", \"omwa_fl\",\n",
    "           \"ompl_fl\", \"omanh_fl\", \"omand_fl\", \"omli_fl\", \"am_fl\", \"amas_fl\", \"amag_fl\", \"amti_fl\", \"amcl_fl\",\n",
    "           \"amwa_fl\", \"ampl_fl\", \"amanh_fl\", \"amand_fl\", \"amli_fl\", \"compn_fl\", \"comut_fl\", \"comug_fl\",\n",
    "           \"compr_fl\", \"compu_fl\", \"comac_fl\", \"comse_fl\", \"comde_fl\", \"detst_fl\", \"dethe_fl\", \"detho_fl\",\n",
    "           \"detha_fl\", \"detva_fl\", \"detre_fl\", \"detme_fl\", \"ct_fl\", \"mri_fl\", \"ecgl_fl\", \"ecga_fl\", \"ecgq_fl\",\n",
    "           \"cortical_aca_ctr\", \"cortical_mca_ctr\", \"subcortical_aca_ctr\", \"subcortical_mca_ctr\", \"pca_cortex_ctr\",\n",
    "           \"thalamus_ctr\", \"brainstem_ctr\", \"cerebellum_ctr\", \"watershed_ctr\", \"hemorrhagic_infarct_ctr\",\n",
    "           \"old_stroke_ctci\", \"cortical_aca_ctl\", \"cortical_mca_ctl\", \"subcortical_aca_ctl\", \"subcortical_mca_ctl\",\n",
    "           \"pca_cortex_ctl\", \"thalamus_ctl\", \"brainstem_ctl\", \"cerebellum_ctl\", \"watershed_ctl\",\n",
    "           \"hemorrhagic_infarct_ctl\", \"old_stroke_ctch\", \"cortical_aca_mrir\", \"cortical_mca_mrir\",\n",
    "           \"subcortical_aca_mrir\", \"subcortical_mca_mrir\", \"pca_cortex_mrir\", \"thalamus_mrir\", \"brainstem_mrir\",\n",
    "           \"cerebellum_mrir\", \"watershed_mrir\", \"hemorrhagic_infarct_mrir\", \"old_stroke_mrici\", \"cortical_aca_mril\",\n",
    "           \"cortical_mca_mril\", \"subcortical_aca_mril\", \"subcortical_mca_mril\", \"pca_cortex_mril\",\n",
    "           \"thalamus_mril\", \"brainstem_mril\", \"cerebellum_mril\", \"watershed_mril\", \"hemorrhagic_infarct_mril\",\n",
    "           \"old_stroke_mrich\"]\n",
    "continuous = [\"height_nm\", \"weight_nm\", \"sbp_nm\", \"dbp_nm\", \"bt_nm\", \"hr_nm\", \"rr_nm\", \"hb_nm\",\n",
    "              \"hct_nm\", \"platelet_nm\", \"wbc_nm\", \"ptt1_nm\", \"ptt2_nm\", \"ptinr_nm\", \"er_nm\", \"bun_nm\",\n",
    "              \"cre_nm\", \"ua_nm\", \"tcho_nm\", \"tg_nm\", \"hdl_nm\",\n",
    "              \"ldl_nm\", \"gpt_nm\", \"age\", \"hospitalised_time\"]\n",
    "labels = [\"mrs_tx_3\", \"mrs_tx_1\"]"
   ]
  },
  {
   "cell_type": "markdown",
   "metadata": {},
   "source": [
    "# Machine Learning"
   ]
  },
  {
   "cell_type": "markdown",
   "metadata": {},
   "source": [
    "## Preprocess input data (GOOD when Discharge)"
   ]
  },
  {
   "cell_type": "code",
   "execution_count": 5,
   "metadata": {},
   "outputs": [],
   "source": [
    "## discharged mRS = GOOD (tsr_all3_df.discharged_mrs == 1)\n",
    "mrs_dis1 = tsr_all3_df[(tsr_all3_df.discharged_mrs == 1) | (tsr_all3_df.discharged_mrs == 0) | (tsr_all3_df.discharged_mrs == 2)]"
   ]
  },
  {
   "cell_type": "code",
   "execution_count": 6,
   "metadata": {},
   "outputs": [
    {
     "name": "stdout",
     "output_type": "stream",
     "text": [
      "(18940, 231)\n"
     ]
    }
   ],
   "source": [
    "## input dataset\n",
    "tsr_3G_input = mrs_dis1.drop([\"icase_id\", \"idcase_id\", \"mrs_tx_3\"], axis=1)\n",
    "print(tsr_3G_input.shape)\n",
    "tsr_3G_input = tsr_3G_input.astype(\"float64\")\n",
    "tsr_3G_input = np.array(tsr_3G_input.values)"
   ]
  },
  {
   "cell_type": "code",
   "execution_count": 7,
   "metadata": {},
   "outputs": [
    {
     "name": "stdout",
     "output_type": "stream",
     "text": [
      "(18940,)\n"
     ]
    }
   ],
   "source": [
    "## output dataset\n",
    "tsr_3G_output = mrs_dis1.mrs_tx_3\n",
    "print(tsr_3G_output.shape)\n",
    "tsr_3G_output = tsr_3G_output.astype(\"float64\")\n",
    "tsr_3G_output = np.array(tsr_3G_output.values)"
   ]
  },
  {
   "cell_type": "code",
   "execution_count": 8,
   "metadata": {},
   "outputs": [
    {
     "name": "stdout",
     "output_type": "stream",
     "text": [
      "The shape of GOOD's X_train: (13258, 231)\n",
      "The shape of GOOD's y_train: (13258,)\n",
      "The shape of GOOD's X_test: (5682, 231)\n",
      "The shape of GOOD's y_test: (5682,)\n"
     ]
    }
   ],
   "source": [
    "## train_test_split\n",
    "G_X_train, G_X_test, G_y_train, G_y_test = train_test_split(tsr_3G_input, tsr_3G_output, test_size=0.3, random_state=19)\n",
    "print(\"The shape of GOOD's X_train:\", G_X_train.shape)\n",
    "print(\"The shape of GOOD's y_train:\", G_y_train.shape)\n",
    "print(\"The shape of GOOD's X_test:\", G_X_test.shape)\n",
    "print(\"The shape of GOOD's y_test:\", G_y_test.shape)"
   ]
  },
  {
   "cell_type": "code",
   "execution_count": 9,
   "metadata": {},
   "outputs": [],
   "source": [
    "## scale G_X_train\n",
    "from sklearn.preprocessing import MinMaxScaler\n",
    "from sklearn.preprocessing import OrdinalEncoder\n",
    "from sklearn.preprocessing import OneHotEncoder\n",
    "G_X_train = pd.DataFrame(G_X_train)\n",
    "G_X_train.columns = tsr_all3_df.drop([\"icase_id\", \"idcase_id\", \"mrs_tx_3\"], axis=1).columns\n",
    "\n",
    "scaler = MinMaxScaler()\n",
    "G_X_train[continuous] = scaler.fit_transform(G_X_train[continuous])\n",
    "\n",
    "encoder = OrdinalEncoder(handle_unknown=\"use_encoded_value\", unknown_value=6)\n",
    "G_X_train[ordinal_features] = encoder.fit_transform(G_X_train[ordinal_features])\n",
    "\n",
    "ohe = OneHotEncoder(sparse=False, handle_unknown = \"ignore\")\n",
    "nominal_train = ohe.fit_transform(G_X_train[nominal_features])\n",
    "G_X_train = pd.concat([G_X_train, pd.DataFrame(nominal_train)], axis=1)\n",
    "G_X_train = G_X_train.drop(nominal_features, axis=1)\n",
    "\n",
    "G_x_train_columns = list(G_X_train.columns)\n",
    "G_x_train_columns = G_x_train_columns[0:201]\n",
    "get_feature_name = list(ohe.get_feature_names(nominal_features))\n",
    "G_x_train_columns = G_x_train_columns+get_feature_name\n",
    "\n",
    "G_X_train = np.array(G_X_train.values)"
   ]
  },
  {
   "cell_type": "code",
   "execution_count": 10,
   "metadata": {},
   "outputs": [],
   "source": [
    "## scale G_X_test\n",
    "G_X_test = pd.DataFrame(G_X_test)\n",
    "G_X_test.columns = tsr_all3_df.drop([\"icase_id\", \"idcase_id\", \"mrs_tx_3\"], axis=1).columns\n",
    "\n",
    "G_X_test[continuous] = scaler.transform(G_X_test[continuous])\n",
    "\n",
    "G_X_test[ordinal_features] = encoder.transform(G_X_test[ordinal_features])\n",
    "\n",
    "nominal_test = ohe.transform(G_X_test[nominal_features])\n",
    "G_X_test = pd.concat([G_X_test, pd.DataFrame(nominal_test)], axis=1)\n",
    "G_X_test = G_X_test.drop(nominal_features, axis=1)\n",
    "\n",
    "G_X_test = np.array(G_X_test.values)"
   ]
  },
  {
   "cell_type": "markdown",
   "metadata": {},
   "source": [
    "## Algorithms"
   ]
  },
  {
   "cell_type": "markdown",
   "metadata": {},
   "source": [
    "## Extra trees"
   ]
  },
  {
   "cell_type": "code",
   "execution_count": 11,
   "metadata": {},
   "outputs": [],
   "source": [
    "# base et\n",
    "et = ExtraTreesClassifier(random_state=19)\n",
    "\n",
    "#tune et\n",
    "hyperparameters_et = {\"extratreesclassifier__n_estimators\": (25, 100),\n",
    "                      \"extratreesclassifier__criterion\": (\"gini\", \"entropy\"),\n",
    "                      \"extratreesclassifier__max_depth\": (25, 100),\n",
    "                      \"extratreesclassifier__min_samples_split\": (25, 100),\n",
    "                      \"extratreesclassifier__max_features\": (0.1, 0.9),\n",
    "                      \"extratreesclassifier__bootstrap\": (True, False),\n",
    "                      \"extratreesclassifier__class_weight\": ('balanced', {0: 1, 1: 24}, {0: 24, 1: 1}),\n",
    "                      \"extratreesclassifier__max_samples\": (0.3, 0.8)}\n",
    "\n",
    "pipeline = make_pipeline(TomekLinks(), ExtraTreesClassifier(random_state=19))\n",
    "\n",
    "etG_rscv = RandomizedSearchCV(estimator=pipeline,\n",
    "                              param_distributions=hyperparameters_et,\n",
    "                              n_jobs=-1,\n",
    "                              scoring='roc_auc',\n",
    "                              verbose=5,                        \n",
    "                              cv=5,\n",
    "                              n_iter = 50,\n",
    "                              random_state = 19)"
   ]
  },
  {
   "cell_type": "markdown",
   "metadata": {},
   "source": [
    "### BASE ET"
   ]
  },
  {
   "cell_type": "code",
   "execution_count": 12,
   "metadata": {},
   "outputs": [
    {
     "name": "stdout",
     "output_type": "stream",
     "text": [
      "AUC of training set: 1.0\n",
      "AUC of testing set: 0.8004578781605608\n"
     ]
    }
   ],
   "source": [
    "et.fit(G_X_train, G_y_train)\n",
    "\n",
    "G_y_train_pred = et.predict_proba(G_X_train)\n",
    "fpr, tpr, thresholds = roc_curve(G_y_train, G_y_train_pred[:, 1])\n",
    "G_train_auroc = auc(fpr, tpr)\n",
    "print('AUC of training set:', G_train_auroc)\n",
    "\n",
    "G_y_test_pred = et.predict_proba(G_X_test)\n",
    "fpr, tpr, thresholds = roc_curve(G_y_test, G_y_test_pred[:, 1])\n",
    "G_test_auroc = auc(fpr, tpr)\n",
    "print('AUC of testing set:', G_test_auroc)"
   ]
  },
  {
   "cell_type": "markdown",
   "metadata": {},
   "source": [
    "### TUNE ET"
   ]
  },
  {
   "cell_type": "code",
   "execution_count": 13,
   "metadata": {},
   "outputs": [
    {
     "name": "stdout",
     "output_type": "stream",
     "text": [
      "Fitting 5 folds for each of 50 candidates, totalling 250 fits\n",
      "--> Tuned Parameters Best Score:  0.8330175868283731\n",
      "--> Best Parameters: \n",
      " {'extratreesclassifier__n_estimators': 100, 'extratreesclassifier__min_samples_split': 25, 'extratreesclassifier__max_samples': 0.8, 'extratreesclassifier__max_features': 0.1, 'extratreesclassifier__max_depth': 100, 'extratreesclassifier__criterion': 'entropy', 'extratreesclassifier__class_weight': {0: 24, 1: 1}, 'extratreesclassifier__bootstrap': True}\n"
     ]
    }
   ],
   "source": [
    "etG_rsCV = etG_rscv.fit(G_X_train, G_y_train)\n",
    "print('--> Tuned Parameters Best Score: ', etG_rsCV.best_score_)\n",
    "print('--> Best Parameters: \\n', etG_rsCV.best_params_)"
   ]
  },
  {
   "cell_type": "code",
   "execution_count": 14,
   "metadata": {},
   "outputs": [
    {
     "name": "stdout",
     "output_type": "stream",
     "text": [
      "AUC of training set: 0.9995165755973221\n",
      "AUC of testing set: 0.8302309206892626\n"
     ]
    }
   ],
   "source": [
    "G_y_train_pred = etG_rsCV.predict_proba(G_X_train)\n",
    "fpr, tpr, thresholds = roc_curve(G_y_train, G_y_train_pred[:, 1])\n",
    "G_train_auroc_tuned = auc(fpr, tpr)\n",
    "print('AUC of training set:', G_train_auroc_tuned)\n",
    "\n",
    "G_y_test_pred = etG_rsCV.predict_proba(G_X_test)\n",
    "fpr, tpr, thresholds = roc_curve(G_y_test, G_y_test_pred[:, 1])\n",
    "G_test_auroc_tuned = auc(fpr, tpr)\n",
    "print('AUC of testing set:', G_test_auroc_tuned)"
   ]
  },
  {
   "cell_type": "code",
   "execution_count": 15,
   "metadata": {},
   "outputs": [
    {
     "name": "stdout",
     "output_type": "stream",
     "text": [
      "AUC of training set: 0.9991356957649092\n",
      "AUC of testing set: 0.844886394778671\n"
     ]
    }
   ],
   "source": [
    "etG_cccv = CalibratedClassifierCV(base_estimator=etG_rsCV.best_estimator_, cv=5)\n",
    "etG_ccCV = etG_cccv.fit(G_X_train, G_y_train)\n",
    "\n",
    "G_y_train_pred = etG_ccCV.predict_proba(G_X_train)\n",
    "fpr, tpr, thresholds = roc_curve(G_y_train, G_y_train_pred[:, 1])\n",
    "G_train_auroc_cc = auc(fpr, tpr)\n",
    "print('AUC of training set:', G_train_auroc_cc)\n",
    "\n",
    "G_y_test_pred = etG_ccCV.predict_proba(G_X_test)\n",
    "fpr, tpr, thresholds = roc_curve(G_y_test, G_y_test_pred[:, 1])\n",
    "G_test_auroc_cc = auc(fpr, tpr)\n",
    "print('AUC of testing set:', G_test_auroc_cc)"
   ]
  },
  {
   "cell_type": "markdown",
   "metadata": {},
   "source": [
    "## Thresholds"
   ]
  },
  {
   "cell_type": "code",
   "execution_count": 16,
   "metadata": {},
   "outputs": [
    {
     "data": {
      "image/png": "[encoded data removed]",
      "text/plain": [
       "<Figure size 360x720 with 2 Axes>"
      ]
     },
     "metadata": {
      "needs_background": "light"
     },
     "output_type": "display_data"
    }
   ],
   "source": [
    "etG_sigma = etG_rsCV.best_estimator_._final_estimator.feature_importances_\n",
    "etG_sigma_df = pd.DataFrame(etG_sigma)\n",
    "etG_sigma_df.index = G_x_train_columns\n",
    "etG_sigma_df.columns = ([\"Value\"])\n",
    "etG_sigma_plot = etG_sigma_df.sort_values([\"Value\"], ascending=False).head(30)\n",
    "\n",
    "plt.figure(figsize=(5, 10))\n",
    "sns.heatmap(etG_sigma_plot, vmin=-1, vmax=1, annot=True, cmap='BrBG')\n",
    "plt.title('Threshold of TSR_ALL3+1_ET_G Feature Importance')\n",
    "#plt.savefig('INFO/TSR_ALL3/etG31_sigma_df.png')\n",
    "plt.show()"
   ]
  },
  {
   "cell_type": "markdown",
   "metadata": {},
   "source": [
    "### Selected Columns"
   ]
  },
  {
   "cell_type": "code",
   "execution_count": 17,
   "metadata": {},
   "outputs": [
    {
     "name": "stdout",
     "output_type": "stream",
     "text": [
      "Fitting 5 folds for each of 50 candidates, totalling 250 fits\n",
      "--> Tuned Parameters Best Score:  0.8272918699015979\n",
      "--> Best Parameters: \n",
      " {'extratreesclassifier__n_estimators': 25, 'extratreesclassifier__min_samples_split': 100, 'extratreesclassifier__max_samples': 0.3, 'extratreesclassifier__max_features': 0.1, 'extratreesclassifier__max_depth': 25, 'extratreesclassifier__criterion': 'entropy', 'extratreesclassifier__class_weight': {0: 1, 1: 24}, 'extratreesclassifier__bootstrap': True}\n",
      "Fitting 5 folds for each of 50 candidates, totalling 250 fits\n",
      "--> Tuned Parameters Best Score:  0.8368598855800571\n",
      "--> Best Parameters: \n",
      " {'extratreesclassifier__n_estimators': 100, 'extratreesclassifier__min_samples_split': 100, 'extratreesclassifier__max_samples': 0.3, 'extratreesclassifier__max_features': 0.9, 'extratreesclassifier__max_depth': 25, 'extratreesclassifier__criterion': 'gini', 'extratreesclassifier__class_weight': {0: 1, 1: 24}, 'extratreesclassifier__bootstrap': True}\n",
      "Fitting 5 folds for each of 50 candidates, totalling 250 fits\n",
      "--> Tuned Parameters Best Score:  0.8403037419487998\n",
      "--> Best Parameters: \n",
      " {'extratreesclassifier__n_estimators': 100, 'extratreesclassifier__min_samples_split': 100, 'extratreesclassifier__max_samples': 0.3, 'extratreesclassifier__max_features': 0.9, 'extratreesclassifier__max_depth': 25, 'extratreesclassifier__criterion': 'gini', 'extratreesclassifier__class_weight': {0: 1, 1: 24}, 'extratreesclassifier__bootstrap': True}\n"
     ]
    }
   ],
   "source": [
    "etG_sigma_df = etG_sigma_df.reset_index(drop=False)\n",
    "etG_sigma_df.columns = ([\"Feature\",\"Value\"])\n",
    "etG_sigma_df = etG_sigma_df.sort_values([\"Value\"], ascending=False)\n",
    "\n",
    "G_train_auroc_list = []\n",
    "G_test_auroc_list = []\n",
    "G_train_auroc_tuned_list = []\n",
    "G_test_auroc_tuned_list = []\n",
    "G_train_auroc_cc_list = []\n",
    "G_test_auroc_cc_list = []\n",
    "\n",
    "for i in 10,20,30:\n",
    "    etG_sigma_index = etG_sigma_df[0:i].index\n",
    "    \n",
    "    G_X_train = pd.DataFrame(G_X_train)\n",
    "    G_X_train_selected = G_X_train.iloc[:, etG_sigma_index]\n",
    "    G_X_train_selected = np.array(G_X_train_selected.values)\n",
    "    \n",
    "    G_X_test = pd.DataFrame(G_X_test)\n",
    "    G_X_test_selected = G_X_test.iloc[:, etG_sigma_index]\n",
    "    G_X_test_selected = np.array(G_X_test_selected.values)\n",
    "    \n",
    "    # base et_selected\n",
    "    et.fit(G_X_train_selected, G_y_train)\n",
    "    \n",
    "    G_y_train_pred = et.predict_proba(G_X_train_selected)\n",
    "    fpr, tpr, thresholds = roc_curve(G_y_train, G_y_train_pred[:, 1])\n",
    "    G_train_auroc_selected = auc(fpr, tpr)\n",
    "    G_train_auroc_list.append(G_train_auroc_selected)\n",
    "    \n",
    "    G_y_test_pred = et.predict_proba(G_X_test_selected)\n",
    "    fpr, tpr, thresholds = roc_curve(G_y_test, G_y_test_pred[:, 1])\n",
    "    G_test_auroc_selected = auc(fpr, tpr)\n",
    "    G_test_auroc_list.append(G_test_auroc_selected)\n",
    "    \n",
    "    # tune et_selected\n",
    "    etG_rsCV_selected = etG_rscv.fit(G_X_train_selected, G_y_train)\n",
    "    print('--> Tuned Parameters Best Score: ', etG_rsCV_selected.best_score_)\n",
    "    print('--> Best Parameters: \\n', etG_rsCV_selected.best_params_)\n",
    "    \n",
    "    G_y_train_pred = etG_rsCV_selected.predict_proba(G_X_train_selected)\n",
    "    fpr, tpr, thresholds = roc_curve(G_y_train, G_y_train_pred[:, 1])\n",
    "    G_train_auroc_selected_tuned = auc(fpr, tpr)\n",
    "    G_train_auroc_tuned_list.append(G_train_auroc_selected_tuned)\n",
    "\n",
    "    G_y_test_pred = etG_rsCV_selected.predict_proba(G_X_test_selected)\n",
    "    fpr, tpr, thresholds = roc_curve(G_y_test, G_y_test_pred[:, 1])\n",
    "    G_test_auroc_selected_tuned = auc(fpr, tpr)\n",
    "    G_test_auroc_tuned_list.append(G_test_auroc_selected_tuned)\n",
    "\n",
    "    etG_cccv = CalibratedClassifierCV(base_estimator=etG_rsCV_selected.best_estimator_, cv=5)\n",
    "    etG_ccCV = etG_cccv.fit(G_X_train_selected, G_y_train)\n",
    "\n",
    "    G_y_train_pred = etG_ccCV.predict_proba(G_X_train_selected)\n",
    "    fpr, tpr, thresholds = roc_curve(G_y_train, G_y_train_pred[:, 1])\n",
    "    G_train_auroc_selected_cc = auc(fpr, tpr)\n",
    "    G_train_auroc_cc_list.append(G_train_auroc_selected_cc)\n",
    "\n",
    "    G_y_test_pred = etG_ccCV.predict_proba(G_X_test_selected)\n",
    "    fpr, tpr, thresholds = roc_curve(G_y_test, G_y_test_pred[:, 1])\n",
    "    G_test_auroc_selected_cc = auc(fpr, tpr)\n",
    "    G_test_auroc_cc_list.append(G_test_auroc_selected_cc)\n",
    "    \n",
    "G_train_auroc_list.append(G_train_auroc)\n",
    "G_test_auroc_list.append(G_test_auroc)\n",
    "G_train_auroc_tuned_list.append(G_train_auroc_tuned)\n",
    "G_test_auroc_tuned_list.append(G_test_auroc_tuned)\n",
    "G_train_auroc_cc_list.append(G_train_auroc_cc)\n",
    "G_test_auroc_cc_list.append(G_test_auroc_cc)"
   ]
  },
  {
   "cell_type": "code",
   "execution_count": 18,
   "metadata": {},
   "outputs": [
    {
     "data": {
      "image/png": "[encoded data removed]",
      "text/plain": [
       "<Figure size 432x288 with 1 Axes>"
      ]
     },
     "metadata": {
      "needs_background": "light"
     },
     "output_type": "display_data"
    }
   ],
   "source": [
    "x = \"10\",\"20\",\"30\",\"310\"\n",
    "#plt.plot(x, G_train_auroc_list, label = \"training\")\n",
    "plt.plot(x, G_test_auroc_list, label = \"based\")\n",
    "#plt.plot(x, G_train_auroc_tuned_list, label = \"training\")\n",
    "plt.plot(x, G_test_auroc_tuned_list, label = \"tuned\")\n",
    "#plt.plot(x, G_train_auroc_cc_list, label = \"training\")\n",
    "plt.plot(x, G_test_auroc_cc_list, label = \"calibrated\")\n",
    "plt.legend()\n",
    "for i in range(len(x)):\n",
    "    plt.annotate(round(G_test_auroc_list[i],3), (x[i], G_test_auroc_list[i]))\n",
    "    plt.annotate(round(G_test_auroc_tuned_list[i],3), (x[i], G_test_auroc_tuned_list[i]))\n",
    "    plt.annotate(round(G_test_auroc_cc_list[i],3), (x[i], G_test_auroc_cc_list[i]))\n",
    "plt.title('TSR_ALL3+1_ET_G', fontsize=15)\n",
    "#plt.savefig('INFO/TSR_ALL3/TSR_ALL31_ET_G.png')\n",
    "plt.show()"
   ]
  },
  {
   "cell_type": "markdown",
   "metadata": {},
   "source": [
    "## XGBClassifier"
   ]
  },
  {
   "cell_type": "code",
   "execution_count": 19,
   "metadata": {},
   "outputs": [],
   "source": [
    "# base xgbc\n",
    "xgbc = XGBClassifier(random_state=19, use_label_encoder=False, eval_metric = \"auc\", tree_method = \"hist\", n_jobs=-1)\n",
    "\n",
    "# tune xgbc\n",
    "hyperparameters_xgbc = {\"xgbclassifier__booster\": (\"gbtree\", \"dart\"),\n",
    "                        \"xgbclassifier__learning_rate\": (0.01, 0.1),\n",
    "                        \"xgbclassifier__max_depth\": (25, 50),\n",
    "                        \"xgbclassifier__subsample\": (0.3, 0.8),\n",
    "                        \"xgbclassifier__colsample_bytree\": (0.3, 0.8),\n",
    "                        \"xgbclassifier__reg_lambda\": (0.1, 10),\n",
    "                        \"xgbclassifier__reg_alpha\": (0.1, 10),\n",
    "                        \"xgbclassifier__gamma\": (0.1, 10),\n",
    "                        \"xgbclassifier__n_estimators\": (25, 100),\n",
    "                        \"xgbclassifier__scale_pos_weight\": (0.04, 24)}\n",
    "\n",
    "pipeline = make_pipeline(TomekLinks(), XGBClassifier(random_state=19, use_label_encoder=False, eval_metric=\"auc\", tree_method = \"hist\"))\n",
    "\n",
    "xgbcG_rscv = RandomizedSearchCV(estimator=pipeline,                       \n",
    "                                param_distributions=hyperparameters_xgbc,                      \n",
    "                                n_jobs=-1,                      \n",
    "                                scoring=\"roc_auc\",                     \n",
    "                                verbose=5,                      \n",
    "                                cv=5,                        \n",
    "                                n_iter=50,\n",
    "                                random_state = 19)"
   ]
  },
  {
   "cell_type": "markdown",
   "metadata": {},
   "source": [
    "### BASE XGBC"
   ]
  },
  {
   "cell_type": "code",
   "execution_count": 20,
   "metadata": {},
   "outputs": [
    {
     "name": "stdout",
     "output_type": "stream",
     "text": [
      "AUC of training set: 1.0\n",
      "AUC of testing set: 0.8054266572786185\n"
     ]
    }
   ],
   "source": [
    "xgbc.fit(G_X_train, G_y_train)\n",
    "\n",
    "G_y_train_pred = xgbc.predict_proba(G_X_train)\n",
    "fpr, tpr, thresholds = roc_curve(G_y_train , G_y_train_pred[:, 1])\n",
    "G_train_auroc = auc(fpr, tpr)\n",
    "print('AUC of training set:', G_train_auroc)\n",
    "\n",
    "G_y_test_pred = xgbc.predict_proba(G_X_test)\n",
    "fpr, tpr, thresholds = roc_curve(G_y_test, G_y_test_pred[:, 1])\n",
    "G_test_auroc = auc(fpr, tpr)\n",
    "print('AUC of testing set:', G_test_auroc)"
   ]
  },
  {
   "cell_type": "markdown",
   "metadata": {},
   "source": [
    "### TUNE XGBC"
   ]
  },
  {
   "cell_type": "code",
   "execution_count": 21,
   "metadata": {},
   "outputs": [
    {
     "name": "stdout",
     "output_type": "stream",
     "text": [
      "Fitting 5 folds for each of 50 candidates, totalling 250 fits\n",
      "--> Tuned Parameters Best Score:  0.8344040612648473\n",
      "--> Best Parameters: \n",
      " {'xgbclassifier__subsample': 0.3, 'xgbclassifier__scale_pos_weight': 24, 'xgbclassifier__reg_lambda': 10, 'xgbclassifier__reg_alpha': 0.1, 'xgbclassifier__n_estimators': 100, 'xgbclassifier__max_depth': 50, 'xgbclassifier__learning_rate': 0.1, 'xgbclassifier__gamma': 0.1, 'xgbclassifier__colsample_bytree': 0.3, 'xgbclassifier__booster': 'dart'}\n"
     ]
    }
   ],
   "source": [
    "xgbcG_rsCV = xgbcG_rscv.fit(G_X_train, G_y_train)\n",
    "print(\"--> Tuned Parameters Best Score: \", xgbcG_rsCV.best_score_)\n",
    "print(\"--> Best Parameters: \\n\", xgbcG_rsCV.best_params_)"
   ]
  },
  {
   "cell_type": "code",
   "execution_count": 22,
   "metadata": {},
   "outputs": [
    {
     "name": "stdout",
     "output_type": "stream",
     "text": [
      "AUC of training set: 0.9381002945085976\n",
      "AUC of testing set: 0.8454003482572382\n"
     ]
    }
   ],
   "source": [
    "G_y_train_pred = xgbcG_rsCV.predict_proba(G_X_train)\n",
    "fpr, tpr, thresholds = roc_curve(G_y_train, G_y_train_pred[:, 1])\n",
    "G_train_auroc_tuned = auc(fpr, tpr)\n",
    "print('AUC of training set:', G_train_auroc_tuned)\n",
    "\n",
    "G_y_test_pred = xgbcG_rsCV.predict_proba(G_X_test)\n",
    "fpr, tpr, thresholds = roc_curve(G_y_test, G_y_test_pred[:, 1])\n",
    "G_test_auroc_tuned = auc(fpr, tpr)\n",
    "print('AUC of testing set:', G_test_auroc_tuned)"
   ]
  },
  {
   "cell_type": "code",
   "execution_count": 23,
   "metadata": {},
   "outputs": [
    {
     "name": "stdout",
     "output_type": "stream",
     "text": [
      "AUC of training set: 0.944458057865028\n",
      "AUC of testing set: 0.8451157554778839\n"
     ]
    }
   ],
   "source": [
    "xgbcG_cccv = CalibratedClassifierCV(base_estimator=xgbcG_rsCV.best_estimator_, cv=5)\n",
    "xgbcG_ccCV = xgbcG_cccv.fit(G_X_train, G_y_train)\n",
    "\n",
    "G_y_train_pred = xgbcG_ccCV.predict_proba(G_X_train)\n",
    "fpr, tpr, thresholds = roc_curve(G_y_train, G_y_train_pred[:, 1])\n",
    "G_train_auroc_cc = auc(fpr, tpr)\n",
    "print('AUC of training set:', G_train_auroc_cc)\n",
    "\n",
    "G_y_test_pred = xgbcG_ccCV.predict_proba(G_X_test)\n",
    "fpr, tpr, thresholds = roc_curve(G_y_test, G_y_test_pred[:, 1])\n",
    "G_test_auroc_cc = auc(fpr, tpr)\n",
    "print('AUC of testing set:', G_test_auroc_cc)"
   ]
  },
  {
   "cell_type": "markdown",
   "metadata": {},
   "source": [
    "## Thresholds"
   ]
  },
  {
   "cell_type": "code",
   "execution_count": 24,
   "metadata": {},
   "outputs": [
    {
     "data": {
      "image/png": "[encoded data removed]",
      "text/plain": [
       "<Figure size 360x720 with 2 Axes>"
      ]
     },
     "metadata": {
      "needs_background": "light"
     },
     "output_type": "display_data"
    }
   ],
   "source": [
    "xgbcG_sigma = xgbcG_rsCV.best_estimator_._final_estimator.feature_importances_\n",
    "xgbcG_sigma_df = pd.DataFrame(xgbcG_sigma)\n",
    "xgbcG_sigma_df.index = G_x_train_columns\n",
    "xgbcG_sigma_df.columns = ([\"Value\"])\n",
    "xgbcG_sigma_plot = xgbcG_sigma_df.sort_values([\"Value\"], ascending=False).head(30)\n",
    "\n",
    "plt.figure(figsize=(5, 10))\n",
    "sns.heatmap(xgbcG_sigma_plot, vmin=-1, vmax=1, annot=True, cmap='BrBG')\n",
    "plt.title('Threshold of TSR_ALL3+1_XGBC_G Feature Importance')\n",
    "#plt.savefig('INFO/TSR_ALL3/xgbcG31_sigma_df.png')\n",
    "plt.show()"
   ]
  },
  {
   "cell_type": "markdown",
   "metadata": {},
   "source": [
    "### Selected Columns"
   ]
  },
  {
   "cell_type": "code",
   "execution_count": 25,
   "metadata": {},
   "outputs": [
    {
     "name": "stdout",
     "output_type": "stream",
     "text": [
      "Fitting 5 folds for each of 50 candidates, totalling 250 fits\n",
      "--> Tuned Paramxgbcers Best Score:  0.7969897999633424\n",
      "--> Best Paramxgbcers: \n",
      " {'xgbclassifier__subsample': 0.3, 'xgbclassifier__scale_pos_weight': 0.04, 'xgbclassifier__reg_lambda': 0.1, 'xgbclassifier__reg_alpha': 0.1, 'xgbclassifier__n_estimators': 100, 'xgbclassifier__max_depth': 25, 'xgbclassifier__learning_rate': 0.1, 'xgbclassifier__gamma': 0.1, 'xgbclassifier__colsample_bytree': 0.3, 'xgbclassifier__booster': 'dart'}\n",
      "Fitting 5 folds for each of 50 candidates, totalling 250 fits\n",
      "--> Tuned Paramxgbcers Best Score:  0.82920801214278\n",
      "--> Best Paramxgbcers: \n",
      " {'xgbclassifier__subsample': 0.8, 'xgbclassifier__scale_pos_weight': 0.04, 'xgbclassifier__reg_lambda': 10, 'xgbclassifier__reg_alpha': 0.1, 'xgbclassifier__n_estimators': 100, 'xgbclassifier__max_depth': 50, 'xgbclassifier__learning_rate': 0.1, 'xgbclassifier__gamma': 0.1, 'xgbclassifier__colsample_bytree': 0.3, 'xgbclassifier__booster': 'dart'}\n",
      "Fitting 5 folds for each of 50 candidates, totalling 250 fits\n",
      "--> Tuned Paramxgbcers Best Score:  0.8352518942337028\n",
      "--> Best Paramxgbcers: \n",
      " {'xgbclassifier__subsample': 0.3, 'xgbclassifier__scale_pos_weight': 24, 'xgbclassifier__reg_lambda': 0.1, 'xgbclassifier__reg_alpha': 10, 'xgbclassifier__n_estimators': 100, 'xgbclassifier__max_depth': 50, 'xgbclassifier__learning_rate': 0.1, 'xgbclassifier__gamma': 0.1, 'xgbclassifier__colsample_bytree': 0.3, 'xgbclassifier__booster': 'gbtree'}\n"
     ]
    }
   ],
   "source": [
    "xgbcG_sigma_df = xgbcG_sigma_df.reset_index(drop=False)\n",
    "xgbcG_sigma_df.columns = ([\"Feature\",\"Value\"])\n",
    "xgbcG_sigma_df = xgbcG_sigma_df.sort_values([\"Value\"], ascending=False)\n",
    "\n",
    "G_train_auroc_list = []\n",
    "G_test_auroc_list = []\n",
    "G_train_auroc_tuned_list = []\n",
    "G_test_auroc_tuned_list = []\n",
    "G_train_auroc_cc_list = []\n",
    "G_test_auroc_cc_list = []\n",
    "\n",
    "for i in 10,20,30:\n",
    "    xgbcG_sigma_index = xgbcG_sigma_df[0:i].index\n",
    "    \n",
    "    G_X_train = pd.DataFrame(G_X_train)\n",
    "    G_X_train_selected = G_X_train.iloc[:, xgbcG_sigma_index]\n",
    "    G_X_train_selected = np.array(G_X_train_selected.values)\n",
    "    \n",
    "    G_X_test = pd.DataFrame(G_X_test)\n",
    "    G_X_test_selected = G_X_test.iloc[:, xgbcG_sigma_index]\n",
    "    G_X_test_selected = np.array(G_X_test_selected.values)\n",
    "    \n",
    "    et = ExtraTreesClassifier(random_state=19)\n",
    "    et.fit(G_X_train_selected, G_y_train)\n",
    "    \n",
    "    G_y_train_pred = et.predict_proba(G_X_train_selected)\n",
    "    fpr, tpr, thresholds = roc_curve(G_y_train, G_y_train_pred[:, 1])\n",
    "    G_train_auroc_selected = auc(fpr, tpr)\n",
    "    G_train_auroc_list.append(G_train_auroc_selected)\n",
    "    \n",
    "    G_y_test_pred = et.predict_proba(G_X_test_selected)\n",
    "    fpr, tpr, thresholds = roc_curve(G_y_test, G_y_test_pred[:, 1])\n",
    "    G_test_auroc_selected = auc(fpr, tpr)\n",
    "    G_test_auroc_list.append(G_test_auroc_selected)\n",
    "    \n",
    "    xgbcG_rsCV_selected = xgbcG_rscv.fit(G_X_train_selected, G_y_train)\n",
    "    print('--> Tuned Paramxgbcers Best Score: ', xgbcG_rsCV_selected.best_score_)\n",
    "    print('--> Best Paramxgbcers: \\n', xgbcG_rsCV_selected.best_params_)\n",
    "\n",
    "    G_y_train_pred = xgbcG_rsCV_selected.predict_proba(G_X_train_selected)\n",
    "    fpr, tpr, thresholds = roc_curve(G_y_train, G_y_train_pred[:, 1])\n",
    "    G_train_auroc_selected_tuned = auc(fpr, tpr)\n",
    "    G_train_auroc_tuned_list.append(G_train_auroc_selected_tuned)\n",
    "\n",
    "    G_y_test_pred = xgbcG_rsCV_selected.predict_proba(G_X_test_selected)\n",
    "    fpr, tpr, thresholds = roc_curve(G_y_test, G_y_test_pred[:, 1])\n",
    "    G_test_auroc_selected_tuned = auc(fpr, tpr)\n",
    "    G_test_auroc_tuned_list.append(G_test_auroc_selected_tuned)\n",
    "\n",
    "    xgbcG_cccv = CalibratedClassifierCV(base_estimator=xgbcG_rsCV_selected.best_estimator_, cv=5)\n",
    "    xgbcG_ccCV = xgbcG_cccv.fit(G_X_train_selected, G_y_train)\n",
    "\n",
    "    G_y_train_pred = xgbcG_ccCV.predict_proba(G_X_train_selected)\n",
    "    fpr, tpr, thresholds = roc_curve(G_y_train, G_y_train_pred[:, 1])\n",
    "    G_train_auroc_selected_cc = auc(fpr, tpr)\n",
    "    G_train_auroc_cc_list.append(G_train_auroc_selected_cc)\n",
    "\n",
    "    G_y_test_pred = xgbcG_ccCV.predict_proba(G_X_test_selected)\n",
    "    fpr, tpr, thresholds = roc_curve(G_y_test, G_y_test_pred[:, 1])\n",
    "    G_test_auroc_selected_cc = auc(fpr, tpr)\n",
    "    G_test_auroc_cc_list.append(G_test_auroc_selected_cc)\n",
    "    \n",
    "G_train_auroc_list.append(G_train_auroc)\n",
    "G_test_auroc_list.append(G_test_auroc)\n",
    "G_train_auroc_tuned_list.append(G_train_auroc_tuned)\n",
    "G_test_auroc_tuned_list.append(G_test_auroc_tuned)\n",
    "G_train_auroc_cc_list.append(G_train_auroc_cc)\n",
    "G_test_auroc_cc_list.append(G_test_auroc_cc)"
   ]
  },
  {
   "cell_type": "code",
   "execution_count": 26,
   "metadata": {},
   "outputs": [
    {
     "data": {
      "image/png": "[encoded data removed]",
      "text/plain": [
       "<Figure size 432x288 with 1 Axes>"
      ]
     },
     "metadata": {
      "needs_background": "light"
     },
     "output_type": "display_data"
    }
   ],
   "source": [
    "x = \"10\",\"20\",\"30\",\"310\"\n",
    "#plt.plot(x, G_train_auroc_list, label = \"training\")\n",
    "plt.plot(x, G_test_auroc_list, label = \"based\")\n",
    "#plt.plot(x, G_train_auroc_tuned_list, label = \"training\")\n",
    "plt.plot(x, G_test_auroc_tuned_list, label = \"tuned\")\n",
    "#plt.plot(x, G_train_auroc_cc_list, label = \"training\")\n",
    "plt.plot(x, G_test_auroc_cc_list, label = \"calibrated\")\n",
    "plt.legend()\n",
    "for i in range(len(x)):\n",
    "    plt.annotate(round(G_test_auroc_list[i],3), (x[i], G_test_auroc_list[i]))\n",
    "    plt.annotate(round(G_test_auroc_tuned_list[i],3), (x[i], G_test_auroc_tuned_list[i]))\n",
    "    plt.annotate(round(G_test_auroc_cc_list[i],3), (x[i], G_test_auroc_cc_list[i]))\n",
    "plt.title('TSR_ALL3+1_XGBC_G', fontsize=15)\n",
    "#plt.savefig('INFO/TSR_ALL3/TSR_ALL31_XGBC_G.png')\n",
    "plt.show()"
   ]
  },
  {
   "cell_type": "markdown",
   "metadata": {},
   "source": [
    "# Machine Learning"
   ]
  },
  {
   "cell_type": "markdown",
   "metadata": {},
   "source": [
    "## Preprocess input data (BAD when Discharge)"
   ]
  },
  {
   "cell_type": "code",
   "execution_count": 27,
   "metadata": {},
   "outputs": [],
   "source": [
    "# discharged mRS = BAD (tsr_all3_df.discharged_mrs == 0)\n",
    "mrs_dis0 = tsr_all3_df[(tsr_all3_df.discharged_mrs != 1) & (tsr_all3_df.discharged_mrs != 0) & (tsr_all3_df.discharged_mrs != 2)]"
   ]
  },
  {
   "cell_type": "code",
   "execution_count": 28,
   "metadata": {},
   "outputs": [
    {
     "name": "stdout",
     "output_type": "stream",
     "text": [
      "(20941, 231)\n"
     ]
    }
   ],
   "source": [
    "## input dataset\n",
    "tsr_3B_input = mrs_dis0.drop([\"icase_id\", \"idcase_id\", \"mrs_tx_3\"], axis=1)\n",
    "print(tsr_3B_input.shape)\n",
    "tsr_3B_input = tsr_3B_input.astype(\"float64\")\n",
    "tsr_3B_input = np.array(tsr_3B_input.values)"
   ]
  },
  {
   "cell_type": "code",
   "execution_count": 29,
   "metadata": {},
   "outputs": [
    {
     "name": "stdout",
     "output_type": "stream",
     "text": [
      "(20941,)\n"
     ]
    }
   ],
   "source": [
    "## output dataset\n",
    "tsr_3B_output = mrs_dis0.mrs_tx_3\n",
    "print(tsr_3B_output.shape)\n",
    "tsr_3B_output = tsr_3B_output.astype(\"float64\")\n",
    "tsr_3B_output = np.array(tsr_3B_output.values)"
   ]
  },
  {
   "cell_type": "code",
   "execution_count": 30,
   "metadata": {},
   "outputs": [
    {
     "name": "stdout",
     "output_type": "stream",
     "text": [
      "The shape of X_train: (14658, 231)\n",
      "The shape of y_train: (14658,)\n",
      "The shape of X_test: (6283, 231)\n",
      "The shape of y_test: (6283,)\n"
     ]
    }
   ],
   "source": [
    "## train_test_split\n",
    "B_X_train, B_X_test, B_y_train, B_y_test = train_test_split(tsr_3B_input, tsr_3B_output, test_size=0.3, random_state=19)\n",
    "print(\"The shape of X_train:\", B_X_train.shape)\n",
    "print(\"The shape of y_train:\", B_y_train.shape)\n",
    "print(\"The shape of X_test:\", B_X_test.shape)\n",
    "print(\"The shape of y_test:\", B_y_test.shape)"
   ]
  },
  {
   "cell_type": "code",
   "execution_count": 31,
   "metadata": {},
   "outputs": [],
   "source": [
    "## scale B_X_train\n",
    "from sklearn.preprocessing import MinMaxScaler\n",
    "from sklearn.preprocessing import OrdinalEncoder\n",
    "from sklearn.preprocessing import OneHotEncoder\n",
    "\n",
    "B_X_train = pd.DataFrame(B_X_train)\n",
    "B_X_train.columns = tsr_all3_df.drop([\"icase_id\", \"idcase_id\", \"mrs_tx_3\"], axis=1).columns\n",
    "\n",
    "scaler = MinMaxScaler()\n",
    "B_X_train[continuous] = scaler.fit_transform(B_X_train[continuous])\n",
    "\n",
    "encoder = OrdinalEncoder(handle_unknown=\"use_encoded_value\", unknown_value=9)\n",
    "B_X_train[ordinal_features] = encoder.fit_transform(B_X_train[ordinal_features])\n",
    "\n",
    "ohe = OneHotEncoder(sparse=False)\n",
    "nominal_train = ohe.fit_transform(B_X_train[nominal_features])\n",
    "B_X_train = pd.concat([B_X_train, pd.DataFrame(nominal_train)], axis=1)\n",
    "B_X_train = B_X_train.drop(nominal_features, axis=1)\n",
    "\n",
    "B_x_train_columns = list(B_X_train.columns)\n",
    "B_x_train_columns = B_x_train_columns[0:201]\n",
    "get_feature_name = list(ohe.get_feature_names(nominal_features))\n",
    "B_x_train_columns = B_x_train_columns+get_feature_name\n",
    "\n",
    "B_X_train = np.array(B_X_train.values)"
   ]
  },
  {
   "cell_type": "code",
   "execution_count": 32,
   "metadata": {},
   "outputs": [],
   "source": [
    "## scale B_X_test\n",
    "B_X_test = pd.DataFrame(B_X_test)\n",
    "B_X_test.columns = tsr_all3_df.drop([\"icase_id\", \"idcase_id\", \"mrs_tx_3\"], axis=1).columns\n",
    "\n",
    "B_X_test[continuous] = scaler.transform(B_X_test[continuous])\n",
    "\n",
    "B_X_test[ordinal_features] = encoder.transform(B_X_test[ordinal_features])\n",
    "\n",
    "nominal_test = ohe.transform(B_X_test[nominal_features])\n",
    "B_X_test = pd.concat([B_X_test, pd.DataFrame(nominal_test)], axis=1)\n",
    "B_X_test = B_X_test.drop(nominal_features, axis=1)\n",
    "\n",
    "B_X_test = np.array(B_X_test.values)"
   ]
  },
  {
   "cell_type": "markdown",
   "metadata": {},
   "source": [
    "## Algorithms"
   ]
  },
  {
   "cell_type": "markdown",
   "metadata": {},
   "source": [
    "## Extra trees"
   ]
  },
  {
   "cell_type": "code",
   "execution_count": 33,
   "metadata": {},
   "outputs": [],
   "source": [
    "# base et\n",
    "et = ExtraTreesClassifier(random_state=19)\n",
    "\n",
    "#tune et\n",
    "hyperparameters_et = {\"extratreesclassifier__n_estimators\": (25, 100),\n",
    "                      \"extratreesclassifier__criterion\": (\"gini\", \"entropy\"),\n",
    "                      \"extratreesclassifier__max_depth\": (25, 100),\n",
    "                      \"extratreesclassifier__min_samples_split\": (25, 100),\n",
    "                      \"extratreesclassifier__max_features\": (0.1, 0.9),\n",
    "                      \"extratreesclassifier__bootstrap\": (True, False),\n",
    "                      \"extratreesclassifier__class_weight\": ('balanced', {0: 1, 1: 3}, {0: 3, 1: 1}),\n",
    "                      \"extratreesclassifier__max_samples\": (0.3, 0.8)}\n",
    "\n",
    "pipeline = make_pipeline(TomekLinks(), ExtraTreesClassifier(random_state=19))\n",
    "\n",
    "etB_rscv = RandomizedSearchCV(estimator=pipeline,\n",
    "                              param_distributions=hyperparameters_et,\n",
    "                              n_jobs=-1,\n",
    "                              scoring='roc_auc',\n",
    "                              verbose=5,                        \n",
    "                              cv=5,\n",
    "                              n_iter = 50,\n",
    "                              random_state = 19)"
   ]
  },
  {
   "cell_type": "markdown",
   "metadata": {},
   "source": [
    "### BASE ET"
   ]
  },
  {
   "cell_type": "code",
   "execution_count": 34,
   "metadata": {},
   "outputs": [
    {
     "name": "stdout",
     "output_type": "stream",
     "text": [
      "AUC of training set: 1.0\n",
      "AUC of testing set: 0.903825083775221\n"
     ]
    }
   ],
   "source": [
    "et.fit(B_X_train, B_y_train)\n",
    "\n",
    "B_y_train_pred = et.predict_proba(B_X_train)\n",
    "fpr, tpr, thresholds = roc_curve(B_y_train, B_y_train_pred[:, 1])\n",
    "B_train_auroc = auc(fpr, tpr)\n",
    "print('AUC of training set:', B_train_auroc)\n",
    "\n",
    "B_y_test_pred = et.predict_proba(B_X_test)\n",
    "fpr, tpr, thresholds = roc_curve(B_y_test, B_y_test_pred[:, 1])\n",
    "B_test_auroc = auc(fpr, tpr)\n",
    "print('AUC of testing set:', B_test_auroc)"
   ]
  },
  {
   "cell_type": "markdown",
   "metadata": {},
   "source": [
    "### TUNE ET"
   ]
  },
  {
   "cell_type": "code",
   "execution_count": 35,
   "metadata": {},
   "outputs": [
    {
     "name": "stdout",
     "output_type": "stream",
     "text": [
      "Fitting 5 folds for each of 50 candidates, totalling 250 fits\n",
      "--> Tuned Parameters Best Score:  0.928608063649321\n",
      "--> Best Parameters: \n",
      " {'extratreesclassifier__n_estimators': 100, 'extratreesclassifier__min_samples_split': 25, 'extratreesclassifier__max_samples': 0.8, 'extratreesclassifier__max_features': 0.9, 'extratreesclassifier__max_depth': 100, 'extratreesclassifier__criterion': 'entropy', 'extratreesclassifier__class_weight': 'balanced', 'extratreesclassifier__bootstrap': True}\n"
     ]
    }
   ],
   "source": [
    "etB_rsCV = etB_rscv.fit(B_X_train, B_y_train)\n",
    "print('--> Tuned Parameters Best Score: ', etB_rsCV.best_score_)\n",
    "print('--> Best Parameters: \\n', etB_rsCV.best_params_)"
   ]
  },
  {
   "cell_type": "code",
   "execution_count": 36,
   "metadata": {},
   "outputs": [
    {
     "name": "stdout",
     "output_type": "stream",
     "text": [
      "AUC of training set: 0.9893495541516821\n",
      "AUC of testing set: 0.9240988740127569\n"
     ]
    }
   ],
   "source": [
    "B_y_train_pred = etB_rsCV.predict_proba(B_X_train)\n",
    "fpr, tpr, thresholds = roc_curve(B_y_train, B_y_train_pred[:, 1])\n",
    "B_train_auroc_tuned = auc(fpr, tpr)\n",
    "print('AUC of training set:', B_train_auroc_tuned)\n",
    "\n",
    "B_y_test_pred = etB_rsCV.predict_proba(B_X_test)\n",
    "fpr, tpr, thresholds = roc_curve(B_y_test, B_y_test_pred[:, 1])\n",
    "B_test_auroc_tuned = auc(fpr, tpr)\n",
    "print('AUC of testing set:', B_test_auroc_tuned)"
   ]
  },
  {
   "cell_type": "code",
   "execution_count": 37,
   "metadata": {},
   "outputs": [
    {
     "name": "stdout",
     "output_type": "stream",
     "text": [
      "AUC of training set: 0.9855009106623251\n",
      "AUC of testing set: 0.9263989930307521\n"
     ]
    }
   ],
   "source": [
    "etB_cccv = CalibratedClassifierCV(base_estimator=etB_rsCV.best_estimator_, cv=5)\n",
    "etB_ccCV = etB_cccv.fit(B_X_train, B_y_train)\n",
    "\n",
    "B_y_train_pred = etB_ccCV.predict_proba(B_X_train)\n",
    "fpr, tpr, thresholds = roc_curve(B_y_train, B_y_train_pred[:, 1])\n",
    "B_train_auroc_cc = auc(fpr, tpr)\n",
    "print('AUC of training set:', B_train_auroc_cc)\n",
    "\n",
    "B_y_test_pred = etB_ccCV.predict_proba(B_X_test)\n",
    "fpr, tpr, thresholds = roc_curve(B_y_test, B_y_test_pred[:, 1])\n",
    "B_test_auroc_cc = auc(fpr, tpr)\n",
    "print('AUC of testing set:', B_test_auroc_cc)"
   ]
  },
  {
   "cell_type": "markdown",
   "metadata": {},
   "source": [
    "## Thresholds"
   ]
  },
  {
   "cell_type": "code",
   "execution_count": 38,
   "metadata": {},
   "outputs": [
    {
     "data": {
      "image/png": "[encoded data removed]",
      "text/plain": [
       "<Figure size 360x720 with 2 Axes>"
      ]
     },
     "metadata": {
      "needs_background": "light"
     },
     "output_type": "display_data"
    }
   ],
   "source": [
    "etB_sigma = etB_rsCV.best_estimator_._final_estimator.feature_importances_\n",
    "etB_sigma_df = pd.DataFrame(etB_sigma)\n",
    "etB_sigma_df.index = B_x_train_columns\n",
    "etB_sigma_df.columns = ([\"Value\"])\n",
    "etB_sigma_plot = etB_sigma_df.sort_values([\"Value\"], ascending=False).head(30)\n",
    "\n",
    "plt.figure(figsize=(5, 10))\n",
    "sns.heatmap(etB_sigma_plot, vmin=-1, vmax=1, annot=True, cmap='BrBG')\n",
    "plt.title('Threshold of TSR_ALL3+1_ET_B Feature Importance')\n",
    "#plt.savefig('INFO/TSR_ALL3/etB31_sigma_df.png')\n",
    "plt.show()"
   ]
  },
  {
   "cell_type": "markdown",
   "metadata": {},
   "source": [
    "### Selected Columns"
   ]
  },
  {
   "cell_type": "code",
   "execution_count": 39,
   "metadata": {},
   "outputs": [
    {
     "name": "stdout",
     "output_type": "stream",
     "text": [
      "Fitting 5 folds for each of 50 candidates, totalling 250 fits\n",
      "--> Tuned Parameters Best Score:  0.9260757948072038\n",
      "--> Best Parameters: \n",
      " {'extratreesclassifier__n_estimators': 100, 'extratreesclassifier__min_samples_split': 100, 'extratreesclassifier__max_samples': 0.3, 'extratreesclassifier__max_features': 0.9, 'extratreesclassifier__max_depth': 25, 'extratreesclassifier__criterion': 'gini', 'extratreesclassifier__class_weight': {0: 1, 1: 3}, 'extratreesclassifier__bootstrap': True}\n",
      "Fitting 5 folds for each of 50 candidates, totalling 250 fits\n",
      "--> Tuned Parameters Best Score:  0.9267107238223122\n",
      "--> Best Parameters: \n",
      " {'extratreesclassifier__n_estimators': 100, 'extratreesclassifier__min_samples_split': 100, 'extratreesclassifier__max_samples': 0.3, 'extratreesclassifier__max_features': 0.9, 'extratreesclassifier__max_depth': 25, 'extratreesclassifier__criterion': 'gini', 'extratreesclassifier__class_weight': {0: 1, 1: 3}, 'extratreesclassifier__bootstrap': True}\n",
      "Fitting 5 folds for each of 50 candidates, totalling 250 fits\n",
      "--> Tuned Parameters Best Score:  0.928874367900181\n",
      "--> Best Parameters: \n",
      " {'extratreesclassifier__n_estimators': 100, 'extratreesclassifier__min_samples_split': 100, 'extratreesclassifier__max_samples': 0.3, 'extratreesclassifier__max_features': 0.9, 'extratreesclassifier__max_depth': 25, 'extratreesclassifier__criterion': 'gini', 'extratreesclassifier__class_weight': {0: 1, 1: 3}, 'extratreesclassifier__bootstrap': True}\n"
     ]
    }
   ],
   "source": [
    "etB_sigma_df = etB_sigma_df.reset_index(drop=False)\n",
    "etB_sigma_df.columns = ([\"Feature\",\"Value\"])\n",
    "etB_sigma_df = etB_sigma_df.sort_values([\"Value\"], ascending=False)\n",
    "\n",
    "B_train_auroc_list = []\n",
    "B_test_auroc_list = []\n",
    "B_train_auroc_tuned_list = []\n",
    "B_test_auroc_tuned_list = []\n",
    "B_train_auroc_cc_list = []\n",
    "B_test_auroc_cc_list = []\n",
    "\n",
    "for i in 10,20,30:\n",
    "    etB_sigma_index = etB_sigma_df[0:i].index\n",
    "    \n",
    "    B_X_train = pd.DataFrame(B_X_train)\n",
    "    B_X_train_selected = B_X_train.iloc[:, etB_sigma_index]\n",
    "    B_X_train_selected = np.array(B_X_train_selected.values)\n",
    "    \n",
    "    B_X_test = pd.DataFrame(B_X_test)\n",
    "    B_X_test_selected = B_X_test.iloc[:, etB_sigma_index]\n",
    "    B_X_test_selected = np.array(B_X_test_selected.values)\n",
    "    \n",
    "    # base et_selected\n",
    "    et.fit(B_X_train_selected, B_y_train)\n",
    "    \n",
    "    B_y_train_pred = et.predict_proba(B_X_train_selected)\n",
    "    fpr, tpr, thresholds = roc_curve(B_y_train, B_y_train_pred[:, 1])\n",
    "    B_train_auroc_selected = auc(fpr, tpr)\n",
    "    B_train_auroc_list.append(B_train_auroc_selected)\n",
    "    \n",
    "    B_y_test_pred = et.predict_proba(B_X_test_selected)\n",
    "    fpr, tpr, thresholds = roc_curve(B_y_test, B_y_test_pred[:, 1])\n",
    "    B_test_auroc_selected = auc(fpr, tpr)\n",
    "    B_test_auroc_list.append(B_test_auroc_selected)\n",
    "    \n",
    "    # tune et_selected\n",
    "    etB_rsCV_selected = etB_rscv.fit(B_X_train_selected, B_y_train)\n",
    "    print('--> Tuned Parameters Best Score: ', etB_rsCV_selected.best_score_)\n",
    "    print('--> Best Parameters: \\n', etB_rsCV_selected.best_params_)\n",
    "    \n",
    "    B_y_train_pred = etB_rsCV_selected.predict_proba(B_X_train_selected)\n",
    "    fpr, tpr, thresholds = roc_curve(B_y_train, B_y_train_pred[:, 1])\n",
    "    B_train_auroc_selected_tuned = auc(fpr, tpr)\n",
    "    B_train_auroc_tuned_list.append(B_train_auroc_selected_tuned)\n",
    "\n",
    "    B_y_test_pred = etB_rsCV_selected.predict_proba(B_X_test_selected)\n",
    "    fpr, tpr, thresholds = roc_curve(B_y_test, B_y_test_pred[:, 1])\n",
    "    B_test_auroc_selected_tuned = auc(fpr, tpr)\n",
    "    B_test_auroc_tuned_list.append(B_test_auroc_selected_tuned)\n",
    "\n",
    "    etB_cccv = CalibratedClassifierCV(base_estimator=etB_rsCV_selected.best_estimator_, cv=5)\n",
    "    etB_ccCV = etB_cccv.fit(B_X_train_selected, B_y_train)\n",
    "\n",
    "    B_y_train_pred = etB_ccCV.predict_proba(B_X_train_selected)\n",
    "    fpr, tpr, thresholds = roc_curve(B_y_train, B_y_train_pred[:, 1])\n",
    "    B_train_auroc_selected_cc = auc(fpr, tpr)\n",
    "    B_train_auroc_cc_list.append(B_train_auroc_selected_cc)\n",
    "\n",
    "    B_y_test_pred = etB_ccCV.predict_proba(B_X_test_selected)\n",
    "    fpr, tpr, thresholds = roc_curve(B_y_test, B_y_test_pred[:, 1])\n",
    "    B_test_auroc_selected_cc = auc(fpr, tpr)\n",
    "    B_test_auroc_cc_list.append(B_test_auroc_selected_cc)\n",
    "    \n",
    "B_train_auroc_list.append(B_train_auroc)\n",
    "B_test_auroc_list.append(B_test_auroc)\n",
    "B_train_auroc_tuned_list.append(B_train_auroc_tuned)\n",
    "B_test_auroc_tuned_list.append(B_test_auroc_tuned)\n",
    "B_train_auroc_cc_list.append(B_train_auroc_cc)\n",
    "B_test_auroc_cc_list.append(B_test_auroc_cc)"
   ]
  },
  {
   "cell_type": "code",
   "execution_count": 40,
   "metadata": {},
   "outputs": [
    {
     "data": {
      "image/png": "[encoded data removed]",
      "text/plain": [
       "<Figure size 432x288 with 1 Axes>"
      ]
     },
     "metadata": {
      "needs_background": "light"
     },
     "output_type": "display_data"
    }
   ],
   "source": [
    "x = \"10\",\"20\",\"30\",\"311\"\n",
    "#plt.plot(x, B_train_auroc_list, label = \"training\")\n",
    "plt.plot(x, B_test_auroc_list, label = \"based\")\n",
    "#plt.plot(x, B_train_auroc_tuned_list, label = \"training\")\n",
    "plt.plot(x, B_test_auroc_tuned_list, label = \"tuned\")\n",
    "#plt.plot(x, B_train_auroc_cc_list, label = \"training\")\n",
    "plt.plot(x, B_test_auroc_cc_list, label = \"calibrated\")\n",
    "plt.legend()\n",
    "for i in range(len(x)):\n",
    "    plt.annotate(round(B_test_auroc_list[i],3), (x[i], B_test_auroc_list[i]))\n",
    "    plt.annotate(round(B_test_auroc_tuned_list[i],3), (x[i], B_test_auroc_tuned_list[i]))\n",
    "    plt.annotate(round(B_test_auroc_cc_list[i],3), (x[i], B_test_auroc_cc_list[i]))\n",
    "plt.title('TSR_ALL3+1_ET_B', fontsize=15)\n",
    "#plt.savefig('INFO/TSR_ALL3/TSR_ALL31_ET_B.png')\n",
    "plt.show()"
   ]
  },
  {
   "cell_type": "markdown",
   "metadata": {},
   "source": [
    "## XGBClassifier"
   ]
  },
  {
   "cell_type": "code",
   "execution_count": 41,
   "metadata": {},
   "outputs": [],
   "source": [
    "# base xgbc\n",
    "xgbc = XGBClassifier(random_state=19, use_label_encoder=False, eval_metric = \"auc\", tree_method = \"hist\", n_jobs=-1)\n",
    "\n",
    "# tune xgbc\n",
    "hyperparameters_xgbc = {\"xgbclassifier__booster\": (\"gbtree\", \"dart\"),\n",
    "                        \"xgbclassifier__learning_rate\": (0.01, 0.1),\n",
    "                        \"xgbclassifier__max_depth\": (25, 50),\n",
    "                        \"xgbclassifier__subsample\": (0.3, 0.8),\n",
    "                        \"xgbclassifier__colsample_bytree\": (0.3, 0.8),\n",
    "                        \"xgbclassifier__reg_lambda\": (0.1, 10),\n",
    "                        \"xgbclassifier__reg_alpha\": (0.1, 10),\n",
    "                        \"xgbclassifier__gamma\": (0.1, 10),\n",
    "                        \"xgbclassifier__n_estimators\": (25, 100),\n",
    "                        \"xgbclassifier__scale_pos_weight\": (0.33, 3)}\n",
    "\n",
    "pipeline = make_pipeline(TomekLinks(), XGBClassifier(random_state=19, use_label_encoder=False, eval_metric=\"auc\", tree_method = \"hist\"))\n",
    "\n",
    "xgbcB_rscv = RandomizedSearchCV(estimator=pipeline,                       \n",
    "                                param_distributions=hyperparameters_xgbc,                      \n",
    "                                n_jobs=-1,                      \n",
    "                                scoring=\"roc_auc\",                     \n",
    "                                verbose=5,                      \n",
    "                                cv=5,                        \n",
    "                                n_iter=50,\n",
    "                                random_state = 19)"
   ]
  },
  {
   "cell_type": "markdown",
   "metadata": {},
   "source": [
    "### BASE XGBC"
   ]
  },
  {
   "cell_type": "code",
   "execution_count": 42,
   "metadata": {},
   "outputs": [
    {
     "name": "stdout",
     "output_type": "stream",
     "text": [
      "AUC of training set: 0.9999047592542774\n",
      "AUC of testing set: 0.9203901933999321\n"
     ]
    }
   ],
   "source": [
    "xgbc.fit(B_X_train, B_y_train)\n",
    "\n",
    "B_y_train_pred = xgbc.predict_proba(B_X_train)\n",
    "fpr, tpr, thresholds = roc_curve(B_y_train , B_y_train_pred[:, 1])\n",
    "B_train_auroc = auc(fpr, tpr)\n",
    "print('AUC of training set:', B_train_auroc)\n",
    "\n",
    "B_y_test_pred = xgbc.predict_proba(B_X_test)\n",
    "fpr, tpr, thresholds = roc_curve(B_y_test, B_y_test_pred[:, 1])\n",
    "B_test_auroc = auc(fpr, tpr)\n",
    "print('AUC of testing set:', B_test_auroc)"
   ]
  },
  {
   "cell_type": "markdown",
   "metadata": {},
   "source": [
    "### TUNE XGBC"
   ]
  },
  {
   "cell_type": "code",
   "execution_count": 43,
   "metadata": {},
   "outputs": [
    {
     "name": "stdout",
     "output_type": "stream",
     "text": [
      "Fitting 5 folds for each of 50 candidates, totalling 250 fits\n",
      "--> Tuned Parameters Best Score:  0.9299197117807033\n",
      "--> Best Parameters: \n",
      " {'xgbclassifier__subsample': 0.8, 'xgbclassifier__scale_pos_weight': 0.33, 'xgbclassifier__reg_lambda': 10, 'xgbclassifier__reg_alpha': 0.1, 'xgbclassifier__n_estimators': 100, 'xgbclassifier__max_depth': 50, 'xgbclassifier__learning_rate': 0.1, 'xgbclassifier__gamma': 0.1, 'xgbclassifier__colsample_bytree': 0.3, 'xgbclassifier__booster': 'dart'}\n"
     ]
    }
   ],
   "source": [
    "xgbcB_rsCV = xgbcB_rscv.fit(B_X_train, B_y_train)\n",
    "print(\"--> Tuned Parameters Best Score: \", xgbcB_rsCV.best_score_)\n",
    "print(\"--> Best Parameters: \\n\", xgbcB_rsCV.best_params_)"
   ]
  },
  {
   "cell_type": "code",
   "execution_count": 44,
   "metadata": {},
   "outputs": [
    {
     "name": "stdout",
     "output_type": "stream",
     "text": [
      "AUC of training set: 0.9822943949171952\n",
      "AUC of testing set: 0.9257986590217767\n"
     ]
    }
   ],
   "source": [
    "B_y_train_pred = xgbcB_rsCV.predict_proba(B_X_train)\n",
    "fpr, tpr, thresholds = roc_curve(B_y_train, B_y_train_pred[:, 1])\n",
    "B_train_auroc_tuned = auc(fpr, tpr)\n",
    "print('AUC of training set:', B_train_auroc_tuned)\n",
    "\n",
    "B_y_test_pred = xgbcB_rsCV.predict_proba(B_X_test)\n",
    "fpr, tpr, thresholds = roc_curve(B_y_test, B_y_test_pred[:, 1])\n",
    "B_test_auroc_tuned = auc(fpr, tpr)\n",
    "print('AUC of testing set:', B_test_auroc_tuned)"
   ]
  },
  {
   "cell_type": "code",
   "execution_count": 45,
   "metadata": {},
   "outputs": [
    {
     "name": "stdout",
     "output_type": "stream",
     "text": [
      "AUC of training set: 0.978332988034093\n",
      "AUC of testing set: 0.9265112728029226\n"
     ]
    }
   ],
   "source": [
    "xgbcB_cccv = CalibratedClassifierCV(base_estimator=xgbcB_rsCV.best_estimator_, cv=5)\n",
    "xgbcB_ccCV = xgbcB_cccv.fit(B_X_train, B_y_train)\n",
    "\n",
    "B_y_train_pred = xgbcB_ccCV.predict_proba(B_X_train)\n",
    "fpr, tpr, thresholds = roc_curve(B_y_train, B_y_train_pred[:, 1])\n",
    "B_train_auroc_cc = auc(fpr, tpr)\n",
    "print('AUC of training set:', B_train_auroc_cc)\n",
    "\n",
    "B_y_test_pred = xgbcB_ccCV.predict_proba(B_X_test)\n",
    "fpr, tpr, thresholds = roc_curve(B_y_test, B_y_test_pred[:, 1])\n",
    "B_test_auroc_cc = auc(fpr, tpr)\n",
    "print('AUC of testing set:', B_test_auroc_cc)"
   ]
  },
  {
   "cell_type": "markdown",
   "metadata": {},
   "source": [
    "## Thresholds"
   ]
  },
  {
   "cell_type": "code",
   "execution_count": 46,
   "metadata": {},
   "outputs": [
    {
     "data": {
      "image/png": "[encoded data removed]",
      "text/plain": [
       "<Figure size 360x720 with 2 Axes>"
      ]
     },
     "metadata": {
      "needs_background": "light"
     },
     "output_type": "display_data"
    }
   ],
   "source": [
    "xgbcB_sigma = xgbcB_rsCV.best_estimator_._final_estimator.feature_importances_\n",
    "xgbcB_sigma_df = pd.DataFrame(xgbcB_sigma)\n",
    "xgbcB_sigma_df.index = B_x_train_columns\n",
    "xgbcB_sigma_df.columns = ([\"Value\"])\n",
    "xgbcB_sigma_plot = xgbcB_sigma_df.sort_values([\"Value\"], ascending=False).head(30)\n",
    "\n",
    "plt.figure(figsize=(5, 10))\n",
    "sns.heatmap(xgbcB_sigma_plot, vmin=-1, vmax=1, annot=True, cmap='BrBG')\n",
    "plt.title('Threshold of TSR_ALL3+1_XGBC_B Feature Importance')\n",
    "#plt.savefig('INFO/TSR_ALL3/xgbcB31_sigma_df.png')\n",
    "plt.show()"
   ]
  },
  {
   "cell_type": "markdown",
   "metadata": {},
   "source": [
    "### Selected Columns"
   ]
  },
  {
   "cell_type": "code",
   "execution_count": 47,
   "metadata": {},
   "outputs": [
    {
     "name": "stdout",
     "output_type": "stream",
     "text": [
      "Fitting 5 folds for each of 50 candidates, totalling 250 fits\n",
      "--> Tuned Paramxgbcers Best Score:  0.9229726533587279\n",
      "--> Best Paramxgbcers: \n",
      " {'xgbclassifier__subsample': 0.3, 'xgbclassifier__scale_pos_weight': 3, 'xgbclassifier__reg_lambda': 0.1, 'xgbclassifier__reg_alpha': 10, 'xgbclassifier__n_estimators': 100, 'xgbclassifier__max_depth': 50, 'xgbclassifier__learning_rate': 0.1, 'xgbclassifier__gamma': 10, 'xgbclassifier__colsample_bytree': 0.8, 'xgbclassifier__booster': 'gbtree'}\n",
      "Fitting 5 folds for each of 50 candidates, totalling 250 fits\n",
      "--> Tuned Paramxgbcers Best Score:  0.9294361060089518\n",
      "--> Best Paramxgbcers: \n",
      " {'xgbclassifier__subsample': 0.3, 'xgbclassifier__scale_pos_weight': 3, 'xgbclassifier__reg_lambda': 0.1, 'xgbclassifier__reg_alpha': 10, 'xgbclassifier__n_estimators': 100, 'xgbclassifier__max_depth': 50, 'xgbclassifier__learning_rate': 0.1, 'xgbclassifier__gamma': 10, 'xgbclassifier__colsample_bytree': 0.8, 'xgbclassifier__booster': 'gbtree'}\n",
      "Fitting 5 folds for each of 50 candidates, totalling 250 fits\n",
      "--> Tuned Paramxgbcers Best Score:  0.9295926475450702\n",
      "--> Best Paramxgbcers: \n",
      " {'xgbclassifier__subsample': 0.3, 'xgbclassifier__scale_pos_weight': 3, 'xgbclassifier__reg_lambda': 0.1, 'xgbclassifier__reg_alpha': 10, 'xgbclassifier__n_estimators': 100, 'xgbclassifier__max_depth': 50, 'xgbclassifier__learning_rate': 0.1, 'xgbclassifier__gamma': 10, 'xgbclassifier__colsample_bytree': 0.8, 'xgbclassifier__booster': 'gbtree'}\n"
     ]
    }
   ],
   "source": [
    "xgbcB_sigma_df = xgbcB_sigma_df.reset_index(drop=False)\n",
    "xgbcB_sigma_df.columns = ([\"Feature\",\"Value\"])\n",
    "xgbcB_sigma_df = xgbcB_sigma_df.sort_values([\"Value\"], ascending=False)\n",
    "\n",
    "B_train_auroc_list = []\n",
    "B_test_auroc_list = []\n",
    "B_train_auroc_tuned_list = []\n",
    "B_test_auroc_tuned_list = []\n",
    "B_train_auroc_cc_list = []\n",
    "B_test_auroc_cc_list = []\n",
    "\n",
    "for i in 10,20,30:\n",
    "    xgbcB_sigma_index = xgbcB_sigma_df[0:i].index\n",
    "    \n",
    "    B_X_train = pd.DataFrame(B_X_train)\n",
    "    B_X_train_selected = B_X_train.iloc[:, xgbcB_sigma_index]\n",
    "    B_X_train_selected = np.array(B_X_train_selected.values)\n",
    "    \n",
    "    B_X_test = pd.DataFrame(B_X_test)\n",
    "    B_X_test_selected = B_X_test.iloc[:, xgbcB_sigma_index]\n",
    "    B_X_test_selected = np.array(B_X_test_selected.values)\n",
    "    \n",
    "    et = ExtraTreesClassifier(random_state=19)\n",
    "    et.fit(B_X_train_selected, B_y_train)\n",
    "    \n",
    "    B_y_train_pred = et.predict_proba(B_X_train_selected)\n",
    "    fpr, tpr, thresholds = roc_curve(B_y_train, B_y_train_pred[:, 1])\n",
    "    B_train_auroc_selected = auc(fpr, tpr)\n",
    "    B_train_auroc_list.append(B_train_auroc_selected)\n",
    "    \n",
    "    B_y_test_pred = et.predict_proba(B_X_test_selected)\n",
    "    fpr, tpr, thresholds = roc_curve(B_y_test, B_y_test_pred[:, 1])\n",
    "    B_test_auroc_selected = auc(fpr, tpr)\n",
    "    B_test_auroc_list.append(B_test_auroc_selected)\n",
    "    \n",
    "    xgbcB_rsCV_selected = xgbcB_rscv.fit(B_X_train_selected, B_y_train)\n",
    "    print('--> Tuned Paramxgbcers Best Score: ', xgbcB_rsCV_selected.best_score_)\n",
    "    print('--> Best Paramxgbcers: \\n', xgbcB_rsCV_selected.best_params_)\n",
    "\n",
    "    B_y_train_pred = xgbcB_rsCV_selected.predict_proba(B_X_train_selected)\n",
    "    fpr, tpr, thresholds = roc_curve(B_y_train, B_y_train_pred[:, 1])\n",
    "    B_train_auroc_selected_tuned = auc(fpr, tpr)\n",
    "    B_train_auroc_tuned_list.append(B_train_auroc_selected_tuned)\n",
    "\n",
    "    B_y_test_pred = xgbcB_rsCV_selected.predict_proba(B_X_test_selected)\n",
    "    fpr, tpr, thresholds = roc_curve(B_y_test, B_y_test_pred[:, 1])\n",
    "    B_test_auroc_selected_tuned = auc(fpr, tpr)\n",
    "    B_test_auroc_tuned_list.append(B_test_auroc_selected_tuned)\n",
    "\n",
    "    xgbcB_cccv = CalibratedClassifierCV(base_estimator=xgbcB_rsCV_selected.best_estimator_, cv=5)\n",
    "    xgbcB_ccCV = xgbcB_cccv.fit(B_X_train_selected, B_y_train)\n",
    "\n",
    "    B_y_train_pred = xgbcB_ccCV.predict_proba(B_X_train_selected)\n",
    "    fpr, tpr, thresholds = roc_curve(B_y_train, B_y_train_pred[:, 1])\n",
    "    B_train_auroc_selected_cc = auc(fpr, tpr)\n",
    "    B_train_auroc_cc_list.append(B_train_auroc_selected_cc)\n",
    "\n",
    "    B_y_test_pred = xgbcB_ccCV.predict_proba(B_X_test_selected)\n",
    "    fpr, tpr, thresholds = roc_curve(B_y_test, B_y_test_pred[:, 1])\n",
    "    B_test_auroc_selected_cc = auc(fpr, tpr)\n",
    "    B_test_auroc_cc_list.append(B_test_auroc_selected_cc)\n",
    "    \n",
    "B_train_auroc_list.append(B_train_auroc)\n",
    "B_test_auroc_list.append(B_test_auroc)\n",
    "B_train_auroc_tuned_list.append(B_train_auroc_tuned)\n",
    "B_test_auroc_tuned_list.append(B_test_auroc_tuned)\n",
    "B_train_auroc_cc_list.append(B_train_auroc_cc)\n",
    "B_test_auroc_cc_list.append(B_test_auroc_cc)"
   ]
  },
  {
   "cell_type": "code",
   "execution_count": 48,
   "metadata": {},
   "outputs": [
    {
     "data": {
      "image/png": "[encoded data removed]",
      "text/plain": [
       "<Figure size 432x288 with 1 Axes>"
      ]
     },
     "metadata": {
      "needs_background": "light"
     },
     "output_type": "display_data"
    }
   ],
   "source": [
    "x = \"10\",\"20\",\"30\",\"311\"\n",
    "#plt.plot(x, B_train_auroc_list, label = \"training\")\n",
    "plt.plot(x, B_test_auroc_list, label = \"based\")\n",
    "#plt.plot(x, B_train_auroc_tuned_list, label = \"training\")\n",
    "plt.plot(x, B_test_auroc_tuned_list, label = \"tuned\")\n",
    "#plt.plot(x, B_train_auroc_cc_list, label = \"training\")\n",
    "plt.plot(x, B_test_auroc_cc_list, label = \"calibrated\")\n",
    "plt.legend()\n",
    "for i in range(len(x)):\n",
    "    plt.annotate(round(B_test_auroc_list[i],3), (x[i], B_test_auroc_list[i]))\n",
    "    plt.annotate(round(B_test_auroc_tuned_list[i],3), (x[i], B_test_auroc_tuned_list[i]))\n",
    "    plt.annotate(round(B_test_auroc_cc_list[i],3), (x[i], B_test_auroc_cc_list[i]))\n",
    "plt.title('TSR_ALL3+1_XGBC_B', fontsize=15)\n",
    "#plt.savefig('INFO/TSR_ALL3/TSR_ALL31_XGBC_B.png')\n",
    "plt.show()"
   ]
  },
  {
   "cell_type": "code",
   "execution_count": 49,
   "metadata": {},
   "outputs": [],
   "source": [
    "a = pd.DataFrame(set(etG_sigma_plot.index) & set(xgbcG_sigma_plot.index) & set(etB_sigma_plot.index) & set(xgbcB_sigma_plot.index))\n",
    "b = pd.DataFrame(set(etG_sigma_plot.index) | set(xgbcG_sigma_plot.index) | set(etB_sigma_plot.index) | set(xgbcB_sigma_plot.index))\n",
    "\n",
    "c = pd.concat([a,b], axis = 1)\n",
    "c[c.isnull()] = \"\"\n",
    "c.columns = ([\"TSR31_AND\", \"TSR31_OR\"])\n",
    "csv_path = os.path.join(\"INFO\", \"TSR_ALL31AND.csv\")\n",
    "#c.to_csv(csv_path)"
   ]
  },
  {
   "cell_type": "code",
   "execution_count": 50,
   "metadata": {},
   "outputs": [],
   "source": [
    "a = pd.DataFrame(etG_sigma_plot)\n",
    "b = pd.DataFrame(xgbcG_sigma_plot)\n",
    "c = pd.DataFrame(etB_sigma_plot)\n",
    "d = pd.DataFrame(xgbcB_sigma_plot)\n",
    "e = pd.concat([pd.Series(a.index),pd.Series(b.index),pd.Series(c.index),pd.Series(d.index)], axis = 1)\n",
    "e.columns = ([\"TSR31_etG_sigma_plot\", \"TSR31_xgbcG_sigma_plot\", \"TSR31_etB_sigma_plot\", \"TSR31_xgbcB_sigma_plot\"])\n",
    "\n",
    "csv_path = os.path.join(\"INFO\", \"etG31_sigma_plot.csv\")\n",
    "#a.to_csv(csv_path)\n",
    "csv_path = os.path.join(\"INFO\", \"xgbcG31_sigma_plot.csv\")\n",
    "#b.to_csv(csv_path)\n",
    "csv_path = os.path.join(\"INFO\", \"etB31_sigma_plot.csv\")\n",
    "#c.to_csv(csv_path)\n",
    "csv_path = os.path.join(\"INFO\", \"xgbcB31_sigma_plot.csv\")\n",
    "#d.to_csv(csv_path)\n",
    "csv_path = os.path.join(\"INFO\", \"TSR_ALL31.csv\")\n",
    "#e.to_csv(csv_path)"
   ]
  }
 ],
 "metadata": {
  "kernelspec": {
   "display_name": "Python 3",
   "language": "python",
   "name": "python3"
  },
  "language_info": {
   "codemirror_mode": {
    "name": "ipython",
    "version": 3
   },
   "file_extension": ".py",
   "mimetype": "text/x-python",
   "name": "python",
   "nbconvert_exporter": "python",
   "pygments_lexer": "ipython3",
   "version": "3.8.10"
  }
 },
 "nbformat": 4,
 "nbformat_minor": 4
}
