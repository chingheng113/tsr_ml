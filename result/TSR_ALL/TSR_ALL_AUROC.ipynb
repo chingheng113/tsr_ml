{
 "cells": [
  {
   "cell_type": "code",
   "execution_count": 1,
   "id": "8e12441a",
   "metadata": {},
   "outputs": [],
   "source": [
    "import warnings\n",
    "warnings.filterwarnings(\"ignore\")\n",
    "import pandas as pd\n",
    "import os\n",
    "import numpy as np\n",
    "import joblib\n",
    "from sklearn.metrics import auc, roc_curve\n",
    "from sklearn.calibration import CalibratedClassifierCV\n",
    "import matplotlib.pyplot as plt"
   ]
  },
  {
   "cell_type": "raw",
   "id": "777f258d",
   "metadata": {},
   "source": [
    "def algorithms(X_train, X_test, y_train, y_test, tuned, calibrated):\n",
    "    # CALIBRATED\n",
    "    y_test_pred = calibrated.predict_proba(X_test)\n",
    "    fpr, tpr, thresholds = roc_curve(y_test, y_test_pred[:, 1])\n",
    "    auroc_cc = auc(fpr, tpr)\n",
    "\n",
    "    #### Selected Columns\n",
    "    model_fi = calibrated.base_estimator._final_estimator.feature_importances_\n",
    "    model_fi_df = pd.DataFrame(model_fi)\n",
    "    model_fi_df.index = X_test.columns\n",
    "    model_fi_df.columns = ([\"Value\"])\n",
    "    model_fi_df = model_fi_df.reset_index(drop=False)\n",
    "    model_fi_df.columns = ([\"Feature\", \"Value\"])\n",
    "    model_fi_df = model_fi_df.sort_values([\"Value\"], ascending=False)\n",
    "\n",
    "    ### sigma threshold\n",
    "    model_fi_df_noZERO = model_fi_df[~model_fi_df.Value.isin([0])]\n",
    "    model_fi_df_noZERO_mean = model_fi_df_noZERO.Value.mean()\n",
    "    model_fi_df_noZERO_std = model_fi_df_noZERO.Value.std()\n",
    "    sigma_n = len(model_fi_df_noZERO[model_fi_df_noZERO.Value > model_fi_df_noZERO_mean + model_fi_df_noZERO_std])\n",
    "    print(sigma_n)\n",
    "\n",
    "    auroc_cc_list = []\n",
    "\n",
    "    for i in sigma_n, 10, 20, 30:\n",
    "        model_fi_index = model_fi_df[0:i].index\n",
    "\n",
    "        X_train_selected = X_train.iloc[:, model_fi_index]\n",
    "        X_test_selected = X_test.iloc[:, model_fi_index]\n",
    "\n",
    "        # tune et_selected\n",
    "        rscv_selected = tuned.best_estimator_\n",
    "        TUNED_selected = rscv_selected.fit(X_train_selected, y_train)\n",
    "\n",
    "        # calibrate et_selected\n",
    "        cccv_selected = CalibratedClassifierCV(base_estimator=TUNED_selected, cv=5)\n",
    "        CALIBRATED_selected = cccv_selected.fit(X_train_selected, y_train)\n",
    "\n",
    "        y_test_pred = CALIBRATED_selected.predict_proba(X_test_selected)\n",
    "        fpr_s, tpr_s, thresholds = roc_curve(y_test, y_test_pred[:, 1])\n",
    "        auroc_cc_selected = auc(fpr_s, tpr_s)\n",
    "        auroc_cc_list.append(auroc_cc_selected)\n",
    "\n",
    "    auroc_cc_list.append(auroc_cc)\n",
    "\n",
    "    return auroc_cc_list"
   ]
  },
  {
   "cell_type": "code",
   "execution_count": 2,
   "id": "2e148d89",
   "metadata": {},
   "outputs": [],
   "source": [
    "def algorithms(X_train, X_test, y_train, y_test, tuned, calibrated):\n",
    "    # CALIBRATED\n",
    "    y_test_pred = calibrated.predict_proba(X_test)\n",
    "    fpr, tpr, thresholds = roc_curve(y_test, y_test_pred[:, 1])\n",
    "    auroc_cc = auc(fpr, tpr)\n",
    "\n",
    "    #### Selected Columns\n",
    "    model_fi = calibrated.base_estimator._final_estimator.feature_importances_\n",
    "    model_fi_df = pd.DataFrame(model_fi)\n",
    "    model_fi_df.index = X_test.columns\n",
    "    model_fi_df.columns = ([\"Value\"])\n",
    "    model_fi_df = model_fi_df.reset_index(drop=False)\n",
    "    model_fi_df.columns = ([\"Feature\", \"Value\"])\n",
    "    model_fi_df = model_fi_df.sort_values([\"Value\"], ascending=False)\n",
    "\n",
    "    ### sigma threshold\n",
    "    model_fi_df_noZERO = model_fi_df[~model_fi_df.Value.isin([0])]\n",
    "    model_fi_df_noZERO_mean = model_fi_df_noZERO.Value.mean()\n",
    "    model_fi_df_noZERO_std = model_fi_df_noZERO.Value.std()\n",
    "    sigma_n = len(model_fi_df_noZERO[model_fi_df_noZERO.Value > model_fi_df_noZERO_mean + model_fi_df_noZERO_std])\n",
    "    print(sigma_n)\n",
    "\n",
    "    auroc_cc_list = []\n",
    "\n",
    "    for i in sigma_n, 20:\n",
    "        model_fi_index = model_fi_df[0:i].index\n",
    "\n",
    "        X_train_selected = X_train.iloc[:, model_fi_index]\n",
    "        X_test_selected = X_test.iloc[:, model_fi_index]\n",
    "\n",
    "        # tune et_selected\n",
    "        rscv_selected = tuned.best_estimator_\n",
    "        TUNED_selected = rscv_selected.fit(X_train_selected, y_train)\n",
    "\n",
    "        # calibrate et_selected\n",
    "        cccv_selected = CalibratedClassifierCV(base_estimator=TUNED_selected, cv=5)\n",
    "        CALIBRATED_selected = cccv_selected.fit(X_train_selected, y_train)\n",
    "\n",
    "        y_test_pred = CALIBRATED_selected.predict_proba(X_test_selected)\n",
    "        fpr_s, tpr_s, thresholds = roc_curve(y_test, y_test_pred[:, 1])\n",
    "        auroc_cc_selected = auc(fpr_s, tpr_s)\n",
    "        auroc_cc_list.append(auroc_cc_selected)\n",
    "\n",
    "    auroc_cc_list.append(auroc_cc)\n",
    "\n",
    "    return auroc_cc_list"
   ]
  },
  {
   "cell_type": "code",
   "execution_count": 3,
   "id": "ba2f2857",
   "metadata": {},
   "outputs": [],
   "source": [
    "# import data\n",
    "csv_path = os.path.join(\"..\", \"..\", \"data\", \"LINKED_DATA\", \"TSR_ALL\", \"TSR_ALL1\", \"TSR_ALL1G_X_TRAIN.csv\")\n",
    "G1_X_train = pd.read_csv(csv_path)\n",
    "\n",
    "csv_path = os.path.join(\"..\", \"..\", \"data\", \"LINKED_DATA\", \"TSR_ALL\", \"TSR_ALL1\", \"TSR_ALL1G_y_TRAIN.csv\")\n",
    "G1_y_train = pd.read_csv(csv_path)\n",
    "G1_y_train = np.ravel(G1_y_train)\n",
    "\n",
    "csv_path = os.path.join(\"..\", \"..\", \"data\", \"LINKED_DATA\", \"TSR_ALL\", \"TSR_ALL1\", \"TSR_ALL1G_X_TEST.csv\")\n",
    "G1_X_test = pd.read_csv(csv_path)\n",
    "\n",
    "csv_path = os.path.join(\"..\", \"..\", \"data\", \"LINKED_DATA\", \"TSR_ALL\", \"TSR_ALL1\", \"TSR_ALL1G_y_TEST.csv\")\n",
    "G1_y_test = pd.read_csv(csv_path)\n",
    "G1_y_test = np.ravel(G1_y_test)\n",
    "\n",
    "csv_path = os.path.join(\"..\", \"..\", \"data\", \"LINKED_DATA\", \"TSR_ALL\", \"TSR_ALL1\", \"TSR_ALL1B_X_TRAIN.csv\")\n",
    "B1_X_train = pd.read_csv(csv_path)\n",
    "\n",
    "csv_path = os.path.join(\"..\", \"..\", \"data\", \"LINKED_DATA\", \"TSR_ALL\", \"TSR_ALL1\", \"TSR_ALL1B_y_TRAIN.csv\")\n",
    "B1_y_train = pd.read_csv(csv_path)\n",
    "B1_y_train = np.ravel(B1_y_train)\n",
    "\n",
    "csv_path = os.path.join(\"..\", \"..\", \"data\", \"LINKED_DATA\", \"TSR_ALL\", \"TSR_ALL1\", \"TSR_ALL1B_X_TEST.csv\")\n",
    "B1_X_test = pd.read_csv(csv_path)\n",
    "\n",
    "csv_path = os.path.join(\"..\", \"..\", \"data\", \"LINKED_DATA\", \"TSR_ALL\", \"TSR_ALL1\", \"TSR_ALL1B_y_TEST.csv\")\n",
    "B1_y_test = pd.read_csv(csv_path)\n",
    "B1_y_test = np.ravel(B1_y_test)\n",
    "\n",
    "csv_path = os.path.join(\"..\", \"..\", \"data\", \"LINKED_DATA\", \"TSR_ALL\", \"TSR_ALL31\", \"TSR_ALL31G_X_TRAIN.csv\")\n",
    "G31_X_train = pd.read_csv(csv_path)\n",
    "\n",
    "csv_path = os.path.join(\"..\", \"..\", \"data\", \"LINKED_DATA\", \"TSR_ALL\", \"TSR_ALL31\", \"TSR_ALL31G_y_TRAIN.csv\")\n",
    "G31_y_train = pd.read_csv(csv_path)\n",
    "G31_y_train = np.ravel(G31_y_train)\n",
    "\n",
    "csv_path = os.path.join(\"..\", \"..\", \"data\", \"LINKED_DATA\", \"TSR_ALL\", \"TSR_ALL31\", \"TSR_ALL31G_X_TEST.csv\")\n",
    "G31_X_test = pd.read_csv(csv_path)\n",
    "\n",
    "csv_path = os.path.join(\"..\", \"..\", \"data\", \"LINKED_DATA\", \"TSR_ALL\", \"TSR_ALL31\", \"TSR_ALL31G_y_TEST.csv\")\n",
    "G31_y_test = pd.read_csv(csv_path)\n",
    "G31_y_test = np.ravel(G31_y_test)\n",
    "\n",
    "csv_path = os.path.join(\"..\", \"..\", \"data\", \"LINKED_DATA\", \"TSR_ALL\", \"TSR_ALL31\", \"TSR_ALL31B_X_TRAIN.csv\")\n",
    "B31_X_train = pd.read_csv(csv_path)\n",
    "\n",
    "csv_path = os.path.join(\"..\", \"..\", \"data\", \"LINKED_DATA\", \"TSR_ALL\", \"TSR_ALL31\", \"TSR_ALL31B_y_TRAIN.csv\")\n",
    "B31_y_train = pd.read_csv(csv_path)\n",
    "B31_y_train = np.ravel(B31_y_train)\n",
    "\n",
    "csv_path = os.path.join(\"..\", \"..\", \"data\", \"LINKED_DATA\", \"TSR_ALL\", \"TSR_ALL31\", \"TSR_ALL31B_X_TEST.csv\")\n",
    "B31_X_test = pd.read_csv(csv_path)\n",
    "\n",
    "csv_path = os.path.join(\"..\", \"..\", \"data\", \"LINKED_DATA\", \"TSR_ALL\", \"TSR_ALL31\", \"TSR_ALL31B_y_TEST.csv\")\n",
    "B31_y_test = pd.read_csv(csv_path)\n",
    "B31_y_test = np.ravel(B31_y_test)"
   ]
  },
  {
   "cell_type": "code",
   "execution_count": 4,
   "id": "09586793",
   "metadata": {},
   "outputs": [
    {
     "name": "stdout",
     "output_type": "stream",
     "text": [
      "6\n"
     ]
    }
   ],
   "source": [
    "#G1\n",
    "pkl_path = os.path.join(\"..\", \"..\", \"model\", \"model_pickle\", \"MICE1\", \"TSR_ALL1G_XGBC_TUNED.pkl\")\n",
    "G1_XGBC_TUNED = joblib.load(pkl_path)\n",
    "\n",
    "pkl_path = os.path.join(\"..\", \"..\", \"model\", \"model_pickle\", \"MICE1\", \"TSR_ALL1G_XGBC_CALIBRATED.pkl\")\n",
    "G1_XGBC_CALIBRATED = joblib.load(pkl_path)\n",
    "\n",
    "G1_auc_cc_list = algorithms(G1_X_train, G1_X_test, G1_y_train, G1_y_test, G1_XGBC_TUNED, G1_XGBC_CALIBRATED)"
   ]
  },
  {
   "cell_type": "code",
   "execution_count": 5,
   "id": "e4eba778",
   "metadata": {},
   "outputs": [
    {
     "name": "stdout",
     "output_type": "stream",
     "text": [
      "8\n"
     ]
    }
   ],
   "source": [
    "#B1\n",
    "pkl_path = os.path.join(\"..\", \"..\", \"model\", \"model_pickle\", \"MICE5\", \"TSR_ALL1B_XGBC_TUNED.pkl\")\n",
    "B1_XGBC_TUNED = joblib.load(pkl_path)\n",
    "\n",
    "pkl_path = os.path.join(\"..\", \"..\", \"model\", \"model_pickle\", \"MICE5\", \"TSR_ALL1B_XGBC_CALIBRATED.pkl\")\n",
    "B1_XGBC_CALIBRATED = joblib.load(pkl_path)\n",
    "\n",
    "B1_auc_cc_list = algorithms(B1_X_train, B1_X_test, B1_y_train, B1_y_test, B1_XGBC_TUNED, B1_XGBC_CALIBRATED)"
   ]
  },
  {
   "cell_type": "code",
   "execution_count": 6,
   "id": "4981e110",
   "metadata": {},
   "outputs": [
    {
     "name": "stdout",
     "output_type": "stream",
     "text": [
      "8\n"
     ]
    }
   ],
   "source": [
    "#G31\n",
    "pkl_path = os.path.join(\"..\", \"..\", \"model\", \"model_pickle\", \"MICE4\", \"TSR_ALL31G_XGBC_TUNED.pkl\")\n",
    "G31_XGBC_TUNED = joblib.load(pkl_path)\n",
    "\n",
    "pkl_path = os.path.join(\"..\", \"..\", \"model\", \"model_pickle\", \"MICE4\", \"TSR_ALL31G_XGBC_CALIBRATED.pkl\")\n",
    "G31_XGBC_CALIBRATED = joblib.load(pkl_path)\n",
    "\n",
    "G31_auc_cc_list = algorithms(G31_X_train, G31_X_test, G31_y_train, G31_y_test, G31_XGBC_TUNED, G31_XGBC_CALIBRATED)"
   ]
  },
  {
   "cell_type": "code",
   "execution_count": 7,
   "id": "e6f68024",
   "metadata": {},
   "outputs": [
    {
     "name": "stdout",
     "output_type": "stream",
     "text": [
      "3\n"
     ]
    }
   ],
   "source": [
    "#B31\n",
    "pkl_path = os.path.join(\"..\", \"..\", \"model\", \"model_pickle\", \"MICE1\", \"TSR_ALL31B_XGBC_TUNED.pkl\")\n",
    "B31_XGBC_TUNED = joblib.load(pkl_path)\n",
    "\n",
    "pkl_path = os.path.join(\"..\", \"..\", \"model\", \"model_pickle\", \"MICE1\", \"TSR_ALL31B_XGBC_CALIBRATED.pkl\")\n",
    "B31_XGBC_CALIBRATED = joblib.load(pkl_path)\n",
    "\n",
    "B31_auc_cc_list = algorithms(B31_X_train, B31_X_test, B31_y_train, B31_y_test, B31_XGBC_TUNED, B31_XGBC_CALIBRATED)"
   ]
  },
  {
   "cell_type": "raw",
   "id": "e913abab",
   "metadata": {},
   "source": [
    "# plot AUC\n",
    "plt.figure(figsize=(8, 5))\n",
    "x = [0,1,2,3,4]\n",
    "plt.plot(x, G1_auc_cc_list, label=\"1-month GOAD\")\n",
    "plt.scatter(x, G1_auc_cc_list)\n",
    "plt.plot(x, B1_auc_cc_list, label=\"1-month POAD\")\n",
    "plt.scatter(x, B1_auc_cc_list)\n",
    "plt.plot(x, G31_auc_cc_list, label=\"3-month GOAD\")\n",
    "plt.scatter(x, G31_auc_cc_list)\n",
    "plt.plot(x, B31_auc_cc_list, label=\"3-month POAD\")\n",
    "plt.scatter(x, B31_auc_cc_list)\n",
    "plt.ylim((0.6,0.95))\n",
    "plt.xticks(x, [\"threshold_min*\", \"10\", \"20\", \"30\", \"All*\"])\n",
    "plt.xlabel(\"The number of features\", size=10)\n",
    "plt.ylabel(\"AUROC\", size=10)\n",
    "plt.legend(loc=4)\n",
    "for i in range(len(x)):\n",
    "    plt.annotate(round(G1_auc_cc_list[i], 3), (x[i]-0.15, G1_auc_cc_list[i]+0.01), color=\"blue\")\n",
    "    plt.annotate(round(B1_auc_cc_list[i], 3), (x[i]-0.15, B1_auc_cc_list[i]-0.02), color=\"orange\")\n",
    "    plt.annotate(round(G31_auc_cc_list[i], 3), (x[i]-0.15, G31_auc_cc_list[i]+0.01), color=\"green\")\n",
    "    plt.annotate(round(B31_auc_cc_list[i], 3), (x[i]-0.15, B31_auc_cc_list[i]-0.02), color=\"red\")\n",
    "#plt.savefig('PLOT/TSR_ALL_AUROC.png', dpi = 300, bbox_inches=\"tight\")\n",
    "plt.show()"
   ]
  },
  {
   "cell_type": "code",
   "execution_count": 8,
   "id": "df5384c1",
   "metadata": {},
   "outputs": [
    {
     "data": {
      "image/png": "[encoded data removed]",
      "text/plain": [
       "<Figure size 576x360 with 1 Axes>"
      ]
     },
     "metadata": {
      "needs_background": "light"
     },
     "output_type": "display_data"
    }
   ],
   "source": [
    "# plot AUC\n",
    "plt.figure(figsize=(8, 5))\n",
    "x = [0,1,2]\n",
    "plt.plot(x, G1_auc_cc_list, label=\"1-month GOAD\")\n",
    "plt.scatter(x, G1_auc_cc_list)\n",
    "plt.plot(x, B1_auc_cc_list, label=\"1-month POAD\")\n",
    "plt.scatter(x, B1_auc_cc_list)\n",
    "plt.plot(x, G31_auc_cc_list, label=\"3-month GOAD\")\n",
    "plt.scatter(x, G31_auc_cc_list)\n",
    "plt.plot(x, B31_auc_cc_list, label=\"3-month POAD\")\n",
    "plt.scatter(x, B31_auc_cc_list)\n",
    "plt.ylim((0.6,0.95))\n",
    "plt.xticks(x, [\"threshold_min*\",\"20\", \"all*\"])\n",
    "plt.xlabel(\"The number of features\", size=10)\n",
    "plt.ylabel(\"AUROC\", size=10)\n",
    "plt.legend(loc=4)\n",
    "for i in range(len(x)):\n",
    "    plt.annotate(round(G1_auc_cc_list[i], 3), (x[i]-0.08, G1_auc_cc_list[i]+0.01), color=\"blue\")\n",
    "    plt.annotate(round(B1_auc_cc_list[i], 3), (x[i]-0.08, B1_auc_cc_list[i]-0.02), color=\"orange\")\n",
    "    plt.annotate(round(G31_auc_cc_list[i], 3), (x[i]-0.08, G31_auc_cc_list[i]+0.01), color=\"green\")\n",
    "    plt.annotate(round(B31_auc_cc_list[i], 3), (x[i]-0.08, B31_auc_cc_list[i]-0.02), color=\"red\")\n",
    "#plt.savefig('PLOT/TSR_ALL_AUROC.png', dpi = 300, bbox_inches=\"tight\")\n",
    "plt.show()"
   ]
  }
 ],
 "metadata": {
  "kernelspec": {
   "display_name": "Python 3",
   "language": "python",
   "name": "python3"
  },
  "language_info": {
   "codemirror_mode": {
    "name": "ipython",
    "version": 3
   },
   "file_extension": ".py",
   "mimetype": "text/x-python",
   "name": "python",
   "nbconvert_exporter": "python",
   "pygments_lexer": "ipython3",
   "version": "3.8.10"
  }
 },
 "nbformat": 4,
 "nbformat_minor": 5
}
