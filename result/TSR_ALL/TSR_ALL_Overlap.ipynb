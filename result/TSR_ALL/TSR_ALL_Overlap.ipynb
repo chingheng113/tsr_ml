{
 "cells": [
  {
   "cell_type": "code",
   "execution_count": 1,
   "id": "52fd95e8",
   "metadata": {},
   "outputs": [],
   "source": [
    "import pandas as pd\n",
    "pd.options.mode.chained_assignment = None\n",
    "import warnings\n",
    "warnings.filterwarnings(\"ignore\")\n",
    "import os\n",
    "import numpy as np\n",
    "from sklearn.model_selection import train_test_split\n",
    "from sklearn.metrics import auc, roc_curve\n",
    "from sklearn.ensemble import ExtraTreesClassifier\n",
    "from xgboost import XGBClassifier\n",
    "from sklearn.linear_model import LogisticRegression\n",
    "from sklearn.model_selection import RandomizedSearchCV\n",
    "from sklearn.calibration import CalibratedClassifierCV\n",
    "from imblearn.pipeline import make_pipeline\n",
    "from imblearn.under_sampling import TomekLinks\n",
    "import matplotlib.pyplot as plt"
   ]
  },
  {
   "cell_type": "markdown",
   "id": "f346cda6",
   "metadata": {},
   "source": [
    "# Import datasets"
   ]
  },
  {
   "cell_type": "code",
   "execution_count": 2,
   "id": "bd6999d4",
   "metadata": {},
   "outputs": [
    {
     "data": {
      "text/plain": [
       "(44367, 233)"
      ]
     },
     "execution_count": 2,
     "metadata": {},
     "output_type": "execute_result"
    }
   ],
   "source": [
    "csv_path = os.path.join(\"..\", \"..\", \"data\",\"LINKED_DATA\", \"TSR_ALL\", \"TSR_ALL1\", \"TSR_ALL1_MICE2.csv\")\n",
    "tsr_all1_df = pd.read_csv(csv_path)\n",
    "tsr_all1_df.shape"
   ]
  },
  {
   "cell_type": "code",
   "execution_count": 3,
   "id": "7883fc94",
   "metadata": {},
   "outputs": [
    {
     "data": {
      "text/plain": [
       "(39881, 234)"
      ]
     },
     "execution_count": 3,
     "metadata": {},
     "output_type": "execute_result"
    }
   ],
   "source": [
    "csv_path = os.path.join(\"..\", \"..\", \"data\",\"LINKED_DATA\", \"TSR_ALL\", \"TSR_ALL3\", \"TSR_ALL3_MICE5.csv\")\n",
    "tsr_all3_df = pd.read_csv(csv_path)\n",
    "tsr_all3_df.shape"
   ]
  },
  {
   "cell_type": "code",
   "execution_count": 4,
   "id": "bfba6842",
   "metadata": {},
   "outputs": [],
   "source": [
    "csv_path = os.path.join(\"..\", \"..\", \"result\", \"TSR_ALL\", \"INFO\", \"Threshold_Intersection.csv\")\n",
    "T_I = pd.read_csv(csv_path, keep_default_na = False)"
   ]
  },
  {
   "cell_type": "markdown",
   "id": "eb830200",
   "metadata": {},
   "source": [
    "# Convert the multiple feature and outcome into binary ones"
   ]
  },
  {
   "cell_type": "code",
   "execution_count": 5,
   "id": "5c0fd039",
   "metadata": {},
   "outputs": [],
   "source": [
    "mRS1 = tsr_all1_df.mrs_tx_1\n",
    "mRS1[(mRS1 == 0) | (mRS1 == 1) | (mRS1 == 2)] = 1 #GOOD\n",
    "mRS1[(mRS1 == 3) | (mRS1 == 4) | (mRS1 == 5) | (mRS1 == 6) | (mRS1 == 9)] = 0 #BAD\n",
    "mRS3 = tsr_all3_df.mrs_tx_3\n",
    "mRS3[(mRS3 == 0) | (mRS3 == 1) | (mRS3 == 2)] = 1 #GOOD\n",
    "mRS3[(mRS3 == 3) | (mRS3 == 4) | (mRS3 == 5) | (mRS3 == 6) | (mRS3 == 9)] = 0 #BAD"
   ]
  },
  {
   "cell_type": "markdown",
   "id": "e7b95baa",
   "metadata": {},
   "source": [
    "# Group all features and the outcome"
   ]
  },
  {
   "cell_type": "code",
   "execution_count": 6,
   "id": "9fa71cfb",
   "metadata": {},
   "outputs": [],
   "source": [
    "nominal_features = [\"edu_id\", \"pro_id\", \"opc_id\", \"toast_id\", \"offdt_id\", \"gender_tx\", \"hd_id\", \"pcva_id\",\n",
    "                    \"pcvaci_id\", \"pcvach_id\", \"po_id\", \"ur_id\", \"sm_id\", \"ptia_id\", \"hc_id\", \"hcht_id\",\n",
    "                    \"hchc_id\", \"ht_id\", \"dm_id\", \"pad_id\", \"al_id\", \"ca_id\", \"fahiid_parents_1\",\n",
    "                    \"fahiid_parents_2\", \"fahiid_parents_3\", \"fahiid_parents_4\", \"fahiid_brsi_1\",\n",
    "                    \"fahiid_brsi_2\", \"fahiid_brsi_3\", \"fahiid_brsi_4\"]\n",
    "ordinal_features = [\"gcse_nm\", \"gcsv_nm\", \"gcsm_nm\", \"discharged_mrs\", \"feeding\", \"transfers\",\n",
    "                    \"bathing\", \"toilet_use\", \"grooming\", \"mobility\", \"stairs\", \"dressing\", \"bowel_control\",\n",
    "                    \"bladder_control\", \"nihs_1a_in\", \"nihs_1b_in\", \"nihs_1c_in\", \"nihs_2_in\", \"nihs_3_in\", \"nihs_4_in\",\n",
    "                    \"nihs_5al_in\", \"nihs_5br_in\", \"nihs_6al_in\", \"nihs_6br_in\", \"nihs_7_in\", \"nihs_8_in\", \"nihs_9_in\",\n",
    "                    \"nihs_10_in\", \"nihs_11_in\", \"nihs_1a_out\", \"nihs_1b_out\", \"nihs_1c_out\", \"nihs_2_out\", \"nihs_3_out\",\n",
    "                    \"nihs_4_out\", \"nihs_5al_out\", \"nihs_5br_out\", \"nihs_6al_out\", \"nihs_6br_out\", \"nihs_7_out\",\n",
    "                    \"nihs_8_out\", \"nihs_9_out\", \"nihs_10_out\", \"nihs_11_out\"]\n",
    "boolean = [\"toastle_fl\", \"toastli_fl\", \"toastsce_fl\", \"toastsmo_fl\", \"toastsra_fl\", \"toastsdi_fl\",\n",
    "           \"toastsmi_fl\", \"toastsantip_fl\", \"toastsau_fl\", \"toastshy_fl\", \"toastspr_fl\", \"toastsantit_fl\",\n",
    "           \"toastsho_fl\", \"toastshys_fl\", \"toastsca_fl\", \"thda_fl\", \"thdh_fl\", \"thdi_fl\", \"thdam_fl\", \"thdv_fl\",\n",
    "           \"thde_fl\", \"thdm_fl\", \"thdr_fl\", \"thdp_fl\", \"trman_fl\", \"trmas_fl\", \"trmti_fl\", \"trmhe_fl\",\n",
    "           \"trmwa_fl\", \"trmia_fl\", \"trmfo_fl\", \"trmta_fl\", \"trmsd_fl\", \"trmre_fl\", \"trmen_fl\", \"trmag_fl\",\n",
    "           \"trmcl_fl\", \"trmpl_fl\", \"trmlm_fl\", \"trmiv_fl\", \"trmve_fl\", \"trmng_fl\", \"trmdy_fl\", \"trmicu_fl\",\n",
    "           \"trmsm_fl\", \"trmed_fl\", \"trmop_fl\", \"om_fl\", \"omas_fl\", \"omag_fl\", \"omti_fl\", \"omcl_fl\", \"omwa_fl\",\n",
    "           \"ompl_fl\", \"omanh_fl\", \"omand_fl\", \"omli_fl\", \"am_fl\", \"amas_fl\", \"amag_fl\", \"amti_fl\", \"amcl_fl\",\n",
    "           \"amwa_fl\", \"ampl_fl\", \"amanh_fl\", \"amand_fl\", \"amli_fl\", \"compn_fl\", \"comut_fl\", \"comug_fl\",\n",
    "           \"compr_fl\", \"compu_fl\", \"comac_fl\", \"comse_fl\", \"comde_fl\", \"detst_fl\", \"dethe_fl\", \"detho_fl\",\n",
    "           \"detha_fl\", \"detva_fl\", \"detre_fl\", \"detme_fl\", \"ct_fl\", \"mri_fl\", \"ecgl_fl\", \"ecga_fl\", \"ecgq_fl\",\n",
    "           \"cortical_aca_ctr\", \"cortical_mca_ctr\", \"subcortical_aca_ctr\", \"subcortical_mca_ctr\", \"pca_cortex_ctr\",\n",
    "           \"thalamus_ctr\", \"brainstem_ctr\", \"cerebellum_ctr\", \"watershed_ctr\", \"hemorrhagic_infarct_ctr\",\n",
    "           \"old_stroke_ctci\", \"cortical_aca_ctl\", \"cortical_mca_ctl\", \"subcortical_aca_ctl\", \"subcortical_mca_ctl\",\n",
    "           \"pca_cortex_ctl\", \"thalamus_ctl\", \"brainstem_ctl\", \"cerebellum_ctl\", \"watershed_ctl\",\n",
    "           \"hemorrhagic_infarct_ctl\", \"old_stroke_ctch\", \"cortical_aca_mrir\", \"cortical_mca_mrir\",\n",
    "           \"subcortical_aca_mrir\", \"subcortical_mca_mrir\", \"pca_cortex_mrir\", \"thalamus_mrir\", \"brainstem_mrir\",\n",
    "           \"cerebellum_mrir\", \"watershed_mrir\", \"hemorrhagic_infarct_mrir\", \"old_stroke_mrici\", \"cortical_aca_mril\",\n",
    "           \"cortical_mca_mril\", \"subcortical_aca_mril\", \"subcortical_mca_mril\", \"pca_cortex_mril\",\n",
    "           \"thalamus_mril\", \"brainstem_mril\", \"cerebellum_mril\", \"watershed_mril\", \"hemorrhagic_infarct_mril\",\n",
    "           \"old_stroke_mrich\"]\n",
    "continuous = [\"height_nm\", \"weight_nm\", \"sbp_nm\", \"dbp_nm\", \"bt_nm\", \"hr_nm\", \"rr_nm\", \"hb_nm\",\n",
    "              \"hct_nm\", \"platelet_nm\", \"wbc_nm\", \"ptt1_nm\", \"ptt2_nm\", \"ptinr_nm\", \"er_nm\", \"bun_nm\",\n",
    "              \"cre_nm\", \"ua_nm\", \"tcho_nm\", \"tg_nm\", \"hdl_nm\",\n",
    "              \"ldl_nm\", \"gpt_nm\", \"age\", \"hospitalised_time\"]\n",
    "labels = [\"mrs_tx_1\"]"
   ]
  },
  {
   "cell_type": "markdown",
   "id": "e0dfe5d9",
   "metadata": {},
   "source": [
    "# Machine Learning - TSR_ALL1"
   ]
  },
  {
   "cell_type": "markdown",
   "id": "544b2232",
   "metadata": {},
   "source": [
    "## Preprocess input data (GOOD when Discharge)"
   ]
  },
  {
   "cell_type": "code",
   "execution_count": 7,
   "id": "cdadb101",
   "metadata": {},
   "outputs": [],
   "source": [
    "## discharged mRS = GOOD (tsr_all1_df.discharged_mrs == 1)\n",
    "mrs_dis1 = tsr_all1_df[(tsr_all1_df.discharged_mrs == 1) | (tsr_all1_df.discharged_mrs == 0) | (tsr_all1_df.discharged_mrs == 2)]"
   ]
  },
  {
   "cell_type": "code",
   "execution_count": 8,
   "id": "7c5367eb",
   "metadata": {},
   "outputs": [
    {
     "name": "stdout",
     "output_type": "stream",
     "text": [
      "(20658, 230)\n"
     ]
    }
   ],
   "source": [
    "## input dataset\n",
    "tsr_1G_input = mrs_dis1.drop([\"icase_id\", \"idcase_id\", \"mrs_tx_1\"], axis=1)\n",
    "print(tsr_1G_input.shape)\n",
    "tsr_1G_input = tsr_1G_input.astype(\"float64\")\n",
    "tsr_1G_input = np.array(tsr_1G_input.values)"
   ]
  },
  {
   "cell_type": "code",
   "execution_count": 9,
   "id": "093f0d67",
   "metadata": {},
   "outputs": [
    {
     "name": "stdout",
     "output_type": "stream",
     "text": [
      "(20658,)\n"
     ]
    }
   ],
   "source": [
    "## output dataset\n",
    "tsr_1G_output = mrs_dis1.mrs_tx_1\n",
    "print(tsr_1G_output.shape)\n",
    "tsr_1G_output = tsr_1G_output.astype(\"float64\")\n",
    "tsr_1G_output = np.array(tsr_1G_output.values)"
   ]
  },
  {
   "cell_type": "code",
   "execution_count": 10,
   "id": "38922dce",
   "metadata": {},
   "outputs": [
    {
     "name": "stdout",
     "output_type": "stream",
     "text": [
      "The shape of GOOD's X_train: (14460, 230)\n",
      "The shape of GOOD's y_train: (14460,)\n",
      "The shape of GOOD's X_test: (6198, 230)\n",
      "The shape of GOOD's y_test: (6198,)\n"
     ]
    }
   ],
   "source": [
    "## train_test_split\n",
    "G_X_train, G_X_test, G_y_train, G_y_test = train_test_split(tsr_1G_input, tsr_1G_output, test_size=0.3, random_state=19)\n",
    "print(\"The shape of GOOD's X_train:\", G_X_train.shape)\n",
    "print(\"The shape of GOOD's y_train:\", G_y_train.shape)\n",
    "print(\"The shape of GOOD's X_test:\", G_X_test.shape)\n",
    "print(\"The shape of GOOD's y_test:\", G_y_test.shape)"
   ]
  },
  {
   "cell_type": "code",
   "execution_count": 11,
   "id": "e9364fea",
   "metadata": {},
   "outputs": [],
   "source": [
    "## scale G_X_train\n",
    "from sklearn.preprocessing import MinMaxScaler\n",
    "from sklearn.preprocessing import OrdinalEncoder\n",
    "from sklearn.preprocessing import OneHotEncoder\n",
    "G_X_train = pd.DataFrame(G_X_train)\n",
    "G_X_train.columns = tsr_all1_df.drop([\"icase_id\", \"idcase_id\", \"mrs_tx_1\"], axis=1).columns\n",
    "\n",
    "scaler = MinMaxScaler()\n",
    "G_X_train[continuous] = scaler.fit_transform(G_X_train[continuous])\n",
    "\n",
    "encoder = OrdinalEncoder(handle_unknown=\"use_encoded_value\", unknown_value=6)\n",
    "G_X_train[ordinal_features] = encoder.fit_transform(G_X_train[ordinal_features])\n",
    "\n",
    "ohe = OneHotEncoder(sparse=False, handle_unknown = \"ignore\")\n",
    "nominal_train = ohe.fit_transform(G_X_train[nominal_features])\n",
    "G_X_train = pd.concat([G_X_train, pd.DataFrame(nominal_train)], axis=1)\n",
    "G_X_train = G_X_train.drop(nominal_features, axis=1)\n",
    "\n",
    "G_x_train_columns = list(G_X_train.columns)\n",
    "G_x_train_columns = G_x_train_columns[0:200]\n",
    "get_feature_name = list(ohe.get_feature_names(nominal_features))\n",
    "G_x_train_columns = G_x_train_columns+get_feature_name\n",
    "\n",
    "G_X_train.columns = G_x_train_columns\n",
    "G_X_train_overlap = G_X_train[T_I[\"G1\"][0:13]]\n",
    "\n",
    "G_X_train_overlap = np.array(G_X_train_overlap.values)"
   ]
  },
  {
   "cell_type": "code",
   "execution_count": 12,
   "id": "ea31d7a1",
   "metadata": {},
   "outputs": [],
   "source": [
    "## scale G_X_test\n",
    "G_X_test = pd.DataFrame(G_X_test)\n",
    "G_X_test.columns = tsr_all1_df.drop([\"icase_id\", \"idcase_id\", \"mrs_tx_1\"], axis=1).columns\n",
    "\n",
    "G_X_test[continuous] = scaler.transform(G_X_test[continuous])\n",
    "\n",
    "G_X_test[ordinal_features] = encoder.transform(G_X_test[ordinal_features])\n",
    "\n",
    "nominal_test = ohe.transform(G_X_test[nominal_features])\n",
    "G_X_test = pd.concat([G_X_test, pd.DataFrame(nominal_test)], axis=1)\n",
    "G_X_test = G_X_test.drop(nominal_features, axis=1)\n",
    "\n",
    "G_X_test.columns = G_x_train_columns\n",
    "G_X_test_overlap = G_X_test[T_I[\"G1\"][0:13]]\n",
    "\n",
    "G_X_test_overlap = np.array(G_X_test_overlap.values)"
   ]
  },
  {
   "cell_type": "markdown",
   "id": "79591303",
   "metadata": {},
   "source": [
    "## Algorithms"
   ]
  },
  {
   "cell_type": "markdown",
   "id": "59c825a0",
   "metadata": {},
   "source": [
    "## Extra trees"
   ]
  },
  {
   "cell_type": "code",
   "execution_count": 13,
   "id": "c46cf8df",
   "metadata": {},
   "outputs": [],
   "source": [
    "# base et\n",
    "et = ExtraTreesClassifier(random_state=19)\n",
    "\n",
    "#tune et\n",
    "hyperparameters_et = {\"extratreesclassifier__n_estimators\": (25, 100),\n",
    "                      \"extratreesclassifier__criterion\": (\"gini\", \"entropy\"),\n",
    "                      \"extratreesclassifier__max_depth\": (25, 100),\n",
    "                      \"extratreesclassifier__min_samples_split\": (25, 100),\n",
    "                      \"extratreesclassifier__max_features\": (0.1, 0.9),\n",
    "                      \"extratreesclassifier__bootstrap\": (True, False),\n",
    "                      \"extratreesclassifier__class_weight\": ('balanced', {0: 1, 1: 32}, {0: 32, 1: 1}),\n",
    "                      \"extratreesclassifier__max_samples\": (0.3, 0.8)}\n",
    "\n",
    "pipeline = make_pipeline(TomekLinks(), ExtraTreesClassifier(random_state=19))\n",
    "\n",
    "etG_rscv = RandomizedSearchCV(estimator=pipeline,\n",
    "                              param_distributions=hyperparameters_et,\n",
    "                              n_jobs=-1,\n",
    "                              scoring='roc_auc',\n",
    "                              verbose=5,                        \n",
    "                              cv=5,\n",
    "                              n_iter = 50,\n",
    "                              random_state = 19)"
   ]
  },
  {
   "cell_type": "code",
   "execution_count": 14,
   "id": "3c81732d",
   "metadata": {},
   "outputs": [
    {
     "name": "stdout",
     "output_type": "stream",
     "text": [
      "AUC of training set: 0.86608693987686\n",
      "AUC of testing set: 0.5149215990295452\n",
      "Fitting 5 folds for each of 50 candidates, totalling 250 fits\n",
      "--> Tuned Parameters Best Score:  0.7076162143070039\n",
      "--> Best Parameters: \n",
      " {'extratreesclassifier__n_estimators': 100, 'extratreesclassifier__min_samples_split': 100, 'extratreesclassifier__max_samples': 0.3, 'extratreesclassifier__max_features': 0.1, 'extratreesclassifier__max_depth': 100, 'extratreesclassifier__criterion': 'gini', 'extratreesclassifier__class_weight': {0: 32, 1: 1}, 'extratreesclassifier__bootstrap': True}\n",
      "AUC of training set: 0.7630329618540697\n",
      "AUC of testing set: 0.6764989300221684\n",
      "AUC of training set: 0.7566804222243344\n",
      "AUC of testing set: 0.6806387404588303\n"
     ]
    }
   ],
   "source": [
    "#based\n",
    "et.fit(G_X_train_overlap, G_y_train)\n",
    "\n",
    "G_y_train_pred = et.predict_proba(G_X_train_overlap)\n",
    "fpr, tpr, thresholds = roc_curve(G_y_train, G_y_train_pred[:, 1])\n",
    "G_train_auroc_et = auc(fpr, tpr)\n",
    "print('AUC of training set:', G_train_auroc_et)\n",
    "\n",
    "G_y_test_pred = et.predict_proba(G_X_test_overlap)\n",
    "fpr, tpr, thresholds = roc_curve(G_y_test, G_y_test_pred[:, 1])\n",
    "G_test_auroc_et = auc(fpr, tpr)\n",
    "print('AUC of testing set:', G_test_auroc_et)\n",
    "\n",
    "#tuned\n",
    "etG_rsCV = etG_rscv.fit(G_X_train_overlap, G_y_train)\n",
    "print('--> Tuned Parameters Best Score: ', etG_rsCV.best_score_)\n",
    "print('--> Best Parameters: \\n', etG_rsCV.best_params_)\n",
    "\n",
    "G_y_train_pred = etG_rsCV.predict_proba(G_X_train_overlap)\n",
    "fpr, tpr, thresholds = roc_curve(G_y_train, G_y_train_pred[:, 1])\n",
    "G_train_auroc_et_tuned = auc(fpr, tpr)\n",
    "print('AUC of training set:', G_train_auroc_et_tuned)\n",
    "\n",
    "G_y_test_pred = etG_rsCV.predict_proba(G_X_test_overlap)\n",
    "fpr, tpr, thresholds = roc_curve(G_y_test, G_y_test_pred[:, 1])\n",
    "G_test_auroc_et_tuned = auc(fpr, tpr)\n",
    "print('AUC of testing set:', G_test_auroc_et_tuned)\n",
    "\n",
    "#calibrated\n",
    "etG_cccv = CalibratedClassifierCV(base_estimator=etG_rsCV.best_estimator_, cv=5)\n",
    "etG_ccCV = etG_cccv.fit(G_X_train_overlap, G_y_train)\n",
    "\n",
    "G_y_train_pred = etG_ccCV.predict_proba(G_X_train_overlap)\n",
    "fpr, tpr, thresholds = roc_curve(G_y_train, G_y_train_pred[:, 1])\n",
    "G_train_auroc_et_cc = auc(fpr, tpr)\n",
    "print('AUC of training set:', G_train_auroc_et_cc)\n",
    "\n",
    "G_y_test_pred = etG_ccCV.predict_proba(G_X_test_overlap)\n",
    "fpr, tpr, thresholds = roc_curve(G_y_test, G_y_test_pred[:, 1])\n",
    "G_test_auroc_et_cc = auc(fpr, tpr)\n",
    "print('AUC of testing set:', G_test_auroc_et_cc)"
   ]
  },
  {
   "cell_type": "markdown",
   "id": "eaa779fb",
   "metadata": {},
   "source": [
    "## XGBClassifier"
   ]
  },
  {
   "cell_type": "code",
   "execution_count": 15,
   "id": "69927d1a",
   "metadata": {},
   "outputs": [],
   "source": [
    "# base xgbc\n",
    "xgbc = XGBClassifier(random_state=19, use_label_encoder=False, eval_metric = \"auc\", tree_method = \"hist\", n_jobs=-1)\n",
    "\n",
    "# tune xgbc\n",
    "hyperparameters_xgbc = {\"xgbclassifier__booster\": (\"gbtree\", \"dart\"),\n",
    "                        \"xgbclassifier__learning_rate\": (0.01, 0.1),\n",
    "                        \"xgbclassifier__max_depth\": (25, 50),\n",
    "                        \"xgbclassifier__subsample\": (0.3, 0.8),\n",
    "                        \"xgbclassifier__colsample_bytree\": (0.3, 0.8),\n",
    "                        \"xgbclassifier__reg_lambda\": (0.1, 10),\n",
    "                        \"xgbclassifier__reg_alpha\": (0.1, 10),\n",
    "                        \"xgbclassifier__gamma\": (0.1, 10),\n",
    "                        \"xgbclassifier__n_estimators\": (25, 100),\n",
    "                        \"xgbclassifier__scale_pos_weight\": (0.03, 32)}\n",
    "\n",
    "pipeline = make_pipeline(TomekLinks(), XGBClassifier(random_state=19, use_label_encoder=False, eval_metric=\"auc\", tree_method = \"hist\"))\n",
    "\n",
    "xgbcG_rscv = RandomizedSearchCV(estimator=pipeline,                       \n",
    "                                param_distributions=hyperparameters_xgbc,                      \n",
    "                                n_jobs=-1,                      \n",
    "                                scoring=\"roc_auc\",                     \n",
    "                                verbose=5,                      \n",
    "                                cv=5,                        \n",
    "                                n_iter=50,\n",
    "                                random_state = 19)"
   ]
  },
  {
   "cell_type": "code",
   "execution_count": 16,
   "id": "c852f4ca",
   "metadata": {},
   "outputs": [
    {
     "name": "stdout",
     "output_type": "stream",
     "text": [
      "AUC of training sxgbc: 0.8226655980367307\n",
      "AUC of testing sxgbc: 0.5937565405331522\n",
      "Fitting 5 folds for each of 50 candidates, totalling 250 fits\n",
      "--> Tuned Paramxgbcers Best Score:  0.7252662336574829\n",
      "--> Best Paramxgbcers: \n",
      " {'xgbclassifier__subsample': 0.3, 'xgbclassifier__scale_pos_weight': 0.03, 'xgbclassifier__reg_lambda': 0.1, 'xgbclassifier__reg_alpha': 0.1, 'xgbclassifier__n_estimators': 100, 'xgbclassifier__max_depth': 25, 'xgbclassifier__learning_rate': 0.1, 'xgbclassifier__gamma': 0.1, 'xgbclassifier__colsample_bytree': 0.3, 'xgbclassifier__booster': 'dart'}\n",
      "AUC of training sxgbc: 0.7397380338529291\n",
      "AUC of testing sxgbc: 0.69266093449002\n",
      "AUC of training sxgbc: 0.7398119600745598\n",
      "AUC of testing sxgbc: 0.6966674782266986\n"
     ]
    }
   ],
   "source": [
    "#based\n",
    "xgbc.fit(G_X_train_overlap, G_y_train)\n",
    "\n",
    "G_y_train_pred = xgbc.predict_proba(G_X_train_overlap)\n",
    "fpr, tpr, thresholds = roc_curve(G_y_train, G_y_train_pred[:, 1])\n",
    "G_train_auroc_xgbc = auc(fpr, tpr)\n",
    "print('AUC of training sxgbc:', G_train_auroc_xgbc)\n",
    "\n",
    "G_y_test_pred = xgbc.predict_proba(G_X_test_overlap)\n",
    "fpr, tpr, thresholds = roc_curve(G_y_test, G_y_test_pred[:, 1])\n",
    "G_test_auroc_xgbc = auc(fpr, tpr)\n",
    "print('AUC of testing sxgbc:', G_test_auroc_xgbc)\n",
    "\n",
    "#tuned\n",
    "xgbcG_rsCV = xgbcG_rscv.fit(G_X_train_overlap, G_y_train)\n",
    "print('--> Tuned Paramxgbcers Best Score: ', xgbcG_rsCV.best_score_)\n",
    "print('--> Best Paramxgbcers: \\n', xgbcG_rsCV.best_params_)\n",
    "\n",
    "G_y_train_pred = xgbcG_rsCV.predict_proba(G_X_train_overlap)\n",
    "fpr, tpr, thresholds = roc_curve(G_y_train, G_y_train_pred[:, 1])\n",
    "G_train_auroc_xgbc_tuned = auc(fpr, tpr)\n",
    "print('AUC of training sxgbc:', G_train_auroc_xgbc_tuned)\n",
    "\n",
    "G_y_test_pred = xgbcG_rsCV.predict_proba(G_X_test_overlap)\n",
    "fpr, tpr, thresholds = roc_curve(G_y_test, G_y_test_pred[:, 1])\n",
    "G_test_auroc_xgbc_tuned = auc(fpr, tpr)\n",
    "print('AUC of testing sxgbc:', G_test_auroc_xgbc_tuned)\n",
    "\n",
    "#calibrated\n",
    "xgbcG_cccv = CalibratedClassifierCV(base_estimator=xgbcG_rsCV.best_estimator_, cv=5)\n",
    "xgbcG_ccCV = xgbcG_cccv.fit(G_X_train_overlap, G_y_train)\n",
    "\n",
    "G_y_train_pred = xgbcG_ccCV.predict_proba(G_X_train_overlap)\n",
    "fpr, tpr, thresholds = roc_curve(G_y_train, G_y_train_pred[:, 1])\n",
    "G_train_auroc_xgbc_cc = auc(fpr, tpr)\n",
    "print('AUC of training sxgbc:', G_train_auroc_xgbc_cc)\n",
    "\n",
    "G_y_test_pred = xgbcG_ccCV.predict_proba(G_X_test_overlap)\n",
    "fpr, tpr, thresholds = roc_curve(G_y_test, G_y_test_pred[:, 1])\n",
    "G_test_auroc_xgbc_cc = auc(fpr, tpr)\n",
    "print('AUC of testing sxgbc:', G_test_auroc_xgbc_cc)"
   ]
  },
  {
   "cell_type": "markdown",
   "id": "2b3d881b",
   "metadata": {},
   "source": [
    "## LogisticRegression"
   ]
  },
  {
   "cell_type": "code",
   "execution_count": 17,
   "id": "09ee8040",
   "metadata": {},
   "outputs": [],
   "source": [
    "# base lr\n",
    "lr = LogisticRegression(random_state=19)\n",
    "\n",
    "#tune lr\n",
    "hyperparameters_lr = {\"logisticregression__penalty\": (\"l1\", \"l2\", \"elasticnet\", \"none\"),\n",
    "                      \"logisticregression__tol\": (1e-4, 1e-3, 1e-2, 1e-1),\n",
    "                      \"logisticregression__C\": (0.1, 1, 10),\n",
    "                      \"logisticregression__solver\": (\"newton-cg\", \"lbfgs\", \"liblinear\", \"sag\", \"saga\"),\n",
    "                      \"logisticregression__multi_class\": (\"auto\", \"ovr\", \"multinomial\"),\n",
    "                      \"logisticregression__warm_start\": (True, False),\n",
    "                      \"logisticregression__class_weight\": ('balanced', {0: 1, 1: 32}, {0: 32, 1: 1})}\n",
    "\n",
    "pipeline = make_pipeline(TomekLinks(), LogisticRegression(random_state=19))\n",
    "\n",
    "lrG_rscv = RandomizedSearchCV(estimator=pipeline,\n",
    "                              param_distributions=hyperparameters_lr,\n",
    "                              n_jobs=-1,\n",
    "                              scoring='roc_auc',\n",
    "                              verbose=5,                        \n",
    "                              cv=5,\n",
    "                              n_iter = 50,\n",
    "                              random_state = 19)"
   ]
  },
  {
   "cell_type": "code",
   "execution_count": 18,
   "id": "5cf52805",
   "metadata": {},
   "outputs": [
    {
     "name": "stdout",
     "output_type": "stream",
     "text": [
      "AUC of training set: 0.7266041660066112\n",
      "AUC of testing set: 0.6960079789165247\n",
      "Fitting 5 folds for each of 50 candidates, totalling 250 fits\n",
      "--> Tuned Parameters Best Score:  0.7196779016738849\n",
      "--> Best Parameters: \n",
      " {'logisticregression__warm_start': False, 'logisticregression__tol': 0.1, 'logisticregression__solver': 'newton-cg', 'logisticregression__penalty': 'none', 'logisticregression__multi_class': 'ovr', 'logisticregression__class_weight': {0: 1, 1: 32}, 'logisticregression__C': 1}\n",
      "AUC of training set: 0.7262658875370951\n",
      "AUC of testing set: 0.6958576267421844\n",
      "AUC of training set: 0.7263950934110615\n",
      "AUC of testing set: 0.6959174259024334\n"
     ]
    }
   ],
   "source": [
    "lr.fit(G_X_train_overlap, G_y_train)\n",
    "\n",
    "G_y_train_pred = lr.predict_proba(G_X_train_overlap)\n",
    "fpr, tpr, thresholds = roc_curve(G_y_train, G_y_train_pred[:, 1])\n",
    "G_train_auroc_lr = auc(fpr, tpr)\n",
    "print('AUC of training set:', G_train_auroc_lr)\n",
    "\n",
    "G_y_test_pred = lr.predict_proba(G_X_test_overlap)\n",
    "fpr, tpr, thresholds = roc_curve(G_y_test, G_y_test_pred[:, 1])\n",
    "G_test_auroc_lr = auc(fpr, tpr)\n",
    "print('AUC of testing set:', G_test_auroc_lr)\n",
    "\n",
    "#tuned\n",
    "lrG_rsCV = lrG_rscv.fit(G_X_train_overlap, G_y_train)\n",
    "print('--> Tuned Parameters Best Score: ', lrG_rsCV.best_score_)\n",
    "print('--> Best Parameters: \\n', lrG_rsCV.best_params_)\n",
    "\n",
    "G_y_train_pred = lrG_rsCV.predict_proba(G_X_train_overlap)\n",
    "fpr, tpr, thresholds = roc_curve(G_y_train, G_y_train_pred[:, 1])\n",
    "G_train_auroc_lr_tuned = auc(fpr, tpr)\n",
    "print('AUC of training set:', G_train_auroc_lr_tuned)\n",
    "\n",
    "G_y_test_pred = lrG_rsCV.predict_proba(G_X_test_overlap)\n",
    "fpr, tpr, thresholds = roc_curve(G_y_test, G_y_test_pred[:, 1])\n",
    "G_test_auroc_lr_tuned = auc(fpr, tpr)\n",
    "print('AUC of testing set:', G_test_auroc_lr_tuned)\n",
    "\n",
    "#calibrated\n",
    "lrG_cccv = CalibratedClassifierCV(base_estimator=lrG_rsCV.best_estimator_, cv=5)\n",
    "lrG_ccCV = lrG_cccv.fit(G_X_train_overlap, G_y_train)\n",
    "\n",
    "G_y_train_pred = lrG_ccCV.predict_proba(G_X_train_overlap)\n",
    "fpr, tpr, thresholds = roc_curve(G_y_train, G_y_train_pred[:, 1])\n",
    "G_train_auroc_lr_cc = auc(fpr, tpr)\n",
    "print('AUC of training set:', G_train_auroc_lr_cc)\n",
    "\n",
    "G_y_test_pred = lrG_ccCV.predict_proba(G_X_test_overlap)\n",
    "fpr, tpr, thresholds = roc_curve(G_y_test, G_y_test_pred[:, 1])\n",
    "G_test_auroc_lr_cc = auc(fpr, tpr)\n",
    "print('AUC of testing set:', G_test_auroc_lr_cc)"
   ]
  },
  {
   "cell_type": "code",
   "execution_count": 19,
   "id": "3a3066e6",
   "metadata": {},
   "outputs": [
    {
     "data": {
      "image/png": "[encoded data removed]",
      "text/plain": [
       "<Figure size 432x288 with 1 Axes>"
      ]
     },
     "metadata": {
      "needs_background": "light"
     },
     "output_type": "display_data"
    }
   ],
   "source": [
    "G_et_list = [G_test_auroc_et, G_test_auroc_et_tuned, G_test_auroc_et_cc]\n",
    "G_xgbc_list = [G_test_auroc_xgbc, G_test_auroc_xgbc_tuned, G_test_auroc_xgbc_cc]\n",
    "G_lr_list = [G_test_auroc_lr, G_test_auroc_lr_tuned, G_test_auroc_lr_cc]\n",
    "x = \"Based\",\"Tuned\",\"Calibrated\"\n",
    "\n",
    "plt.plot(x, G_et_list, label = \"ET\")\n",
    "plt.plot(x, G_xgbc_list, label = \"XGBC\")\n",
    "plt.plot(x, G_lr_list, label = \"LR\")\n",
    "plt.legend()\n",
    "for i in range(len(x)):\n",
    "    plt.annotate(round(G_et_list[i],3), (x[i], G_et_list[i]))\n",
    "    plt.annotate(round(G_xgbc_list[i],3), (x[i], G_xgbc_list[i]))\n",
    "    plt.annotate(round(G_lr_list[i],3), (x[i], G_lr_list[i]))\n",
    "plt.title('TSR_ALL1_G_Overlap', fontsize=15)\n",
    "#plt.savefig('INFO/TSR_ALL1/TSR_ALL1_G_Overlap.png')\n",
    "plt.show()"
   ]
  },
  {
   "cell_type": "markdown",
   "id": "02965d6b",
   "metadata": {},
   "source": [
    "# Machine Learning - TSR_ALL1"
   ]
  },
  {
   "cell_type": "markdown",
   "id": "5adb9818",
   "metadata": {},
   "source": [
    "## Preprocess input data (BAD when Discharge)"
   ]
  },
  {
   "cell_type": "code",
   "execution_count": 20,
   "id": "85da861f",
   "metadata": {},
   "outputs": [],
   "source": [
    "# discharged mRS = BAD (tsr_all1_df.discharged_mrs == 0)\n",
    "mrs_dis0 = tsr_all1_df[(tsr_all1_df.discharged_mrs != 1) & (tsr_all1_df.discharged_mrs != 0) & (tsr_all1_df.discharged_mrs != 2)]"
   ]
  },
  {
   "cell_type": "code",
   "execution_count": 21,
   "id": "29cbec00",
   "metadata": {},
   "outputs": [
    {
     "name": "stdout",
     "output_type": "stream",
     "text": [
      "(23709, 230)\n"
     ]
    }
   ],
   "source": [
    "## input dataset\n",
    "tsr_1B_input = mrs_dis0.drop([\"icase_id\", \"idcase_id\", \"mrs_tx_1\"], axis=1)\n",
    "print(tsr_1B_input.shape)\n",
    "tsr_1B_input = tsr_1B_input.astype(\"float64\")\n",
    "tsr_1B_input = np.array(tsr_1B_input.values)"
   ]
  },
  {
   "cell_type": "code",
   "execution_count": 22,
   "id": "f03bc914",
   "metadata": {},
   "outputs": [
    {
     "name": "stdout",
     "output_type": "stream",
     "text": [
      "(23709,)\n"
     ]
    }
   ],
   "source": [
    "## output dataset\n",
    "tsr_1B_output = mrs_dis0.mrs_tx_1\n",
    "print(tsr_1B_output.shape)\n",
    "tsr_1B_output = tsr_1B_output.astype(\"float64\")\n",
    "tsr_1B_output = np.array(tsr_1B_output.values)"
   ]
  },
  {
   "cell_type": "code",
   "execution_count": 23,
   "id": "8c912a54",
   "metadata": {},
   "outputs": [
    {
     "name": "stdout",
     "output_type": "stream",
     "text": [
      "The shape of X_train: (16596, 230)\n",
      "The shape of y_train: (16596,)\n",
      "The shape of X_test: (7113, 230)\n",
      "The shape of y_test: (7113,)\n"
     ]
    }
   ],
   "source": [
    "## train_test_split\n",
    "B_X_train, B_X_test, B_y_train, B_y_test = train_test_split(tsr_1B_input, tsr_1B_output, test_size=0.3, random_state=19)\n",
    "print(\"The shape of X_train:\", B_X_train.shape)\n",
    "print(\"The shape of y_train:\", B_y_train.shape)\n",
    "print(\"The shape of X_test:\", B_X_test.shape)\n",
    "print(\"The shape of y_test:\", B_y_test.shape)"
   ]
  },
  {
   "cell_type": "code",
   "execution_count": 24,
   "id": "9eaf37e5",
   "metadata": {},
   "outputs": [],
   "source": [
    "## scale B_X_train\n",
    "from sklearn.preprocessing import MinMaxScaler\n",
    "from sklearn.preprocessing import OrdinalEncoder\n",
    "from sklearn.preprocessing import OneHotEncoder\n",
    "\n",
    "B_X_train = pd.DataFrame(B_X_train)\n",
    "B_X_train.columns = tsr_all1_df.drop([\"icase_id\", \"idcase_id\", \"mrs_tx_1\"], axis=1).columns\n",
    "\n",
    "scaler = MinMaxScaler()\n",
    "B_X_train[continuous] = scaler.fit_transform(B_X_train[continuous])\n",
    "\n",
    "encoder = OrdinalEncoder(handle_unknown=\"use_encoded_value\", unknown_value=9)\n",
    "B_X_train[ordinal_features] = encoder.fit_transform(B_X_train[ordinal_features])\n",
    "\n",
    "ohe = OneHotEncoder(sparse=False)\n",
    "nominal_train = ohe.fit_transform(B_X_train[nominal_features])\n",
    "B_X_train = pd.concat([B_X_train, pd.DataFrame(nominal_train)], axis=1)\n",
    "B_X_train = B_X_train.drop(nominal_features, axis=1)\n",
    "\n",
    "B_x_train_columns = list(B_X_train.columns)\n",
    "B_x_train_columns = B_x_train_columns[0:200]\n",
    "get_feature_name = list(ohe.get_feature_names(nominal_features))\n",
    "B_x_train_columns = B_x_train_columns+get_feature_name\n",
    "\n",
    "B_X_train.columns = B_x_train_columns\n",
    "B_X_train_overlap = B_X_train[T_I[\"B1\"][0:21]]\n",
    "\n",
    "B_X_train_overlap = np.array(B_X_train_overlap.values)"
   ]
  },
  {
   "cell_type": "code",
   "execution_count": 25,
   "id": "af1b7fcc",
   "metadata": {},
   "outputs": [],
   "source": [
    "## scale B_X_test\n",
    "B_X_test = pd.DataFrame(B_X_test)\n",
    "B_X_test.columns = tsr_all1_df.drop([\"icase_id\", \"idcase_id\", \"mrs_tx_1\"], axis=1).columns\n",
    "\n",
    "B_X_test[continuous] = scaler.transform(B_X_test[continuous])\n",
    "\n",
    "B_X_test[ordinal_features] = encoder.transform(B_X_test[ordinal_features])\n",
    "\n",
    "nominal_test = ohe.transform(B_X_test[nominal_features])\n",
    "B_X_test = pd.concat([B_X_test, pd.DataFrame(nominal_test)], axis=1)\n",
    "B_X_test = B_X_test.drop(nominal_features, axis=1)\n",
    "\n",
    "B_X_test.columns = B_x_train_columns\n",
    "B_X_test_overlap = B_X_test[T_I[\"B1\"][0:21]]\n",
    "\n",
    "B_X_test_overlap = np.array(B_X_test_overlap.values)"
   ]
  },
  {
   "cell_type": "markdown",
   "id": "45885d6d",
   "metadata": {},
   "source": [
    "## Algorithms"
   ]
  },
  {
   "cell_type": "markdown",
   "id": "8deb586f",
   "metadata": {},
   "source": [
    "## Extra trees"
   ]
  },
  {
   "cell_type": "code",
   "execution_count": 26,
   "id": "1e584b13",
   "metadata": {},
   "outputs": [],
   "source": [
    "# base et\n",
    "et = ExtraTreesClassifier(random_state=19)\n",
    "\n",
    "#tune et\n",
    "hyperparameters_et = {\"extratreesclassifier__n_estimators\": (25, 100),\n",
    "                      \"extratreesclassifier__criterion\": (\"gini\", \"entropy\"),\n",
    "                      \"extratreesclassifier__max_depth\": (25, 100),\n",
    "                      \"extratreesclassifier__min_samples_split\": (25, 100),\n",
    "                      \"extratreesclassifier__max_features\": (0.1, 0.9),\n",
    "                      \"extratreesclassifier__bootstrap\": (True, False),\n",
    "                      \"extratreesclassifier__class_weight\": ('balanced', {0: 1, 1: 7}, {0: 7, 1: 1}),\n",
    "                      \"extratreesclassifier__max_samples\": (0.3, 0.8)}\n",
    "\n",
    "pipeline = make_pipeline(TomekLinks(), ExtraTreesClassifier(random_state=19))\n",
    "\n",
    "etB_rscv = RandomizedSearchCV(estimator=pipeline,\n",
    "                              param_distributions=hyperparameters_et,\n",
    "                              n_jobs=-1,\n",
    "                              scoring='roc_auc',\n",
    "                              verbose=5,                        \n",
    "                              cv=5,\n",
    "                              n_iter = 50,\n",
    "                              random_state = 19)"
   ]
  },
  {
   "cell_type": "code",
   "execution_count": 27,
   "id": "57571985",
   "metadata": {},
   "outputs": [
    {
     "name": "stdout",
     "output_type": "stream",
     "text": [
      "AUC of training set: 0.9999946135698793\n",
      "AUC of testing set: 0.8092774823585718\n",
      "Fitting 5 folds for each of 50 candidates, totalling 250 fits\n",
      "--> Tuned Parameters Best Score:  0.8573081657334235\n",
      "--> Best Parameters: \n",
      " {'extratreesclassifier__n_estimators': 25, 'extratreesclassifier__min_samples_split': 100, 'extratreesclassifier__max_samples': 0.8, 'extratreesclassifier__max_features': 0.9, 'extratreesclassifier__max_depth': 100, 'extratreesclassifier__criterion': 'entropy', 'extratreesclassifier__class_weight': 'balanced', 'extratreesclassifier__bootstrap': True}\n",
      "AUC of training set: 0.8912260158011673\n",
      "AUC of testing set: 0.8535998925895955\n",
      "AUC of training set: 0.8867044806215136\n",
      "AUC of testing set: 0.8551687603779824\n"
     ]
    }
   ],
   "source": [
    "#based\n",
    "et.fit(B_X_train_overlap, B_y_train)\n",
    "\n",
    "B_y_train_pred = et.predict_proba(B_X_train_overlap)\n",
    "fpr, tpr, thresholds = roc_curve(B_y_train, B_y_train_pred[:, 1])\n",
    "B_train_auroc_et = auc(fpr, tpr)\n",
    "print('AUC of training set:', B_train_auroc_et)\n",
    "\n",
    "B_y_test_pred = et.predict_proba(B_X_test_overlap)\n",
    "fpr, tpr, thresholds = roc_curve(B_y_test, B_y_test_pred[:, 1])\n",
    "B_test_auroc_et = auc(fpr, tpr)\n",
    "print('AUC of testing set:', B_test_auroc_et)\n",
    "\n",
    "#tuned\n",
    "etB_rsCV = etB_rscv.fit(B_X_train_overlap, B_y_train)\n",
    "print('--> Tuned Parameters Best Score: ', etB_rsCV.best_score_)\n",
    "print('--> Best Parameters: \\n', etB_rsCV.best_params_)\n",
    "\n",
    "B_y_train_pred = etB_rsCV.predict_proba(B_X_train_overlap)\n",
    "fpr, tpr, thresholds = roc_curve(B_y_train, B_y_train_pred[:, 1])\n",
    "B_train_auroc_et_tuned = auc(fpr, tpr)\n",
    "print('AUC of training set:', B_train_auroc_et_tuned)\n",
    "\n",
    "B_y_test_pred = etB_rsCV.predict_proba(B_X_test_overlap)\n",
    "fpr, tpr, thresholds = roc_curve(B_y_test, B_y_test_pred[:, 1])\n",
    "B_test_auroc_et_tuned = auc(fpr, tpr)\n",
    "print('AUC of testing set:', B_test_auroc_et_tuned)\n",
    "\n",
    "#calibrated\n",
    "etB_cccv = CalibratedClassifierCV(base_estimator=etB_rsCV.best_estimator_, cv=5)\n",
    "etB_ccCV = etB_cccv.fit(B_X_train_overlap, B_y_train)\n",
    "\n",
    "B_y_train_pred = etB_ccCV.predict_proba(B_X_train_overlap)\n",
    "fpr, tpr, thresholds = roc_curve(B_y_train, B_y_train_pred[:, 1])\n",
    "B_train_auroc_et_cc = auc(fpr, tpr)\n",
    "print('AUC of training set:', B_train_auroc_et_cc)\n",
    "\n",
    "B_y_test_pred = etB_ccCV.predict_proba(B_X_test_overlap)\n",
    "fpr, tpr, thresholds = roc_curve(B_y_test, B_y_test_pred[:, 1])\n",
    "B_test_auroc_et_cc = auc(fpr, tpr)\n",
    "print('AUC of testing set:', B_test_auroc_et_cc)"
   ]
  },
  {
   "cell_type": "markdown",
   "id": "5b53cfee",
   "metadata": {},
   "source": [
    "## XGBClassifier"
   ]
  },
  {
   "cell_type": "code",
   "execution_count": 28,
   "id": "b6ed5bb7",
   "metadata": {},
   "outputs": [],
   "source": [
    "# base xgbc\n",
    "xgbc = XGBClassifier(random_state=19, use_label_encoder=False, eval_metric = \"auc\", tree_method = \"hist\", n_jobs=-1)\n",
    "\n",
    "# tune xgbc\n",
    "hyperparameters_xgbc = {\"xgbclassifier__booster\": (\"gbtree\", \"dart\"),\n",
    "                        \"xgbclassifier__learning_rate\": (0.01, 0.1),\n",
    "                        \"xgbclassifier__max_depth\": (25, 50),\n",
    "                        \"xgbclassifier__subsample\": (0.3, 0.8),\n",
    "                        \"xgbclassifier__colsample_bytree\": (0.3, 0.8),\n",
    "                        \"xgbclassifier__reg_lambda\": (0.1, 10),\n",
    "                        \"xgbclassifier__reg_alpha\": (0.1, 10),\n",
    "                        \"xgbclassifier__gamma\": (0.1, 10),\n",
    "                        \"xgbclassifier__n_estimators\": (25, 100),\n",
    "                        \"xgbclassifier__scale_pos_weight\": (0.15, 7)}\n",
    "\n",
    "pipeline = make_pipeline(TomekLinks(), XGBClassifier(random_state=19, use_label_encoder=False, eval_metric=\"auc\", tree_method = \"hist\"))\n",
    "\n",
    "xgbcB_rscv = RandomizedSearchCV(estimator=pipeline,                       \n",
    "                                param_distributions=hyperparameters_xgbc,                      \n",
    "                                n_jobs=-1,                      \n",
    "                                scoring=\"roc_auc\",                     \n",
    "                                verbose=5,                      \n",
    "                                cv=5,                        \n",
    "                                n_iter=50,\n",
    "                                random_state = 19)"
   ]
  },
  {
   "cell_type": "code",
   "execution_count": 29,
   "id": "d69e69f9",
   "metadata": {},
   "outputs": [
    {
     "name": "stdout",
     "output_type": "stream",
     "text": [
      "AUC of training sxgbc: 0.9603084074318282\n",
      "AUC of testing sxgbc: 0.843569076033049\n",
      "Fitting 5 folds for each of 50 candidates, totalling 250 fits\n",
      "--> Tuned Paramxgbcers Best Score:  0.8606776856744359\n",
      "--> Best Paramxgbcers: \n",
      " {'xgbclassifier__subsample': 0.3, 'xgbclassifier__scale_pos_weight': 7, 'xgbclassifier__reg_lambda': 0.1, 'xgbclassifier__reg_alpha': 10, 'xgbclassifier__n_estimators': 100, 'xgbclassifier__max_depth': 50, 'xgbclassifier__learning_rate': 0.1, 'xgbclassifier__gamma': 10, 'xgbclassifier__colsample_bytree': 0.8, 'xgbclassifier__booster': 'gbtree'}\n",
      "AUC of training sxgbc: 0.8816793225123873\n",
      "AUC of testing sxgbc: 0.8534019688254088\n",
      "AUC of training sxgbc: 0.8803049044291505\n",
      "AUC of testing sxgbc: 0.854332767662892\n"
     ]
    }
   ],
   "source": [
    "#based\n",
    "xgbc.fit(B_X_train_overlap, B_y_train)\n",
    "\n",
    "B_y_train_pred = xgbc.predict_proba(B_X_train_overlap)\n",
    "fpr, tpr, thresholds = roc_curve(B_y_train, B_y_train_pred[:, 1])\n",
    "B_train_auroc_xgbc = auc(fpr, tpr)\n",
    "print('AUC of training sxgbc:', B_train_auroc_xgbc)\n",
    "\n",
    "B_y_test_pred = xgbc.predict_proba(B_X_test_overlap)\n",
    "fpr, tpr, thresholds = roc_curve(B_y_test, B_y_test_pred[:, 1])\n",
    "B_test_auroc_xgbc = auc(fpr, tpr)\n",
    "print('AUC of testing sxgbc:', B_test_auroc_xgbc)\n",
    "\n",
    "#tuned\n",
    "xgbcB_rsCV = xgbcB_rscv.fit(B_X_train_overlap, B_y_train)\n",
    "print('--> Tuned Paramxgbcers Best Score: ', xgbcB_rsCV.best_score_)\n",
    "print('--> Best Paramxgbcers: \\n', xgbcB_rsCV.best_params_)\n",
    "\n",
    "B_y_train_pred = xgbcB_rsCV.predict_proba(B_X_train_overlap)\n",
    "fpr, tpr, thresholds = roc_curve(B_y_train, B_y_train_pred[:, 1])\n",
    "B_train_auroc_xgbc_tuned = auc(fpr, tpr)\n",
    "print('AUC of training sxgbc:', B_train_auroc_xgbc_tuned)\n",
    "\n",
    "B_y_test_pred = xgbcB_rsCV.predict_proba(B_X_test_overlap)\n",
    "fpr, tpr, thresholds = roc_curve(B_y_test, B_y_test_pred[:, 1])\n",
    "B_test_auroc_xgbc_tuned = auc(fpr, tpr)\n",
    "print('AUC of testing sxgbc:', B_test_auroc_xgbc_tuned)\n",
    "\n",
    "#calibrated\n",
    "xgbcB_cccv = CalibratedClassifierCV(base_estimator=xgbcB_rsCV.best_estimator_, cv=5)\n",
    "xgbcB_ccCV = xgbcB_cccv.fit(B_X_train_overlap, B_y_train)\n",
    "\n",
    "B_y_train_pred = xgbcB_ccCV.predict_proba(B_X_train_overlap)\n",
    "fpr, tpr, thresholds = roc_curve(B_y_train, B_y_train_pred[:, 1])\n",
    "B_train_auroc_xgbc_cc = auc(fpr, tpr)\n",
    "print('AUC of training sxgbc:', B_train_auroc_xgbc_cc)\n",
    "\n",
    "B_y_test_pred = xgbcB_ccCV.predict_proba(B_X_test_overlap)\n",
    "fpr, tpr, thresholds = roc_curve(B_y_test, B_y_test_pred[:, 1])\n",
    "B_test_auroc_xgbc_cc = auc(fpr, tpr)\n",
    "print('AUC of testing sxgbc:', B_test_auroc_xgbc_cc)"
   ]
  },
  {
   "cell_type": "markdown",
   "id": "39ce276a",
   "metadata": {},
   "source": [
    "## LogisticRegression"
   ]
  },
  {
   "cell_type": "code",
   "execution_count": 30,
   "id": "59e3684b",
   "metadata": {},
   "outputs": [],
   "source": [
    "# base lr\n",
    "lr = LogisticRegression(random_state=19)\n",
    "\n",
    "#tune lr\n",
    "hyperparameters_lr = {\"logisticregression__penalty\": (\"l1\", \"l2\", \"elasticnet\", \"none\"),\n",
    "                      \"logisticregression__tol\": (1e-4, 1e-3, 1e-2, 1e-1),\n",
    "                      \"logisticregression__C\": (0.1, 1, 10),\n",
    "                      \"logisticregression__solver\": (\"newton-cg\", \"lbfgs\", \"liblinear\", \"sag\", \"saga\"),\n",
    "                      \"logisticregression__multi_class\": (\"auto\", \"ovr\", \"multinomial\"),\n",
    "                      \"logisticregression__warm_start\": (True, False),\n",
    "                      \"logisticregression__class_weight\": ('balanced', {0: 1, 1: 7}, {0: 7, 1: 1})}\n",
    "\n",
    "pipeline = make_pipeline(TomekLinks(), LogisticRegression(random_state=19))\n",
    "\n",
    "lrB_rscv = RandomizedSearchCV(estimator=pipeline,\n",
    "                              param_distributions=hyperparameters_lr,\n",
    "                              n_jobs=-1,\n",
    "                              scoring='roc_auc',\n",
    "                              verbose=5,                        \n",
    "                              cv=5,\n",
    "                              n_iter = 50,\n",
    "                              random_state = 19)"
   ]
  },
  {
   "cell_type": "code",
   "execution_count": 31,
   "id": "e16e9938",
   "metadata": {},
   "outputs": [
    {
     "name": "stdout",
     "output_type": "stream",
     "text": [
      "AUC of training set: 0.8629864045840807\n",
      "AUC of testing set: 0.8515561721708409\n",
      "Fitting 5 folds for each of 50 candidates, totalling 250 fits\n",
      "--> Tuned Parameters Best Score:  0.8606889796688255\n",
      "--> Best Parameters: \n",
      " {'logisticregression__warm_start': True, 'logisticregression__tol': 0.001, 'logisticregression__solver': 'liblinear', 'logisticregression__penalty': 'l1', 'logisticregression__multi_class': 'ovr', 'logisticregression__class_weight': {0: 1, 1: 7}, 'logisticregression__C': 0.1}\n",
      "AUC of training set: 0.8626300383672931\n",
      "AUC of testing set: 0.8518038737160529\n",
      "AUC of training set: 0.8626859909460242\n",
      "AUC of testing set: 0.8518475320267503\n"
     ]
    }
   ],
   "source": [
    "lr.fit(B_X_train_overlap, B_y_train)\n",
    "\n",
    "B_y_train_pred = lr.predict_proba(B_X_train_overlap)\n",
    "fpr, tpr, thresholds = roc_curve(B_y_train, B_y_train_pred[:, 1])\n",
    "B_train_auroc_lr = auc(fpr, tpr)\n",
    "print('AUC of training set:', B_train_auroc_lr)\n",
    "\n",
    "B_y_test_pred = lr.predict_proba(B_X_test_overlap)\n",
    "fpr, tpr, thresholds = roc_curve(B_y_test, B_y_test_pred[:, 1])\n",
    "B_test_auroc_lr = auc(fpr, tpr)\n",
    "print('AUC of testing set:', B_test_auroc_lr)\n",
    "\n",
    "#tuned\n",
    "lrB_rsCV = lrB_rscv.fit(B_X_train_overlap, B_y_train)\n",
    "print('--> Tuned Parameters Best Score: ', lrB_rsCV.best_score_)\n",
    "print('--> Best Parameters: \\n', lrB_rsCV.best_params_)\n",
    "\n",
    "B_y_train_pred = lrB_rsCV.predict_proba(B_X_train_overlap)\n",
    "fpr, tpr, thresholds = roc_curve(B_y_train, B_y_train_pred[:, 1])\n",
    "B_train_auroc_lr_tuned = auc(fpr, tpr)\n",
    "print('AUC of training set:', B_train_auroc_lr_tuned)\n",
    "\n",
    "B_y_test_pred = lrB_rsCV.predict_proba(B_X_test_overlap)\n",
    "fpr, tpr, thresholds = roc_curve(B_y_test, B_y_test_pred[:, 1])\n",
    "B_test_auroc_lr_tuned = auc(fpr, tpr)\n",
    "print('AUC of testing set:', B_test_auroc_lr_tuned)\n",
    "\n",
    "#calibrated\n",
    "lrB_cccv = CalibratedClassifierCV(base_estimator=lrB_rsCV.best_estimator_, cv=5)\n",
    "lrB_ccCV = lrB_cccv.fit(B_X_train_overlap, B_y_train)\n",
    "\n",
    "B_y_train_pred = lrB_ccCV.predict_proba(B_X_train_overlap)\n",
    "fpr, tpr, thresholds = roc_curve(B_y_train, B_y_train_pred[:, 1])\n",
    "B_train_auroc_lr_cc = auc(fpr, tpr)\n",
    "print('AUC of training set:', B_train_auroc_lr_cc)\n",
    "\n",
    "B_y_test_pred = lrB_ccCV.predict_proba(B_X_test_overlap)\n",
    "fpr, tpr, thresholds = roc_curve(B_y_test, B_y_test_pred[:, 1])\n",
    "B_test_auroc_lr_cc = auc(fpr, tpr)\n",
    "print('AUC of testing set:', B_test_auroc_lr_cc)"
   ]
  },
  {
   "cell_type": "code",
   "execution_count": 32,
   "id": "7c2fe715",
   "metadata": {},
   "outputs": [
    {
     "data": {
      "image/png": "[encoded data removed]",
      "text/plain": [
       "<Figure size 432x288 with 1 Axes>"
      ]
     },
     "metadata": {
      "needs_background": "light"
     },
     "output_type": "display_data"
    }
   ],
   "source": [
    "B_et_list = [B_test_auroc_et, B_test_auroc_et_tuned, B_test_auroc_et_cc]\n",
    "B_xgbc_list = [B_test_auroc_xgbc, B_test_auroc_xgbc_tuned, B_test_auroc_xgbc_cc]\n",
    "B_lr_list = [B_test_auroc_lr, B_test_auroc_lr_tuned, B_test_auroc_lr_cc]\n",
    "x = \"Based\",\"Tuned\",\"Calibrated\"\n",
    "\n",
    "plt.plot(x, B_et_list, label = \"ET\")\n",
    "plt.plot(x, B_xgbc_list, label = \"XGBC\")\n",
    "plt.plot(x, B_lr_list, label = \"LR\")\n",
    "plt.legend()\n",
    "for i in range(len(x)):\n",
    "    plt.annotate(round(B_et_list[i],3), (x[i], B_et_list[i]))\n",
    "    plt.annotate(round(B_xgbc_list[i],3), (x[i], B_xgbc_list[i]))\n",
    "    plt.annotate(round(B_lr_list[i],3), (x[i], B_lr_list[i]))\n",
    "plt.title('TSR_ALL1_B_Overlap', fontsize=15)\n",
    "#plt.savefig('INFO/TSR_ALL1/TSR_ALL1_B_Overlap.png')\n",
    "plt.show()"
   ]
  },
  {
   "cell_type": "markdown",
   "id": "855a27c9",
   "metadata": {},
   "source": [
    "# Machine Learning - TSR_ALL3"
   ]
  },
  {
   "cell_type": "markdown",
   "id": "c40094ad",
   "metadata": {},
   "source": [
    "## Preprocess input data (GOOD when Discharge)"
   ]
  },
  {
   "cell_type": "code",
   "execution_count": 33,
   "id": "50bf3491",
   "metadata": {},
   "outputs": [],
   "source": [
    "## discharged mRS = GOOD (tsr_all3_df.discharged_mrs == 1)\n",
    "mrs_dis1 = tsr_all3_df[(tsr_all3_df.discharged_mrs == 1) | (tsr_all3_df.discharged_mrs == 0) | (tsr_all3_df.discharged_mrs == 2)]"
   ]
  },
  {
   "cell_type": "code",
   "execution_count": 34,
   "id": "550361b4",
   "metadata": {},
   "outputs": [
    {
     "name": "stdout",
     "output_type": "stream",
     "text": [
      "(18940, 230)\n"
     ]
    }
   ],
   "source": [
    "## input dataset\n",
    "tsr_3G_input = mrs_dis1.drop([\"icase_id\", \"idcase_id\", \"mrs_tx_1\", \"mrs_tx_3\"], axis=1)\n",
    "print(tsr_3G_input.shape)\n",
    "tsr_3G_input = tsr_3G_input.astype(\"float64\")\n",
    "tsr_3G_input = np.array(tsr_3G_input.values)"
   ]
  },
  {
   "cell_type": "code",
   "execution_count": 35,
   "id": "bfe48ad1",
   "metadata": {},
   "outputs": [
    {
     "name": "stdout",
     "output_type": "stream",
     "text": [
      "(18940,)\n"
     ]
    }
   ],
   "source": [
    "## output dataset\n",
    "tsr_3G_output = mrs_dis1.mrs_tx_3\n",
    "print(tsr_3G_output.shape)\n",
    "tsr_3G_output = tsr_3G_output.astype(\"float64\")\n",
    "tsr_3G_output = np.array(tsr_3G_output.values)"
   ]
  },
  {
   "cell_type": "code",
   "execution_count": 36,
   "id": "bbc426ac",
   "metadata": {},
   "outputs": [
    {
     "name": "stdout",
     "output_type": "stream",
     "text": [
      "The shape of GOOD's X_train: (13258, 230)\n",
      "The shape of GOOD's y_train: (13258,)\n",
      "The shape of GOOD's X_test: (5682, 230)\n",
      "The shape of GOOD's y_test: (5682,)\n"
     ]
    }
   ],
   "source": [
    "## train_test_split\n",
    "G_X_train, G_X_test, G_y_train, G_y_test = train_test_split(tsr_3G_input, tsr_3G_output, test_size=0.3, random_state=19)\n",
    "print(\"The shape of GOOD's X_train:\", G_X_train.shape)\n",
    "print(\"The shape of GOOD's y_train:\", G_y_train.shape)\n",
    "print(\"The shape of GOOD's X_test:\", G_X_test.shape)\n",
    "print(\"The shape of GOOD's y_test:\", G_y_test.shape)"
   ]
  },
  {
   "cell_type": "code",
   "execution_count": 37,
   "id": "1c362622",
   "metadata": {},
   "outputs": [],
   "source": [
    "## scale G_X_train\n",
    "from sklearn.preprocessing import MinMaxScaler\n",
    "from sklearn.preprocessing import OrdinalEncoder\n",
    "from sklearn.preprocessing import OneHotEncoder\n",
    "G_X_train = pd.DataFrame(G_X_train)\n",
    "G_X_train.columns = tsr_all3_df.drop([\"icase_id\", \"idcase_id\", \"mrs_tx_1\", \"mrs_tx_3\"], axis=1).columns\n",
    "\n",
    "scaler = MinMaxScaler()\n",
    "G_X_train[continuous] = scaler.fit_transform(G_X_train[continuous])\n",
    "\n",
    "encoder = OrdinalEncoder(handle_unknown=\"use_encoded_value\", unknown_value=6)\n",
    "G_X_train[ordinal_features] = encoder.fit_transform(G_X_train[ordinal_features])\n",
    "\n",
    "ohe = OneHotEncoder(sparse=False, handle_unknown = \"ignore\")\n",
    "nominal_train = ohe.fit_transform(G_X_train[nominal_features])\n",
    "G_X_train = pd.concat([G_X_train, pd.DataFrame(nominal_train)], axis=1)\n",
    "G_X_train = G_X_train.drop(nominal_features, axis=1)\n",
    "\n",
    "G_x_train_columns = list(G_X_train.columns)\n",
    "G_x_train_columns = G_x_train_columns[0:200]\n",
    "get_feature_name = list(ohe.get_feature_names(nominal_features))\n",
    "G_x_train_columns = G_x_train_columns+get_feature_name\n",
    "\n",
    "G_X_train.columns = G_x_train_columns\n",
    "G_X_train_overlap = G_X_train[T_I[\"G3\"][0:15]]\n",
    "\n",
    "G_X_train_overlap = np.array(G_X_train_overlap.values)"
   ]
  },
  {
   "cell_type": "code",
   "execution_count": 38,
   "id": "caf491ad",
   "metadata": {},
   "outputs": [],
   "source": [
    "## scale G_X_test\n",
    "G_X_test = pd.DataFrame(G_X_test)\n",
    "G_X_test.columns = tsr_all3_df.drop([\"icase_id\", \"idcase_id\", \"mrs_tx_1\", \"mrs_tx_3\"], axis=1).columns\n",
    "\n",
    "G_X_test[continuous] = scaler.transform(G_X_test[continuous])\n",
    "\n",
    "G_X_test[ordinal_features] = encoder.transform(G_X_test[ordinal_features])\n",
    "\n",
    "nominal_test = ohe.transform(G_X_test[nominal_features])\n",
    "G_X_test = pd.concat([G_X_test, pd.DataFrame(nominal_test)], axis=1)\n",
    "G_X_test = G_X_test.drop(nominal_features, axis=1)\n",
    "\n",
    "G_X_test.columns = G_x_train_columns\n",
    "G_X_test_overlap = G_X_test[T_I[\"G3\"][0:15]]\n",
    "\n",
    "G_X_test_overlap = np.array(G_X_test_overlap.values)"
   ]
  },
  {
   "cell_type": "markdown",
   "id": "7d599f53",
   "metadata": {},
   "source": [
    "## Extra trees"
   ]
  },
  {
   "cell_type": "code",
   "execution_count": 39,
   "id": "9b5071df",
   "metadata": {},
   "outputs": [],
   "source": [
    "# base et\n",
    "et = ExtraTreesClassifier(random_state=19)\n",
    "\n",
    "#tune et\n",
    "hyperparameters_et = {\"extratreesclassifier__n_estimators\": (25, 100),\n",
    "                      \"extratreesclassifier__criterion\": (\"gini\", \"entropy\"),\n",
    "                      \"extratreesclassifier__max_depth\": (25, 100),\n",
    "                      \"extratreesclassifier__min_samples_split\": (25, 100),\n",
    "                      \"extratreesclassifier__max_features\": (0.1, 0.9),\n",
    "                      \"extratreesclassifier__bootstrap\": (True, False),\n",
    "                      \"extratreesclassifier__class_weight\": ('balanced', {0: 1, 1: 24}, {0: 24, 1: 1}),\n",
    "                      \"extratreesclassifier__max_samples\": (0.3, 0.8)}\n",
    "\n",
    "pipeline = make_pipeline(TomekLinks(), ExtraTreesClassifier(random_state=19))\n",
    "\n",
    "etG_rscv = RandomizedSearchCV(estimator=pipeline,\n",
    "                              param_distributions=hyperparameters_et,\n",
    "                              n_jobs=-1,\n",
    "                              scoring='roc_auc',\n",
    "                              verbose=5,                        \n",
    "                              cv=5,\n",
    "                              n_iter = 50,\n",
    "                              random_state = 19)"
   ]
  },
  {
   "cell_type": "code",
   "execution_count": 40,
   "id": "6f8b459f",
   "metadata": {},
   "outputs": [
    {
     "name": "stdout",
     "output_type": "stream",
     "text": [
      "AUC of training set: 0.9999910476962467\n",
      "AUC of testing set: 0.6604854520387383\n",
      "Fitting 5 folds for each of 50 candidates, totalling 250 fits\n",
      "--> Tuned Parameters Best Score:  0.7166416304366124\n",
      "--> Best Parameters: \n",
      " {'extratreesclassifier__n_estimators': 100, 'extratreesclassifier__min_samples_split': 100, 'extratreesclassifier__max_samples': 0.3, 'extratreesclassifier__max_features': 0.9, 'extratreesclassifier__max_depth': 25, 'extratreesclassifier__criterion': 'gini', 'extratreesclassifier__class_weight': {0: 1, 1: 24}, 'extratreesclassifier__bootstrap': True}\n",
      "AUC of training set: 0.7895248279936911\n",
      "AUC of testing set: 0.7381569349990091\n",
      "AUC of training set: 0.7780339172454961\n",
      "AUC of testing set: 0.7318575265303713\n"
     ]
    }
   ],
   "source": [
    "#based\n",
    "et.fit(G_X_train_overlap, G_y_train)\n",
    "\n",
    "G_y_train_pred = et.predict_proba(G_X_train_overlap)\n",
    "fpr, tpr, thresholds = roc_curve(G_y_train, G_y_train_pred[:, 1])\n",
    "G_train_auroc_et = auc(fpr, tpr)\n",
    "print('AUC of training set:', G_train_auroc_et)\n",
    "\n",
    "G_y_test_pred = et.predict_proba(G_X_test_overlap)\n",
    "fpr, tpr, thresholds = roc_curve(G_y_test, G_y_test_pred[:, 1])\n",
    "G_test_auroc_et = auc(fpr, tpr)\n",
    "print('AUC of testing set:', G_test_auroc_et)\n",
    "\n",
    "#tuned\n",
    "etG_rsCV = etG_rscv.fit(G_X_train_overlap, G_y_train)\n",
    "print('--> Tuned Parameters Best Score: ', etG_rsCV.best_score_)\n",
    "print('--> Best Parameters: \\n', etG_rsCV.best_params_)\n",
    "\n",
    "G_y_train_pred = etG_rsCV.predict_proba(G_X_train_overlap)\n",
    "fpr, tpr, thresholds = roc_curve(G_y_train, G_y_train_pred[:, 1])\n",
    "G_train_auroc_et_tuned = auc(fpr, tpr)\n",
    "print('AUC of training set:', G_train_auroc_et_tuned)\n",
    "\n",
    "G_y_test_pred = etG_rsCV.predict_proba(G_X_test_overlap)\n",
    "fpr, tpr, thresholds = roc_curve(G_y_test, G_y_test_pred[:, 1])\n",
    "G_test_auroc_et_tuned = auc(fpr, tpr)\n",
    "print('AUC of testing set:', G_test_auroc_et_tuned)\n",
    "\n",
    "#calibrated\n",
    "etG_cccv = CalibratedClassifierCV(base_estimator=etG_rsCV.best_estimator_, cv=5)\n",
    "etG_ccCV = etG_cccv.fit(G_X_train_overlap, G_y_train)\n",
    "\n",
    "G_y_train_pred = etG_ccCV.predict_proba(G_X_train_overlap)\n",
    "fpr, tpr, thresholds = roc_curve(G_y_train, G_y_train_pred[:, 1])\n",
    "G_train_auroc_et_cc = auc(fpr, tpr)\n",
    "print('AUC of training set:', G_train_auroc_et_cc)\n",
    "\n",
    "G_y_test_pred = etG_ccCV.predict_proba(G_X_test_overlap)\n",
    "fpr, tpr, thresholds = roc_curve(G_y_test, G_y_test_pred[:, 1])\n",
    "G_test_auroc_et_cc = auc(fpr, tpr)\n",
    "print('AUC of testing set:', G_test_auroc_et_cc)"
   ]
  },
  {
   "cell_type": "markdown",
   "id": "8366a384",
   "metadata": {},
   "source": [
    "## XGBClassifier"
   ]
  },
  {
   "cell_type": "code",
   "execution_count": 41,
   "id": "7131c0cc",
   "metadata": {},
   "outputs": [],
   "source": [
    "# base xgbc\n",
    "xgbc = XGBClassifier(random_state=19, use_label_encoder=False, eval_metric = \"auc\", tree_method = \"hist\", n_jobs=-1)\n",
    "\n",
    "# tune xgbc\n",
    "hyperparameters_xgbc = {\"xgbclassifier__booster\": (\"gbtree\", \"dart\"),\n",
    "                        \"xgbclassifier__learning_rate\": (0.01, 0.1),\n",
    "                        \"xgbclassifier__max_depth\": (25, 50),\n",
    "                        \"xgbclassifier__subsample\": (0.3, 0.8),\n",
    "                        \"xgbclassifier__colsample_bytree\": (0.3, 0.8),\n",
    "                        \"xgbclassifier__reg_lambda\": (0.1, 10),\n",
    "                        \"xgbclassifier__reg_alpha\": (0.1, 10),\n",
    "                        \"xgbclassifier__gamma\": (0.1, 10),\n",
    "                        \"xgbclassifier__n_estimators\": (25, 100),\n",
    "                        \"xgbclassifier__scale_pos_weight\": (0.04, 24)}\n",
    "\n",
    "pipeline = make_pipeline(TomekLinks(), XGBClassifier(random_state=19, use_label_encoder=False, eval_metric=\"auc\", tree_method = \"hist\"))\n",
    "\n",
    "xgbcG_rscv = RandomizedSearchCV(estimator=pipeline,                       \n",
    "                                param_distributions=hyperparameters_xgbc,                      \n",
    "                                n_jobs=-1,                      \n",
    "                                scoring=\"roc_auc\",                     \n",
    "                                verbose=5,                      \n",
    "                                cv=5,                        \n",
    "                                n_iter=50,\n",
    "                                random_state = 19)"
   ]
  },
  {
   "cell_type": "code",
   "execution_count": 42,
   "id": "0afc0863",
   "metadata": {},
   "outputs": [
    {
     "name": "stdout",
     "output_type": "stream",
     "text": [
      "AUC of training sxgbc: 0.9707694704838107\n",
      "AUC of testing sxgbc: 0.6490747572528996\n",
      "Fitting 5 folds for each of 50 candidates, totalling 250 fits\n",
      "--> Tuned Paramxgbcers Best Score:  0.7234610217011406\n",
      "--> Best Paramxgbcers: \n",
      " {'xgbclassifier__subsample': 0.3, 'xgbclassifier__scale_pos_weight': 24, 'xgbclassifier__reg_lambda': 10, 'xgbclassifier__reg_alpha': 0.1, 'xgbclassifier__n_estimators': 100, 'xgbclassifier__max_depth': 50, 'xgbclassifier__learning_rate': 0.1, 'xgbclassifier__gamma': 0.1, 'xgbclassifier__colsample_bytree': 0.3, 'xgbclassifier__booster': 'dart'}\n",
      "AUC of training sxgbc: 0.7661676756134954\n",
      "AUC of testing sxgbc: 0.7305846589735265\n",
      "AUC of training sxgbc: 0.7652057098829141\n",
      "AUC of testing sxgbc: 0.7351566946762178\n"
     ]
    }
   ],
   "source": [
    "#based\n",
    "xgbc.fit(G_X_train_overlap, G_y_train)\n",
    "\n",
    "G_y_train_pred = xgbc.predict_proba(G_X_train_overlap)\n",
    "fpr, tpr, thresholds = roc_curve(G_y_train, G_y_train_pred[:, 1])\n",
    "G_train_auroc_xgbc = auc(fpr, tpr)\n",
    "print('AUC of training sxgbc:', G_train_auroc_xgbc)\n",
    "\n",
    "G_y_test_pred = xgbc.predict_proba(G_X_test_overlap)\n",
    "fpr, tpr, thresholds = roc_curve(G_y_test, G_y_test_pred[:, 1])\n",
    "G_test_auroc_xgbc = auc(fpr, tpr)\n",
    "print('AUC of testing sxgbc:', G_test_auroc_xgbc)\n",
    "\n",
    "#tuned\n",
    "xgbcG_rsCV = xgbcG_rscv.fit(G_X_train_overlap, G_y_train)\n",
    "print('--> Tuned Paramxgbcers Best Score: ', xgbcG_rsCV.best_score_)\n",
    "print('--> Best Paramxgbcers: \\n', xgbcG_rsCV.best_params_)\n",
    "\n",
    "G_y_train_pred = xgbcG_rsCV.predict_proba(G_X_train_overlap)\n",
    "fpr, tpr, thresholds = roc_curve(G_y_train, G_y_train_pred[:, 1])\n",
    "G_train_auroc_xgbc_tuned = auc(fpr, tpr)\n",
    "print('AUC of training sxgbc:', G_train_auroc_xgbc_tuned)\n",
    "\n",
    "G_y_test_pred = xgbcG_rsCV.predict_proba(G_X_test_overlap)\n",
    "fpr, tpr, thresholds = roc_curve(G_y_test, G_y_test_pred[:, 1])\n",
    "G_test_auroc_xgbc_tuned = auc(fpr, tpr)\n",
    "print('AUC of testing sxgbc:', G_test_auroc_xgbc_tuned)\n",
    "\n",
    "#calibrated\n",
    "xgbcG_cccv = CalibratedClassifierCV(base_estimator=xgbcG_rsCV.best_estimator_, cv=5)\n",
    "xgbcG_ccCV = xgbcG_cccv.fit(G_X_train_overlap, G_y_train)\n",
    "\n",
    "G_y_train_pred = xgbcG_ccCV.predict_proba(G_X_train_overlap)\n",
    "fpr, tpr, thresholds = roc_curve(G_y_train, G_y_train_pred[:, 1])\n",
    "G_train_auroc_xgbc_cc = auc(fpr, tpr)\n",
    "print('AUC of training sxgbc:', G_train_auroc_xgbc_cc)\n",
    "\n",
    "G_y_test_pred = xgbcG_ccCV.predict_proba(G_X_test_overlap)\n",
    "fpr, tpr, thresholds = roc_curve(G_y_test, G_y_test_pred[:, 1])\n",
    "G_test_auroc_xgbc_cc = auc(fpr, tpr)\n",
    "print('AUC of testing sxgbc:', G_test_auroc_xgbc_cc)"
   ]
  },
  {
   "cell_type": "markdown",
   "id": "4f5d261f",
   "metadata": {},
   "source": [
    "## LogisticRegression"
   ]
  },
  {
   "cell_type": "code",
   "execution_count": 43,
   "id": "2cb17b7e",
   "metadata": {},
   "outputs": [],
   "source": [
    "# base lr\n",
    "lr = LogisticRegression(random_state=19)\n",
    "\n",
    "#tune lr\n",
    "hyperparameters_lr = {\"logisticregression__penalty\": (\"l1\", \"l2\", \"elasticnet\", \"none\"),\n",
    "                      \"logisticregression__tol\": (1e-4, 1e-3, 1e-2, 1e-1),\n",
    "                      \"logisticregression__C\": (0.1, 1, 10),\n",
    "                      \"logisticregression__solver\": (\"newton-cg\", \"lbfgs\", \"liblinear\", \"sag\", \"saga\"),\n",
    "                      \"logisticregression__multi_class\": (\"auto\", \"ovr\", \"multinomial\"),\n",
    "                      \"logisticregression__warm_start\": (True, False),\n",
    "                      \"logisticregression__class_weight\": ('balanced', {0: 1, 1: 24}, {0: 24, 1: 1})}\n",
    "\n",
    "pipeline = make_pipeline(TomekLinks(), LogisticRegression(random_state=19))\n",
    "\n",
    "lrG_rscv = RandomizedSearchCV(estimator=pipeline,\n",
    "                              param_distributions=hyperparameters_lr,\n",
    "                              n_jobs=-1,\n",
    "                              scoring='roc_auc',\n",
    "                              verbose=5,                        \n",
    "                              cv=5,\n",
    "                              n_iter = 50,\n",
    "                              random_state = 19)"
   ]
  },
  {
   "cell_type": "code",
   "execution_count": 44,
   "id": "f13d39b4",
   "metadata": {},
   "outputs": [
    {
     "name": "stdout",
     "output_type": "stream",
     "text": [
      "AUC of training set: 0.7263823059861909\n",
      "AUC of testing set: 0.7275570134201307\n",
      "Fitting 5 folds for each of 50 candidates, totalling 250 fits\n",
      "--> Tuned Parameters Best Score:  0.7212446909094604\n",
      "--> Best Parameters: \n",
      " {'logisticregression__warm_start': True, 'logisticregression__tol': 0.01, 'logisticregression__solver': 'liblinear', 'logisticregression__penalty': 'l1', 'logisticregression__multi_class': 'ovr', 'logisticregression__class_weight': {0: 24, 1: 1}, 'logisticregression__C': 0.1}\n",
      "AUC of training set: 0.7270427048564546\n",
      "AUC of testing set: 0.7275477378036184\n",
      "AUC of training set: 0.7269376447628209\n",
      "AUC of testing set: 0.7279094868475975\n"
     ]
    }
   ],
   "source": [
    "lr.fit(G_X_train_overlap, G_y_train)\n",
    "\n",
    "G_y_train_pred = lr.predict_proba(G_X_train_overlap)\n",
    "fpr, tpr, thresholds = roc_curve(G_y_train, G_y_train_pred[:, 1])\n",
    "G_train_auroc_lr = auc(fpr, tpr)\n",
    "print('AUC of training set:', G_train_auroc_lr)\n",
    "\n",
    "G_y_test_pred = lr.predict_proba(G_X_test_overlap)\n",
    "fpr, tpr, thresholds = roc_curve(G_y_test, G_y_test_pred[:, 1])\n",
    "G_test_auroc_lr = auc(fpr, tpr)\n",
    "print('AUC of testing set:', G_test_auroc_lr)\n",
    "\n",
    "#tuned\n",
    "lrG_rsCV = lrG_rscv.fit(G_X_train_overlap, G_y_train)\n",
    "print('--> Tuned Parameters Best Score: ', lrG_rsCV.best_score_)\n",
    "print('--> Best Parameters: \\n', lrG_rsCV.best_params_)\n",
    "\n",
    "G_y_train_pred = lrG_rsCV.predict_proba(G_X_train_overlap)\n",
    "fpr, tpr, thresholds = roc_curve(G_y_train, G_y_train_pred[:, 1])\n",
    "G_train_auroc_lr_tuned = auc(fpr, tpr)\n",
    "print('AUC of training set:', G_train_auroc_lr_tuned)\n",
    "\n",
    "G_y_test_pred = lrG_rsCV.predict_proba(G_X_test_overlap)\n",
    "fpr, tpr, thresholds = roc_curve(G_y_test, G_y_test_pred[:, 1])\n",
    "G_test_auroc_lr_tuned = auc(fpr, tpr)\n",
    "print('AUC of testing set:', G_test_auroc_lr_tuned)\n",
    "\n",
    "#calibrated\n",
    "lrG_cccv = CalibratedClassifierCV(base_estimator=lrG_rsCV.best_estimator_, cv=5)\n",
    "lrG_ccCV = lrG_cccv.fit(G_X_train_overlap, G_y_train)\n",
    "\n",
    "G_y_train_pred = lrG_ccCV.predict_proba(G_X_train_overlap)\n",
    "fpr, tpr, thresholds = roc_curve(G_y_train, G_y_train_pred[:, 1])\n",
    "G_train_auroc_lr_cc = auc(fpr, tpr)\n",
    "print('AUC of training set:', G_train_auroc_lr_cc)\n",
    "\n",
    "G_y_test_pred = lrG_ccCV.predict_proba(G_X_test_overlap)\n",
    "fpr, tpr, thresholds = roc_curve(G_y_test, G_y_test_pred[:, 1])\n",
    "G_test_auroc_lr_cc = auc(fpr, tpr)\n",
    "print('AUC of testing set:', G_test_auroc_lr_cc)"
   ]
  },
  {
   "cell_type": "code",
   "execution_count": 45,
   "id": "4651bd24",
   "metadata": {},
   "outputs": [
    {
     "data": {
      "image/png": "[encoded data removed]",
      "text/plain": [
       "<Figure size 432x288 with 1 Axes>"
      ]
     },
     "metadata": {
      "needs_background": "light"
     },
     "output_type": "display_data"
    }
   ],
   "source": [
    "G_et_list = [G_test_auroc_et, G_test_auroc_et_tuned, G_test_auroc_et_cc]\n",
    "G_xgbc_list = [G_test_auroc_xgbc, G_test_auroc_xgbc_tuned, G_test_auroc_xgbc_cc]\n",
    "G_lr_list = [G_test_auroc_lr, G_test_auroc_lr_tuned, G_test_auroc_lr_cc]\n",
    "x = \"Based\",\"Tuned\",\"Calibrated\"\n",
    "\n",
    "plt.plot(x, G_et_list, label = \"ET\")\n",
    "plt.plot(x, G_xgbc_list, label = \"XGBC\")\n",
    "plt.plot(x, G_lr_list, label = \"LR\")\n",
    "plt.legend()\n",
    "for i in range(len(x)):\n",
    "    plt.annotate(round(G_et_list[i],3), (x[i], G_et_list[i]))\n",
    "    plt.annotate(round(G_xgbc_list[i],3), (x[i], G_xgbc_list[i]))\n",
    "    plt.annotate(round(G_lr_list[i],3), (x[i], G_lr_list[i]))\n",
    "plt.title('TSR_ALL3_G_Overlap', fontsize=15)\n",
    "#plt.savefig('INFO/TSR_ALL3/TSR_ALL3_G_Overlap.png')\n",
    "plt.show()"
   ]
  },
  {
   "cell_type": "markdown",
   "id": "a2f553d5",
   "metadata": {},
   "source": [
    "# Machine Learning - TSR_ALL3"
   ]
  },
  {
   "cell_type": "markdown",
   "id": "07921d33",
   "metadata": {},
   "source": [
    "## Preprocess input data (BAD when Discharge)"
   ]
  },
  {
   "cell_type": "code",
   "execution_count": 46,
   "id": "2582547f",
   "metadata": {},
   "outputs": [],
   "source": [
    "# discharged mRS = BAD (tsr_all3_df.discharged_mrs == 0)\n",
    "mrs_dis0 = tsr_all3_df[(tsr_all3_df.discharged_mrs != 1) & (tsr_all3_df.discharged_mrs != 0) & (tsr_all3_df.discharged_mrs != 2)]"
   ]
  },
  {
   "cell_type": "code",
   "execution_count": 47,
   "id": "a63f01b7",
   "metadata": {},
   "outputs": [
    {
     "name": "stdout",
     "output_type": "stream",
     "text": [
      "(20941, 230)\n"
     ]
    }
   ],
   "source": [
    "## input dataset\n",
    "tsr_3B_input = mrs_dis0.drop([\"icase_id\", \"idcase_id\", \"mrs_tx_1\", \"mrs_tx_3\"], axis=1)\n",
    "print(tsr_3B_input.shape)\n",
    "tsr_3B_input = tsr_3B_input.astype(\"float64\")\n",
    "tsr_3B_input = np.array(tsr_3B_input.values)"
   ]
  },
  {
   "cell_type": "code",
   "execution_count": 48,
   "id": "a20cd9bd",
   "metadata": {},
   "outputs": [
    {
     "name": "stdout",
     "output_type": "stream",
     "text": [
      "(20941,)\n"
     ]
    }
   ],
   "source": [
    "## output dataset\n",
    "tsr_3B_output = mrs_dis0.mrs_tx_3\n",
    "print(tsr_3B_output.shape)\n",
    "tsr_3B_output = tsr_3B_output.astype(\"float64\")\n",
    "tsr_3B_output = np.array(tsr_3B_output.values)"
   ]
  },
  {
   "cell_type": "code",
   "execution_count": 49,
   "id": "08dfa979",
   "metadata": {},
   "outputs": [
    {
     "name": "stdout",
     "output_type": "stream",
     "text": [
      "The shape of X_train: (14658, 230)\n",
      "The shape of y_train: (14658,)\n",
      "The shape of X_test: (6283, 230)\n",
      "The shape of y_test: (6283,)\n"
     ]
    }
   ],
   "source": [
    "## train_test_split\n",
    "B_X_train, B_X_test, B_y_train, B_y_test = train_test_split(tsr_3B_input, tsr_3B_output, test_size=0.3, random_state=19)\n",
    "print(\"The shape of X_train:\", B_X_train.shape)\n",
    "print(\"The shape of y_train:\", B_y_train.shape)\n",
    "print(\"The shape of X_test:\", B_X_test.shape)\n",
    "print(\"The shape of y_test:\", B_y_test.shape)"
   ]
  },
  {
   "cell_type": "code",
   "execution_count": 50,
   "id": "087a5d8d",
   "metadata": {},
   "outputs": [],
   "source": [
    "## scale B_X_train\n",
    "from sklearn.preprocessing import MinMaxScaler\n",
    "from sklearn.preprocessing import OrdinalEncoder\n",
    "from sklearn.preprocessing import OneHotEncoder\n",
    "\n",
    "B_X_train = pd.DataFrame(B_X_train)\n",
    "B_X_train.columns = tsr_all3_df.drop([\"icase_id\", \"idcase_id\", \"mrs_tx_1\", \"mrs_tx_3\"], axis=1).columns\n",
    "\n",
    "scaler = MinMaxScaler()\n",
    "B_X_train[continuous] = scaler.fit_transform(B_X_train[continuous])\n",
    "\n",
    "encoder = OrdinalEncoder(handle_unknown=\"use_encoded_value\", unknown_value=9)\n",
    "B_X_train[ordinal_features] = encoder.fit_transform(B_X_train[ordinal_features])\n",
    "\n",
    "ohe = OneHotEncoder(sparse=False)\n",
    "nominal_train = ohe.fit_transform(B_X_train[nominal_features])\n",
    "B_X_train = pd.concat([B_X_train, pd.DataFrame(nominal_train)], axis=1)\n",
    "B_X_train = B_X_train.drop(nominal_features, axis=1)\n",
    "\n",
    "B_x_train_columns = list(B_X_train.columns)\n",
    "B_x_train_columns = B_x_train_columns[0:200]\n",
    "get_feature_name = list(ohe.get_feature_names(nominal_features))\n",
    "B_x_train_columns = B_x_train_columns+get_feature_name\n",
    "\n",
    "B_X_train.columns = B_x_train_columns\n",
    "B_X_train_overlap = B_X_train[T_I[\"B3\"][0:21]]\n",
    "\n",
    "B_X_train_overlap = np.array(B_X_train_overlap.values)"
   ]
  },
  {
   "cell_type": "code",
   "execution_count": 51,
   "id": "9b5f7d08",
   "metadata": {},
   "outputs": [],
   "source": [
    "## scale B_X_test\n",
    "B_X_test = pd.DataFrame(B_X_test)\n",
    "B_X_test.columns = tsr_all3_df.drop([\"icase_id\", \"idcase_id\", \"mrs_tx_1\", \"mrs_tx_3\"], axis=1).columns\n",
    "\n",
    "B_X_test[continuous] = scaler.transform(B_X_test[continuous])\n",
    "\n",
    "B_X_test[ordinal_features] = encoder.transform(B_X_test[ordinal_features])\n",
    "\n",
    "nominal_test = ohe.transform(B_X_test[nominal_features])\n",
    "B_X_test = pd.concat([B_X_test, pd.DataFrame(nominal_test)], axis=1)\n",
    "B_X_test = B_X_test.drop(nominal_features, axis=1)\n",
    "\n",
    "B_X_test.columns = B_x_train_columns\n",
    "B_X_test_overlap = B_X_test[T_I[\"B3\"][0:21]]\n",
    "\n",
    "B_X_test_overlap = np.array(B_X_test_overlap.values)"
   ]
  },
  {
   "cell_type": "markdown",
   "id": "282564b0",
   "metadata": {},
   "source": [
    "## Algorithms"
   ]
  },
  {
   "cell_type": "markdown",
   "id": "ad278f1e",
   "metadata": {},
   "source": [
    "## Extra trees"
   ]
  },
  {
   "cell_type": "code",
   "execution_count": 52,
   "id": "df0c818a",
   "metadata": {},
   "outputs": [],
   "source": [
    "# base et\n",
    "et = ExtraTreesClassifier(random_state=19)\n",
    "\n",
    "#tune et\n",
    "hyperparameters_et = {\"extratreesclassifier__n_estimators\": (25, 100),\n",
    "                      \"extratreesclassifier__criterion\": (\"gini\", \"entropy\"),\n",
    "                      \"extratreesclassifier__max_depth\": (25, 100),\n",
    "                      \"extratreesclassifier__min_samples_split\": (25, 100),\n",
    "                      \"extratreesclassifier__max_features\": (0.1, 0.9),\n",
    "                      \"extratreesclassifier__bootstrap\": (True, False),\n",
    "                      \"extratreesclassifier__class_weight\": ('balanced', {0: 1, 1: 3}, {0: 3, 1: 1}),\n",
    "                      \"extratreesclassifier__max_samples\": (0.3, 0.8)}\n",
    "\n",
    "pipeline = make_pipeline(TomekLinks(), ExtraTreesClassifier(random_state=19))\n",
    "\n",
    "etB_rscv = RandomizedSearchCV(estimator=pipeline,\n",
    "                              param_distributions=hyperparameters_et,\n",
    "                              n_jobs=-1,\n",
    "                              scoring='roc_auc',\n",
    "                              verbose=5,                        \n",
    "                              cv=5,\n",
    "                              n_iter = 50,\n",
    "                              random_state = 19)"
   ]
  },
  {
   "cell_type": "code",
   "execution_count": 53,
   "id": "8d165785",
   "metadata": {},
   "outputs": [
    {
     "name": "stdout",
     "output_type": "stream",
     "text": [
      "AUC of training set: 0.9998270926937772\n",
      "AUC of testing set: 0.8053756221721734\n",
      "Fitting 5 folds for each of 50 candidates, totalling 250 fits\n",
      "--> Tuned Parameters Best Score:  0.8562151749079533\n",
      "--> Best Parameters: \n",
      " {'extratreesclassifier__n_estimators': 100, 'extratreesclassifier__min_samples_split': 25, 'extratreesclassifier__max_samples': 0.8, 'extratreesclassifier__max_features': 0.1, 'extratreesclassifier__max_depth': 100, 'extratreesclassifier__criterion': 'entropy', 'extratreesclassifier__class_weight': {0: 1, 1: 3}, 'extratreesclassifier__bootstrap': True}\n",
      "AUC of training set: 0.8969019056395098\n",
      "AUC of testing set: 0.8580928070259122\n",
      "AUC of training set: 0.8904402101480869\n",
      "AUC of testing set: 0.8592388796332108\n"
     ]
    }
   ],
   "source": [
    "#based\n",
    "et.fit(B_X_train_overlap, B_y_train)\n",
    "\n",
    "B_y_train_pred = et.predict_proba(B_X_train_overlap)\n",
    "fpr, tpr, thresholds = roc_curve(B_y_train, B_y_train_pred[:, 1])\n",
    "B_train_auroc_et = auc(fpr, tpr)\n",
    "print('AUC of training set:', B_train_auroc_et)\n",
    "\n",
    "B_y_test_pred = et.predict_proba(B_X_test_overlap)\n",
    "fpr, tpr, thresholds = roc_curve(B_y_test, B_y_test_pred[:, 1])\n",
    "B_test_auroc_et = auc(fpr, tpr)\n",
    "print('AUC of testing set:', B_test_auroc_et)\n",
    "\n",
    "#tuned\n",
    "etB_rsCV = etB_rscv.fit(B_X_train_overlap, B_y_train)\n",
    "print('--> Tuned Parameters Best Score: ', etB_rsCV.best_score_)\n",
    "print('--> Best Parameters: \\n', etB_rsCV.best_params_)\n",
    "\n",
    "B_y_train_pred = etB_rsCV.predict_proba(B_X_train_overlap)\n",
    "fpr, tpr, thresholds = roc_curve(B_y_train, B_y_train_pred[:, 1])\n",
    "B_train_auroc_et_tuned = auc(fpr, tpr)\n",
    "print('AUC of training set:', B_train_auroc_et_tuned)\n",
    "\n",
    "B_y_test_pred = etB_rsCV.predict_proba(B_X_test_overlap)\n",
    "fpr, tpr, thresholds = roc_curve(B_y_test, B_y_test_pred[:, 1])\n",
    "B_test_auroc_et_tuned = auc(fpr, tpr)\n",
    "print('AUC of testing set:', B_test_auroc_et_tuned)\n",
    "\n",
    "#calibrated\n",
    "etB_cccv = CalibratedClassifierCV(base_estimator=etB_rsCV.best_estimator_, cv=5)\n",
    "etB_ccCV = etB_cccv.fit(B_X_train_overlap, B_y_train)\n",
    "\n",
    "B_y_train_pred = etB_ccCV.predict_proba(B_X_train_overlap)\n",
    "fpr, tpr, thresholds = roc_curve(B_y_train, B_y_train_pred[:, 1])\n",
    "B_train_auroc_et_cc = auc(fpr, tpr)\n",
    "print('AUC of training set:', B_train_auroc_et_cc)\n",
    "\n",
    "B_y_test_pred = etB_ccCV.predict_proba(B_X_test_overlap)\n",
    "fpr, tpr, thresholds = roc_curve(B_y_test, B_y_test_pred[:, 1])\n",
    "B_test_auroc_et_cc = auc(fpr, tpr)\n",
    "print('AUC of testing set:', B_test_auroc_et_cc)"
   ]
  },
  {
   "cell_type": "markdown",
   "id": "9bcaaadc",
   "metadata": {},
   "source": [
    "## XGBClassifier"
   ]
  },
  {
   "cell_type": "code",
   "execution_count": 54,
   "id": "3c6a274b",
   "metadata": {},
   "outputs": [],
   "source": [
    "# base xgbc\n",
    "xgbc = XGBClassifier(random_state=19, use_label_encoder=False, eval_metric = \"auc\", tree_method = \"hist\", n_jobs=-1)\n",
    "\n",
    "# tune xgbc\n",
    "hyperparameters_xgbc = {\"xgbclassifier__booster\": (\"gbtree\", \"dart\"),\n",
    "                        \"xgbclassifier__learning_rate\": (0.01, 0.1),\n",
    "                        \"xgbclassifier__max_depth\": (25, 50),\n",
    "                        \"xgbclassifier__subsample\": (0.3, 0.8),\n",
    "                        \"xgbclassifier__colsample_bytree\": (0.3, 0.8),\n",
    "                        \"xgbclassifier__reg_lambda\": (0.1, 10),\n",
    "                        \"xgbclassifier__reg_alpha\": (0.1, 10),\n",
    "                        \"xgbclassifier__gamma\": (0.1, 10),\n",
    "                        \"xgbclassifier__n_estimators\": (25, 100),\n",
    "                        \"xgbclassifier__scale_pos_weight\": (0.33, 3)}\n",
    "\n",
    "pipeline = make_pipeline(TomekLinks(), XGBClassifier(random_state=19, use_label_encoder=False, eval_metric=\"auc\", tree_method = \"hist\"))\n",
    "\n",
    "xgbcB_rscv = RandomizedSearchCV(estimator=pipeline,                       \n",
    "                                param_distributions=hyperparameters_xgbc,                      \n",
    "                                n_jobs=-1,                      \n",
    "                                scoring=\"roc_auc\",                     \n",
    "                                verbose=5,                      \n",
    "                                cv=5,                        \n",
    "                                n_iter=50,\n",
    "                                random_state = 19)"
   ]
  },
  {
   "cell_type": "code",
   "execution_count": 55,
   "id": "343bb411",
   "metadata": {},
   "outputs": [
    {
     "name": "stdout",
     "output_type": "stream",
     "text": [
      "AUC of training sxgbc: 0.9416001965628811\n",
      "AUC of testing sxgbc: 0.8463207434400741\n",
      "Fitting 5 folds for each of 50 candidates, totalling 250 fits\n",
      "--> Tuned Paramxgbcers Best Score:  0.8598020347311476\n",
      "--> Best Paramxgbcers: \n",
      " {'xgbclassifier__subsample': 0.3, 'xgbclassifier__scale_pos_weight': 3, 'xgbclassifier__reg_lambda': 0.1, 'xgbclassifier__reg_alpha': 10, 'xgbclassifier__n_estimators': 100, 'xgbclassifier__max_depth': 50, 'xgbclassifier__learning_rate': 0.1, 'xgbclassifier__gamma': 0.1, 'xgbclassifier__colsample_bytree': 0.3, 'xgbclassifier__booster': 'gbtree'}\n",
      "AUC of training sxgbc: 0.868721248684513\n",
      "AUC of testing sxgbc: 0.861995014002286\n",
      "AUC of training sxgbc: 0.8685499519157923\n",
      "AUC of testing sxgbc: 0.8624342197137707\n"
     ]
    }
   ],
   "source": [
    "#based\n",
    "xgbc.fit(B_X_train_overlap, B_y_train)\n",
    "\n",
    "B_y_train_pred = xgbc.predict_proba(B_X_train_overlap)\n",
    "fpr, tpr, thresholds = roc_curve(B_y_train, B_y_train_pred[:, 1])\n",
    "B_train_auroc_xgbc = auc(fpr, tpr)\n",
    "print('AUC of training sxgbc:', B_train_auroc_xgbc)\n",
    "\n",
    "B_y_test_pred = xgbc.predict_proba(B_X_test_overlap)\n",
    "fpr, tpr, thresholds = roc_curve(B_y_test, B_y_test_pred[:, 1])\n",
    "B_test_auroc_xgbc = auc(fpr, tpr)\n",
    "print('AUC of testing sxgbc:', B_test_auroc_xgbc)\n",
    "\n",
    "#tuned\n",
    "xgbcB_rsCV = xgbcB_rscv.fit(B_X_train_overlap, B_y_train)\n",
    "print('--> Tuned Paramxgbcers Best Score: ', xgbcB_rsCV.best_score_)\n",
    "print('--> Best Paramxgbcers: \\n', xgbcB_rsCV.best_params_)\n",
    "\n",
    "B_y_train_pred = xgbcB_rsCV.predict_proba(B_X_train_overlap)\n",
    "fpr, tpr, thresholds = roc_curve(B_y_train, B_y_train_pred[:, 1])\n",
    "B_train_auroc_xgbc_tuned = auc(fpr, tpr)\n",
    "print('AUC of training sxgbc:', B_train_auroc_xgbc_tuned)\n",
    "\n",
    "B_y_test_pred = xgbcB_rsCV.predict_proba(B_X_test_overlap)\n",
    "fpr, tpr, thresholds = roc_curve(B_y_test, B_y_test_pred[:, 1])\n",
    "B_test_auroc_xgbc_tuned = auc(fpr, tpr)\n",
    "print('AUC of testing sxgbc:', B_test_auroc_xgbc_tuned)\n",
    "\n",
    "#calibrated\n",
    "xgbcB_cccv = CalibratedClassifierCV(base_estimator=xgbcB_rsCV.best_estimator_, cv=5)\n",
    "xgbcB_ccCV = xgbcB_cccv.fit(B_X_train_overlap, B_y_train)\n",
    "\n",
    "B_y_train_pred = xgbcB_ccCV.predict_proba(B_X_train_overlap)\n",
    "fpr, tpr, thresholds = roc_curve(B_y_train, B_y_train_pred[:, 1])\n",
    "B_train_auroc_xgbc_cc = auc(fpr, tpr)\n",
    "print('AUC of training sxgbc:', B_train_auroc_xgbc_cc)\n",
    "\n",
    "B_y_test_pred = xgbcB_ccCV.predict_proba(B_X_test_overlap)\n",
    "fpr, tpr, thresholds = roc_curve(B_y_test, B_y_test_pred[:, 1])\n",
    "B_test_auroc_xgbc_cc = auc(fpr, tpr)\n",
    "print('AUC of testing sxgbc:', B_test_auroc_xgbc_cc)"
   ]
  },
  {
   "cell_type": "markdown",
   "id": "547ef91c",
   "metadata": {},
   "source": [
    "## LogisticRegression"
   ]
  },
  {
   "cell_type": "code",
   "execution_count": 56,
   "id": "aea8f18c",
   "metadata": {},
   "outputs": [],
   "source": [
    "# base lr\n",
    "lr = LogisticRegression(random_state=19)\n",
    "\n",
    "#tune lr\n",
    "hyperparameters_lr = {\"logisticregression__penalty\": (\"l1\", \"l2\", \"elasticnet\", \"none\"),\n",
    "                      \"logisticregression__tol\": (1e-4, 1e-3, 1e-2, 1e-1),\n",
    "                      \"logisticregression__C\": (0.1, 1, 10),\n",
    "                      \"logisticregression__solver\": (\"newton-cg\", \"lbfgs\", \"liblinear\", \"sag\", \"saga\"),\n",
    "                      \"logisticregression__multi_class\": (\"auto\", \"ovr\", \"multinomial\"),\n",
    "                      \"logisticregression__warm_start\": (True, False),\n",
    "                      \"logisticregression__class_weight\": ('balanced', {0: 1, 1: 3}, {0: 3, 1: 1})}\n",
    "\n",
    "pipeline = make_pipeline(TomekLinks(), LogisticRegression(random_state=19))\n",
    "\n",
    "lrB_rscv = RandomizedSearchCV(estimator=pipeline,\n",
    "                              param_distributions=hyperparameters_lr,\n",
    "                              n_jobs=-1,\n",
    "                              scoring='roc_auc',\n",
    "                              verbose=5,                        \n",
    "                              cv=5,\n",
    "                              n_iter = 50,\n",
    "                              random_state = 19)"
   ]
  },
  {
   "cell_type": "code",
   "execution_count": 57,
   "id": "38a06c6b",
   "metadata": {},
   "outputs": [
    {
     "name": "stdout",
     "output_type": "stream",
     "text": [
      "AUC of training set: 0.8612464993356855\n",
      "AUC of testing set: 0.8608821296577789\n",
      "Fitting 5 folds for each of 50 candidates, totalling 250 fits\n",
      "--> Tuned Parameters Best Score:  0.8600139421797293\n",
      "--> Best Parameters: \n",
      " {'logisticregression__warm_start': True, 'logisticregression__tol': 0.001, 'logisticregression__solver': 'saga', 'logisticregression__penalty': 'l1', 'logisticregression__multi_class': 'ovr', 'logisticregression__class_weight': {0: 1, 1: 3}, 'logisticregression__C': 0.1}\n",
      "AUC of training set: 0.8610296823350062\n",
      "AUC of testing set: 0.8608318444111253\n",
      "AUC of training set: 0.8610275177726034\n",
      "AUC of testing set: 0.860803972017266\n"
     ]
    }
   ],
   "source": [
    "lr.fit(B_X_train_overlap, B_y_train)\n",
    "\n",
    "B_y_train_pred = lr.predict_proba(B_X_train_overlap)\n",
    "fpr, tpr, thresholds = roc_curve(B_y_train, B_y_train_pred[:, 1])\n",
    "B_train_auroc_lr = auc(fpr, tpr)\n",
    "print('AUC of training set:', B_train_auroc_lr)\n",
    "\n",
    "B_y_test_pred = lr.predict_proba(B_X_test_overlap)\n",
    "fpr, tpr, thresholds = roc_curve(B_y_test, B_y_test_pred[:, 1])\n",
    "B_test_auroc_lr = auc(fpr, tpr)\n",
    "print('AUC of testing set:', B_test_auroc_lr)\n",
    "\n",
    "#tuned\n",
    "lrB_rsCV = lrB_rscv.fit(B_X_train_overlap, B_y_train)\n",
    "print('--> Tuned Parameters Best Score: ', lrB_rsCV.best_score_)\n",
    "print('--> Best Parameters: \\n', lrB_rsCV.best_params_)\n",
    "\n",
    "B_y_train_pred = lrB_rsCV.predict_proba(B_X_train_overlap)\n",
    "fpr, tpr, thresholds = roc_curve(B_y_train, B_y_train_pred[:, 1])\n",
    "B_train_auroc_lr_tuned = auc(fpr, tpr)\n",
    "print('AUC of training set:', B_train_auroc_lr_tuned)\n",
    "\n",
    "B_y_test_pred = lrB_rsCV.predict_proba(B_X_test_overlap)\n",
    "fpr, tpr, thresholds = roc_curve(B_y_test, B_y_test_pred[:, 1])\n",
    "B_test_auroc_lr_tuned = auc(fpr, tpr)\n",
    "print('AUC of testing set:', B_test_auroc_lr_tuned)\n",
    "\n",
    "#calibrated\n",
    "lrB_cccv = CalibratedClassifierCV(base_estimator=lrB_rsCV.best_estimator_, cv=5)\n",
    "lrB_ccCV = lrB_cccv.fit(B_X_train_overlap, B_y_train)\n",
    "\n",
    "B_y_train_pred = lrB_ccCV.predict_proba(B_X_train_overlap)\n",
    "fpr, tpr, thresholds = roc_curve(B_y_train, B_y_train_pred[:, 1])\n",
    "B_train_auroc_lr_cc = auc(fpr, tpr)\n",
    "print('AUC of training set:', B_train_auroc_lr_cc)\n",
    "\n",
    "B_y_test_pred = lrB_ccCV.predict_proba(B_X_test_overlap)\n",
    "fpr, tpr, thresholds = roc_curve(B_y_test, B_y_test_pred[:, 1])\n",
    "B_test_auroc_lr_cc = auc(fpr, tpr)\n",
    "print('AUC of testing set:', B_test_auroc_lr_cc)"
   ]
  },
  {
   "cell_type": "code",
   "execution_count": 58,
   "id": "c75c70aa",
   "metadata": {},
   "outputs": [
    {
     "data": {
      "image/png": "[encoded data removed]",
      "text/plain": [
       "<Figure size 432x288 with 1 Axes>"
      ]
     },
     "metadata": {
      "needs_background": "light"
     },
     "output_type": "display_data"
    }
   ],
   "source": [
    "B_et_list = [B_test_auroc_et, B_test_auroc_et_tuned, B_test_auroc_et_cc]\n",
    "B_xgbc_list = [B_test_auroc_xgbc, B_test_auroc_xgbc_tuned, B_test_auroc_xgbc_cc]\n",
    "B_lr_list = [B_test_auroc_lr, B_test_auroc_lr_tuned, B_test_auroc_lr_cc]\n",
    "x = \"Based\",\"Tuned\",\"Calibrated\"\n",
    "\n",
    "plt.plot(x, B_et_list, label = \"ET\")\n",
    "plt.plot(x, B_xgbc_list, label = \"XGBC\")\n",
    "plt.plot(x, B_lr_list, label = \"LR\")\n",
    "plt.legend()\n",
    "for i in range(len(x)):\n",
    "    plt.annotate(round(B_et_list[i],3), (x[i], B_et_list[i]))\n",
    "    plt.annotate(round(B_xgbc_list[i],3), (x[i], B_xgbc_list[i]))\n",
    "    plt.annotate(round(B_lr_list[i],3), (x[i], B_lr_list[i]))\n",
    "plt.title('TSR_ALL3_B_Overlap', fontsize=15)\n",
    "#plt.savefig('INFO/TSR_ALL3/TSR_ALL3_B_Overlap.png')\n",
    "plt.show()"
   ]
  },
  {
   "cell_type": "markdown",
   "id": "bcb7165a",
   "metadata": {},
   "source": [
    "# Machine Learning - TSR_ALL31"
   ]
  },
  {
   "cell_type": "markdown",
   "id": "9b190612",
   "metadata": {},
   "source": [
    "## Preprocess input data (GOOD when Discharge)"
   ]
  },
  {
   "cell_type": "code",
   "execution_count": 59,
   "id": "5f1353c9",
   "metadata": {},
   "outputs": [],
   "source": [
    "## discharged mRS = GOOD (tsr_all3_df.discharged_mrs == 1)\n",
    "mrs_dis1 = tsr_all3_df[(tsr_all3_df.discharged_mrs == 1) | (tsr_all3_df.discharged_mrs == 0) | (tsr_all3_df.discharged_mrs == 2)]"
   ]
  },
  {
   "cell_type": "code",
   "execution_count": 60,
   "id": "a7e9c7e4",
   "metadata": {},
   "outputs": [
    {
     "name": "stdout",
     "output_type": "stream",
     "text": [
      "(18940, 231)\n"
     ]
    }
   ],
   "source": [
    "## input dataset\n",
    "tsr_3G_input = mrs_dis1.drop([\"icase_id\", \"idcase_id\", \"mrs_tx_3\"], axis=1)\n",
    "print(tsr_3G_input.shape)\n",
    "tsr_3G_input = tsr_3G_input.astype(\"float64\")\n",
    "tsr_3G_input = np.array(tsr_3G_input.values)"
   ]
  },
  {
   "cell_type": "code",
   "execution_count": 61,
   "id": "581f7f2c",
   "metadata": {},
   "outputs": [
    {
     "name": "stdout",
     "output_type": "stream",
     "text": [
      "(18940,)\n"
     ]
    }
   ],
   "source": [
    "## output dataset\n",
    "tsr_3G_output = mrs_dis1.mrs_tx_3\n",
    "print(tsr_3G_output.shape)\n",
    "tsr_3G_output = tsr_3G_output.astype(\"float64\")\n",
    "tsr_3G_output = np.array(tsr_3G_output.values)"
   ]
  },
  {
   "cell_type": "code",
   "execution_count": 62,
   "id": "539d7b51",
   "metadata": {},
   "outputs": [
    {
     "name": "stdout",
     "output_type": "stream",
     "text": [
      "The shape of GOOD's X_train: (13258, 231)\n",
      "The shape of GOOD's y_train: (13258,)\n",
      "The shape of GOOD's X_test: (5682, 231)\n",
      "The shape of GOOD's y_test: (5682,)\n"
     ]
    }
   ],
   "source": [
    "## train_test_split\n",
    "G_X_train, G_X_test, G_y_train, G_y_test = train_test_split(tsr_3G_input, tsr_3G_output, test_size=0.3, random_state=19)\n",
    "print(\"The shape of GOOD's X_train:\", G_X_train.shape)\n",
    "print(\"The shape of GOOD's y_train:\", G_y_train.shape)\n",
    "print(\"The shape of GOOD's X_test:\", G_X_test.shape)\n",
    "print(\"The shape of GOOD's y_test:\", G_y_test.shape)"
   ]
  },
  {
   "cell_type": "code",
   "execution_count": 63,
   "id": "e9d860aa",
   "metadata": {},
   "outputs": [],
   "source": [
    "## scale G_X_train\n",
    "from sklearn.preprocessing import MinMaxScaler\n",
    "from sklearn.preprocessing import OrdinalEncoder\n",
    "from sklearn.preprocessing import OneHotEncoder\n",
    "G_X_train = pd.DataFrame(G_X_train)\n",
    "G_X_train.columns = tsr_all3_df.drop([\"icase_id\", \"idcase_id\", \"mrs_tx_3\"], axis=1).columns\n",
    "\n",
    "scaler = MinMaxScaler()\n",
    "G_X_train[continuous] = scaler.fit_transform(G_X_train[continuous])\n",
    "\n",
    "encoder = OrdinalEncoder(handle_unknown=\"use_encoded_value\", unknown_value=6)\n",
    "G_X_train[ordinal_features] = encoder.fit_transform(G_X_train[ordinal_features])\n",
    "\n",
    "ohe = OneHotEncoder(sparse=False, handle_unknown = \"ignore\")\n",
    "nominal_train = ohe.fit_transform(G_X_train[nominal_features])\n",
    "G_X_train = pd.concat([G_X_train, pd.DataFrame(nominal_train)], axis=1)\n",
    "G_X_train = G_X_train.drop(nominal_features, axis=1)\n",
    "\n",
    "G_x_train_columns = list(G_X_train.columns)\n",
    "G_x_train_columns = G_x_train_columns[0:201]\n",
    "get_feature_name = list(ohe.get_feature_names(nominal_features))\n",
    "G_x_train_columns = G_x_train_columns+get_feature_name\n",
    "\n",
    "G_X_train.columns = G_x_train_columns\n",
    "G_X_train_overlap = G_X_train[T_I[\"G31\"][0:6]]\n",
    "\n",
    "G_X_train_overlap = np.array(G_X_train_overlap.values)"
   ]
  },
  {
   "cell_type": "code",
   "execution_count": 64,
   "id": "561f24dc",
   "metadata": {},
   "outputs": [],
   "source": [
    "## scale G_X_test\n",
    "G_X_test = pd.DataFrame(G_X_test)\n",
    "G_X_test.columns = tsr_all3_df.drop([\"icase_id\", \"idcase_id\", \"mrs_tx_3\"], axis=1).columns\n",
    "\n",
    "G_X_test[continuous] = scaler.transform(G_X_test[continuous])\n",
    "\n",
    "G_X_test[ordinal_features] = encoder.transform(G_X_test[ordinal_features])\n",
    "\n",
    "nominal_test = ohe.transform(G_X_test[nominal_features])\n",
    "G_X_test = pd.concat([G_X_test, pd.DataFrame(nominal_test)], axis=1)\n",
    "G_X_test = G_X_test.drop(nominal_features, axis=1)\n",
    "\n",
    "G_X_test.columns = G_x_train_columns\n",
    "G_X_test_overlap = G_X_test[T_I[\"G31\"][0:6]]\n",
    "                            \n",
    "G_X_test_overlap = np.array(G_X_test_overlap.values)"
   ]
  },
  {
   "cell_type": "markdown",
   "id": "433884ec",
   "metadata": {},
   "source": [
    "## Extra trees"
   ]
  },
  {
   "cell_type": "code",
   "execution_count": 65,
   "id": "3fa4cc6c",
   "metadata": {},
   "outputs": [],
   "source": [
    "# base et\n",
    "et = ExtraTreesClassifier(random_state=19)\n",
    "\n",
    "#tune et\n",
    "hyperparameters_et = {\"extratreesclassifier__n_estimators\": (25, 100),\n",
    "                      \"extratreesclassifier__criterion\": (\"gini\", \"entropy\"),\n",
    "                      \"extratreesclassifier__max_depth\": (25, 100),\n",
    "                      \"extratreesclassifier__min_samples_split\": (25, 100),\n",
    "                      \"extratreesclassifier__max_features\": (0.1, 0.9),\n",
    "                      \"extratreesclassifier__bootstrap\": (True, False),\n",
    "                      \"extratreesclassifier__class_weight\": ('balanced', {0: 1, 1: 24}, {0: 24, 1: 1}),\n",
    "                      \"extratreesclassifier__max_samples\": (0.3, 0.8)}\n",
    "\n",
    "pipeline = make_pipeline(TomekLinks(), ExtraTreesClassifier(random_state=19))\n",
    "\n",
    "etG_rscv = RandomizedSearchCV(estimator=pipeline,\n",
    "                              param_distributions=hyperparameters_et,\n",
    "                              n_jobs=-1,\n",
    "                              scoring='roc_auc',\n",
    "                              verbose=5,                        \n",
    "                              cv=5,\n",
    "                              n_iter = 50,\n",
    "                              random_state = 19)"
   ]
  },
  {
   "cell_type": "code",
   "execution_count": 66,
   "id": "b1ae0684",
   "metadata": {},
   "outputs": [
    {
     "name": "stdout",
     "output_type": "stream",
     "text": [
      "AUC of training set: 0.9725248618792706\n",
      "AUC of testing set: 0.7368368461217383\n",
      "Fitting 5 folds for each of 50 candidates, totalling 250 fits\n",
      "--> Tuned Parameters Best Score:  0.836928924181603\n",
      "--> Best Parameters: \n",
      " {'extratreesclassifier__n_estimators': 100, 'extratreesclassifier__min_samples_split': 100, 'extratreesclassifier__max_samples': 0.3, 'extratreesclassifier__max_features': 0.9, 'extratreesclassifier__max_depth': 25, 'extratreesclassifier__criterion': 'gini', 'extratreesclassifier__class_weight': {0: 1, 1: 24}, 'extratreesclassifier__bootstrap': True}\n",
      "AUC of training set: 0.8755332354646771\n",
      "AUC of testing set: 0.8401689005443099\n",
      "AUC of training set: 0.86915290638391\n",
      "AUC of testing set: 0.8443340739772579\n"
     ]
    }
   ],
   "source": [
    "#based\n",
    "et.fit(G_X_train_overlap, G_y_train)\n",
    "\n",
    "G_y_train_pred = et.predict_proba(G_X_train_overlap)\n",
    "fpr, tpr, thresholds = roc_curve(G_y_train, G_y_train_pred[:, 1])\n",
    "G_train_auroc_et = auc(fpr, tpr)\n",
    "print('AUC of training set:', G_train_auroc_et)\n",
    "\n",
    "G_y_test_pred = et.predict_proba(G_X_test_overlap)\n",
    "fpr, tpr, thresholds = roc_curve(G_y_test, G_y_test_pred[:, 1])\n",
    "G_test_auroc_et = auc(fpr, tpr)\n",
    "print('AUC of testing set:', G_test_auroc_et)\n",
    "\n",
    "#tuned\n",
    "etG_rsCV = etG_rscv.fit(G_X_train_overlap, G_y_train)\n",
    "print('--> Tuned Parameters Best Score: ', etG_rsCV.best_score_)\n",
    "print('--> Best Parameters: \\n', etG_rsCV.best_params_)\n",
    "\n",
    "G_y_train_pred = etG_rsCV.predict_proba(G_X_train_overlap)\n",
    "fpr, tpr, thresholds = roc_curve(G_y_train, G_y_train_pred[:, 1])\n",
    "G_train_auroc_et_tuned = auc(fpr, tpr)\n",
    "print('AUC of training set:', G_train_auroc_et_tuned)\n",
    "\n",
    "G_y_test_pred = etG_rsCV.predict_proba(G_X_test_overlap)\n",
    "fpr, tpr, thresholds = roc_curve(G_y_test, G_y_test_pred[:, 1])\n",
    "G_test_auroc_et_tuned = auc(fpr, tpr)\n",
    "print('AUC of testing set:', G_test_auroc_et_tuned)\n",
    "\n",
    "#calibrated\n",
    "etG_cccv = CalibratedClassifierCV(base_estimator=etG_rsCV.best_estimator_, cv=5)\n",
    "etG_ccCV = etG_cccv.fit(G_X_train_overlap, G_y_train)\n",
    "\n",
    "G_y_train_pred = etG_ccCV.predict_proba(G_X_train_overlap)\n",
    "fpr, tpr, thresholds = roc_curve(G_y_train, G_y_train_pred[:, 1])\n",
    "G_train_auroc_et_cc = auc(fpr, tpr)\n",
    "print('AUC of training set:', G_train_auroc_et_cc)\n",
    "\n",
    "G_y_test_pred = etG_ccCV.predict_proba(G_X_test_overlap)\n",
    "fpr, tpr, thresholds = roc_curve(G_y_test, G_y_test_pred[:, 1])\n",
    "G_test_auroc_et_cc = auc(fpr, tpr)\n",
    "print('AUC of testing set:', G_test_auroc_et_cc)"
   ]
  },
  {
   "cell_type": "markdown",
   "id": "4e3e4d97",
   "metadata": {},
   "source": [
    "## XGBClassifier"
   ]
  },
  {
   "cell_type": "code",
   "execution_count": 67,
   "id": "ae9398e2",
   "metadata": {},
   "outputs": [],
   "source": [
    "# base xgbc\n",
    "xgbc = XGBClassifier(random_state=19, use_label_encoder=False, eval_metric = \"auc\", tree_method = \"hist\", n_jobs=-1)\n",
    "\n",
    "# tune xgbc\n",
    "hyperparameters_xgbc = {\"xgbclassifier__booster\": (\"gbtree\", \"dart\"),\n",
    "                        \"xgbclassifier__learning_rate\": (0.01, 0.1),\n",
    "                        \"xgbclassifier__max_depth\": (25, 50),\n",
    "                        \"xgbclassifier__subsample\": (0.3, 0.8),\n",
    "                        \"xgbclassifier__colsample_bytree\": (0.3, 0.8),\n",
    "                        \"xgbclassifier__reg_lambda\": (0.1, 10),\n",
    "                        \"xgbclassifier__reg_alpha\": (0.1, 10),\n",
    "                        \"xgbclassifier__gamma\": (0.1, 10),\n",
    "                        \"xgbclassifier__n_estimators\": (25, 100),\n",
    "                        \"xgbclassifier__scale_pos_weight\": (0.04, 24)}\n",
    "\n",
    "pipeline = make_pipeline(TomekLinks(), XGBClassifier(random_state=19, use_label_encoder=False, eval_metric=\"auc\", tree_method = \"hist\"))\n",
    "\n",
    "xgbcG_rscv = RandomizedSearchCV(estimator=pipeline,                       \n",
    "                                param_distributions=hyperparameters_xgbc,                      \n",
    "                                n_jobs=-1,                      \n",
    "                                scoring=\"roc_auc\",                     \n",
    "                                verbose=5,                      \n",
    "                                cv=5,                        \n",
    "                                n_iter=50,\n",
    "                                random_state = 19)"
   ]
  },
  {
   "cell_type": "code",
   "execution_count": 68,
   "id": "fdcc7593",
   "metadata": {},
   "outputs": [
    {
     "name": "stdout",
     "output_type": "stream",
     "text": [
      "AUC of training sxgbc: 0.9294824073913771\n",
      "AUC of testing sxgbc: 0.7966481294876064\n",
      "Fitting 5 folds for each of 50 candidates, totalling 250 fits\n",
      "--> Tuned Paramxgbcers Best Score:  0.8313859887598257\n",
      "--> Best Paramxgbcers: \n",
      " {'xgbclassifier__subsample': 0.8, 'xgbclassifier__scale_pos_weight': 0.04, 'xgbclassifier__reg_lambda': 10, 'xgbclassifier__reg_alpha': 0.1, 'xgbclassifier__n_estimators': 100, 'xgbclassifier__max_depth': 50, 'xgbclassifier__learning_rate': 0.1, 'xgbclassifier__gamma': 0.1, 'xgbclassifier__colsample_bytree': 0.3, 'xgbclassifier__booster': 'dart'}\n",
      "AUC of training sxgbc: 0.8401987145083698\n",
      "AUC of testing sxgbc: 0.8437577208966991\n",
      "AUC of training sxgbc: 0.8401049002839138\n",
      "AUC of testing sxgbc: 0.8441443454576883\n"
     ]
    }
   ],
   "source": [
    "#based\n",
    "xgbc.fit(G_X_train_overlap, G_y_train)\n",
    "\n",
    "G_y_train_pred = xgbc.predict_proba(G_X_train_overlap)\n",
    "fpr, tpr, thresholds = roc_curve(G_y_train, G_y_train_pred[:, 1])\n",
    "G_train_auroc_xgbc = auc(fpr, tpr)\n",
    "print('AUC of training sxgbc:', G_train_auroc_xgbc)\n",
    "\n",
    "G_y_test_pred = xgbc.predict_proba(G_X_test_overlap)\n",
    "fpr, tpr, thresholds = roc_curve(G_y_test, G_y_test_pred[:, 1])\n",
    "G_test_auroc_xgbc = auc(fpr, tpr)\n",
    "print('AUC of testing sxgbc:', G_test_auroc_xgbc)\n",
    "\n",
    "#tuned\n",
    "xgbcG_rsCV = xgbcG_rscv.fit(G_X_train_overlap, G_y_train)\n",
    "print('--> Tuned Paramxgbcers Best Score: ', xgbcG_rsCV.best_score_)\n",
    "print('--> Best Paramxgbcers: \\n', xgbcG_rsCV.best_params_)\n",
    "\n",
    "G_y_train_pred = xgbcG_rsCV.predict_proba(G_X_train_overlap)\n",
    "fpr, tpr, thresholds = roc_curve(G_y_train, G_y_train_pred[:, 1])\n",
    "G_train_auroc_xgbc_tuned = auc(fpr, tpr)\n",
    "print('AUC of training sxgbc:', G_train_auroc_xgbc_tuned)\n",
    "\n",
    "G_y_test_pred = xgbcG_rsCV.predict_proba(G_X_test_overlap)\n",
    "fpr, tpr, thresholds = roc_curve(G_y_test, G_y_test_pred[:, 1])\n",
    "G_test_auroc_xgbc_tuned = auc(fpr, tpr)\n",
    "print('AUC of testing sxgbc:', G_test_auroc_xgbc_tuned)\n",
    "\n",
    "#calibrated\n",
    "xgbcG_cccv = CalibratedClassifierCV(base_estimator=xgbcG_rsCV.best_estimator_, cv=5)\n",
    "xgbcG_ccCV = xgbcG_cccv.fit(G_X_train_overlap, G_y_train)\n",
    "\n",
    "G_y_train_pred = xgbcG_ccCV.predict_proba(G_X_train_overlap)\n",
    "fpr, tpr, thresholds = roc_curve(G_y_train, G_y_train_pred[:, 1])\n",
    "G_train_auroc_xgbc_cc = auc(fpr, tpr)\n",
    "print('AUC of training sxgbc:', G_train_auroc_xgbc_cc)\n",
    "\n",
    "G_y_test_pred = xgbcG_ccCV.predict_proba(G_X_test_overlap)\n",
    "fpr, tpr, thresholds = roc_curve(G_y_test, G_y_test_pred[:, 1])\n",
    "G_test_auroc_xgbc_cc = auc(fpr, tpr)\n",
    "print('AUC of testing sxgbc:', G_test_auroc_xgbc_cc)"
   ]
  },
  {
   "cell_type": "markdown",
   "id": "33038362",
   "metadata": {},
   "source": [
    "## LogisticRegression"
   ]
  },
  {
   "cell_type": "code",
   "execution_count": 69,
   "id": "1f638acb",
   "metadata": {},
   "outputs": [],
   "source": [
    "# base lr\n",
    "lr = LogisticRegression(random_state=19)\n",
    "\n",
    "#tune lr\n",
    "hyperparameters_lr = {\"logisticregression__penalty\": (\"l1\", \"l2\", \"elasticnet\", \"none\"),\n",
    "                      \"logisticregression__tol\": (1e-4, 1e-3, 1e-2, 1e-1),\n",
    "                      \"logisticregression__C\": (0.1, 1, 10),\n",
    "                      \"logisticregression__solver\": (\"newton-cg\", \"lbfgs\", \"liblinear\", \"sag\", \"saga\"),\n",
    "                      \"logisticregression__multi_class\": (\"auto\", \"ovr\", \"multinomial\"),\n",
    "                      \"logisticregression__warm_start\": (True, False),\n",
    "                      \"logisticregression__class_weight\": ('balanced', {0: 1, 1: 24}, {0: 24, 1: 1})}\n",
    "\n",
    "pipeline = make_pipeline(TomekLinks(), LogisticRegression(random_state=19))\n",
    "\n",
    "lrG_rscv = RandomizedSearchCV(estimator=pipeline,\n",
    "                              param_distributions=hyperparameters_lr,\n",
    "                              n_jobs=-1,\n",
    "                              scoring='roc_auc',\n",
    "                              verbose=5,                        \n",
    "                              cv=5,\n",
    "                              n_iter = 50,\n",
    "                              random_state = 19)"
   ]
  },
  {
   "cell_type": "code",
   "execution_count": 70,
   "id": "21c5ff18",
   "metadata": {},
   "outputs": [
    {
     "name": "stdout",
     "output_type": "stream",
     "text": [
      "AUC of training set: 0.8255521536801292\n",
      "AUC of testing set: 0.8318305429186992\n",
      "Fitting 5 folds for each of 50 candidates, totalling 250 fits\n",
      "--> Tuned Parameters Best Score:  0.8285247756378329\n",
      "--> Best Parameters: \n",
      " {'logisticregression__warm_start': False, 'logisticregression__tol': 0.0001, 'logisticregression__solver': 'newton-cg', 'logisticregression__penalty': 'l2', 'logisticregression__multi_class': 'ovr', 'logisticregression__class_weight': 'balanced', 'logisticregression__C': 10}\n",
      "AUC of training set: 0.8302308791739376\n",
      "AUC of testing set: 0.8361150345095096\n",
      "AUC of training set: 0.8301212319494552\n",
      "AUC of testing set: 0.8359784299754197\n"
     ]
    }
   ],
   "source": [
    "lr.fit(G_X_train_overlap, G_y_train)\n",
    "\n",
    "G_y_train_pred = lr.predict_proba(G_X_train_overlap)\n",
    "fpr, tpr, thresholds = roc_curve(G_y_train, G_y_train_pred[:, 1])\n",
    "G_train_auroc_lr = auc(fpr, tpr)\n",
    "print('AUC of training set:', G_train_auroc_lr)\n",
    "\n",
    "G_y_test_pred = lr.predict_proba(G_X_test_overlap)\n",
    "fpr, tpr, thresholds = roc_curve(G_y_test, G_y_test_pred[:, 1])\n",
    "G_test_auroc_lr = auc(fpr, tpr)\n",
    "print('AUC of testing set:', G_test_auroc_lr)\n",
    "\n",
    "#tuned\n",
    "lrG_rsCV = lrG_rscv.fit(G_X_train_overlap, G_y_train)\n",
    "print('--> Tuned Parameters Best Score: ', lrG_rsCV.best_score_)\n",
    "print('--> Best Parameters: \\n', lrG_rsCV.best_params_)\n",
    "\n",
    "G_y_train_pred = lrG_rsCV.predict_proba(G_X_train_overlap)\n",
    "fpr, tpr, thresholds = roc_curve(G_y_train, G_y_train_pred[:, 1])\n",
    "G_train_auroc_lr_tuned = auc(fpr, tpr)\n",
    "print('AUC of training set:', G_train_auroc_lr_tuned)\n",
    "\n",
    "G_y_test_pred = lrG_rsCV.predict_proba(G_X_test_overlap)\n",
    "fpr, tpr, thresholds = roc_curve(G_y_test, G_y_test_pred[:, 1])\n",
    "G_test_auroc_lr_tuned = auc(fpr, tpr)\n",
    "print('AUC of testing set:', G_test_auroc_lr_tuned)\n",
    "\n",
    "#calibrated\n",
    "lrG_cccv = CalibratedClassifierCV(base_estimator=lrG_rsCV.best_estimator_, cv=5)\n",
    "lrG_ccCV = lrG_cccv.fit(G_X_train_overlap, G_y_train)\n",
    "\n",
    "G_y_train_pred = lrG_ccCV.predict_proba(G_X_train_overlap)\n",
    "fpr, tpr, thresholds = roc_curve(G_y_train, G_y_train_pred[:, 1])\n",
    "G_train_auroc_lr_cc = auc(fpr, tpr)\n",
    "print('AUC of training set:', G_train_auroc_lr_cc)\n",
    "\n",
    "G_y_test_pred = lrG_ccCV.predict_proba(G_X_test_overlap)\n",
    "fpr, tpr, thresholds = roc_curve(G_y_test, G_y_test_pred[:, 1])\n",
    "G_test_auroc_lr_cc = auc(fpr, tpr)\n",
    "print('AUC of testing set:', G_test_auroc_lr_cc)"
   ]
  },
  {
   "cell_type": "code",
   "execution_count": 71,
   "id": "440a753a",
   "metadata": {},
   "outputs": [
    {
     "data": {
      "image/png": "[encoded data removed]",
      "text/plain": [
       "<Figure size 432x288 with 1 Axes>"
      ]
     },
     "metadata": {
      "needs_background": "light"
     },
     "output_type": "display_data"
    }
   ],
   "source": [
    "G_et_list = [G_test_auroc_et, G_test_auroc_et_tuned, G_test_auroc_et_cc]\n",
    "G_xgbc_list = [G_test_auroc_xgbc, G_test_auroc_xgbc_tuned, G_test_auroc_xgbc_cc]\n",
    "G_lr_list = [G_test_auroc_lr, G_test_auroc_lr_tuned, G_test_auroc_lr_cc]\n",
    "x = \"Based\",\"Tuned\",\"Calibrated\"\n",
    "\n",
    "plt.plot(x, G_et_list, label = \"ET\")\n",
    "plt.plot(x, G_xgbc_list, label = \"XGBC\")\n",
    "plt.plot(x, G_lr_list, label = \"LR\")\n",
    "plt.legend()\n",
    "for i in range(len(x)):\n",
    "    plt.annotate(round(G_et_list[i],3), (x[i], G_et_list[i]))\n",
    "    plt.annotate(round(G_xgbc_list[i],3), (x[i], G_xgbc_list[i]))\n",
    "    plt.annotate(round(G_lr_list[i],3), (x[i], G_lr_list[i]))\n",
    "plt.title('TSR_ALL31_G_Overlap', fontsize=15)\n",
    "#plt.savefig('INFO/TSR_ALL3/TSR_ALL31_G_Overlap.png')\n",
    "plt.show()"
   ]
  },
  {
   "cell_type": "markdown",
   "id": "9a5cb6da",
   "metadata": {},
   "source": [
    "# Machine Learning - TSR_ALL31"
   ]
  },
  {
   "cell_type": "markdown",
   "id": "56e28afc",
   "metadata": {},
   "source": [
    "## Preprocess input data (BAD when Discharge)"
   ]
  },
  {
   "cell_type": "code",
   "execution_count": 72,
   "id": "96c3caf6",
   "metadata": {},
   "outputs": [],
   "source": [
    "# discharged mRS = BAD (tsr_all3_df.discharged_mrs == 0)\n",
    "mrs_dis0 = tsr_all3_df[(tsr_all3_df.discharged_mrs != 1) & (tsr_all3_df.discharged_mrs != 0) & (tsr_all3_df.discharged_mrs != 2)]"
   ]
  },
  {
   "cell_type": "code",
   "execution_count": 73,
   "id": "45a05312",
   "metadata": {},
   "outputs": [
    {
     "name": "stdout",
     "output_type": "stream",
     "text": [
      "(20941, 231)\n"
     ]
    }
   ],
   "source": [
    "## input dataset\n",
    "tsr_3B_input = mrs_dis0.drop([\"icase_id\", \"idcase_id\", \"mrs_tx_3\"], axis=1)\n",
    "print(tsr_3B_input.shape)\n",
    "tsr_3B_input = tsr_3B_input.astype(\"float64\")\n",
    "tsr_3B_input = np.array(tsr_3B_input.values)"
   ]
  },
  {
   "cell_type": "code",
   "execution_count": 74,
   "id": "b502846c",
   "metadata": {},
   "outputs": [
    {
     "name": "stdout",
     "output_type": "stream",
     "text": [
      "(20941,)\n"
     ]
    }
   ],
   "source": [
    "## output dataset\n",
    "tsr_3B_output = mrs_dis0.mrs_tx_3\n",
    "print(tsr_3B_output.shape)\n",
    "tsr_3B_output = tsr_3B_output.astype(\"float64\")\n",
    "tsr_3B_output = np.array(tsr_3B_output.values)"
   ]
  },
  {
   "cell_type": "code",
   "execution_count": 75,
   "id": "1ca9825e",
   "metadata": {},
   "outputs": [
    {
     "name": "stdout",
     "output_type": "stream",
     "text": [
      "The shape of X_train: (14658, 231)\n",
      "The shape of y_train: (14658,)\n",
      "The shape of X_test: (6283, 231)\n",
      "The shape of y_test: (6283,)\n"
     ]
    }
   ],
   "source": [
    "## train_test_split\n",
    "B_X_train, B_X_test, B_y_train, B_y_test = train_test_split(tsr_3B_input, tsr_3B_output, test_size=0.3, random_state=19)\n",
    "print(\"The shape of X_train:\", B_X_train.shape)\n",
    "print(\"The shape of y_train:\", B_y_train.shape)\n",
    "print(\"The shape of X_test:\", B_X_test.shape)\n",
    "print(\"The shape of y_test:\", B_y_test.shape)"
   ]
  },
  {
   "cell_type": "code",
   "execution_count": 76,
   "id": "c6150b21",
   "metadata": {},
   "outputs": [],
   "source": [
    "## scale B_X_train\n",
    "from sklearn.preprocessing import MinMaxScaler\n",
    "from sklearn.preprocessing import OrdinalEncoder\n",
    "from sklearn.preprocessing import OneHotEncoder\n",
    "\n",
    "B_X_train = pd.DataFrame(B_X_train)\n",
    "B_X_train.columns = tsr_all3_df.drop([\"icase_id\", \"idcase_id\", \"mrs_tx_3\"], axis=1).columns\n",
    "\n",
    "scaler = MinMaxScaler()\n",
    "B_X_train[continuous] = scaler.fit_transform(B_X_train[continuous])\n",
    "\n",
    "encoder = OrdinalEncoder(handle_unknown=\"use_encoded_value\", unknown_value=9)\n",
    "B_X_train[ordinal_features] = encoder.fit_transform(B_X_train[ordinal_features])\n",
    "\n",
    "ohe = OneHotEncoder(sparse=False)\n",
    "nominal_train = ohe.fit_transform(B_X_train[nominal_features])\n",
    "B_X_train = pd.concat([B_X_train, pd.DataFrame(nominal_train)], axis=1)\n",
    "B_X_train = B_X_train.drop(nominal_features, axis=1)\n",
    "\n",
    "B_x_train_columns = list(B_X_train.columns)\n",
    "B_x_train_columns = B_x_train_columns[0:201]\n",
    "get_feature_name = list(ohe.get_feature_names(nominal_features))\n",
    "B_x_train_columns = B_x_train_columns+get_feature_name\n",
    "\n",
    "B_X_train.columns = B_x_train_columns\n",
    "B_X_train_overlap = B_X_train[T_I[\"B31\"][0:16]]\n",
    "\n",
    "B_X_train_overlap = np.array(B_X_train_overlap.values)"
   ]
  },
  {
   "cell_type": "code",
   "execution_count": 77,
   "id": "b51b7ecd",
   "metadata": {},
   "outputs": [],
   "source": [
    "## scale B_X_test\n",
    "B_X_test = pd.DataFrame(B_X_test)\n",
    "B_X_test.columns = tsr_all3_df.drop([\"icase_id\", \"idcase_id\", \"mrs_tx_3\"], axis=1).columns\n",
    "\n",
    "B_X_test[continuous] = scaler.transform(B_X_test[continuous])\n",
    "\n",
    "B_X_test[ordinal_features] = encoder.transform(B_X_test[ordinal_features])\n",
    "\n",
    "nominal_test = ohe.transform(B_X_test[nominal_features])\n",
    "B_X_test = pd.concat([B_X_test, pd.DataFrame(nominal_test)], axis=1)\n",
    "B_X_test = B_X_test.drop(nominal_features, axis=1)\n",
    "\n",
    "B_X_test.columns = B_x_train_columns\n",
    "B_X_test_overlap = B_X_test[T_I[\"B31\"][0:16]]\n",
    "\n",
    "B_X_test_overlap = np.array(B_X_test_overlap.values)"
   ]
  },
  {
   "cell_type": "markdown",
   "id": "6cad0fc6",
   "metadata": {},
   "source": [
    "## Algorithms"
   ]
  },
  {
   "cell_type": "markdown",
   "id": "0055783f",
   "metadata": {},
   "source": [
    "## Extra trees"
   ]
  },
  {
   "cell_type": "code",
   "execution_count": 78,
   "id": "d78505af",
   "metadata": {},
   "outputs": [],
   "source": [
    "# base et\n",
    "et = ExtraTreesClassifier(random_state=19)\n",
    "\n",
    "#tune et\n",
    "hyperparameters_et = {\"extratreesclassifier__n_estimators\": (25, 100),\n",
    "                      \"extratreesclassifier__criterion\": (\"gini\", \"entropy\"),\n",
    "                      \"extratreesclassifier__max_depth\": (25, 100),\n",
    "                      \"extratreesclassifier__min_samples_split\": (25, 100),\n",
    "                      \"extratreesclassifier__max_features\": (0.1, 0.9),\n",
    "                      \"extratreesclassifier__bootstrap\": (True, False),\n",
    "                      \"extratreesclassifier__class_weight\": ('balanced', {0: 1, 1: 3}, {0: 3, 1: 1}),\n",
    "                      \"extratreesclassifier__max_samples\": (0.3, 0.8)}\n",
    "\n",
    "pipeline = make_pipeline(TomekLinks(), ExtraTreesClassifier(random_state=19))\n",
    "\n",
    "etB_rscv = RandomizedSearchCV(estimator=pipeline,\n",
    "                              param_distributions=hyperparameters_et,\n",
    "                              n_jobs=-1,\n",
    "                              scoring='roc_auc',\n",
    "                              verbose=5,                        \n",
    "                              cv=5,\n",
    "                              n_iter = 50,\n",
    "                              random_state = 19)"
   ]
  },
  {
   "cell_type": "code",
   "execution_count": 79,
   "id": "8cbce05b",
   "metadata": {},
   "outputs": [
    {
     "name": "stdout",
     "output_type": "stream",
     "text": [
      "AUC of training set: 0.9937180276095089\n",
      "AUC of testing set: 0.8649365572593792\n",
      "Fitting 5 folds for each of 50 candidates, totalling 250 fits\n",
      "--> Tuned Parameters Best Score:  0.9275179208829185\n",
      "--> Best Parameters: \n",
      " {'extratreesclassifier__n_estimators': 100, 'extratreesclassifier__min_samples_split': 100, 'extratreesclassifier__max_samples': 0.3, 'extratreesclassifier__max_features': 0.9, 'extratreesclassifier__max_depth': 25, 'extratreesclassifier__criterion': 'gini', 'extratreesclassifier__class_weight': {0: 1, 1: 3}, 'extratreesclassifier__bootstrap': True}\n",
      "AUC of training set: 0.9355449491997819\n",
      "AUC of testing set: 0.9216527841073334\n",
      "AUC of training set: 0.9345440194686927\n",
      "AUC of testing set: 0.9217842441092989\n"
     ]
    }
   ],
   "source": [
    "#based\n",
    "et.fit(B_X_train_overlap, B_y_train)\n",
    "\n",
    "B_y_train_pred = et.predict_proba(B_X_train_overlap)\n",
    "fpr, tpr, thresholds = roc_curve(B_y_train, B_y_train_pred[:, 1])\n",
    "B_train_auroc_et = auc(fpr, tpr)\n",
    "print('AUC of training set:', B_train_auroc_et)\n",
    "\n",
    "B_y_test_pred = et.predict_proba(B_X_test_overlap)\n",
    "fpr, tpr, thresholds = roc_curve(B_y_test, B_y_test_pred[:, 1])\n",
    "B_test_auroc_et = auc(fpr, tpr)\n",
    "print('AUC of testing set:', B_test_auroc_et)\n",
    "\n",
    "#tuned\n",
    "etB_rsCV = etB_rscv.fit(B_X_train_overlap, B_y_train)\n",
    "print('--> Tuned Parameters Best Score: ', etB_rsCV.best_score_)\n",
    "print('--> Best Parameters: \\n', etB_rsCV.best_params_)\n",
    "\n",
    "B_y_train_pred = etB_rsCV.predict_proba(B_X_train_overlap)\n",
    "fpr, tpr, thresholds = roc_curve(B_y_train, B_y_train_pred[:, 1])\n",
    "B_train_auroc_et_tuned = auc(fpr, tpr)\n",
    "print('AUC of training set:', B_train_auroc_et_tuned)\n",
    "\n",
    "B_y_test_pred = etB_rsCV.predict_proba(B_X_test_overlap)\n",
    "fpr, tpr, thresholds = roc_curve(B_y_test, B_y_test_pred[:, 1])\n",
    "B_test_auroc_et_tuned = auc(fpr, tpr)\n",
    "print('AUC of testing set:', B_test_auroc_et_tuned)\n",
    "\n",
    "#calibrated\n",
    "etB_cccv = CalibratedClassifierCV(base_estimator=etB_rsCV.best_estimator_, cv=5)\n",
    "etB_ccCV = etB_cccv.fit(B_X_train_overlap, B_y_train)\n",
    "\n",
    "B_y_train_pred = etB_ccCV.predict_proba(B_X_train_overlap)\n",
    "fpr, tpr, thresholds = roc_curve(B_y_train, B_y_train_pred[:, 1])\n",
    "B_train_auroc_et_cc = auc(fpr, tpr)\n",
    "print('AUC of training set:', B_train_auroc_et_cc)\n",
    "\n",
    "B_y_test_pred = etB_ccCV.predict_proba(B_X_test_overlap)\n",
    "fpr, tpr, thresholds = roc_curve(B_y_test, B_y_test_pred[:, 1])\n",
    "B_test_auroc_et_cc = auc(fpr, tpr)\n",
    "print('AUC of testing set:', B_test_auroc_et_cc)"
   ]
  },
  {
   "cell_type": "markdown",
   "id": "f329c8fc",
   "metadata": {},
   "source": [
    "## XGBClassifier"
   ]
  },
  {
   "cell_type": "code",
   "execution_count": 80,
   "id": "d8257f60",
   "metadata": {},
   "outputs": [],
   "source": [
    "# base xgbc\n",
    "xgbc = XGBClassifier(random_state=19, use_label_encoder=False, eval_metric = \"auc\", tree_method = \"hist\", n_jobs=-1)\n",
    "\n",
    "# tune xgbc\n",
    "hyperparameters_xgbc = {\"xgbclassifier__booster\": (\"gbtree\", \"dart\"),\n",
    "                        \"xgbclassifier__learning_rate\": (0.01, 0.1),\n",
    "                        \"xgbclassifier__max_depth\": (25, 50),\n",
    "                        \"xgbclassifier__subsample\": (0.3, 0.8),\n",
    "                        \"xgbclassifier__colsample_bytree\": (0.3, 0.8),\n",
    "                        \"xgbclassifier__reg_lambda\": (0.1, 10),\n",
    "                        \"xgbclassifier__reg_alpha\": (0.1, 10),\n",
    "                        \"xgbclassifier__gamma\": (0.1, 10),\n",
    "                        \"xgbclassifier__n_estimators\": (25, 100),\n",
    "                        \"xgbclassifier__scale_pos_weight\": (0.33, 3)}\n",
    "\n",
    "pipeline = make_pipeline(TomekLinks(), XGBClassifier(random_state=19, use_label_encoder=False, eval_metric=\"auc\", tree_method = \"hist\"))\n",
    "\n",
    "xgbcB_rscv = RandomizedSearchCV(estimator=pipeline,                       \n",
    "                                param_distributions=hyperparameters_xgbc,                      \n",
    "                                n_jobs=-1,                      \n",
    "                                scoring=\"roc_auc\",                     \n",
    "                                verbose=5,                      \n",
    "                                cv=5,                        \n",
    "                                n_iter=50,\n",
    "                                random_state = 19)"
   ]
  },
  {
   "cell_type": "code",
   "execution_count": 81,
   "id": "0e1e8385",
   "metadata": {},
   "outputs": [
    {
     "name": "stdout",
     "output_type": "stream",
     "text": [
      "AUC of training sxgbc: 0.9614174353440057\n",
      "AUC of testing sxgbc: 0.9182644205156911\n",
      "Fitting 5 folds for each of 50 candidates, totalling 250 fits\n",
      "--> Tuned Paramxgbcers Best Score:  0.9278987570301087\n",
      "--> Best Paramxgbcers: \n",
      " {'xgbclassifier__subsample': 0.8, 'xgbclassifier__scale_pos_weight': 0.33, 'xgbclassifier__reg_lambda': 10, 'xgbclassifier__reg_alpha': 0.1, 'xgbclassifier__n_estimators': 100, 'xgbclassifier__max_depth': 50, 'xgbclassifier__learning_rate': 0.1, 'xgbclassifier__gamma': 0.1, 'xgbclassifier__colsample_bytree': 0.3, 'xgbclassifier__booster': 'dart'}\n",
      "AUC of training sxgbc: 0.9326131009624057\n",
      "AUC of testing sxgbc: 0.9214227650219271\n",
      "AUC of training sxgbc: 0.932256231620546\n",
      "AUC of testing sxgbc: 0.9215921544670826\n"
     ]
    }
   ],
   "source": [
    "#based\n",
    "xgbc.fit(B_X_train_overlap, B_y_train)\n",
    "\n",
    "B_y_train_pred = xgbc.predict_proba(B_X_train_overlap)\n",
    "fpr, tpr, thresholds = roc_curve(B_y_train, B_y_train_pred[:, 1])\n",
    "B_train_auroc_xgbc = auc(fpr, tpr)\n",
    "print('AUC of training sxgbc:', B_train_auroc_xgbc)\n",
    "\n",
    "B_y_test_pred = xgbc.predict_proba(B_X_test_overlap)\n",
    "fpr, tpr, thresholds = roc_curve(B_y_test, B_y_test_pred[:, 1])\n",
    "B_test_auroc_xgbc = auc(fpr, tpr)\n",
    "print('AUC of testing sxgbc:', B_test_auroc_xgbc)\n",
    "\n",
    "#tuned\n",
    "xgbcB_rsCV = xgbcB_rscv.fit(B_X_train_overlap, B_y_train)\n",
    "print('--> Tuned Paramxgbcers Best Score: ', xgbcB_rsCV.best_score_)\n",
    "print('--> Best Paramxgbcers: \\n', xgbcB_rsCV.best_params_)\n",
    "\n",
    "B_y_train_pred = xgbcB_rsCV.predict_proba(B_X_train_overlap)\n",
    "fpr, tpr, thresholds = roc_curve(B_y_train, B_y_train_pred[:, 1])\n",
    "B_train_auroc_xgbc_tuned = auc(fpr, tpr)\n",
    "print('AUC of training sxgbc:', B_train_auroc_xgbc_tuned)\n",
    "\n",
    "B_y_test_pred = xgbcB_rsCV.predict_proba(B_X_test_overlap)\n",
    "fpr, tpr, thresholds = roc_curve(B_y_test, B_y_test_pred[:, 1])\n",
    "B_test_auroc_xgbc_tuned = auc(fpr, tpr)\n",
    "print('AUC of testing sxgbc:', B_test_auroc_xgbc_tuned)\n",
    "\n",
    "#calibrated\n",
    "xgbcB_cccv = CalibratedClassifierCV(base_estimator=xgbcB_rsCV.best_estimator_, cv=5)\n",
    "xgbcB_ccCV = xgbcB_cccv.fit(B_X_train_overlap, B_y_train)\n",
    "\n",
    "B_y_train_pred = xgbcB_ccCV.predict_proba(B_X_train_overlap)\n",
    "fpr, tpr, thresholds = roc_curve(B_y_train, B_y_train_pred[:, 1])\n",
    "B_train_auroc_xgbc_cc = auc(fpr, tpr)\n",
    "print('AUC of training sxgbc:', B_train_auroc_xgbc_cc)\n",
    "\n",
    "B_y_test_pred = xgbcB_ccCV.predict_proba(B_X_test_overlap)\n",
    "fpr, tpr, thresholds = roc_curve(B_y_test, B_y_test_pred[:, 1])\n",
    "B_test_auroc_xgbc_cc = auc(fpr, tpr)\n",
    "print('AUC of testing sxgbc:', B_test_auroc_xgbc_cc)"
   ]
  },
  {
   "cell_type": "markdown",
   "id": "c418263d",
   "metadata": {},
   "source": [
    "## LogisticRegression"
   ]
  },
  {
   "cell_type": "code",
   "execution_count": 82,
   "id": "70fa8975",
   "metadata": {},
   "outputs": [],
   "source": [
    "# base lr\n",
    "lr = LogisticRegression(random_state=19)\n",
    "\n",
    "#tune lr\n",
    "hyperparameters_lr = {\"logisticregression__penalty\": (\"l1\", \"l2\", \"elasticnet\", \"none\"),\n",
    "                      \"logisticregression__tol\": (1e-4, 1e-3, 1e-2, 1e-1),\n",
    "                      \"logisticregression__C\": (0.1, 1, 10),\n",
    "                      \"logisticregression__solver\": (\"newton-cg\", \"lbfgs\", \"liblinear\", \"sag\", \"saga\"),\n",
    "                      \"logisticregression__multi_class\": (\"auto\", \"ovr\", \"multinomial\"),\n",
    "                      \"logisticregression__warm_start\": (True, False),\n",
    "                      \"logisticregression__class_weight\": ('balanced', {0: 1, 1: 3}, {0: 3, 1: 1})}\n",
    "\n",
    "pipeline = make_pipeline(TomekLinks(), LogisticRegression(random_state=19))\n",
    "\n",
    "lrB_rscv = RandomizedSearchCV(estimator=pipeline,\n",
    "                              param_distributions=hyperparameters_lr,\n",
    "                              n_jobs=-1,\n",
    "                              scoring='roc_auc',\n",
    "                              verbose=5,                        \n",
    "                              cv=5,\n",
    "                              n_iter = 50,\n",
    "                              random_state = 19)"
   ]
  },
  {
   "cell_type": "code",
   "execution_count": 83,
   "id": "14666fec",
   "metadata": {},
   "outputs": [
    {
     "name": "stdout",
     "output_type": "stream",
     "text": [
      "AUC of training set: 0.9296183773409484\n",
      "AUC of testing set: 0.920804831176623\n",
      "Fitting 5 folds for each of 50 candidates, totalling 250 fits\n",
      "--> Tuned Parameters Best Score:  0.9289297341842714\n",
      "--> Best Parameters: \n",
      " {'logisticregression__warm_start': True, 'logisticregression__tol': 0.001, 'logisticregression__solver': 'liblinear', 'logisticregression__penalty': 'l1', 'logisticregression__multi_class': 'ovr', 'logisticregression__class_weight': {0: 1, 1: 3}, 'logisticregression__C': 0.1}\n",
      "AUC of training set: 0.929610260231938\n",
      "AUC of testing set: 0.9210184716388334\n",
      "AUC of training set: 0.9296287105495618\n",
      "AUC of testing set: 0.9210816873774835\n"
     ]
    }
   ],
   "source": [
    "lr.fit(B_X_train_overlap, B_y_train)\n",
    "\n",
    "B_y_train_pred = lr.predict_proba(B_X_train_overlap)\n",
    "fpr, tpr, thresholds = roc_curve(B_y_train, B_y_train_pred[:, 1])\n",
    "B_train_auroc_lr = auc(fpr, tpr)\n",
    "print('AUC of training set:', B_train_auroc_lr)\n",
    "\n",
    "B_y_test_pred = lr.predict_proba(B_X_test_overlap)\n",
    "fpr, tpr, thresholds = roc_curve(B_y_test, B_y_test_pred[:, 1])\n",
    "B_test_auroc_lr = auc(fpr, tpr)\n",
    "print('AUC of testing set:', B_test_auroc_lr)\n",
    "\n",
    "#tuned\n",
    "lrB_rsCV = lrB_rscv.fit(B_X_train_overlap, B_y_train)\n",
    "print('--> Tuned Parameters Best Score: ', lrB_rsCV.best_score_)\n",
    "print('--> Best Parameters: \\n', lrB_rsCV.best_params_)\n",
    "\n",
    "B_y_train_pred = lrB_rsCV.predict_proba(B_X_train_overlap)\n",
    "fpr, tpr, thresholds = roc_curve(B_y_train, B_y_train_pred[:, 1])\n",
    "B_train_auroc_lr_tuned = auc(fpr, tpr)\n",
    "print('AUC of training set:', B_train_auroc_lr_tuned)\n",
    "\n",
    "B_y_test_pred = lrB_rsCV.predict_proba(B_X_test_overlap)\n",
    "fpr, tpr, thresholds = roc_curve(B_y_test, B_y_test_pred[:, 1])\n",
    "B_test_auroc_lr_tuned = auc(fpr, tpr)\n",
    "print('AUC of testing set:', B_test_auroc_lr_tuned)\n",
    "\n",
    "#calibrated\n",
    "lrB_cccv = CalibratedClassifierCV(base_estimator=lrB_rsCV.best_estimator_, cv=5)\n",
    "lrB_ccCV = lrB_cccv.fit(B_X_train_overlap, B_y_train)\n",
    "\n",
    "B_y_train_pred = lrB_ccCV.predict_proba(B_X_train_overlap)\n",
    "fpr, tpr, thresholds = roc_curve(B_y_train, B_y_train_pred[:, 1])\n",
    "B_train_auroc_lr_cc = auc(fpr, tpr)\n",
    "print('AUC of training set:', B_train_auroc_lr_cc)\n",
    "\n",
    "B_y_test_pred = lrB_ccCV.predict_proba(B_X_test_overlap)\n",
    "fpr, tpr, thresholds = roc_curve(B_y_test, B_y_test_pred[:, 1])\n",
    "B_test_auroc_lr_cc = auc(fpr, tpr)\n",
    "print('AUC of testing set:', B_test_auroc_lr_cc)"
   ]
  },
  {
   "cell_type": "code",
   "execution_count": 84,
   "id": "09fb2664",
   "metadata": {},
   "outputs": [
    {
     "data": {
      "image/png": "[encoded data removed]",
      "text/plain": [
       "<Figure size 432x288 with 1 Axes>"
      ]
     },
     "metadata": {
      "needs_background": "light"
     },
     "output_type": "display_data"
    }
   ],
   "source": [
    "B_et_list = [B_test_auroc_et, B_test_auroc_et_tuned, B_test_auroc_et_cc]\n",
    "B_xgbc_list = [B_test_auroc_xgbc, B_test_auroc_xgbc_tuned, B_test_auroc_xgbc_cc]\n",
    "B_lr_list = [B_test_auroc_lr, B_test_auroc_lr_tuned, B_test_auroc_lr_cc]\n",
    "x = \"Based\",\"Tuned\",\"Calibrated\"\n",
    "\n",
    "plt.plot(x, B_et_list, label = \"ET\")\n",
    "plt.plot(x, B_xgbc_list, label = \"XGBC\")\n",
    "plt.plot(x, B_lr_list, label = \"LR\")\n",
    "plt.legend()\n",
    "for i in range(len(x)):\n",
    "    plt.annotate(round(B_et_list[i],3), (x[i], B_et_list[i]))\n",
    "    plt.annotate(round(B_xgbc_list[i],3), (x[i], B_xgbc_list[i]))\n",
    "    plt.annotate(round(B_lr_list[i],3), (x[i], B_lr_list[i]))\n",
    "plt.title('TSR_ALL31_B_Overlap', fontsize=15)\n",
    "#plt.savefig('INFO/TSR_ALL3/TSR_ALL31_B_Overlap.png')\n",
    "plt.show()"
   ]
  },
  {
   "cell_type": "code",
   "execution_count": null,
   "id": "6186d092",
   "metadata": {},
   "outputs": [],
   "source": []
  }
 ],
 "metadata": {
  "kernelspec": {
   "display_name": "Python 3",
   "language": "python",
   "name": "python3"
  },
  "language_info": {
   "codemirror_mode": {
    "name": "ipython",
    "version": 3
   },
   "file_extension": ".py",
   "mimetype": "text/x-python",
   "name": "python",
   "nbconvert_exporter": "python",
   "pygments_lexer": "ipython3",
   "version": "3.8.10"
  }
 },
 "nbformat": 4,
 "nbformat_minor": 5
}
