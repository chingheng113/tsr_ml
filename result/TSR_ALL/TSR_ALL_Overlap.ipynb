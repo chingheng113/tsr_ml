{
 "cells": [
  {
   "cell_type": "code",
   "execution_count": 1,
   "id": "06ad7a1e",
   "metadata": {},
   "outputs": [],
   "source": [
    "import pandas as pd\n",
    "pd.options.mode.chained_assignment = None\n",
    "import warnings\n",
    "warnings.filterwarnings(\"ignore\")\n",
    "import os\n",
    "import numpy as np\n",
    "from sklearn.model_selection import train_test_split\n",
    "from sklearn.metrics import auc, roc_curve\n",
    "from sklearn.ensemble import ExtraTreesClassifier\n",
    "from xgboost import XGBClassifier\n",
    "from sklearn.linear_model import LogisticRegression\n",
    "from sklearn.model_selection import RandomizedSearchCV\n",
    "from sklearn.calibration import CalibratedClassifierCV\n",
    "from imblearn.pipeline import make_pipeline\n",
    "from imblearn.under_sampling import TomekLinks\n",
    "import matplotlib.pyplot as plt\n",
    "import seaborn as sns"
   ]
  },
  {
   "cell_type": "markdown",
   "id": "e381e62b",
   "metadata": {},
   "source": [
    "# Import datasets"
   ]
  },
  {
   "cell_type": "code",
   "execution_count": 2,
   "id": "b164ddda",
   "metadata": {},
   "outputs": [
    {
     "data": {
      "text/plain": [
       "(44367, 233)"
      ]
     },
     "execution_count": 2,
     "metadata": {},
     "output_type": "execute_result"
    }
   ],
   "source": [
    "csv_path = os.path.join(\"..\", \"..\", \"data\",\"LINKED_DATA\", \"TSR_ALL\", \"TSR_ALL1\", \"TSR_ALL1_MICE2.csv\")\n",
    "tsr_all1_df = pd.read_csv(csv_path)\n",
    "tsr_all1_df.shape"
   ]
  },
  {
   "cell_type": "code",
   "execution_count": 3,
   "id": "608ecc3c",
   "metadata": {},
   "outputs": [
    {
     "data": {
      "text/plain": [
       "(39881, 234)"
      ]
     },
     "execution_count": 3,
     "metadata": {},
     "output_type": "execute_result"
    }
   ],
   "source": [
    "csv_path = os.path.join(\"..\", \"..\", \"data\",\"LINKED_DATA\", \"TSR_ALL\", \"TSR_ALL3\", \"TSR_ALL3_MICE5.csv\")\n",
    "tsr_all3_df = pd.read_csv(csv_path)\n",
    "tsr_all3_df.shape"
   ]
  },
  {
   "cell_type": "code",
   "execution_count": 4,
   "id": "6f813e32",
   "metadata": {},
   "outputs": [],
   "source": [
    "csv_path = os.path.join(\"..\", \"..\", \"result\", \"TSR_ALL\", \"INFO\", \"Threshold_Intersection.csv\")\n",
    "T_I = pd.read_csv(csv_path, keep_default_na = False)"
   ]
  },
  {
   "cell_type": "markdown",
   "id": "a147b302",
   "metadata": {},
   "source": [
    "# Convert the multiple feature and outcome into binary ones"
   ]
  },
  {
   "cell_type": "code",
   "execution_count": 5,
   "id": "b103cc85",
   "metadata": {},
   "outputs": [],
   "source": [
    "mRS1 = tsr_all1_df.mrs_tx_1\n",
    "mRS1[(mRS1 == 0) | (mRS1 == 1) | (mRS1 == 2)] = 1 #GOOD\n",
    "mRS1[(mRS1 == 3) | (mRS1 == 4) | (mRS1 == 5) | (mRS1 == 6) | (mRS1 == 9)] = 0 #BAD\n",
    "mRS3 = tsr_all3_df.mrs_tx_3\n",
    "mRS3[(mRS3 == 0) | (mRS3 == 1) | (mRS3 == 2)] = 1 #GOOD\n",
    "mRS3[(mRS3 == 3) | (mRS3 == 4) | (mRS3 == 5) | (mRS3 == 6) | (mRS3 == 9)] = 0 #BAD"
   ]
  },
  {
   "cell_type": "markdown",
   "id": "f4392f85",
   "metadata": {},
   "source": [
    "# Group all features and the outcome"
   ]
  },
  {
   "cell_type": "code",
   "execution_count": 6,
   "id": "6405e9de",
   "metadata": {},
   "outputs": [],
   "source": [
    "nominal_features = [\"edu_id\", \"pro_id\", \"opc_id\", \"toast_id\", \"offdt_id\", \"gender_tx\", \"hd_id\", \"pcva_id\",\n",
    "                    \"pcvaci_id\", \"pcvach_id\", \"po_id\", \"ur_id\", \"sm_id\", \"ptia_id\", \"hc_id\", \"hcht_id\",\n",
    "                    \"hchc_id\", \"ht_id\", \"dm_id\", \"pad_id\", \"al_id\", \"ca_id\", \"fahiid_parents_1\",\n",
    "                    \"fahiid_parents_2\", \"fahiid_parents_3\", \"fahiid_parents_4\", \"fahiid_brsi_1\",\n",
    "                    \"fahiid_brsi_2\", \"fahiid_brsi_3\", \"fahiid_brsi_4\"]\n",
    "ordinal_features = [\"gcse_nm\", \"gcsv_nm\", \"gcsm_nm\", \"discharged_mrs\", \"feeding\", \"transfers\",\n",
    "                    \"bathing\", \"toilet_use\", \"grooming\", \"mobility\", \"stairs\", \"dressing\", \"bowel_control\",\n",
    "                    \"bladder_control\", \"nihs_1a_in\", \"nihs_1b_in\", \"nihs_1c_in\", \"nihs_2_in\", \"nihs_3_in\", \"nihs_4_in\",\n",
    "                    \"nihs_5al_in\", \"nihs_5br_in\", \"nihs_6al_in\", \"nihs_6br_in\", \"nihs_7_in\", \"nihs_8_in\", \"nihs_9_in\",\n",
    "                    \"nihs_10_in\", \"nihs_11_in\", \"nihs_1a_out\", \"nihs_1b_out\", \"nihs_1c_out\", \"nihs_2_out\", \"nihs_3_out\",\n",
    "                    \"nihs_4_out\", \"nihs_5al_out\", \"nihs_5br_out\", \"nihs_6al_out\", \"nihs_6br_out\", \"nihs_7_out\",\n",
    "                    \"nihs_8_out\", \"nihs_9_out\", \"nihs_10_out\", \"nihs_11_out\"]\n",
    "boolean = [\"toastle_fl\", \"toastli_fl\", \"toastsce_fl\", \"toastsmo_fl\", \"toastsra_fl\", \"toastsdi_fl\",\n",
    "           \"toastsmi_fl\", \"toastsantip_fl\", \"toastsau_fl\", \"toastshy_fl\", \"toastspr_fl\", \"toastsantit_fl\",\n",
    "           \"toastsho_fl\", \"toastshys_fl\", \"toastsca_fl\", \"thda_fl\", \"thdh_fl\", \"thdi_fl\", \"thdam_fl\", \"thdv_fl\",\n",
    "           \"thde_fl\", \"thdm_fl\", \"thdr_fl\", \"thdp_fl\", \"trman_fl\", \"trmas_fl\", \"trmti_fl\", \"trmhe_fl\",\n",
    "           \"trmwa_fl\", \"trmia_fl\", \"trmfo_fl\", \"trmta_fl\", \"trmsd_fl\", \"trmre_fl\", \"trmen_fl\", \"trmag_fl\",\n",
    "           \"trmcl_fl\", \"trmpl_fl\", \"trmlm_fl\", \"trmiv_fl\", \"trmve_fl\", \"trmng_fl\", \"trmdy_fl\", \"trmicu_fl\",\n",
    "           \"trmsm_fl\", \"trmed_fl\", \"trmop_fl\", \"om_fl\", \"omas_fl\", \"omag_fl\", \"omti_fl\", \"omcl_fl\", \"omwa_fl\",\n",
    "           \"ompl_fl\", \"omanh_fl\", \"omand_fl\", \"omli_fl\", \"am_fl\", \"amas_fl\", \"amag_fl\", \"amti_fl\", \"amcl_fl\",\n",
    "           \"amwa_fl\", \"ampl_fl\", \"amanh_fl\", \"amand_fl\", \"amli_fl\", \"compn_fl\", \"comut_fl\", \"comug_fl\",\n",
    "           \"compr_fl\", \"compu_fl\", \"comac_fl\", \"comse_fl\", \"comde_fl\", \"detst_fl\", \"dethe_fl\", \"detho_fl\",\n",
    "           \"detha_fl\", \"detva_fl\", \"detre_fl\", \"detme_fl\", \"ct_fl\", \"mri_fl\", \"ecgl_fl\", \"ecga_fl\", \"ecgq_fl\",\n",
    "           \"cortical_aca_ctr\", \"cortical_mca_ctr\", \"subcortical_aca_ctr\", \"subcortical_mca_ctr\", \"pca_cortex_ctr\",\n",
    "           \"thalamus_ctr\", \"brainstem_ctr\", \"cerebellum_ctr\", \"watershed_ctr\", \"hemorrhagic_infarct_ctr\",\n",
    "           \"old_stroke_ctci\", \"cortical_aca_ctl\", \"cortical_mca_ctl\", \"subcortical_aca_ctl\", \"subcortical_mca_ctl\",\n",
    "           \"pca_cortex_ctl\", \"thalamus_ctl\", \"brainstem_ctl\", \"cerebellum_ctl\", \"watershed_ctl\",\n",
    "           \"hemorrhagic_infarct_ctl\", \"old_stroke_ctch\", \"cortical_aca_mrir\", \"cortical_mca_mrir\",\n",
    "           \"subcortical_aca_mrir\", \"subcortical_mca_mrir\", \"pca_cortex_mrir\", \"thalamus_mrir\", \"brainstem_mrir\",\n",
    "           \"cerebellum_mrir\", \"watershed_mrir\", \"hemorrhagic_infarct_mrir\", \"old_stroke_mrici\", \"cortical_aca_mril\",\n",
    "           \"cortical_mca_mril\", \"subcortical_aca_mril\", \"subcortical_mca_mril\", \"pca_cortex_mril\",\n",
    "           \"thalamus_mril\", \"brainstem_mril\", \"cerebellum_mril\", \"watershed_mril\", \"hemorrhagic_infarct_mril\",\n",
    "           \"old_stroke_mrich\"]\n",
    "continuous = [\"height_nm\", \"weight_nm\", \"sbp_nm\", \"dbp_nm\", \"bt_nm\", \"hr_nm\", \"rr_nm\", \"hb_nm\",\n",
    "              \"hct_nm\", \"platelet_nm\", \"wbc_nm\", \"ptt1_nm\", \"ptt2_nm\", \"ptinr_nm\", \"er_nm\", \"bun_nm\",\n",
    "              \"cre_nm\", \"ua_nm\", \"tcho_nm\", \"tg_nm\", \"hdl_nm\",\n",
    "              \"ldl_nm\", \"gpt_nm\", \"age\", \"hospitalised_time\"]\n",
    "labels = [\"mrs_tx_1\"]"
   ]
  },
  {
   "cell_type": "markdown",
   "id": "d74b5f5c",
   "metadata": {},
   "source": [
    "# Machine Learning - TSR_ALL1"
   ]
  },
  {
   "cell_type": "markdown",
   "id": "ab182aad",
   "metadata": {},
   "source": [
    "## Preprocess input data (GOOD when Discharge)"
   ]
  },
  {
   "cell_type": "code",
   "execution_count": 7,
   "id": "a5c89c64",
   "metadata": {},
   "outputs": [],
   "source": [
    "## discharged mRS = GOOD (tsr_all1_df.discharged_mrs == 1)\n",
    "mrs_dis1 = tsr_all1_df[(tsr_all1_df.discharged_mrs == 1) | (tsr_all1_df.discharged_mrs == 0) | (tsr_all1_df.discharged_mrs == 2)]"
   ]
  },
  {
   "cell_type": "code",
   "execution_count": 8,
   "id": "b5a79c7f",
   "metadata": {},
   "outputs": [
    {
     "name": "stdout",
     "output_type": "stream",
     "text": [
      "(20658, 230)\n"
     ]
    }
   ],
   "source": [
    "## input dataset\n",
    "tsr_1G_input = mrs_dis1.drop([\"icase_id\", \"idcase_id\", \"mrs_tx_1\"], axis=1)\n",
    "print(tsr_1G_input.shape)\n",
    "tsr_1G_input = tsr_1G_input.astype(\"float64\")\n",
    "tsr_1G_input = np.array(tsr_1G_input.values)"
   ]
  },
  {
   "cell_type": "code",
   "execution_count": 9,
   "id": "fe5859ee",
   "metadata": {},
   "outputs": [
    {
     "name": "stdout",
     "output_type": "stream",
     "text": [
      "(20658,)\n"
     ]
    }
   ],
   "source": [
    "## output dataset\n",
    "tsr_1G_output = mrs_dis1.mrs_tx_1\n",
    "print(tsr_1G_output.shape)\n",
    "tsr_1G_output = tsr_1G_output.astype(\"float64\")\n",
    "tsr_1G_output = np.array(tsr_1G_output.values)"
   ]
  },
  {
   "cell_type": "code",
   "execution_count": 10,
   "id": "5f512cd7",
   "metadata": {},
   "outputs": [
    {
     "name": "stdout",
     "output_type": "stream",
     "text": [
      "The shape of GOOD's X_train: (14460, 230)\n",
      "The shape of GOOD's y_train: (14460,)\n",
      "The shape of GOOD's X_test: (6198, 230)\n",
      "The shape of GOOD's y_test: (6198,)\n"
     ]
    }
   ],
   "source": [
    "## train_test_split\n",
    "G_X_train, G_X_test, G_y_train, G_y_test = train_test_split(tsr_1G_input, tsr_1G_output, test_size=0.3, random_state=19)\n",
    "print(\"The shape of GOOD's X_train:\", G_X_train.shape)\n",
    "print(\"The shape of GOOD's y_train:\", G_y_train.shape)\n",
    "print(\"The shape of GOOD's X_test:\", G_X_test.shape)\n",
    "print(\"The shape of GOOD's y_test:\", G_y_test.shape)"
   ]
  },
  {
   "cell_type": "code",
   "execution_count": 11,
   "id": "d52ba9a2",
   "metadata": {},
   "outputs": [],
   "source": [
    "## scale G_X_train\n",
    "from sklearn.preprocessing import MinMaxScaler\n",
    "from sklearn.preprocessing import OrdinalEncoder\n",
    "from sklearn.preprocessing import OneHotEncoder\n",
    "G_X_train = pd.DataFrame(G_X_train)\n",
    "G_X_train.columns = tsr_all1_df.drop([\"icase_id\", \"idcase_id\", \"mrs_tx_1\"], axis=1).columns\n",
    "\n",
    "scaler = MinMaxScaler()\n",
    "G_X_train[continuous] = scaler.fit_transform(G_X_train[continuous])\n",
    "\n",
    "encoder = OrdinalEncoder(handle_unknown=\"use_encoded_value\", unknown_value=6)\n",
    "G_X_train[ordinal_features] = encoder.fit_transform(G_X_train[ordinal_features])\n",
    "\n",
    "ohe = OneHotEncoder(sparse=False, handle_unknown = \"ignore\")\n",
    "nominal_train = ohe.fit_transform(G_X_train[nominal_features])\n",
    "G_X_train = pd.concat([G_X_train, pd.DataFrame(nominal_train)], axis=1)\n",
    "G_X_train = G_X_train.drop(nominal_features, axis=1)\n",
    "\n",
    "G_x_train_columns = list(G_X_train.columns)\n",
    "G_x_train_columns = G_x_train_columns[0:200]\n",
    "get_feature_name = list(ohe.get_feature_names(nominal_features))\n",
    "G_x_train_columns = G_x_train_columns+get_feature_name\n",
    "\n",
    "G_X_train.columns = G_x_train_columns\n",
    "G_X_train_overlap = G_X_train[T_I[\"G1\"][0:13]]\n",
    "\n",
    "G_X_train_overlap = np.array(G_X_train_overlap.values)"
   ]
  },
  {
   "cell_type": "code",
   "execution_count": 12,
   "id": "bc098962",
   "metadata": {},
   "outputs": [],
   "source": [
    "## scale G_X_test\n",
    "G_X_test = pd.DataFrame(G_X_test)\n",
    "G_X_test.columns = tsr_all1_df.drop([\"icase_id\", \"idcase_id\", \"mrs_tx_1\"], axis=1).columns\n",
    "\n",
    "G_X_test[continuous] = scaler.transform(G_X_test[continuous])\n",
    "\n",
    "G_X_test[ordinal_features] = encoder.transform(G_X_test[ordinal_features])\n",
    "\n",
    "nominal_test = ohe.transform(G_X_test[nominal_features])\n",
    "G_X_test = pd.concat([G_X_test, pd.DataFrame(nominal_test)], axis=1)\n",
    "G_X_test = G_X_test.drop(nominal_features, axis=1)\n",
    "\n",
    "G_X_test.columns = G_x_train_columns\n",
    "G_X_test_overlap = G_X_test[T_I[\"G1\"][0:13]]\n",
    "\n",
    "G_X_test_overlap = np.array(G_X_test_overlap.values)"
   ]
  },
  {
   "cell_type": "markdown",
   "id": "39a19fcd",
   "metadata": {},
   "source": [
    "## Algorithms"
   ]
  },
  {
   "cell_type": "markdown",
   "id": "892cae36",
   "metadata": {},
   "source": [
    "## Extra trees"
   ]
  },
  {
   "cell_type": "code",
   "execution_count": 13,
   "id": "06313e66",
   "metadata": {},
   "outputs": [],
   "source": [
    "# base et\n",
    "et = ExtraTreesClassifier(random_state=19)\n",
    "\n",
    "#tune et\n",
    "hyperparameters_et = {\"extratreesclassifier__n_estimators\": (25, 100),\n",
    "                      \"extratreesclassifier__criterion\": (\"gini\", \"entropy\"),\n",
    "                      \"extratreesclassifier__max_depth\": (25, 100),\n",
    "                      \"extratreesclassifier__min_samples_split\": (25, 100),\n",
    "                      \"extratreesclassifier__max_features\": (0.1, 0.9),\n",
    "                      \"extratreesclassifier__bootstrap\": (True, False),\n",
    "                      \"extratreesclassifier__class_weight\": ('balanced', {0: 1, 1: 32}, {0: 32, 1: 1}),\n",
    "                      \"extratreesclassifier__max_samples\": (0.3, 0.8)}\n",
    "\n",
    "pipeline = make_pipeline(TomekLinks(), ExtraTreesClassifier(random_state=19))\n",
    "\n",
    "etG_rscv = RandomizedSearchCV(estimator=pipeline,\n",
    "                              param_distributions=hyperparameters_et,\n",
    "                              n_jobs=-1,\n",
    "                              scoring='roc_auc',\n",
    "                              verbose=5,                        \n",
    "                              cv=5,\n",
    "                              n_iter = 50,\n",
    "                              random_state = 19)"
   ]
  },
  {
   "cell_type": "code",
   "execution_count": 14,
   "id": "0dbe6437",
   "metadata": {},
   "outputs": [
    {
     "name": "stdout",
     "output_type": "stream",
     "text": [
      "AUC of training set: 0.8957096554246005\n",
      "AUC of testing set: 0.4947560407830273\n",
      "Fitting 5 folds for each of 50 candidates, totalling 250 fits\n",
      "--> Tuned Parameters Best Score:  0.7212895515744752\n",
      "--> Best Parameters: \n",
      " {'extratreesclassifier__n_estimators': 100, 'extratreesclassifier__min_samples_split': 100, 'extratreesclassifier__max_samples': 0.3, 'extratreesclassifier__max_features': 0.1, 'extratreesclassifier__max_depth': 100, 'extratreesclassifier__criterion': 'gini', 'extratreesclassifier__class_weight': {0: 32, 1: 1}, 'extratreesclassifier__bootstrap': True}\n",
      "AUC of training set: 0.7749419316129644\n",
      "AUC of testing set: 0.6881888115771175\n",
      "AUC of training set: 0.7716154166534656\n",
      "AUC of testing set: 0.6895539409782289\n"
     ]
    }
   ],
   "source": [
    "#based\n",
    "et.fit(G_X_train_overlap, G_y_train)\n",
    "\n",
    "G_y_train_pred = et.predict_proba(G_X_train_overlap)\n",
    "fpr, tpr, thresholds = roc_curve(G_y_train, G_y_train_pred[:, 1])\n",
    "G_train_auroc_et = auc(fpr, tpr)\n",
    "print('AUC of training set:', G_train_auroc_et)\n",
    "\n",
    "G_y_test_pred = et.predict_proba(G_X_test_overlap)\n",
    "fpr, tpr, thresholds = roc_curve(G_y_test, G_y_test_pred[:, 1])\n",
    "G_test_auroc_et = auc(fpr, tpr)\n",
    "print('AUC of testing set:', G_test_auroc_et)\n",
    "\n",
    "#tuned\n",
    "etG_rsCV = etG_rscv.fit(G_X_train_overlap, G_y_train)\n",
    "print('--> Tuned Parameters Best Score: ', etG_rsCV.best_score_)\n",
    "print('--> Best Parameters: \\n', etG_rsCV.best_params_)\n",
    "\n",
    "G_y_train_pred = etG_rsCV.predict_proba(G_X_train_overlap)\n",
    "fpr, tpr, thresholds = roc_curve(G_y_train, G_y_train_pred[:, 1])\n",
    "G_train_auroc_et_tuned = auc(fpr, tpr)\n",
    "print('AUC of training set:', G_train_auroc_et_tuned)\n",
    "\n",
    "G_y_test_pred = etG_rsCV.predict_proba(G_X_test_overlap)\n",
    "fpr, tpr, thresholds = roc_curve(G_y_test, G_y_test_pred[:, 1])\n",
    "G_test_auroc_et_tuned = auc(fpr, tpr)\n",
    "print('AUC of testing set:', G_test_auroc_et_tuned)\n",
    "\n",
    "#calibrated\n",
    "etG_cccv = CalibratedClassifierCV(base_estimator=etG_rsCV.best_estimator_, cv=5)\n",
    "etG_ccCV = etG_cccv.fit(G_X_train_overlap, G_y_train)\n",
    "\n",
    "G_y_train_pred = etG_ccCV.predict_proba(G_X_train_overlap)\n",
    "fpr, tpr, thresholds = roc_curve(G_y_train, G_y_train_pred[:, 1])\n",
    "G_train_auroc_et_cc = auc(fpr, tpr)\n",
    "print('AUC of training set:', G_train_auroc_et_cc)\n",
    "\n",
    "G_y_test_pred = etG_ccCV.predict_proba(G_X_test_overlap)\n",
    "fpr, tpr, thresholds = roc_curve(G_y_test, G_y_test_pred[:, 1])\n",
    "G_test_auroc_et_cc = auc(fpr, tpr)\n",
    "print('AUC of testing set:', G_test_auroc_et_cc)"
   ]
  },
  {
   "cell_type": "markdown",
   "id": "8394bd4a",
   "metadata": {},
   "source": [
    "## XGBClassifier"
   ]
  },
  {
   "cell_type": "code",
   "execution_count": 15,
   "id": "3008d89f",
   "metadata": {},
   "outputs": [],
   "source": [
    "# base xgbc\n",
    "xgbc = XGBClassifier(random_state=19, use_label_encoder=False, eval_metric = \"auc\", tree_method = \"hist\", n_jobs=-1)\n",
    "\n",
    "# tune xgbc\n",
    "hyperparameters_xgbc = {\"xgbclassifier__booster\": (\"gbtree\", \"dart\"),\n",
    "                        \"xgbclassifier__learning_rate\": (0.01, 0.1),\n",
    "                        \"xgbclassifier__max_depth\": (25, 50),\n",
    "                        \"xgbclassifier__subsample\": (0.3, 0.8),\n",
    "                        \"xgbclassifier__colsample_bytree\": (0.3, 0.8),\n",
    "                        \"xgbclassifier__reg_lambda\": (0.1, 10),\n",
    "                        \"xgbclassifier__reg_alpha\": (0.1, 10),\n",
    "                        \"xgbclassifier__gamma\": (0.1, 10),\n",
    "                        \"xgbclassifier__n_estimators\": (25, 100),\n",
    "                        \"xgbclassifier__scale_pos_weight\": (0.04, 32)}\n",
    "\n",
    "pipeline = make_pipeline(TomekLinks(), XGBClassifier(random_state=19, use_label_encoder=False, eval_metric=\"auc\", tree_method = \"hist\"))\n",
    "\n",
    "xgbcG_rscv = RandomizedSearchCV(estimator=pipeline,                       \n",
    "                                param_distributions=hyperparameters_xgbc,                      \n",
    "                                n_jobs=-1,                      \n",
    "                                scoring=\"roc_auc\",                     \n",
    "                                verbose=5,                      \n",
    "                                cv=5,                        \n",
    "                                n_iter=50,\n",
    "                                random_state = 19)"
   ]
  },
  {
   "cell_type": "code",
   "execution_count": 16,
   "id": "e13c84e3",
   "metadata": {},
   "outputs": [
    {
     "name": "stdout",
     "output_type": "stream",
     "text": [
      "AUC of training sxgbc: 0.839595775380456\n",
      "AUC of testing sxgbc: 0.6056138597367983\n",
      "Fitting 5 folds for each of 50 candidates, totalling 250 fits\n",
      "--> Tuned Paramxgbcers Best Score:  0.7254309864852788\n",
      "--> Best Paramxgbcers: \n",
      " {'xgbclassifier__subsample': 0.8, 'xgbclassifier__scale_pos_weight': 0.04, 'xgbclassifier__reg_lambda': 10, 'xgbclassifier__reg_alpha': 0.1, 'xgbclassifier__n_estimators': 100, 'xgbclassifier__max_depth': 50, 'xgbclassifier__learning_rate': 0.1, 'xgbclassifier__gamma': 0.1, 'xgbclassifier__colsample_bytree': 0.3, 'xgbclassifier__booster': 'dart'}\n",
      "AUC of training sxgbc: 0.7397351461098967\n",
      "AUC of testing sxgbc: 0.715040770213184\n",
      "AUC of training sxgbc: 0.7398089073176398\n",
      "AUC of testing sxgbc: 0.716278185693478\n"
     ]
    }
   ],
   "source": [
    "#based\n",
    "xgbc.fit(G_X_train_overlap, G_y_train)\n",
    "\n",
    "G_y_train_pred = xgbc.predict_proba(G_X_train_overlap)\n",
    "fpr, tpr, thresholds = roc_curve(G_y_train, G_y_train_pred[:, 1])\n",
    "G_train_auroc_xgbc = auc(fpr, tpr)\n",
    "print('AUC of training sxgbc:', G_train_auroc_xgbc)\n",
    "\n",
    "G_y_test_pred = xgbc.predict_proba(G_X_test_overlap)\n",
    "fpr, tpr, thresholds = roc_curve(G_y_test, G_y_test_pred[:, 1])\n",
    "G_test_auroc_xgbc = auc(fpr, tpr)\n",
    "print('AUC of testing sxgbc:', G_test_auroc_xgbc)\n",
    "\n",
    "#tuned\n",
    "xgbcG_rsCV = xgbcG_rscv.fit(G_X_train_overlap, G_y_train)\n",
    "print('--> Tuned Paramxgbcers Best Score: ', xgbcG_rsCV.best_score_)\n",
    "print('--> Best Paramxgbcers: \\n', xgbcG_rsCV.best_params_)\n",
    "\n",
    "G_y_train_pred = xgbcG_rsCV.predict_proba(G_X_train_overlap)\n",
    "fpr, tpr, thresholds = roc_curve(G_y_train, G_y_train_pred[:, 1])\n",
    "G_train_auroc_xgbc_tuned = auc(fpr, tpr)\n",
    "print('AUC of training sxgbc:', G_train_auroc_xgbc_tuned)\n",
    "\n",
    "G_y_test_pred = xgbcG_rsCV.predict_proba(G_X_test_overlap)\n",
    "fpr, tpr, thresholds = roc_curve(G_y_test, G_y_test_pred[:, 1])\n",
    "G_test_auroc_xgbc_tuned = auc(fpr, tpr)\n",
    "print('AUC of testing sxgbc:', G_test_auroc_xgbc_tuned)\n",
    "\n",
    "#calibrated\n",
    "xgbcG_cccv = CalibratedClassifierCV(base_estimator=xgbcG_rsCV.best_estimator_, cv=5)\n",
    "xgbcG_ccCV = xgbcG_cccv.fit(G_X_train_overlap, G_y_train)\n",
    "\n",
    "G_y_train_pred = xgbcG_ccCV.predict_proba(G_X_train_overlap)\n",
    "fpr, tpr, thresholds = roc_curve(G_y_train, G_y_train_pred[:, 1])\n",
    "G_train_auroc_xgbc_cc = auc(fpr, tpr)\n",
    "print('AUC of training sxgbc:', G_train_auroc_xgbc_cc)\n",
    "\n",
    "G_y_test_pred = xgbcG_ccCV.predict_proba(G_X_test_overlap)\n",
    "fpr, tpr, thresholds = roc_curve(G_y_test, G_y_test_pred[:, 1])\n",
    "G_test_auroc_xgbc_cc = auc(fpr, tpr)\n",
    "print('AUC of testing sxgbc:', G_test_auroc_xgbc_cc)"
   ]
  },
  {
   "cell_type": "markdown",
   "id": "a8bdca0d",
   "metadata": {},
   "source": [
    "## LogisticRegression"
   ]
  },
  {
   "cell_type": "code",
   "execution_count": 17,
   "id": "f9ae9f4e",
   "metadata": {},
   "outputs": [],
   "source": [
    "# base lr\n",
    "lr = LogisticRegression(random_state=19)\n",
    "\n",
    "#tune lr\n",
    "hyperparameters_lr = {\"logisticregression__penalty\": (\"l1\", \"l2\", \"elasticnet\", \"none\"),\n",
    "                      \"logisticregression__tol\": (1e-4, 1e-3, 1e-2, 1e-1),\n",
    "                      \"logisticregression__C\": (0.1, 1, 10),\n",
    "                      \"logisticregression__solver\": (\"newton-cg\", \"lbfgs\", \"liblinear\", \"sag\", \"saga\"),\n",
    "                      \"logisticregression__multi_class\": (\"auto\", \"ovr\", \"multinomial\"),\n",
    "                      \"logisticregression__warm_start\": (True, False),\n",
    "                      \"logisticregression__class_weight\": ('balanced', {0: 1, 1: 32}, {0: 32, 1: 1})}\n",
    "\n",
    "pipeline = make_pipeline(TomekLinks(), LogisticRegression(random_state=19))\n",
    "\n",
    "lrG_rscv = RandomizedSearchCV(estimator=pipeline,\n",
    "                              param_distributions=hyperparameters_lr,\n",
    "                              n_jobs=-1,\n",
    "                              scoring='roc_auc',\n",
    "                              verbose=5,                        \n",
    "                              cv=5,\n",
    "                              n_iter = 50,\n",
    "                              random_state = 19)"
   ]
  },
  {
   "cell_type": "code",
   "execution_count": 18,
   "id": "2263e482",
   "metadata": {},
   "outputs": [
    {
     "name": "stdout",
     "output_type": "stream",
     "text": [
      "AUC of training set: 0.734050500190096\n",
      "AUC of testing set: 0.7118240025286502\n",
      "Fitting 5 folds for each of 50 candidates, totalling 250 fits\n",
      "--> Tuned Parameters Best Score:  0.7278999898984793\n",
      "--> Best Parameters: \n",
      " {'logisticregression__warm_start': False, 'logisticregression__tol': 0.1, 'logisticregression__solver': 'newton-cg', 'logisticregression__penalty': 'none', 'logisticregression__multi_class': 'ovr', 'logisticregression__class_weight': {0: 1, 1: 32}, 'logisticregression__C': 1}\n",
      "AUC of training set: 0.7340729420788054\n",
      "AUC of testing set: 0.7118163140651896\n",
      "AUC of training set: 0.7340485200234451\n",
      "AUC of testing set: 0.7112439506742355\n"
     ]
    }
   ],
   "source": [
    "lr.fit(G_X_train_overlap, G_y_train)\n",
    "\n",
    "G_y_train_pred = lr.predict_proba(G_X_train_overlap)\n",
    "fpr, tpr, thresholds = roc_curve(G_y_train, G_y_train_pred[:, 1])\n",
    "G_train_auroc_lr = auc(fpr, tpr)\n",
    "print('AUC of training set:', G_train_auroc_lr)\n",
    "\n",
    "G_y_test_pred = lr.predict_proba(G_X_test_overlap)\n",
    "fpr, tpr, thresholds = roc_curve(G_y_test, G_y_test_pred[:, 1])\n",
    "G_test_auroc_lr = auc(fpr, tpr)\n",
    "print('AUC of testing set:', G_test_auroc_lr)\n",
    "\n",
    "#tuned\n",
    "lrG_rsCV = lrG_rscv.fit(G_X_train_overlap, G_y_train)\n",
    "print('--> Tuned Parameters Best Score: ', lrG_rsCV.best_score_)\n",
    "print('--> Best Parameters: \\n', lrG_rsCV.best_params_)\n",
    "\n",
    "G_y_train_pred = lrG_rsCV.predict_proba(G_X_train_overlap)\n",
    "fpr, tpr, thresholds = roc_curve(G_y_train, G_y_train_pred[:, 1])\n",
    "G_train_auroc_lr_tuned = auc(fpr, tpr)\n",
    "print('AUC of training set:', G_train_auroc_lr_tuned)\n",
    "\n",
    "G_y_test_pred = lrG_rsCV.predict_proba(G_X_test_overlap)\n",
    "fpr, tpr, thresholds = roc_curve(G_y_test, G_y_test_pred[:, 1])\n",
    "G_test_auroc_lr_tuned = auc(fpr, tpr)\n",
    "print('AUC of testing set:', G_test_auroc_lr_tuned)\n",
    "\n",
    "#calibrated\n",
    "lrG_cccv = CalibratedClassifierCV(base_estimator=lrG_rsCV.best_estimator_, cv=5)\n",
    "lrG_ccCV = lrG_cccv.fit(G_X_train_overlap, G_y_train)\n",
    "\n",
    "G_y_train_pred = lrG_ccCV.predict_proba(G_X_train_overlap)\n",
    "fpr, tpr, thresholds = roc_curve(G_y_train, G_y_train_pred[:, 1])\n",
    "G_train_auroc_lr_cc = auc(fpr, tpr)\n",
    "print('AUC of training set:', G_train_auroc_lr_cc)\n",
    "\n",
    "G_y_test_pred = lrG_ccCV.predict_proba(G_X_test_overlap)\n",
    "fpr, tpr, thresholds = roc_curve(G_y_test, G_y_test_pred[:, 1])\n",
    "G_test_auroc_lr_cc = auc(fpr, tpr)\n",
    "print('AUC of testing set:', G_test_auroc_lr_cc)"
   ]
  },
  {
   "cell_type": "code",
   "execution_count": 19,
   "id": "a97f29b0",
   "metadata": {},
   "outputs": [
    {
     "data": {
      "image/png": "[encoded data removed]",
      "text/plain": [
       "<Figure size 432x288 with 1 Axes>"
      ]
     },
     "metadata": {
      "needs_background": "light"
     },
     "output_type": "display_data"
    }
   ],
   "source": [
    "G_et_list = [G_test_auroc_et, G_test_auroc_et_tuned, G_test_auroc_et_cc]\n",
    "G_xgbc_list = [G_test_auroc_xgbc, G_test_auroc_xgbc_tuned, G_test_auroc_xgbc_cc]\n",
    "G_lr_list = [G_test_auroc_lr, G_test_auroc_lr_tuned, G_test_auroc_lr_cc]\n",
    "x = \"Based\",\"Tuned\",\"Calibrated\"\n",
    "\n",
    "plt.plot(x, G_et_list, label = \"ET\")\n",
    "plt.plot(x, G_xgbc_list, label = \"XGBC\")\n",
    "plt.plot(x, G_lr_list, label = \"LR\")\n",
    "plt.legend()\n",
    "for i in range(len(x)):\n",
    "    plt.annotate(round(G_et_list[i],3), (x[i], G_et_list[i]))\n",
    "    plt.annotate(round(G_xgbc_list[i],3), (x[i], G_xgbc_list[i]))\n",
    "    plt.annotate(round(G_lr_list[i],3), (x[i], G_lr_list[i]))\n",
    "plt.title('TSR_ALL1_G_Overlap', fontsize=15)\n",
    "plt.savefig('INFO/TSR_ALL1/TSR_ALL1_G_Overlap.png')\n",
    "plt.show()"
   ]
  },
  {
   "cell_type": "markdown",
   "id": "606660b6",
   "metadata": {},
   "source": [
    "# Machine Learning - TSR_ALL1"
   ]
  },
  {
   "cell_type": "markdown",
   "id": "cd138142",
   "metadata": {},
   "source": [
    "## Preprocess input data (BAD when Discharge)"
   ]
  },
  {
   "cell_type": "code",
   "execution_count": 20,
   "id": "bb749660",
   "metadata": {},
   "outputs": [],
   "source": [
    "# discharged mRS = BAD (tsr_all1_df.discharged_mrs == 0)\n",
    "mrs_dis0 = tsr_all1_df[(tsr_all1_df.discharged_mrs != 1) & (tsr_all1_df.discharged_mrs != 0) & (tsr_all1_df.discharged_mrs != 2)]"
   ]
  },
  {
   "cell_type": "code",
   "execution_count": 21,
   "id": "fa592a15",
   "metadata": {},
   "outputs": [
    {
     "name": "stdout",
     "output_type": "stream",
     "text": [
      "(23709, 230)\n"
     ]
    }
   ],
   "source": [
    "## input dataset\n",
    "tsr_1B_input = mrs_dis0.drop([\"icase_id\", \"idcase_id\", \"mrs_tx_1\"], axis=1)\n",
    "print(tsr_1B_input.shape)\n",
    "tsr_1B_input = tsr_1B_input.astype(\"float64\")\n",
    "tsr_1B_input = np.array(tsr_1B_input.values)"
   ]
  },
  {
   "cell_type": "code",
   "execution_count": 22,
   "id": "3110951f",
   "metadata": {},
   "outputs": [
    {
     "name": "stdout",
     "output_type": "stream",
     "text": [
      "(23709,)\n"
     ]
    }
   ],
   "source": [
    "## output dataset\n",
    "tsr_1B_output = mrs_dis0.mrs_tx_1\n",
    "print(tsr_1B_output.shape)\n",
    "tsr_1B_output = tsr_1B_output.astype(\"float64\")\n",
    "tsr_1B_output = np.array(tsr_1B_output.values)"
   ]
  },
  {
   "cell_type": "code",
   "execution_count": 23,
   "id": "eca3f1f3",
   "metadata": {},
   "outputs": [
    {
     "name": "stdout",
     "output_type": "stream",
     "text": [
      "The shape of X_train: (16596, 230)\n",
      "The shape of y_train: (16596,)\n",
      "The shape of X_test: (7113, 230)\n",
      "The shape of y_test: (7113,)\n"
     ]
    }
   ],
   "source": [
    "## train_test_split\n",
    "B_X_train, B_X_test, B_y_train, B_y_test = train_test_split(tsr_1B_input, tsr_1B_output, test_size=0.3, random_state=19)\n",
    "print(\"The shape of X_train:\", B_X_train.shape)\n",
    "print(\"The shape of y_train:\", B_y_train.shape)\n",
    "print(\"The shape of X_test:\", B_X_test.shape)\n",
    "print(\"The shape of y_test:\", B_y_test.shape)"
   ]
  },
  {
   "cell_type": "code",
   "execution_count": 24,
   "id": "281c3f51",
   "metadata": {},
   "outputs": [],
   "source": [
    "## scale B_X_train\n",
    "from sklearn.preprocessing import MinMaxScaler\n",
    "from sklearn.preprocessing import OrdinalEncoder\n",
    "from sklearn.preprocessing import OneHotEncoder\n",
    "\n",
    "B_X_train = pd.DataFrame(B_X_train)\n",
    "B_X_train.columns = tsr_all1_df.drop([\"icase_id\", \"idcase_id\", \"mrs_tx_1\"], axis=1).columns\n",
    "\n",
    "scaler = MinMaxScaler()\n",
    "B_X_train[continuous] = scaler.fit_transform(B_X_train[continuous])\n",
    "\n",
    "encoder = OrdinalEncoder(handle_unknown=\"use_encoded_value\", unknown_value=9)\n",
    "B_X_train[ordinal_features] = encoder.fit_transform(B_X_train[ordinal_features])\n",
    "\n",
    "ohe = OneHotEncoder(sparse=False)\n",
    "nominal_train = ohe.fit_transform(B_X_train[nominal_features])\n",
    "B_X_train = pd.concat([B_X_train, pd.DataFrame(nominal_train)], axis=1)\n",
    "B_X_train = B_X_train.drop(nominal_features, axis=1)\n",
    "\n",
    "B_x_train_columns = list(B_X_train.columns)\n",
    "B_x_train_columns = B_x_train_columns[0:200]\n",
    "get_feature_name = list(ohe.get_feature_names(nominal_features))\n",
    "B_x_train_columns = B_x_train_columns+get_feature_name\n",
    "\n",
    "B_X_train.columns = B_x_train_columns\n",
    "B_X_train_overlap = B_X_train[T_I[\"B1\"][0:22]]\n",
    "\n",
    "B_X_train_overlap = np.array(B_X_train_overlap.values)"
   ]
  },
  {
   "cell_type": "code",
   "execution_count": 25,
   "id": "04ca0a1e",
   "metadata": {},
   "outputs": [],
   "source": [
    "## scale B_X_test\n",
    "B_X_test = pd.DataFrame(B_X_test)\n",
    "B_X_test.columns = tsr_all1_df.drop([\"icase_id\", \"idcase_id\", \"mrs_tx_1\"], axis=1).columns\n",
    "\n",
    "B_X_test[continuous] = scaler.transform(B_X_test[continuous])\n",
    "\n",
    "B_X_test[ordinal_features] = encoder.transform(B_X_test[ordinal_features])\n",
    "\n",
    "nominal_test = ohe.transform(B_X_test[nominal_features])\n",
    "B_X_test = pd.concat([B_X_test, pd.DataFrame(nominal_test)], axis=1)\n",
    "B_X_test = B_X_test.drop(nominal_features, axis=1)\n",
    "\n",
    "B_X_test.columns = B_x_train_columns\n",
    "B_X_test_overlap = B_X_test[T_I[\"B1\"][0:22]]\n",
    "\n",
    "B_X_test_overlap = np.array(B_X_test_overlap.values)"
   ]
  },
  {
   "cell_type": "markdown",
   "id": "23f56521",
   "metadata": {},
   "source": [
    "## Algorithms"
   ]
  },
  {
   "cell_type": "markdown",
   "id": "97baa7f8",
   "metadata": {},
   "source": [
    "## Extra trees"
   ]
  },
  {
   "cell_type": "code",
   "execution_count": 26,
   "id": "cf60e3c2",
   "metadata": {},
   "outputs": [],
   "source": [
    "# base et\n",
    "et = ExtraTreesClassifier(random_state=19)\n",
    "\n",
    "#tune et\n",
    "hyperparameters_et = {\"extratreesclassifier__n_estimators\": (25, 100),\n",
    "                      \"extratreesclassifier__criterion\": (\"gini\", \"entropy\"),\n",
    "                      \"extratreesclassifier__max_depth\": (25, 100),\n",
    "                      \"extratreesclassifier__min_samples_split\": (25, 100),\n",
    "                      \"extratreesclassifier__max_features\": (0.1, 0.9),\n",
    "                      \"extratreesclassifier__bootstrap\": (True, False),\n",
    "                      \"extratreesclassifier__class_weight\": ('balanced', {0: 1, 1: 7}, {0: 7, 1: 1}),\n",
    "                      \"extratreesclassifier__max_samples\": (0.3, 0.8)}\n",
    "\n",
    "pipeline = make_pipeline(TomekLinks(), ExtraTreesClassifier(random_state=19))\n",
    "\n",
    "etB_rscv = RandomizedSearchCV(estimator=pipeline,\n",
    "                              param_distributions=hyperparameters_et,\n",
    "                              n_jobs=-1,\n",
    "                              scoring='roc_auc',\n",
    "                              verbose=5,                        \n",
    "                              cv=5,\n",
    "                              n_iter = 50,\n",
    "                              random_state = 19)"
   ]
  },
  {
   "cell_type": "code",
   "execution_count": 27,
   "id": "611ed76b",
   "metadata": {},
   "outputs": [
    {
     "name": "stdout",
     "output_type": "stream",
     "text": [
      "AUC of training set: 0.9999995856592214\n",
      "AUC of testing set: 0.8181731828369864\n",
      "Fitting 5 folds for each of 50 candidates, totalling 250 fits\n",
      "--> Tuned Parameters Best Score:  0.8558271064308588\n",
      "--> Best Parameters: \n",
      " {'extratreesclassifier__n_estimators': 100, 'extratreesclassifier__min_samples_split': 100, 'extratreesclassifier__max_samples': 0.8, 'extratreesclassifier__max_features': 0.9, 'extratreesclassifier__max_depth': 100, 'extratreesclassifier__criterion': 'gini', 'extratreesclassifier__class_weight': {0: 1, 1: 7}, 'extratreesclassifier__bootstrap': True}\n",
      "AUC of training set: 0.8910394795826788\n",
      "AUC of testing set: 0.8521861122731003\n",
      "AUC of training set: 0.885918658474608\n",
      "AUC of testing set: 0.8530314211967491\n"
     ]
    }
   ],
   "source": [
    "#based\n",
    "et.fit(B_X_train_overlap, B_y_train)\n",
    "\n",
    "B_y_train_pred = et.predict_proba(B_X_train_overlap)\n",
    "fpr, tpr, thresholds = roc_curve(B_y_train, B_y_train_pred[:, 1])\n",
    "B_train_auroc_et = auc(fpr, tpr)\n",
    "print('AUC of training set:', B_train_auroc_et)\n",
    "\n",
    "B_y_test_pred = et.predict_proba(B_X_test_overlap)\n",
    "fpr, tpr, thresholds = roc_curve(B_y_test, B_y_test_pred[:, 1])\n",
    "B_test_auroc_et = auc(fpr, tpr)\n",
    "print('AUC of testing set:', B_test_auroc_et)\n",
    "\n",
    "#tuned\n",
    "etB_rsCV = etB_rscv.fit(B_X_train_overlap, B_y_train)\n",
    "print('--> Tuned Parameters Best Score: ', etB_rsCV.best_score_)\n",
    "print('--> Best Parameters: \\n', etB_rsCV.best_params_)\n",
    "\n",
    "B_y_train_pred = etB_rsCV.predict_proba(B_X_train_overlap)\n",
    "fpr, tpr, thresholds = roc_curve(B_y_train, B_y_train_pred[:, 1])\n",
    "B_train_auroc_et_tuned = auc(fpr, tpr)\n",
    "print('AUC of training set:', B_train_auroc_et_tuned)\n",
    "\n",
    "B_y_test_pred = etB_rsCV.predict_proba(B_X_test_overlap)\n",
    "fpr, tpr, thresholds = roc_curve(B_y_test, B_y_test_pred[:, 1])\n",
    "B_test_auroc_et_tuned = auc(fpr, tpr)\n",
    "print('AUC of testing set:', B_test_auroc_et_tuned)\n",
    "\n",
    "#calibrated\n",
    "etB_cccv = CalibratedClassifierCV(base_estimator=etB_rsCV.best_estimator_, cv=5)\n",
    "etB_ccCV = etB_cccv.fit(B_X_train_overlap, B_y_train)\n",
    "\n",
    "B_y_train_pred = etB_ccCV.predict_proba(B_X_train_overlap)\n",
    "fpr, tpr, thresholds = roc_curve(B_y_train, B_y_train_pred[:, 1])\n",
    "B_train_auroc_et_cc = auc(fpr, tpr)\n",
    "print('AUC of training set:', B_train_auroc_et_cc)\n",
    "\n",
    "B_y_test_pred = etB_ccCV.predict_proba(B_X_test_overlap)\n",
    "fpr, tpr, thresholds = roc_curve(B_y_test, B_y_test_pred[:, 1])\n",
    "B_test_auroc_et_cc = auc(fpr, tpr)\n",
    "print('AUC of testing set:', B_test_auroc_et_cc)"
   ]
  },
  {
   "cell_type": "markdown",
   "id": "62312ce2",
   "metadata": {},
   "source": [
    "## XGBClassifier"
   ]
  },
  {
   "cell_type": "code",
   "execution_count": 28,
   "id": "a2e7f86b",
   "metadata": {},
   "outputs": [],
   "source": [
    "# base xgbc\n",
    "xgbc = XGBClassifier(random_state=19, use_label_encoder=False, eval_metric = \"auc\", tree_method = \"hist\", n_jobs=-1)\n",
    "\n",
    "# tune xgbc\n",
    "hyperparameters_xgbc = {\"xgbclassifier__booster\": (\"gbtree\", \"dart\"),\n",
    "                        \"xgbclassifier__learning_rate\": (0.01, 0.1),\n",
    "                        \"xgbclassifier__max_depth\": (25, 50),\n",
    "                        \"xgbclassifier__subsample\": (0.3, 0.8),\n",
    "                        \"xgbclassifier__colsample_bytree\": (0.3, 0.8),\n",
    "                        \"xgbclassifier__reg_lambda\": (0.1, 10),\n",
    "                        \"xgbclassifier__reg_alpha\": (0.1, 10),\n",
    "                        \"xgbclassifier__gamma\": (0.1, 10),\n",
    "                        \"xgbclassifier__n_estimators\": (25, 100),\n",
    "                        \"xgbclassifier__scale_pos_weight\": (0.15, 7)}\n",
    "\n",
    "pipeline = make_pipeline(TomekLinks(), XGBClassifier(random_state=19, use_label_encoder=False, eval_metric=\"auc\", tree_method = \"hist\"))\n",
    "\n",
    "xgbcB_rscv = RandomizedSearchCV(estimator=pipeline,                       \n",
    "                                param_distributions=hyperparameters_xgbc,                      \n",
    "                                n_jobs=-1,                      \n",
    "                                scoring=\"roc_auc\",                     \n",
    "                                verbose=5,                      \n",
    "                                cv=5,                        \n",
    "                                n_iter=50,\n",
    "                                random_state = 19)"
   ]
  },
  {
   "cell_type": "code",
   "execution_count": 29,
   "id": "252ee280",
   "metadata": {},
   "outputs": [
    {
     "name": "stdout",
     "output_type": "stream",
     "text": [
      "AUC of training sxgbc: 0.9647849617765659\n",
      "AUC of testing sxgbc: 0.8410200883030435\n",
      "Fitting 5 folds for each of 50 candidates, totalling 250 fits\n",
      "--> Tuned Paramxgbcers Best Score:  0.8592134502115814\n",
      "--> Best Paramxgbcers: \n",
      " {'xgbclassifier__subsample': 0.3, 'xgbclassifier__scale_pos_weight': 7, 'xgbclassifier__reg_lambda': 10, 'xgbclassifier__reg_alpha': 10, 'xgbclassifier__n_estimators': 100, 'xgbclassifier__max_depth': 50, 'xgbclassifier__learning_rate': 0.1, 'xgbclassifier__gamma': 10, 'xgbclassifier__colsample_bytree': 0.3, 'xgbclassifier__booster': 'gbtree'}\n",
      "AUC of training sxgbc: 0.867622165229556\n",
      "AUC of testing sxgbc: 0.8510752914055236\n",
      "AUC of training sxgbc: 0.8673250331704654\n",
      "AUC of testing sxgbc: 0.8525780323802183\n"
     ]
    }
   ],
   "source": [
    "#based\n",
    "xgbc.fit(B_X_train_overlap, B_y_train)\n",
    "\n",
    "B_y_train_pred = xgbc.predict_proba(B_X_train_overlap)\n",
    "fpr, tpr, thresholds = roc_curve(B_y_train, B_y_train_pred[:, 1])\n",
    "B_train_auroc_xgbc = auc(fpr, tpr)\n",
    "print('AUC of training sxgbc:', B_train_auroc_xgbc)\n",
    "\n",
    "B_y_test_pred = xgbc.predict_proba(B_X_test_overlap)\n",
    "fpr, tpr, thresholds = roc_curve(B_y_test, B_y_test_pred[:, 1])\n",
    "B_test_auroc_xgbc = auc(fpr, tpr)\n",
    "print('AUC of testing sxgbc:', B_test_auroc_xgbc)\n",
    "\n",
    "#tuned\n",
    "xgbcB_rsCV = xgbcB_rscv.fit(B_X_train_overlap, B_y_train)\n",
    "print('--> Tuned Paramxgbcers Best Score: ', xgbcB_rsCV.best_score_)\n",
    "print('--> Best Paramxgbcers: \\n', xgbcB_rsCV.best_params_)\n",
    "\n",
    "B_y_train_pred = xgbcB_rsCV.predict_proba(B_X_train_overlap)\n",
    "fpr, tpr, thresholds = roc_curve(B_y_train, B_y_train_pred[:, 1])\n",
    "B_train_auroc_xgbc_tuned = auc(fpr, tpr)\n",
    "print('AUC of training sxgbc:', B_train_auroc_xgbc_tuned)\n",
    "\n",
    "B_y_test_pred = xgbcB_rsCV.predict_proba(B_X_test_overlap)\n",
    "fpr, tpr, thresholds = roc_curve(B_y_test, B_y_test_pred[:, 1])\n",
    "B_test_auroc_xgbc_tuned = auc(fpr, tpr)\n",
    "print('AUC of testing sxgbc:', B_test_auroc_xgbc_tuned)\n",
    "\n",
    "#calibrated\n",
    "xgbcB_cccv = CalibratedClassifierCV(base_estimator=xgbcB_rsCV.best_estimator_, cv=5)\n",
    "xgbcB_ccCV = xgbcB_cccv.fit(B_X_train_overlap, B_y_train)\n",
    "\n",
    "B_y_train_pred = xgbcB_ccCV.predict_proba(B_X_train_overlap)\n",
    "fpr, tpr, thresholds = roc_curve(B_y_train, B_y_train_pred[:, 1])\n",
    "B_train_auroc_xgbc_cc = auc(fpr, tpr)\n",
    "print('AUC of training sxgbc:', B_train_auroc_xgbc_cc)\n",
    "\n",
    "B_y_test_pred = xgbcB_ccCV.predict_proba(B_X_test_overlap)\n",
    "fpr, tpr, thresholds = roc_curve(B_y_test, B_y_test_pred[:, 1])\n",
    "B_test_auroc_xgbc_cc = auc(fpr, tpr)\n",
    "print('AUC of testing sxgbc:', B_test_auroc_xgbc_cc)"
   ]
  },
  {
   "cell_type": "markdown",
   "id": "b759b5c2",
   "metadata": {},
   "source": [
    "## LogisticRegression"
   ]
  },
  {
   "cell_type": "code",
   "execution_count": 30,
   "id": "fd60c1a5",
   "metadata": {},
   "outputs": [],
   "source": [
    "# base lr\n",
    "lr = LogisticRegression(random_state=19)\n",
    "\n",
    "#tune lr\n",
    "hyperparameters_lr = {\"logisticregression__penalty\": (\"l1\", \"l2\", \"elasticnet\", \"none\"),\n",
    "                      \"logisticregression__tol\": (1e-4, 1e-3, 1e-2, 1e-1),\n",
    "                      \"logisticregression__C\": (0.1, 1, 10),\n",
    "                      \"logisticregression__solver\": (\"newton-cg\", \"lbfgs\", \"liblinear\", \"sag\", \"saga\"),\n",
    "                      \"logisticregression__multi_class\": (\"auto\", \"ovr\", \"multinomial\"),\n",
    "                      \"logisticregression__warm_start\": (True, False),\n",
    "                      \"logisticregression__class_weight\": ('balanced', {0: 1, 1: 7}, {0: 7, 1: 1})}\n",
    "\n",
    "pipeline = make_pipeline(TomekLinks(), LogisticRegression(random_state=19))\n",
    "\n",
    "lrB_rscv = RandomizedSearchCV(estimator=pipeline,\n",
    "                              param_distributions=hyperparameters_lr,\n",
    "                              n_jobs=-1,\n",
    "                              scoring='roc_auc',\n",
    "                              verbose=5,                        \n",
    "                              cv=5,\n",
    "                              n_iter = 50,\n",
    "                              random_state = 19)"
   ]
  },
  {
   "cell_type": "code",
   "execution_count": 31,
   "id": "f5e1f046",
   "metadata": {},
   "outputs": [
    {
     "name": "stdout",
     "output_type": "stream",
     "text": [
      "AUC of training set: 0.8612868781523876\n",
      "AUC of testing set: 0.850832247964591\n",
      "Fitting 5 folds for each of 50 candidates, totalling 250 fits\n",
      "--> Tuned Parameters Best Score:  0.8597044039885858\n",
      "--> Best Parameters: \n",
      " {'logisticregression__warm_start': True, 'logisticregression__tol': 0.001, 'logisticregression__solver': 'liblinear', 'logisticregression__penalty': 'l1', 'logisticregression__multi_class': 'ovr', 'logisticregression__class_weight': {0: 1, 1: 7}, 'logisticregression__C': 0.1}\n",
      "AUC of training set: 0.8612123962540411\n",
      "AUC of testing set: 0.8509997570478944\n",
      "AUC of training set: 0.8612265501350355\n",
      "AUC of testing set: 0.8512012428918243\n"
     ]
    }
   ],
   "source": [
    "lr.fit(B_X_train_overlap, B_y_train)\n",
    "\n",
    "B_y_train_pred = lr.predict_proba(B_X_train_overlap)\n",
    "fpr, tpr, thresholds = roc_curve(B_y_train, B_y_train_pred[:, 1])\n",
    "B_train_auroc_lr = auc(fpr, tpr)\n",
    "print('AUC of training set:', B_train_auroc_lr)\n",
    "\n",
    "B_y_test_pred = lr.predict_proba(B_X_test_overlap)\n",
    "fpr, tpr, thresholds = roc_curve(B_y_test, B_y_test_pred[:, 1])\n",
    "B_test_auroc_lr = auc(fpr, tpr)\n",
    "print('AUC of testing set:', B_test_auroc_lr)\n",
    "\n",
    "#tuned\n",
    "lrB_rsCV = lrB_rscv.fit(B_X_train_overlap, B_y_train)\n",
    "print('--> Tuned Parameters Best Score: ', lrB_rsCV.best_score_)\n",
    "print('--> Best Parameters: \\n', lrB_rsCV.best_params_)\n",
    "\n",
    "B_y_train_pred = lrB_rsCV.predict_proba(B_X_train_overlap)\n",
    "fpr, tpr, thresholds = roc_curve(B_y_train, B_y_train_pred[:, 1])\n",
    "B_train_auroc_lr_tuned = auc(fpr, tpr)\n",
    "print('AUC of training set:', B_train_auroc_lr_tuned)\n",
    "\n",
    "B_y_test_pred = lrB_rsCV.predict_proba(B_X_test_overlap)\n",
    "fpr, tpr, thresholds = roc_curve(B_y_test, B_y_test_pred[:, 1])\n",
    "B_test_auroc_lr_tuned = auc(fpr, tpr)\n",
    "print('AUC of testing set:', B_test_auroc_lr_tuned)\n",
    "\n",
    "#calibrated\n",
    "lrB_cccv = CalibratedClassifierCV(base_estimator=lrB_rsCV.best_estimator_, cv=5)\n",
    "lrB_ccCV = lrB_cccv.fit(B_X_train_overlap, B_y_train)\n",
    "\n",
    "B_y_train_pred = lrB_ccCV.predict_proba(B_X_train_overlap)\n",
    "fpr, tpr, thresholds = roc_curve(B_y_train, B_y_train_pred[:, 1])\n",
    "B_train_auroc_lr_cc = auc(fpr, tpr)\n",
    "print('AUC of training set:', B_train_auroc_lr_cc)\n",
    "\n",
    "B_y_test_pred = lrB_ccCV.predict_proba(B_X_test_overlap)\n",
    "fpr, tpr, thresholds = roc_curve(B_y_test, B_y_test_pred[:, 1])\n",
    "B_test_auroc_lr_cc = auc(fpr, tpr)\n",
    "print('AUC of testing set:', B_test_auroc_lr_cc)"
   ]
  },
  {
   "cell_type": "code",
   "execution_count": 32,
   "id": "d1b636cb",
   "metadata": {},
   "outputs": [
    {
     "data": {
      "image/png": "[encoded data removed]",
      "text/plain": [
       "<Figure size 432x288 with 1 Axes>"
      ]
     },
     "metadata": {
      "needs_background": "light"
     },
     "output_type": "display_data"
    }
   ],
   "source": [
    "B_et_list = [B_test_auroc_et, B_test_auroc_et_tuned, B_test_auroc_et_cc]\n",
    "B_xgbc_list = [B_test_auroc_xgbc, B_test_auroc_xgbc_tuned, B_test_auroc_xgbc_cc]\n",
    "B_lr_list = [B_test_auroc_lr, B_test_auroc_lr_tuned, B_test_auroc_lr_cc]\n",
    "x = \"Based\",\"Tuned\",\"Calibrated\"\n",
    "\n",
    "plt.plot(x, B_et_list, label = \"ET\")\n",
    "plt.plot(x, B_xgbc_list, label = \"XGBC\")\n",
    "plt.plot(x, B_lr_list, label = \"LR\")\n",
    "plt.legend()\n",
    "for i in range(len(x)):\n",
    "    plt.annotate(round(B_et_list[i],3), (x[i], B_et_list[i]))\n",
    "    plt.annotate(round(B_xgbc_list[i],3), (x[i], B_xgbc_list[i]))\n",
    "    plt.annotate(round(B_lr_list[i],3), (x[i], B_lr_list[i]))\n",
    "plt.title('TSR_ALL1_B_Overlap', fontsize=15)\n",
    "plt.savefig('INFO/TSR_ALL1/TSR_ALL1_B_Overlap.png')\n",
    "plt.show()"
   ]
  },
  {
   "cell_type": "markdown",
   "id": "59838aad",
   "metadata": {},
   "source": [
    "# Machine Learning - TSR_ALL3"
   ]
  },
  {
   "cell_type": "markdown",
   "id": "54205ce2",
   "metadata": {},
   "source": [
    "## Preprocess input data (GOOD when Discharge)"
   ]
  },
  {
   "cell_type": "code",
   "execution_count": 33,
   "id": "0090ff93",
   "metadata": {},
   "outputs": [],
   "source": [
    "## discharged mRS = GOOD (tsr_all3_df.discharged_mrs == 1)\n",
    "mrs_dis1 = tsr_all3_df[(tsr_all3_df.discharged_mrs == 1) | (tsr_all3_df.discharged_mrs == 0) | (tsr_all3_df.discharged_mrs == 2)]"
   ]
  },
  {
   "cell_type": "code",
   "execution_count": 34,
   "id": "eca129a2",
   "metadata": {},
   "outputs": [
    {
     "name": "stdout",
     "output_type": "stream",
     "text": [
      "(18940, 230)\n"
     ]
    }
   ],
   "source": [
    "## input dataset\n",
    "tsr_3G_input = mrs_dis1.drop([\"icase_id\", \"idcase_id\", \"mrs_tx_1\", \"mrs_tx_3\"], axis=1)\n",
    "print(tsr_3G_input.shape)\n",
    "tsr_3G_input = tsr_3G_input.astype(\"float64\")\n",
    "tsr_3G_input = np.array(tsr_3G_input.values)"
   ]
  },
  {
   "cell_type": "code",
   "execution_count": 35,
   "id": "ecac6182",
   "metadata": {},
   "outputs": [
    {
     "name": "stdout",
     "output_type": "stream",
     "text": [
      "(18940,)\n"
     ]
    }
   ],
   "source": [
    "## output dataset\n",
    "tsr_3G_output = mrs_dis1.mrs_tx_3\n",
    "print(tsr_3G_output.shape)\n",
    "tsr_3G_output = tsr_3G_output.astype(\"float64\")\n",
    "tsr_3G_output = np.array(tsr_3G_output.values)"
   ]
  },
  {
   "cell_type": "code",
   "execution_count": 36,
   "id": "d77d5b28",
   "metadata": {},
   "outputs": [
    {
     "name": "stdout",
     "output_type": "stream",
     "text": [
      "The shape of GOOD's X_train: (13258, 230)\n",
      "The shape of GOOD's y_train: (13258,)\n",
      "The shape of GOOD's X_test: (5682, 230)\n",
      "The shape of GOOD's y_test: (5682,)\n"
     ]
    }
   ],
   "source": [
    "## train_test_split\n",
    "G_X_train, G_X_test, G_y_train, G_y_test = train_test_split(tsr_3G_input, tsr_3G_output, test_size=0.3, random_state=19)\n",
    "print(\"The shape of GOOD's X_train:\", G_X_train.shape)\n",
    "print(\"The shape of GOOD's y_train:\", G_y_train.shape)\n",
    "print(\"The shape of GOOD's X_test:\", G_X_test.shape)\n",
    "print(\"The shape of GOOD's y_test:\", G_y_test.shape)"
   ]
  },
  {
   "cell_type": "code",
   "execution_count": 37,
   "id": "35af2d67",
   "metadata": {},
   "outputs": [],
   "source": [
    "## scale G_X_train\n",
    "from sklearn.preprocessing import MinMaxScaler\n",
    "from sklearn.preprocessing import OrdinalEncoder\n",
    "from sklearn.preprocessing import OneHotEncoder\n",
    "G_X_train = pd.DataFrame(G_X_train)\n",
    "G_X_train.columns = tsr_all3_df.drop([\"icase_id\", \"idcase_id\", \"mrs_tx_1\", \"mrs_tx_3\"], axis=1).columns\n",
    "\n",
    "scaler = MinMaxScaler()\n",
    "G_X_train[continuous] = scaler.fit_transform(G_X_train[continuous])\n",
    "\n",
    "encoder = OrdinalEncoder(handle_unknown=\"use_encoded_value\", unknown_value=6)\n",
    "G_X_train[ordinal_features] = encoder.fit_transform(G_X_train[ordinal_features])\n",
    "\n",
    "ohe = OneHotEncoder(sparse=False, handle_unknown = \"ignore\")\n",
    "nominal_train = ohe.fit_transform(G_X_train[nominal_features])\n",
    "G_X_train = pd.concat([G_X_train, pd.DataFrame(nominal_train)], axis=1)\n",
    "G_X_train = G_X_train.drop(nominal_features, axis=1)\n",
    "\n",
    "G_x_train_columns = list(G_X_train.columns)\n",
    "G_x_train_columns = G_x_train_columns[0:200]\n",
    "get_feature_name = list(ohe.get_feature_names(nominal_features))\n",
    "G_x_train_columns = G_x_train_columns+get_feature_name\n",
    "\n",
    "G_X_train.columns = G_x_train_columns\n",
    "G_X_train_overlap = G_X_train[T_I[\"G3\"][0:9]]\n",
    "\n",
    "G_X_train_overlap = np.array(G_X_train_overlap.values)"
   ]
  },
  {
   "cell_type": "code",
   "execution_count": 38,
   "id": "256d5f56",
   "metadata": {},
   "outputs": [],
   "source": [
    "## scale G_X_test\n",
    "G_X_test = pd.DataFrame(G_X_test)\n",
    "G_X_test.columns = tsr_all3_df.drop([\"icase_id\", \"idcase_id\", \"mrs_tx_1\", \"mrs_tx_3\"], axis=1).columns\n",
    "\n",
    "G_X_test[continuous] = scaler.transform(G_X_test[continuous])\n",
    "\n",
    "G_X_test[ordinal_features] = encoder.transform(G_X_test[ordinal_features])\n",
    "\n",
    "nominal_test = ohe.transform(G_X_test[nominal_features])\n",
    "G_X_test = pd.concat([G_X_test, pd.DataFrame(nominal_test)], axis=1)\n",
    "G_X_test = G_X_test.drop(nominal_features, axis=1)\n",
    "\n",
    "G_X_test.columns = G_x_train_columns\n",
    "G_X_test_overlap = G_X_test[T_I[\"G3\"][0:9]]\n",
    "\n",
    "G_X_test_overlap = np.array(G_X_test_overlap.values)"
   ]
  },
  {
   "cell_type": "markdown",
   "id": "ec7b654a",
   "metadata": {},
   "source": [
    "## Extra trees"
   ]
  },
  {
   "cell_type": "code",
   "execution_count": 39,
   "id": "48bd569a",
   "metadata": {},
   "outputs": [],
   "source": [
    "# base et\n",
    "et = ExtraTreesClassifier(random_state=19)\n",
    "\n",
    "#tune et\n",
    "hyperparameters_et = {\"extratreesclassifier__n_estimators\": (25, 100),\n",
    "                      \"extratreesclassifier__criterion\": (\"gini\", \"entropy\"),\n",
    "                      \"extratreesclassifier__max_depth\": (25, 100),\n",
    "                      \"extratreesclassifier__min_samples_split\": (25, 100),\n",
    "                      \"extratreesclassifier__max_features\": (0.1, 0.9),\n",
    "                      \"extratreesclassifier__bootstrap\": (True, False),\n",
    "                      \"extratreesclassifier__class_weight\": ('balanced', {0: 1, 1: 32}, {0: 32, 1: 1}),\n",
    "                      \"extratreesclassifier__max_samples\": (0.3, 0.8)}\n",
    "\n",
    "pipeline = make_pipeline(TomekLinks(), ExtraTreesClassifier(random_state=19))\n",
    "\n",
    "etG_rscv = RandomizedSearchCV(estimator=pipeline,\n",
    "                              param_distributions=hyperparameters_et,\n",
    "                              n_jobs=-1,\n",
    "                              scoring='roc_auc',\n",
    "                              verbose=5,                        \n",
    "                              cv=5,\n",
    "                              n_iter = 50,\n",
    "                              random_state = 19)"
   ]
  },
  {
   "cell_type": "code",
   "execution_count": 40,
   "id": "036f4568",
   "metadata": {},
   "outputs": [
    {
     "name": "stdout",
     "output_type": "stream",
     "text": [
      "AUC of training set: 0.9999241643690321\n",
      "AUC of testing set: 0.5954536830521837\n",
      "Fitting 5 folds for each of 50 candidates, totalling 250 fits\n",
      "--> Tuned Parameters Best Score:  0.7177960775738228\n",
      "--> Best Parameters: \n",
      " {'extratreesclassifier__n_estimators': 100, 'extratreesclassifier__min_samples_split': 100, 'extratreesclassifier__max_samples': 0.3, 'extratreesclassifier__max_features': 0.9, 'extratreesclassifier__max_depth': 25, 'extratreesclassifier__criterion': 'gini', 'extratreesclassifier__class_weight': {0: 1, 1: 32}, 'extratreesclassifier__bootstrap': True}\n",
      "AUC of training set: 0.7852948274772689\n",
      "AUC of testing set: 0.7116286717738773\n",
      "AUC of training set: 0.774062275776235\n",
      "AUC of testing set: 0.7191630020954463\n"
     ]
    }
   ],
   "source": [
    "#based\n",
    "et.fit(G_X_train_overlap, G_y_train)\n",
    "\n",
    "G_y_train_pred = et.predict_proba(G_X_train_overlap)\n",
    "fpr, tpr, thresholds = roc_curve(G_y_train, G_y_train_pred[:, 1])\n",
    "G_train_auroc_et = auc(fpr, tpr)\n",
    "print('AUC of training set:', G_train_auroc_et)\n",
    "\n",
    "G_y_test_pred = et.predict_proba(G_X_test_overlap)\n",
    "fpr, tpr, thresholds = roc_curve(G_y_test, G_y_test_pred[:, 1])\n",
    "G_test_auroc_et = auc(fpr, tpr)\n",
    "print('AUC of testing set:', G_test_auroc_et)\n",
    "\n",
    "#tuned\n",
    "etG_rsCV = etG_rscv.fit(G_X_train_overlap, G_y_train)\n",
    "print('--> Tuned Parameters Best Score: ', etG_rsCV.best_score_)\n",
    "print('--> Best Parameters: \\n', etG_rsCV.best_params_)\n",
    "\n",
    "G_y_train_pred = etG_rsCV.predict_proba(G_X_train_overlap)\n",
    "fpr, tpr, thresholds = roc_curve(G_y_train, G_y_train_pred[:, 1])\n",
    "G_train_auroc_et_tuned = auc(fpr, tpr)\n",
    "print('AUC of training set:', G_train_auroc_et_tuned)\n",
    "\n",
    "G_y_test_pred = etG_rsCV.predict_proba(G_X_test_overlap)\n",
    "fpr, tpr, thresholds = roc_curve(G_y_test, G_y_test_pred[:, 1])\n",
    "G_test_auroc_et_tuned = auc(fpr, tpr)\n",
    "print('AUC of testing set:', G_test_auroc_et_tuned)\n",
    "\n",
    "#calibrated\n",
    "etG_cccv = CalibratedClassifierCV(base_estimator=etG_rsCV.best_estimator_, cv=5)\n",
    "etG_ccCV = etG_cccv.fit(G_X_train_overlap, G_y_train)\n",
    "\n",
    "G_y_train_pred = etG_ccCV.predict_proba(G_X_train_overlap)\n",
    "fpr, tpr, thresholds = roc_curve(G_y_train, G_y_train_pred[:, 1])\n",
    "G_train_auroc_et_cc = auc(fpr, tpr)\n",
    "print('AUC of training set:', G_train_auroc_et_cc)\n",
    "\n",
    "G_y_test_pred = etG_ccCV.predict_proba(G_X_test_overlap)\n",
    "fpr, tpr, thresholds = roc_curve(G_y_test, G_y_test_pred[:, 1])\n",
    "G_test_auroc_et_cc = auc(fpr, tpr)\n",
    "print('AUC of testing set:', G_test_auroc_et_cc)"
   ]
  },
  {
   "cell_type": "markdown",
   "id": "76897ffd",
   "metadata": {},
   "source": [
    "## XGBClassifier"
   ]
  },
  {
   "cell_type": "code",
   "execution_count": 41,
   "id": "29e6628d",
   "metadata": {},
   "outputs": [],
   "source": [
    "# base xgbc\n",
    "xgbc = XGBClassifier(random_state=19, use_label_encoder=False, eval_metric = \"auc\", tree_method = \"hist\", n_jobs=-1)\n",
    "\n",
    "# tune xgbc\n",
    "hyperparameters_xgbc = {\"xgbclassifier__booster\": (\"gbtree\", \"dart\"),\n",
    "                        \"xgbclassifier__learning_rate\": (0.01, 0.1),\n",
    "                        \"xgbclassifier__max_depth\": (25, 50),\n",
    "                        \"xgbclassifier__subsample\": (0.3, 0.8),\n",
    "                        \"xgbclassifier__colsample_bytree\": (0.3, 0.8),\n",
    "                        \"xgbclassifier__reg_lambda\": (0.1, 10),\n",
    "                        \"xgbclassifier__reg_alpha\": (0.1, 10),\n",
    "                        \"xgbclassifier__gamma\": (0.1, 10),\n",
    "                        \"xgbclassifier__n_estimators\": (25, 100),\n",
    "                        \"xgbclassifier__scale_pos_weight\": (0.04, 32)}\n",
    "\n",
    "pipeline = make_pipeline(TomekLinks(), XGBClassifier(random_state=19, use_label_encoder=False, eval_metric=\"auc\", tree_method = \"hist\"))\n",
    "\n",
    "xgbcG_rscv = RandomizedSearchCV(estimator=pipeline,                       \n",
    "                                param_distributions=hyperparameters_xgbc,                      \n",
    "                                n_jobs=-1,                      \n",
    "                                scoring=\"roc_auc\",                     \n",
    "                                verbose=5,                      \n",
    "                                cv=5,                        \n",
    "                                n_iter=50,\n",
    "                                random_state = 19)"
   ]
  },
  {
   "cell_type": "code",
   "execution_count": 42,
   "id": "c4461c40",
   "metadata": {},
   "outputs": [
    {
     "name": "stdout",
     "output_type": "stream",
     "text": [
      "AUC of training sxgbc: 0.9528135906920899\n",
      "AUC of testing sxgbc: 0.6544035989392067\n",
      "Fitting 5 folds for each of 50 candidates, totalling 250 fits\n",
      "--> Tuned Paramxgbcers Best Score:  0.7210301441187495\n",
      "--> Best Paramxgbcers: \n",
      " {'xgbclassifier__subsample': 0.8, 'xgbclassifier__scale_pos_weight': 0.04, 'xgbclassifier__reg_lambda': 10, 'xgbclassifier__reg_alpha': 0.1, 'xgbclassifier__n_estimators': 100, 'xgbclassifier__max_depth': 50, 'xgbclassifier__learning_rate': 0.1, 'xgbclassifier__gamma': 0.1, 'xgbclassifier__colsample_bytree': 0.3, 'xgbclassifier__booster': 'dart'}\n",
      "AUC of training sxgbc: 0.7711258461591731\n",
      "AUC of testing sxgbc: 0.7270923893566518\n",
      "AUC of training sxgbc: 0.7652833951634179\n",
      "AUC of testing sxgbc: 0.7274305277404176\n"
     ]
    }
   ],
   "source": [
    "#based\n",
    "xgbc.fit(G_X_train_overlap, G_y_train)\n",
    "\n",
    "G_y_train_pred = xgbc.predict_proba(G_X_train_overlap)\n",
    "fpr, tpr, thresholds = roc_curve(G_y_train, G_y_train_pred[:, 1])\n",
    "G_train_auroc_xgbc = auc(fpr, tpr)\n",
    "print('AUC of training sxgbc:', G_train_auroc_xgbc)\n",
    "\n",
    "G_y_test_pred = xgbc.predict_proba(G_X_test_overlap)\n",
    "fpr, tpr, thresholds = roc_curve(G_y_test, G_y_test_pred[:, 1])\n",
    "G_test_auroc_xgbc = auc(fpr, tpr)\n",
    "print('AUC of testing sxgbc:', G_test_auroc_xgbc)\n",
    "\n",
    "#tuned\n",
    "xgbcG_rsCV = xgbcG_rscv.fit(G_X_train_overlap, G_y_train)\n",
    "print('--> Tuned Paramxgbcers Best Score: ', xgbcG_rsCV.best_score_)\n",
    "print('--> Best Paramxgbcers: \\n', xgbcG_rsCV.best_params_)\n",
    "\n",
    "G_y_train_pred = xgbcG_rsCV.predict_proba(G_X_train_overlap)\n",
    "fpr, tpr, thresholds = roc_curve(G_y_train, G_y_train_pred[:, 1])\n",
    "G_train_auroc_xgbc_tuned = auc(fpr, tpr)\n",
    "print('AUC of training sxgbc:', G_train_auroc_xgbc_tuned)\n",
    "\n",
    "G_y_test_pred = xgbcG_rsCV.predict_proba(G_X_test_overlap)\n",
    "fpr, tpr, thresholds = roc_curve(G_y_test, G_y_test_pred[:, 1])\n",
    "G_test_auroc_xgbc_tuned = auc(fpr, tpr)\n",
    "print('AUC of testing sxgbc:', G_test_auroc_xgbc_tuned)\n",
    "\n",
    "#calibrated\n",
    "xgbcG_cccv = CalibratedClassifierCV(base_estimator=xgbcG_rsCV.best_estimator_, cv=5)\n",
    "xgbcG_ccCV = xgbcG_cccv.fit(G_X_train_overlap, G_y_train)\n",
    "\n",
    "G_y_train_pred = xgbcG_ccCV.predict_proba(G_X_train_overlap)\n",
    "fpr, tpr, thresholds = roc_curve(G_y_train, G_y_train_pred[:, 1])\n",
    "G_train_auroc_xgbc_cc = auc(fpr, tpr)\n",
    "print('AUC of training sxgbc:', G_train_auroc_xgbc_cc)\n",
    "\n",
    "G_y_test_pred = xgbcG_ccCV.predict_proba(G_X_test_overlap)\n",
    "fpr, tpr, thresholds = roc_curve(G_y_test, G_y_test_pred[:, 1])\n",
    "G_test_auroc_xgbc_cc = auc(fpr, tpr)\n",
    "print('AUC of testing sxgbc:', G_test_auroc_xgbc_cc)"
   ]
  },
  {
   "cell_type": "markdown",
   "id": "575981a2",
   "metadata": {},
   "source": [
    "## LogisticRegression"
   ]
  },
  {
   "cell_type": "code",
   "execution_count": 43,
   "id": "07bf6aca",
   "metadata": {},
   "outputs": [],
   "source": [
    "# base lr\n",
    "lr = LogisticRegression(random_state=19)\n",
    "\n",
    "#tune lr\n",
    "hyperparameters_lr = {\"logisticregression__penalty\": (\"l1\", \"l2\", \"elasticnet\", \"none\"),\n",
    "                      \"logisticregression__tol\": (1e-4, 1e-3, 1e-2, 1e-1),\n",
    "                      \"logisticregression__C\": (0.1, 1, 10),\n",
    "                      \"logisticregression__solver\": (\"newton-cg\", \"lbfgs\", \"liblinear\", \"sag\", \"saga\"),\n",
    "                      \"logisticregression__multi_class\": (\"auto\", \"ovr\", \"multinomial\"),\n",
    "                      \"logisticregression__warm_start\": (True, False),\n",
    "                      \"logisticregression__class_weight\": ('balanced', {0: 1, 1: 32}, {0: 32, 1: 1})}\n",
    "\n",
    "pipeline = make_pipeline(TomekLinks(), LogisticRegression(random_state=19))\n",
    "\n",
    "lrG_rscv = RandomizedSearchCV(estimator=pipeline,\n",
    "                              param_distributions=hyperparameters_lr,\n",
    "                              n_jobs=-1,\n",
    "                              scoring='roc_auc',\n",
    "                              verbose=5,                        \n",
    "                              cv=5,\n",
    "                              n_iter = 50,\n",
    "                              random_state = 19)"
   ]
  },
  {
   "cell_type": "code",
   "execution_count": 44,
   "id": "3fc22e37",
   "metadata": {},
   "outputs": [
    {
     "name": "stdout",
     "output_type": "stream",
     "text": [
      "AUC of training set: 0.7210587186782198\n",
      "AUC of testing set: 0.7193455630931651\n",
      "Fitting 5 folds for each of 50 candidates, totalling 250 fits\n",
      "--> Tuned Parameters Best Score:  0.7174128126453414\n",
      "--> Best Parameters: \n",
      " {'logisticregression__warm_start': True, 'logisticregression__tol': 0.0001, 'logisticregression__solver': 'liblinear', 'logisticregression__penalty': 'l1', 'logisticregression__multi_class': 'auto', 'logisticregression__class_weight': {0: 32, 1: 1}, 'logisticregression__C': 1}\n",
      "AUC of training set: 0.7217376140438414\n",
      "AUC of testing set: 0.7191963099911038\n",
      "AUC of training set: 0.7217161581092261\n",
      "AUC of testing set: 0.7195083080010625\n"
     ]
    }
   ],
   "source": [
    "lr.fit(G_X_train_overlap, G_y_train)\n",
    "\n",
    "G_y_train_pred = lr.predict_proba(G_X_train_overlap)\n",
    "fpr, tpr, thresholds = roc_curve(G_y_train, G_y_train_pred[:, 1])\n",
    "G_train_auroc_lr = auc(fpr, tpr)\n",
    "print('AUC of training set:', G_train_auroc_lr)\n",
    "\n",
    "G_y_test_pred = lr.predict_proba(G_X_test_overlap)\n",
    "fpr, tpr, thresholds = roc_curve(G_y_test, G_y_test_pred[:, 1])\n",
    "G_test_auroc_lr = auc(fpr, tpr)\n",
    "print('AUC of testing set:', G_test_auroc_lr)\n",
    "\n",
    "#tuned\n",
    "lrG_rsCV = lrG_rscv.fit(G_X_train_overlap, G_y_train)\n",
    "print('--> Tuned Parameters Best Score: ', lrG_rsCV.best_score_)\n",
    "print('--> Best Parameters: \\n', lrG_rsCV.best_params_)\n",
    "\n",
    "G_y_train_pred = lrG_rsCV.predict_proba(G_X_train_overlap)\n",
    "fpr, tpr, thresholds = roc_curve(G_y_train, G_y_train_pred[:, 1])\n",
    "G_train_auroc_lr_tuned = auc(fpr, tpr)\n",
    "print('AUC of training set:', G_train_auroc_lr_tuned)\n",
    "\n",
    "G_y_test_pred = lrG_rsCV.predict_proba(G_X_test_overlap)\n",
    "fpr, tpr, thresholds = roc_curve(G_y_test, G_y_test_pred[:, 1])\n",
    "G_test_auroc_lr_tuned = auc(fpr, tpr)\n",
    "print('AUC of testing set:', G_test_auroc_lr_tuned)\n",
    "\n",
    "#calibrated\n",
    "lrG_cccv = CalibratedClassifierCV(base_estimator=lrG_rsCV.best_estimator_, cv=5)\n",
    "lrG_ccCV = lrG_cccv.fit(G_X_train_overlap, G_y_train)\n",
    "\n",
    "G_y_train_pred = lrG_ccCV.predict_proba(G_X_train_overlap)\n",
    "fpr, tpr, thresholds = roc_curve(G_y_train, G_y_train_pred[:, 1])\n",
    "G_train_auroc_lr_cc = auc(fpr, tpr)\n",
    "print('AUC of training set:', G_train_auroc_lr_cc)\n",
    "\n",
    "G_y_test_pred = lrG_ccCV.predict_proba(G_X_test_overlap)\n",
    "fpr, tpr, thresholds = roc_curve(G_y_test, G_y_test_pred[:, 1])\n",
    "G_test_auroc_lr_cc = auc(fpr, tpr)\n",
    "print('AUC of testing set:', G_test_auroc_lr_cc)"
   ]
  },
  {
   "cell_type": "code",
   "execution_count": 45,
   "id": "c536d805",
   "metadata": {},
   "outputs": [
    {
     "data": {
      "image/png": "[encoded data removed]",
      "text/plain": [
       "<Figure size 432x288 with 1 Axes>"
      ]
     },
     "metadata": {
      "needs_background": "light"
     },
     "output_type": "display_data"
    }
   ],
   "source": [
    "G_et_list = [G_test_auroc_et, G_test_auroc_et_tuned, G_test_auroc_et_cc]\n",
    "G_xgbc_list = [G_test_auroc_xgbc, G_test_auroc_xgbc_tuned, G_test_auroc_xgbc_cc]\n",
    "G_lr_list = [G_test_auroc_lr, G_test_auroc_lr_tuned, G_test_auroc_lr_cc]\n",
    "x = \"Based\",\"Tuned\",\"Calibrated\"\n",
    "\n",
    "plt.plot(x, G_et_list, label = \"ET\")\n",
    "plt.plot(x, G_xgbc_list, label = \"XGBC\")\n",
    "plt.plot(x, G_lr_list, label = \"LR\")\n",
    "plt.legend()\n",
    "for i in range(len(x)):\n",
    "    plt.annotate(round(G_et_list[i],3), (x[i], G_et_list[i]))\n",
    "    plt.annotate(round(G_xgbc_list[i],3), (x[i], G_xgbc_list[i]))\n",
    "    plt.annotate(round(G_lr_list[i],3), (x[i], G_lr_list[i]))\n",
    "plt.title('TSR_ALL3_G_Overlap', fontsize=15)\n",
    "plt.savefig('INFO/TSR_ALL3/TSR_ALL3_G_Overlap.png')\n",
    "plt.show()"
   ]
  },
  {
   "cell_type": "markdown",
   "id": "821ad321",
   "metadata": {},
   "source": [
    "# Machine Learning - TSR_ALL3"
   ]
  },
  {
   "cell_type": "markdown",
   "id": "49e48202",
   "metadata": {},
   "source": [
    "## Preprocess input data (BAD when Discharge)"
   ]
  },
  {
   "cell_type": "code",
   "execution_count": 46,
   "id": "02e0d822",
   "metadata": {},
   "outputs": [],
   "source": [
    "# discharged mRS = BAD (tsr_all3_df.discharged_mrs == 0)\n",
    "mrs_dis0 = tsr_all3_df[(tsr_all3_df.discharged_mrs != 1) & (tsr_all3_df.discharged_mrs != 0) & (tsr_all3_df.discharged_mrs != 2)]"
   ]
  },
  {
   "cell_type": "code",
   "execution_count": 47,
   "id": "7d2bf9f2",
   "metadata": {},
   "outputs": [
    {
     "name": "stdout",
     "output_type": "stream",
     "text": [
      "(20941, 230)\n"
     ]
    }
   ],
   "source": [
    "## input dataset\n",
    "tsr_3B_input = mrs_dis0.drop([\"icase_id\", \"idcase_id\", \"mrs_tx_1\", \"mrs_tx_3\"], axis=1)\n",
    "print(tsr_3B_input.shape)\n",
    "tsr_3B_input = tsr_3B_input.astype(\"float64\")\n",
    "tsr_3B_input = np.array(tsr_3B_input.values)"
   ]
  },
  {
   "cell_type": "code",
   "execution_count": 48,
   "id": "64c394d4",
   "metadata": {},
   "outputs": [
    {
     "name": "stdout",
     "output_type": "stream",
     "text": [
      "(20941,)\n"
     ]
    }
   ],
   "source": [
    "## output dataset\n",
    "tsr_3B_output = mrs_dis0.mrs_tx_3\n",
    "print(tsr_3B_output.shape)\n",
    "tsr_3B_output = tsr_3B_output.astype(\"float64\")\n",
    "tsr_3B_output = np.array(tsr_3B_output.values)"
   ]
  },
  {
   "cell_type": "code",
   "execution_count": 49,
   "id": "2c4ba22a",
   "metadata": {},
   "outputs": [
    {
     "name": "stdout",
     "output_type": "stream",
     "text": [
      "The shape of X_train: (14658, 230)\n",
      "The shape of y_train: (14658,)\n",
      "The shape of X_test: (6283, 230)\n",
      "The shape of y_test: (6283,)\n"
     ]
    }
   ],
   "source": [
    "## train_test_split\n",
    "B_X_train, B_X_test, B_y_train, B_y_test = train_test_split(tsr_3B_input, tsr_3B_output, test_size=0.3, random_state=19)\n",
    "print(\"The shape of X_train:\", B_X_train.shape)\n",
    "print(\"The shape of y_train:\", B_y_train.shape)\n",
    "print(\"The shape of X_test:\", B_X_test.shape)\n",
    "print(\"The shape of y_test:\", B_y_test.shape)"
   ]
  },
  {
   "cell_type": "code",
   "execution_count": 50,
   "id": "55d90f78",
   "metadata": {},
   "outputs": [],
   "source": [
    "## scale B_X_train\n",
    "from sklearn.preprocessing import MinMaxScaler\n",
    "from sklearn.preprocessing import OrdinalEncoder\n",
    "from sklearn.preprocessing import OneHotEncoder\n",
    "\n",
    "B_X_train = pd.DataFrame(B_X_train)\n",
    "B_X_train.columns = tsr_all3_df.drop([\"icase_id\", \"idcase_id\", \"mrs_tx_1\", \"mrs_tx_3\"], axis=1).columns\n",
    "\n",
    "scaler = MinMaxScaler()\n",
    "B_X_train[continuous] = scaler.fit_transform(B_X_train[continuous])\n",
    "\n",
    "encoder = OrdinalEncoder(handle_unknown=\"use_encoded_value\", unknown_value=9)\n",
    "B_X_train[ordinal_features] = encoder.fit_transform(B_X_train[ordinal_features])\n",
    "\n",
    "ohe = OneHotEncoder(sparse=False)\n",
    "nominal_train = ohe.fit_transform(B_X_train[nominal_features])\n",
    "B_X_train = pd.concat([B_X_train, pd.DataFrame(nominal_train)], axis=1)\n",
    "B_X_train = B_X_train.drop(nominal_features, axis=1)\n",
    "\n",
    "B_x_train_columns = list(B_X_train.columns)\n",
    "B_x_train_columns = B_x_train_columns[0:200]\n",
    "get_feature_name = list(ohe.get_feature_names(nominal_features))\n",
    "B_x_train_columns = B_x_train_columns+get_feature_name\n",
    "\n",
    "B_X_train.columns = B_x_train_columns\n",
    "B_X_train_overlap = B_X_train[T_I[\"B3\"][0:18]]\n",
    "\n",
    "B_X_train_overlap = np.array(B_X_train_overlap.values)"
   ]
  },
  {
   "cell_type": "code",
   "execution_count": 51,
   "id": "a7efdf07",
   "metadata": {},
   "outputs": [],
   "source": [
    "## scale B_X_test\n",
    "B_X_test = pd.DataFrame(B_X_test)\n",
    "B_X_test.columns = tsr_all3_df.drop([\"icase_id\", \"idcase_id\", \"mrs_tx_1\", \"mrs_tx_3\"], axis=1).columns\n",
    "\n",
    "B_X_test[continuous] = scaler.transform(B_X_test[continuous])\n",
    "\n",
    "B_X_test[ordinal_features] = encoder.transform(B_X_test[ordinal_features])\n",
    "\n",
    "nominal_test = ohe.transform(B_X_test[nominal_features])\n",
    "B_X_test = pd.concat([B_X_test, pd.DataFrame(nominal_test)], axis=1)\n",
    "B_X_test = B_X_test.drop(nominal_features, axis=1)\n",
    "\n",
    "B_X_test.columns = B_x_train_columns\n",
    "B_X_test_overlap = B_X_test[T_I[\"B3\"][0:18]]\n",
    "\n",
    "B_X_test_overlap = np.array(B_X_test_overlap.values)"
   ]
  },
  {
   "cell_type": "markdown",
   "id": "5628e505",
   "metadata": {},
   "source": [
    "## Algorithms"
   ]
  },
  {
   "cell_type": "markdown",
   "id": "26d8908e",
   "metadata": {},
   "source": [
    "## Extra trees"
   ]
  },
  {
   "cell_type": "code",
   "execution_count": 52,
   "id": "3d7e6188",
   "metadata": {},
   "outputs": [],
   "source": [
    "# base et\n",
    "et = ExtraTreesClassifier(random_state=19)\n",
    "\n",
    "#tune et\n",
    "hyperparameters_et = {\"extratreesclassifier__n_estimators\": (25, 100),\n",
    "                      \"extratreesclassifier__criterion\": (\"gini\", \"entropy\"),\n",
    "                      \"extratreesclassifier__max_depth\": (25, 100),\n",
    "                      \"extratreesclassifier__min_samples_split\": (25, 100),\n",
    "                      \"extratreesclassifier__max_features\": (0.1, 0.9),\n",
    "                      \"extratreesclassifier__bootstrap\": (True, False),\n",
    "                      \"extratreesclassifier__class_weight\": ('balanced', {0: 1, 1: 8}, {0: 8, 1: 1}),\n",
    "                      \"extratreesclassifier__max_samples\": (0.3, 0.8)}\n",
    "\n",
    "pipeline = make_pipeline(TomekLinks(), ExtraTreesClassifier(random_state=19))\n",
    "\n",
    "etB_rscv = RandomizedSearchCV(estimator=pipeline,\n",
    "                              param_distributions=hyperparameters_et,\n",
    "                              n_jobs=-1,\n",
    "                              scoring='roc_auc',\n",
    "                              verbose=5,                        \n",
    "                              cv=5,\n",
    "                              n_iter = 50,\n",
    "                              random_state = 19)"
   ]
  },
  {
   "cell_type": "code",
   "execution_count": 53,
   "id": "f9962e03",
   "metadata": {},
   "outputs": [
    {
     "name": "stdout",
     "output_type": "stream",
     "text": [
      "AUC of training set: 0.9982993754722096\n",
      "AUC of testing set: 0.7843397231035709\n",
      "Fitting 5 folds for each of 50 candidates, totalling 250 fits\n",
      "--> Tuned Parameters Best Score:  0.8555664539804738\n",
      "--> Best Parameters: \n",
      " {'extratreesclassifier__n_estimators': 100, 'extratreesclassifier__min_samples_split': 25, 'extratreesclassifier__max_samples': 0.3, 'extratreesclassifier__max_features': 0.1, 'extratreesclassifier__max_depth': 100, 'extratreesclassifier__criterion': 'gini', 'extratreesclassifier__class_weight': 'balanced', 'extratreesclassifier__bootstrap': True}\n",
      "AUC of training set: 0.8732210904653087\n",
      "AUC of testing set: 0.8568871104832957\n",
      "AUC of training set: 0.8706759773772307\n",
      "AUC of testing set: 0.8574595002623453\n"
     ]
    }
   ],
   "source": [
    "#based\n",
    "et.fit(B_X_train_overlap, B_y_train)\n",
    "\n",
    "B_y_train_pred = et.predict_proba(B_X_train_overlap)\n",
    "fpr, tpr, thresholds = roc_curve(B_y_train, B_y_train_pred[:, 1])\n",
    "B_train_auroc_et = auc(fpr, tpr)\n",
    "print('AUC of training set:', B_train_auroc_et)\n",
    "\n",
    "B_y_test_pred = et.predict_proba(B_X_test_overlap)\n",
    "fpr, tpr, thresholds = roc_curve(B_y_test, B_y_test_pred[:, 1])\n",
    "B_test_auroc_et = auc(fpr, tpr)\n",
    "print('AUC of testing set:', B_test_auroc_et)\n",
    "\n",
    "#tuned\n",
    "etB_rsCV = etB_rscv.fit(B_X_train_overlap, B_y_train)\n",
    "print('--> Tuned Parameters Best Score: ', etB_rsCV.best_score_)\n",
    "print('--> Best Parameters: \\n', etB_rsCV.best_params_)\n",
    "\n",
    "B_y_train_pred = etB_rsCV.predict_proba(B_X_train_overlap)\n",
    "fpr, tpr, thresholds = roc_curve(B_y_train, B_y_train_pred[:, 1])\n",
    "B_train_auroc_et_tuned = auc(fpr, tpr)\n",
    "print('AUC of training set:', B_train_auroc_et_tuned)\n",
    "\n",
    "B_y_test_pred = etB_rsCV.predict_proba(B_X_test_overlap)\n",
    "fpr, tpr, thresholds = roc_curve(B_y_test, B_y_test_pred[:, 1])\n",
    "B_test_auroc_et_tuned = auc(fpr, tpr)\n",
    "print('AUC of testing set:', B_test_auroc_et_tuned)\n",
    "\n",
    "#calibrated\n",
    "etB_cccv = CalibratedClassifierCV(base_estimator=etB_rsCV.best_estimator_, cv=5)\n",
    "etB_ccCV = etB_cccv.fit(B_X_train_overlap, B_y_train)\n",
    "\n",
    "B_y_train_pred = etB_ccCV.predict_proba(B_X_train_overlap)\n",
    "fpr, tpr, thresholds = roc_curve(B_y_train, B_y_train_pred[:, 1])\n",
    "B_train_auroc_et_cc = auc(fpr, tpr)\n",
    "print('AUC of training set:', B_train_auroc_et_cc)\n",
    "\n",
    "B_y_test_pred = etB_ccCV.predict_proba(B_X_test_overlap)\n",
    "fpr, tpr, thresholds = roc_curve(B_y_test, B_y_test_pred[:, 1])\n",
    "B_test_auroc_et_cc = auc(fpr, tpr)\n",
    "print('AUC of testing set:', B_test_auroc_et_cc)"
   ]
  },
  {
   "cell_type": "markdown",
   "id": "0634df00",
   "metadata": {},
   "source": [
    "## XGBClassifier"
   ]
  },
  {
   "cell_type": "code",
   "execution_count": 54,
   "id": "012bae97",
   "metadata": {},
   "outputs": [],
   "source": [
    "# base xgbc\n",
    "xgbc = XGBClassifier(random_state=19, use_label_encoder=False, eval_metric = \"auc\", tree_method = \"hist\", n_jobs=-1)\n",
    "\n",
    "# tune xgbc\n",
    "hyperparameters_xgbc = {\"xgbclassifier__booster\": (\"gbtree\", \"dart\"),\n",
    "                        \"xgbclassifier__learning_rate\": (0.01, 0.1),\n",
    "                        \"xgbclassifier__max_depth\": (25, 50),\n",
    "                        \"xgbclassifier__subsample\": (0.3, 0.8),\n",
    "                        \"xgbclassifier__colsample_bytree\": (0.3, 0.8),\n",
    "                        \"xgbclassifier__reg_lambda\": (0.1, 10),\n",
    "                        \"xgbclassifier__reg_alpha\": (0.1, 10),\n",
    "                        \"xgbclassifier__gamma\": (0.1, 10),\n",
    "                        \"xgbclassifier__n_estimators\": (25, 100),\n",
    "                        \"xgbclassifier__scale_pos_weight\": (0.15, 8)}\n",
    "\n",
    "pipeline = make_pipeline(TomekLinks(), XGBClassifier(random_state=19, use_label_encoder=False, eval_metric=\"auc\", tree_method = \"hist\"))\n",
    "\n",
    "xgbcB_rscv = RandomizedSearchCV(estimator=pipeline,                       \n",
    "                                param_distributions=hyperparameters_xgbc,                      \n",
    "                                n_jobs=-1,                      \n",
    "                                scoring=\"roc_auc\",                     \n",
    "                                verbose=5,                      \n",
    "                                cv=5,                        \n",
    "                                n_iter=50,\n",
    "                                random_state = 19)"
   ]
  },
  {
   "cell_type": "code",
   "execution_count": 55,
   "id": "4c8c4bbf",
   "metadata": {},
   "outputs": [
    {
     "name": "stdout",
     "output_type": "stream",
     "text": [
      "AUC of training sxgbc: 0.9327366098623647\n",
      "AUC of testing sxgbc: 0.8477554533631635\n",
      "Fitting 5 folds for each of 50 candidates, totalling 250 fits\n",
      "--> Tuned Paramxgbcers Best Score:  0.8574821496704585\n",
      "--> Best Paramxgbcers: \n",
      " {'xgbclassifier__subsample': 0.3, 'xgbclassifier__scale_pos_weight': 8, 'xgbclassifier__reg_lambda': 0.1, 'xgbclassifier__reg_alpha': 10, 'xgbclassifier__n_estimators': 100, 'xgbclassifier__max_depth': 50, 'xgbclassifier__learning_rate': 0.1, 'xgbclassifier__gamma': 0.1, 'xgbclassifier__colsample_bytree': 0.3, 'xgbclassifier__booster': 'gbtree'}\n",
      "AUC of training sxgbc: 0.8703039689828516\n",
      "AUC of testing sxgbc: 0.8571510361921596\n",
      "AUC of training sxgbc: 0.8686541472500265\n",
      "AUC of testing sxgbc: 0.8594890128172784\n"
     ]
    }
   ],
   "source": [
    "#based\n",
    "xgbc.fit(B_X_train_overlap, B_y_train)\n",
    "\n",
    "B_y_train_pred = xgbc.predict_proba(B_X_train_overlap)\n",
    "fpr, tpr, thresholds = roc_curve(B_y_train, B_y_train_pred[:, 1])\n",
    "B_train_auroc_xgbc = auc(fpr, tpr)\n",
    "print('AUC of training sxgbc:', B_train_auroc_xgbc)\n",
    "\n",
    "B_y_test_pred = xgbc.predict_proba(B_X_test_overlap)\n",
    "fpr, tpr, thresholds = roc_curve(B_y_test, B_y_test_pred[:, 1])\n",
    "B_test_auroc_xgbc = auc(fpr, tpr)\n",
    "print('AUC of testing sxgbc:', B_test_auroc_xgbc)\n",
    "\n",
    "#tuned\n",
    "xgbcB_rsCV = xgbcB_rscv.fit(B_X_train_overlap, B_y_train)\n",
    "print('--> Tuned Paramxgbcers Best Score: ', xgbcB_rsCV.best_score_)\n",
    "print('--> Best Paramxgbcers: \\n', xgbcB_rsCV.best_params_)\n",
    "\n",
    "B_y_train_pred = xgbcB_rsCV.predict_proba(B_X_train_overlap)\n",
    "fpr, tpr, thresholds = roc_curve(B_y_train, B_y_train_pred[:, 1])\n",
    "B_train_auroc_xgbc_tuned = auc(fpr, tpr)\n",
    "print('AUC of training sxgbc:', B_train_auroc_xgbc_tuned)\n",
    "\n",
    "B_y_test_pred = xgbcB_rsCV.predict_proba(B_X_test_overlap)\n",
    "fpr, tpr, thresholds = roc_curve(B_y_test, B_y_test_pred[:, 1])\n",
    "B_test_auroc_xgbc_tuned = auc(fpr, tpr)\n",
    "print('AUC of testing sxgbc:', B_test_auroc_xgbc_tuned)\n",
    "\n",
    "#calibrated\n",
    "xgbcB_cccv = CalibratedClassifierCV(base_estimator=xgbcB_rsCV.best_estimator_, cv=5)\n",
    "xgbcB_ccCV = xgbcB_cccv.fit(B_X_train_overlap, B_y_train)\n",
    "\n",
    "B_y_train_pred = xgbcB_ccCV.predict_proba(B_X_train_overlap)\n",
    "fpr, tpr, thresholds = roc_curve(B_y_train, B_y_train_pred[:, 1])\n",
    "B_train_auroc_xgbc_cc = auc(fpr, tpr)\n",
    "print('AUC of training sxgbc:', B_train_auroc_xgbc_cc)\n",
    "\n",
    "B_y_test_pred = xgbcB_ccCV.predict_proba(B_X_test_overlap)\n",
    "fpr, tpr, thresholds = roc_curve(B_y_test, B_y_test_pred[:, 1])\n",
    "B_test_auroc_xgbc_cc = auc(fpr, tpr)\n",
    "print('AUC of testing sxgbc:', B_test_auroc_xgbc_cc)"
   ]
  },
  {
   "cell_type": "markdown",
   "id": "dad6e47c",
   "metadata": {},
   "source": [
    "## LogisticRegression"
   ]
  },
  {
   "cell_type": "code",
   "execution_count": 56,
   "id": "e1c17012",
   "metadata": {},
   "outputs": [],
   "source": [
    "# base lr\n",
    "lr = LogisticRegression(random_state=19)\n",
    "\n",
    "#tune lr\n",
    "hyperparameters_lr = {\"logisticregression__penalty\": (\"l1\", \"l2\", \"elasticnet\", \"none\"),\n",
    "                      \"logisticregression__tol\": (1e-4, 1e-3, 1e-2, 1e-1),\n",
    "                      \"logisticregression__C\": (0.1, 1, 10),\n",
    "                      \"logisticregression__solver\": (\"newton-cg\", \"lbfgs\", \"liblinear\", \"sag\", \"saga\"),\n",
    "                      \"logisticregression__multi_class\": (\"auto\", \"ovr\", \"multinomial\"),\n",
    "                      \"logisticregression__warm_start\": (True, False),\n",
    "                      \"logisticregression__class_weight\": ('balanced', {0: 1, 1: 8}, {0: 8, 1: 1})}\n",
    "\n",
    "pipeline = make_pipeline(TomekLinks(), LogisticRegression(random_state=19))\n",
    "\n",
    "lrB_rscv = RandomizedSearchCV(estimator=pipeline,\n",
    "                              param_distributions=hyperparameters_lr,\n",
    "                              n_jobs=-1,\n",
    "                              scoring='roc_auc',\n",
    "                              verbose=5,                        \n",
    "                              cv=5,\n",
    "                              n_iter = 50,\n",
    "                              random_state = 19)"
   ]
  },
  {
   "cell_type": "code",
   "execution_count": 57,
   "id": "2ad6b4c4",
   "metadata": {},
   "outputs": [
    {
     "name": "stdout",
     "output_type": "stream",
     "text": [
      "AUC of training set: 0.8583123061557063\n",
      "AUC of testing set: 0.8565167237236598\n",
      "Fitting 5 folds for each of 50 candidates, totalling 250 fits\n",
      "--> Tuned Parameters Best Score:  0.8572314605337992\n",
      "--> Best Parameters: \n",
      " {'logisticregression__warm_start': False, 'logisticregression__tol': 0.1, 'logisticregression__solver': 'newton-cg', 'logisticregression__penalty': 'l2', 'logisticregression__multi_class': 'ovr', 'logisticregression__class_weight': 'balanced', 'logisticregression__C': 1}\n",
      "AUC of training set: 0.8581287306490697\n",
      "AUC of testing set: 0.8561555319805547\n",
      "AUC of training set: 0.8581211804492601\n",
      "AUC of testing set: 0.8562063919157414\n"
     ]
    }
   ],
   "source": [
    "lr.fit(B_X_train_overlap, B_y_train)\n",
    "\n",
    "B_y_train_pred = lr.predict_proba(B_X_train_overlap)\n",
    "fpr, tpr, thresholds = roc_curve(B_y_train, B_y_train_pred[:, 1])\n",
    "B_train_auroc_lr = auc(fpr, tpr)\n",
    "print('AUC of training set:', B_train_auroc_lr)\n",
    "\n",
    "B_y_test_pred = lr.predict_proba(B_X_test_overlap)\n",
    "fpr, tpr, thresholds = roc_curve(B_y_test, B_y_test_pred[:, 1])\n",
    "B_test_auroc_lr = auc(fpr, tpr)\n",
    "print('AUC of testing set:', B_test_auroc_lr)\n",
    "\n",
    "#tuned\n",
    "lrB_rsCV = lrB_rscv.fit(B_X_train_overlap, B_y_train)\n",
    "print('--> Tuned Parameters Best Score: ', lrB_rsCV.best_score_)\n",
    "print('--> Best Parameters: \\n', lrB_rsCV.best_params_)\n",
    "\n",
    "B_y_train_pred = lrB_rsCV.predict_proba(B_X_train_overlap)\n",
    "fpr, tpr, thresholds = roc_curve(B_y_train, B_y_train_pred[:, 1])\n",
    "B_train_auroc_lr_tuned = auc(fpr, tpr)\n",
    "print('AUC of training set:', B_train_auroc_lr_tuned)\n",
    "\n",
    "B_y_test_pred = lrB_rsCV.predict_proba(B_X_test_overlap)\n",
    "fpr, tpr, thresholds = roc_curve(B_y_test, B_y_test_pred[:, 1])\n",
    "B_test_auroc_lr_tuned = auc(fpr, tpr)\n",
    "print('AUC of testing set:', B_test_auroc_lr_tuned)\n",
    "\n",
    "#calibrated\n",
    "lrB_cccv = CalibratedClassifierCV(base_estimator=lrB_rsCV.best_estimator_, cv=5)\n",
    "lrB_ccCV = lrB_cccv.fit(B_X_train_overlap, B_y_train)\n",
    "\n",
    "B_y_train_pred = lrB_ccCV.predict_proba(B_X_train_overlap)\n",
    "fpr, tpr, thresholds = roc_curve(B_y_train, B_y_train_pred[:, 1])\n",
    "B_train_auroc_lr_cc = auc(fpr, tpr)\n",
    "print('AUC of training set:', B_train_auroc_lr_cc)\n",
    "\n",
    "B_y_test_pred = lrB_ccCV.predict_proba(B_X_test_overlap)\n",
    "fpr, tpr, thresholds = roc_curve(B_y_test, B_y_test_pred[:, 1])\n",
    "B_test_auroc_lr_cc = auc(fpr, tpr)\n",
    "print('AUC of testing set:', B_test_auroc_lr_cc)"
   ]
  },
  {
   "cell_type": "code",
   "execution_count": 58,
   "id": "033451be",
   "metadata": {},
   "outputs": [
    {
     "data": {
      "image/png": "[encoded data removed]",
      "text/plain": [
       "<Figure size 432x288 with 1 Axes>"
      ]
     },
     "metadata": {
      "needs_background": "light"
     },
     "output_type": "display_data"
    }
   ],
   "source": [
    "B_et_list = [B_test_auroc_et, B_test_auroc_et_tuned, B_test_auroc_et_cc]\n",
    "B_xgbc_list = [B_test_auroc_xgbc, B_test_auroc_xgbc_tuned, B_test_auroc_xgbc_cc]\n",
    "B_lr_list = [B_test_auroc_lr, B_test_auroc_lr_tuned, B_test_auroc_lr_cc]\n",
    "x = \"Based\",\"Tuned\",\"Calibrated\"\n",
    "\n",
    "plt.plot(x, B_et_list, label = \"ET\")\n",
    "plt.plot(x, B_xgbc_list, label = \"XGBC\")\n",
    "plt.plot(x, B_lr_list, label = \"LR\")\n",
    "plt.legend()\n",
    "for i in range(len(x)):\n",
    "    plt.annotate(round(B_et_list[i],3), (x[i], B_et_list[i]))\n",
    "    plt.annotate(round(B_xgbc_list[i],3), (x[i], B_xgbc_list[i]))\n",
    "    plt.annotate(round(B_lr_list[i],3), (x[i], B_lr_list[i]))\n",
    "plt.title('TSR_ALL3_B_Overlap', fontsize=15)\n",
    "plt.savefig('INFO/TSR_ALL3/TSR_ALL3_B_Overlap.png')\n",
    "plt.show()"
   ]
  },
  {
   "cell_type": "markdown",
   "id": "70453289",
   "metadata": {},
   "source": [
    "# Machine Learning - TSR_ALL31"
   ]
  },
  {
   "cell_type": "markdown",
   "id": "5d940496",
   "metadata": {},
   "source": [
    "## Preprocess input data (GOOD when Discharge)"
   ]
  },
  {
   "cell_type": "code",
   "execution_count": 59,
   "id": "de6f432e",
   "metadata": {},
   "outputs": [],
   "source": [
    "## discharged mRS = GOOD (tsr_all3_df.discharged_mrs == 1)\n",
    "mrs_dis1 = tsr_all3_df[(tsr_all3_df.discharged_mrs == 1) | (tsr_all3_df.discharged_mrs == 0) | (tsr_all3_df.discharged_mrs == 2)]"
   ]
  },
  {
   "cell_type": "code",
   "execution_count": 60,
   "id": "10d4d620",
   "metadata": {},
   "outputs": [
    {
     "name": "stdout",
     "output_type": "stream",
     "text": [
      "(18940, 231)\n"
     ]
    }
   ],
   "source": [
    "## input dataset\n",
    "tsr_3G_input = mrs_dis1.drop([\"icase_id\", \"idcase_id\", \"mrs_tx_3\"], axis=1)\n",
    "print(tsr_3G_input.shape)\n",
    "tsr_3G_input = tsr_3G_input.astype(\"float64\")\n",
    "tsr_3G_input = np.array(tsr_3G_input.values)"
   ]
  },
  {
   "cell_type": "code",
   "execution_count": 61,
   "id": "76179272",
   "metadata": {},
   "outputs": [
    {
     "name": "stdout",
     "output_type": "stream",
     "text": [
      "(18940,)\n"
     ]
    }
   ],
   "source": [
    "## output dataset\n",
    "tsr_3G_output = mrs_dis1.mrs_tx_3\n",
    "print(tsr_3G_output.shape)\n",
    "tsr_3G_output = tsr_3G_output.astype(\"float64\")\n",
    "tsr_3G_output = np.array(tsr_3G_output.values)"
   ]
  },
  {
   "cell_type": "code",
   "execution_count": 62,
   "id": "775a7be0",
   "metadata": {},
   "outputs": [
    {
     "name": "stdout",
     "output_type": "stream",
     "text": [
      "The shape of GOOD's X_train: (13258, 231)\n",
      "The shape of GOOD's y_train: (13258,)\n",
      "The shape of GOOD's X_test: (5682, 231)\n",
      "The shape of GOOD's y_test: (5682,)\n"
     ]
    }
   ],
   "source": [
    "## train_test_split\n",
    "G_X_train, G_X_test, G_y_train, G_y_test = train_test_split(tsr_3G_input, tsr_3G_output, test_size=0.3, random_state=19)\n",
    "print(\"The shape of GOOD's X_train:\", G_X_train.shape)\n",
    "print(\"The shape of GOOD's y_train:\", G_y_train.shape)\n",
    "print(\"The shape of GOOD's X_test:\", G_X_test.shape)\n",
    "print(\"The shape of GOOD's y_test:\", G_y_test.shape)"
   ]
  },
  {
   "cell_type": "code",
   "execution_count": 63,
   "id": "075ce81f",
   "metadata": {},
   "outputs": [],
   "source": [
    "## scale G_X_train\n",
    "from sklearn.preprocessing import MinMaxScaler\n",
    "from sklearn.preprocessing import OrdinalEncoder\n",
    "from sklearn.preprocessing import OneHotEncoder\n",
    "G_X_train = pd.DataFrame(G_X_train)\n",
    "G_X_train.columns = tsr_all3_df.drop([\"icase_id\", \"idcase_id\", \"mrs_tx_3\"], axis=1).columns\n",
    "\n",
    "scaler = MinMaxScaler()\n",
    "G_X_train[continuous] = scaler.fit_transform(G_X_train[continuous])\n",
    "\n",
    "encoder = OrdinalEncoder(handle_unknown=\"use_encoded_value\", unknown_value=6)\n",
    "G_X_train[ordinal_features] = encoder.fit_transform(G_X_train[ordinal_features])\n",
    "\n",
    "ohe = OneHotEncoder(sparse=False, handle_unknown = \"ignore\")\n",
    "nominal_train = ohe.fit_transform(G_X_train[nominal_features])\n",
    "G_X_train = pd.concat([G_X_train, pd.DataFrame(nominal_train)], axis=1)\n",
    "G_X_train = G_X_train.drop(nominal_features, axis=1)\n",
    "\n",
    "G_x_train_columns = list(G_X_train.columns)\n",
    "G_x_train_columns = G_x_train_columns[0:201]\n",
    "get_feature_name = list(ohe.get_feature_names(nominal_features))\n",
    "G_x_train_columns = G_x_train_columns+get_feature_name\n",
    "\n",
    "G_X_train.columns = G_x_train_columns\n",
    "G_X_train_overlap = G_X_train[T_I[\"G31\"][0:9]]\n",
    "\n",
    "G_X_train_overlap = np.array(G_X_train_overlap.values)"
   ]
  },
  {
   "cell_type": "code",
   "execution_count": 64,
   "id": "defea804",
   "metadata": {},
   "outputs": [],
   "source": [
    "## scale G_X_test\n",
    "G_X_test = pd.DataFrame(G_X_test)\n",
    "G_X_test.columns = tsr_all3_df.drop([\"icase_id\", \"idcase_id\", \"mrs_tx_3\"], axis=1).columns\n",
    "\n",
    "G_X_test[continuous] = scaler.transform(G_X_test[continuous])\n",
    "\n",
    "G_X_test[ordinal_features] = encoder.transform(G_X_test[ordinal_features])\n",
    "\n",
    "nominal_test = ohe.transform(G_X_test[nominal_features])\n",
    "G_X_test = pd.concat([G_X_test, pd.DataFrame(nominal_test)], axis=1)\n",
    "G_X_test = G_X_test.drop(nominal_features, axis=1)\n",
    "\n",
    "G_X_test.columns = G_x_train_columns\n",
    "G_X_test_overlap = G_X_test[T_I[\"G31\"][0:9]]\n",
    "                            \n",
    "G_X_test_overlap = np.array(G_X_test_overlap.values)"
   ]
  },
  {
   "cell_type": "markdown",
   "id": "e2a527b8",
   "metadata": {},
   "source": [
    "## Extra trees"
   ]
  },
  {
   "cell_type": "code",
   "execution_count": 65,
   "id": "889d4817",
   "metadata": {},
   "outputs": [],
   "source": [
    "# base et\n",
    "et = ExtraTreesClassifier(random_state=19)\n",
    "\n",
    "#tune et\n",
    "hyperparameters_et = {\"extratreesclassifier__n_estimators\": (25, 100),\n",
    "                      \"extratreesclassifier__criterion\": (\"gini\", \"entropy\"),\n",
    "                      \"extratreesclassifier__max_depth\": (25, 100),\n",
    "                      \"extratreesclassifier__min_samples_split\": (25, 100),\n",
    "                      \"extratreesclassifier__max_features\": (0.1, 0.9),\n",
    "                      \"extratreesclassifier__bootstrap\": (True, False),\n",
    "                      \"extratreesclassifier__class_weight\": ('balanced', {0: 1, 1: 32}, {0: 32, 1: 1}),\n",
    "                      \"extratreesclassifier__max_samples\": (0.3, 0.8)}\n",
    "\n",
    "pipeline = make_pipeline(TomekLinks(), ExtraTreesClassifier(random_state=19))\n",
    "\n",
    "etG_rscv = RandomizedSearchCV(estimator=pipeline,\n",
    "                              param_distributions=hyperparameters_et,\n",
    "                              n_jobs=-1,\n",
    "                              scoring='roc_auc',\n",
    "                              verbose=5,                        \n",
    "                              cv=5,\n",
    "                              n_iter = 50,\n",
    "                              random_state = 19)"
   ]
  },
  {
   "cell_type": "code",
   "execution_count": 66,
   "id": "9480e29f",
   "metadata": {},
   "outputs": [
    {
     "name": "stdout",
     "output_type": "stream",
     "text": [
      "AUC of training set: 0.9999453983457031\n",
      "AUC of testing set: 0.7547421589419051\n",
      "Fitting 5 folds for each of 50 candidates, totalling 250 fits\n",
      "--> Tuned Parameters Best Score:  0.8351675644635304\n",
      "--> Best Parameters: \n",
      " {'extratreesclassifier__n_estimators': 100, 'extratreesclassifier__min_samples_split': 100, 'extratreesclassifier__max_samples': 0.3, 'extratreesclassifier__max_features': 0.9, 'extratreesclassifier__max_depth': 25, 'extratreesclassifier__criterion': 'gini', 'extratreesclassifier__class_weight': {0: 1, 1: 32}, 'extratreesclassifier__bootstrap': True}\n",
      "AUC of training set: 0.8856087943880746\n",
      "AUC of testing set: 0.8492902045273442\n",
      "AUC of training set: 0.8784709968294048\n",
      "AUC of testing set: 0.8501777123799966\n"
     ]
    }
   ],
   "source": [
    "#based\n",
    "et.fit(G_X_train_overlap, G_y_train)\n",
    "\n",
    "G_y_train_pred = et.predict_proba(G_X_train_overlap)\n",
    "fpr, tpr, thresholds = roc_curve(G_y_train, G_y_train_pred[:, 1])\n",
    "G_train_auroc_et = auc(fpr, tpr)\n",
    "print('AUC of training set:', G_train_auroc_et)\n",
    "\n",
    "G_y_test_pred = et.predict_proba(G_X_test_overlap)\n",
    "fpr, tpr, thresholds = roc_curve(G_y_test, G_y_test_pred[:, 1])\n",
    "G_test_auroc_et = auc(fpr, tpr)\n",
    "print('AUC of testing set:', G_test_auroc_et)\n",
    "\n",
    "#tuned\n",
    "etG_rsCV = etG_rscv.fit(G_X_train_overlap, G_y_train)\n",
    "print('--> Tuned Parameters Best Score: ', etG_rsCV.best_score_)\n",
    "print('--> Best Parameters: \\n', etG_rsCV.best_params_)\n",
    "\n",
    "G_y_train_pred = etG_rsCV.predict_proba(G_X_train_overlap)\n",
    "fpr, tpr, thresholds = roc_curve(G_y_train, G_y_train_pred[:, 1])\n",
    "G_train_auroc_et_tuned = auc(fpr, tpr)\n",
    "print('AUC of training set:', G_train_auroc_et_tuned)\n",
    "\n",
    "G_y_test_pred = etG_rsCV.predict_proba(G_X_test_overlap)\n",
    "fpr, tpr, thresholds = roc_curve(G_y_test, G_y_test_pred[:, 1])\n",
    "G_test_auroc_et_tuned = auc(fpr, tpr)\n",
    "print('AUC of testing set:', G_test_auroc_et_tuned)\n",
    "\n",
    "#calibrated\n",
    "etG_cccv = CalibratedClassifierCV(base_estimator=etG_rsCV.best_estimator_, cv=5)\n",
    "etG_ccCV = etG_cccv.fit(G_X_train_overlap, G_y_train)\n",
    "\n",
    "G_y_train_pred = etG_ccCV.predict_proba(G_X_train_overlap)\n",
    "fpr, tpr, thresholds = roc_curve(G_y_train, G_y_train_pred[:, 1])\n",
    "G_train_auroc_et_cc = auc(fpr, tpr)\n",
    "print('AUC of training set:', G_train_auroc_et_cc)\n",
    "\n",
    "G_y_test_pred = etG_ccCV.predict_proba(G_X_test_overlap)\n",
    "fpr, tpr, thresholds = roc_curve(G_y_test, G_y_test_pred[:, 1])\n",
    "G_test_auroc_et_cc = auc(fpr, tpr)\n",
    "print('AUC of testing set:', G_test_auroc_et_cc)"
   ]
  },
  {
   "cell_type": "markdown",
   "id": "3a444e08",
   "metadata": {},
   "source": [
    "## XGBClassifier"
   ]
  },
  {
   "cell_type": "code",
   "execution_count": 67,
   "id": "2516e44a",
   "metadata": {},
   "outputs": [],
   "source": [
    "# base xgbc\n",
    "xgbc = XGBClassifier(random_state=19, use_label_encoder=False, eval_metric = \"auc\", tree_method = \"hist\", n_jobs=-1)\n",
    "\n",
    "# tune xgbc\n",
    "hyperparameters_xgbc = {\"xgbclassifier__booster\": (\"gbtree\", \"dart\"),\n",
    "                        \"xgbclassifier__learning_rate\": (0.01, 0.1),\n",
    "                        \"xgbclassifier__max_depth\": (25, 50),\n",
    "                        \"xgbclassifier__subsample\": (0.3, 0.8),\n",
    "                        \"xgbclassifier__colsample_bytree\": (0.3, 0.8),\n",
    "                        \"xgbclassifier__reg_lambda\": (0.1, 10),\n",
    "                        \"xgbclassifier__reg_alpha\": (0.1, 10),\n",
    "                        \"xgbclassifier__gamma\": (0.1, 10),\n",
    "                        \"xgbclassifier__n_estimators\": (25, 100),\n",
    "                        \"xgbclassifier__scale_pos_weight\": (0.04, 32)}\n",
    "\n",
    "pipeline = make_pipeline(TomekLinks(), XGBClassifier(random_state=19, use_label_encoder=False, eval_metric=\"auc\", tree_method = \"hist\"))\n",
    "\n",
    "xgbcG_rscv = RandomizedSearchCV(estimator=pipeline,                       \n",
    "                                param_distributions=hyperparameters_xgbc,                      \n",
    "                                n_jobs=-1,                      \n",
    "                                scoring=\"roc_auc\",                     \n",
    "                                verbose=5,                      \n",
    "                                cv=5,                        \n",
    "                                n_iter=50,\n",
    "                                random_state = 19)"
   ]
  },
  {
   "cell_type": "code",
   "execution_count": 68,
   "id": "8b66a50f",
   "metadata": {},
   "outputs": [
    {
     "name": "stdout",
     "output_type": "stream",
     "text": [
      "AUC of training sxgbc: 0.9798621996298629\n",
      "AUC of testing sxgbc: 0.8056450558855894\n",
      "Fitting 5 folds for each of 50 candidates, totalling 250 fits\n",
      "--> Tuned Paramxgbcers Best Score:  0.8331504153667997\n",
      "--> Best Paramxgbcers: \n",
      " {'xgbclassifier__subsample': 0.3, 'xgbclassifier__scale_pos_weight': 0.04, 'xgbclassifier__reg_lambda': 10, 'xgbclassifier__reg_alpha': 0.1, 'xgbclassifier__n_estimators': 100, 'xgbclassifier__max_depth': 25, 'xgbclassifier__learning_rate': 0.01, 'xgbclassifier__gamma': 0.1, 'xgbclassifier__colsample_bytree': 0.8, 'xgbclassifier__booster': 'gbtree'}\n",
      "AUC of training sxgbc: 0.8531305762309378\n",
      "AUC of testing sxgbc: 0.8547113807598418\n",
      "AUC of training sxgbc: 0.8504196558852815\n",
      "AUC of testing sxgbc: 0.8567364164920461\n"
     ]
    }
   ],
   "source": [
    "#based\n",
    "xgbc.fit(G_X_train_overlap, G_y_train)\n",
    "\n",
    "G_y_train_pred = xgbc.predict_proba(G_X_train_overlap)\n",
    "fpr, tpr, thresholds = roc_curve(G_y_train, G_y_train_pred[:, 1])\n",
    "G_train_auroc_xgbc = auc(fpr, tpr)\n",
    "print('AUC of training sxgbc:', G_train_auroc_xgbc)\n",
    "\n",
    "G_y_test_pred = xgbc.predict_proba(G_X_test_overlap)\n",
    "fpr, tpr, thresholds = roc_curve(G_y_test, G_y_test_pred[:, 1])\n",
    "G_test_auroc_xgbc = auc(fpr, tpr)\n",
    "print('AUC of testing sxgbc:', G_test_auroc_xgbc)\n",
    "\n",
    "#tuned\n",
    "xgbcG_rsCV = xgbcG_rscv.fit(G_X_train_overlap, G_y_train)\n",
    "print('--> Tuned Paramxgbcers Best Score: ', xgbcG_rsCV.best_score_)\n",
    "print('--> Best Paramxgbcers: \\n', xgbcG_rsCV.best_params_)\n",
    "\n",
    "G_y_train_pred = xgbcG_rsCV.predict_proba(G_X_train_overlap)\n",
    "fpr, tpr, thresholds = roc_curve(G_y_train, G_y_train_pred[:, 1])\n",
    "G_train_auroc_xgbc_tuned = auc(fpr, tpr)\n",
    "print('AUC of training sxgbc:', G_train_auroc_xgbc_tuned)\n",
    "\n",
    "G_y_test_pred = xgbcG_rsCV.predict_proba(G_X_test_overlap)\n",
    "fpr, tpr, thresholds = roc_curve(G_y_test, G_y_test_pred[:, 1])\n",
    "G_test_auroc_xgbc_tuned = auc(fpr, tpr)\n",
    "print('AUC of testing sxgbc:', G_test_auroc_xgbc_tuned)\n",
    "\n",
    "#calibrated\n",
    "xgbcG_cccv = CalibratedClassifierCV(base_estimator=xgbcG_rsCV.best_estimator_, cv=5)\n",
    "xgbcG_ccCV = xgbcG_cccv.fit(G_X_train_overlap, G_y_train)\n",
    "\n",
    "G_y_train_pred = xgbcG_ccCV.predict_proba(G_X_train_overlap)\n",
    "fpr, tpr, thresholds = roc_curve(G_y_train, G_y_train_pred[:, 1])\n",
    "G_train_auroc_xgbc_cc = auc(fpr, tpr)\n",
    "print('AUC of training sxgbc:', G_train_auroc_xgbc_cc)\n",
    "\n",
    "G_y_test_pred = xgbcG_ccCV.predict_proba(G_X_test_overlap)\n",
    "fpr, tpr, thresholds = roc_curve(G_y_test, G_y_test_pred[:, 1])\n",
    "G_test_auroc_xgbc_cc = auc(fpr, tpr)\n",
    "print('AUC of testing sxgbc:', G_test_auroc_xgbc_cc)"
   ]
  },
  {
   "cell_type": "markdown",
   "id": "ff914505",
   "metadata": {},
   "source": [
    "## LogisticRegression"
   ]
  },
  {
   "cell_type": "code",
   "execution_count": 69,
   "id": "5d65bd08",
   "metadata": {},
   "outputs": [],
   "source": [
    "# base lr\n",
    "lr = LogisticRegression(random_state=19)\n",
    "\n",
    "#tune lr\n",
    "hyperparameters_lr = {\"logisticregression__penalty\": (\"l1\", \"l2\", \"elasticnet\", \"none\"),\n",
    "                      \"logisticregression__tol\": (1e-4, 1e-3, 1e-2, 1e-1),\n",
    "                      \"logisticregression__C\": (0.1, 1, 10),\n",
    "                      \"logisticregression__solver\": (\"newton-cg\", \"lbfgs\", \"liblinear\", \"sag\", \"saga\"),\n",
    "                      \"logisticregression__multi_class\": (\"auto\", \"ovr\", \"multinomial\"),\n",
    "                      \"logisticregression__warm_start\": (True, False),\n",
    "                      \"logisticregression__class_weight\": ('balanced', {0: 1, 1: 32}, {0: 32, 1: 1})}\n",
    "\n",
    "pipeline = make_pipeline(TomekLinks(), LogisticRegression(random_state=19))\n",
    "\n",
    "lrG_rscv = RandomizedSearchCV(estimator=pipeline,\n",
    "                              param_distributions=hyperparameters_lr,\n",
    "                              n_jobs=-1,\n",
    "                              scoring='roc_auc',\n",
    "                              verbose=5,                        \n",
    "                              cv=5,\n",
    "                              n_iter = 50,\n",
    "                              random_state = 19)"
   ]
  },
  {
   "cell_type": "code",
   "execution_count": 70,
   "id": "fdc00914",
   "metadata": {},
   "outputs": [
    {
     "name": "stdout",
     "output_type": "stream",
     "text": [
      "AUC of training set: 0.8238544713501865\n",
      "AUC of testing set: 0.8321501300694406\n",
      "Fitting 5 folds for each of 50 candidates, totalling 250 fits\n",
      "--> Tuned Parameters Best Score:  0.8275868823402528\n",
      "--> Best Parameters: \n",
      " {'logisticregression__warm_start': True, 'logisticregression__tol': 0.01, 'logisticregression__solver': 'liblinear', 'logisticregression__penalty': 'l1', 'logisticregression__multi_class': 'ovr', 'logisticregression__class_weight': {0: 32, 1: 1}, 'logisticregression__C': 0.1}\n",
      "AUC of training set: 0.8293940977239397\n",
      "AUC of testing set: 0.8397443302794068\n",
      "AUC of training set: 0.8293260306210222\n",
      "AUC of testing set: 0.8397519194201896\n"
     ]
    }
   ],
   "source": [
    "lr.fit(G_X_train_overlap, G_y_train)\n",
    "\n",
    "G_y_train_pred = lr.predict_proba(G_X_train_overlap)\n",
    "fpr, tpr, thresholds = roc_curve(G_y_train, G_y_train_pred[:, 1])\n",
    "G_train_auroc_lr = auc(fpr, tpr)\n",
    "print('AUC of training set:', G_train_auroc_lr)\n",
    "\n",
    "G_y_test_pred = lr.predict_proba(G_X_test_overlap)\n",
    "fpr, tpr, thresholds = roc_curve(G_y_test, G_y_test_pred[:, 1])\n",
    "G_test_auroc_lr = auc(fpr, tpr)\n",
    "print('AUC of testing set:', G_test_auroc_lr)\n",
    "\n",
    "#tuned\n",
    "lrG_rsCV = lrG_rscv.fit(G_X_train_overlap, G_y_train)\n",
    "print('--> Tuned Parameters Best Score: ', lrG_rsCV.best_score_)\n",
    "print('--> Best Parameters: \\n', lrG_rsCV.best_params_)\n",
    "\n",
    "G_y_train_pred = lrG_rsCV.predict_proba(G_X_train_overlap)\n",
    "fpr, tpr, thresholds = roc_curve(G_y_train, G_y_train_pred[:, 1])\n",
    "G_train_auroc_lr_tuned = auc(fpr, tpr)\n",
    "print('AUC of training set:', G_train_auroc_lr_tuned)\n",
    "\n",
    "G_y_test_pred = lrG_rsCV.predict_proba(G_X_test_overlap)\n",
    "fpr, tpr, thresholds = roc_curve(G_y_test, G_y_test_pred[:, 1])\n",
    "G_test_auroc_lr_tuned = auc(fpr, tpr)\n",
    "print('AUC of testing set:', G_test_auroc_lr_tuned)\n",
    "\n",
    "#calibrated\n",
    "lrG_cccv = CalibratedClassifierCV(base_estimator=lrG_rsCV.best_estimator_, cv=5)\n",
    "lrG_ccCV = lrG_cccv.fit(G_X_train_overlap, G_y_train)\n",
    "\n",
    "G_y_train_pred = lrG_ccCV.predict_proba(G_X_train_overlap)\n",
    "fpr, tpr, thresholds = roc_curve(G_y_train, G_y_train_pred[:, 1])\n",
    "G_train_auroc_lr_cc = auc(fpr, tpr)\n",
    "print('AUC of training set:', G_train_auroc_lr_cc)\n",
    "\n",
    "G_y_test_pred = lrG_ccCV.predict_proba(G_X_test_overlap)\n",
    "fpr, tpr, thresholds = roc_curve(G_y_test, G_y_test_pred[:, 1])\n",
    "G_test_auroc_lr_cc = auc(fpr, tpr)\n",
    "print('AUC of testing set:', G_test_auroc_lr_cc)"
   ]
  },
  {
   "cell_type": "code",
   "execution_count": 71,
   "id": "0d432366",
   "metadata": {},
   "outputs": [
    {
     "data": {
      "image/png": "[encoded data removed]",
      "text/plain": [
       "<Figure size 432x288 with 1 Axes>"
      ]
     },
     "metadata": {
      "needs_background": "light"
     },
     "output_type": "display_data"
    }
   ],
   "source": [
    "G_et_list = [G_test_auroc_et, G_test_auroc_et_tuned, G_test_auroc_et_cc]\n",
    "G_xgbc_list = [G_test_auroc_xgbc, G_test_auroc_xgbc_tuned, G_test_auroc_xgbc_cc]\n",
    "G_lr_list = [G_test_auroc_lr, G_test_auroc_lr_tuned, G_test_auroc_lr_cc]\n",
    "x = \"Based\",\"Tuned\",\"Calibrated\"\n",
    "\n",
    "plt.plot(x, G_et_list, label = \"ET\")\n",
    "plt.plot(x, G_xgbc_list, label = \"XGBC\")\n",
    "plt.plot(x, G_lr_list, label = \"LR\")\n",
    "plt.legend()\n",
    "for i in range(len(x)):\n",
    "    plt.annotate(round(G_et_list[i],3), (x[i], G_et_list[i]))\n",
    "    plt.annotate(round(G_xgbc_list[i],3), (x[i], G_xgbc_list[i]))\n",
    "    plt.annotate(round(G_lr_list[i],3), (x[i], G_lr_list[i]))\n",
    "plt.title('TSR_ALL31_G_Overlap', fontsize=15)\n",
    "plt.savefig('INFO/TSR_ALL3/TSR_ALL31_G_Overlap.png')\n",
    "plt.show()"
   ]
  },
  {
   "cell_type": "markdown",
   "id": "7758b5b4",
   "metadata": {},
   "source": [
    "# Machine Learning - TSR_ALL31"
   ]
  },
  {
   "cell_type": "markdown",
   "id": "cfe07e1a",
   "metadata": {},
   "source": [
    "## Preprocess input data (BAD when Discharge)"
   ]
  },
  {
   "cell_type": "code",
   "execution_count": 72,
   "id": "20c331ee",
   "metadata": {},
   "outputs": [],
   "source": [
    "# discharged mRS = BAD (tsr_all3_df.discharged_mrs == 0)\n",
    "mrs_dis0 = tsr_all3_df[(tsr_all3_df.discharged_mrs != 1) & (tsr_all3_df.discharged_mrs != 0) & (tsr_all3_df.discharged_mrs != 2)]"
   ]
  },
  {
   "cell_type": "code",
   "execution_count": 73,
   "id": "58b9d0e1",
   "metadata": {},
   "outputs": [
    {
     "name": "stdout",
     "output_type": "stream",
     "text": [
      "(20941, 231)\n"
     ]
    }
   ],
   "source": [
    "## input dataset\n",
    "tsr_3B_input = mrs_dis0.drop([\"icase_id\", \"idcase_id\", \"mrs_tx_3\"], axis=1)\n",
    "print(tsr_3B_input.shape)\n",
    "tsr_3B_input = tsr_3B_input.astype(\"float64\")\n",
    "tsr_3B_input = np.array(tsr_3B_input.values)"
   ]
  },
  {
   "cell_type": "code",
   "execution_count": 74,
   "id": "c46590a5",
   "metadata": {},
   "outputs": [
    {
     "name": "stdout",
     "output_type": "stream",
     "text": [
      "(20941,)\n"
     ]
    }
   ],
   "source": [
    "## output dataset\n",
    "tsr_3B_output = mrs_dis0.mrs_tx_3\n",
    "print(tsr_3B_output.shape)\n",
    "tsr_3B_output = tsr_3B_output.astype(\"float64\")\n",
    "tsr_3B_output = np.array(tsr_3B_output.values)"
   ]
  },
  {
   "cell_type": "code",
   "execution_count": 75,
   "id": "71bd52fd",
   "metadata": {},
   "outputs": [
    {
     "name": "stdout",
     "output_type": "stream",
     "text": [
      "The shape of X_train: (14658, 231)\n",
      "The shape of y_train: (14658,)\n",
      "The shape of X_test: (6283, 231)\n",
      "The shape of y_test: (6283,)\n"
     ]
    }
   ],
   "source": [
    "## train_test_split\n",
    "B_X_train, B_X_test, B_y_train, B_y_test = train_test_split(tsr_3B_input, tsr_3B_output, test_size=0.3, random_state=19)\n",
    "print(\"The shape of X_train:\", B_X_train.shape)\n",
    "print(\"The shape of y_train:\", B_y_train.shape)\n",
    "print(\"The shape of X_test:\", B_X_test.shape)\n",
    "print(\"The shape of y_test:\", B_y_test.shape)"
   ]
  },
  {
   "cell_type": "code",
   "execution_count": 76,
   "id": "07b65021",
   "metadata": {},
   "outputs": [],
   "source": [
    "## scale B_X_train\n",
    "from sklearn.preprocessing import MinMaxScaler\n",
    "from sklearn.preprocessing import OrdinalEncoder\n",
    "from sklearn.preprocessing import OneHotEncoder\n",
    "\n",
    "B_X_train = pd.DataFrame(B_X_train)\n",
    "B_X_train.columns = tsr_all3_df.drop([\"icase_id\", \"idcase_id\", \"mrs_tx_3\"], axis=1).columns\n",
    "\n",
    "scaler = MinMaxScaler()\n",
    "B_X_train[continuous] = scaler.fit_transform(B_X_train[continuous])\n",
    "\n",
    "encoder = OrdinalEncoder(handle_unknown=\"use_encoded_value\", unknown_value=9)\n",
    "B_X_train[ordinal_features] = encoder.fit_transform(B_X_train[ordinal_features])\n",
    "\n",
    "ohe = OneHotEncoder(sparse=False)\n",
    "nominal_train = ohe.fit_transform(B_X_train[nominal_features])\n",
    "B_X_train = pd.concat([B_X_train, pd.DataFrame(nominal_train)], axis=1)\n",
    "B_X_train = B_X_train.drop(nominal_features, axis=1)\n",
    "\n",
    "B_x_train_columns = list(B_X_train.columns)\n",
    "B_x_train_columns = B_x_train_columns[0:201]\n",
    "get_feature_name = list(ohe.get_feature_names(nominal_features))\n",
    "B_x_train_columns = B_x_train_columns+get_feature_name\n",
    "\n",
    "B_X_train.columns = B_x_train_columns\n",
    "B_X_train_overlap = B_X_train[T_I[\"B31\"][0:14]]\n",
    "\n",
    "B_X_train_overlap = np.array(B_X_train_overlap.values)"
   ]
  },
  {
   "cell_type": "code",
   "execution_count": 77,
   "id": "64529a1e",
   "metadata": {},
   "outputs": [],
   "source": [
    "## scale B_X_test\n",
    "B_X_test = pd.DataFrame(B_X_test)\n",
    "B_X_test.columns = tsr_all3_df.drop([\"icase_id\", \"idcase_id\", \"mrs_tx_3\"], axis=1).columns\n",
    "\n",
    "B_X_test[continuous] = scaler.transform(B_X_test[continuous])\n",
    "\n",
    "B_X_test[ordinal_features] = encoder.transform(B_X_test[ordinal_features])\n",
    "\n",
    "nominal_test = ohe.transform(B_X_test[nominal_features])\n",
    "B_X_test = pd.concat([B_X_test, pd.DataFrame(nominal_test)], axis=1)\n",
    "B_X_test = B_X_test.drop(nominal_features, axis=1)\n",
    "\n",
    "B_X_test.columns = B_x_train_columns\n",
    "B_X_test_overlap = B_X_test[T_I[\"B31\"][0:14]]\n",
    "\n",
    "B_X_test_overlap = np.array(B_X_test_overlap.values)"
   ]
  },
  {
   "cell_type": "markdown",
   "id": "a6b774dc",
   "metadata": {},
   "source": [
    "## Algorithms"
   ]
  },
  {
   "cell_type": "markdown",
   "id": "76ff83ba",
   "metadata": {},
   "source": [
    "## Extra trees"
   ]
  },
  {
   "cell_type": "code",
   "execution_count": 78,
   "id": "5714adc2",
   "metadata": {},
   "outputs": [],
   "source": [
    "# base et\n",
    "et = ExtraTreesClassifier(random_state=19)\n",
    "\n",
    "#tune et\n",
    "hyperparameters_et = {\"extratreesclassifier__n_estimators\": (25, 100),\n",
    "                      \"extratreesclassifier__criterion\": (\"gini\", \"entropy\"),\n",
    "                      \"extratreesclassifier__max_depth\": (25, 100),\n",
    "                      \"extratreesclassifier__min_samples_split\": (25, 100),\n",
    "                      \"extratreesclassifier__max_features\": (0.1, 0.9),\n",
    "                      \"extratreesclassifier__bootstrap\": (True, False),\n",
    "                      \"extratreesclassifier__class_weight\": ('balanced', {0: 1, 1: 8}, {0: 8, 1: 1}),\n",
    "                      \"extratreesclassifier__max_samples\": (0.3, 0.8)}\n",
    "\n",
    "pipeline = make_pipeline(TomekLinks(), ExtraTreesClassifier(random_state=19))\n",
    "\n",
    "etB_rscv = RandomizedSearchCV(estimator=pipeline,\n",
    "                              param_distributions=hyperparameters_et,\n",
    "                              n_jobs=-1,\n",
    "                              scoring='roc_auc',\n",
    "                              verbose=5,                        \n",
    "                              cv=5,\n",
    "                              n_iter = 50,\n",
    "                              random_state = 19)"
   ]
  },
  {
   "cell_type": "code",
   "execution_count": 79,
   "id": "f94d8dd1",
   "metadata": {},
   "outputs": [
    {
     "name": "stdout",
     "output_type": "stream",
     "text": [
      "AUC of training set: 0.9988399105108058\n",
      "AUC of testing set: 0.8601105384659148\n",
      "Fitting 5 folds for each of 50 candidates, totalling 250 fits\n",
      "--> Tuned Parameters Best Score:  0.9274225037118006\n",
      "--> Best Parameters: \n",
      " {'extratreesclassifier__n_estimators': 100, 'extratreesclassifier__min_samples_split': 100, 'extratreesclassifier__max_samples': 0.8, 'extratreesclassifier__max_features': 0.9, 'extratreesclassifier__max_depth': 100, 'extratreesclassifier__criterion': 'gini', 'extratreesclassifier__class_weight': {0: 1, 1: 8}, 'extratreesclassifier__bootstrap': True}\n",
      "AUC of training set: 0.9407321039649629\n",
      "AUC of testing set: 0.9225156071038398\n",
      "AUC of training set: 0.9389071201734123\n",
      "AUC of testing set: 0.9230097674063099\n"
     ]
    }
   ],
   "source": [
    "#based\n",
    "et.fit(B_X_train_overlap, B_y_train)\n",
    "\n",
    "B_y_train_pred = et.predict_proba(B_X_train_overlap)\n",
    "fpr, tpr, thresholds = roc_curve(B_y_train, B_y_train_pred[:, 1])\n",
    "B_train_auroc_et = auc(fpr, tpr)\n",
    "print('AUC of training set:', B_train_auroc_et)\n",
    "\n",
    "B_y_test_pred = et.predict_proba(B_X_test_overlap)\n",
    "fpr, tpr, thresholds = roc_curve(B_y_test, B_y_test_pred[:, 1])\n",
    "B_test_auroc_et = auc(fpr, tpr)\n",
    "print('AUC of testing set:', B_test_auroc_et)\n",
    "\n",
    "#tuned\n",
    "etB_rsCV = etB_rscv.fit(B_X_train_overlap, B_y_train)\n",
    "print('--> Tuned Parameters Best Score: ', etB_rsCV.best_score_)\n",
    "print('--> Best Parameters: \\n', etB_rsCV.best_params_)\n",
    "\n",
    "B_y_train_pred = etB_rsCV.predict_proba(B_X_train_overlap)\n",
    "fpr, tpr, thresholds = roc_curve(B_y_train, B_y_train_pred[:, 1])\n",
    "B_train_auroc_et_tuned = auc(fpr, tpr)\n",
    "print('AUC of training set:', B_train_auroc_et_tuned)\n",
    "\n",
    "B_y_test_pred = etB_rsCV.predict_proba(B_X_test_overlap)\n",
    "fpr, tpr, thresholds = roc_curve(B_y_test, B_y_test_pred[:, 1])\n",
    "B_test_auroc_et_tuned = auc(fpr, tpr)\n",
    "print('AUC of testing set:', B_test_auroc_et_tuned)\n",
    "\n",
    "#calibrated\n",
    "etB_cccv = CalibratedClassifierCV(base_estimator=etB_rsCV.best_estimator_, cv=5)\n",
    "etB_ccCV = etB_cccv.fit(B_X_train_overlap, B_y_train)\n",
    "\n",
    "B_y_train_pred = etB_ccCV.predict_proba(B_X_train_overlap)\n",
    "fpr, tpr, thresholds = roc_curve(B_y_train, B_y_train_pred[:, 1])\n",
    "B_train_auroc_et_cc = auc(fpr, tpr)\n",
    "print('AUC of training set:', B_train_auroc_et_cc)\n",
    "\n",
    "B_y_test_pred = etB_ccCV.predict_proba(B_X_test_overlap)\n",
    "fpr, tpr, thresholds = roc_curve(B_y_test, B_y_test_pred[:, 1])\n",
    "B_test_auroc_et_cc = auc(fpr, tpr)\n",
    "print('AUC of testing set:', B_test_auroc_et_cc)"
   ]
  },
  {
   "cell_type": "markdown",
   "id": "e8fc24f3",
   "metadata": {},
   "source": [
    "## XGBClassifier"
   ]
  },
  {
   "cell_type": "code",
   "execution_count": 80,
   "id": "fea8b00e",
   "metadata": {},
   "outputs": [],
   "source": [
    "# base xgbc\n",
    "xgbc = XGBClassifier(random_state=19, use_label_encoder=False, eval_metric = \"auc\", tree_method = \"hist\", n_jobs=-1)\n",
    "\n",
    "# tune xgbc\n",
    "hyperparameters_xgbc = {\"xgbclassifier__booster\": (\"gbtree\", \"dart\"),\n",
    "                        \"xgbclassifier__learning_rate\": (0.01, 0.1),\n",
    "                        \"xgbclassifier__max_depth\": (25, 50),\n",
    "                        \"xgbclassifier__subsample\": (0.3, 0.8),\n",
    "                        \"xgbclassifier__colsample_bytree\": (0.3, 0.8),\n",
    "                        \"xgbclassifier__reg_lambda\": (0.1, 10),\n",
    "                        \"xgbclassifier__reg_alpha\": (0.1, 10),\n",
    "                        \"xgbclassifier__gamma\": (0.1, 10),\n",
    "                        \"xgbclassifier__n_estimators\": (25, 100),\n",
    "                        \"xgbclassifier__scale_pos_weight\": (0.15, 8)}\n",
    "\n",
    "pipeline = make_pipeline(TomekLinks(), XGBClassifier(random_state=19, use_label_encoder=False, eval_metric=\"auc\", tree_method = \"hist\"))\n",
    "\n",
    "xgbcB_rscv = RandomizedSearchCV(estimator=pipeline,                       \n",
    "                                param_distributions=hyperparameters_xgbc,                      \n",
    "                                n_jobs=-1,                      \n",
    "                                scoring=\"roc_auc\",                     \n",
    "                                verbose=5,                      \n",
    "                                cv=5,                        \n",
    "                                n_iter=50,\n",
    "                                random_state = 19)"
   ]
  },
  {
   "cell_type": "code",
   "execution_count": 81,
   "id": "c4c14c44",
   "metadata": {},
   "outputs": [
    {
     "name": "stdout",
     "output_type": "stream",
     "text": [
      "AUC of training sxgbc: 0.9639290492520406\n",
      "AUC of testing sxgbc: 0.9170580056124082\n",
      "Fitting 5 folds for each of 50 candidates, totalling 250 fits\n",
      "--> Tuned Paramxgbcers Best Score:  0.929639604468664\n",
      "--> Best Paramxgbcers: \n",
      " {'xgbclassifier__subsample': 0.3, 'xgbclassifier__scale_pos_weight': 8, 'xgbclassifier__reg_lambda': 0.1, 'xgbclassifier__reg_alpha': 10, 'xgbclassifier__n_estimators': 100, 'xgbclassifier__max_depth': 50, 'xgbclassifier__learning_rate': 0.1, 'xgbclassifier__gamma': 10, 'xgbclassifier__colsample_bytree': 0.8, 'xgbclassifier__booster': 'gbtree'}\n",
      "AUC of training sxgbc: 0.9363162033987753\n",
      "AUC of testing sxgbc: 0.9236315085631466\n",
      "AUC of training sxgbc: 0.9358713471721023\n",
      "AUC of testing sxgbc: 0.9236945087935967\n"
     ]
    }
   ],
   "source": [
    "#based\n",
    "xgbc.fit(B_X_train_overlap, B_y_train)\n",
    "\n",
    "B_y_train_pred = xgbc.predict_proba(B_X_train_overlap)\n",
    "fpr, tpr, thresholds = roc_curve(B_y_train, B_y_train_pred[:, 1])\n",
    "B_train_auroc_xgbc = auc(fpr, tpr)\n",
    "print('AUC of training sxgbc:', B_train_auroc_xgbc)\n",
    "\n",
    "B_y_test_pred = xgbc.predict_proba(B_X_test_overlap)\n",
    "fpr, tpr, thresholds = roc_curve(B_y_test, B_y_test_pred[:, 1])\n",
    "B_test_auroc_xgbc = auc(fpr, tpr)\n",
    "print('AUC of testing sxgbc:', B_test_auroc_xgbc)\n",
    "\n",
    "#tuned\n",
    "xgbcB_rsCV = xgbcB_rscv.fit(B_X_train_overlap, B_y_train)\n",
    "print('--> Tuned Paramxgbcers Best Score: ', xgbcB_rsCV.best_score_)\n",
    "print('--> Best Paramxgbcers: \\n', xgbcB_rsCV.best_params_)\n",
    "\n",
    "B_y_train_pred = xgbcB_rsCV.predict_proba(B_X_train_overlap)\n",
    "fpr, tpr, thresholds = roc_curve(B_y_train, B_y_train_pred[:, 1])\n",
    "B_train_auroc_xgbc_tuned = auc(fpr, tpr)\n",
    "print('AUC of training sxgbc:', B_train_auroc_xgbc_tuned)\n",
    "\n",
    "B_y_test_pred = xgbcB_rsCV.predict_proba(B_X_test_overlap)\n",
    "fpr, tpr, thresholds = roc_curve(B_y_test, B_y_test_pred[:, 1])\n",
    "B_test_auroc_xgbc_tuned = auc(fpr, tpr)\n",
    "print('AUC of testing sxgbc:', B_test_auroc_xgbc_tuned)\n",
    "\n",
    "#calibrated\n",
    "xgbcB_cccv = CalibratedClassifierCV(base_estimator=xgbcB_rsCV.best_estimator_, cv=5)\n",
    "xgbcB_ccCV = xgbcB_cccv.fit(B_X_train_overlap, B_y_train)\n",
    "\n",
    "B_y_train_pred = xgbcB_ccCV.predict_proba(B_X_train_overlap)\n",
    "fpr, tpr, thresholds = roc_curve(B_y_train, B_y_train_pred[:, 1])\n",
    "B_train_auroc_xgbc_cc = auc(fpr, tpr)\n",
    "print('AUC of training sxgbc:', B_train_auroc_xgbc_cc)\n",
    "\n",
    "B_y_test_pred = xgbcB_ccCV.predict_proba(B_X_test_overlap)\n",
    "fpr, tpr, thresholds = roc_curve(B_y_test, B_y_test_pred[:, 1])\n",
    "B_test_auroc_xgbc_cc = auc(fpr, tpr)\n",
    "print('AUC of testing sxgbc:', B_test_auroc_xgbc_cc)"
   ]
  },
  {
   "cell_type": "markdown",
   "id": "6330cb24",
   "metadata": {},
   "source": [
    "## LogisticRegression"
   ]
  },
  {
   "cell_type": "code",
   "execution_count": 82,
   "id": "2f29ccc3",
   "metadata": {},
   "outputs": [],
   "source": [
    "# base lr\n",
    "lr = LogisticRegression(random_state=19)\n",
    "\n",
    "#tune lr\n",
    "hyperparameters_lr = {\"logisticregression__penalty\": (\"l1\", \"l2\", \"elasticnet\", \"none\"),\n",
    "                      \"logisticregression__tol\": (1e-4, 1e-3, 1e-2, 1e-1),\n",
    "                      \"logisticregression__C\": (0.1, 1, 10),\n",
    "                      \"logisticregression__solver\": (\"newton-cg\", \"lbfgs\", \"liblinear\", \"sag\", \"saga\"),\n",
    "                      \"logisticregression__multi_class\": (\"auto\", \"ovr\", \"multinomial\"),\n",
    "                      \"logisticregression__warm_start\": (True, False),\n",
    "                      \"logisticregression__class_weight\": ('balanced', {0: 1, 1: 8}, {0: 8, 1: 1})}\n",
    "\n",
    "pipeline = make_pipeline(TomekLinks(), LogisticRegression(random_state=19))\n",
    "\n",
    "lrB_rscv = RandomizedSearchCV(estimator=pipeline,\n",
    "                              param_distributions=hyperparameters_lr,\n",
    "                              n_jobs=-1,\n",
    "                              scoring='roc_auc',\n",
    "                              verbose=5,                        \n",
    "                              cv=5,\n",
    "                              n_iter = 50,\n",
    "                              random_state = 19)"
   ]
  },
  {
   "cell_type": "code",
   "execution_count": 83,
   "id": "159ac050",
   "metadata": {},
   "outputs": [
    {
     "name": "stdout",
     "output_type": "stream",
     "text": [
      "AUC of training set: 0.9300237818409707\n",
      "AUC of testing set: 0.9219594522758527\n",
      "Fitting 5 folds for each of 50 candidates, totalling 250 fits\n",
      "--> Tuned Parameters Best Score:  0.9293479032318646\n",
      "--> Best Parameters: \n",
      " {'logisticregression__warm_start': True, 'logisticregression__tol': 0.001, 'logisticregression__solver': 'liblinear', 'logisticregression__penalty': 'l1', 'logisticregression__multi_class': 'ovr', 'logisticregression__class_weight': {0: 1, 1: 8}, 'logisticregression__C': 0.1}\n",
      "AUC of training set: 0.9299083127442219\n",
      "AUC of testing set: 0.9220911996220849\n",
      "AUC of training set: 0.9298786273169836\n",
      "AUC of testing set: 0.922107290901014\n"
     ]
    }
   ],
   "source": [
    "lr.fit(B_X_train_overlap, B_y_train)\n",
    "\n",
    "B_y_train_pred = lr.predict_proba(B_X_train_overlap)\n",
    "fpr, tpr, thresholds = roc_curve(B_y_train, B_y_train_pred[:, 1])\n",
    "B_train_auroc_lr = auc(fpr, tpr)\n",
    "print('AUC of training set:', B_train_auroc_lr)\n",
    "\n",
    "B_y_test_pred = lr.predict_proba(B_X_test_overlap)\n",
    "fpr, tpr, thresholds = roc_curve(B_y_test, B_y_test_pred[:, 1])\n",
    "B_test_auroc_lr = auc(fpr, tpr)\n",
    "print('AUC of testing set:', B_test_auroc_lr)\n",
    "\n",
    "#tuned\n",
    "lrB_rsCV = lrB_rscv.fit(B_X_train_overlap, B_y_train)\n",
    "print('--> Tuned Parameters Best Score: ', lrB_rsCV.best_score_)\n",
    "print('--> Best Parameters: \\n', lrB_rsCV.best_params_)\n",
    "\n",
    "B_y_train_pred = lrB_rsCV.predict_proba(B_X_train_overlap)\n",
    "fpr, tpr, thresholds = roc_curve(B_y_train, B_y_train_pred[:, 1])\n",
    "B_train_auroc_lr_tuned = auc(fpr, tpr)\n",
    "print('AUC of training set:', B_train_auroc_lr_tuned)\n",
    "\n",
    "B_y_test_pred = lrB_rsCV.predict_proba(B_X_test_overlap)\n",
    "fpr, tpr, thresholds = roc_curve(B_y_test, B_y_test_pred[:, 1])\n",
    "B_test_auroc_lr_tuned = auc(fpr, tpr)\n",
    "print('AUC of testing set:', B_test_auroc_lr_tuned)\n",
    "\n",
    "#calibrated\n",
    "lrB_cccv = CalibratedClassifierCV(base_estimator=lrB_rsCV.best_estimator_, cv=5)\n",
    "lrB_ccCV = lrB_cccv.fit(B_X_train_overlap, B_y_train)\n",
    "\n",
    "B_y_train_pred = lrB_ccCV.predict_proba(B_X_train_overlap)\n",
    "fpr, tpr, thresholds = roc_curve(B_y_train, B_y_train_pred[:, 1])\n",
    "B_train_auroc_lr_cc = auc(fpr, tpr)\n",
    "print('AUC of training set:', B_train_auroc_lr_cc)\n",
    "\n",
    "B_y_test_pred = lrB_ccCV.predict_proba(B_X_test_overlap)\n",
    "fpr, tpr, thresholds = roc_curve(B_y_test, B_y_test_pred[:, 1])\n",
    "B_test_auroc_lr_cc = auc(fpr, tpr)\n",
    "print('AUC of testing set:', B_test_auroc_lr_cc)"
   ]
  },
  {
   "cell_type": "code",
   "execution_count": 84,
   "id": "9ed0987e",
   "metadata": {},
   "outputs": [
    {
     "data": {
      "image/png": "[encoded data removed]",
      "text/plain": [
       "<Figure size 432x288 with 1 Axes>"
      ]
     },
     "metadata": {
      "needs_background": "light"
     },
     "output_type": "display_data"
    }
   ],
   "source": [
    "B_et_list = [B_test_auroc_et, B_test_auroc_et_tuned, B_test_auroc_et_cc]\n",
    "B_xgbc_list = [B_test_auroc_xgbc, B_test_auroc_xgbc_tuned, B_test_auroc_xgbc_cc]\n",
    "B_lr_list = [B_test_auroc_lr, B_test_auroc_lr_tuned, B_test_auroc_lr_cc]\n",
    "x = \"Based\",\"Tuned\",\"Calibrated\"\n",
    "\n",
    "plt.plot(x, B_et_list, label = \"ET\")\n",
    "plt.plot(x, B_xgbc_list, label = \"XGBC\")\n",
    "plt.plot(x, B_lr_list, label = \"LR\")\n",
    "plt.legend()\n",
    "for i in range(len(x)):\n",
    "    plt.annotate(round(B_et_list[i],3), (x[i], B_et_list[i]))\n",
    "    plt.annotate(round(B_xgbc_list[i],3), (x[i], B_xgbc_list[i]))\n",
    "    plt.annotate(round(B_lr_list[i],3), (x[i], B_lr_list[i]))\n",
    "plt.title('TSR_ALL31_B_Overlap', fontsize=15)\n",
    "plt.savefig('INFO/TSR_ALL3/TSR_ALL31_B_Overlap.png')\n",
    "plt.show()"
   ]
  },
  {
   "cell_type": "code",
   "execution_count": null,
   "id": "fb8b7477",
   "metadata": {},
   "outputs": [],
   "source": []
  }
 ],
 "metadata": {
  "kernelspec": {
   "display_name": "Python 3",
   "language": "python",
   "name": "python3"
  },
  "language_info": {
   "codemirror_mode": {
    "name": "ipython",
    "version": 3
   },
   "file_extension": ".py",
   "mimetype": "text/x-python",
   "name": "python",
   "nbconvert_exporter": "python",
   "pygments_lexer": "ipython3",
   "version": "3.8.10"
  }
 },
 "nbformat": 4,
 "nbformat_minor": 5
}
