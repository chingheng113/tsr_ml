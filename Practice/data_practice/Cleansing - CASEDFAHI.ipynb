{
 "cells": [
  {
   "cell_type": "code",
   "execution_count": 1,
   "metadata": {},
   "outputs": [],
   "source": [
    "import pandas as pd\n",
    "import matplotlib.pyplot as plt\n",
    "import seaborn as sns\n",
    "import os\n",
    "from matplotlib.font_manager import FontProperties\n",
    "import numpy as np"
   ]
  },
  {
   "cell_type": "code",
   "execution_count": 2,
   "metadata": {},
   "outputs": [],
   "source": [
    "font_path = os.path.join(\"..\", \"kaiu.ttf\")\n",
    "myfont=FontProperties(fname= font_path, size=14)\n",
    "sns.set(font=myfont.get_name())\n",
    "\n",
    "plt.rcParams['figure.figsize'] = (10,5)"
   ]
  },
  {
   "cell_type": "code",
   "execution_count": 3,
   "metadata": {},
   "outputs": [
    {
     "data": {
      "text/html": [
       "<div>\n",
       "<style scoped>\n",
       "    .dataframe tbody tr th:only-of-type {\n",
       "        vertical-align: middle;\n",
       "    }\n",
       "\n",
       "    .dataframe tbody tr th {\n",
       "        vertical-align: top;\n",
       "    }\n",
       "\n",
       "    .dataframe thead th {\n",
       "        text-align: right;\n",
       "    }\n",
       "</style>\n",
       "<table border=\"1\" class=\"dataframe\">\n",
       "  <thead>\n",
       "    <tr style=\"text-align: right;\">\n",
       "      <th></th>\n",
       "      <th>ICASE_ID</th>\n",
       "      <th>IDCASE_ID</th>\n",
       "      <th>FAHIID_PARENTS_1</th>\n",
       "      <th>FAHIID_PARENTS_2</th>\n",
       "      <th>FAHIID_PARENTS_3</th>\n",
       "      <th>FAHIID_PARENTS_4</th>\n",
       "      <th>FAHIID_BRSI_1</th>\n",
       "      <th>FAHIID_BRSI_2</th>\n",
       "      <th>FAHIID_BRSI_3</th>\n",
       "      <th>FAHIID_BRSI_4</th>\n",
       "    </tr>\n",
       "  </thead>\n",
       "  <tbody>\n",
       "    <tr>\n",
       "      <th>0</th>\n",
       "      <td>74804</td>\n",
       "      <td>022-00074804-1</td>\n",
       "      <td>2</td>\n",
       "      <td>2</td>\n",
       "      <td>2</td>\n",
       "      <td>2</td>\n",
       "      <td>2.0</td>\n",
       "      <td>2.0</td>\n",
       "      <td>2.0</td>\n",
       "      <td>2.0</td>\n",
       "    </tr>\n",
       "    <tr>\n",
       "      <th>1</th>\n",
       "      <td>74782</td>\n",
       "      <td>022-00074782-1</td>\n",
       "      <td>2</td>\n",
       "      <td>2</td>\n",
       "      <td>2</td>\n",
       "      <td>2</td>\n",
       "      <td>1.0</td>\n",
       "      <td>0.0</td>\n",
       "      <td>0.0</td>\n",
       "      <td>0.0</td>\n",
       "    </tr>\n",
       "    <tr>\n",
       "      <th>2</th>\n",
       "      <td>30291</td>\n",
       "      <td>022-00030291-2</td>\n",
       "      <td>1</td>\n",
       "      <td>0</td>\n",
       "      <td>0</td>\n",
       "      <td>0</td>\n",
       "      <td>0.0</td>\n",
       "      <td>0.0</td>\n",
       "      <td>0.0</td>\n",
       "      <td>0.0</td>\n",
       "    </tr>\n",
       "    <tr>\n",
       "      <th>3</th>\n",
       "      <td>35161</td>\n",
       "      <td>022-00035161-2</td>\n",
       "      <td>1</td>\n",
       "      <td>0</td>\n",
       "      <td>1</td>\n",
       "      <td>0</td>\n",
       "      <td>0.0</td>\n",
       "      <td>0.0</td>\n",
       "      <td>0.0</td>\n",
       "      <td>0.0</td>\n",
       "    </tr>\n",
       "    <tr>\n",
       "      <th>4</th>\n",
       "      <td>6910</td>\n",
       "      <td>022-00006910-3</td>\n",
       "      <td>2</td>\n",
       "      <td>2</td>\n",
       "      <td>2</td>\n",
       "      <td>2</td>\n",
       "      <td>2.0</td>\n",
       "      <td>2.0</td>\n",
       "      <td>2.0</td>\n",
       "      <td>2.0</td>\n",
       "    </tr>\n",
       "  </tbody>\n",
       "</table>\n",
       "</div>"
      ],
      "text/plain": [
       "   ICASE_ID       IDCASE_ID FAHIID_PARENTS_1 FAHIID_PARENTS_2  \\\n",
       "0     74804  022-00074804-1                2                2   \n",
       "1     74782  022-00074782-1                2                2   \n",
       "2     30291  022-00030291-2                1                0   \n",
       "3     35161  022-00035161-2                1                0   \n",
       "4      6910  022-00006910-3                2                2   \n",
       "\n",
       "  FAHIID_PARENTS_3 FAHIID_PARENTS_4  FAHIID_BRSI_1  FAHIID_BRSI_2  \\\n",
       "0                2                2            2.0            2.0   \n",
       "1                2                2            1.0            0.0   \n",
       "2                0                0            0.0            0.0   \n",
       "3                1                0            0.0            0.0   \n",
       "4                2                2            2.0            2.0   \n",
       "\n",
       "   FAHIID_BRSI_3  FAHIID_BRSI_4  \n",
       "0            2.0            2.0  \n",
       "1            0.0            0.0  \n",
       "2            0.0            0.0  \n",
       "3            0.0            0.0  \n",
       "4            2.0            2.0  "
      ]
     },
     "execution_count": 3,
     "metadata": {},
     "output_type": "execute_result"
    }
   ],
   "source": [
    "csv_path = os.path.join(\"..\", \"data\",\"TSR_CMUH\", \"CASEDFAHI(denormalized).csv\")\n",
    "cdf = pd.read_csv(csv_path)\n",
    "cdf.head()"
   ]
  },
  {
   "cell_type": "code",
   "execution_count": 4,
   "metadata": {},
   "outputs": [
    {
     "data": {
      "text/html": [
       "<div>\n",
       "<style scoped>\n",
       "    .dataframe tbody tr th:only-of-type {\n",
       "        vertical-align: middle;\n",
       "    }\n",
       "\n",
       "    .dataframe tbody tr th {\n",
       "        vertical-align: top;\n",
       "    }\n",
       "\n",
       "    .dataframe thead th {\n",
       "        text-align: right;\n",
       "    }\n",
       "</style>\n",
       "<table border=\"1\" class=\"dataframe\">\n",
       "  <thead>\n",
       "    <tr style=\"text-align: right;\">\n",
       "      <th></th>\n",
       "      <th>ICASE_ID</th>\n",
       "      <th>FAHIID_BRSI_1</th>\n",
       "      <th>FAHIID_BRSI_2</th>\n",
       "      <th>FAHIID_BRSI_3</th>\n",
       "      <th>FAHIID_BRSI_4</th>\n",
       "    </tr>\n",
       "  </thead>\n",
       "  <tbody>\n",
       "    <tr>\n",
       "      <th>count</th>\n",
       "      <td>20023.000000</td>\n",
       "      <td>19759.000000</td>\n",
       "      <td>19759.000000</td>\n",
       "      <td>19759.000000</td>\n",
       "      <td>19743.000000</td>\n",
       "    </tr>\n",
       "    <tr>\n",
       "      <th>mean</th>\n",
       "      <td>64769.027968</td>\n",
       "      <td>0.804241</td>\n",
       "      <td>0.705096</td>\n",
       "      <td>0.619869</td>\n",
       "      <td>0.629185</td>\n",
       "    </tr>\n",
       "    <tr>\n",
       "      <th>std</th>\n",
       "      <td>46517.799597</td>\n",
       "      <td>1.336773</td>\n",
       "      <td>1.349881</td>\n",
       "      <td>1.356412</td>\n",
       "      <td>1.340104</td>\n",
       "    </tr>\n",
       "    <tr>\n",
       "      <th>min</th>\n",
       "      <td>63.000000</td>\n",
       "      <td>0.000000</td>\n",
       "      <td>0.000000</td>\n",
       "      <td>0.000000</td>\n",
       "      <td>0.000000</td>\n",
       "    </tr>\n",
       "    <tr>\n",
       "      <th>25%</th>\n",
       "      <td>30653.500000</td>\n",
       "      <td>0.000000</td>\n",
       "      <td>0.000000</td>\n",
       "      <td>0.000000</td>\n",
       "      <td>0.000000</td>\n",
       "    </tr>\n",
       "    <tr>\n",
       "      <th>50%</th>\n",
       "      <td>34920.000000</td>\n",
       "      <td>0.000000</td>\n",
       "      <td>0.000000</td>\n",
       "      <td>0.000000</td>\n",
       "      <td>0.000000</td>\n",
       "    </tr>\n",
       "    <tr>\n",
       "      <th>75%</th>\n",
       "      <td>106187.500000</td>\n",
       "      <td>2.000000</td>\n",
       "      <td>1.000000</td>\n",
       "      <td>1.000000</td>\n",
       "      <td>1.000000</td>\n",
       "    </tr>\n",
       "    <tr>\n",
       "      <th>max</th>\n",
       "      <td>138354.000000</td>\n",
       "      <td>9.000000</td>\n",
       "      <td>9.000000</td>\n",
       "      <td>9.000000</td>\n",
       "      <td>9.000000</td>\n",
       "    </tr>\n",
       "  </tbody>\n",
       "</table>\n",
       "</div>"
      ],
      "text/plain": [
       "            ICASE_ID  FAHIID_BRSI_1  FAHIID_BRSI_2  FAHIID_BRSI_3  \\\n",
       "count   20023.000000   19759.000000   19759.000000   19759.000000   \n",
       "mean    64769.027968       0.804241       0.705096       0.619869   \n",
       "std     46517.799597       1.336773       1.349881       1.356412   \n",
       "min        63.000000       0.000000       0.000000       0.000000   \n",
       "25%     30653.500000       0.000000       0.000000       0.000000   \n",
       "50%     34920.000000       0.000000       0.000000       0.000000   \n",
       "75%    106187.500000       2.000000       1.000000       1.000000   \n",
       "max    138354.000000       9.000000       9.000000       9.000000   \n",
       "\n",
       "       FAHIID_BRSI_4  \n",
       "count   19743.000000  \n",
       "mean        0.629185  \n",
       "std         1.340104  \n",
       "min         0.000000  \n",
       "25%         0.000000  \n",
       "50%         0.000000  \n",
       "75%         1.000000  \n",
       "max         9.000000  "
      ]
     },
     "execution_count": 4,
     "metadata": {},
     "output_type": "execute_result"
    }
   ],
   "source": [
    "cdf.describe()"
   ]
  },
  {
   "cell_type": "markdown",
   "metadata": {},
   "source": [
    "# FAHIID_PARENTS_1"
   ]
  },
  {
   "cell_type": "code",
   "execution_count": 5,
   "metadata": {},
   "outputs": [
    {
     "name": "stdout",
     "output_type": "stream",
     "text": [
      "2.0    0.484892\n",
      "1.0    0.257254\n",
      "0.0    0.244918\n",
      "Name: FAHIID_PARENTS_1, dtype: float64\n"
     ]
    },
    {
     "name": "stderr",
     "output_type": "stream",
     "text": [
      "C:\\Users\\Jacky C\\Anaconda3\\envs\\tsr_ml\\lib\\site-packages\\seaborn\\_decorators.py:36: FutureWarning: Pass the following variable as a keyword arg: x. From version 0.12, the only valid positional argument will be `data`, and passing other arguments without an explicit keyword will result in an error or misinterpretation.\n",
      "  warnings.warn(\n"
     ]
    },
    {
     "data": {
      "image/png": "[encoded data removed]",
      "text/plain": [
       "<Figure size 720x360 with 1 Axes>"
      ]
     },
     "metadata": {},
     "output_type": "display_data"
    }
   ],
   "source": [
    "fahid_parents_1 = cdf.loc[:,\"FAHIID_PARENTS_1\"]\n",
    "fahid_parents_1 = pd.to_numeric(fahid_parents_1, errors = \"coerce\")\n",
    "#print(fahid_parents_1)\n",
    "print(fahid_parents_1.value_counts() / len(fahid_parents_1))\n",
    "#print(fahid_parents_1.describe())\n",
    "\n",
    "fahid_parents_1_labels = [\"沒有\",\"有\",\"不知道\"]\n",
    "sns.countplot(fahid_parents_1).set_xticklabels(fahid_parents_1_labels)\n",
    "plt.title(\"FAHIID_PARENTS_1 - Barplot\")\n",
    "plt.xlabel('FAHIID_PARENTS_1')\n",
    "plt.ylabel('Number', rotation=0)\n",
    "plt.show()"
   ]
  },
  {
   "cell_type": "markdown",
   "metadata": {},
   "source": [
    "# FAHIID_PARENTS_2"
   ]
  },
  {
   "cell_type": "code",
   "execution_count": 6,
   "metadata": {},
   "outputs": [
    {
     "name": "stdout",
     "output_type": "stream",
     "text": [
      "2.0    0.492584\n",
      "0.0    0.359387\n",
      "1.0    0.135045\n",
      "Name: FAHIID_PARENTS_2, dtype: float64\n"
     ]
    },
    {
     "name": "stderr",
     "output_type": "stream",
     "text": [
      "C:\\Users\\Jacky C\\Anaconda3\\envs\\tsr_ml\\lib\\site-packages\\seaborn\\_decorators.py:36: FutureWarning: Pass the following variable as a keyword arg: x. From version 0.12, the only valid positional argument will be `data`, and passing other arguments without an explicit keyword will result in an error or misinterpretation.\n",
      "  warnings.warn(\n"
     ]
    },
    {
     "data": {
      "image/png": "[encoded data removed]",
      "text/plain": [
       "<Figure size 720x360 with 1 Axes>"
      ]
     },
     "metadata": {},
     "output_type": "display_data"
    }
   ],
   "source": [
    "fahid_parents_2 = cdf.loc[:,\"FAHIID_PARENTS_2\"]\n",
    "fahid_parents_2 = pd.to_numeric(fahid_parents_2, errors = \"coerce\")\n",
    "#print(fahid_parents_2)\n",
    "print(fahid_parents_2.value_counts() / len(fahid_parents_2))\n",
    "#print(fahid_parents_2.describe())\n",
    "\n",
    "fahid_parents_2_labels = [\"沒有\",\"有\",\"不知道\"]\n",
    "sns.countplot(fahid_parents_2).set_xticklabels(fahid_parents_2_labels)\n",
    "plt.title(\"FAHIID_PARENTS_2 - Barplot\")\n",
    "plt.xlabel('FAHIID_PARENTS_2')\n",
    "plt.ylabel('Number', rotation=0)\n",
    "plt.show()"
   ]
  },
  {
   "cell_type": "markdown",
   "metadata": {},
   "source": [
    "# FAHIID_PARENTS_3"
   ]
  },
  {
   "cell_type": "code",
   "execution_count": 7,
   "metadata": {},
   "outputs": [
    {
     "name": "stdout",
     "output_type": "stream",
     "text": [
      "2.0    0.493033\n",
      "0.0    0.447485\n",
      "1.0    0.046397\n",
      "Name: FAHIID_PARENTS_3, dtype: float64\n"
     ]
    },
    {
     "name": "stderr",
     "output_type": "stream",
     "text": [
      "C:\\Users\\Jacky C\\Anaconda3\\envs\\tsr_ml\\lib\\site-packages\\seaborn\\_decorators.py:36: FutureWarning: Pass the following variable as a keyword arg: x. From version 0.12, the only valid positional argument will be `data`, and passing other arguments without an explicit keyword will result in an error or misinterpretation.\n",
      "  warnings.warn(\n"
     ]
    },
    {
     "data": {
      "image/png": "[encoded data removed]",
      "text/plain": [
       "<Figure size 720x360 with 1 Axes>"
      ]
     },
     "metadata": {},
     "output_type": "display_data"
    }
   ],
   "source": [
    "fahid_parents_3 = cdf.loc[:,\"FAHIID_PARENTS_3\"]\n",
    "fahid_parents_3 = pd.to_numeric(fahid_parents_3, errors = \"coerce\")\n",
    "#print(fahid_parents_3)\n",
    "print(fahid_parents_3.value_counts() / len(fahid_parents_3))\n",
    "#print(fahid_parents_3.describe())\n",
    "\n",
    "fahid_parents_3_labels = [\"沒有\",\"有\",\"不知道\"]\n",
    "sns.countplot(fahid_parents_3).set_xticklabels(fahid_parents_3_labels)\n",
    "plt.title(\"FAHIID_PARENTS_3 - Barplot\")\n",
    "plt.xlabel('FAHIID_PARENTS_3')\n",
    "plt.ylabel('Number', rotation=0)\n",
    "plt.show()"
   ]
  },
  {
   "cell_type": "markdown",
   "metadata": {},
   "source": [
    "# FAHIID_PARENTS_4"
   ]
  },
  {
   "cell_type": "code",
   "execution_count": 8,
   "metadata": {},
   "outputs": [
    {
     "name": "stdout",
     "output_type": "stream",
     "text": [
      "2.0    0.490536\n",
      "0.0    0.394946\n",
      "1.0    0.101383\n",
      "Name: FAHIID_PARENTS_4, dtype: float64\n"
     ]
    },
    {
     "name": "stderr",
     "output_type": "stream",
     "text": [
      "C:\\Users\\Jacky C\\Anaconda3\\envs\\tsr_ml\\lib\\site-packages\\seaborn\\_decorators.py:36: FutureWarning: Pass the following variable as a keyword arg: x. From version 0.12, the only valid positional argument will be `data`, and passing other arguments without an explicit keyword will result in an error or misinterpretation.\n",
      "  warnings.warn(\n"
     ]
    },
    {
     "data": {
      "image/png": "[encoded data removed]",
      "text/plain": [
       "<Figure size 720x360 with 1 Axes>"
      ]
     },
     "metadata": {},
     "output_type": "display_data"
    }
   ],
   "source": [
    "fahid_parents_4 = cdf.loc[:,\"FAHIID_PARENTS_4\"]\n",
    "fahid_parents_4 = pd.to_numeric(fahid_parents_4, errors = \"coerce\")\n",
    "#print(fahid_parents_4)\n",
    "print(fahid_parents_4.value_counts() / len(fahid_parents_4))\n",
    "#print(fahid_parents_4.describe())\n",
    "\n",
    "fahid_parents_4_labels = [\"沒有\",\"有\",\"不知道\"]\n",
    "sns.countplot(fahid_parents_4).set_xticklabels(fahid_parents_4_labels)\n",
    "plt.title(\"FAHIID_PARENTS_4 - Barplot\")\n",
    "plt.xlabel('FAHIID_PARENTS_4')\n",
    "plt.ylabel('Number', rotation=0)\n",
    "plt.show()"
   ]
  },
  {
   "cell_type": "markdown",
   "metadata": {},
   "source": [
    "# FAHIID_BRSI_1"
   ]
  },
  {
   "cell_type": "code",
   "execution_count": 9,
   "metadata": {},
   "outputs": [
    {
     "name": "stderr",
     "output_type": "stream",
     "text": [
      "<ipython-input-9-30737c4f236f>:2: SettingWithCopyWarning: \n",
      "A value is trying to be set on a copy of a slice from a DataFrame\n",
      "\n",
      "See the caveats in the documentation: https://pandas.pydata.org/pandas-docs/stable/user_guide/indexing.html#returning-a-view-versus-a-copy\n",
      "  fahid_brsi_1[(fahid_brsi_1 != 0) & (fahid_brsi_1 != 1) & (fahid_brsi_1 != 2)] = np.nan\n",
      "C:\\Users\\Jacky C\\Anaconda3\\envs\\tsr_ml\\lib\\site-packages\\seaborn\\_decorators.py:36: FutureWarning: Pass the following variable as a keyword arg: x. From version 0.12, the only valid positional argument will be `data`, and passing other arguments without an explicit keyword will result in an error or misinterpretation.\n",
      "  warnings.warn(\n"
     ]
    },
    {
     "name": "stdout",
     "output_type": "stream",
     "text": [
      "0.0    0.559457\n",
      "2.0    0.241223\n",
      "1.0    0.170504\n",
      "Name: FAHIID_BRSI_1, dtype: float64\n"
     ]
    },
    {
     "data": {
      "image/png": "[encoded data removed]",
      "text/plain": [
       "<Figure size 720x360 with 1 Axes>"
      ]
     },
     "metadata": {},
     "output_type": "display_data"
    }
   ],
   "source": [
    "fahid_brsi_1 = cdf.loc[:,\"FAHIID_BRSI_1\"]\n",
    "fahid_brsi_1[(fahid_brsi_1 != 0) & (fahid_brsi_1 != 1) & (fahid_brsi_1 != 2)] = np.nan\n",
    "#print(fahid_brsi_1)\n",
    "print(fahid_brsi_1.value_counts() / len(fahid_brsi_1))\n",
    "#print(fahid_brsi_1.describe())\n",
    "\n",
    "fahid_brsi_1_labels = [\"沒有\",\"有\",\"不知道\"]\n",
    "sns.countplot(fahid_brsi_1).set_xticklabels(fahid_brsi_1_labels)\n",
    "plt.title(\"FAHIID_BRSI_1 - Barplot\")\n",
    "plt.xlabel('FAHIID_BRSI_1')\n",
    "plt.ylabel('Number', rotation=0)\n",
    "plt.show()"
   ]
  },
  {
   "cell_type": "markdown",
   "metadata": {},
   "source": [
    "# FAHIID_BRSI_2"
   ]
  },
  {
   "cell_type": "code",
   "execution_count": 10,
   "metadata": {},
   "outputs": [
    {
     "name": "stderr",
     "output_type": "stream",
     "text": [
      "<ipython-input-10-ea98a418b349>:2: SettingWithCopyWarning: \n",
      "A value is trying to be set on a copy of a slice from a DataFrame\n",
      "\n",
      "See the caveats in the documentation: https://pandas.pydata.org/pandas-docs/stable/user_guide/indexing.html#returning-a-view-versus-a-copy\n",
      "  fahid_brsi_2[(fahid_brsi_2 != 0) & (fahid_brsi_2 != 1) & (fahid_brsi_2 != 2)] = np.nan\n",
      "C:\\Users\\Jacky C\\Anaconda3\\envs\\tsr_ml\\lib\\site-packages\\seaborn\\_decorators.py:36: FutureWarning: Pass the following variable as a keyword arg: x. From version 0.12, the only valid positional argument will be `data`, and passing other arguments without an explicit keyword will result in an error or misinterpretation.\n",
      "  warnings.warn(\n"
     ]
    },
    {
     "name": "stdout",
     "output_type": "stream",
     "text": [
      "0.0    0.646956\n",
      "2.0    0.230085\n",
      "1.0    0.094042\n",
      "Name: FAHIID_BRSI_2, dtype: float64\n"
     ]
    },
    {
     "data": {
      "image/png": "[encoded data removed]",
      "text/plain": [
       "<Figure size 720x360 with 1 Axes>"
      ]
     },
     "metadata": {},
     "output_type": "display_data"
    }
   ],
   "source": [
    "fahid_brsi_2 = cdf.loc[:,\"FAHIID_BRSI_2\"]\n",
    "fahid_brsi_2[(fahid_brsi_2 != 0) & (fahid_brsi_2 != 1) & (fahid_brsi_2 != 2)] = np.nan\n",
    "#print(fahid_brsi_2)\n",
    "print(fahid_brsi_2.value_counts() / len(fahid_brsi_2))\n",
    "#print(fahid_brsi_2.describe())\n",
    "\n",
    "fahid_brsi_2_labels = [\"沒有\",\"有\",\"不知道\"]\n",
    "sns.countplot(fahid_brsi_2).set_xticklabels(fahid_brsi_2_labels)\n",
    "plt.title(\"FAHIID_BRSI_2 - Barplot\")\n",
    "plt.xlabel('FAHIID_BRSI_2')\n",
    "plt.ylabel('Number', rotation=0)\n",
    "plt.show()"
   ]
  },
  {
   "cell_type": "markdown",
   "metadata": {},
   "source": [
    "# FAHIID_BRSI_3"
   ]
  },
  {
   "cell_type": "code",
   "execution_count": 11,
   "metadata": {},
   "outputs": [
    {
     "name": "stdout",
     "output_type": "stream",
     "text": [
      "0.0    0.726115\n",
      "2.0    0.225141\n",
      "1.0    0.019827\n",
      "Name: FAHIID_BRSI_3, dtype: float64\n"
     ]
    },
    {
     "name": "stderr",
     "output_type": "stream",
     "text": [
      "<ipython-input-11-2419417bc769>:2: SettingWithCopyWarning: \n",
      "A value is trying to be set on a copy of a slice from a DataFrame\n",
      "\n",
      "See the caveats in the documentation: https://pandas.pydata.org/pandas-docs/stable/user_guide/indexing.html#returning-a-view-versus-a-copy\n",
      "  fahid_brsi_3[(fahid_brsi_3 != 0) & (fahid_brsi_3 != 1) & (fahid_brsi_3 != 2)] = np.nan\n",
      "C:\\Users\\Jacky C\\Anaconda3\\envs\\tsr_ml\\lib\\site-packages\\seaborn\\_decorators.py:36: FutureWarning: Pass the following variable as a keyword arg: x. From version 0.12, the only valid positional argument will be `data`, and passing other arguments without an explicit keyword will result in an error or misinterpretation.\n",
      "  warnings.warn(\n"
     ]
    },
    {
     "data": {
      "image/png": "[encoded data removed]",
      "text/plain": [
       "<Figure size 720x360 with 1 Axes>"
      ]
     },
     "metadata": {},
     "output_type": "display_data"
    }
   ],
   "source": [
    "fahid_brsi_3 = cdf.loc[:,\"FAHIID_BRSI_3\"]\n",
    "fahid_brsi_3[(fahid_brsi_3 != 0) & (fahid_brsi_3 != 1) & (fahid_brsi_3 != 2)] = np.nan\n",
    "#print(fahid_brsi_3)\n",
    "print(fahid_brsi_3.value_counts() / len(fahid_brsi_3))\n",
    "#print(fahid_brsi_3.describe())\n",
    "\n",
    "fahid_brsi_3_labels = [\"沒有\",\"有\",\"不知道\"]\n",
    "sns.countplot(fahid_brsi_3).set_xticklabels(fahid_brsi_3_labels)\n",
    "plt.title(\"FAHIID_BRSI_3 - Barplot\")\n",
    "plt.xlabel('FAHIID_BRSI_3')\n",
    "plt.ylabel('Number', rotation=0)\n",
    "plt.show()"
   ]
  },
  {
   "cell_type": "markdown",
   "metadata": {},
   "source": [
    "# FAHIID_BRSI_4"
   ]
  },
  {
   "cell_type": "code",
   "execution_count": 12,
   "metadata": {},
   "outputs": [
    {
     "name": "stderr",
     "output_type": "stream",
     "text": [
      "<ipython-input-12-88a3b6b5f783>:2: SettingWithCopyWarning: \n",
      "A value is trying to be set on a copy of a slice from a DataFrame\n",
      "\n",
      "See the caveats in the documentation: https://pandas.pydata.org/pandas-docs/stable/user_guide/indexing.html#returning-a-view-versus-a-copy\n",
      "  fahid_brsi_4[(fahid_brsi_4 != 0) & (fahid_brsi_4 != 1) & (fahid_brsi_4 != 2)] = np.nan\n",
      "C:\\Users\\Jacky C\\Anaconda3\\envs\\tsr_ml\\lib\\site-packages\\seaborn\\_decorators.py:36: FutureWarning: Pass the following variable as a keyword arg: x. From version 0.12, the only valid positional argument will be `data`, and passing other arguments without an explicit keyword will result in an error or misinterpretation.\n",
      "  warnings.warn(\n"
     ]
    },
    {
     "name": "stdout",
     "output_type": "stream",
     "text": [
      "0.0    0.696849\n",
      "2.0    0.205763\n",
      "1.0    0.067722\n",
      "Name: FAHIID_BRSI_4, dtype: float64\n"
     ]
    },
    {
     "data": {
      "image/png": "[encoded data removed]",
      "text/plain": [
       "<Figure size 720x360 with 1 Axes>"
      ]
     },
     "metadata": {},
     "output_type": "display_data"
    }
   ],
   "source": [
    "fahid_brsi_4 = cdf.loc[:,\"FAHIID_BRSI_4\"]\n",
    "fahid_brsi_4[(fahid_brsi_4 != 0) & (fahid_brsi_4 != 1) & (fahid_brsi_4 != 2)] = np.nan\n",
    "#print(fahid_brsi_4)\n",
    "print(fahid_brsi_4.value_counts() / len(fahid_brsi_4))\n",
    "#print(fahid_brsi_4.describe())\n",
    "\n",
    "fahid_brsi_4_labels = [\"沒有\",\"有\",\"不知道\"]\n",
    "sns.countplot(fahid_brsi_4).set_xticklabels(fahid_brsi_4_labels)\n",
    "plt.title(\"FAHIID_BRSI_4 - Barplot\")\n",
    "plt.xlabel('FAHIID_BRSI_4')\n",
    "plt.ylabel('Number', rotation=0)\n",
    "plt.show()"
   ]
  }
 ],
 "metadata": {
  "kernelspec": {
   "display_name": "Python 3",
   "language": "python",
   "name": "python3"
  },
  "language_info": {
   "codemirror_mode": {
    "name": "ipython",
    "version": 3
   },
   "file_extension": ".py",
   "mimetype": "text/x-python",
   "name": "python",
   "nbconvert_exporter": "python",
   "pygments_lexer": "ipython3",
   "version": "3.8.8"
  }
 },
 "nbformat": 4,
 "nbformat_minor": 4
}
