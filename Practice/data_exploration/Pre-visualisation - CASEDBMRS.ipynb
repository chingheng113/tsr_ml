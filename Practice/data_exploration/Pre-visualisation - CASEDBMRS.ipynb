{
 "cells": [
  {
   "cell_type": "code",
   "execution_count": 1,
   "metadata": {},
   "outputs": [],
   "source": [
    "import pandas as pd\n",
    "import matplotlib.pyplot as plt\n",
    "import os"
   ]
  },
  {
   "cell_type": "code",
   "execution_count": 2,
   "metadata": {},
   "outputs": [
    {
     "data": {
      "text/html": [
       "<div>\n",
       "<style scoped>\n",
       "    .dataframe tbody tr th:only-of-type {\n",
       "        vertical-align: middle;\n",
       "    }\n",
       "\n",
       "    .dataframe tbody tr th {\n",
       "        vertical-align: top;\n",
       "    }\n",
       "\n",
       "    .dataframe thead th {\n",
       "        text-align: right;\n",
       "    }\n",
       "</style>\n",
       "<table border=\"1\" class=\"dataframe\">\n",
       "  <thead>\n",
       "    <tr style=\"text-align: right;\">\n",
       "      <th></th>\n",
       "      <th>ICASE_ID</th>\n",
       "      <th>IDCASE_ID</th>\n",
       "      <th>Feeding</th>\n",
       "      <th>Transfers</th>\n",
       "      <th>Bathing</th>\n",
       "      <th>Toilet_use</th>\n",
       "      <th>Grooming</th>\n",
       "      <th>Mobility</th>\n",
       "      <th>Stairs</th>\n",
       "      <th>Dressing</th>\n",
       "      <th>Bowel_control</th>\n",
       "      <th>Bladder_control</th>\n",
       "      <th>discharged_mrs</th>\n",
       "    </tr>\n",
       "  </thead>\n",
       "  <tbody>\n",
       "    <tr>\n",
       "      <th>0</th>\n",
       "      <td>63</td>\n",
       "      <td>022-00000063-1</td>\n",
       "      <td>10</td>\n",
       "      <td>15</td>\n",
       "      <td>5</td>\n",
       "      <td>10</td>\n",
       "      <td>5</td>\n",
       "      <td>15</td>\n",
       "      <td>10</td>\n",
       "      <td>10</td>\n",
       "      <td>10</td>\n",
       "      <td>10</td>\n",
       "      <td>1</td>\n",
       "    </tr>\n",
       "    <tr>\n",
       "      <th>1</th>\n",
       "      <td>65</td>\n",
       "      <td>022-00000065-1</td>\n",
       "      <td>5</td>\n",
       "      <td>10</td>\n",
       "      <td>0</td>\n",
       "      <td>5</td>\n",
       "      <td>0</td>\n",
       "      <td>10</td>\n",
       "      <td>0</td>\n",
       "      <td>5</td>\n",
       "      <td>5</td>\n",
       "      <td>5</td>\n",
       "      <td>4</td>\n",
       "    </tr>\n",
       "    <tr>\n",
       "      <th>2</th>\n",
       "      <td>65</td>\n",
       "      <td>022-00000065-2</td>\n",
       "      <td>5</td>\n",
       "      <td>5</td>\n",
       "      <td>0</td>\n",
       "      <td>0</td>\n",
       "      <td>0</td>\n",
       "      <td>5</td>\n",
       "      <td>0</td>\n",
       "      <td>5</td>\n",
       "      <td>10</td>\n",
       "      <td>0</td>\n",
       "      <td>4</td>\n",
       "    </tr>\n",
       "    <tr>\n",
       "      <th>3</th>\n",
       "      <td>104</td>\n",
       "      <td>022-00000104-1</td>\n",
       "      <td>10</td>\n",
       "      <td>15</td>\n",
       "      <td>5</td>\n",
       "      <td>10</td>\n",
       "      <td>5</td>\n",
       "      <td>15</td>\n",
       "      <td>10</td>\n",
       "      <td>10</td>\n",
       "      <td>10</td>\n",
       "      <td>10</td>\n",
       "      <td>1</td>\n",
       "    </tr>\n",
       "    <tr>\n",
       "      <th>4</th>\n",
       "      <td>104</td>\n",
       "      <td>024-00000104-1</td>\n",
       "      <td>10</td>\n",
       "      <td>15</td>\n",
       "      <td>5</td>\n",
       "      <td>10</td>\n",
       "      <td>5</td>\n",
       "      <td>15</td>\n",
       "      <td>10</td>\n",
       "      <td>10</td>\n",
       "      <td>10</td>\n",
       "      <td>10</td>\n",
       "      <td>0</td>\n",
       "    </tr>\n",
       "  </tbody>\n",
       "</table>\n",
       "</div>"
      ],
      "text/plain": [
       "   ICASE_ID       IDCASE_ID  Feeding  Transfers  Bathing  Toilet_use  \\\n",
       "0        63  022-00000063-1       10         15        5          10   \n",
       "1        65  022-00000065-1        5         10        0           5   \n",
       "2        65  022-00000065-2        5          5        0           0   \n",
       "3       104  022-00000104-1       10         15        5          10   \n",
       "4       104  024-00000104-1       10         15        5          10   \n",
       "\n",
       "   Grooming  Mobility  Stairs  Dressing  Bowel_control  Bladder_control  \\\n",
       "0         5        15      10        10             10               10   \n",
       "1         0        10       0         5              5                5   \n",
       "2         0         5       0         5             10                0   \n",
       "3         5        15      10        10             10               10   \n",
       "4         5        15      10        10             10               10   \n",
       "\n",
       "   discharged_mrs  \n",
       "0               1  \n",
       "1               4  \n",
       "2               4  \n",
       "3               1  \n",
       "4               0  "
      ]
     },
     "execution_count": 2,
     "metadata": {},
     "output_type": "execute_result"
    }
   ],
   "source": [
    "csv_path = os.path.join(\"..\", \"data\",\"TSR_CMUH\", \"CASEDBMRS(denormalized).csv\")\n",
    "cdb = pd.read_csv(csv_path)\n",
    "cdb.head()"
   ]
  },
  {
   "cell_type": "code",
   "execution_count": 3,
   "metadata": {},
   "outputs": [
    {
     "data": {
      "text/html": [
       "<div>\n",
       "<style scoped>\n",
       "    .dataframe tbody tr th:only-of-type {\n",
       "        vertical-align: middle;\n",
       "    }\n",
       "\n",
       "    .dataframe tbody tr th {\n",
       "        vertical-align: top;\n",
       "    }\n",
       "\n",
       "    .dataframe thead th {\n",
       "        text-align: right;\n",
       "    }\n",
       "</style>\n",
       "<table border=\"1\" class=\"dataframe\">\n",
       "  <thead>\n",
       "    <tr style=\"text-align: right;\">\n",
       "      <th></th>\n",
       "      <th>ICASE_ID</th>\n",
       "      <th>Feeding</th>\n",
       "      <th>Transfers</th>\n",
       "      <th>Bathing</th>\n",
       "      <th>Toilet_use</th>\n",
       "      <th>Grooming</th>\n",
       "      <th>Mobility</th>\n",
       "      <th>Stairs</th>\n",
       "      <th>Dressing</th>\n",
       "      <th>Bowel_control</th>\n",
       "      <th>Bladder_control</th>\n",
       "      <th>discharged_mrs</th>\n",
       "    </tr>\n",
       "  </thead>\n",
       "  <tbody>\n",
       "    <tr>\n",
       "      <th>count</th>\n",
       "      <td>20022.000000</td>\n",
       "      <td>20022.000000</td>\n",
       "      <td>20022.000000</td>\n",
       "      <td>20022.000000</td>\n",
       "      <td>20022.000000</td>\n",
       "      <td>20022.000000</td>\n",
       "      <td>20022.000000</td>\n",
       "      <td>20022.000000</td>\n",
       "      <td>20022.000000</td>\n",
       "      <td>20022.000000</td>\n",
       "      <td>20022.000000</td>\n",
       "      <td>20022.000000</td>\n",
       "    </tr>\n",
       "    <tr>\n",
       "      <th>mean</th>\n",
       "      <td>64770.636400</td>\n",
       "      <td>6.307362</td>\n",
       "      <td>9.593247</td>\n",
       "      <td>2.871092</td>\n",
       "      <td>5.660573</td>\n",
       "      <td>1.916891</td>\n",
       "      <td>8.869244</td>\n",
       "      <td>4.213415</td>\n",
       "      <td>6.117021</td>\n",
       "      <td>7.219059</td>\n",
       "      <td>6.938817</td>\n",
       "      <td>2.586505</td>\n",
       "    </tr>\n",
       "    <tr>\n",
       "      <th>std</th>\n",
       "      <td>46518.404508</td>\n",
       "      <td>4.443421</td>\n",
       "      <td>5.884158</td>\n",
       "      <td>2.499990</td>\n",
       "      <td>4.345990</td>\n",
       "      <td>2.433673</td>\n",
       "      <td>6.572072</td>\n",
       "      <td>4.494435</td>\n",
       "      <td>4.157402</td>\n",
       "      <td>4.129159</td>\n",
       "      <td>4.281373</td>\n",
       "      <td>1.746734</td>\n",
       "    </tr>\n",
       "    <tr>\n",
       "      <th>min</th>\n",
       "      <td>63.000000</td>\n",
       "      <td>0.000000</td>\n",
       "      <td>0.000000</td>\n",
       "      <td>0.000000</td>\n",
       "      <td>0.000000</td>\n",
       "      <td>0.000000</td>\n",
       "      <td>0.000000</td>\n",
       "      <td>0.000000</td>\n",
       "      <td>0.000000</td>\n",
       "      <td>0.000000</td>\n",
       "      <td>0.000000</td>\n",
       "      <td>0.000000</td>\n",
       "    </tr>\n",
       "    <tr>\n",
       "      <th>25%</th>\n",
       "      <td>30653.250000</td>\n",
       "      <td>0.000000</td>\n",
       "      <td>5.000000</td>\n",
       "      <td>0.000000</td>\n",
       "      <td>0.000000</td>\n",
       "      <td>0.000000</td>\n",
       "      <td>0.000000</td>\n",
       "      <td>0.000000</td>\n",
       "      <td>0.000000</td>\n",
       "      <td>5.000000</td>\n",
       "      <td>5.000000</td>\n",
       "      <td>1.000000</td>\n",
       "    </tr>\n",
       "    <tr>\n",
       "      <th>50%</th>\n",
       "      <td>34920.000000</td>\n",
       "      <td>10.000000</td>\n",
       "      <td>10.000000</td>\n",
       "      <td>5.000000</td>\n",
       "      <td>5.000000</td>\n",
       "      <td>0.000000</td>\n",
       "      <td>10.000000</td>\n",
       "      <td>5.000000</td>\n",
       "      <td>5.000000</td>\n",
       "      <td>10.000000</td>\n",
       "      <td>10.000000</td>\n",
       "      <td>3.000000</td>\n",
       "    </tr>\n",
       "    <tr>\n",
       "      <th>75%</th>\n",
       "      <td>106188.250000</td>\n",
       "      <td>10.000000</td>\n",
       "      <td>15.000000</td>\n",
       "      <td>5.000000</td>\n",
       "      <td>10.000000</td>\n",
       "      <td>5.000000</td>\n",
       "      <td>15.000000</td>\n",
       "      <td>10.000000</td>\n",
       "      <td>10.000000</td>\n",
       "      <td>10.000000</td>\n",
       "      <td>10.000000</td>\n",
       "      <td>4.000000</td>\n",
       "    </tr>\n",
       "    <tr>\n",
       "      <th>max</th>\n",
       "      <td>138354.000000</td>\n",
       "      <td>20.000000</td>\n",
       "      <td>50.000000</td>\n",
       "      <td>55.000000</td>\n",
       "      <td>11.000000</td>\n",
       "      <td>15.000000</td>\n",
       "      <td>55.000000</td>\n",
       "      <td>15.000000</td>\n",
       "      <td>15.000000</td>\n",
       "      <td>10.000000</td>\n",
       "      <td>10.000000</td>\n",
       "      <td>6.000000</td>\n",
       "    </tr>\n",
       "  </tbody>\n",
       "</table>\n",
       "</div>"
      ],
      "text/plain": [
       "            ICASE_ID       Feeding     Transfers       Bathing    Toilet_use  \\\n",
       "count   20022.000000  20022.000000  20022.000000  20022.000000  20022.000000   \n",
       "mean    64770.636400      6.307362      9.593247      2.871092      5.660573   \n",
       "std     46518.404508      4.443421      5.884158      2.499990      4.345990   \n",
       "min        63.000000      0.000000      0.000000      0.000000      0.000000   \n",
       "25%     30653.250000      0.000000      5.000000      0.000000      0.000000   \n",
       "50%     34920.000000     10.000000     10.000000      5.000000      5.000000   \n",
       "75%    106188.250000     10.000000     15.000000      5.000000     10.000000   \n",
       "max    138354.000000     20.000000     50.000000     55.000000     11.000000   \n",
       "\n",
       "           Grooming      Mobility        Stairs      Dressing  Bowel_control  \\\n",
       "count  20022.000000  20022.000000  20022.000000  20022.000000   20022.000000   \n",
       "mean       1.916891      8.869244      4.213415      6.117021       7.219059   \n",
       "std        2.433673      6.572072      4.494435      4.157402       4.129159   \n",
       "min        0.000000      0.000000      0.000000      0.000000       0.000000   \n",
       "25%        0.000000      0.000000      0.000000      0.000000       5.000000   \n",
       "50%        0.000000     10.000000      5.000000      5.000000      10.000000   \n",
       "75%        5.000000     15.000000     10.000000     10.000000      10.000000   \n",
       "max       15.000000     55.000000     15.000000     15.000000      10.000000   \n",
       "\n",
       "       Bladder_control  discharged_mrs  \n",
       "count     20022.000000    20022.000000  \n",
       "mean          6.938817        2.586505  \n",
       "std           4.281373        1.746734  \n",
       "min           0.000000        0.000000  \n",
       "25%           5.000000        1.000000  \n",
       "50%          10.000000        3.000000  \n",
       "75%          10.000000        4.000000  \n",
       "max          10.000000        6.000000  "
      ]
     },
     "execution_count": 3,
     "metadata": {},
     "output_type": "execute_result"
    }
   ],
   "source": [
    "cdb.describe()"
   ]
  },
  {
   "cell_type": "markdown",
   "metadata": {},
   "source": [
    "# Feeding"
   ]
  },
  {
   "cell_type": "code",
   "execution_count": 4,
   "metadata": {},
   "outputs": [
    {
     "name": "stdout",
     "output_type": "stream",
     "text": [
      "count    20022.000000\n",
      "mean         6.307362\n",
      "std          4.443421\n",
      "min          0.000000\n",
      "25%          0.000000\n",
      "50%         10.000000\n",
      "75%         10.000000\n",
      "max         20.000000\n",
      "Name: Feeding, dtype: float64\n"
     ]
    },
    {
     "data": {
      "image/png": "[encoded data removed]",
      "text/plain": [
       "<Figure size 1080x360 with 2 Axes>"
      ]
     },
     "metadata": {
      "needs_background": "light"
     },
     "output_type": "display_data"
    }
   ],
   "source": [
    "feeding = cdb.loc[:, \"Feeding\"]\n",
    "#print(feeding)\n",
    "#print(feeding.value_counts() / len(feeding))\n",
    "print(feeding.describe())\n",
    "\n",
    "fig, (ax1,ax2) = plt.subplots(nrows = 1, ncols = 2, figsize = (15,5))\n",
    "\n",
    "feeding.plot.box(ax = ax1)\n",
    "ax1.set_title(\"Feeding - Boxplot\")\n",
    "ax1.set_xlabel('Feeding')\n",
    "ax1.set_ylabel('Times', rotation=0)\n",
    "ax1.set_xticks([])\n",
    "\n",
    "#feeding.plot.hist(ax = ax2, bins=100)\n",
    "#plt.show()\n",
    "feeding.plot.hist(ax = ax2, bins=100, range=[0,10])\n",
    "ax2.set_title(\"Feeding - Histogram\")\n",
    "ax2.set_xlabel('Feeding(Times)')\n",
    "ax2.set_ylabel('Number', rotation=0)\n",
    "plt.show()"
   ]
  },
  {
   "cell_type": "markdown",
   "metadata": {},
   "source": [
    "# Transfers"
   ]
  },
  {
   "cell_type": "code",
   "execution_count": 5,
   "metadata": {},
   "outputs": [
    {
     "name": "stdout",
     "output_type": "stream",
     "text": [
      "count    20022.000000\n",
      "mean         9.593247\n",
      "std          5.884158\n",
      "min          0.000000\n",
      "25%          5.000000\n",
      "50%         10.000000\n",
      "75%         15.000000\n",
      "max         50.000000\n",
      "Name: Transfers, dtype: float64\n"
     ]
    },
    {
     "data": {
      "image/png": "[encoded data removed]",
      "text/plain": [
       "<Figure size 1080x360 with 2 Axes>"
      ]
     },
     "metadata": {
      "needs_background": "light"
     },
     "output_type": "display_data"
    }
   ],
   "source": [
    "transfers = cdb.loc[:, \"Transfers\"]\n",
    "#print(transfers)\n",
    "#print(transfers.value_counts() / len(transfers))\n",
    "print(transfers.describe())\n",
    "\n",
    "fig, (ax1,ax2) = plt.subplots(nrows = 1, ncols = 2, figsize = (15,5))\n",
    "\n",
    "transfers.plot.box(ax = ax1)\n",
    "ax1.set_title(\"Transfers - Boxplot\")\n",
    "ax1.set_xlabel('Transfers')\n",
    "ax1.set_ylabel('Times', rotation=0)\n",
    "ax1.set_xticks([])\n",
    "\n",
    "#transfers.plot.hist(ax = ax2, bins=100)\n",
    "#plt.show()\n",
    "transfers.plot.hist(ax = ax2, bins=100, range=[0,20])\n",
    "ax2.set_title(\"Transfers - Histogram\")\n",
    "ax2.set_xlabel('Transfers(Times)')\n",
    "ax2.set_ylabel('Number', rotation=0)\n",
    "plt.show()"
   ]
  },
  {
   "cell_type": "markdown",
   "metadata": {},
   "source": [
    "# Bathing"
   ]
  },
  {
   "cell_type": "code",
   "execution_count": 6,
   "metadata": {},
   "outputs": [
    {
     "name": "stdout",
     "output_type": "stream",
     "text": [
      "count    20022.000000\n",
      "mean         2.871092\n",
      "std          2.499990\n",
      "min          0.000000\n",
      "25%          0.000000\n",
      "50%          5.000000\n",
      "75%          5.000000\n",
      "max         55.000000\n",
      "Name: Bathing, dtype: float64\n"
     ]
    },
    {
     "data": {
      "image/png": "[encoded data removed]",
      "text/plain": [
       "<Figure size 1080x360 with 2 Axes>"
      ]
     },
     "metadata": {
      "needs_background": "light"
     },
     "output_type": "display_data"
    }
   ],
   "source": [
    "bathing = cdb.loc[:, \"Bathing\"]\n",
    "#print(bathing)\n",
    "#print(bathing.value_counts() / len(bathing))\n",
    "print(bathing.describe())\n",
    "\n",
    "fig, (ax1,ax2) = plt.subplots(nrows = 1, ncols = 2, figsize = (15,5))\n",
    "\n",
    "bathing.plot.box(ax = ax1)\n",
    "ax1.set_title(\"Bathing - Boxplot\")\n",
    "ax1.set_xlabel('Bathing')\n",
    "ax1.set_ylabel('Times', rotation=0)\n",
    "ax1.set_xticks([])\n",
    "\n",
    "#bathing.plot.hist(ax = ax2, bins=100)\n",
    "#plt.show()\n",
    "bathing.plot.hist(ax = ax2, bins=100, range=[0,10])\n",
    "ax2.set_title(\"Bathing - Histogram\")\n",
    "ax2.set_xlabel('Bathing(Times)')\n",
    "ax2.set_ylabel('Number', rotation=0)\n",
    "plt.show()"
   ]
  },
  {
   "cell_type": "markdown",
   "metadata": {},
   "source": [
    "# Toilet"
   ]
  },
  {
   "cell_type": "code",
   "execution_count": 7,
   "metadata": {},
   "outputs": [
    {
     "name": "stdout",
     "output_type": "stream",
     "text": [
      "count    20022.000000\n",
      "mean         5.660573\n",
      "std          4.345990\n",
      "min          0.000000\n",
      "25%          0.000000\n",
      "50%          5.000000\n",
      "75%         10.000000\n",
      "max         11.000000\n",
      "Name: Toilet_use, dtype: float64\n"
     ]
    },
    {
     "data": {
      "image/png": "[encoded data removed]",
      "text/plain": [
       "<Figure size 1080x360 with 2 Axes>"
      ]
     },
     "metadata": {
      "needs_background": "light"
     },
     "output_type": "display_data"
    }
   ],
   "source": [
    "toilet = cdb.loc[:, \"Toilet_use\"]\n",
    "#print(toilet)\n",
    "#print(toilet.value_counts() / len(toilet))\n",
    "print(toilet.describe())\n",
    "\n",
    "fig, (ax1,ax2) = plt.subplots(nrows = 1, ncols = 2, figsize = (15,5))\n",
    "\n",
    "toilet.plot.box(ax = ax1)\n",
    "ax1.set_title(\"Toilet - Boxplot\")\n",
    "ax1.set_xlabel('Toilet')\n",
    "ax1.set_ylabel('Times', rotation=0)\n",
    "ax1.set_xticks([])\n",
    "\n",
    "#toilet.plot.hist(ax = ax2, bins=100)\n",
    "#plt.show()\n",
    "toilet.plot.hist(ax = ax2, bins=100, range=[0,10])\n",
    "ax2.set_title(\"Toilet - Histogram\")\n",
    "ax2.set_xlabel('Toilet(Times)')\n",
    "ax2.set_ylabel('Number', rotation=0)\n",
    "plt.show()"
   ]
  },
  {
   "cell_type": "markdown",
   "metadata": {},
   "source": [
    "# Grooming"
   ]
  },
  {
   "cell_type": "code",
   "execution_count": 8,
   "metadata": {},
   "outputs": [
    {
     "name": "stdout",
     "output_type": "stream",
     "text": [
      "count    20022.000000\n",
      "mean         1.916891\n",
      "std          2.433673\n",
      "min          0.000000\n",
      "25%          0.000000\n",
      "50%          0.000000\n",
      "75%          5.000000\n",
      "max         15.000000\n",
      "Name: Grooming, dtype: float64\n"
     ]
    },
    {
     "data": {
      "image/png": "[encoded data removed]",
      "text/plain": [
       "<Figure size 1080x360 with 2 Axes>"
      ]
     },
     "metadata": {
      "needs_background": "light"
     },
     "output_type": "display_data"
    }
   ],
   "source": [
    "grooming = cdb.loc[:, \"Grooming\"]\n",
    "#print(grooming)\n",
    "#print(grooming.value_counts() / len(grooming))\n",
    "print(grooming.describe())\n",
    "\n",
    "fig, (ax1,ax2) = plt.subplots(nrows = 1, ncols = 2, figsize = (15,5))\n",
    "\n",
    "grooming.plot.box(ax = ax1)\n",
    "ax1.set_title(\"Grooming - Boxplot\")\n",
    "ax1.set_xlabel('Grooming')\n",
    "ax1.set_ylabel('Times', rotation=0)\n",
    "ax1.set_xticks([])\n",
    "\n",
    "#grooming.plot.hist(ax = ax2, bins=100)\n",
    "#plt.show()\n",
    "grooming.plot.hist(ax = ax2, bins=100, range=[0,10])\n",
    "ax2.set_title(\"Grooming - Histogram\")\n",
    "ax2.set_xlabel('Grooming(Times)')\n",
    "ax2.set_ylabel('Number', rotation=0)\n",
    "plt.show()"
   ]
  },
  {
   "cell_type": "markdown",
   "metadata": {},
   "source": [
    "# Mobility"
   ]
  },
  {
   "cell_type": "code",
   "execution_count": 9,
   "metadata": {},
   "outputs": [
    {
     "name": "stdout",
     "output_type": "stream",
     "text": [
      "count    20022.000000\n",
      "mean         8.869244\n",
      "std          6.572072\n",
      "min          0.000000\n",
      "25%          0.000000\n",
      "50%         10.000000\n",
      "75%         15.000000\n",
      "max         55.000000\n",
      "Name: Mobility, dtype: float64\n"
     ]
    },
    {
     "data": {
      "image/png": "[encoded data removed]",
      "text/plain": [
       "<Figure size 1080x360 with 2 Axes>"
      ]
     },
     "metadata": {
      "needs_background": "light"
     },
     "output_type": "display_data"
    }
   ],
   "source": [
    "mobility = cdb.loc[:, \"Mobility\"]\n",
    "#print(mobility)\n",
    "#print(mobility.value_counts() / len(mobility))\n",
    "print(mobility.describe())\n",
    "\n",
    "fig, (ax1,ax2) = plt.subplots(nrows = 1, ncols = 2, figsize = (15,5))\n",
    "\n",
    "mobility.plot.box(ax = ax1)\n",
    "ax1.set_title(\"Mobility - Boxplot\")\n",
    "ax1.set_xlabel('Mobility')\n",
    "ax1.set_ylabel('Times', rotation=0)\n",
    "ax1.set_xticks([])\n",
    "\n",
    "#mobility.plot.hist(ax = ax2, bins=100)\n",
    "#plt.show()\n",
    "mobility.plot.hist(ax = ax2, bins=100, range=[0,20])\n",
    "ax2.set_title(\"Mobility - Histogram\")\n",
    "ax2.set_xlabel('Mobility(Times)')\n",
    "ax2.set_ylabel('Number', rotation=0)\n",
    "plt.show()"
   ]
  },
  {
   "cell_type": "markdown",
   "metadata": {},
   "source": [
    "# Stairs"
   ]
  },
  {
   "cell_type": "code",
   "execution_count": 10,
   "metadata": {},
   "outputs": [
    {
     "name": "stdout",
     "output_type": "stream",
     "text": [
      "count    20022.000000\n",
      "mean         4.213415\n",
      "std          4.494435\n",
      "min          0.000000\n",
      "25%          0.000000\n",
      "50%          5.000000\n",
      "75%         10.000000\n",
      "max         15.000000\n",
      "Name: Stairs, dtype: float64\n"
     ]
    },
    {
     "data": {
      "image/png": "[encoded data removed]",
      "text/plain": [
       "<Figure size 1080x360 with 2 Axes>"
      ]
     },
     "metadata": {
      "needs_background": "light"
     },
     "output_type": "display_data"
    }
   ],
   "source": [
    "stairs = cdb.loc[:, \"Stairs\"]\n",
    "#print(stairs)\n",
    "#print(stairs.value_counts() / len(stairs))\n",
    "print(stairs.describe())\n",
    "\n",
    "fig, (ax1,ax2) = plt.subplots(nrows = 1, ncols = 2, figsize = (15,5))\n",
    "\n",
    "stairs.plot.box(ax = ax1)\n",
    "ax1.set_title(\"Stairs - Boxplot\")\n",
    "ax1.set_xlabel('Stairs')\n",
    "ax1.set_ylabel('Times', rotation=0)\n",
    "ax1.set_xticks([])\n",
    "\n",
    "#stairs.plot.hist(ax = ax2, bins=100)\n",
    "#plt.show()\n",
    "stairs.plot.hist(ax = ax2, bins=100, range=[0,20])\n",
    "ax2.set_title(\"Stairs - Histogram\")\n",
    "ax2.set_xlabel('Stairs(Times)')\n",
    "ax2.set_ylabel('Number', rotation=0)\n",
    "plt.show()"
   ]
  },
  {
   "cell_type": "markdown",
   "metadata": {},
   "source": [
    "# Dressing"
   ]
  },
  {
   "cell_type": "code",
   "execution_count": 11,
   "metadata": {},
   "outputs": [
    {
     "name": "stdout",
     "output_type": "stream",
     "text": [
      "count    20022.000000\n",
      "mean         6.117021\n",
      "std          4.157402\n",
      "min          0.000000\n",
      "25%          0.000000\n",
      "50%          5.000000\n",
      "75%         10.000000\n",
      "max         15.000000\n",
      "Name: Dressing, dtype: float64\n"
     ]
    },
    {
     "data": {
      "image/png": "[encoded data removed]",
      "text/plain": [
       "<Figure size 1080x360 with 2 Axes>"
      ]
     },
     "metadata": {
      "needs_background": "light"
     },
     "output_type": "display_data"
    }
   ],
   "source": [
    "dressing = cdb.loc[:, \"Dressing\"]\n",
    "#print(dressing)\n",
    "#print(dressing.value_counts() / len(dressing))\n",
    "print(dressing.describe())\n",
    "\n",
    "fig, (ax1,ax2) = plt.subplots(nrows = 1, ncols = 2, figsize = (15,5))\n",
    "\n",
    "dressing.plot.box(ax = ax1)\n",
    "ax1.set_title(\"Dressing - Boxplot\")\n",
    "ax1.set_xlabel('Dressing')\n",
    "ax1.set_ylabel('Times', rotation=0)\n",
    "ax1.set_xticks([])\n",
    "\n",
    "#dressing.plot.hist(ax = ax2, bins=100)\n",
    "#plt.show()\n",
    "dressing.plot.hist(ax = ax2, bins=100, range=[0,20])\n",
    "ax2.set_title(\"Dressing - Histogram\")\n",
    "ax2.set_xlabel('Dressing(Times)')\n",
    "ax2.set_ylabel('Number', rotation=0)\n",
    "plt.show()"
   ]
  },
  {
   "cell_type": "markdown",
   "metadata": {},
   "source": [
    "# Bowel Control"
   ]
  },
  {
   "cell_type": "code",
   "execution_count": 12,
   "metadata": {},
   "outputs": [
    {
     "name": "stdout",
     "output_type": "stream",
     "text": [
      "count    20022.000000\n",
      "mean         7.219059\n",
      "std          4.129159\n",
      "min          0.000000\n",
      "25%          5.000000\n",
      "50%         10.000000\n",
      "75%         10.000000\n",
      "max         10.000000\n",
      "Name: Bowel_control, dtype: float64\n"
     ]
    },
    {
     "data": {
      "image/png": "[encoded data removed]",
      "text/plain": [
       "<Figure size 1080x360 with 2 Axes>"
      ]
     },
     "metadata": {
      "needs_background": "light"
     },
     "output_type": "display_data"
    }
   ],
   "source": [
    "bowel_c = cdb.loc[:, \"Bowel_control\"]\n",
    "#print(bowel_c)\n",
    "#print(bowel_c.value_counts() / len(bowel_c))\n",
    "print(bowel_c.describe())\n",
    "\n",
    "fig, (ax1,ax2) = plt.subplots(nrows = 1, ncols = 2, figsize = (15,5))\n",
    "\n",
    "bowel_c.plot.box(ax = ax1)\n",
    "ax1.set_title(\"Bowel Control - Boxplot\")\n",
    "ax1.set_xlabel('Bowel Control')\n",
    "ax1.set_ylabel('Times', rotation=0)\n",
    "ax1.set_xticks([])\n",
    "\n",
    "#bowel_c.plot.hist(ax = ax2, bins=100)\n",
    "#plt.show()\n",
    "bowel_c.plot.hist(ax = ax2, bins=100, range=[0,20])\n",
    "ax2.set_title(\"Bowel Control - Histogram\")\n",
    "ax2.set_xlabel('Bowel Control(Times)')\n",
    "ax2.set_ylabel('Number', rotation=0)\n",
    "plt.show()"
   ]
  },
  {
   "cell_type": "markdown",
   "metadata": {},
   "source": [
    "# Bladder Control"
   ]
  },
  {
   "cell_type": "code",
   "execution_count": 13,
   "metadata": {},
   "outputs": [
    {
     "name": "stdout",
     "output_type": "stream",
     "text": [
      "count    20022.000000\n",
      "mean         6.938817\n",
      "std          4.281373\n",
      "min          0.000000\n",
      "25%          5.000000\n",
      "50%         10.000000\n",
      "75%         10.000000\n",
      "max         10.000000\n",
      "Name: Bladder_control, dtype: float64\n"
     ]
    },
    {
     "data": {
      "image/png": "[encoded data removed]",
      "text/plain": [
       "<Figure size 1080x360 with 2 Axes>"
      ]
     },
     "metadata": {
      "needs_background": "light"
     },
     "output_type": "display_data"
    }
   ],
   "source": [
    "bladder_c = cdb.loc[:, \"Bladder_control\"]\n",
    "#print(bladder_c)\n",
    "#print(bladder_c.value_counts() / len(bladder_c))\n",
    "print(bladder_c.describe())\n",
    "\n",
    "fig, (ax1,ax2) = plt.subplots(nrows = 1, ncols = 2, figsize = (15,5))\n",
    "\n",
    "bladder_c.plot.box(ax = ax1)\n",
    "ax1.set_title(\"Bladder Control - Boxplot\")\n",
    "ax1.set_xlabel('Bladder Control')\n",
    "ax1.set_ylabel('Times', rotation=0)\n",
    "ax1.set_xticks([])\n",
    "\n",
    "#bladder_c.plot.hist(ax = ax2, bins=100)\n",
    "#plt.show()\n",
    "bladder_c.plot.hist(ax = ax2, bins=100, range=[0,10])\n",
    "ax2.set_title(\"Bladder Control - Histogram\")\n",
    "ax2.set_xlabel('Bladder Control(Times)')\n",
    "ax2.set_ylabel('Number', rotation=0)\n",
    "plt.show()"
   ]
  },
  {
   "cell_type": "markdown",
   "metadata": {},
   "source": [
    "# Total"
   ]
  },
  {
   "cell_type": "code",
   "execution_count": 14,
   "metadata": {},
   "outputs": [
    {
     "name": "stdout",
     "output_type": "stream",
     "text": [
      "count    20022.000000\n",
      "mean        59.706723\n",
      "std         39.699233\n",
      "min          0.000000\n",
      "25%         20.000000\n",
      "50%         70.000000\n",
      "75%        100.000000\n",
      "max        126.000000\n",
      "dtype: float64\n"
     ]
    },
    {
     "data": {
      "image/png": "[encoded data removed]",
      "text/plain": [
       "<Figure size 1080x360 with 2 Axes>"
      ]
     },
     "metadata": {
      "needs_background": "light"
     },
     "output_type": "display_data"
    }
   ],
   "source": [
    "total = feeding + transfers + bathing + toilet + grooming + mobility + dressing + stairs + bowel_c + bladder_c\n",
    "#print(total)\n",
    "#print(total.value_counts() / len(total))\n",
    "print(total.describe())\n",
    "\n",
    "fig, (ax1,ax2) = plt.subplots(nrows = 1, ncols = 2, figsize = (15,5))\n",
    "\n",
    "total.plot.box(ax = ax1)\n",
    "ax1.set_title(\"Total Barthel Index - Boxplot\")\n",
    "ax1.set_xlabel('Total Barthel Index')\n",
    "ax1.set_ylabel('Score', rotation=0)\n",
    "ax1.set_xticks([])\n",
    "\n",
    "#total.plot.hist(ax = ax2, bins=100)\n",
    "#plt.show()\n",
    "total.plot.hist(ax = ax2, bins=100, range=[0,100])\n",
    "ax2.set_title(\"Total Barthel Index - Histogram\")\n",
    "ax2.set_xlabel('Total Barthel Index(Score)')\n",
    "ax2.set_ylabel('Number', rotation=0)\n",
    "plt.show()"
   ]
  },
  {
   "cell_type": "markdown",
   "metadata": {},
   "source": [
    "# Discharged mRS"
   ]
  },
  {
   "cell_type": "code",
   "execution_count": 15,
   "metadata": {},
   "outputs": [
    {
     "name": "stdout",
     "output_type": "stream",
     "text": [
      "count    20022.000000\n",
      "mean         2.586505\n",
      "std          1.746734\n",
      "min          0.000000\n",
      "25%          1.000000\n",
      "50%          3.000000\n",
      "75%          4.000000\n",
      "max          6.000000\n",
      "Name: discharged_mrs, dtype: float64\n"
     ]
    },
    {
     "data": {
      "image/png": "[encoded data removed]",
      "text/plain": [
       "<Figure size 1080x360 with 2 Axes>"
      ]
     },
     "metadata": {
      "needs_background": "light"
     },
     "output_type": "display_data"
    }
   ],
   "source": [
    "DmRS = cdb.loc[:, \"discharged_mrs\"]\n",
    "#print(DmRS)\n",
    "#print(DmRS.value_counts() / len(DmRS))\n",
    "print(DmRS.describe())\n",
    "\n",
    "fig, (ax1,ax2) = plt.subplots(nrows = 1, ncols = 2, figsize = (15,5))\n",
    "\n",
    "DmRS.plot.box(ax = ax1)\n",
    "ax1.set_title(\"Discharged mRS - Boxplot\")\n",
    "ax1.set_xlabel('Discharged mRS')\n",
    "ax1.set_ylabel('Score', rotation=0)\n",
    "ax1.set_xticks([])\n",
    "\n",
    "#DmRS.plot.hist(ax = ax2, bins=100)\n",
    "#plt.show()\n",
    "DmRS.plot.hist(ax = ax2, bins=100, range=[0,6])\n",
    "ax2.set_title(\"Discharged mRS - Histogram\")\n",
    "ax2.set_xlabel('Discharged mRS(Score)')\n",
    "ax2.set_ylabel('Number', rotation=0)\n",
    "plt.show()"
   ]
  }
 ],
 "metadata": {
  "kernelspec": {
   "display_name": "Python 3",
   "language": "python",
   "name": "python3"
  },
  "language_info": {
   "codemirror_mode": {
    "name": "ipython",
    "version": 3
   },
   "file_extension": ".py",
   "mimetype": "text/x-python",
   "name": "python",
   "nbconvert_exporter": "python",
   "pygments_lexer": "ipython3",
   "version": "3.8.8"
  }
 },
 "nbformat": 4,
 "nbformat_minor": 4
}
