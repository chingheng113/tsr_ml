{
 "cells": [
  {
   "cell_type": "code",
   "execution_count": 1,
   "id": "47c47110",
   "metadata": {},
   "outputs": [],
   "source": [
    "import pandas as pd"
   ]
  },
  {
   "cell_type": "code",
   "execution_count": 2,
   "id": "f3f50b59",
   "metadata": {},
   "outputs": [],
   "source": [
    "CASEDBMRS_1 = pd.read_csv(\"CASEDBMRS_1.csv\", low_memory=False)\n",
    "CASEDBMRS_2 = pd.read_csv(\"CASEDBMRS_2.csv\", low_memory=False)"
   ]
  },
  {
   "cell_type": "code",
   "execution_count": 3,
   "id": "f304ad81",
   "metadata": {},
   "outputs": [],
   "source": [
    "CASEDBMRS = pd.concat([CASEDBMRS_1,CASEDBMRS_2],axis=0)\n",
    "CASEDBMRS.to_csv(\"CASEDBMRS.csv\",index=False)"
   ]
  },
  {
   "cell_type": "code",
   "execution_count": 4,
   "id": "7bb546ee",
   "metadata": {},
   "outputs": [
    {
     "name": "stdout",
     "output_type": "stream",
     "text": [
      "(1000000, 7) (680575, 7)\n",
      "Total: (1680575, 7)\n"
     ]
    }
   ],
   "source": [
    "print(CASEDBMRS_1.shape, CASEDBMRS_2.shape)\n",
    "print(\"Total:\", CASEDBMRS.shape)"
   ]
  },
  {
   "cell_type": "code",
   "execution_count": 5,
   "id": "e41089bd",
   "metadata": {},
   "outputs": [],
   "source": [
    "CASEDCTMR_1 = pd.read_csv(\"CASEDCTMR_1.csv\", low_memory=False)\n",
    "CASEDCTMR_2 = pd.read_csv(\"CASEDCTMR_2.csv\", low_memory=False)"
   ]
  },
  {
   "cell_type": "code",
   "execution_count": 6,
   "id": "f45808be",
   "metadata": {},
   "outputs": [],
   "source": [
    "CASEDCTMR = pd.concat([CASEDCTMR_1,CASEDCTMR_2],axis=0)\n",
    "CASEDCTMR.to_csv(\"CASEDCTMR.csv\",index=False)"
   ]
  },
  {
   "cell_type": "code",
   "execution_count": 7,
   "id": "1f89ae23",
   "metadata": {},
   "outputs": [
    {
     "name": "stdout",
     "output_type": "stream",
     "text": [
      "(1000000, 10) (680074, 10)\n",
      "Total: (1680074, 10)\n"
     ]
    }
   ],
   "source": [
    "print(CASEDCTMR_1.shape, CASEDCTMR_2.shape)\n",
    "print(\"Total:\", CASEDCTMR.shape)"
   ]
  },
  {
   "cell_type": "code",
   "execution_count": 8,
   "id": "1373bd69",
   "metadata": {},
   "outputs": [],
   "source": [
    "CASEDNIHS_1 = pd.read_csv(\"CASEDNIHS_1.csv\", low_memory=False)\n",
    "CASEDNIHS_2 = pd.read_csv(\"CASEDNIHS_2.csv\", low_memory=False)\n",
    "CASEDNIHS_3 = pd.read_csv(\"CASEDNIHS_3.csv\", low_memory=False)"
   ]
  },
  {
   "cell_type": "code",
   "execution_count": 9,
   "id": "9437bab2",
   "metadata": {},
   "outputs": [],
   "source": [
    "CASEDNIHS = pd.concat([CASEDNIHS_1,CASEDNIHS_2, CASEDNIHS_3],axis=0)\n",
    "CASEDNIHS.to_csv(\"CASEDNIHS.csv\",index=False)"
   ]
  },
  {
   "cell_type": "code",
   "execution_count": 10,
   "id": "e6405437",
   "metadata": {},
   "outputs": [
    {
     "name": "stdout",
     "output_type": "stream",
     "text": [
      "(1000000, 8) (1000000, 8) (282761, 8)\n",
      "Total: (2282761, 8)\n"
     ]
    }
   ],
   "source": [
    "print(CASEDNIHS_1.shape, CASEDNIHS_2.shape, CASEDNIHS_3.shape)\n",
    "print(\"Total:\", CASEDNIHS.shape)"
   ]
  },
  {
   "cell_type": "code",
   "execution_count": null,
   "id": "91547961",
   "metadata": {},
   "outputs": [],
   "source": []
  }
 ],
 "metadata": {
  "kernelspec": {
   "display_name": "Python 3",
   "language": "python",
   "name": "python3"
  },
  "language_info": {
   "codemirror_mode": {
    "name": "ipython",
    "version": 3
   },
   "file_extension": ".py",
   "mimetype": "text/x-python",
   "name": "python",
   "nbconvert_exporter": "python",
   "pygments_lexer": "ipython3",
   "version": "3.8.8"
  }
 },
 "nbformat": 4,
 "nbformat_minor": 5
}
